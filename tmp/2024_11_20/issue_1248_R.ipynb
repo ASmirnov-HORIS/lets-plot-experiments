{
 "cells": [
  {
   "cell_type": "code",
   "execution_count": 1,
   "id": "9afebfd5-ef0f-4f14-a117-319db67242fb",
   "metadata": {},
   "outputs": [],
   "source": [
    "library(ggplot2)"
   ]
  },
  {
   "cell_type": "code",
   "execution_count": 2,
   "id": "3a473db8-217d-4fc2-a599-30f69e511e38",
   "metadata": {},
   "outputs": [],
   "source": [
    "df <- data.frame(\n",
    "    x = c('a', 'b', 'a', 'b'),\n",
    "    g = c('0', '0', '1', '1')\n",
    ")"
   ]
  },
  {
   "cell_type": "code",
   "execution_count": 3,
   "id": "9d570e69-2c08-475b-a195-71d4bc1cb7fa",
   "metadata": {},
   "outputs": [
    {
     "data": {
      "image/png": "[encoded data removed]",
      "text/plain": [
       "plot without title"
      ]
     },
     "metadata": {
      "image/png": {
       "height": 420,
       "width": 420
      }
     },
     "output_type": "display_data"
    }
   ],
   "source": [
    "ggplot(df, aes(x = x, fill = g)) +\n",
    "    geom_bar(position = position_dodge(width = 1)) +\n",
    "    geom_text(aes(label = after_stat(count), group = g), stat = \"count\",\n",
    "              position = position_dodge(width = 1))"
   ]
  },
  {
   "cell_type": "code",
   "execution_count": 4,
   "id": "0445e91f-313a-465e-bd13-ef5a63eb0380",
   "metadata": {},
   "outputs": [
    {
     "ename": "ERROR",
     "evalue": "\u001b[1m\u001b[33mError\u001b[39m in `geom_text()`:\u001b[22m\n\u001b[1m\u001b[22m\u001b[33m!\u001b[39m Both `position` and `nudge_x`/`nudge_y` are supplied.\n\u001b[36mℹ\u001b[39m Only use one approach to alter the position.\n",
     "output_type": "error",
     "traceback": [
      "\u001b[1m\u001b[33mError\u001b[39m in `geom_text()`:\u001b[22m\n\u001b[1m\u001b[22m\u001b[33m!\u001b[39m Both `position` and `nudge_x`/`nudge_y` are supplied.\n\u001b[36mℹ\u001b[39m Only use one approach to alter the position.\nTraceback:\n",
      "1. geom_text(aes(label = after_stat(count), group = g), stat = \"count\", \n .     position = position_dodge(width = 1), nudge_y = 0.5)",
      "2. cli::cli_abort(c(\"Both {.arg position} and {.arg nudge_x}/{.arg nudge_y} are supplied.\", \n .     i = \"Only use one approach to alter the position.\"))",
      "3. rlang::abort(message, ..., call = call, use_cli_format = TRUE, \n .     .frame = .frame)",
      "4. signal_abort(cnd, .file)"
     ]
    }
   ],
   "source": [
    "ggplot(df, aes(x = x, fill = g)) +\n",
    "    geom_bar(position = position_dodge(width = 1)) +\n",
    "    geom_text(aes(label = after_stat(count), group = g), stat = \"count\",\n",
    "              position = position_dodge(width = 1),\n",
    "              nudge_y = 0.5)"
   ]
  }
 ],
 "metadata": {
  "kernelspec": {
   "display_name": "R",
   "language": "R",
   "name": "ir"
  },
  "language_info": {
   "codemirror_mode": "r",
   "file_extension": ".r",
   "mimetype": "text/x-r-source",
   "name": "R",
   "pygments_lexer": "r",
   "version": "4.3.3"
  }
 },
 "nbformat": 4,
 "nbformat_minor": 5
}
