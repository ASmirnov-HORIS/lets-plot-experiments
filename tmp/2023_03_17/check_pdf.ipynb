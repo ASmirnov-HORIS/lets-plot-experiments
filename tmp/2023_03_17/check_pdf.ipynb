{
 "cells": [
  {
   "cell_type": "code",
   "execution_count": 1,
   "id": "8b3d8445",
   "metadata": {},
   "outputs": [
    {
     "data": {
      "text/html": [
       "\n",
       "            <div id=\"WzX5ES\"></div>\n",
       "            <script type=\"text/javascript\" data-lets-plot-script=\"library\">\n",
       "                if(!window.letsPlotCallQueue) {\n",
       "                    window.letsPlotCallQueue = [];\n",
       "                }; \n",
       "                window.letsPlotCall = function(f) {\n",
       "                    window.letsPlotCallQueue.push(f);\n",
       "                };\n",
       "                (function() {\n",
       "                    var script = document.createElement(\"script\");\n",
       "                    script.type = \"text/javascript\";\n",
       "                    script.src = \"https://cdn.jsdelivr.net/gh/JetBrains/lets-plot@v3.1.0/js-package/distr/lets-plot.min.js\";\n",
       "                    script.onload = function() {\n",
       "                        window.letsPlotCall = function(f) {f();};\n",
       "                        window.letsPlotCallQueue.forEach(function(f) {f();});\n",
       "                        window.letsPlotCallQueue = [];\n",
       "                        \n",
       "                    };\n",
       "                    script.onerror = function(event) {\n",
       "                        window.letsPlotCall = function(f) {};    // noop\n",
       "                        window.letsPlotCallQueue = [];\n",
       "                        var div = document.createElement(\"div\");\n",
       "                        div.style.color = 'darkred';\n",
       "                        div.textContent = 'Error loading Lets-Plot JS';\n",
       "                        document.getElementById(\"WzX5ES\").appendChild(div);\n",
       "                    };\n",
       "                    var e = document.getElementById(\"WzX5ES\");\n",
       "                    e.appendChild(script);\n",
       "                })()\n",
       "            </script>\n",
       "            "
      ]
     },
     "metadata": {},
     "output_type": "display_data"
    }
   ],
   "source": [
    "import os\n",
    "import sys\n",
    "\n",
    "from lets_plot import *\n",
    "LetsPlot.setup_html()"
   ]
  },
  {
   "cell_type": "code",
   "execution_count": 2,
   "id": "51bf78f0",
   "metadata": {},
   "outputs": [
    {
     "data": {
      "text/html": [
       "   <div id=\"YHTltX\"></div>\n",
       "   <script type=\"text/javascript\" data-lets-plot-script=\"plot\">\n",
       "       (function() {\n",
       "           var plotSpec={\n",
       "\"mapping\":{\n",
       "},\n",
       "\"data_meta\":{\n",
       "},\n",
       "\"ggtitle\":{\n",
       "\"text\":\"Def\"\n",
       "},\n",
       "\"kind\":\"plot\",\n",
       "\"scales\":[],\n",
       "\"layers\":[{\n",
       "\"geom\":\"label\",\n",
       "\"mapping\":{\n",
       "},\n",
       "\"data_meta\":{\n",
       "},\n",
       "\"label\":\"Abc+01\",\n",
       "\"x\":0,\n",
       "\"y\":0,\n",
       "\"data\":{\n",
       "}\n",
       "}],\n",
       "\"metainfo_list\":[]\n",
       "};\n",
       "           var plotContainer = document.getElementById(\"YHTltX\");\n",
       "           window.letsPlotCall(function() {{\n",
       "               LetsPlot.buildPlotFromProcessedSpecs(plotSpec, -1, -1, plotContainer);\n",
       "           }});\n",
       "       })();    \n",
       "   </script>"
      ],
      "text/plain": [
       "<lets_plot.plot.core.PlotSpec at 0x201a51e4880>"
      ]
     },
     "execution_count": 2,
     "metadata": {},
     "output_type": "execute_result"
    }
   ],
   "source": [
    "p = ggplot() + geom_label(label=\"Abc+01\", x=0, y=0) + ggtitle(\"Def\")\n",
    "p"
   ]
  },
  {
   "cell_type": "code",
   "execution_count": 3,
   "id": "38649bac",
   "metadata": {},
   "outputs": [
    {
     "data": {
      "text/plain": [
       "'D:\\\\Projects\\\\DataPad\\\\Subprojects\\\\LetsPlotExperiments\\\\lets-plot-experiments\\\\tmp\\\\2023_03_17\\\\lets-plot-images\\\\plot.svg'"
      ]
     },
     "execution_count": 3,
     "metadata": {},
     "output_type": "execute_result"
    }
   ],
   "source": [
    "pathname = ggsave(p, \"plot.svg\")\n",
    "pathname"
   ]
  },
  {
   "cell_type": "code",
   "execution_count": 4,
   "id": "3e010112",
   "metadata": {},
   "outputs": [
    {
     "name": "stdout",
     "output_type": "stream",
     "text": [
      "Requirement already satisfied: CairoSVG in d:\\anaconda3\\envs\\lets-plot-experiments\\lib\\site-packages (2.6.0)\n",
      "Requirement already satisfied: cssselect2 in d:\\anaconda3\\envs\\lets-plot-experiments\\lib\\site-packages (from CairoSVG) (0.7.0)\n",
      "Requirement already satisfied: tinycss2 in d:\\anaconda3\\envs\\lets-plot-experiments\\lib\\site-packages (from CairoSVG) (1.2.1)\n",
      "Requirement already satisfied: defusedxml in d:\\anaconda3\\envs\\lets-plot-experiments\\lib\\site-packages (from CairoSVG) (0.7.1)\n",
      "Requirement already satisfied: cairocffi in d:\\anaconda3\\envs\\lets-plot-experiments\\lib\\site-packages (from CairoSVG) (1.4.0)\n",
      "Requirement already satisfied: pillow in d:\\anaconda3\\envs\\lets-plot-experiments\\lib\\site-packages (from CairoSVG) (9.4.0)\n",
      "Requirement already satisfied: cffi>=1.1.0 in d:\\anaconda3\\envs\\lets-plot-experiments\\lib\\site-packages (from cairocffi->CairoSVG) (1.15.1)\n",
      "Requirement already satisfied: webencodings in d:\\anaconda3\\envs\\lets-plot-experiments\\lib\\site-packages (from cssselect2->CairoSVG) (0.5.1)\n",
      "Requirement already satisfied: pycparser in d:\\anaconda3\\envs\\lets-plot-experiments\\lib\\site-packages (from cffi>=1.1.0->cairocffi->CairoSVG) (2.21)\n"
     ]
    }
   ],
   "source": [
    "!{sys.executable} -m pip install CairoSVG"
   ]
  },
  {
   "cell_type": "code",
   "execution_count": 5,
   "id": "feab9fc2",
   "metadata": {},
   "outputs": [],
   "source": [
    "import cairosvg\n",
    "\n",
    "cairosvg.svg2pdf(url=pathname, write_to='output.pdf')"
   ]
  },
  {
   "cell_type": "code",
   "execution_count": 6,
   "id": "cbc60767",
   "metadata": {},
   "outputs": [
    {
     "name": "stdout",
     "output_type": "stream",
     "text": [
      "Requirement already satisfied: svglib in d:\\anaconda3\\envs\\lets-plot-experiments\\lib\\site-packages (1.5.1)\n",
      "Requirement already satisfied: reportlab in d:\\anaconda3\\envs\\lets-plot-experiments\\lib\\site-packages (3.6.12)\n",
      "Requirement already satisfied: cssselect2>=0.2.0 in d:\\anaconda3\\envs\\lets-plot-experiments\\lib\\site-packages (from svglib) (0.7.0)\n",
      "Requirement already satisfied: tinycss2>=0.6.0 in d:\\anaconda3\\envs\\lets-plot-experiments\\lib\\site-packages (from svglib) (1.2.1)\n",
      "Requirement already satisfied: lxml in d:\\anaconda3\\envs\\lets-plot-experiments\\lib\\site-packages (from svglib) (4.9.2)\n",
      "Requirement already satisfied: pillow>=9.0.0 in d:\\anaconda3\\envs\\lets-plot-experiments\\lib\\site-packages (from reportlab) (9.4.0)\n",
      "Requirement already satisfied: webencodings in d:\\anaconda3\\envs\\lets-plot-experiments\\lib\\site-packages (from cssselect2>=0.2.0->svglib) (0.5.1)\n"
     ]
    }
   ],
   "source": [
    "!{sys.executable} -m pip install svglib reportlab"
   ]
  },
  {
   "cell_type": "code",
   "execution_count": 7,
   "id": "5d7bae23",
   "metadata": {},
   "outputs": [],
   "source": [
    "from svglib.svglib import svg2rlg\n",
    "from reportlab.graphics import renderPDF, renderPM\n",
    "\n",
    "path = os.path.dirname(pathname)\n",
    "os.chdir(path)\n",
    "\n",
    "drawing = svg2rlg(os.path.basename(pathname))\n",
    "renderPM.drawToFile(drawing, \"output.png\")\n",
    "renderPDF.drawToFile(drawing, \"output.pdf\")"
   ]
  }
 ],
 "metadata": {
  "kernelspec": {
   "display_name": "Python 3 (ipykernel)",
   "language": "python",
   "name": "python3"
  },
  "language_info": {
   "codemirror_mode": {
    "name": "ipython",
    "version": 3
   },
   "file_extension": ".py",
   "mimetype": "text/x-python",
   "name": "python",
   "nbconvert_exporter": "python",
   "pygments_lexer": "ipython3",
   "version": "3.8.16"
  }
 },
 "nbformat": 4,
 "nbformat_minor": 5
}
