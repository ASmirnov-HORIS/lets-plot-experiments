{
 "cells": [
  {
   "cell_type": "code",
   "execution_count": 1,
   "id": "8b3d8445",
   "metadata": {},
   "outputs": [
    {
     "data": {
      "text/html": [
       "\n",
       "            <div id=\"gj7sCr\"></div>\n",
       "            <script type=\"text/javascript\" data-lets-plot-script=\"library\">\n",
       "                if(!window.letsPlotCallQueue) {\n",
       "                    window.letsPlotCallQueue = [];\n",
       "                }; \n",
       "                window.letsPlotCall = function(f) {\n",
       "                    window.letsPlotCallQueue.push(f);\n",
       "                };\n",
       "                (function() {\n",
       "                    var script = document.createElement(\"script\");\n",
       "                    script.type = \"text/javascript\";\n",
       "                    script.src = \"https://cdn.jsdelivr.net/gh/JetBrains/lets-plot@v3.1.0/js-package/distr/lets-plot.min.js\";\n",
       "                    script.onload = function() {\n",
       "                        window.letsPlotCall = function(f) {f();};\n",
       "                        window.letsPlotCallQueue.forEach(function(f) {f();});\n",
       "                        window.letsPlotCallQueue = [];\n",
       "                        \n",
       "                    };\n",
       "                    script.onerror = function(event) {\n",
       "                        window.letsPlotCall = function(f) {};    // noop\n",
       "                        window.letsPlotCallQueue = [];\n",
       "                        var div = document.createElement(\"div\");\n",
       "                        div.style.color = 'darkred';\n",
       "                        div.textContent = 'Error loading Lets-Plot JS';\n",
       "                        document.getElementById(\"gj7sCr\").appendChild(div);\n",
       "                    };\n",
       "                    var e = document.getElementById(\"gj7sCr\");\n",
       "                    e.appendChild(script);\n",
       "                })()\n",
       "            </script>\n",
       "            "
      ]
     },
     "metadata": {},
     "output_type": "display_data"
    }
   ],
   "source": [
    "import os\n",
    "import sys\n",
    "\n",
    "from lets_plot import *\n",
    "LetsPlot.setup_html()"
   ]
  },
  {
   "cell_type": "code",
   "execution_count": 2,
   "id": "698f44bd",
   "metadata": {},
   "outputs": [],
   "source": [
    "plots = []"
   ]
  },
  {
   "cell_type": "code",
   "execution_count": 3,
   "id": "51bf78f0",
   "metadata": {},
   "outputs": [
    {
     "data": {
      "text/html": [
       "   <div id=\"qjPhuZ\"></div>\n",
       "   <script type=\"text/javascript\" data-lets-plot-script=\"plot\">\n",
       "       (function() {\n",
       "           var plotSpec={\n",
       "\"mapping\":{\n",
       "},\n",
       "\"data_meta\":{\n",
       "},\n",
       "\"ggtitle\":{\n",
       "\"text\":\"Def\"\n",
       "},\n",
       "\"theme\":{\n",
       "\"plot_title\":{\n",
       "\"family\":\"Times\",\n",
       "\"face\":\"bold\",\n",
       "\"blank\":false\n",
       "}\n",
       "},\n",
       "\"kind\":\"plot\",\n",
       "\"scales\":[],\n",
       "\"layers\":[{\n",
       "\"geom\":\"label\",\n",
       "\"mapping\":{\n",
       "},\n",
       "\"data_meta\":{\n",
       "},\n",
       "\"label\":\"Abc+01\",\n",
       "\"x\":0,\n",
       "\"y\":0,\n",
       "\"family\":\"Times\",\n",
       "\"size\":10,\n",
       "\"data\":{\n",
       "}\n",
       "}],\n",
       "\"metainfo_list\":[]\n",
       "};\n",
       "           var plotContainer = document.getElementById(\"qjPhuZ\");\n",
       "           window.letsPlotCall(function() {{\n",
       "               LetsPlot.buildPlotFromProcessedSpecs(plotSpec, -1, -1, plotContainer);\n",
       "           }});\n",
       "       })();    \n",
       "   </script>"
      ],
      "text/plain": [
       "<lets_plot.plot.core.PlotSpec at 0x22ad90b50a0>"
      ]
     },
     "execution_count": 3,
     "metadata": {},
     "output_type": "execute_result"
    }
   ],
   "source": [
    "plots.append(ggplot() + \\\n",
    "    geom_label(label=\"Abc+01\", x=0, y=0, family=\"Times\", size=10) + \\\n",
    "    ggtitle(\"Def\") + \\\n",
    "    theme(plot_title=element_text(family=\"Times\", face='bold')))\n",
    "plots[0]"
   ]
  },
  {
   "cell_type": "code",
   "execution_count": 4,
   "id": "5fb0112b",
   "metadata": {},
   "outputs": [
    {
     "data": {
      "text/html": [
       "   <div id=\"qqVM3s\"></div>\n",
       "   <script type=\"text/javascript\" data-lets-plot-script=\"plot\">\n",
       "       (function() {\n",
       "           var plotSpec={\n",
       "\"mapping\":{\n",
       "},\n",
       "\"data_meta\":{\n",
       "},\n",
       "\"ggtitle\":{\n",
       "\"text\":\"Def\"\n",
       "},\n",
       "\"theme\":{\n",
       "\"plot_title\":{\n",
       "\"family\":\"Lucida Console\",\n",
       "\"face\":\"bold\",\n",
       "\"blank\":false\n",
       "}\n",
       "},\n",
       "\"kind\":\"plot\",\n",
       "\"scales\":[],\n",
       "\"layers\":[{\n",
       "\"geom\":\"label\",\n",
       "\"mapping\":{\n",
       "},\n",
       "\"data_meta\":{\n",
       "},\n",
       "\"label\":\"Abc+01\",\n",
       "\"x\":0,\n",
       "\"y\":0,\n",
       "\"family\":\"Lucida Console\",\n",
       "\"size\":10,\n",
       "\"data\":{\n",
       "}\n",
       "}],\n",
       "\"metainfo_list\":[]\n",
       "};\n",
       "           var plotContainer = document.getElementById(\"qqVM3s\");\n",
       "           window.letsPlotCall(function() {{\n",
       "               LetsPlot.buildPlotFromProcessedSpecs(plotSpec, -1, -1, plotContainer);\n",
       "           }});\n",
       "       })();    \n",
       "   </script>"
      ],
      "text/plain": [
       "<lets_plot.plot.core.PlotSpec at 0x22ada42ed30>"
      ]
     },
     "execution_count": 4,
     "metadata": {},
     "output_type": "execute_result"
    }
   ],
   "source": [
    "plots.append(ggplot() + \\\n",
    "    geom_label(label=\"Abc+01\", x=0, y=0, family=\"Lucida Console\", size=10) + \\\n",
    "    ggtitle(\"Def\") + \\\n",
    "    theme(plot_title=element_text(family=\"Lucida Console\", face='bold')))\n",
    "plots[1]"
   ]
  },
  {
   "cell_type": "code",
   "execution_count": 5,
   "id": "38649bac",
   "metadata": {},
   "outputs": [
    {
     "data": {
      "text/plain": [
       "['D:\\\\Projects\\\\DataPad\\\\Subprojects\\\\LetsPlotExperiments\\\\lets-plot-experiments\\\\tmp\\\\2023_03_17\\\\lets-plot-images\\\\plot0.svg',\n",
       " 'D:\\\\Projects\\\\DataPad\\\\Subprojects\\\\LetsPlotExperiments\\\\lets-plot-experiments\\\\tmp\\\\2023_03_17\\\\lets-plot-images\\\\plot1.svg']"
      ]
     },
     "execution_count": 5,
     "metadata": {},
     "output_type": "execute_result"
    }
   ],
   "source": [
    "pathnames = [ggsave(p, \"plot{0}.svg\".format(i)) for i, p in enumerate(plots)]\n",
    "pathnames"
   ]
  },
  {
   "cell_type": "code",
   "execution_count": 6,
   "id": "3e010112",
   "metadata": {},
   "outputs": [
    {
     "name": "stdout",
     "output_type": "stream",
     "text": [
      "Requirement already satisfied: CairoSVG in d:\\anaconda3\\envs\\lets-plot-experiments\\lib\\site-packages (2.6.0)\n",
      "Requirement already satisfied: cssselect2 in d:\\anaconda3\\envs\\lets-plot-experiments\\lib\\site-packages (from CairoSVG) (0.7.0)\n",
      "Requirement already satisfied: tinycss2 in d:\\anaconda3\\envs\\lets-plot-experiments\\lib\\site-packages (from CairoSVG) (1.2.1)\n",
      "Requirement already satisfied: pillow in d:\\anaconda3\\envs\\lets-plot-experiments\\lib\\site-packages (from CairoSVG) (9.4.0)\n",
      "Requirement already satisfied: cairocffi in d:\\anaconda3\\envs\\lets-plot-experiments\\lib\\site-packages (from CairoSVG) (1.4.0)\n",
      "Requirement already satisfied: defusedxml in d:\\anaconda3\\envs\\lets-plot-experiments\\lib\\site-packages (from CairoSVG) (0.7.1)\n",
      "Requirement already satisfied: cffi>=1.1.0 in d:\\anaconda3\\envs\\lets-plot-experiments\\lib\\site-packages (from cairocffi->CairoSVG) (1.15.1)\n",
      "Requirement already satisfied: webencodings in d:\\anaconda3\\envs\\lets-plot-experiments\\lib\\site-packages (from cssselect2->CairoSVG) (0.5.1)\n",
      "Requirement already satisfied: pycparser in d:\\anaconda3\\envs\\lets-plot-experiments\\lib\\site-packages (from cffi>=1.1.0->cairocffi->CairoSVG) (2.21)\n"
     ]
    }
   ],
   "source": [
    "!{sys.executable} -m pip install CairoSVG"
   ]
  },
  {
   "cell_type": "code",
   "execution_count": 7,
   "id": "feab9fc2",
   "metadata": {},
   "outputs": [],
   "source": [
    "import cairosvg\n",
    "\n",
    "for i in range(len(plots)):\n",
    "    cairosvg.svg2pdf(url=pathnames[i], write_to=\"output{0}.pdf\".format(i))"
   ]
  },
  {
   "cell_type": "code",
   "execution_count": 8,
   "id": "cbc60767",
   "metadata": {},
   "outputs": [
    {
     "name": "stdout",
     "output_type": "stream",
     "text": [
      "Requirement already satisfied: svglib in d:\\anaconda3\\envs\\lets-plot-experiments\\lib\\site-packages (1.5.1)\n",
      "Requirement already satisfied: reportlab in d:\\anaconda3\\envs\\lets-plot-experiments\\lib\\site-packages (3.6.12)\n",
      "Requirement already satisfied: tinycss2>=0.6.0 in d:\\anaconda3\\envs\\lets-plot-experiments\\lib\\site-packages (from svglib) (1.2.1)\n",
      "Requirement already satisfied: lxml in d:\\anaconda3\\envs\\lets-plot-experiments\\lib\\site-packages (from svglib) (4.9.2)\n",
      "Requirement already satisfied: cssselect2>=0.2.0 in d:\\anaconda3\\envs\\lets-plot-experiments\\lib\\site-packages (from svglib) (0.7.0)\n",
      "Requirement already satisfied: pillow>=9.0.0 in d:\\anaconda3\\envs\\lets-plot-experiments\\lib\\site-packages (from reportlab) (9.4.0)\n",
      "Requirement already satisfied: webencodings in d:\\anaconda3\\envs\\lets-plot-experiments\\lib\\site-packages (from cssselect2>=0.2.0->svglib) (0.5.1)\n"
     ]
    }
   ],
   "source": [
    "!{sys.executable} -m pip install svglib reportlab"
   ]
  },
  {
   "cell_type": "code",
   "execution_count": 9,
   "id": "5d7bae23",
   "metadata": {},
   "outputs": [
    {
     "name": "stderr",
     "output_type": "stream",
     "text": [
      "Unable to find a suitable font for 'font-family:Lucida Console', weight:normal, style:normal\n",
      "Unable to find a suitable font for 'font-family:Lucida Console', weight:normal, style:normal\n",
      "Unable to find a suitable font for 'font-family:Lucida Console', weight:bold, style:normal\n",
      "Unable to find a suitable font for 'font-family:Lucida Console', weight:bold, style:normal\n"
     ]
    }
   ],
   "source": [
    "from svglib.svglib import svg2rlg\n",
    "from reportlab.graphics import renderPDF, renderPM\n",
    "\n",
    "for i in range(len(plots)):\n",
    "    path = os.path.dirname(pathnames[i])\n",
    "    os.chdir(path)\n",
    "\n",
    "    drawing = svg2rlg(os.path.basename(pathnames[i]))\n",
    "    renderPM.drawToFile(drawing, \"output{0}.png\".format(i))\n",
    "    renderPDF.drawToFile(drawing, \"output{0}.pdf\".format(i))"
   ]
  }
 ],
 "metadata": {
  "kernelspec": {
   "display_name": "Python 3 (ipykernel)",
   "language": "python",
   "name": "python3"
  },
  "language_info": {
   "codemirror_mode": {
    "name": "ipython",
    "version": 3
   },
   "file_extension": ".py",
   "mimetype": "text/x-python",
   "name": "python",
   "nbconvert_exporter": "python",
   "pygments_lexer": "ipython3",
   "version": "3.8.16"
  }
 },
 "nbformat": 4,
 "nbformat_minor": 5
}
