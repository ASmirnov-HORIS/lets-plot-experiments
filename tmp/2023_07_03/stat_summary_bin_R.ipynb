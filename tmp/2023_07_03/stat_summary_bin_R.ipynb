{
 "cells": [
  {
   "cell_type": "code",
   "execution_count": 1,
   "id": "d02848c6",
   "metadata": {},
   "outputs": [],
   "source": [
    "library(ggplot2)"
   ]
  },
  {
   "cell_type": "code",
   "execution_count": 2,
   "id": "264a800b",
   "metadata": {},
   "outputs": [
    {
     "data": {
      "image/png": "[encoded data removed]",
      "text/plain": [
       "plot without title"
      ]
     },
     "metadata": {
      "image/png": {
       "height": 420,
       "width": 420
      }
     },
     "output_type": "display_data"
    }
   ],
   "source": [
    "# https://ggplot2.tidyverse.org/reference/stat_summary.html\n",
    "ggplot(diamonds, aes(carat, price)) +\n",
    "    stat_summary_bin(fun = \"mean\", geom = \"bar\", orientation = 'y')"
   ]
  },
  {
   "cell_type": "code",
   "execution_count": 3,
   "id": "cae3364c",
   "metadata": {},
   "outputs": [],
   "source": [
    "get_data <- function(n, seed) {\n",
    "    set.seed(seed)\n",
    "    data.frame(x = c(rnorm(n)), \n",
    "               y = c(rnorm(n)))\n",
    "}"
   ]
  },
  {
   "cell_type": "code",
   "execution_count": 4,
   "id": "9908defb",
   "metadata": {},
   "outputs": [
    {
     "data": {
      "text/html": [
       "<table class=\"dataframe\">\n",
       "<caption>A data.frame: 6 × 2</caption>\n",
       "<thead>\n",
       "\t<tr><th></th><th scope=col>x</th><th scope=col>y</th></tr>\n",
       "\t<tr><th></th><th scope=col>&lt;dbl&gt;</th><th scope=col>&lt;dbl&gt;</th></tr>\n",
       "</thead>\n",
       "<tbody>\n",
       "\t<tr><th scope=row>1</th><td> 1.2629543</td><td> 0.7635935</td></tr>\n",
       "\t<tr><th scope=row>2</th><td>-0.3262334</td><td>-0.7990092</td></tr>\n",
       "\t<tr><th scope=row>3</th><td> 1.3297993</td><td>-1.1476570</td></tr>\n",
       "\t<tr><th scope=row>4</th><td> 1.2724293</td><td>-0.2894616</td></tr>\n",
       "\t<tr><th scope=row>5</th><td> 0.4146414</td><td>-0.2992151</td></tr>\n",
       "\t<tr><th scope=row>6</th><td>-1.5399500</td><td>-0.4115108</td></tr>\n",
       "</tbody>\n",
       "</table>\n"
      ],
      "text/latex": [
       "A data.frame: 6 × 2\n",
       "\\begin{tabular}{r|ll}\n",
       "  & x & y\\\\\n",
       "  & <dbl> & <dbl>\\\\\n",
       "\\hline\n",
       "\t1 &  1.2629543 &  0.7635935\\\\\n",
       "\t2 & -0.3262334 & -0.7990092\\\\\n",
       "\t3 &  1.3297993 & -1.1476570\\\\\n",
       "\t4 &  1.2724293 & -0.2894616\\\\\n",
       "\t5 &  0.4146414 & -0.2992151\\\\\n",
       "\t6 & -1.5399500 & -0.4115108\\\\\n",
       "\\end{tabular}\n"
      ],
      "text/markdown": [
       "\n",
       "A data.frame: 6 × 2\n",
       "\n",
       "| <!--/--> | x &lt;dbl&gt; | y &lt;dbl&gt; |\n",
       "|---|---|---|\n",
       "| 1 |  1.2629543 |  0.7635935 |\n",
       "| 2 | -0.3262334 | -0.7990092 |\n",
       "| 3 |  1.3297993 | -1.1476570 |\n",
       "| 4 |  1.2724293 | -0.2894616 |\n",
       "| 5 |  0.4146414 | -0.2992151 |\n",
       "| 6 | -1.5399500 | -0.4115108 |\n",
       "\n"
      ],
      "text/plain": [
       "  x          y         \n",
       "1  1.2629543  0.7635935\n",
       "2 -0.3262334 -0.7990092\n",
       "3  1.3297993 -1.1476570\n",
       "4  1.2724293 -0.2894616\n",
       "5  0.4146414 -0.2992151\n",
       "6 -1.5399500 -0.4115108"
      ]
     },
     "metadata": {},
     "output_type": "display_data"
    }
   ],
   "source": [
    "df <- get_data(10, 0)\n",
    "head(df)"
   ]
  },
  {
   "cell_type": "code",
   "execution_count": 5,
   "id": "151c2308",
   "metadata": {},
   "outputs": [
    {
     "data": {
      "image/png": "[encoded data removed]",
      "text/plain": [
       "plot without title"
      ]
     },
     "metadata": {
      "image/png": {
       "height": 420,
       "width": 420
      }
     },
     "output_type": "display_data"
    }
   ],
   "source": [
    "ggplot(df, aes(x, y)) +\n",
    "    geom_point() +\n",
    "    stat_summary_bin(binwidth = 1, fun = \"median\", geom = \"point\", color = \"red\")"
   ]
  }
 ],
 "metadata": {
  "kernelspec": {
   "display_name": "R",
   "language": "R",
   "name": "ir"
  },
  "language_info": {
   "codemirror_mode": "r",
   "file_extension": ".r",
   "mimetype": "text/x-r-source",
   "name": "R",
   "pygments_lexer": "r",
   "version": "4.1.3"
  }
 },
 "nbformat": 4,
 "nbformat_minor": 5
}
