{
 "cells": [
  {
   "cell_type": "code",
   "execution_count": 1,
   "id": "71ba862e",
   "metadata": {},
   "outputs": [],
   "source": [
    "%load_ext chapyter"
   ]
  },
  {
   "cell_type": "code",
   "execution_count": 2,
   "id": "2ff935b0",
   "metadata": {},
   "outputs": [],
   "source": [
    "%chapyter openai_default_model=\"gpt-3.5-turbo\""
   ]
  },
  {
   "cell_type": "code",
   "execution_count": 3,
   "id": "6924e34e",
   "metadata": {},
   "outputs": [],
   "source": [
    "%%chat \n",
    "list all the files in the current directory"
   ]
  },
  {
   "cell_type": "code",
   "execution_count": 4,
   "id": "0da4ac3d",
   "metadata": {},
   "outputs": [
    {
     "name": "stdout",
     "output_type": "stream",
     "text": [
      "['.ipynb_checkpoints', 'ecdf.ipynb', 'stat_ecdf.ipynb', 'try_chapyter.ipynb', 'Untitled.ipynb']\n"
     ]
    }
   ],
   "source": [
    "# Assistant Code for Cell [3]:\n",
    "\n",
    "import os\n",
    "\n",
    "files = os.listdir('.')\n",
    "print(files)"
   ]
  }
 ],
 "metadata": {
  "kernelspec": {
   "display_name": "Python 3 (ipykernel)",
   "language": "python",
   "name": "python3"
  },
  "language_info": {
   "codemirror_mode": {
    "name": "ipython",
    "version": 3
   },
   "file_extension": ".py",
   "mimetype": "text/x-python",
   "name": "python",
   "nbconvert_exporter": "python",
   "pygments_lexer": "ipython3",
   "version": "3.8.17"
  }
 },
 "nbformat": 4,
 "nbformat_minor": 5
}
