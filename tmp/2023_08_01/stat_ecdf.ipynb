{
 "cells": [
  {
   "cell_type": "code",
   "execution_count": 1,
   "id": "0f01c038",
   "metadata": {},
   "outputs": [],
   "source": [
    "library(ggplot2)"
   ]
  },
  {
   "cell_type": "code",
   "execution_count": 2,
   "id": "b9ec5262",
   "metadata": {},
   "outputs": [],
   "source": [
    "df <- data.frame(x = c(1, 3))"
   ]
  },
  {
   "cell_type": "markdown",
   "id": "26c551c6",
   "metadata": {},
   "source": [
    "#### `pad = TRUE` (default)"
   ]
  },
  {
   "cell_type": "code",
   "execution_count": 3,
   "id": "ee438baf",
   "metadata": {},
   "outputs": [
    {
     "data": {
      "image/png": "[encoded data removed]",
      "text/plain": [
       "plot without title"
      ]
     },
     "metadata": {
      "image/png": {
       "height": 420,
       "width": 420
      }
     },
     "output_type": "display_data"
    }
   ],
   "source": [
    "p <- ggplot(df, aes(x)) + stat_ecdf()\n",
    "p"
   ]
  },
  {
   "cell_type": "code",
   "execution_count": 4,
   "id": "2166428a",
   "metadata": {},
   "outputs": [
    {
     "data": {
      "text/html": [
       "<ol>\n",
       "\t<li><table class=\"dataframe\">\n",
       "<caption>A data.frame: 4 × 10</caption>\n",
       "<thead>\n",
       "\t<tr><th scope=col>y</th><th scope=col>x</th><th scope=col>ecdf</th><th scope=col>flipped_aes</th><th scope=col>PANEL</th><th scope=col>group</th><th scope=col>colour</th><th scope=col>linewidth</th><th scope=col>linetype</th><th scope=col>alpha</th></tr>\n",
       "\t<tr><th scope=col>&lt;dbl&gt;</th><th scope=col>&lt;dbl&gt;</th><th scope=col>&lt;dbl&gt;</th><th scope=col>&lt;lgl&gt;</th><th scope=col>&lt;fct&gt;</th><th scope=col>&lt;int&gt;</th><th scope=col>&lt;chr&gt;</th><th scope=col>&lt;dbl&gt;</th><th scope=col>&lt;dbl&gt;</th><th scope=col>&lt;lgl&gt;</th></tr>\n",
       "</thead>\n",
       "<tbody>\n",
       "\t<tr><td>0.0</td><td>-Inf</td><td>0.0</td><td>FALSE</td><td>1</td><td>-1</td><td>black</td><td>0.5</td><td>1</td><td>NA</td></tr>\n",
       "\t<tr><td>0.5</td><td>   1</td><td>0.5</td><td>FALSE</td><td>1</td><td>-1</td><td>black</td><td>0.5</td><td>1</td><td>NA</td></tr>\n",
       "\t<tr><td>1.0</td><td>   3</td><td>1.0</td><td>FALSE</td><td>1</td><td>-1</td><td>black</td><td>0.5</td><td>1</td><td>NA</td></tr>\n",
       "\t<tr><td>1.0</td><td> Inf</td><td>1.0</td><td>FALSE</td><td>1</td><td>-1</td><td>black</td><td>0.5</td><td>1</td><td>NA</td></tr>\n",
       "</tbody>\n",
       "</table>\n",
       "</li>\n",
       "</ol>\n"
      ],
      "text/latex": [
       "\\begin{enumerate}\n",
       "\\item A data.frame: 4 × 10\n",
       "\\begin{tabular}{llllllllll}\n",
       " y & x & ecdf & flipped\\_aes & PANEL & group & colour & linewidth & linetype & alpha\\\\\n",
       " <dbl> & <dbl> & <dbl> & <lgl> & <fct> & <int> & <chr> & <dbl> & <dbl> & <lgl>\\\\\n",
       "\\hline\n",
       "\t 0.0 & -Inf & 0.0 & FALSE & 1 & -1 & black & 0.5 & 1 & NA\\\\\n",
       "\t 0.5 &    1 & 0.5 & FALSE & 1 & -1 & black & 0.5 & 1 & NA\\\\\n",
       "\t 1.0 &    3 & 1.0 & FALSE & 1 & -1 & black & 0.5 & 1 & NA\\\\\n",
       "\t 1.0 &  Inf & 1.0 & FALSE & 1 & -1 & black & 0.5 & 1 & NA\\\\\n",
       "\\end{tabular}\n",
       "\n",
       "\\end{enumerate}\n"
      ],
      "text/markdown": [
       "1. \n",
       "A data.frame: 4 × 10\n",
       "\n",
       "| y &lt;dbl&gt; | x &lt;dbl&gt; | ecdf &lt;dbl&gt; | flipped_aes &lt;lgl&gt; | PANEL &lt;fct&gt; | group &lt;int&gt; | colour &lt;chr&gt; | linewidth &lt;dbl&gt; | linetype &lt;dbl&gt; | alpha &lt;lgl&gt; |\n",
       "|---|---|---|---|---|---|---|---|---|---|\n",
       "| 0.0 | -Inf | 0.0 | FALSE | 1 | -1 | black | 0.5 | 1 | NA |\n",
       "| 0.5 |    1 | 0.5 | FALSE | 1 | -1 | black | 0.5 | 1 | NA |\n",
       "| 1.0 |    3 | 1.0 | FALSE | 1 | -1 | black | 0.5 | 1 | NA |\n",
       "| 1.0 |  Inf | 1.0 | FALSE | 1 | -1 | black | 0.5 | 1 | NA |\n",
       "\n",
       "\n",
       "\n",
       "\n"
      ],
      "text/plain": [
       "[[1]]\n",
       "    y    x ecdf flipped_aes PANEL group colour linewidth linetype alpha\n",
       "1 0.0 -Inf  0.0       FALSE     1    -1  black       0.5        1    NA\n",
       "2 0.5    1  0.5       FALSE     1    -1  black       0.5        1    NA\n",
       "3 1.0    3  1.0       FALSE     1    -1  black       0.5        1    NA\n",
       "4 1.0  Inf  1.0       FALSE     1    -1  black       0.5        1    NA\n"
      ]
     },
     "metadata": {},
     "output_type": "display_data"
    }
   ],
   "source": [
    "ggplot_build(p)$data"
   ]
  },
  {
   "cell_type": "markdown",
   "id": "444cf17a",
   "metadata": {},
   "source": [
    "#### `pad = FALSE`"
   ]
  },
  {
   "cell_type": "code",
   "execution_count": 5,
   "id": "01f1d1eb",
   "metadata": {},
   "outputs": [
    {
     "data": {
      "image/png": "[encoded data removed]",
      "text/plain": [
       "plot without title"
      ]
     },
     "metadata": {
      "image/png": {
       "height": 420,
       "width": 420
      }
     },
     "output_type": "display_data"
    }
   ],
   "source": [
    "p <- ggplot(df, aes(x)) + stat_ecdf(pad = FALSE)\n",
    "p"
   ]
  },
  {
   "cell_type": "code",
   "execution_count": 6,
   "id": "d2847f6d",
   "metadata": {},
   "outputs": [
    {
     "data": {
      "text/html": [
       "<ol>\n",
       "\t<li><table class=\"dataframe\">\n",
       "<caption>A data.frame: 2 × 10</caption>\n",
       "<thead>\n",
       "\t<tr><th scope=col>y</th><th scope=col>x</th><th scope=col>ecdf</th><th scope=col>flipped_aes</th><th scope=col>PANEL</th><th scope=col>group</th><th scope=col>colour</th><th scope=col>linewidth</th><th scope=col>linetype</th><th scope=col>alpha</th></tr>\n",
       "\t<tr><th scope=col>&lt;dbl&gt;</th><th scope=col>&lt;dbl&gt;</th><th scope=col>&lt;dbl&gt;</th><th scope=col>&lt;lgl&gt;</th><th scope=col>&lt;fct&gt;</th><th scope=col>&lt;int&gt;</th><th scope=col>&lt;chr&gt;</th><th scope=col>&lt;dbl&gt;</th><th scope=col>&lt;dbl&gt;</th><th scope=col>&lt;lgl&gt;</th></tr>\n",
       "</thead>\n",
       "<tbody>\n",
       "\t<tr><td>0.5</td><td>1</td><td>0.5</td><td>FALSE</td><td>1</td><td>-1</td><td>black</td><td>0.5</td><td>1</td><td>NA</td></tr>\n",
       "\t<tr><td>1.0</td><td>3</td><td>1.0</td><td>FALSE</td><td>1</td><td>-1</td><td>black</td><td>0.5</td><td>1</td><td>NA</td></tr>\n",
       "</tbody>\n",
       "</table>\n",
       "</li>\n",
       "</ol>\n"
      ],
      "text/latex": [
       "\\begin{enumerate}\n",
       "\\item A data.frame: 2 × 10\n",
       "\\begin{tabular}{llllllllll}\n",
       " y & x & ecdf & flipped\\_aes & PANEL & group & colour & linewidth & linetype & alpha\\\\\n",
       " <dbl> & <dbl> & <dbl> & <lgl> & <fct> & <int> & <chr> & <dbl> & <dbl> & <lgl>\\\\\n",
       "\\hline\n",
       "\t 0.5 & 1 & 0.5 & FALSE & 1 & -1 & black & 0.5 & 1 & NA\\\\\n",
       "\t 1.0 & 3 & 1.0 & FALSE & 1 & -1 & black & 0.5 & 1 & NA\\\\\n",
       "\\end{tabular}\n",
       "\n",
       "\\end{enumerate}\n"
      ],
      "text/markdown": [
       "1. \n",
       "A data.frame: 2 × 10\n",
       "\n",
       "| y &lt;dbl&gt; | x &lt;dbl&gt; | ecdf &lt;dbl&gt; | flipped_aes &lt;lgl&gt; | PANEL &lt;fct&gt; | group &lt;int&gt; | colour &lt;chr&gt; | linewidth &lt;dbl&gt; | linetype &lt;dbl&gt; | alpha &lt;lgl&gt; |\n",
       "|---|---|---|---|---|---|---|---|---|---|\n",
       "| 0.5 | 1 | 0.5 | FALSE | 1 | -1 | black | 0.5 | 1 | NA |\n",
       "| 1.0 | 3 | 1.0 | FALSE | 1 | -1 | black | 0.5 | 1 | NA |\n",
       "\n",
       "\n",
       "\n",
       "\n"
      ],
      "text/plain": [
       "[[1]]\n",
       "    y x ecdf flipped_aes PANEL group colour linewidth linetype alpha\n",
       "1 0.5 1  0.5       FALSE     1    -1  black       0.5        1    NA\n",
       "2 1.0 3  1.0       FALSE     1    -1  black       0.5        1    NA\n"
      ]
     },
     "metadata": {},
     "output_type": "display_data"
    }
   ],
   "source": [
    "ggplot_build(p)$data"
   ]
  }
 ],
 "metadata": {
  "kernelspec": {
   "display_name": "R",
   "language": "R",
   "name": "ir"
  },
  "language_info": {
   "codemirror_mode": "r",
   "file_extension": ".r",
   "mimetype": "text/x-r-source",
   "name": "R",
   "pygments_lexer": "r",
   "version": "4.1.3"
  }
 },
 "nbformat": 4,
 "nbformat_minor": 5
}
