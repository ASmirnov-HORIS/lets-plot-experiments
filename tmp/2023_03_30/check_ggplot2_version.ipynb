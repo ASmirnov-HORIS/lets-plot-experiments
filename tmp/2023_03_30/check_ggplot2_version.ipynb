{
 "cells": [
  {
   "cell_type": "code",
   "execution_count": 1,
   "id": "cf7045dd",
   "metadata": {},
   "outputs": [],
   "source": [
    "library(ggplot2)"
   ]
  },
  {
   "cell_type": "code",
   "execution_count": 2,
   "id": "fc73e3bc",
   "metadata": {},
   "outputs": [
    {
     "data": {
      "text/plain": [
       "R version 4.1.3 (2022-03-10)\n",
       "Platform: x86_64-w64-mingw32/x64 (64-bit)\n",
       "Running under: Windows 10 x64 (build 22621)\n",
       "\n",
       "Matrix products: default\n",
       "\n",
       "locale:\n",
       "[1] LC_COLLATE=Russian_Russia.1251  LC_CTYPE=C                     \n",
       "[3] LC_MONETARY=Russian_Russia.1251 LC_NUMERIC=C                   \n",
       "[5] LC_TIME=Russian_Russia.1251    \n",
       "\n",
       "attached base packages:\n",
       "[1] stats     graphics  grDevices utils     datasets  methods   base     \n",
       "\n",
       "other attached packages:\n",
       "[1] ggplot2_3.4.0\n",
       "\n",
       "loaded via a namespace (and not attached):\n",
       " [1] magrittr_2.0.3   tidyselect_1.2.0 munsell_0.5.0    uuid_1.1-0      \n",
       " [5] colorspace_2.1-0 R6_2.5.1         rlang_1.1.0      fastmap_1.1.1   \n",
       " [9] fansi_1.0.4      dplyr_1.1.0      tools_4.1.3      grid_4.1.3      \n",
       "[13] gtable_0.3.1     utf8_1.2.3       cli_3.6.0        withr_2.5.0     \n",
       "[17] htmltools_0.5.4  digest_0.6.31    tibble_3.2.0     lifecycle_1.0.3 \n",
       "[21] crayon_1.5.2     IRdisplay_1.1    repr_1.1.6       base64enc_0.1-3 \n",
       "[25] vctrs_0.6.0      IRkernel_1.3.2   glue_1.6.2       evaluate_0.20   \n",
       "[29] pbdZMQ_0.3-9     compiler_4.1.3   pillar_1.8.1     generics_0.1.3  \n",
       "[33] scales_1.2.1     jsonlite_1.8.4   pkgconfig_2.0.3 "
      ]
     },
     "metadata": {},
     "output_type": "display_data"
    }
   ],
   "source": [
    "sessionInfo()"
   ]
  },
  {
   "cell_type": "code",
   "execution_count": 3,
   "id": "a6249bc2",
   "metadata": {},
   "outputs": [
    {
     "data": {
      "image/png": "[encoded data removed]",
      "text/plain": [
       "plot without title"
      ]
     },
     "metadata": {
      "image/png": {
       "height": 420,
       "width": 420
      }
     },
     "output_type": "display_data"
    }
   ],
   "source": [
    "get_plot <- function(shape) {\n",
    "    ggplot() +\n",
    "        geom_point(aes(x = 0.0, y = 0.0),\n",
    "                   size = 50, shape = shape, stroke = 0, color = \"red\", fill = \"black\") +\n",
    "        geom_point(aes(x = 2.0, y = 0.0),\n",
    "                   size = 50, shape = shape, stroke = 1, color = \"red\", fill = \"black\") +\n",
    "        geom_point(aes(x = 4.0, y = 0.0),\n",
    "                   size = 50, shape = shape, stroke = 50, color = \"red\", fill = \"black\", alpha = 0.5) +\n",
    "        xlim(-1, 5)\n",
    "}\n",
    "\n",
    "get_plot(2)"
   ]
  }
 ],
 "metadata": {
  "kernelspec": {
   "display_name": "R",
   "language": "R",
   "name": "ir"
  },
  "language_info": {
   "codemirror_mode": "r",
   "file_extension": ".r",
   "mimetype": "text/x-r-source",
   "name": "R",
   "pygments_lexer": "r",
   "version": "4.1.3"
  }
 },
 "nbformat": 4,
 "nbformat_minor": 5
}
