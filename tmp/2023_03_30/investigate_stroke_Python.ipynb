{
 "cells": [
  {
   "cell_type": "markdown",
   "id": "43eaa7b0",
   "metadata": {},
   "source": [
    "# Investigate `stroke`"
   ]
  },
  {
   "cell_type": "code",
   "execution_count": null,
   "id": "572232bf",
   "metadata": {},
   "outputs": [],
   "source": [
    "import pandas as pd\n",
    "\n",
    "from lets_plot import *\n",
    "LetsPlot.setup_html()"
   ]
  },
  {
   "cell_type": "code",
   "execution_count": null,
   "id": "c6eaad7f",
   "metadata": {},
   "outputs": [],
   "source": [
    "def get_plot(shape):\n",
    "    return ggplot() + \\\n",
    "        geom_point(x=0, y=0, size=50, shape=shape, stroke=0, color=\"red\", fill=\"black\") + \\\n",
    "        geom_point(x=2, y=0, size=50, shape=shape, stroke=1, color=\"red\", fill=\"black\") + \\\n",
    "        geom_point(x=4, y=0, size=50, shape=shape, stroke=50, color=\"red\", fill=\"black\", alpha=0.5) + \\\n",
    "        xlim(-1, 5)"
   ]
  },
  {
   "cell_type": "code",
   "execution_count": null,
   "id": "8317911b",
   "metadata": {},
   "outputs": [],
   "source": [
    "iris_df = pd.read_csv(\"https://raw.githubusercontent.com/JetBrains/lets-plot-docs/master/data/iris.csv\")\n",
    "print(iris_df.shape)\n",
    "iris_df.head()"
   ]
  },
  {
   "cell_type": "markdown",
   "id": "9db2f49a",
   "metadata": {},
   "source": [
    "## 1. Geoms that consumes `stroke`"
   ]
  },
  {
   "cell_type": "code",
   "execution_count": null,
   "id": "f2fbdfdc",
   "metadata": {},
   "outputs": [],
   "source": [
    "ggplot() + \\\n",
    "    geom_point(x=0, y=0, shape=21, size=10, color=\"blue\", fill=\"red\") + \\\n",
    "    ggtitle(\"Point: default stroke\")"
   ]
  },
  {
   "cell_type": "code",
   "execution_count": null,
   "id": "6aaac55e",
   "metadata": {},
   "outputs": [],
   "source": [
    "gggrid([\n",
    "    ggplot() + \\\n",
    "        geom_point(x=0, y=0, shape=21, size=10, stroke=5, color=\"blue\", fill=\"red\") + \\\n",
    "        ggtitle(\"Point: stroke=5\"),\n",
    "    ggplot() + \\\n",
    "        geom_jitter(x=0, y=0, shape=21, size=10, stroke=5, color=\"blue\", fill=\"red\") + \\\n",
    "        ggtitle(\"Jitter: stroke=5\"),\n",
    "    ggplot() + \\\n",
    "        geom_qq(x=0, y=0, shape=21, size=10, stroke=5, color=\"blue\", fill=\"red\") + \\\n",
    "        ggtitle(\"Q-Q: stroke=5\"),\n",
    "    ggplot() + \\\n",
    "        geom_qq2(x=0, y=0, shape=21, size=10, stroke=5, color=\"blue\", fill=\"red\") + \\\n",
    "        ggtitle(\"Q-Q 2: stroke=5\"),\n",
    "    ggplot(iris_df, aes(\"species\", \"sepal_width\")) + \\\n",
    "        geom_boxplot(outlier_shape=21, outlier_size=10, outlier_stroke=5, color=\"blue\", fill=\"red\"),\n",
    "    ggplot() + \\\n",
    "        geom_pointrange(x=0, ymin=0, ymax=1, y=.5, shape=21, size=10, stroke=5, color=\"blue\", fill=\"red\") + \\\n",
    "        ggtitle(\"Pointrange: stroke=5\"),\n",
    "], ncol=2)"
   ]
  },
  {
   "cell_type": "code",
   "execution_count": null,
   "id": "c0fa1d89",
   "metadata": {},
   "outputs": [],
   "source": [
    "ggplot({'x': [0, 0, 0, 1]}, aes('x')) + \\\n",
    "    geom_dotplot(binwidth=.3, color=\"blue\", fill=\"red\") + \\\n",
    "    ggtitle(\"Dotplot: default stroke\")"
   ]
  },
  {
   "cell_type": "code",
   "execution_count": null,
   "id": "46f6fa7d",
   "metadata": {},
   "outputs": [],
   "source": [
    "ggplot({'x': [0, 0, 0, 1]}, aes('x')) + \\\n",
    "    geom_dotplot(binwidth=.3, stroke=10, color=\"blue\", fill=\"red\") + \\\n",
    "    ggtitle(\"Dotplot: stroke=10\")"
   ]
  },
  {
   "cell_type": "code",
   "execution_count": null,
   "id": "cb9b8e87",
   "metadata": {},
   "outputs": [],
   "source": [
    "ggplot({'y': [0, 0, 0, 1]}, aes(y='y')) + \\\n",
    "    geom_ydotplot(binwidth=.3, stroke=10, color=\"blue\", fill=\"red\") + \\\n",
    "    ggtitle(\"YDotplot: stroke=10\")"
   ]
  },
  {
   "cell_type": "markdown",
   "id": "1065ceeb",
   "metadata": {},
   "source": [
    "## 2. How `stroke` works"
   ]
  },
  {
   "cell_type": "code",
   "execution_count": null,
   "id": "8f28f1bb",
   "metadata": {},
   "outputs": [],
   "source": [
    "get_plot(21)"
   ]
  },
  {
   "cell_type": "code",
   "execution_count": null,
   "id": "f93f3d0d",
   "metadata": {},
   "outputs": [],
   "source": [
    "ggplot() + \\\n",
    "    geom_point(x=0, y=0, size=50, shape=21, stroke=50, color=\"blue\", fill=\"red\", alpha=.25) + \\\n",
    "    geom_point(x=1, y=0, size=50, shape=21, stroke=50, color=\"blue\", fill=\"red\", alpha=.25) + \\\n",
    "    xlim(-2, 3)"
   ]
  },
  {
   "cell_type": "markdown",
   "id": "970f1e67",
   "metadata": {},
   "source": [
    "## 3. Each shape with `stroke`"
   ]
  },
  {
   "cell_type": "code",
   "execution_count": null,
   "id": "a94626cf",
   "metadata": {},
   "outputs": [],
   "source": [
    "get_plot(0)"
   ]
  },
  {
   "cell_type": "code",
   "execution_count": null,
   "id": "d2f3fca2",
   "metadata": {},
   "outputs": [],
   "source": [
    "get_plot(1)"
   ]
  },
  {
   "cell_type": "code",
   "execution_count": null,
   "id": "b6299d41",
   "metadata": {},
   "outputs": [],
   "source": [
    "get_plot(2)"
   ]
  },
  {
   "cell_type": "code",
   "execution_count": null,
   "id": "e1c85e81",
   "metadata": {},
   "outputs": [],
   "source": [
    "get_plot(3)"
   ]
  },
  {
   "cell_type": "code",
   "execution_count": null,
   "id": "67dbba47",
   "metadata": {},
   "outputs": [],
   "source": [
    "get_plot(4)"
   ]
  },
  {
   "cell_type": "code",
   "execution_count": null,
   "id": "0e1d0ae9",
   "metadata": {},
   "outputs": [],
   "source": [
    "get_plot(5)"
   ]
  },
  {
   "cell_type": "code",
   "execution_count": null,
   "id": "6c4b5798",
   "metadata": {},
   "outputs": [],
   "source": [
    "get_plot(6)"
   ]
  },
  {
   "cell_type": "code",
   "execution_count": null,
   "id": "c5485b51",
   "metadata": {},
   "outputs": [],
   "source": [
    "get_plot(7)"
   ]
  },
  {
   "cell_type": "code",
   "execution_count": null,
   "id": "89888054",
   "metadata": {},
   "outputs": [],
   "source": [
    "get_plot(8)"
   ]
  },
  {
   "cell_type": "code",
   "execution_count": null,
   "id": "c89fa409",
   "metadata": {},
   "outputs": [],
   "source": [
    "get_plot(9)"
   ]
  },
  {
   "cell_type": "code",
   "execution_count": null,
   "id": "ecdcdf9f",
   "metadata": {},
   "outputs": [],
   "source": [
    "get_plot(10)"
   ]
  },
  {
   "cell_type": "code",
   "execution_count": null,
   "id": "49c72380",
   "metadata": {},
   "outputs": [],
   "source": [
    "get_plot(11)"
   ]
  },
  {
   "cell_type": "code",
   "execution_count": null,
   "id": "f5a794af",
   "metadata": {},
   "outputs": [],
   "source": [
    "get_plot(12)"
   ]
  },
  {
   "cell_type": "code",
   "execution_count": null,
   "id": "c67113c8",
   "metadata": {},
   "outputs": [],
   "source": [
    "get_plot(13)"
   ]
  },
  {
   "cell_type": "code",
   "execution_count": null,
   "id": "acbb4b44",
   "metadata": {},
   "outputs": [],
   "source": [
    "get_plot(14)"
   ]
  },
  {
   "cell_type": "code",
   "execution_count": null,
   "id": "b71bc25a",
   "metadata": {},
   "outputs": [],
   "source": [
    "get_plot(15)"
   ]
  },
  {
   "cell_type": "code",
   "execution_count": null,
   "id": "b7e4099c",
   "metadata": {},
   "outputs": [],
   "source": [
    "get_plot(16)"
   ]
  },
  {
   "cell_type": "code",
   "execution_count": null,
   "id": "0a786c51",
   "metadata": {},
   "outputs": [],
   "source": [
    "get_plot(17)"
   ]
  },
  {
   "cell_type": "code",
   "execution_count": null,
   "id": "ceb12cbd",
   "metadata": {},
   "outputs": [],
   "source": [
    "get_plot(18)"
   ]
  },
  {
   "cell_type": "code",
   "execution_count": null,
   "id": "429a6313",
   "metadata": {},
   "outputs": [],
   "source": [
    "get_plot(19)"
   ]
  },
  {
   "cell_type": "code",
   "execution_count": null,
   "id": "6693305a",
   "metadata": {},
   "outputs": [],
   "source": [
    "get_plot(20)"
   ]
  },
  {
   "cell_type": "code",
   "execution_count": null,
   "id": "70a8ed08",
   "metadata": {},
   "outputs": [],
   "source": [
    "get_plot(21)"
   ]
  },
  {
   "cell_type": "code",
   "execution_count": null,
   "id": "2114e482",
   "metadata": {},
   "outputs": [],
   "source": [
    "get_plot(22)"
   ]
  },
  {
   "cell_type": "code",
   "execution_count": null,
   "id": "e7af4324",
   "metadata": {},
   "outputs": [],
   "source": [
    "get_plot(23)"
   ]
  },
  {
   "cell_type": "code",
   "execution_count": null,
   "id": "0686895a",
   "metadata": {},
   "outputs": [],
   "source": [
    "get_plot(24)"
   ]
  },
  {
   "cell_type": "code",
   "execution_count": null,
   "id": "dc8396d9",
   "metadata": {},
   "outputs": [],
   "source": [
    "get_plot(25)"
   ]
  },
  {
   "cell_type": "markdown",
   "id": "2ff9c1ed",
   "metadata": {},
   "source": [
    "## 4. Extra"
   ]
  },
  {
   "cell_type": "code",
   "execution_count": null,
   "id": "baa34103",
   "metadata": {},
   "outputs": [],
   "source": [
    "ggplot({'x': [0, 0], 'y': [0, 0], 'g': ['a', 'b']}, aes('x', 'y', color='g')) + \\\n",
    "    geom_point(shape=6, size=20, stroke=20) + \\\n",
    "    facet_grid(x='g') + \\\n",
    "    scale_x_continuous(limits=[-2, 2]) + \\\n",
    "    coord_fixed(.1, flip=True) + \\\n",
    "    ggtitle(\"Check facets, scales and coordinates\")"
   ]
  },
  {
   "cell_type": "code",
   "execution_count": null,
   "id": "d9f61158",
   "metadata": {},
   "outputs": [],
   "source": [
    "data = {\n",
    "    'x': [0, 0, 0, 0, 0, 0],\n",
    "    'y': [0, 0, 0, 0, 0, 0],\n",
    "    'g': [1, 2, 3, 4, 5, 6]\n",
    "}\n",
    "ggplot(data, aes('x', 'y')) + \\\n",
    "    geom_point(aes(size='g', stroke='g'), shape=2, color=\"white\", position=position_nudge(x=1)) + \\\n",
    "    facet_grid(x='g') + \\\n",
    "    scale_size(range=[5, 15]) + \\\n",
    "    theme_minimal() + flavor_darcula() + \\\n",
    "    ggtitle(\"Check tooltips, legend, facets and themes\")"
   ]
  },
  {
   "cell_type": "markdown",
   "id": "33c3962e",
   "metadata": {},
   "source": [
    "### 4.1. Livemap"
   ]
  },
  {
   "cell_type": "code",
   "execution_count": null,
   "id": "4d4c9443",
   "metadata": {},
   "outputs": [],
   "source": [
    "shapes_df = pd.DataFrame({\n",
    "    'x': (list(range(7)) * 4)[:26],\n",
    "    'y': ([3] * 7 + [2] * 7 + [1] * 7 + [0] * 7)[:26],\n",
    "    'shape': list(range(26)),\n",
    "})\n",
    "print(shapes_df.shape)\n",
    "shapes_df.head()"
   ]
  },
  {
   "cell_type": "code",
   "execution_count": null,
   "id": "3bcab018",
   "metadata": {},
   "outputs": [],
   "source": [
    "ggplot(shapes_df, aes('x', 'y')) + \\\n",
    "    geom_point(aes(shape='shape'), size=10, stroke=10, color=\"black\", alpha=.5) + \\\n",
    "    scale_shape_identity() + \\\n",
    "    xlim(-.5, 7.5) + ylim(-.5, 3.5) + \\\n",
    "    ggtitle(\"All together\")"
   ]
  },
  {
   "cell_type": "code",
   "execution_count": null,
   "id": "3e35d7d2",
   "metadata": {},
   "outputs": [],
   "source": [
    "ggplot(shapes_df, aes('x', 'y')) + \\\n",
    "    geom_livemap() + \\\n",
    "    geom_point(aes(shape='shape'), size=10, stroke=10, color=\"black\", alpha=.5) + \\\n",
    "    scale_shape_identity() + \\\n",
    "    ggtitle(\"const_size_zoomin=-1 (default)\")"
   ]
  },
  {
   "cell_type": "code",
   "execution_count": null,
   "id": "a826f84a",
   "metadata": {},
   "outputs": [],
   "source": [
    "ggplot(shapes_df, aes('x', 'y')) + \\\n",
    "    geom_livemap(const_size_zoomin=0) + \\\n",
    "    geom_point(aes(shape='shape'), size=10, stroke=10, color=\"black\", alpha=.5) + \\\n",
    "    scale_shape_identity() + \\\n",
    "    ggtitle(\"const_size_zoomin=0\")"
   ]
  },
  {
   "cell_type": "code",
   "execution_count": null,
   "id": "f3a881ca",
   "metadata": {},
   "outputs": [],
   "source": [
    "sizes_df = pd.DataFrame({\n",
    "    'x': list(range(5)),\n",
    "    'y': [0] * 5,\n",
    "    'size': [5 * i for i in range(1, 6)],\n",
    "    'stroke': [5 * i for i in range(1, 6)],\n",
    "})\n",
    "sizes_df"
   ]
  },
  {
   "cell_type": "code",
   "execution_count": null,
   "id": "3263bb7a",
   "metadata": {},
   "outputs": [],
   "source": [
    "ggplot(sizes_df, aes('x', 'y')) + \\\n",
    "    geom_point(aes(size='size', stroke='stroke'), shape=21, color=\"black\") + \\\n",
    "    scale_size_identity() + \\\n",
    "    xlim(0, 4.5) + \\\n",
    "    ggtitle(\"All together\")"
   ]
  },
  {
   "cell_type": "code",
   "execution_count": null,
   "id": "d2f61e83",
   "metadata": {},
   "outputs": [],
   "source": [
    "ggplot(sizes_df, aes('x', 'y')) + \\\n",
    "    geom_livemap() + \\\n",
    "    geom_point(aes(size='size', stroke='stroke'), shape=21, color=\"black\") + \\\n",
    "    scale_size_identity() + \\\n",
    "    ggtitle(\"data_size_zoomin=0 (default)\")"
   ]
  },
  {
   "cell_type": "code",
   "execution_count": null,
   "id": "fc7450d5",
   "metadata": {},
   "outputs": [],
   "source": [
    "ggplot(sizes_df, aes('x', 'y')) + \\\n",
    "    geom_livemap(data_size_zoomin=-1) + \\\n",
    "    geom_point(aes(size='size', stroke='stroke'), shape=21, color=\"black\") + \\\n",
    "    scale_size_identity() + \\\n",
    "    ggtitle(\"data_size_zoomin=-1\")"
   ]
  }
 ],
 "metadata": {
  "kernelspec": {
   "display_name": "Python 3 (ipykernel)",
   "language": "python",
   "name": "python3"
  },
  "language_info": {
   "codemirror_mode": {
    "name": "ipython",
    "version": 3
   },
   "file_extension": ".py",
   "mimetype": "text/x-python",
   "name": "python",
   "nbconvert_exporter": "python",
   "pygments_lexer": "ipython3",
   "version": "3.8.16"
  }
 },
 "nbformat": 4,
 "nbformat_minor": 5
}
