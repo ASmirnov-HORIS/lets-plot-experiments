{
 "cells": [
  {
   "cell_type": "markdown",
   "id": "c8f27d2e",
   "metadata": {},
   "source": [
    "# Using `geom_imshow()` to draw DEM on map\n",
    "\n",
    "[SRTM1N00E012V3](https://earthexplorer.usgs.gov/scene/metadata/full/5e83a3ee1af480c5/SRTM1N00E012V3/) courtesy of the U.S. Geological Survey"
   ]
  },
  {
   "cell_type": "code",
   "execution_count": null,
   "id": "86e9b69b",
   "metadata": {},
   "outputs": [],
   "source": [
    "import numpy as np\n",
    "from PIL import Image\n",
    "from osgeo import gdal\n",
    "\n",
    "from lets_plot import *\n",
    "from lets_plot.geo_data import *\n",
    "LetsPlot.setup_html()"
   ]
  },
  {
   "cell_type": "code",
   "execution_count": null,
   "id": "198ce722",
   "metadata": {},
   "outputs": [],
   "source": [
    "plot_size = 600\n",
    "subplot_size = 500"
   ]
  },
  {
   "cell_type": "code",
   "execution_count": null,
   "id": "73c3ab3c",
   "metadata": {},
   "outputs": [],
   "source": [
    "# Data from geocoding\n",
    "states = geocode_states().scope(\"Gabon\").inc_res(4).get_boundaries()\n",
    "cities = geocode_cities().scope(\"Gabon\").get_centroids()"
   ]
  },
  {
   "cell_type": "code",
   "execution_count": null,
   "id": "45972976",
   "metadata": {},
   "outputs": [],
   "source": [
    "# Data from DEM\n",
    "dataset = gdal.Open(\"ivindo/river.bil\")\n",
    "dataset_array = dataset.ReadAsArray()\n",
    "transform = dataset.GetGeoTransform()\n",
    "lon_min = transform[0]\n",
    "lon_max = lon_min + (transform[1] * dataset_array.shape[1])\n",
    "lat_max = transform[3]\n",
    "lat_min = lat_max + (transform[5] * dataset_array.shape[0])"
   ]
  },
  {
   "cell_type": "code",
   "execution_count": null,
   "id": "3de2c1c6",
   "metadata": {},
   "outputs": [],
   "source": [
    "# Data from image\n",
    "image_array = np.asarray(Image.open(\"osm_ivindo_screen.png\"))"
   ]
  },
  {
   "cell_type": "code",
   "execution_count": null,
   "id": "c233fae5",
   "metadata": {},
   "outputs": [],
   "source": [
    "plot = ggplot() + \\\n",
    "    geom_imshow(dataset_array, extent=[lon_min, lon_max, lat_min, lat_max], cmap=\"viridis\") + \\\n",
    "    geom_map(data=states, color=\"black\", alpha=0) + \\\n",
    "    geom_point(data=cities, shape=21, size=3, color=\"black\", fill=\"white\", \\\n",
    "               tooltips=layer_tooltips().line(\"@{found name}\")) + \\\n",
    "    ggsize(plot_size, plot_size) + \\\n",
    "    theme_classic() + theme(axis=\"blank\")\n",
    "plot + ggtitle(\"Ivindo river in Gabon\")"
   ]
  },
  {
   "cell_type": "code",
   "execution_count": null,
   "id": "4ef3ea01",
   "metadata": {},
   "outputs": [],
   "source": [
    "plot += coord_map(xlim=[lon_min, lon_max], ylim=[lat_min, lat_max]) + \\\n",
    "    ggtitle(\"Plot\")\n",
    "image = ggplot() + \\\n",
    "    geom_imshow(image_array) + \\\n",
    "    ggsize(plot_size, plot_size) + \\\n",
    "    ggtitle(\"Image\") + \\\n",
    "    theme_classic() + theme(axis=\"blank\")\n",
    "\n",
    "bunch = GGBunch()\n",
    "bunch.add_plot(plot, 0, 0, subplot_size, subplot_size)\n",
    "bunch.add_plot(image, subplot_size, 0, subplot_size, subplot_size)\n",
    "bunch.show()"
   ]
  }
 ],
 "metadata": {
  "kernelspec": {
   "display_name": "Python 3 (ipykernel)",
   "language": "python",
   "name": "python3"
  },
  "language_info": {
   "codemirror_mode": {
    "name": "ipython",
    "version": 3
   },
   "file_extension": ".py",
   "mimetype": "text/x-python",
   "name": "python",
   "nbconvert_exporter": "python",
   "pygments_lexer": "ipython3",
   "version": "3.8.13"
  }
 },
 "nbformat": 4,
 "nbformat_minor": 5
}
