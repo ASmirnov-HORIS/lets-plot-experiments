{
 "cells": [
  {
   "cell_type": "code",
   "execution_count": 1,
   "id": "35170851",
   "metadata": {},
   "outputs": [
    {
     "data": {
      "text/html": [
       "\n",
       "            <div id=\"OB9ZBe\"></div>\n",
       "            <script type=\"text/javascript\" data-lets-plot-script=\"library\">\n",
       "                if(!window.letsPlotCallQueue) {\n",
       "                    window.letsPlotCallQueue = [];\n",
       "                }; \n",
       "                window.letsPlotCall = function(f) {\n",
       "                    window.letsPlotCallQueue.push(f);\n",
       "                };\n",
       "                (function() {\n",
       "                    var script = document.createElement(\"script\");\n",
       "                    script.type = \"text/javascript\";\n",
       "                    script.src = \"https://cdn.jsdelivr.net/gh/JetBrains/lets-plot@v3.0.0/js-package/distr/lets-plot.min.js\";\n",
       "                    script.onload = function() {\n",
       "                        window.letsPlotCall = function(f) {f();};\n",
       "                        window.letsPlotCallQueue.forEach(function(f) {f();});\n",
       "                        window.letsPlotCallQueue = [];\n",
       "                        \n",
       "                    };\n",
       "                    script.onerror = function(event) {\n",
       "                        window.letsPlotCall = function(f) {};    // noop\n",
       "                        window.letsPlotCallQueue = [];\n",
       "                        var div = document.createElement(\"div\");\n",
       "                        div.style.color = 'darkred';\n",
       "                        div.textContent = 'Error loading Lets-Plot JS';\n",
       "                        document.getElementById(\"OB9ZBe\").appendChild(div);\n",
       "                    };\n",
       "                    var e = document.getElementById(\"OB9ZBe\");\n",
       "                    e.appendChild(script);\n",
       "                })()\n",
       "            </script>\n",
       "            "
      ]
     },
     "metadata": {},
     "output_type": "display_data"
    }
   ],
   "source": [
    "from lets_plot import *\n",
    "LetsPlot.setup_html()"
   ]
  },
  {
   "cell_type": "code",
   "execution_count": 2,
   "id": "91b329eb",
   "metadata": {},
   "outputs": [
    {
     "data": {
      "text/html": [
       "   <div id=\"3bW3rK\"></div>\n",
       "   <script type=\"text/javascript\" data-lets-plot-script=\"plot\">\n",
       "       (function() {\n",
       "           var plotSpec={\n",
       "\"data\":{\n",
       "\"x\":[0.0,1.0],\n",
       "\"y\":[0.0,1.0]\n",
       "},\n",
       "\"mapping\":{\n",
       "\"x\":\"x\",\n",
       "\"y\":\"y\"\n",
       "},\n",
       "\"data_meta\":{\n",
       "},\n",
       "\"kind\":\"plot\",\n",
       "\"scales\":[],\n",
       "\"layers\":[{\n",
       "\"geom\":\"point\",\n",
       "\"mapping\":{\n",
       "},\n",
       "\"data_meta\":{\n",
       "},\n",
       "\"data\":{\n",
       "}\n",
       "},{\n",
       "\"geom\":\"histogram\",\n",
       "\"mapping\":{\n",
       "\"y\":\"..density..\"\n",
       "},\n",
       "\"data_meta\":{\n",
       "},\n",
       "\"marginal\":true,\n",
       "\"margin_side\":\"t\",\n",
       "\"data\":{\n",
       "\"..density..\":[15.0,0.0,0.0,0.0,0.0,0.0,0.0,0.0,0.0,0.0,0.0,0.0,0.0,0.0,0.0,0.0,0.0,0.0,0.0,0.0,0.0,0.0,0.0,0.0,0.0,0.0,0.0,0.0,0.0,15.0],\n",
       "\"x\":[-0.005888888888888888,0.028999999999999998,0.06388888888888888,0.09877777777777777,0.13366666666666666,0.16855555555555554,0.20344444444444443,0.2383333333333333,0.2732222222222222,0.30811111111111106,0.34299999999999997,0.3778888888888889,0.41277777777777774,0.4476666666666666,0.4825555555555555,0.5174444444444444,0.5523333333333333,0.5872222222222221,0.6221111111111111,0.657,0.6918888888888888,0.7267777777777777,0.7616666666666667,0.7965555555555555,0.8314444444444444,0.8663333333333332,0.9012222222222221,0.9361111111111111,0.9709999999999999,1.0058888888888888]\n",
       "}\n",
       "},{\n",
       "\"geom\":\"histogram\",\n",
       "\"mapping\":{\n",
       "\"x\":\"..density..\"\n",
       "},\n",
       "\"data_meta\":{\n",
       "},\n",
       "\"orientation\":\"y\",\n",
       "\"marginal\":true,\n",
       "\"margin_side\":\"r\",\n",
       "\"data\":{\n",
       "\"..density..\":[15.0,0.0,0.0,0.0,0.0,0.0,0.0,0.0,0.0,0.0,0.0,0.0,0.0,0.0,0.0,0.0,0.0,0.0,0.0,0.0,0.0,0.0,0.0,0.0,0.0,0.0,0.0,0.0,0.0,15.0],\n",
       "\"y\":[-0.005888888888888888,0.028999999999999998,0.06388888888888888,0.09877777777777777,0.13366666666666666,0.16855555555555554,0.20344444444444443,0.2383333333333333,0.2732222222222222,0.30811111111111106,0.34299999999999997,0.3778888888888889,0.41277777777777774,0.4476666666666666,0.4825555555555555,0.5174444444444444,0.5523333333333333,0.5872222222222221,0.6221111111111111,0.657,0.6918888888888888,0.7267777777777777,0.7616666666666667,0.7965555555555555,0.8314444444444444,0.8663333333333332,0.9012222222222221,0.9361111111111111,0.9709999999999999,1.0058888888888888]\n",
       "}\n",
       "}],\n",
       "\"metainfo_list\":[]\n",
       "};\n",
       "           var plotContainer = document.getElementById(\"3bW3rK\");\n",
       "           window.letsPlotCall(function() {{\n",
       "               LetsPlot.buildPlotFromProcessedSpecs(plotSpec, -1, -1, plotContainer);\n",
       "           }});\n",
       "       })();    \n",
       "   </script>"
      ],
      "text/plain": [
       "<lets_plot.plot.core.PlotSpec at 0x1bb57c991f0>"
      ]
     },
     "execution_count": 2,
     "metadata": {},
     "output_type": "execute_result"
    }
   ],
   "source": [
    "data = {\n",
    "    'x': [0, 1],\n",
    "    'y': [0, 1],\n",
    "}\n",
    "ggplot(data, aes('x', 'y')) + geom_point() + ggmarginal(\"tr\", layer=geom_histogram())"
   ]
  }
 ],
 "metadata": {
  "kernelspec": {
   "display_name": "Python 3 (ipykernel)",
   "language": "python",
   "name": "python3"
  },
  "language_info": {
   "codemirror_mode": {
    "name": "ipython",
    "version": 3
   },
   "file_extension": ".py",
   "mimetype": "text/x-python",
   "name": "python",
   "nbconvert_exporter": "python",
   "pygments_lexer": "ipython3",
   "version": "3.8.15"
  }
 },
 "nbformat": 4,
 "nbformat_minor": 5
}
