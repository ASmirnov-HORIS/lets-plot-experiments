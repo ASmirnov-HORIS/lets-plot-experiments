{
 "cells": [
  {
   "cell_type": "code",
   "execution_count": 1,
   "id": "92632092-c6d2-4d29-b3be-188dbc59a817",
   "metadata": {},
   "outputs": [
    {
     "name": "stdout",
     "output_type": "stream",
     "text": [
      "Collecting lets-plot==4.1.0\n",
      "  Using cached lets_plot-4.1.0-cp310-cp310-manylinux_2_17_x86_64.manylinux2014_x86_64.whl.metadata (7.3 kB)\n",
      "Collecting pypng (from lets-plot==4.1.0)\n",
      "  Using cached pypng-0.20220715.0-py3-none-any.whl.metadata (13 kB)\n",
      "Collecting palettable (from lets-plot==4.1.0)\n",
      "  Using cached palettable-3.3.3-py2.py3-none-any.whl.metadata (3.3 kB)\n",
      "Using cached lets_plot-4.1.0-cp310-cp310-manylinux_2_17_x86_64.manylinux2014_x86_64.whl (2.9 MB)\n",
      "Using cached palettable-3.3.3-py2.py3-none-any.whl (332 kB)\n",
      "Using cached pypng-0.20220715.0-py3-none-any.whl (58 kB)\n",
      "Installing collected packages: pypng, palettable, lets-plot\n",
      "  Attempting uninstall: pypng\n",
      "    Found existing installation: pypng 0.20220715.0\n",
      "    Uninstalling pypng-0.20220715.0:\n",
      "      Successfully uninstalled pypng-0.20220715.0\n",
      "  Attempting uninstall: palettable\n",
      "    Found existing installation: palettable 3.3.3\n",
      "    Uninstalling palettable-3.3.3:\n",
      "      Successfully uninstalled palettable-3.3.3\n",
      "  Attempting uninstall: lets-plot\n",
      "    Found existing installation: lets-plot 4.1.0\n",
      "    Uninstalling lets-plot-4.1.0:\n",
      "      Successfully uninstalled lets-plot-4.1.0\n",
      "Successfully installed lets-plot-4.1.0 palettable-3.3.3 pypng-0.20220715.0\n"
     ]
    }
   ],
   "source": [
    "!pip install lets-plot==4.1.0 --force-reinstall"
   ]
  },
  {
   "cell_type": "code",
   "execution_count": 2,
   "id": "1a9c3293-1114-4829-833a-c3773f9154b2",
   "metadata": {},
   "outputs": [
    {
     "data": {
      "text/plain": [
       "'4.1.0'"
      ]
     },
     "execution_count": 2,
     "metadata": {},
     "output_type": "execute_result"
    }
   ],
   "source": [
    "import lets_plot as lp\n",
    "lp.__version__"
   ]
  },
  {
   "cell_type": "code",
   "execution_count": 3,
   "id": "6726c586-d975-4c8e-beb8-429d3f8cc87e",
   "metadata": {},
   "outputs": [],
   "source": [
    "from lets_plot import *"
   ]
  },
  {
   "cell_type": "code",
   "execution_count": 4,
   "id": "bedf2dd2-dfad-4acb-b18c-d753396a0fce",
   "metadata": {},
   "outputs": [
    {
     "data": {
      "text/html": [
       "\n",
       "            <div id=\"3EG1vJ\"></div>\n",
       "            <script type=\"text/javascript\" data-lets-plot-script=\"library\">\n",
       "                if(!window.letsPlotCallQueue) {\n",
       "                    window.letsPlotCallQueue = [];\n",
       "                }; \n",
       "                window.letsPlotCall = function(f) {\n",
       "                    window.letsPlotCallQueue.push(f);\n",
       "                };\n",
       "                (function() {\n",
       "                    var script = document.createElement(\"script\");\n",
       "                    script.type = \"text/javascript\";\n",
       "                    script.src = \"https://cdn.jsdelivr.net/gh/JetBrains/lets-plot@v4.1.0/js-package/distr/lets-plot.min.js\";\n",
       "                    script.onload = function() {\n",
       "                        window.letsPlotCall = function(f) {f();};\n",
       "                        window.letsPlotCallQueue.forEach(function(f) {f();});\n",
       "                        window.letsPlotCallQueue = [];\n",
       "                        \n",
       "                    };\n",
       "                    script.onerror = function(event) {\n",
       "                        window.letsPlotCall = function(f) {};    // noop\n",
       "                        window.letsPlotCallQueue = [];\n",
       "                        var div = document.createElement(\"div\");\n",
       "                        div.style.color = 'darkred';\n",
       "                        div.textContent = 'Error loading Lets-Plot JS';\n",
       "                        document.getElementById(\"3EG1vJ\").appendChild(div);\n",
       "                    };\n",
       "                    var e = document.getElementById(\"3EG1vJ\");\n",
       "                    e.appendChild(script);\n",
       "                })()\n",
       "            </script>\n",
       "            "
      ]
     },
     "metadata": {},
     "output_type": "display_data"
    }
   ],
   "source": [
    "LetsPlot.setup_html()"
   ]
  },
  {
   "cell_type": "code",
   "execution_count": 5,
   "id": "8819d4f0-9665-4c10-9f55-99889e908cf2",
   "metadata": {},
   "outputs": [
    {
     "data": {
      "text/html": [
       "\n",
       "    <div style=\"border:1px solid #ccc; padding:5px; margin-bottom:5px; width: 100%; \n",
       "                display: flex; align-items: flex-start; justify-content: space-between;\n",
       "                overflow-x: hidden; box-sizing: border-box;\">\n",
       "        <div style=\"flex-grow: 1; max-width: calc(100% - 130px); overflow: hidden;\">\n",
       "               <div id=\"AtnOqr\"></div>\n",
       "   <script type=\"text/javascript\" data-lets-plot-script=\"plot\">\n",
       "       (function() {\n",
       "           var plotSpec={\n",
       "\"mapping\":{\n",
       "},\n",
       "\"data_meta\":{\n",
       "},\n",
       "\"kind\":\"plot\",\n",
       "\"scales\":[],\n",
       "\"layers\":[{\n",
       "\"geom\":\"ribbon\",\n",
       "\"data\":{\n",
       "\"t\":[300.0,370.0,345.0,310.0],\n",
       "\"b\":[250.0,200.0,270.0,250.0],\n",
       "\"x\":[100.0,105.0,110.0,115.0]\n",
       "},\n",
       "\"mapping\":{\n",
       "\"x\":\"x\",\n",
       "\"ymin\":\"b\",\n",
       "\"ymax\":\"t\"\n",
       "},\n",
       "\"data_meta\":{\n",
       "},\n",
       "\"fill\":\"red\",\n",
       "\"alpha\":0.6\n",
       "},{\n",
       "\"geom\":\"ribbon\",\n",
       "\"data\":{\n",
       "\"t\":[405.0,425.0,400.0,300.0],\n",
       "\"b\":[100.0,300.0,150.0,200.0],\n",
       "\"x\":[100.0,105.0,110.0,115.0]\n",
       "},\n",
       "\"mapping\":{\n",
       "\"x\":\"x\",\n",
       "\"ymin\":\"b\",\n",
       "\"ymax\":\"t\"\n",
       "},\n",
       "\"data_meta\":{\n",
       "},\n",
       "\"fill\":\"orange\",\n",
       "\"alpha\":0.6\n",
       "},{\n",
       "\"geom\":\"point\",\n",
       "\"data\":{\n",
       "\"x\":[100.0,102.0,105.0,107.0,110.0,112.0,115.0],\n",
       "\"y\":[560.0,500.0,550.0,445.0,555.0,525.0,535.0],\n",
       "\"g\":[\"A\",\"B\",\"C\",\"D\",\"E\",\"G\",\"H\"]\n",
       "},\n",
       "\"mapping\":{\n",
       "\"x\":\"x\",\n",
       "\"y\":\"y\",\n",
       "\"color\":\"g\"\n",
       "},\n",
       "\"data_meta\":{\n",
       "}\n",
       "}],\n",
       "\"metainfo_list\":[]\n",
       "};\n",
       "           var plotContainer = document.getElementById(\"AtnOqr\");\n",
       "           window.letsPlotCall(function() {{\n",
       "               LetsPlot.buildPlotFromProcessedSpecs(plotSpec, -1, -1, plotContainer);\n",
       "           }});\n",
       "       })();    \n",
       "   </script>\n",
       "        </div>\n",
       "        <button onclick=\"copyToClipboard('obj-bce81fea5f884bd4a2315ce49e32312e', this)\"\n",
       "                style=\"cursor: pointer; min-width: 100px; padding: 5px 10px; font-size: 14px; \n",
       "                       background: #f5f5f5; border: 1px solid #ccc; border-radius: 5px; \n",
       "                       user-select: text; flex-shrink: 0; transition: opacity 0.3s ease;\n",
       "                       white-space: nowrap; text-align: center;\">\n",
       "            Copy Spec\n",
       "        </button>\n",
       "    </div>\n",
       "    <div id=\"obj-bce81fea5f884bd4a2315ce49e32312e\" data-spec=\"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\" style=\"display:none;\"></div>\n",
       "    \n",
       "    <script>\n",
       "        function decodeBase64(base64String) {\n",
       "            return atob(base64String);\n",
       "        }\n",
       "\n",
       "        function copyToClipboard(plotId, button) {\n",
       "            let base64Spec = document.getElementById(plotId).dataset.spec;\n",
       "            if (!base64Spec) {\n",
       "                console.error(\"Plot spec not found:\", plotId);\n",
       "                return;\n",
       "            }\n",
       "            let rawText = decodeBase64(base64Spec);\n",
       "            navigator.clipboard.writeText(rawText).then(() => {\n",
       "                button.textContent = 'Copied!';\n",
       "                button.style.opacity = '0.5';\n",
       "                setTimeout(() => {\n",
       "                    button.textContent = 'Copy Spec';\n",
       "                    button.style.opacity = '1';\n",
       "                }, 1000);\n",
       "            }).catch(err => {\n",
       "                console.error(\"Failed to copy:\", err);\n",
       "            });\n",
       "        }\n",
       "    </script>\n",
       "    \n",
       "    "
      ],
      "text/plain": [
       "<lets_plot.plot.core.PlotSpec at 0x7ca2a234e500>"
      ]
     },
     "execution_count": 5,
     "metadata": {},
     "output_type": "execute_result"
    }
   ],
   "source": [
    "a = {\n",
    "    'g': ['a', 'a', 'a', 'a'],\n",
    "    't': [300, 370, 345, 310],\n",
    "    'b': [250, 200, 270, 250],\n",
    "    'x': [100, 105, 110, 115]\n",
    "}\n",
    "\n",
    "b = {\n",
    "    'g': ['b', 'b', 'b', 'b'],\n",
    "    't': [405, 425, 400, 300],\n",
    "    'b': [100, 300, 150, 200],\n",
    "    'x': [100, 105, 110, 115]\n",
    "}\n",
    "\n",
    "p = {\n",
    "    'x': [100, 102, 105, 107, 110, 112, 115],\n",
    "    'y': [560, 500, 550, 445, 555, 525, 535],\n",
    "    'g': ['A', 'B', 'C', 'D', 'E', 'G', 'H']\n",
    "}\n",
    "\n",
    "ggplot() \\\n",
    "    + geom_ribbon(aes(x='x', ymin='b', ymax='t'), fill='red', alpha=0.6, data=a) \\\n",
    "    + geom_ribbon(aes(x='x', ymin='b', ymax='t'), fill='orange', alpha=0.6, data=b) \\\n",
    "    + geom_point(aes(x='x', y='y', color='g'), data=p)"
   ]
  }
 ],
 "metadata": {
  "kernelspec": {
   "display_name": "Python 3 (ipykernel)",
   "language": "python",
   "name": "python3"
  },
  "language_info": {
   "codemirror_mode": {
    "name": "ipython",
    "version": 3
   },
   "file_extension": ".py",
   "mimetype": "text/x-python",
   "name": "python",
   "nbconvert_exporter": "python",
   "pygments_lexer": "ipython3",
   "version": "3.10.16"
  }
 },
 "nbformat": 4,
 "nbformat_minor": 5
}
