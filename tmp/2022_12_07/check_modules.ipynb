{
 "cells": [
  {
   "cell_type": "code",
   "execution_count": null,
   "id": "15389152",
   "metadata": {},
   "outputs": [],
   "source": [
    "from lets_plot import *\n",
    "LetsPlot.setup_html()"
   ]
  },
  {
   "cell_type": "code",
   "execution_count": null,
   "id": "3b47f6ea",
   "metadata": {},
   "outputs": [],
   "source": [
    "ggplot() + geom_point(x=0, y=0)"
   ]
  },
  {
   "cell_type": "code",
   "execution_count": null,
   "id": "cd43effd",
   "metadata": {},
   "outputs": [],
   "source": [
    "from lets_plot.bistro.corr import *"
   ]
  },
  {
   "cell_type": "code",
   "execution_count": null,
   "id": "c4df27c1",
   "metadata": {},
   "outputs": [],
   "source": [
    "corr_plot({'x': [0, 1], 'y': [1, 0]}).tiles().build()"
   ]
  },
  {
   "cell_type": "code",
   "execution_count": null,
   "id": "e4ec9200",
   "metadata": {},
   "outputs": [],
   "source": [
    "from lets_plot.bistro.residual import *"
   ]
  },
  {
   "cell_type": "code",
   "execution_count": null,
   "id": "1aa1289b",
   "metadata": {},
   "outputs": [],
   "source": [
    "data = {'x': [0, 1, 2], 'y': [0, 1, 4]}"
   ]
  },
  {
   "cell_type": "code",
   "execution_count": null,
   "id": "5888f2e8",
   "metadata": {},
   "outputs": [],
   "source": [
    "residual_plot(data, 'x', 'y', method='none')"
   ]
  },
  {
   "cell_type": "code",
   "execution_count": null,
   "id": "7bcdfd8c",
   "metadata": {},
   "outputs": [],
   "source": [
    "residual_plot(data, 'x', 'y', method='lm')"
   ]
  },
  {
   "cell_type": "code",
   "execution_count": null,
   "id": "5437330c",
   "metadata": {},
   "outputs": [],
   "source": [
    "residual_plot(data, 'x', 'y', method='loess')"
   ]
  }
 ],
 "metadata": {
  "kernelspec": {
   "display_name": "Python 3 (ipykernel)",
   "language": "python",
   "name": "python3"
  },
  "language_info": {
   "codemirror_mode": {
    "name": "ipython",
    "version": 3
   },
   "file_extension": ".py",
   "mimetype": "text/x-python",
   "name": "python",
   "nbconvert_exporter": "python",
   "pygments_lexer": "ipython3",
   "version": "3.8.15"
  }
 },
 "nbformat": 4,
 "nbformat_minor": 5
}
