{
 "cells": [
  {
   "cell_type": "code",
   "execution_count": 1,
   "id": "46ba966a-d02c-4e72-b786-278173d70ea9",
   "metadata": {},
   "outputs": [
    {
     "data": {
      "text/html": [
       "\n",
       "            <div id=\"yXdMod\"></div>\n",
       "            <script type=\"text/javascript\" data-lets-plot-script=\"library\">\n",
       "                if(!window.letsPlotCallQueue) {\n",
       "                    window.letsPlotCallQueue = [];\n",
       "                }; \n",
       "                window.letsPlotCall = function(f) {\n",
       "                    window.letsPlotCallQueue.push(f);\n",
       "                };\n",
       "                (function() {\n",
       "                    var script = document.createElement(\"script\");\n",
       "                    script.type = \"text/javascript\";\n",
       "                    script.src = \"https://cdn.jsdelivr.net/gh/JetBrains/lets-plot@v4.4.0/js-package/distr/lets-plot.min.js\";\n",
       "                    script.onload = function() {\n",
       "                        window.letsPlotCall = function(f) {f();};\n",
       "                        window.letsPlotCallQueue.forEach(function(f) {f();});\n",
       "                        window.letsPlotCallQueue = [];\n",
       "                        \n",
       "                    };\n",
       "                    script.onerror = function(event) {\n",
       "                        window.letsPlotCall = function(f) {};    // noop\n",
       "                        window.letsPlotCallQueue = [];\n",
       "                        var div = document.createElement(\"div\");\n",
       "                        div.style.color = 'darkred';\n",
       "                        div.textContent = 'Error loading Lets-Plot JS';\n",
       "                        document.getElementById(\"yXdMod\").appendChild(div);\n",
       "                    };\n",
       "                    var e = document.getElementById(\"yXdMod\");\n",
       "                    e.appendChild(script);\n",
       "                })()\n",
       "            </script>\n",
       "            "
      ]
     },
     "metadata": {},
     "output_type": "display_data"
    }
   ],
   "source": [
    "import numpy as np\n",
    "import pandas as pd\n",
    "from lets_plot import *\n",
    "LetsPlot.setup_html()"
   ]
  },
  {
   "cell_type": "code",
   "execution_count": 2,
   "id": "da7c06b3-0fc8-43a4-b47f-c812c4c6f218",
   "metadata": {},
   "outputs": [],
   "source": [
    "rng = np.random.default_rng(12345)\n",
    "\n",
    "test = rng.normal(0, 1, (20, 2))\n",
    "df = pd.DataFrame(test, columns=['A', 'B'])"
   ]
  },
  {
   "cell_type": "code",
   "execution_count": 3,
   "id": "a2aeecff-a21b-40bf-9e02-cd87401de19b",
   "metadata": {},
   "outputs": [
    {
     "data": {
      "text/html": [
       "   <div id=\"qCRlLP\"></div>\n",
       "   <script type=\"text/javascript\" data-lets-plot-script=\"plot\">\n",
       "       (function() {\n",
       "           var plotSpec={\n",
       "\"data\":{\n",
       "},\n",
       "\"mapping\":{\n",
       "\"x\":\"A\"\n",
       "},\n",
       "\"data_meta\":{\n",
       "\"series_annotations\":[{\n",
       "\"type\":\"float\",\n",
       "\"column\":\"A\"\n",
       "},{\n",
       "\"type\":\"float\",\n",
       "\"column\":\"B\"\n",
       "}]\n",
       "},\n",
       "\"ggtitle\":{\n",
       "\"text\":\"Frequency\"\n",
       "},\n",
       "\"kind\":\"plot\",\n",
       "\"scales\":[],\n",
       "\"layers\":[{\n",
       "\"geom\":\"histogram\",\n",
       "\"mapping\":{\n",
       "},\n",
       "\"data_meta\":{\n",
       "},\n",
       "\"binwidth\":0.2,\n",
       "\"fill\":\"pink\",\n",
       "\"data\":{\n",
       "\"..count..\":[3.0,2.0,0.0,2.0,1.0,1.0,0.0,2.0,0.0,1.0,1.0,3.0,1.0,0.0,1.0,0.0,1.0,0.0,0.0,1.0,0.0],\n",
       "\"A\":[-1.463825036454631,-1.263825036454631,-1.063825036454631,-0.8638250364546309,-0.663825036454631,-0.463825036454631,-0.26382503645463085,-0.06382503645463089,0.13617496354536907,0.336174963545369,0.536174963545369,0.7361749635453692,0.9361749635453693,1.136174963545369,1.3361749635453692,1.536174963545369,1.7361749635453692,1.9361749635453693,2.1361749635453693,2.3361749635453695,2.5361749635453688]\n",
       "}\n",
       "}],\n",
       "\"metainfo_list\":[]\n",
       "};\n",
       "           var plotContainer = document.getElementById(\"qCRlLP\");\n",
       "           window.letsPlotCall(function() {{\n",
       "               LetsPlot.buildPlotFromProcessedSpecs(plotSpec, -1, -1, plotContainer);\n",
       "           }});\n",
       "       })();\n",
       "   </script>"
      ],
      "text/plain": [
       "<lets_plot.plot.core.PlotSpec at 0x786d5c3d71f0>"
      ]
     },
     "execution_count": 3,
     "metadata": {},
     "output_type": "execute_result"
    }
   ],
   "source": [
    "plot_1 = (\n",
    "    ggplot(df, aes(x='A')) +\n",
    "    geom_histogram(binwidth=.2, fill='pink') +\n",
    "    ggtitle('Frequency')\n",
    ")\n",
    "plot_1"
   ]
  },
  {
   "cell_type": "code",
   "execution_count": 4,
   "id": "39677b31-fce4-42ad-b352-bfccffdef451",
   "metadata": {},
   "outputs": [
    {
     "data": {
      "text/html": [
       "   <div id=\"MpK2nI\"></div>\n",
       "   <script type=\"text/javascript\" data-lets-plot-script=\"plot\">\n",
       "       (function() {\n",
       "           var plotSpec={\n",
       "\"data\":{\n",
       "},\n",
       "\"mapping\":{\n",
       "\"x\":\"A\"\n",
       "},\n",
       "\"data_meta\":{\n",
       "\"series_annotations\":[{\n",
       "\"type\":\"float\",\n",
       "\"column\":\"A\"\n",
       "},{\n",
       "\"type\":\"float\",\n",
       "\"column\":\"B\"\n",
       "}]\n",
       "},\n",
       "\"ggtitle\":{\n",
       "\"text\":\"Density\"\n",
       "},\n",
       "\"kind\":\"plot\",\n",
       "\"scales\":[],\n",
       "\"layers\":[{\n",
       "\"geom\":\"histogram\",\n",
       "\"mapping\":{\n",
       "\"y\":\"..density..\"\n",
       "},\n",
       "\"data_meta\":{\n",
       "},\n",
       "\"binwidth\":0.2,\n",
       "\"fill\":\"pink\",\n",
       "\"data\":{\n",
       "\"..density..\":[0.8352702120757741,0.5568468080505161,0.0,0.5568468080505161,0.27842340402525806,0.27842340402525806,0.0,0.5568468080505161,0.0,0.27842340402525806,0.27842340402525806,0.8352702120757741,0.27842340402525806,0.0,0.27842340402525806,0.0,0.27842340402525806,0.0,0.0,0.27842340402525806,0.0],\n",
       "\"A\":[-1.463825036454631,-1.263825036454631,-1.063825036454631,-0.8638250364546309,-0.663825036454631,-0.463825036454631,-0.26382503645463085,-0.06382503645463089,0.13617496354536907,0.336174963545369,0.536174963545369,0.7361749635453692,0.9361749635453693,1.136174963545369,1.3361749635453692,1.536174963545369,1.7361749635453692,1.9361749635453693,2.1361749635453693,2.3361749635453695,2.5361749635453688]\n",
       "}\n",
       "}],\n",
       "\"metainfo_list\":[]\n",
       "};\n",
       "           var plotContainer = document.getElementById(\"MpK2nI\");\n",
       "           window.letsPlotCall(function() {{\n",
       "               LetsPlot.buildPlotFromProcessedSpecs(plotSpec, -1, -1, plotContainer);\n",
       "           }});\n",
       "       })();\n",
       "   </script>"
      ],
      "text/plain": [
       "<lets_plot.plot.core.PlotSpec at 0x786c16646fb0>"
      ]
     },
     "execution_count": 4,
     "metadata": {},
     "output_type": "execute_result"
    }
   ],
   "source": [
    "# area of the first bin:\n",
    "## actual: 0.84\n",
    "## expected: (3/20)/0.2 ~ 0.75\n",
    "plot_2 = (\n",
    "    ggplot(df, aes(x='A')) +\n",
    "    geom_histogram(aes(y='..density..'),binwidth=.2, fill='pink') +\n",
    "    ggtitle('Density')\n",
    ")\n",
    "plot_2"
   ]
  },
  {
   "cell_type": "code",
   "execution_count": 5,
   "id": "b76ac226-b921-4a8f-9e53-9216c2bebed2",
   "metadata": {},
   "outputs": [
    {
     "data": {
      "text/html": [
       "   <div id=\"QCtbC7\"></div>\n",
       "   <script type=\"text/javascript\" data-lets-plot-script=\"plot\">\n",
       "       (function() {\n",
       "           var plotSpec={\n",
       "\"data\":{\n",
       "},\n",
       "\"mapping\":{\n",
       "\"x\":\"A\"\n",
       "},\n",
       "\"data_meta\":{\n",
       "\"series_annotations\":[{\n",
       "\"type\":\"float\",\n",
       "\"column\":\"A\"\n",
       "},{\n",
       "\"type\":\"float\",\n",
       "\"column\":\"B\"\n",
       "}]\n",
       "},\n",
       "\"ggtitle\":{\n",
       "\"text\":\"Probability\"\n",
       "},\n",
       "\"kind\":\"plot\",\n",
       "\"scales\":[],\n",
       "\"layers\":[{\n",
       "\"geom\":\"histogram\",\n",
       "\"mapping\":{\n",
       "\"weight\":\"weight\"\n",
       "},\n",
       "\"data_meta\":{\n",
       "},\n",
       "\"binwidth\":0.2,\n",
       "\"fill\":\"pink\",\n",
       "\"data\":{\n",
       "\"..count..\":[0.15000000000000002,0.1,0.0,0.1,0.05,0.05,0.0,0.1,0.0,0.05,0.05,0.15000000000000002,0.05,0.0,0.05,0.0,0.05,0.0,0.0,0.05,0.0],\n",
       "\"A\":[-1.463825036454631,-1.263825036454631,-1.063825036454631,-0.8638250364546309,-0.663825036454631,-0.463825036454631,-0.26382503645463085,-0.06382503645463089,0.13617496354536907,0.336174963545369,0.536174963545369,0.7361749635453692,0.9361749635453693,1.136174963545369,1.3361749635453692,1.536174963545369,1.7361749635453692,1.9361749635453693,2.1361749635453693,2.3361749635453695,2.5361749635453688]\n",
       "}\n",
       "}],\n",
       "\"metainfo_list\":[]\n",
       "};\n",
       "           var plotContainer = document.getElementById(\"QCtbC7\");\n",
       "           window.letsPlotCall(function() {{\n",
       "               LetsPlot.buildPlotFromProcessedSpecs(plotSpec, -1, -1, plotContainer);\n",
       "           }});\n",
       "       })();\n",
       "   </script>"
      ],
      "text/plain": [
       "<lets_plot.plot.core.PlotSpec at 0x786c16647970>"
      ]
     },
     "execution_count": 5,
     "metadata": {},
     "output_type": "execute_result"
    }
   ],
   "source": [
    "plot_3 = (\n",
    "    ggplot(df, aes(x='A')) +\n",
    "    geom_histogram(aes(weight=np.ones_like(df.A) / len(df.A)),binwidth=.2, fill='pink') +\n",
    "    ggtitle('Probability')\n",
    ")\n",
    "plot_3"
   ]
  }
 ],
 "metadata": {
  "kernelspec": {
   "display_name": "Python 3 (ipykernel)",
   "language": "python",
   "name": "python3"
  },
  "language_info": {
   "codemirror_mode": {
    "name": "ipython",
    "version": 3
   },
   "file_extension": ".py",
   "mimetype": "text/x-python",
   "name": "python",
   "nbconvert_exporter": "python",
   "pygments_lexer": "ipython3",
   "version": "3.10.14"
  }
 },
 "nbformat": 4,
 "nbformat_minor": 5
}
