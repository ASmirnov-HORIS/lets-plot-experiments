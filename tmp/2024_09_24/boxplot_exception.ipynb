{
 "cells": [
  {
   "cell_type": "markdown",
   "id": "a34845bb",
   "metadata": {},
   "source": [
    "### Catching Exception For Boxplot With Discrete Aes "
   ]
  },
  {
   "cell_type": "code",
   "execution_count": 1,
   "id": "4080bb47",
   "metadata": {},
   "outputs": [],
   "source": [
    "import numpy as np\n",
    "\n",
    "from lets_plot import *"
   ]
  },
  {
   "cell_type": "code",
   "execution_count": 2,
   "id": "e39ec57d",
   "metadata": {},
   "outputs": [
    {
     "data": {
      "text/html": [
       "\n",
       "            <div id=\"6AxOkX\"></div>\n",
       "            <script type=\"text/javascript\" data-lets-plot-script=\"library\">\n",
       "                if(!window.letsPlotCallQueue) {\n",
       "                    window.letsPlotCallQueue = [];\n",
       "                }; \n",
       "                window.letsPlotCall = function(f) {\n",
       "                    window.letsPlotCallQueue.push(f);\n",
       "                };\n",
       "                (function() {\n",
       "                    var script = document.createElement(\"script\");\n",
       "                    script.type = \"text/javascript\";\n",
       "                    script.src = \"https://cdn.jsdelivr.net/gh/JetBrains/lets-plot@v4.4.1/js-package/distr/lets-plot.min.js\";\n",
       "                    script.onload = function() {\n",
       "                        window.letsPlotCall = function(f) {f();};\n",
       "                        window.letsPlotCallQueue.forEach(function(f) {f();});\n",
       "                        window.letsPlotCallQueue = [];\n",
       "                        \n",
       "                    };\n",
       "                    script.onerror = function(event) {\n",
       "                        window.letsPlotCall = function(f) {};    // noop\n",
       "                        window.letsPlotCallQueue = [];\n",
       "                        var div = document.createElement(\"div\");\n",
       "                        div.style.color = 'darkred';\n",
       "                        div.textContent = 'Error loading Lets-Plot JS';\n",
       "                        document.getElementById(\"6AxOkX\").appendChild(div);\n",
       "                    };\n",
       "                    var e = document.getElementById(\"6AxOkX\");\n",
       "                    e.appendChild(script);\n",
       "                })()\n",
       "            </script>\n",
       "            "
      ]
     },
     "metadata": {},
     "output_type": "display_data"
    }
   ],
   "source": [
    "LetsPlot.setup_html()"
   ]
  },
  {
   "cell_type": "code",
   "execution_count": 3,
   "id": "c8a94ce4",
   "metadata": {},
   "outputs": [],
   "source": [
    "data = {\n",
    "    \"alphabet\": [\"a\",\"a\",\"b\",\"a\",\"a\",\"a\",\"b\",\"b\",\"b\",\"a\",\"a\",\"a\"],\n",
    "    \"coeff\": [\n",
    "        0.9898989898989898, 0.98989898989899, 0.9871794871794872,\n",
    "        0.9916666666666667, 0.9882352941176471, 0.9947368421052631,\n",
    "        0.9916666666666667, 0.9882352941176471, 0.9947368421052631,\n",
    "        0.9916666666666667, 0.9882352941176471, 0.9947368421052631\n",
    "     ]\n",
    "}"
   ]
  },
  {
   "cell_type": "code",
   "execution_count": 4,
   "id": "65ca1ce2-a3f1-4a75-89ab-0a46df1763c3",
   "metadata": {},
   "outputs": [
    {
     "data": {
      "text/html": [
       "   <div id=\"CGezRp\"></div>\n",
       "   <script type=\"text/javascript\" data-lets-plot-script=\"plot\">\n",
       "       (function() {\n",
       "           var plotSpec={\n",
       "\"data\":{\n",
       "},\n",
       "\"mapping\":{\n",
       "},\n",
       "\"data_meta\":{\n",
       "\"series_annotations\":[{\n",
       "\"type\":\"str\",\n",
       "\"column\":\"alphabet\"\n",
       "},{\n",
       "\"type\":\"float\",\n",
       "\"column\":\"coeff\"\n",
       "}]\n",
       "},\n",
       "\"kind\":\"plot\",\n",
       "\"scales\":[],\n",
       "\"layers\":[{\n",
       "\"geom\":\"boxplot\",\n",
       "\"mapping\":{\n",
       "\"x\":\"coeff\",\n",
       "\"y\":\"alphabet\"\n",
       "},\n",
       "\"data_meta\":{\n",
       "},\n",
       "\"orientation\":\"y\",\n",
       "\"data\":{\n",
       "\"..middle..\":[0.9907828282828284,0.9899509803921569],\n",
       "\"..lower..\":[0.9890671420083185,0.9877073906485672],\n",
       "\"..upper..\":[0.9932017543859649,0.9932017543859649],\n",
       "\"..ymin..\":[0.9882352941176471,0.9871794871794872],\n",
       "\"..ymax..\":[0.9947368421052631,0.9947368421052631],\n",
       "\"alphabet\":[\"a\",\"b\"]\n",
       "}\n",
       "},{\n",
       "\"geom\":\"point\",\n",
       "\"stat\":\"boxplot_outlier\",\n",
       "\"mapping\":{\n",
       "\"x\":\"coeff\",\n",
       "\"y\":\"alphabet\"\n",
       "},\n",
       "\"show_legend\":false,\n",
       "\"data_meta\":{\n",
       "},\n",
       "\"orientation\":\"y\",\n",
       "\"data\":{\n",
       "\"..middle..\":[0.9907828282828284,0.9899509803921569],\n",
       "\"..lower..\":[0.9890671420083185,0.9877073906485672],\n",
       "\"..upper..\":[0.9932017543859649,0.9932017543859649],\n",
       "\"..ymin..\":[0.9882352941176471,0.9871794871794872],\n",
       "\"..ymax..\":[0.9947368421052631,0.9947368421052631],\n",
       "\"alphabet\":[\"a\",\"b\"],\n",
       "\"coeff\":[NaN,NaN]\n",
       "}\n",
       "}],\n",
       "\"metainfo_list\":[]\n",
       "};\n",
       "           var plotContainer = document.getElementById(\"CGezRp\");\n",
       "           window.letsPlotCall(function() {{\n",
       "               LetsPlot.buildPlotFromProcessedSpecs(plotSpec, -1, -1, plotContainer);\n",
       "           }});\n",
       "       })();\n",
       "   </script>"
      ],
      "text/plain": [
       "<lets_plot.plot.core.PlotSpec at 0x75b74af61d20>"
      ]
     },
     "execution_count": 4,
     "metadata": {},
     "output_type": "execute_result"
    }
   ],
   "source": [
    "ggplot(data) + geom_boxplot(aes(\"coeff\", \"alphabet\"), orientation=\"y\")"
   ]
  },
  {
   "cell_type": "code",
   "execution_count": 5,
   "id": "ea6b2e13",
   "metadata": {},
   "outputs": [
    {
     "data": {
      "text/html": [
       "   <div id=\"OWmRmP\"></div>\n",
       "   <script type=\"text/javascript\" data-lets-plot-script=\"plot\">\n",
       "       (function() {\n",
       "           var plotSpec={\n",
       "\"data\":{\n",
       "},\n",
       "\"mapping\":{\n",
       "},\n",
       "\"data_meta\":{\n",
       "\"series_annotations\":[{\n",
       "\"type\":\"str\",\n",
       "\"column\":\"alphabet\"\n",
       "},{\n",
       "\"type\":\"float\",\n",
       "\"column\":\"coeff\"\n",
       "}]\n",
       "},\n",
       "\"kind\":\"plot\",\n",
       "\"scales\":[],\n",
       "\"layers\":[{\n",
       "\"geom\":\"boxplot\",\n",
       "\"mapping\":{\n",
       "\"x\":\"alphabet\",\n",
       "\"y\":\"coeff\"\n",
       "},\n",
       "\"data_meta\":{\n",
       "},\n",
       "\"orientation\":\"x\",\n",
       "\"data\":{\n",
       "\"..middle..\":[0.9907828282828284,0.9899509803921569],\n",
       "\"..lower..\":[0.9890671420083185,0.9877073906485672],\n",
       "\"..upper..\":[0.9932017543859649,0.9932017543859649],\n",
       "\"..ymin..\":[0.9882352941176471,0.9871794871794872],\n",
       "\"..ymax..\":[0.9947368421052631,0.9947368421052631],\n",
       "\"alphabet\":[\"a\",\"b\"]\n",
       "}\n",
       "},{\n",
       "\"geom\":\"point\",\n",
       "\"stat\":\"boxplot_outlier\",\n",
       "\"mapping\":{\n",
       "\"x\":\"alphabet\",\n",
       "\"y\":\"coeff\"\n",
       "},\n",
       "\"show_legend\":false,\n",
       "\"data_meta\":{\n",
       "},\n",
       "\"orientation\":\"x\",\n",
       "\"data\":{\n",
       "\"..middle..\":[0.9907828282828284,0.9899509803921569],\n",
       "\"..lower..\":[0.9890671420083185,0.9877073906485672],\n",
       "\"..upper..\":[0.9932017543859649,0.9932017543859649],\n",
       "\"..ymin..\":[0.9882352941176471,0.9871794871794872],\n",
       "\"..ymax..\":[0.9947368421052631,0.9947368421052631],\n",
       "\"alphabet\":[\"a\",\"b\"],\n",
       "\"coeff\":[NaN,NaN]\n",
       "}\n",
       "}],\n",
       "\"metainfo_list\":[]\n",
       "};\n",
       "           var plotContainer = document.getElementById(\"OWmRmP\");\n",
       "           window.letsPlotCall(function() {{\n",
       "               LetsPlot.buildPlotFromProcessedSpecs(plotSpec, -1, -1, plotContainer);\n",
       "           }});\n",
       "       })();\n",
       "   </script>"
      ],
      "text/plain": [
       "<lets_plot.plot.core.PlotSpec at 0x75b7493e9180>"
      ]
     },
     "execution_count": 5,
     "metadata": {},
     "output_type": "execute_result"
    }
   ],
   "source": [
    "ggplot(data) + geom_boxplot(aes(\"alphabet\", \"coeff\"), orientation=\"x\")"
   ]
  }
 ],
 "metadata": {
  "kernelspec": {
   "display_name": "Python 3 (ipykernel)",
   "language": "python",
   "name": "python3"
  },
  "language_info": {
   "codemirror_mode": {
    "name": "ipython",
    "version": 3
   },
   "file_extension": ".py",
   "mimetype": "text/x-python",
   "name": "python",
   "nbconvert_exporter": "python",
   "pygments_lexer": "ipython3",
   "version": "3.10.14"
  }
 },
 "nbformat": 4,
 "nbformat_minor": 5
}
