{
 "cells": [
  {
   "cell_type": "code",
   "execution_count": 1,
   "metadata": {},
   "outputs": [
    {
     "name": "stdout",
     "output_type": "stream",
     "text": [
      "Requirement already satisfied: fiona in /home/asmirnov/Applications/miniconda3/envs/lets-plot-experiments/lib/python3.10/site-packages (1.10.1)\n",
      "Requirement already satisfied: attrs>=19.2.0 in /home/asmirnov/Applications/miniconda3/envs/lets-plot-experiments/lib/python3.10/site-packages (from fiona) (23.2.0)\n",
      "Requirement already satisfied: certifi in /home/asmirnov/Applications/miniconda3/envs/lets-plot-experiments/lib/python3.10/site-packages (from fiona) (2024.8.30)\n",
      "Requirement already satisfied: click~=8.0 in /home/asmirnov/Applications/miniconda3/envs/lets-plot-experiments/lib/python3.10/site-packages (from fiona) (8.1.7)\n",
      "Requirement already satisfied: click-plugins>=1.0 in /home/asmirnov/Applications/miniconda3/envs/lets-plot-experiments/lib/python3.10/site-packages (from fiona) (1.1.1)\n",
      "Requirement already satisfied: cligj>=0.5 in /home/asmirnov/Applications/miniconda3/envs/lets-plot-experiments/lib/python3.10/site-packages (from fiona) (0.7.2)\n"
     ]
    }
   ],
   "source": [
    "import sys\n",
    "!{sys.executable} -m pip install --upgrade fiona"
   ]
  },
  {
   "cell_type": "code",
   "execution_count": 2,
   "metadata": {},
   "outputs": [],
   "source": [
    "from lets_plot import *\n",
    "import pandas as pd\n",
    "import requests\n",
    "import json\n",
    "from shapely.geometry import Point\n",
    "from shapely.geometry import MultiPolygon, Polygon, LinearRing, Point, mapping\n",
    "import geopandas as gpd\n",
    "import fiona\n"
   ]
  },
  {
   "cell_type": "code",
   "execution_count": 3,
   "metadata": {},
   "outputs": [
    {
     "data": {
      "text/html": [
       "\n",
       "            <div id=\"GkMqJz\"></div>\n",
       "            <script type=\"text/javascript\" data-lets-plot-script=\"library\">\n",
       "                if(!window.letsPlotCallQueue) {\n",
       "                    window.letsPlotCallQueue = [];\n",
       "                }; \n",
       "                window.letsPlotCall = function(f) {\n",
       "                    window.letsPlotCallQueue.push(f);\n",
       "                };\n",
       "                (function() {\n",
       "                    var script = document.createElement(\"script\");\n",
       "                    script.type = \"text/javascript\";\n",
       "                    script.src = \"https://cdn.jsdelivr.net/gh/JetBrains/lets-plot@v4.4.1/js-package/distr/lets-plot.min.js\";\n",
       "                    script.onload = function() {\n",
       "                        window.letsPlotCall = function(f) {f();};\n",
       "                        window.letsPlotCallQueue.forEach(function(f) {f();});\n",
       "                        window.letsPlotCallQueue = [];\n",
       "                        \n",
       "                    };\n",
       "                    script.onerror = function(event) {\n",
       "                        window.letsPlotCall = function(f) {};    // noop\n",
       "                        window.letsPlotCallQueue = [];\n",
       "                        var div = document.createElement(\"div\");\n",
       "                        div.style.color = 'darkred';\n",
       "                        div.textContent = 'Error loading Lets-Plot JS';\n",
       "                        document.getElementById(\"GkMqJz\").appendChild(div);\n",
       "                    };\n",
       "                    var e = document.getElementById(\"GkMqJz\");\n",
       "                    e.appendChild(script);\n",
       "                })()\n",
       "            </script>\n",
       "            "
      ]
     },
     "metadata": {},
     "output_type": "display_data"
    }
   ],
   "source": [
    "LetsPlot.setup_html()"
   ]
  },
  {
   "cell_type": "code",
   "execution_count": 4,
   "metadata": {},
   "outputs": [],
   "source": [
    "votes=dict(state=['California','Nevada','Utah', 'Arizona'],\\\n",
    "           vote=['Clinton','Clinton','Trump','Trump'])"
   ]
  },
  {
   "cell_type": "code",
   "execution_count": 5,
   "metadata": {},
   "outputs": [
    {
     "data": {
      "text/html": [
       "<div>\n",
       "<style scoped>\n",
       "    .dataframe tbody tr th:only-of-type {\n",
       "        vertical-align: middle;\n",
       "    }\n",
       "\n",
       "    .dataframe tbody tr th {\n",
       "        vertical-align: top;\n",
       "    }\n",
       "\n",
       "    .dataframe thead th {\n",
       "        text-align: right;\n",
       "    }\n",
       "</style>\n",
       "<table border=\"1\" class=\"dataframe\">\n",
       "  <thead>\n",
       "    <tr style=\"text-align: right;\">\n",
       "      <th></th>\n",
       "      <th>key</th>\n",
       "      <th>coord</th>\n",
       "    </tr>\n",
       "  </thead>\n",
       "  <tbody>\n",
       "    <tr>\n",
       "      <th>0</th>\n",
       "      <td>California</td>\n",
       "      <td>POINT (-119.99411 37.27734)</td>\n",
       "    </tr>\n",
       "    <tr>\n",
       "      <th>1</th>\n",
       "      <td>Nevada</td>\n",
       "      <td>POINT (-116.66696 38.50308)</td>\n",
       "    </tr>\n",
       "    <tr>\n",
       "      <th>2</th>\n",
       "      <td>Utah</td>\n",
       "      <td>POINT (-111.54916 39.49887)</td>\n",
       "    </tr>\n",
       "    <tr>\n",
       "      <th>3</th>\n",
       "      <td>Arizona</td>\n",
       "      <td>POINT (-111.66859 34.16854)</td>\n",
       "    </tr>\n",
       "  </tbody>\n",
       "</table>\n",
       "</div>"
      ],
      "text/plain": [
       "          key                        coord\n",
       "0  California  POINT (-119.99411 37.27734)\n",
       "1      Nevada  POINT (-116.66696 38.50308)\n",
       "2        Utah  POINT (-111.54916 39.49887)\n",
       "3     Arizona  POINT (-111.66859 34.16854)"
      ]
     },
     "execution_count": 5,
     "metadata": {},
     "output_type": "execute_result"
    }
   ],
   "source": [
    "centroids = gpd.GeoDataFrame(\n",
    "    data={'key': ['California', 'Nevada', 'Utah', 'Arizona'],\n",
    "          'coord': [\n",
    "              Point(-119.99411, 37.27734), \n",
    "              Point(-116.66696, 38.50308),\n",
    "              Point(-111.54916, 39.49887),\n",
    "              Point(-111.66859, 34.16854)]},\n",
    "    geometry='coord')\n",
    "centroids"
   ]
  },
  {
   "cell_type": "code",
   "execution_count": 6,
   "metadata": {},
   "outputs": [],
   "source": [
    "def download_geometry(osm_id, key_value):\n",
    "    response = requests.get('http://polygons.openstreetmap.fr/get_geojson.py?id={0}&params=0'.format(osm_id))\n",
    "    with fiona.BytesCollection(bytes(str.encode(json.dumps(response.json()['geometries'][0])))) as f:\n",
    "        frame = gpd.GeoDataFrame.from_features(f, crs=f.crs)\n",
    "       # frame['geometry'] = frame.simplify(0.1)\n",
    "        frame['key'] = key_value\n",
    "        return frame"
   ]
  },
  {
   "cell_type": "code",
   "execution_count": 7,
   "metadata": {},
   "outputs": [
    {
     "ename": "KeyError",
     "evalue": "'geometries'",
     "output_type": "error",
     "traceback": [
      "\u001b[0;31m---------------------------------------------------------------------------\u001b[0m",
      "\u001b[0;31mKeyError\u001b[0m                                  Traceback (most recent call last)",
      "Cell \u001b[0;32mIn[7], line 1\u001b[0m\n\u001b[0;32m----> 1\u001b[0m nv \u001b[38;5;241m=\u001b[39m \u001b[43mdownload_geometry\u001b[49m\u001b[43m(\u001b[49m\u001b[38;5;241;43m165473\u001b[39;49m\u001b[43m,\u001b[49m\u001b[43m \u001b[49m\u001b[38;5;124;43m'\u001b[39;49m\u001b[38;5;124;43mNevada\u001b[39;49m\u001b[38;5;124;43m'\u001b[39;49m\u001b[43m)\u001b[49m\n\u001b[1;32m      2\u001b[0m ca \u001b[38;5;241m=\u001b[39m download_geometry(\u001b[38;5;241m165475\u001b[39m, \u001b[38;5;124m'\u001b[39m\u001b[38;5;124mCalifornia\u001b[39m\u001b[38;5;124m'\u001b[39m)\n\u001b[1;32m      3\u001b[0m ut \u001b[38;5;241m=\u001b[39m download_geometry(\u001b[38;5;241m161993\u001b[39m, \u001b[38;5;124m'\u001b[39m\u001b[38;5;124mUtah\u001b[39m\u001b[38;5;124m'\u001b[39m)\n",
      "Cell \u001b[0;32mIn[6], line 3\u001b[0m, in \u001b[0;36mdownload_geometry\u001b[0;34m(osm_id, key_value)\u001b[0m\n\u001b[1;32m      1\u001b[0m \u001b[38;5;28;01mdef\u001b[39;00m \u001b[38;5;21mdownload_geometry\u001b[39m(osm_id, key_value):\n\u001b[1;32m      2\u001b[0m     response \u001b[38;5;241m=\u001b[39m requests\u001b[38;5;241m.\u001b[39mget(\u001b[38;5;124m'\u001b[39m\u001b[38;5;124mhttp://polygons.openstreetmap.fr/get_geojson.py?id=\u001b[39m\u001b[38;5;132;01m{0}\u001b[39;00m\u001b[38;5;124m&params=0\u001b[39m\u001b[38;5;124m'\u001b[39m\u001b[38;5;241m.\u001b[39mformat(osm_id))\n\u001b[0;32m----> 3\u001b[0m     \u001b[38;5;28;01mwith\u001b[39;00m fiona\u001b[38;5;241m.\u001b[39mBytesCollection(\u001b[38;5;28mbytes\u001b[39m(\u001b[38;5;28mstr\u001b[39m\u001b[38;5;241m.\u001b[39mencode(json\u001b[38;5;241m.\u001b[39mdumps(\u001b[43mresponse\u001b[49m\u001b[38;5;241;43m.\u001b[39;49m\u001b[43mjson\u001b[49m\u001b[43m(\u001b[49m\u001b[43m)\u001b[49m\u001b[43m[\u001b[49m\u001b[38;5;124;43m'\u001b[39;49m\u001b[38;5;124;43mgeometries\u001b[39;49m\u001b[38;5;124;43m'\u001b[39;49m\u001b[43m]\u001b[49m[\u001b[38;5;241m0\u001b[39m])))) \u001b[38;5;28;01mas\u001b[39;00m f:\n\u001b[1;32m      4\u001b[0m         frame \u001b[38;5;241m=\u001b[39m gpd\u001b[38;5;241m.\u001b[39mGeoDataFrame\u001b[38;5;241m.\u001b[39mfrom_features(f, crs\u001b[38;5;241m=\u001b[39mf\u001b[38;5;241m.\u001b[39mcrs)\n\u001b[1;32m      5\u001b[0m        \u001b[38;5;66;03m# frame['geometry'] = frame.simplify(0.1)\u001b[39;00m\n",
      "\u001b[0;31mKeyError\u001b[0m: 'geometries'"
     ]
    }
   ],
   "source": [
    "nv = download_geometry(165473, 'Nevada')\n",
    "ca = download_geometry(165475, 'California')\n",
    "ut = download_geometry(161993, 'Utah')\n",
    "ar = download_geometry(162018, 'Arizona')"
   ]
  },
  {
   "cell_type": "code",
   "execution_count": null,
   "metadata": {},
   "outputs": [],
   "source": [
    "boundaries = ar\n",
    "boundaries = pd.concat([boundaries, ca], ignore_index=True)\n",
    "boundaries = pd.concat([boundaries, ut], ignore_index=True)\n",
    "boundaries = pd.concat([boundaries, nv], ignore_index=True)\n",
    "boundaries['geometry'] = boundaries.simplify(0.1) \n",
    "boundaries"
   ]
  },
  {
   "cell_type": "code",
   "execution_count": null,
   "metadata": {},
   "outputs": [],
   "source": [
    "polygon = gpd.GeoDataFrame(\n",
    "    data={'key': ['Polygon'],\n",
    "          'coord': [Polygon(LinearRing([(-123, 34), (-120, 35), (-118, 32)]))]},\n",
    "    geometry='coord')\n",
    "polygon\n"
   ]
  },
  {
   "cell_type": "markdown",
   "metadata": {},
   "source": [
    "### GeoDataFrame in the map parameter using map_id\n",
    "The data specified in the *data* and *map* parameters is merged by a key value from the *map_id* aesthetic. "
   ]
  },
  {
   "cell_type": "code",
   "execution_count": null,
   "metadata": {},
   "outputs": [],
   "source": [
    "ggplot() + geom_polygon(aes(fill='vote'), data = votes, map = boundaries, map_join=('state', 'key'), color='gray', alpha=0.4)"
   ]
  },
  {
   "cell_type": "markdown",
   "metadata": {},
   "source": [
    "### GeoDataFrame in data parameter\n",
    "GeoDataFrame is supported natively in the *data* parameter. It works without *map_id.*  \n",
    "Geometries are automatically taken from GeoDataFrame."
   ]
  },
  {
   "cell_type": "code",
   "execution_count": null,
   "metadata": {},
   "outputs": [],
   "source": [
    "p = ggplot() \n",
    "p += geom_polygon(aes(fill='key'), boundaries, alpha=1) + scale_fill_hue(h = (0, 90))\n",
    "p += geom_path(map=centroids, color='red', linetype=2, size =1)\n",
    "p += geom_point(aes(fill='key'), data = centroids, color='gray', size = 10)\n",
    "p += geom_rect(aes(fill='key'), polygon, color='gray', size=2)\n",
    "p"
   ]
  },
  {
   "cell_type": "markdown",
   "metadata": {},
   "source": [
    "#### Combining layers from the data and map parameters"
   ]
  },
  {
   "cell_type": "code",
   "execution_count": null,
   "metadata": {},
   "outputs": [],
   "source": [
    "ggplot() + geom_map(aes(fill='key'), boundaries,  alpha=0.4) + geom_point(aes(color='vote'), votes, map=centroids, map_join=('state', 'key'), size=10)+ scale_fill_hue()"
   ]
  },
  {
   "cell_type": "code",
   "execution_count": null,
   "metadata": {},
   "outputs": [],
   "source": []
  }
 ],
 "metadata": {
  "kernelspec": {
   "display_name": "Python 3 (ipykernel)",
   "language": "python",
   "name": "python3"
  },
  "language_info": {
   "codemirror_mode": {
    "name": "ipython",
    "version": 3
   },
   "file_extension": ".py",
   "mimetype": "text/x-python",
   "name": "python",
   "nbconvert_exporter": "python",
   "pygments_lexer": "ipython3",
   "version": "3.10.14"
  }
 },
 "nbformat": 4,
 "nbformat_minor": 4
}
