{
 "cells": [
  {
   "cell_type": "code",
   "execution_count": null,
   "id": "c9e0358c-bddf-4994-acc2-9d9fc20376b2",
   "metadata": {},
   "outputs": [],
   "source": [
    "from lets_plot import *\n",
    "from lets_plot.geo_data import *"
   ]
  },
  {
   "cell_type": "code",
   "execution_count": null,
   "id": "80dd0f7e-7598-4b05-b88e-b69d040f9c2f",
   "metadata": {},
   "outputs": [],
   "source": [
    "LetsPlot.setup_html()"
   ]
  },
  {
   "cell_type": "code",
   "execution_count": null,
   "id": "35152877-dd92-40d0-ac8b-4fa02cd61c8d",
   "metadata": {},
   "outputs": [],
   "source": [
    "def get_data(country, level):\n",
    "    try:\n",
    "        gdf = geocode(level=level).scope(country).get_boundaries()\n",
    "        if gdf.empty:\n",
    "            raise Exception(\"There is no data for the '{0}' level\".format(level))\n",
    "        return gdf\n",
    "    except Exception as e:\n",
    "        print(\"{0}\\n  {1}\".format(country, e))\n",
    "        return None"
   ]
  },
  {
   "cell_type": "code",
   "execution_count": null,
   "id": "a8189fca-3d7c-4ba8-9953-65003a8e7909",
   "metadata": {},
   "outputs": [],
   "source": [
    "def get_plot(country, gdf, level):\n",
    "    return ggplot() + geom_map(data=gdf) + ggtitle(country, \"Level: {0}\".format(level))"
   ]
  },
  {
   "cell_type": "code",
   "execution_count": null,
   "id": "ab097d99-4493-47af-9fb3-787ea4148e29",
   "metadata": {},
   "outputs": [],
   "source": [
    "countries_df = geocode_countries().get_geocodes()"
   ]
  },
  {
   "cell_type": "code",
   "execution_count": null,
   "id": "94fa64f6-770b-4bb9-9529-012cd3d34356",
   "metadata": {},
   "outputs": [],
   "source": [
    "states_dict = {country: get_data(country, 'state') for country in countries_df[\"found name\"]}\n",
    "states_plots = [get_plot(country, states, 'state') for country, states in states_dict.items() if states is not None]"
   ]
  },
  {
   "cell_type": "code",
   "execution_count": null,
   "id": "61616721-ccc3-4ba3-9f58-91c0543df35c",
   "metadata": {},
   "outputs": [],
   "source": [
    "gggrid(states_plots, ncol=4)"
   ]
  },
  {
   "cell_type": "code",
   "execution_count": null,
   "id": "d852302e-40f7-498a-b482-db42e360b542",
   "metadata": {},
   "outputs": [],
   "source": [
    "counties_dict = {country: get_data(country, 'county') for country in countries_df[\"found name\"]}\n",
    "counties_plots = [get_plot(country, counties, 'county') for country, counties in counties_dict.items() if counties is not None]"
   ]
  },
  {
   "cell_type": "code",
   "execution_count": null,
   "id": "907eac42-bcff-4f92-b0c9-30813a588219",
   "metadata": {},
   "outputs": [],
   "source": [
    "gggrid(counties_plots, ncol=4)"
   ]
  }
 ],
 "metadata": {
  "kernelspec": {
   "display_name": "Python 3 (ipykernel)",
   "language": "python",
   "name": "python3"
  },
  "language_info": {
   "codemirror_mode": {
    "name": "ipython",
    "version": 3
   },
   "file_extension": ".py",
   "mimetype": "text/x-python",
   "name": "python",
   "nbconvert_exporter": "python",
   "pygments_lexer": "ipython3",
   "version": "3.10.14"
  }
 },
 "nbformat": 4,
 "nbformat_minor": 5
}
