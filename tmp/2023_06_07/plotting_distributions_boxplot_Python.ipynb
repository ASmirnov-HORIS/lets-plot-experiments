{
 "cells": [
  {
   "cell_type": "code",
   "execution_count": 1,
   "id": "2fc5faa9",
   "metadata": {},
   "outputs": [
    {
     "data": {
      "text/html": [
       "\n",
       "            <div id=\"QYbIJa\"></div>\n",
       "            <script type=\"text/javascript\" data-lets-plot-script=\"library\">\n",
       "                if(!window.letsPlotCallQueue) {\n",
       "                    window.letsPlotCallQueue = [];\n",
       "                }; \n",
       "                window.letsPlotCall = function(f) {\n",
       "                    window.letsPlotCallQueue.push(f);\n",
       "                };\n",
       "                (function() {\n",
       "                    var script = document.createElement(\"script\");\n",
       "                    script.type = \"text/javascript\";\n",
       "                    script.src = \"https://cdn.jsdelivr.net/gh/JetBrains/lets-plot@v3.2.0/js-package/distr/lets-plot.min.js\";\n",
       "                    script.onload = function() {\n",
       "                        window.letsPlotCall = function(f) {f();};\n",
       "                        window.letsPlotCallQueue.forEach(function(f) {f();});\n",
       "                        window.letsPlotCallQueue = [];\n",
       "                        \n",
       "                    };\n",
       "                    script.onerror = function(event) {\n",
       "                        window.letsPlotCall = function(f) {};    // noop\n",
       "                        window.letsPlotCallQueue = [];\n",
       "                        var div = document.createElement(\"div\");\n",
       "                        div.style.color = 'darkred';\n",
       "                        div.textContent = 'Error loading Lets-Plot JS';\n",
       "                        document.getElementById(\"QYbIJa\").appendChild(div);\n",
       "                    };\n",
       "                    var e = document.getElementById(\"QYbIJa\");\n",
       "                    e.appendChild(script);\n",
       "                })()\n",
       "            </script>\n",
       "            "
      ]
     },
     "metadata": {},
     "output_type": "display_data"
    }
   ],
   "source": [
    "import numpy as np\n",
    "import pandas as pd\n",
    "\n",
    "from lets_plot import *\n",
    "LetsPlot.setup_html()"
   ]
  },
  {
   "cell_type": "code",
   "execution_count": 2,
   "id": "81778bb2",
   "metadata": {},
   "outputs": [],
   "source": [
    "def get_data(n, seed):\n",
    "    np.random.seed(seed)\n",
    "    return pd.DataFrame({\n",
    "        'cond': [\"A\"] * n + [\"B\"] * n,\n",
    "        'rating': np.concatenate((np.random.normal(size=n), np.random.normal(loc=.8, size=n)), axis=0),\n",
    "    })"
   ]
  },
  {
   "cell_type": "code",
   "execution_count": 3,
   "id": "8d3de59a",
   "metadata": {},
   "outputs": [
    {
     "data": {
      "text/html": [
       "<div>\n",
       "<style scoped>\n",
       "    .dataframe tbody tr th:only-of-type {\n",
       "        vertical-align: middle;\n",
       "    }\n",
       "\n",
       "    .dataframe tbody tr th {\n",
       "        vertical-align: top;\n",
       "    }\n",
       "\n",
       "    .dataframe thead th {\n",
       "        text-align: right;\n",
       "    }\n",
       "</style>\n",
       "<table border=\"1\" class=\"dataframe\">\n",
       "  <thead>\n",
       "    <tr style=\"text-align: right;\">\n",
       "      <th></th>\n",
       "      <th>cond</th>\n",
       "      <th>rating</th>\n",
       "    </tr>\n",
       "  </thead>\n",
       "  <tbody>\n",
       "    <tr>\n",
       "      <th>0</th>\n",
       "      <td>A</td>\n",
       "      <td>0.471435</td>\n",
       "    </tr>\n",
       "    <tr>\n",
       "      <th>1</th>\n",
       "      <td>A</td>\n",
       "      <td>-1.190976</td>\n",
       "    </tr>\n",
       "    <tr>\n",
       "      <th>2</th>\n",
       "      <td>A</td>\n",
       "      <td>1.432707</td>\n",
       "    </tr>\n",
       "    <tr>\n",
       "      <th>3</th>\n",
       "      <td>A</td>\n",
       "      <td>-0.312652</td>\n",
       "    </tr>\n",
       "    <tr>\n",
       "      <th>4</th>\n",
       "      <td>A</td>\n",
       "      <td>-0.720589</td>\n",
       "    </tr>\n",
       "  </tbody>\n",
       "</table>\n",
       "</div>"
      ],
      "text/plain": [
       "  cond    rating\n",
       "0    A  0.471435\n",
       "1    A -1.190976\n",
       "2    A  1.432707\n",
       "3    A -0.312652\n",
       "4    A -0.720589"
      ]
     },
     "execution_count": 3,
     "metadata": {},
     "output_type": "execute_result"
    }
   ],
   "source": [
    "dat = get_data(200, 1234)\n",
    "dat.head()"
   ]
  },
  {
   "cell_type": "code",
   "execution_count": 4,
   "id": "147e3273",
   "metadata": {},
   "outputs": [
    {
     "data": {
      "text/html": [
       "   <div id=\"4ejHOL\"></div>\n",
       "   <script type=\"text/javascript\" data-lets-plot-script=\"plot\">\n",
       "       (function() {\n",
       "           var plotSpec={\n",
       "\"data\":{\n",
       "},\n",
       "\"mapping\":{\n",
       "\"x\":\"cond\",\n",
       "\"y\":\"rating\"\n",
       "},\n",
       "\"data_meta\":{\n",
       "},\n",
       "\"kind\":\"plot\",\n",
       "\"scales\":[],\n",
       "\"layers\":[{\n",
       "\"geom\":\"boxplot\",\n",
       "\"mapping\":{\n",
       "},\n",
       "\"data_meta\":{\n",
       "},\n",
       "\"data\":{\n",
       "\"..middle..\":[NaN,0.06163561158147375,NaN,NaN,NaN,0.9323831647100185],\n",
       "\"..lower..\":[NaN,-0.5923744884930873,NaN,NaN,NaN,0.3063857353282048],\n",
       "\"..upper..\":[NaN,0.6975055092971845,NaN,NaN,NaN,1.5000421278458824],\n",
       "\"..ymin..\":[NaN,-2.4004536338122957,NaN,NaN,NaN,-1.2786178937021753],\n",
       "\"..ymax..\":[NaN,2.390960515463033,NaN,NaN,NaN,3.2814584228756534],\n",
       "\"cond\":[\"A\",\"A\",\"B\",\"B\",\"B\",\"B\"],\n",
       "\"rating\":[-3.5635166606247353,NaN,3.5638440798495665,-1.597503976138816,3.437791210703864,NaN]\n",
       "}\n",
       "}],\n",
       "\"metainfo_list\":[]\n",
       "};\n",
       "           var plotContainer = document.getElementById(\"4ejHOL\");\n",
       "           window.letsPlotCall(function() {{\n",
       "               LetsPlot.buildPlotFromProcessedSpecs(plotSpec, -1, -1, plotContainer);\n",
       "           }});\n",
       "       })();    \n",
       "   </script>"
      ],
      "text/plain": [
       "<lets_plot.plot.core.PlotSpec at 0x7fb47892ec20>"
      ]
     },
     "execution_count": 4,
     "metadata": {},
     "output_type": "execute_result"
    }
   ],
   "source": [
    "# A basic box plot\n",
    "ggplot(dat, aes(x=\"cond\", y=\"rating\")) + geom_boxplot()"
   ]
  },
  {
   "cell_type": "code",
   "execution_count": 5,
   "id": "82379472",
   "metadata": {},
   "outputs": [
    {
     "data": {
      "text/html": [
       "   <div id=\"vVGn8u\"></div>\n",
       "   <script type=\"text/javascript\" data-lets-plot-script=\"plot\">\n",
       "       (function() {\n",
       "           var plotSpec={\n",
       "\"data\":{\n",
       "},\n",
       "\"mapping\":{\n",
       "\"x\":\"cond\",\n",
       "\"y\":\"rating\",\n",
       "\"fill\":\"cond\"\n",
       "},\n",
       "\"data_meta\":{\n",
       "},\n",
       "\"kind\":\"plot\",\n",
       "\"scales\":[],\n",
       "\"layers\":[{\n",
       "\"geom\":\"boxplot\",\n",
       "\"mapping\":{\n",
       "},\n",
       "\"data_meta\":{\n",
       "},\n",
       "\"data\":{\n",
       "\"..middle..\":[NaN,0.06163561158147375,NaN,NaN,NaN,0.9323831647100185],\n",
       "\"..lower..\":[NaN,-0.5923744884930873,NaN,NaN,NaN,0.3063857353282048],\n",
       "\"..upper..\":[NaN,0.6975055092971845,NaN,NaN,NaN,1.5000421278458824],\n",
       "\"..ymin..\":[NaN,-2.4004536338122957,NaN,NaN,NaN,-1.2786178937021753],\n",
       "\"..ymax..\":[NaN,2.390960515463033,NaN,NaN,NaN,3.2814584228756534],\n",
       "\"cond\":[\"A\",\"A\",\"B\",\"B\",\"B\",\"B\"],\n",
       "\"rating\":[-3.5635166606247353,NaN,3.5638440798495665,-1.597503976138816,3.437791210703864,NaN]\n",
       "}\n",
       "}],\n",
       "\"metainfo_list\":[]\n",
       "};\n",
       "           var plotContainer = document.getElementById(\"vVGn8u\");\n",
       "           window.letsPlotCall(function() {{\n",
       "               LetsPlot.buildPlotFromProcessedSpecs(plotSpec, -1, -1, plotContainer);\n",
       "           }});\n",
       "       })();    \n",
       "   </script>"
      ],
      "text/plain": [
       "<lets_plot.plot.core.PlotSpec at 0x7fb47892f910>"
      ]
     },
     "execution_count": 5,
     "metadata": {},
     "output_type": "execute_result"
    }
   ],
   "source": [
    "# A basic box with the conditions colored\n",
    "ggplot(dat, aes(x=\"cond\", y=\"rating\", fill=\"cond\")) + geom_boxplot()"
   ]
  },
  {
   "cell_type": "code",
   "execution_count": 6,
   "id": "522fa95e",
   "metadata": {},
   "outputs": [
    {
     "data": {
      "text/html": [
       "   <div id=\"tUze54\"></div>\n",
       "   <script type=\"text/javascript\" data-lets-plot-script=\"plot\">\n",
       "       (function() {\n",
       "           var plotSpec={\n",
       "\"data\":{\n",
       "},\n",
       "\"mapping\":{\n",
       "\"x\":\"cond\",\n",
       "\"y\":\"rating\",\n",
       "\"fill\":\"cond\"\n",
       "},\n",
       "\"data_meta\":{\n",
       "},\n",
       "\"guides\":{\n",
       "\"fill\":\"none\"\n",
       "},\n",
       "\"kind\":\"plot\",\n",
       "\"scales\":[],\n",
       "\"layers\":[{\n",
       "\"geom\":\"boxplot\",\n",
       "\"mapping\":{\n",
       "},\n",
       "\"data_meta\":{\n",
       "},\n",
       "\"data\":{\n",
       "\"..middle..\":[NaN,0.06163561158147375,NaN,NaN,NaN,0.9323831647100185],\n",
       "\"..lower..\":[NaN,-0.5923744884930873,NaN,NaN,NaN,0.3063857353282048],\n",
       "\"..upper..\":[NaN,0.6975055092971845,NaN,NaN,NaN,1.5000421278458824],\n",
       "\"..ymin..\":[NaN,-2.4004536338122957,NaN,NaN,NaN,-1.2786178937021753],\n",
       "\"..ymax..\":[NaN,2.390960515463033,NaN,NaN,NaN,3.2814584228756534],\n",
       "\"cond\":[\"A\",\"A\",\"B\",\"B\",\"B\",\"B\"],\n",
       "\"rating\":[-3.5635166606247353,NaN,3.5638440798495665,-1.597503976138816,3.437791210703864,NaN]\n",
       "}\n",
       "}],\n",
       "\"metainfo_list\":[]\n",
       "};\n",
       "           var plotContainer = document.getElementById(\"tUze54\");\n",
       "           window.letsPlotCall(function() {{\n",
       "               LetsPlot.buildPlotFromProcessedSpecs(plotSpec, -1, -1, plotContainer);\n",
       "           }});\n",
       "       })();    \n",
       "   </script>"
      ],
      "text/plain": [
       "<lets_plot.plot.core.PlotSpec at 0x7fb4766a0790>"
      ]
     },
     "execution_count": 6,
     "metadata": {},
     "output_type": "execute_result"
    }
   ],
   "source": [
    "# The above adds a redundant legend. With the legend removed:\n",
    "ggplot(dat, aes(x=\"cond\", y=\"rating\", fill=\"cond\")) + geom_boxplot() + \\\n",
    "    guides(fill=\"none\")"
   ]
  },
  {
   "cell_type": "code",
   "execution_count": 7,
   "id": "d6267ebf",
   "metadata": {},
   "outputs": [
    {
     "data": {
      "text/html": [
       "   <div id=\"lmJywP\"></div>\n",
       "   <script type=\"text/javascript\" data-lets-plot-script=\"plot\">\n",
       "       (function() {\n",
       "           var plotSpec={\n",
       "\"data\":{\n",
       "},\n",
       "\"mapping\":{\n",
       "\"x\":\"cond\",\n",
       "\"y\":\"rating\",\n",
       "\"fill\":\"cond\"\n",
       "},\n",
       "\"data_meta\":{\n",
       "},\n",
       "\"guides\":{\n",
       "\"fill\":\"none\"\n",
       "},\n",
       "\"coord\":{\n",
       "\"name\":\"flip\",\n",
       "\"flip\":true\n",
       "},\n",
       "\"kind\":\"plot\",\n",
       "\"scales\":[],\n",
       "\"layers\":[{\n",
       "\"geom\":\"boxplot\",\n",
       "\"mapping\":{\n",
       "},\n",
       "\"data_meta\":{\n",
       "},\n",
       "\"data\":{\n",
       "\"..middle..\":[NaN,0.06163561158147375,NaN,NaN,NaN,0.9323831647100185],\n",
       "\"..lower..\":[NaN,-0.5923744884930873,NaN,NaN,NaN,0.3063857353282048],\n",
       "\"..upper..\":[NaN,0.6975055092971845,NaN,NaN,NaN,1.5000421278458824],\n",
       "\"..ymin..\":[NaN,-2.4004536338122957,NaN,NaN,NaN,-1.2786178937021753],\n",
       "\"..ymax..\":[NaN,2.390960515463033,NaN,NaN,NaN,3.2814584228756534],\n",
       "\"cond\":[\"A\",\"A\",\"B\",\"B\",\"B\",\"B\"],\n",
       "\"rating\":[-3.5635166606247353,NaN,3.5638440798495665,-1.597503976138816,3.437791210703864,NaN]\n",
       "}\n",
       "}],\n",
       "\"metainfo_list\":[]\n",
       "};\n",
       "           var plotContainer = document.getElementById(\"lmJywP\");\n",
       "           window.letsPlotCall(function() {{\n",
       "               LetsPlot.buildPlotFromProcessedSpecs(plotSpec, -1, -1, plotContainer);\n",
       "           }});\n",
       "       })();    \n",
       "   </script>"
      ],
      "text/plain": [
       "<lets_plot.plot.core.PlotSpec at 0x7fb4766a1000>"
      ]
     },
     "execution_count": 7,
     "metadata": {},
     "output_type": "execute_result"
    }
   ],
   "source": [
    "# The above adds a redundant legend. With the legend removed:\n",
    "ggplot(dat, aes(x=\"cond\", y=\"rating\", fill=\"cond\")) + geom_boxplot() + \\\n",
    "    guides(fill=\"none\") + coord_flip()"
   ]
  }
 ],
 "metadata": {
  "kernelspec": {
   "display_name": "Python 3 (ipykernel)",
   "language": "python",
   "name": "python3"
  },
  "language_info": {
   "codemirror_mode": {
    "name": "ipython",
    "version": 3
   },
   "file_extension": ".py",
   "mimetype": "text/x-python",
   "name": "python",
   "nbconvert_exporter": "python",
   "pygments_lexer": "ipython3",
   "version": "3.10.8"
  }
 },
 "nbformat": 4,
 "nbformat_minor": 5
}
