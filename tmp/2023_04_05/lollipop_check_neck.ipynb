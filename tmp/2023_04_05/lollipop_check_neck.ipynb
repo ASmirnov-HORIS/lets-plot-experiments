{
 "cells": [
  {
   "cell_type": "code",
   "execution_count": null,
   "id": "24dc1418",
   "metadata": {},
   "outputs": [],
   "source": [
    "from lets_plot import *\n",
    "LetsPlot.setup_html()"
   ]
  },
  {
   "cell_type": "code",
   "execution_count": null,
   "id": "4d8eac68",
   "metadata": {},
   "outputs": [],
   "source": [
    "def dump_plot(plot):\n",
    "    import json\n",
    "    from lets_plot._type_utils import standardize_dict\n",
    "    \n",
    "    plot_dict = standardize_dict(plot.as_dict())\n",
    "    plot_json = json.dumps(plot_dict, indent=2)\n",
    "    print(plot_json)\n",
    "\n",
    "def plot(size=8, stroke=4, shapes=list(range(26)), alpha=.5, dy=2, width=1000, height=200, dxlim=.5, dump=False):\n",
    "    data = {\n",
    "        'x': list(range(len(shapes))),\n",
    "        'y': [dy] * len(shapes),\n",
    "        'shape': shapes,\n",
    "    }\n",
    "    p = ggplot(data, aes('x', 'y')) + \\\n",
    "        geom_lollipop(aes(shape='shape'), \\\n",
    "                      size=size, stroke=stroke, alpha=alpha, \\\n",
    "                      show_legend=False) + \\\n",
    "        scale_shape_identity() + \\\n",
    "        xlim(0 - dxlim, len(shapes) - 1 + dxlim) + \\\n",
    "        ggsize(width, height)\n",
    "    if dump:\n",
    "        dump_plot(p)\n",
    "    return p"
   ]
  },
  {
   "cell_type": "code",
   "execution_count": null,
   "id": "6c886900",
   "metadata": {
    "scrolled": false
   },
   "outputs": [],
   "source": [
    "plot()"
   ]
  },
  {
   "cell_type": "code",
   "execution_count": null,
   "id": "6620eba7",
   "metadata": {},
   "outputs": [],
   "source": [
    "plot(size=20, stroke=20, shapes=[3, 4, 8], width=600)"
   ]
  }
 ],
 "metadata": {
  "kernelspec": {
   "display_name": "Python 3 (ipykernel)",
   "language": "python",
   "name": "python3"
  },
  "language_info": {
   "codemirror_mode": {
    "name": "ipython",
    "version": 3
   },
   "file_extension": ".py",
   "mimetype": "text/x-python",
   "name": "python",
   "nbconvert_exporter": "python",
   "pygments_lexer": "ipython3",
   "version": "3.8.16"
  }
 },
 "nbformat": 4,
 "nbformat_minor": 5
}
