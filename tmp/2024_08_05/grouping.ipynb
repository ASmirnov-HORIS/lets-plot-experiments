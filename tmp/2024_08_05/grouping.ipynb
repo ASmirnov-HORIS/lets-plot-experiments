{
 "cells": [
  {
   "cell_type": "code",
   "execution_count": 1,
   "id": "5ad6cb92-eb66-463a-9120-a5f54342d64d",
   "metadata": {},
   "outputs": [],
   "source": [
    "from lets_plot import *\n",
    "from lets_plot.bistro import *"
   ]
  },
  {
   "cell_type": "code",
   "execution_count": 2,
   "id": "d78b53e0-1337-49ed-b363-fb336c6d1acb",
   "metadata": {},
   "outputs": [
    {
     "data": {
      "text/html": [
       "\n",
       "            <div id=\"P5mRWO\"></div>\n",
       "            <script type=\"text/javascript\" data-lets-plot-script=\"library\">\n",
       "                if(!window.letsPlotCallQueue) {\n",
       "                    window.letsPlotCallQueue = [];\n",
       "                }; \n",
       "                window.letsPlotCall = function(f) {\n",
       "                    window.letsPlotCallQueue.push(f);\n",
       "                };\n",
       "                (function() {\n",
       "                    var script = document.createElement(\"script\");\n",
       "                    script.type = \"text/javascript\";\n",
       "                    script.src = \"https://cdn.jsdelivr.net/gh/JetBrains/lets-plot@v4.4.0/js-package/distr/lets-plot.min.js\";\n",
       "                    script.onload = function() {\n",
       "                        window.letsPlotCall = function(f) {f();};\n",
       "                        window.letsPlotCallQueue.forEach(function(f) {f();});\n",
       "                        window.letsPlotCallQueue = [];\n",
       "                        \n",
       "                    };\n",
       "                    script.onerror = function(event) {\n",
       "                        window.letsPlotCall = function(f) {};    // noop\n",
       "                        window.letsPlotCallQueue = [];\n",
       "                        var div = document.createElement(\"div\");\n",
       "                        div.style.color = 'darkred';\n",
       "                        div.textContent = 'Error loading Lets-Plot JS';\n",
       "                        document.getElementById(\"P5mRWO\").appendChild(div);\n",
       "                    };\n",
       "                    var e = document.getElementById(\"P5mRWO\");\n",
       "                    e.appendChild(script);\n",
       "                })()\n",
       "            </script>\n",
       "            "
      ]
     },
     "metadata": {},
     "output_type": "display_data"
    }
   ],
   "source": [
    "LetsPlot.setup_html()"
   ]
  },
  {
   "cell_type": "code",
   "execution_count": 3,
   "id": "8e97d038-d4ea-4140-9fd6-eaa84ab73883",
   "metadata": {},
   "outputs": [],
   "source": [
    "data = {\n",
    "    'cat': ['A', 'B', 'C', 'A', 'B', 'C'],\n",
    "    'val': [2, 3, -1, 1, -2, 4],\n",
    "    'g': ['one', 'one', 'one', 'two', 'two', 'two'],\n",
    "}"
   ]
  },
  {
   "cell_type": "code",
   "execution_count": 7,
   "id": "81a3480b-83c6-4f84-bd0e-0d93441fe988",
   "metadata": {},
   "outputs": [
    {
     "name": "stdout",
     "output_type": "stream",
     "text": [
      "ERR [SpecTransformBackendUtil] : Internal error: NoSuchElementException : Key [] is missing in the map.\n"
     ]
    },
    {
     "data": {
      "text/html": [
       "   <div id=\"fIcIzW\"></div>\n",
       "   <script type=\"text/javascript\" data-lets-plot-script=\"plot\">\n",
       "       (function() {\n",
       "           var plotSpec={\n",
       "\"__error_message\":\"Internal error: NoSuchElementException : Key [] is missing in the map.\"\n",
       "};\n",
       "           var plotContainer = document.getElementById(\"fIcIzW\");\n",
       "           window.letsPlotCall(function() {{\n",
       "               LetsPlot.buildPlotFromProcessedSpecs(plotSpec, -1, -1, plotContainer);\n",
       "           }});\n",
       "       })();\n",
       "   </script>"
      ],
      "text/plain": [
       "<lets_plot.plot.core.PlotSpec at 0x7fdad88716f0>"
      ]
     },
     "execution_count": 7,
     "metadata": {},
     "output_type": "execute_result"
    }
   ],
   "source": [
    "waterfall_plot(data, 'cat', 'val', group='g') + facet_grid(x='g')"
   ]
  },
  {
   "cell_type": "code",
   "execution_count": 8,
   "id": "0bfc6b1d-ffd6-4659-bba3-8e337cb0c499",
   "metadata": {},
   "outputs": [
    {
     "data": {
      "text/html": [
       "   <div id=\"u3bgpl\"></div>\n",
       "   <script type=\"text/javascript\" data-lets-plot-script=\"plot\">\n",
       "       (function() {\n",
       "           var plotSpec={\n",
       "\"data\":{\n",
       "\"g\":[\"one\",\"one\",\"one\",\"two\",\"two\",\"two\"]\n",
       "},\n",
       "\"facet\":{\n",
       "\"name\":\"wrap\",\n",
       "\"facets\":\"g\",\n",
       "\"order\":1.0,\n",
       "\"dir\":\"h\"\n",
       "},\n",
       "\"kind\":\"plot\",\n",
       "\"scales\":[{\n",
       "\"aesthetic\":\"x\",\n",
       "\"name\":\"cat\",\n",
       "\"breaks\":[0.0,1.0,2.0,3.0,4.0,5.0,6.0,7.0],\n",
       "\"labels\":[\"A\",\"B\",\"C\",\"Total\",\"A\",\"B\",\"C\",\"Total\"]\n",
       "},{\n",
       "\"aesthetic\":\"y\",\n",
       "\"name\":\"val\"\n",
       "},{\n",
       "\"aesthetic\":\"color\",\n",
       "\"name\":\"Flow type\",\n",
       "\"breaks\":[\"Increase\",\"Decrease\",\"Total\"],\n",
       "\"values\":[\"#4daf4a\",\"#e41a1c\",\"#377eb8\"]\n",
       "},{\n",
       "\"aesthetic\":\"fill\",\n",
       "\"name\":\"Flow type\",\n",
       "\"breaks\":[\"Increase\",\"Decrease\",\"Total\"],\n",
       "\"values\":[\"#4daf4a\",\"#e41a1c\",\"#377eb8\"]\n",
       "}],\n",
       "\"layers\":[{\n",
       "\"geom\":\"spoke\",\n",
       "\"data\":{\n",
       "\"..x..\":[0.0,1.0,2.0,3.0,4.0,5.0,6.0,7.0],\n",
       "\"..y..\":[2.0,5.0,4.0,4.0,1.0,-1.0,3.0,3.0],\n",
       "\"..radius..\":[0.09999999999999998,0.09999999999999998,0.09999999999999998,0.0,0.09999999999999998,0.09999999999999998,0.09999999999999998,0.0]\n",
       "},\n",
       "\"mapping\":{\n",
       "\"x\":\"..x..\",\n",
       "\"y\":\"..y..\",\n",
       "\"radius\":\"..radius..\"\n",
       "},\n",
       "\"angle\":0.0,\n",
       "\"position\":{\n",
       "\"name\":\"nudge\",\n",
       "\"x\":0.45\n",
       "}\n",
       "},{\n",
       "\"geom\":\"crossbar\",\n",
       "\"data\":{\n",
       "\"..x..\":[0.0,1.0,2.0,3.0,4.0,5.0,6.0,7.0],\n",
       "\"..ymin..\":[0.0,2.0,4.0,null,0.0,-1.0,-1.0,null],\n",
       "\"..ymax..\":[2.0,5.0,5.0,null,1.0,1.0,3.0,null],\n",
       "\"..flow_type..\":[\"Increase\",\"Increase\",\"Decrease\",\"Total\",\"Increase\",\"Decrease\",\"Increase\",\"Total\"],\n",
       "\"..dy..\":[2.0,3.0,-1.0,4.0,1.0,-2.0,4.0,3.0]\n",
       "},\n",
       "\"mapping\":{\n",
       "\"x\":\"..x..\",\n",
       "\"ymin\":\"..ymin..\",\n",
       "\"ymax\":\"..ymax..\",\n",
       "\"fill\":\"..flow_type..\"\n",
       "},\n",
       "\"color\":\"black\",\n",
       "\"size\":0.0,\n",
       "\"linetype\":1,\n",
       "\"width\":0.9,\n",
       "\"show_legend\":false,\n",
       "\"tooltips\":{\n",
       "\"lines\":[\"@..dy..\"],\n",
       "\"formats\":[{\n",
       "\"field\":\"..dy..\",\n",
       "\"format\":\".2~f\"\n",
       "}]\n",
       "}\n",
       "},{\n",
       "\"geom\":\"crossbar\",\n",
       "\"data\":{\n",
       "\"..x..\":[0.0,1.0,2.0,3.0,4.0,5.0,6.0,7.0],\n",
       "\"..ymin..\":[null,null,null,0.0,null,null,null,0.0],\n",
       "\"..ymax..\":[null,null,null,4.0,null,null,null,3.0],\n",
       "\"..flow_type..\":[\"Increase\",\"Increase\",\"Decrease\",\"Total\",\"Increase\",\"Decrease\",\"Increase\",\"Total\"],\n",
       "\"..value..\":[2.0,5.0,4.0,4.0,1.0,-1.0,3.0,3.0]\n",
       "},\n",
       "\"mapping\":{\n",
       "\"x\":\"..x..\",\n",
       "\"ymin\":\"..ymin..\",\n",
       "\"ymax\":\"..ymax..\",\n",
       "\"fill\":\"..flow_type..\"\n",
       "},\n",
       "\"color\":\"black\",\n",
       "\"size\":0.0,\n",
       "\"linetype\":1,\n",
       "\"width\":0.9,\n",
       "\"show_legend\":false,\n",
       "\"tooltips\":{\n",
       "\"disable_splitting\":true,\n",
       "\"lines\":[\"@..value..\"],\n",
       "\"formats\":[{\n",
       "\"field\":\"..value..\",\n",
       "\"format\":\".2~f\"\n",
       "}]\n",
       "}\n",
       "},{\n",
       "\"geom\":\"text\",\n",
       "\"data\":{\n",
       "\"..x..\":[0.0,1.0,2.0,3.0,4.0,5.0,6.0,7.0],\n",
       "\"..y..\":[1.0,3.5,4.5,2.0,0.5,0.0,1.0,1.5],\n",
       "\"..label..\":[2.0,3.0,-1.0,4.0,1.0,-2.0,4.0,3.0]\n",
       "},\n",
       "\"mapping\":{\n",
       "\"x\":\"..x..\",\n",
       "\"y\":\"..y..\",\n",
       "\"label\":\"..label..\"\n",
       "},\n",
       "\"color\":\"white\",\n",
       "\"show_legend\":false,\n",
       "\"label_format\":\".2~f\"\n",
       "}],\n",
       "\"metainfo_list\":[],\n",
       "\"theme\":{\n",
       "\"axis_tooltip\":\"blank\"\n",
       "}\n",
       "};\n",
       "           var plotContainer = document.getElementById(\"u3bgpl\");\n",
       "           window.letsPlotCall(function() {{\n",
       "               LetsPlot.buildPlotFromProcessedSpecs(plotSpec, -1, -1, plotContainer);\n",
       "           }});\n",
       "       })();\n",
       "   </script>"
      ],
      "text/plain": [
       "<lets_plot.plot.core.PlotSpec at 0x7fdad88711e0>"
      ]
     },
     "execution_count": 8,
     "metadata": {},
     "output_type": "execute_result"
    }
   ],
   "source": [
    "waterfall_plot(data, 'cat', 'val', group='g') + facet_wrap(facets='g')"
   ]
  }
 ],
 "metadata": {
  "kernelspec": {
   "display_name": "Python 3 (ipykernel)",
   "language": "python",
   "name": "python3"
  },
  "language_info": {
   "codemirror_mode": {
    "name": "ipython",
    "version": 3
   },
   "file_extension": ".py",
   "mimetype": "text/x-python",
   "name": "python",
   "nbconvert_exporter": "python",
   "pygments_lexer": "ipython3",
   "version": "3.10.14"
  }
 },
 "nbformat": 4,
 "nbformat_minor": 5
}
