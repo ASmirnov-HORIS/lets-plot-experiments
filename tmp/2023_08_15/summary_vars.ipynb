{
 "cells": [
  {
   "cell_type": "code",
   "execution_count": 1,
   "id": "106e0792",
   "metadata": {},
   "outputs": [],
   "source": [
    "library(ggplot2)"
   ]
  },
  {
   "cell_type": "code",
   "execution_count": 2,
   "id": "b9fa7438",
   "metadata": {},
   "outputs": [],
   "source": [
    "df <- data.frame(x = c('A', 'A', 'A', 'B', 'B', 'B'),\n",
    "                 y = c(-1, 0, 1, 1, 0, 1))"
   ]
  },
  {
   "cell_type": "code",
   "execution_count": 3,
   "id": "89dbc153",
   "metadata": {},
   "outputs": [
    {
     "name": "stderr",
     "output_type": "stream",
     "text": [
      "\u001b[1m\u001b[22mNo summary function supplied, defaulting to `mean_se()`\n"
     ]
    },
    {
     "data": {
      "image/png": "[encoded data removed]",
      "text/plain": [
       "plot without title"
      ]
     },
     "metadata": {
      "image/png": {
       "height": 420,
       "width": 420
      }
     },
     "output_type": "display_data"
    }
   ],
   "source": [
    "p <- ggplot(df, aes(x, y)) + stat_summary()\n",
    "p"
   ]
  },
  {
   "cell_type": "code",
   "execution_count": 4,
   "id": "e2ead085",
   "metadata": {},
   "outputs": [
    {
     "name": "stderr",
     "output_type": "stream",
     "text": [
      "\u001b[1m\u001b[22mNo summary function supplied, defaulting to `mean_se()`\n"
     ]
    },
    {
     "data": {
      "text/html": [
       "<ol>\n",
       "\t<li><table class=\"dataframe\">\n",
       "<caption>A data.frame: 2 × 15</caption>\n",
       "<thead>\n",
       "\t<tr><th scope=col>x</th><th scope=col>group</th><th scope=col>y</th><th scope=col>ymin</th><th scope=col>ymax</th><th scope=col>PANEL</th><th scope=col>flipped_aes</th><th scope=col>colour</th><th scope=col>size</th><th scope=col>linewidth</th><th scope=col>linetype</th><th scope=col>shape</th><th scope=col>fill</th><th scope=col>alpha</th><th scope=col>stroke</th></tr>\n",
       "\t<tr><th scope=col>&lt;mppd_dsc&gt;</th><th scope=col>&lt;int&gt;</th><th scope=col>&lt;dbl&gt;</th><th scope=col>&lt;dbl&gt;</th><th scope=col>&lt;dbl&gt;</th><th scope=col>&lt;fct&gt;</th><th scope=col>&lt;lgl&gt;</th><th scope=col>&lt;chr&gt;</th><th scope=col>&lt;dbl&gt;</th><th scope=col>&lt;dbl&gt;</th><th scope=col>&lt;dbl&gt;</th><th scope=col>&lt;dbl&gt;</th><th scope=col>&lt;lgl&gt;</th><th scope=col>&lt;lgl&gt;</th><th scope=col>&lt;dbl&gt;</th></tr>\n",
       "</thead>\n",
       "<tbody>\n",
       "\t<tr><td>1</td><td>1</td><td>0.0000000</td><td>-0.5773503</td><td>0.5773503</td><td>1</td><td>FALSE</td><td>black</td><td>0.5</td><td>0.5</td><td>1</td><td>19</td><td>NA</td><td>NA</td><td>1</td></tr>\n",
       "\t<tr><td>2</td><td>2</td><td>0.6666667</td><td> 0.3333333</td><td>1.0000000</td><td>1</td><td>FALSE</td><td>black</td><td>0.5</td><td>0.5</td><td>1</td><td>19</td><td>NA</td><td>NA</td><td>1</td></tr>\n",
       "</tbody>\n",
       "</table>\n",
       "</li>\n",
       "</ol>\n"
      ],
      "text/latex": [
       "\\begin{enumerate}\n",
       "\\item A data.frame: 2 × 15\n",
       "\\begin{tabular}{lllllllllllllll}\n",
       " x & group & y & ymin & ymax & PANEL & flipped\\_aes & colour & size & linewidth & linetype & shape & fill & alpha & stroke\\\\\n",
       " <mppd\\_dsc> & <int> & <dbl> & <dbl> & <dbl> & <fct> & <lgl> & <chr> & <dbl> & <dbl> & <dbl> & <dbl> & <lgl> & <lgl> & <dbl>\\\\\n",
       "\\hline\n",
       "\t 1 & 1 & 0.0000000 & -0.5773503 & 0.5773503 & 1 & FALSE & black & 0.5 & 0.5 & 1 & 19 & NA & NA & 1\\\\\n",
       "\t 2 & 2 & 0.6666667 &  0.3333333 & 1.0000000 & 1 & FALSE & black & 0.5 & 0.5 & 1 & 19 & NA & NA & 1\\\\\n",
       "\\end{tabular}\n",
       "\n",
       "\\end{enumerate}\n"
      ],
      "text/markdown": [
       "1. \n",
       "A data.frame: 2 × 15\n",
       "\n",
       "| x &lt;mppd_dsc&gt; | group &lt;int&gt; | y &lt;dbl&gt; | ymin &lt;dbl&gt; | ymax &lt;dbl&gt; | PANEL &lt;fct&gt; | flipped_aes &lt;lgl&gt; | colour &lt;chr&gt; | size &lt;dbl&gt; | linewidth &lt;dbl&gt; | linetype &lt;dbl&gt; | shape &lt;dbl&gt; | fill &lt;lgl&gt; | alpha &lt;lgl&gt; | stroke &lt;dbl&gt; |\n",
       "|---|---|---|---|---|---|---|---|---|---|---|---|---|---|---|\n",
       "| 1 | 1 | 0.0000000 | -0.5773503 | 0.5773503 | 1 | FALSE | black | 0.5 | 0.5 | 1 | 19 | NA | NA | 1 |\n",
       "| 2 | 2 | 0.6666667 |  0.3333333 | 1.0000000 | 1 | FALSE | black | 0.5 | 0.5 | 1 | 19 | NA | NA | 1 |\n",
       "\n",
       "\n",
       "\n",
       "\n"
      ],
      "text/plain": [
       "[[1]]\n",
       "  x group         y       ymin      ymax PANEL flipped_aes colour size\n",
       "1 1     1 0.0000000 -0.5773503 0.5773503     1       FALSE  black  0.5\n",
       "2 2     2 0.6666667  0.3333333 1.0000000     1       FALSE  black  0.5\n",
       "  linewidth linetype shape fill alpha stroke\n",
       "1       0.5        1    19   NA    NA      1\n",
       "2       0.5        1    19   NA    NA      1\n"
      ]
     },
     "metadata": {},
     "output_type": "display_data"
    }
   ],
   "source": [
    "ggplot_build(p)$data"
   ]
  }
 ],
 "metadata": {
  "kernelspec": {
   "display_name": "R",
   "language": "R",
   "name": "ir"
  },
  "language_info": {
   "codemirror_mode": "r",
   "file_extension": ".r",
   "mimetype": "text/x-r-source",
   "name": "R",
   "pygments_lexer": "r",
   "version": "4.1.3"
  }
 },
 "nbformat": 4,
 "nbformat_minor": 5
}
