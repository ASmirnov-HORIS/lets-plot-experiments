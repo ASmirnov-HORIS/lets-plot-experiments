{
 "cells": [
  {
   "cell_type": "code",
   "execution_count": 1,
   "id": "6031e83d-a2cd-4246-b7f4-2ed75991722d",
   "metadata": {},
   "outputs": [
    {
     "name": "stdout",
     "output_type": "stream",
     "text": [
      "Requirement already satisfied: seaborn in d:\\anaconda3\\envs\\lets-plot-experiments\\lib\\site-packages (0.13.2)\n",
      "Requirement already satisfied: bokeh in d:\\anaconda3\\envs\\lets-plot-experiments\\lib\\site-packages (3.6.2)\n",
      "Requirement already satisfied: numpy!=1.24.0,>=1.20 in d:\\anaconda3\\envs\\lets-plot-experiments\\lib\\site-packages (from seaborn) (1.26.4)\n",
      "Requirement already satisfied: pandas>=1.2 in d:\\anaconda3\\envs\\lets-plot-experiments\\lib\\site-packages (from seaborn) (2.2.3)\n",
      "Requirement already satisfied: matplotlib!=3.6.1,>=3.4 in d:\\anaconda3\\envs\\lets-plot-experiments\\lib\\site-packages (from seaborn) (3.8.2)\n",
      "Requirement already satisfied: Jinja2>=2.9 in d:\\anaconda3\\envs\\lets-plot-experiments\\lib\\site-packages (from bokeh) (3.1.3)\n",
      "Requirement already satisfied: contourpy>=1.2 in d:\\anaconda3\\envs\\lets-plot-experiments\\lib\\site-packages (from bokeh) (1.2.0)\n",
      "Requirement already satisfied: packaging>=16.8 in d:\\anaconda3\\envs\\lets-plot-experiments\\lib\\site-packages (from bokeh) (23.2)\n",
      "Requirement already satisfied: pillow>=7.1.0 in d:\\anaconda3\\envs\\lets-plot-experiments\\lib\\site-packages (from bokeh) (10.2.0)\n",
      "Requirement already satisfied: PyYAML>=3.10 in d:\\anaconda3\\envs\\lets-plot-experiments\\lib\\site-packages (from bokeh) (6.0.1)\n",
      "Requirement already satisfied: tornado>=6.2 in d:\\anaconda3\\envs\\lets-plot-experiments\\lib\\site-packages (from bokeh) (6.3.3)\n",
      "Requirement already satisfied: xyzservices>=2021.09.1 in d:\\anaconda3\\envs\\lets-plot-experiments\\lib\\site-packages (from bokeh) (2023.10.1)\n",
      "Requirement already satisfied: MarkupSafe>=2.0 in d:\\anaconda3\\envs\\lets-plot-experiments\\lib\\site-packages (from Jinja2>=2.9->bokeh) (2.1.5)\n",
      "Requirement already satisfied: cycler>=0.10 in d:\\anaconda3\\envs\\lets-plot-experiments\\lib\\site-packages (from matplotlib!=3.6.1,>=3.4->seaborn) (0.12.1)\n",
      "Requirement already satisfied: fonttools>=4.22.0 in d:\\anaconda3\\envs\\lets-plot-experiments\\lib\\site-packages (from matplotlib!=3.6.1,>=3.4->seaborn) (4.48.1)\n",
      "Requirement already satisfied: kiwisolver>=1.3.1 in d:\\anaconda3\\envs\\lets-plot-experiments\\lib\\site-packages (from matplotlib!=3.6.1,>=3.4->seaborn) (1.4.5)\n",
      "Requirement already satisfied: pyparsing>=2.3.1 in d:\\anaconda3\\envs\\lets-plot-experiments\\lib\\site-packages (from matplotlib!=3.6.1,>=3.4->seaborn) (3.1.1)\n",
      "Requirement already satisfied: python-dateutil>=2.7 in d:\\anaconda3\\envs\\lets-plot-experiments\\lib\\site-packages (from matplotlib!=3.6.1,>=3.4->seaborn) (2.8.2)\n",
      "Requirement already satisfied: pytz>=2020.1 in d:\\anaconda3\\envs\\lets-plot-experiments\\lib\\site-packages (from pandas>=1.2->seaborn) (2024.1)\n",
      "Requirement already satisfied: tzdata>=2022.7 in d:\\anaconda3\\envs\\lets-plot-experiments\\lib\\site-packages (from pandas>=1.2->seaborn) (2024.1)\n",
      "Requirement already satisfied: six>=1.5 in d:\\anaconda3\\envs\\lets-plot-experiments\\lib\\site-packages (from python-dateutil>=2.7->matplotlib!=3.6.1,>=3.4->seaborn) (1.16.0)\n"
     ]
    },
    {
     "name": "stderr",
     "output_type": "stream",
     "text": [
      "WARNING: Ignoring invalid distribution -ets-plot (d:\\anaconda3\\envs\\lets-plot-experiments\\lib\\site-packages)\n",
      "WARNING: Ignoring invalid distribution -ets-plot (d:\\anaconda3\\envs\\lets-plot-experiments\\lib\\site-packages)\n",
      "WARNING: Ignoring invalid distribution -ets-plot (d:\\anaconda3\\envs\\lets-plot-experiments\\lib\\site-packages)\n"
     ]
    }
   ],
   "source": [
    "import sys\n",
    "!{sys.executable} -m pip install seaborn bokeh"
   ]
  },
  {
   "cell_type": "markdown",
   "id": "4e55da8d-fc5e-43db-b11c-6c16aa330091",
   "metadata": {},
   "source": [
    "## Seaborn\n",
    "\n",
    "- `width=.5` - yellow\n",
    "- `width=20px` - blue"
   ]
  },
  {
   "cell_type": "code",
   "execution_count": 2,
   "id": "cc4533f5-5246-43df-90ad-2ddaae4c1207",
   "metadata": {},
   "outputs": [
    {
     "data": {
      "image/png": "[encoded data removed]",
      "text/plain": [
       "<Figure size 600x400 with 1 Axes>"
      ]
     },
     "metadata": {},
     "output_type": "display_data"
    }
   ],
   "source": [
    "import seaborn as sns\n",
    "import matplotlib.pyplot as plt\n",
    "import matplotlib.patches as patches\n",
    "\n",
    "dpi = 100\n",
    "ys = [1, 3, 2]\n",
    "fig, ax = plt.subplots(figsize=(6, 4), dpi=dpi)\n",
    "sns.barplot(x=[\"A\", \"B\", \"C\"], y=ys, ax=ax, width=.5, color=\"yellow\")\n",
    "\n",
    "for i, height in enumerate(ys):\n",
    "    pix_to_val = lambda v: v / dpi\n",
    "    rect = patches.Rectangle((i*1 - pix_to_val(10), 0), pix_to_val(20), height, transform=ax.transData, color=\"royalblue\")\n",
    "    ax.add_patch(rect)\n",
    "\n",
    "plt.show()"
   ]
  }
 ],
 "metadata": {
  "kernelspec": {
   "display_name": "Python 3 (ipykernel)",
   "language": "python",
   "name": "python3"
  },
  "language_info": {
   "codemirror_mode": {
    "name": "ipython",
    "version": 3
   },
   "file_extension": ".py",
   "mimetype": "text/x-python",
   "name": "python",
   "nbconvert_exporter": "python",
   "pygments_lexer": "ipython3",
   "version": "3.10.13"
  }
 },
 "nbformat": 4,
 "nbformat_minor": 5
}
