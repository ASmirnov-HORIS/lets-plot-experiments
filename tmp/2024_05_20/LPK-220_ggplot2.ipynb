{
 "cells": [
  {
   "cell_type": "code",
   "execution_count": 1,
   "id": "66d0baa9-6caa-45fd-a91e-0a812812af16",
   "metadata": {},
   "outputs": [],
   "source": [
    "library(ggplot2)"
   ]
  },
  {
   "cell_type": "code",
   "execution_count": 2,
   "id": "3625ad20-c9c7-4a21-8441-a501dcb5ce73",
   "metadata": {},
   "outputs": [],
   "source": [
    "df <- data.frame(x = c(\"A\", \"B\", \"C\", \"D\"))"
   ]
  },
  {
   "cell_type": "code",
   "execution_count": 3,
   "id": "9aa9bbf9-f598-49a1-ae1d-d19c74e53522",
   "metadata": {},
   "outputs": [
    {
     "data": {
      "image/png": "[encoded data removed]",
      "text/plain": [
       "plot without title"
      ]
     },
     "metadata": {
      "image/png": {
       "height": 420,
       "width": 420
      }
     },
     "output_type": "display_data"
    }
   ],
   "source": [
    "ggplot(df) +\n",
    "    geom_boxplot(aes(x = x, lower = 25, middle = 50, upper = 75, ymin = 0, ymax = 100),\n",
    "                 stat = 'identity', linetype = 'dotted', size = 2.5)"
   ]
  }
 ],
 "metadata": {
  "kernelspec": {
   "display_name": "R",
   "language": "R",
   "name": "ir"
  },
  "language_info": {
   "codemirror_mode": "r",
   "file_extension": ".r",
   "mimetype": "text/x-r-source",
   "name": "R",
   "pygments_lexer": "r",
   "version": "4.1.3"
  }
 },
 "nbformat": 4,
 "nbformat_minor": 5
}
