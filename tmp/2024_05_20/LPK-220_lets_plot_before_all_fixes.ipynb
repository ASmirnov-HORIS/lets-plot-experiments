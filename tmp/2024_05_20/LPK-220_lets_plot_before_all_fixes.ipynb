{
 "cells": [
  {
   "cell_type": "code",
   "execution_count": 1,
   "id": "84174164-51e5-4aec-841e-d63664d2de38",
   "metadata": {},
   "outputs": [],
   "source": [
    "from lets_plot import *"
   ]
  },
  {
   "cell_type": "code",
   "execution_count": 2,
   "id": "51f4d1ca-77fd-4335-b513-40e527e4c27e",
   "metadata": {},
   "outputs": [
    {
     "data": {
      "text/html": [
       "\n",
       "            <div id=\"wjVhj8\"></div>\n",
       "            <script type=\"text/javascript\" data-lets-plot-script=\"library\">\n",
       "                if(!window.letsPlotCallQueue) {\n",
       "                    window.letsPlotCallQueue = [];\n",
       "                }; \n",
       "                window.letsPlotCall = function(f) {\n",
       "                    window.letsPlotCallQueue.push(f);\n",
       "                };\n",
       "                (function() {\n",
       "                    var script = document.createElement(\"script\");\n",
       "                    script.type = \"text/javascript\";\n",
       "                    script.src = \"https://cdn.jsdelivr.net/gh/JetBrains/lets-plot@v4.3.2/js-package/distr/lets-plot.min.js\";\n",
       "                    script.onload = function() {\n",
       "                        window.letsPlotCall = function(f) {f();};\n",
       "                        window.letsPlotCallQueue.forEach(function(f) {f();});\n",
       "                        window.letsPlotCallQueue = [];\n",
       "                        \n",
       "                    };\n",
       "                    script.onerror = function(event) {\n",
       "                        window.letsPlotCall = function(f) {};    // noop\n",
       "                        window.letsPlotCallQueue = [];\n",
       "                        var div = document.createElement(\"div\");\n",
       "                        div.style.color = 'darkred';\n",
       "                        div.textContent = 'Error loading Lets-Plot JS';\n",
       "                        document.getElementById(\"wjVhj8\").appendChild(div);\n",
       "                    };\n",
       "                    var e = document.getElementById(\"wjVhj8\");\n",
       "                    e.appendChild(script);\n",
       "                })()\n",
       "            </script>\n",
       "            "
      ]
     },
     "metadata": {},
     "output_type": "display_data"
    }
   ],
   "source": [
    "LetsPlot.setup_html()"
   ]
  },
  {
   "cell_type": "code",
   "execution_count": 3,
   "id": "4773b460-968c-4291-84bf-4d38500e922c",
   "metadata": {},
   "outputs": [
    {
     "data": {
      "text/html": [
       "   <div id=\"QHFMbO\"></div>\n",
       "   <script type=\"text/javascript\" data-lets-plot-script=\"plot\">\n",
       "       (function() {\n",
       "           var plotSpec={\n",
       "\"data\":{\n",
       "\"x\":[\"A\",\"B\",\"C\",\"D\"]\n",
       "},\n",
       "\"mapping\":{\n",
       "},\n",
       "\"data_meta\":{\n",
       "},\n",
       "\"kind\":\"plot\",\n",
       "\"scales\":[],\n",
       "\"layers\":[{\n",
       "\"geom\":\"boxplot\",\n",
       "\"stat\":\"identity\",\n",
       "\"mapping\":{\n",
       "\"x\":\"x\"\n",
       "},\n",
       "\"data_meta\":{\n",
       "},\n",
       "\"lower\":25.0,\n",
       "\"middle\":50.0,\n",
       "\"upper\":75.0,\n",
       "\"ymin\":0.0,\n",
       "\"ymax\":100.0,\n",
       "\"linetype\":\"dotted\",\n",
       "\"size\":2.5,\n",
       "\"data\":{\n",
       "}\n",
       "}],\n",
       "\"metainfo_list\":[]\n",
       "};\n",
       "           var plotContainer = document.getElementById(\"QHFMbO\");\n",
       "           window.letsPlotCall(function() {{\n",
       "               LetsPlot.buildPlotFromProcessedSpecs(plotSpec, -1, -1, plotContainer);\n",
       "           }});\n",
       "       })();\n",
       "   </script>"
      ],
      "text/plain": [
       "<lets_plot.plot.core.PlotSpec at 0x24d0b3d4070>"
      ]
     },
     "execution_count": 3,
     "metadata": {},
     "output_type": "execute_result"
    }
   ],
   "source": [
    "data = {\"x\": [\"A\", \"B\", \"C\", \"D\"]}\n",
    "p1 = ggplot(data) + \\\n",
    "    geom_boxplot(aes(x='x'), lower=25, middle=50, upper=75, ymin=0, ymax=100, \\\n",
    "                 stat='identity', linetype='dotted', size=2.5)\n",
    "p1"
   ]
  },
  {
   "cell_type": "code",
   "execution_count": 4,
   "id": "47df2207-4d52-4a70-8863-fe947d15a2d0",
   "metadata": {},
   "outputs": [
    {
     "data": {
      "text/html": [
       "   <div id=\"Uyv3ws\"></div>\n",
       "   <script type=\"text/javascript\" data-lets-plot-script=\"plot\">\n",
       "       (function() {\n",
       "           var plotSpec={\n",
       "\"data\":{\n",
       "\"x\":[\"A\",\"B\",\"C\",\"D\"]\n",
       "},\n",
       "\"mapping\":{\n",
       "},\n",
       "\"data_meta\":{\n",
       "},\n",
       "\"kind\":\"plot\",\n",
       "\"scales\":[],\n",
       "\"layers\":[{\n",
       "\"geom\":\"crossbar\",\n",
       "\"mapping\":{\n",
       "\"x\":\"x\"\n",
       "},\n",
       "\"data_meta\":{\n",
       "},\n",
       "\"y\":50.0,\n",
       "\"ymin\":25.0,\n",
       "\"ymax\":75.0,\n",
       "\"linetype\":\"dotted\",\n",
       "\"size\":2.5,\n",
       "\"data\":{\n",
       "}\n",
       "}],\n",
       "\"metainfo_list\":[]\n",
       "};\n",
       "           var plotContainer = document.getElementById(\"Uyv3ws\");\n",
       "           window.letsPlotCall(function() {{\n",
       "               LetsPlot.buildPlotFromProcessedSpecs(plotSpec, -1, -1, plotContainer);\n",
       "           }});\n",
       "       })();\n",
       "   </script>"
      ],
      "text/plain": [
       "<lets_plot.plot.core.PlotSpec at 0x24d0b73b8e0>"
      ]
     },
     "execution_count": 4,
     "metadata": {},
     "output_type": "execute_result"
    }
   ],
   "source": [
    "p2 = ggplot(data) + \\\n",
    "    geom_crossbar(aes(x='x'), y=50, ymin=25, ymax=75, \\\n",
    "                  linetype='dotted', size=2.5)\n",
    "p2"
   ]
  },
  {
   "cell_type": "code",
   "execution_count": 5,
   "id": "0d5d81a6-4c07-45a5-9fc6-e20a79d56229",
   "metadata": {},
   "outputs": [
    {
     "name": "stdout",
     "output_type": "stream",
     "text": [
      "{\n",
      "  \"data\": {\n",
      "    \"x\": [\n",
      "      \"A\",\n",
      "      \"B\",\n",
      "      \"C\",\n",
      "      \"D\"\n",
      "    ]\n",
      "  },\n",
      "  \"mapping\": {},\n",
      "  \"data_meta\": {},\n",
      "  \"kind\": \"plot\",\n",
      "  \"scales\": [],\n",
      "  \"layers\": [\n",
      "    {\n",
      "      \"geom\": \"crossbar\",\n",
      "      \"mapping\": {\n",
      "        \"x\": \"x\"\n",
      "      },\n",
      "      \"data_meta\": {},\n",
      "      \"y\": 50.0,\n",
      "      \"ymin\": 25.0,\n",
      "      \"ymax\": 75.0,\n",
      "      \"linetype\": \"dotted\",\n",
      "      \"size\": 2.5\n",
      "    }\n",
      "  ],\n",
      "  \"metainfo_list\": []\n",
      "}\n"
     ]
    },
    {
     "data": {
      "text/html": [
       "   <div id=\"OTlAF5\"></div>\n",
       "   <script type=\"text/javascript\" data-lets-plot-script=\"plot\">\n",
       "       (function() {\n",
       "           var plotSpec={\n",
       "\"data\":{\n",
       "\"x\":[\"A\",\"B\",\"C\",\"D\"]\n",
       "},\n",
       "\"mapping\":{\n",
       "},\n",
       "\"data_meta\":{\n",
       "},\n",
       "\"kind\":\"plot\",\n",
       "\"scales\":[],\n",
       "\"layers\":[{\n",
       "\"geom\":\"crossbar\",\n",
       "\"mapping\":{\n",
       "\"x\":\"x\"\n",
       "},\n",
       "\"data_meta\":{\n",
       "},\n",
       "\"y\":50.0,\n",
       "\"ymin\":25.0,\n",
       "\"ymax\":75.0,\n",
       "\"linetype\":\"dotted\",\n",
       "\"size\":2.5,\n",
       "\"data\":{\n",
       "}\n",
       "}],\n",
       "\"metainfo_list\":[]\n",
       "};\n",
       "           var plotContainer = document.getElementById(\"OTlAF5\");\n",
       "           window.letsPlotCall(function() {{\n",
       "               LetsPlot.buildPlotFromProcessedSpecs(plotSpec, -1, -1, plotContainer);\n",
       "           }});\n",
       "       })();\n",
       "   </script>"
      ],
      "text/plain": [
       "<lets_plot.plot.core.PlotSpec at 0x24d0b73b8e0>"
      ]
     },
     "execution_count": 5,
     "metadata": {},
     "output_type": "execute_result"
    }
   ],
   "source": [
    "def dump_plot(plot, display=None):\n",
    "    import json\n",
    "\n",
    "    try:\n",
    "        import clipboard\n",
    "    except:\n",
    "        clipboard = None\n",
    "        \n",
    "    from lets_plot._type_utils import standardize_dict\n",
    "    \n",
    "    plot_dict = standardize_dict(plot.as_dict())\n",
    "    plot_json = json.dumps(plot_dict, indent=2)\n",
    "    \n",
    "    if clipboard:\n",
    "        clipboard.copy('')\n",
    "        clipboard.copy(str(plot_json))\n",
    "    else:\n",
    "        if display is None:\n",
    "            display = True\n",
    "    \n",
    "    if display:\n",
    "        print(plot_json)\n",
    "\n",
    "    return plot\n",
    "\n",
    "dump_plot(p2)"
   ]
  }
 ],
 "metadata": {
  "kernelspec": {
   "display_name": "Python 3 (ipykernel)",
   "language": "python",
   "name": "python3"
  },
  "language_info": {
   "codemirror_mode": {
    "name": "ipython",
    "version": 3
   },
   "file_extension": ".py",
   "mimetype": "text/x-python",
   "name": "python",
   "nbconvert_exporter": "python",
   "pygments_lexer": "ipython3",
   "version": "3.10.13"
  }
 },
 "nbformat": 4,
 "nbformat_minor": 5
}
