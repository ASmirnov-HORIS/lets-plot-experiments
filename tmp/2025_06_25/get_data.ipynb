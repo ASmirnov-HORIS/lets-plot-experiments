{
 "cells": [
  {
   "cell_type": "markdown",
   "id": "b193ae1d-5d08-4041-b1a0-65b151d83401",
   "metadata": {},
   "source": [
    "spermwhaledata is taken from the https://github.com/DistanceDevelopment/spermwhaledata"
   ]
  },
  {
   "cell_type": "code",
   "execution_count": 1,
   "id": "e80bf668-af91-4f26-8076-157adeb79263",
   "metadata": {},
   "outputs": [],
   "source": [
    "setwd(\"../../../spermwhaledata/R_import\")"
   ]
  },
  {
   "cell_type": "code",
   "execution_count": 2,
   "id": "d33e1353-9520-406c-8364-be948a04e4b5",
   "metadata": {},
   "outputs": [],
   "source": [
    "load(\"spermwhale.RData\")"
   ]
  },
  {
   "cell_type": "code",
   "execution_count": 3,
   "id": "89e35253-6deb-4a02-a6ae-551d6cbfd22f",
   "metadata": {},
   "outputs": [
    {
     "data": {
      "text/html": [
       "<style>\n",
       ".list-inline {list-style: none; margin:0; padding: 0}\n",
       ".list-inline>li {display: inline-block}\n",
       ".list-inline>li:not(:last-child)::after {content: \"\\00b7\"; padding: 0 .5ex}\n",
       "</style>\n",
       "<ol class=list-inline><li>'distdata'</li><li>'obs'</li><li>'predgrid'</li><li>'proj'</li><li>'segs'</li><li>'study_area'</li></ol>\n"
      ],
      "text/latex": [
       "\\begin{enumerate*}\n",
       "\\item 'distdata'\n",
       "\\item 'obs'\n",
       "\\item 'predgrid'\n",
       "\\item 'proj'\n",
       "\\item 'segs'\n",
       "\\item 'study\\_area'\n",
       "\\end{enumerate*}\n"
      ],
      "text/markdown": [
       "1. 'distdata'\n",
       "2. 'obs'\n",
       "3. 'predgrid'\n",
       "4. 'proj'\n",
       "5. 'segs'\n",
       "6. 'study_area'\n",
       "\n",
       "\n"
      ],
      "text/plain": [
       "[1] \"distdata\"   \"obs\"        \"predgrid\"   \"proj\"       \"segs\"      \n",
       "[6] \"study_area\""
      ]
     },
     "metadata": {},
     "output_type": "display_data"
    }
   ],
   "source": [
    "ls()"
   ]
  },
  {
   "cell_type": "code",
   "execution_count": 4,
   "id": "ab19e7a5-8ba0-4ef6-aec1-114ece5effba",
   "metadata": {},
   "outputs": [
    {
     "name": "stderr",
     "output_type": "stream",
     "text": [
      "Warning message in dir.create(\"../csv\"):\n",
      "“'../csv' already exists”\n"
     ]
    }
   ],
   "source": [
    "dir.create(\"../csv\")"
   ]
  },
  {
   "cell_type": "code",
   "execution_count": 5,
   "id": "a6e1d6a1-919b-43c2-8998-7aeba2ff2b5d",
   "metadata": {},
   "outputs": [],
   "source": [
    "write.csv(distdata, \"../csv/distdata.csv\", row.names = FALSE)\n",
    "write.csv(obs, \"../csv/obs.csv\", row.names = FALSE)\n",
    "write.csv(predgrid, \"../csv/predgrid.csv\", row.names = FALSE)\n",
    "write.csv(proj, \"../csv/proj.csv\", row.names = FALSE)\n",
    "write.csv(segs, \"../csv/segs.csv\", row.names = FALSE)\n",
    "write.csv(study_area, \"../csv/study_area.csv\", row.names = FALSE)"
   ]
  },
  {
   "cell_type": "code",
   "execution_count": 6,
   "id": "8119efd5-bc3a-4ae6-92d1-fab2fab6c8b8",
   "metadata": {},
   "outputs": [
    {
     "name": "stdout",
     "output_type": "stream",
     "text": [
      "'data.frame':\t137 obs. of  13 variables:\n",
      " $ Survey      : chr  \"en04395\" \"en04395\" \"en04395\" \"en04395\" ...\n",
      " $ SightingTime: POSIXct, format: \"2004-06-28 11:22:21\" \"2004-06-28 14:18:14\" ...\n",
      " $ distance    : num  246 1632 2369 245 2081 ...\n",
      " $ object      : int  1 2 3 4 5 6 7 8 9 10 ...\n",
      " $ Sample.Label: int  48 50 51 52 56 59 59 60 60 61 ...\n",
      " $ size        : num  2 2 1 1 1 1 1 1 1 1 ...\n",
      " $ detected    : num  1 1 1 1 1 1 1 1 1 1 ...\n",
      " $ observer    : num  1 1 1 1 1 1 1 1 1 1 ...\n",
      " $ Beaufort    : num  3 2.5 3 3.5 4 2.4 2.4 2.4 2 2 ...\n",
      " $ long        : num  -65.6 -65.6 -65.7 -65.7 -65.8 ...\n",
      " $ lat         : num  39.6 39.7 39.8 40 40.3 ...\n",
      " $ x           : num  633726 631348 626813 623700 612482 ...\n",
      " $ y           : num  642049 660752 671195 684733 718550 ...\n"
     ]
    }
   ],
   "source": [
    "str(distdata)"
   ]
  },
  {
   "cell_type": "code",
   "execution_count": 7,
   "id": "fd79fe7c-87d1-4e8b-b3ae-4833a48e2cbf",
   "metadata": {},
   "outputs": [
    {
     "data": {
      "text/html": [
       "<table class=\"dataframe\">\n",
       "<caption>A data.frame: 6 × 13</caption>\n",
       "<thead>\n",
       "\t<tr><th></th><th scope=col>Survey</th><th scope=col>SightingTime</th><th scope=col>distance</th><th scope=col>object</th><th scope=col>Sample.Label</th><th scope=col>size</th><th scope=col>detected</th><th scope=col>observer</th><th scope=col>Beaufort</th><th scope=col>long</th><th scope=col>lat</th><th scope=col>x</th><th scope=col>y</th></tr>\n",
       "\t<tr><th></th><th scope=col>&lt;chr&gt;</th><th scope=col>&lt;dttm&gt;</th><th scope=col>&lt;dbl&gt;</th><th scope=col>&lt;int&gt;</th><th scope=col>&lt;int&gt;</th><th scope=col>&lt;dbl&gt;</th><th scope=col>&lt;dbl&gt;</th><th scope=col>&lt;dbl&gt;</th><th scope=col>&lt;dbl&gt;</th><th scope=col>&lt;dbl&gt;</th><th scope=col>&lt;dbl&gt;</th><th scope=col>&lt;dbl&gt;</th><th scope=col>&lt;dbl&gt;</th></tr>\n",
       "</thead>\n",
       "<tbody>\n",
       "\t<tr><th scope=row>1</th><td>en04395</td><td>2004-06-28 11:22:21</td><td> 246.0173</td><td>1</td><td>48</td><td>2</td><td>1</td><td>1</td><td>3.0</td><td>-65.636</td><td>39.576</td><td>633725.6</td><td>642049.0</td></tr>\n",
       "\t<tr><th scope=row>2</th><td>en04395</td><td>2004-06-28 14:18:14</td><td>1632.3934</td><td>2</td><td>50</td><td>2</td><td>1</td><td>1</td><td>2.5</td><td>-65.648</td><td>39.746</td><td>631348.3</td><td>660752.3</td></tr>\n",
       "\t<tr><th scope=row>3</th><td>en04395</td><td>2004-06-28 15:13:34</td><td>2368.9941</td><td>3</td><td>51</td><td>1</td><td>1</td><td>1</td><td>3.0</td><td>-65.692</td><td>39.843</td><td>626812.7</td><td>671194.6</td></tr>\n",
       "\t<tr><th scope=row>4</th><td>en04395</td><td>2004-06-28 16:06:01</td><td> 244.6977</td><td>4</td><td>52</td><td>1</td><td>1</td><td>1</td><td>3.5</td><td>-65.717</td><td>39.967</td><td>623699.6</td><td>684733.4</td></tr>\n",
       "\t<tr><th scope=row>5</th><td>en04395</td><td>2004-06-29 11:48:31</td><td>2081.3468</td><td>5</td><td>56</td><td>1</td><td>1</td><td>1</td><td>4.0</td><td>-65.820</td><td>40.279</td><td>612482.1</td><td>718549.7</td></tr>\n",
       "\t<tr><th scope=row>6</th><td>en04395</td><td>2004-06-29 15:35:34</td><td>1149.2632</td><td>6</td><td>59</td><td>1</td><td>1</td><td>1</td><td>2.4</td><td>-65.938</td><td>40.612</td><td>599902.4</td><td>754586.8</td></tr>\n",
       "</tbody>\n",
       "</table>\n"
      ],
      "text/latex": [
       "A data.frame: 6 × 13\n",
       "\\begin{tabular}{r|lllllllllllll}\n",
       "  & Survey & SightingTime & distance & object & Sample.Label & size & detected & observer & Beaufort & long & lat & x & y\\\\\n",
       "  & <chr> & <dttm> & <dbl> & <int> & <int> & <dbl> & <dbl> & <dbl> & <dbl> & <dbl> & <dbl> & <dbl> & <dbl>\\\\\n",
       "\\hline\n",
       "\t1 & en04395 & 2004-06-28 11:22:21 &  246.0173 & 1 & 48 & 2 & 1 & 1 & 3.0 & -65.636 & 39.576 & 633725.6 & 642049.0\\\\\n",
       "\t2 & en04395 & 2004-06-28 14:18:14 & 1632.3934 & 2 & 50 & 2 & 1 & 1 & 2.5 & -65.648 & 39.746 & 631348.3 & 660752.3\\\\\n",
       "\t3 & en04395 & 2004-06-28 15:13:34 & 2368.9941 & 3 & 51 & 1 & 1 & 1 & 3.0 & -65.692 & 39.843 & 626812.7 & 671194.6\\\\\n",
       "\t4 & en04395 & 2004-06-28 16:06:01 &  244.6977 & 4 & 52 & 1 & 1 & 1 & 3.5 & -65.717 & 39.967 & 623699.6 & 684733.4\\\\\n",
       "\t5 & en04395 & 2004-06-29 11:48:31 & 2081.3468 & 5 & 56 & 1 & 1 & 1 & 4.0 & -65.820 & 40.279 & 612482.1 & 718549.7\\\\\n",
       "\t6 & en04395 & 2004-06-29 15:35:34 & 1149.2632 & 6 & 59 & 1 & 1 & 1 & 2.4 & -65.938 & 40.612 & 599902.4 & 754586.8\\\\\n",
       "\\end{tabular}\n"
      ],
      "text/markdown": [
       "\n",
       "A data.frame: 6 × 13\n",
       "\n",
       "| <!--/--> | Survey &lt;chr&gt; | SightingTime &lt;dttm&gt; | distance &lt;dbl&gt; | object &lt;int&gt; | Sample.Label &lt;int&gt; | size &lt;dbl&gt; | detected &lt;dbl&gt; | observer &lt;dbl&gt; | Beaufort &lt;dbl&gt; | long &lt;dbl&gt; | lat &lt;dbl&gt; | x &lt;dbl&gt; | y &lt;dbl&gt; |\n",
       "|---|---|---|---|---|---|---|---|---|---|---|---|---|---|\n",
       "| 1 | en04395 | 2004-06-28 11:22:21 |  246.0173 | 1 | 48 | 2 | 1 | 1 | 3.0 | -65.636 | 39.576 | 633725.6 | 642049.0 |\n",
       "| 2 | en04395 | 2004-06-28 14:18:14 | 1632.3934 | 2 | 50 | 2 | 1 | 1 | 2.5 | -65.648 | 39.746 | 631348.3 | 660752.3 |\n",
       "| 3 | en04395 | 2004-06-28 15:13:34 | 2368.9941 | 3 | 51 | 1 | 1 | 1 | 3.0 | -65.692 | 39.843 | 626812.7 | 671194.6 |\n",
       "| 4 | en04395 | 2004-06-28 16:06:01 |  244.6977 | 4 | 52 | 1 | 1 | 1 | 3.5 | -65.717 | 39.967 | 623699.6 | 684733.4 |\n",
       "| 5 | en04395 | 2004-06-29 11:48:31 | 2081.3468 | 5 | 56 | 1 | 1 | 1 | 4.0 | -65.820 | 40.279 | 612482.1 | 718549.7 |\n",
       "| 6 | en04395 | 2004-06-29 15:35:34 | 1149.2632 | 6 | 59 | 1 | 1 | 1 | 2.4 | -65.938 | 40.612 | 599902.4 | 754586.8 |\n",
       "\n"
      ],
      "text/plain": [
       "  Survey  SightingTime        distance  object Sample.Label size detected\n",
       "1 en04395 2004-06-28 11:22:21  246.0173 1      48           2    1       \n",
       "2 en04395 2004-06-28 14:18:14 1632.3934 2      50           2    1       \n",
       "3 en04395 2004-06-28 15:13:34 2368.9941 3      51           1    1       \n",
       "4 en04395 2004-06-28 16:06:01  244.6977 4      52           1    1       \n",
       "5 en04395 2004-06-29 11:48:31 2081.3468 5      56           1    1       \n",
       "6 en04395 2004-06-29 15:35:34 1149.2632 6      59           1    1       \n",
       "  observer Beaufort long    lat    x        y       \n",
       "1 1        3.0      -65.636 39.576 633725.6 642049.0\n",
       "2 1        2.5      -65.648 39.746 631348.3 660752.3\n",
       "3 1        3.0      -65.692 39.843 626812.7 671194.6\n",
       "4 1        3.5      -65.717 39.967 623699.6 684733.4\n",
       "5 1        4.0      -65.820 40.279 612482.1 718549.7\n",
       "6 1        2.4      -65.938 40.612 599902.4 754586.8"
      ]
     },
     "metadata": {},
     "output_type": "display_data"
    }
   ],
   "source": [
    "head(distdata)"
   ]
  },
  {
   "cell_type": "code",
   "execution_count": 8,
   "id": "847f141f-8a94-45ef-a5c2-e993a522306c",
   "metadata": {},
   "outputs": [
    {
     "data": {
      "text/plain": [
       "    Survey           SightingTime                       distance      \n",
       " Length:137         Min.   :2004-06-25 11:05:03.00   Min.   :  21.39  \n",
       " Class :character   1st Qu.:2004-07-08 19:24:53.00   1st Qu.: 553.67  \n",
       " Mode  :character   Median :2004-07-22 16:52:11.00   Median :1585.72  \n",
       "                    Mean   :2004-07-19 10:13:19.64   Mean   :2134.99  \n",
       "                    3rd Qu.:2004-08-01 14:32:56.00   3rd Qu.:3323.25  \n",
       "                    Max.   :2004-08-05 19:32:06.00   Max.   :8230.57  \n",
       "     object     Sample.Label        size          detected    observer\n",
       " Min.   :  1   Min.   : 21.0   Min.   :1.000   Min.   :1   Min.   :1  \n",
       " 1st Qu.: 35   1st Qu.:213.0   1st Qu.:1.000   1st Qu.:1   1st Qu.:1  \n",
       " Median : 69   Median :385.0   Median :1.000   Median :1   Median :1  \n",
       " Mean   : 69   Mean   :442.5   Mean   :1.818   Mean   :1   Mean   :1  \n",
       " 3rd Qu.:103   3rd Qu.:763.0   3rd Qu.:2.000   3rd Qu.:1   3rd Qu.:1  \n",
       " Max.   :137   Max.   :859.0   Max.   :7.800   Max.   :1   Max.   :1  \n",
       "    Beaufort          long             lat              x          \n",
       " Min.   :0.000   Min.   :-78.59   Min.   :29.80   Min.   :-540314  \n",
       " 1st Qu.:2.000   1st Qu.:-73.82   1st Qu.:36.96   1st Qu.: -72793  \n",
       " Median :2.900   Median :-72.23   Median :38.56   Median :  70385  \n",
       " Mean   :2.631   Mean   :-71.85   Mean   :37.99   Mean   :  97000  \n",
       " 3rd Qu.:3.000   3rd Qu.:-70.43   3rd Qu.:39.37   3rd Qu.: 222171  \n",
       " Max.   :5.000   Max.   :-65.64   Max.   :40.73   Max.   : 633726  \n",
       "       y          \n",
       " Min.   :-451590  \n",
       " 1st Qu.: 329167  \n",
       " Median : 506790  \n",
       " Mean   : 446909  \n",
       " 3rd Qu.: 597100  \n",
       " Max.   : 766130  "
      ]
     },
     "metadata": {},
     "output_type": "display_data"
    }
   ],
   "source": [
    "summary(distdata)"
   ]
  }
 ],
 "metadata": {
  "kernelspec": {
   "display_name": "R",
   "language": "R",
   "name": "ir"
  },
  "language_info": {
   "codemirror_mode": "r",
   "file_extension": ".r",
   "mimetype": "text/x-r-source",
   "name": "R",
   "pygments_lexer": "r",
   "version": "4.3.3"
  }
 },
 "nbformat": 4,
 "nbformat_minor": 5
}
