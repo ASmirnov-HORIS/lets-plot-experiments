{
 "cells": [
  {
   "cell_type": "code",
   "execution_count": null,
   "id": "bd7f6e12-ef4d-4e71-a663-b7f955b41ad0",
   "metadata": {},
   "outputs": [],
   "source": [
    "# sphinx.util._pathlib._StrPath"
   ]
  },
  {
   "cell_type": "code",
   "execution_count": null,
   "id": "7e2b8a09-0e59-4cc0-9e1e-7daa99eea593",
   "metadata": {},
   "outputs": [],
   "source": [
    "!conda install sphinx"
   ]
  },
  {
   "cell_type": "code",
   "execution_count": null,
   "id": "cea59cd6-93c7-47d1-b614-6df1c3d94c2c",
   "metadata": {},
   "outputs": [],
   "source": [
    "import sphinx"
   ]
  },
  {
   "cell_type": "code",
   "execution_count": null,
   "id": "dc99ce0d-cb61-4ede-a76e-343b0886b372",
   "metadata": {},
   "outputs": [],
   "source": []
  }
 ],
 "metadata": {
  "kernelspec": {
   "display_name": "Python 3 (ipykernel)",
   "language": "python",
   "name": "python3"
  },
  "language_info": {
   "codemirror_mode": {
    "name": "ipython",
    "version": 3
   },
   "file_extension": ".py",
   "mimetype": "text/x-python",
   "name": "python",
   "nbconvert_exporter": "python",
   "pygments_lexer": "ipython3",
   "version": "3.10.13"
  }
 },
 "nbformat": 4,
 "nbformat_minor": 5
}
