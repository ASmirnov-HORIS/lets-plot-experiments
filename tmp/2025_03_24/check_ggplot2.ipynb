{
 "cells": [
  {
   "cell_type": "code",
   "execution_count": 1,
   "id": "edbb5c6c-7243-4d7e-b348-986506b07112",
   "metadata": {},
   "outputs": [],
   "source": [
    "library(ggplot2)"
   ]
  },
  {
   "cell_type": "code",
   "execution_count": 2,
   "id": "f6f23669-580f-4db2-b1ea-3ee8c5dfa7a0",
   "metadata": {},
   "outputs": [
    {
     "data": {
      "image/png": "[encoded data removed]",
      "text/plain": [
       "plot without title"
      ]
     },
     "metadata": {
      "image/png": {
       "height": 420,
       "width": 420
      }
     },
     "output_type": "display_data"
    }
   ],
   "source": [
    "points <- geom_point(aes(\n",
    "    c(1.5),\n",
    "    c(2)\n",
    "), size = 2.4)\n",
    "\n",
    "bars <- geom_bar(aes(\n",
    "    c('A', 'B'),\n",
    "    c(1, 1.5)\n",
    "), stat = 'identity', fill = '#118ed8')\n",
    "\n",
    "p <- ggplot() + bars + points\n",
    "p"
   ]
  },
  {
   "cell_type": "code",
   "execution_count": 3,
   "id": "b15864cb-121f-4f3e-ab61-895816d7fa1b",
   "metadata": {},
   "outputs": [
    {
     "data": {
      "text/html": [
       "<table class=\"dataframe\">\n",
       "<caption>A data.frame: 2 × 14</caption>\n",
       "<thead>\n",
       "\t<tr><th scope=col>x</th><th scope=col>y</th><th scope=col>PANEL</th><th scope=col>group</th><th scope=col>flipped_aes</th><th scope=col>ymin</th><th scope=col>ymax</th><th scope=col>xmin</th><th scope=col>xmax</th><th scope=col>colour</th><th scope=col>fill</th><th scope=col>linewidth</th><th scope=col>linetype</th><th scope=col>alpha</th></tr>\n",
       "\t<tr><th scope=col>&lt;mppd_dsc&gt;</th><th scope=col>&lt;dbl&gt;</th><th scope=col>&lt;dbl&gt;</th><th scope=col>&lt;int&gt;</th><th scope=col>&lt;lgl&gt;</th><th scope=col>&lt;dbl&gt;</th><th scope=col>&lt;dbl&gt;</th><th scope=col>&lt;mppd_dsc&gt;</th><th scope=col>&lt;mppd_dsc&gt;</th><th scope=col>&lt;lgl&gt;</th><th scope=col>&lt;chr&gt;</th><th scope=col>&lt;dbl&gt;</th><th scope=col>&lt;dbl&gt;</th><th scope=col>&lt;lgl&gt;</th></tr>\n",
       "</thead>\n",
       "<tbody>\n",
       "\t<tr><td>1</td><td>1.0</td><td>1</td><td>1</td><td>FALSE</td><td>0</td><td>1.0</td><td>0.55</td><td>1.45</td><td>NA</td><td>#118ed8</td><td>0.5</td><td>1</td><td>NA</td></tr>\n",
       "\t<tr><td>2</td><td>1.5</td><td>1</td><td>2</td><td>FALSE</td><td>0</td><td>1.5</td><td>1.55</td><td>2.45</td><td>NA</td><td>#118ed8</td><td>0.5</td><td>1</td><td>NA</td></tr>\n",
       "</tbody>\n",
       "</table>\n"
      ],
      "text/latex": [
       "A data.frame: 2 × 14\n",
       "\\begin{tabular}{llllllllllllll}\n",
       " x & y & PANEL & group & flipped\\_aes & ymin & ymax & xmin & xmax & colour & fill & linewidth & linetype & alpha\\\\\n",
       " <mppd\\_dsc> & <dbl> & <dbl> & <int> & <lgl> & <dbl> & <dbl> & <mppd\\_dsc> & <mppd\\_dsc> & <lgl> & <chr> & <dbl> & <dbl> & <lgl>\\\\\n",
       "\\hline\n",
       "\t 1 & 1.0 & 1 & 1 & FALSE & 0 & 1.0 & 0.55 & 1.45 & NA & \\#118ed8 & 0.5 & 1 & NA\\\\\n",
       "\t 2 & 1.5 & 1 & 2 & FALSE & 0 & 1.5 & 1.55 & 2.45 & NA & \\#118ed8 & 0.5 & 1 & NA\\\\\n",
       "\\end{tabular}\n"
      ],
      "text/markdown": [
       "\n",
       "A data.frame: 2 × 14\n",
       "\n",
       "| x &lt;mppd_dsc&gt; | y &lt;dbl&gt; | PANEL &lt;dbl&gt; | group &lt;int&gt; | flipped_aes &lt;lgl&gt; | ymin &lt;dbl&gt; | ymax &lt;dbl&gt; | xmin &lt;mppd_dsc&gt; | xmax &lt;mppd_dsc&gt; | colour &lt;lgl&gt; | fill &lt;chr&gt; | linewidth &lt;dbl&gt; | linetype &lt;dbl&gt; | alpha &lt;lgl&gt; |\n",
       "|---|---|---|---|---|---|---|---|---|---|---|---|---|---|\n",
       "| 1 | 1.0 | 1 | 1 | FALSE | 0 | 1.0 | 0.55 | 1.45 | NA | #118ed8 | 0.5 | 1 | NA |\n",
       "| 2 | 1.5 | 1 | 2 | FALSE | 0 | 1.5 | 1.55 | 2.45 | NA | #118ed8 | 0.5 | 1 | NA |\n",
       "\n"
      ],
      "text/plain": [
       "  x y   PANEL group flipped_aes ymin ymax xmin xmax colour fill    linewidth\n",
       "1 1 1.0 1     1     FALSE       0    1.0  0.55 1.45 NA     #118ed8 0.5      \n",
       "2 2 1.5 1     2     FALSE       0    1.5  1.55 2.45 NA     #118ed8 0.5      \n",
       "  linetype alpha\n",
       "1 1        NA   \n",
       "2 1        NA   "
      ]
     },
     "metadata": {},
     "output_type": "display_data"
    }
   ],
   "source": [
    "layer_data(p, 1) # bars"
   ]
  },
  {
   "cell_type": "code",
   "execution_count": 4,
   "id": "9e686a5a-3520-4b4a-b546-b4208dee509e",
   "metadata": {},
   "outputs": [
    {
     "data": {
      "text/html": [
       "<table class=\"dataframe\">\n",
       "<caption>A data.frame: 1 × 10</caption>\n",
       "<thead>\n",
       "\t<tr><th scope=col>x</th><th scope=col>y</th><th scope=col>PANEL</th><th scope=col>group</th><th scope=col>shape</th><th scope=col>colour</th><th scope=col>size</th><th scope=col>fill</th><th scope=col>alpha</th><th scope=col>stroke</th></tr>\n",
       "\t<tr><th scope=col>&lt;mppd_dsc&gt;</th><th scope=col>&lt;dbl&gt;</th><th scope=col>&lt;dbl&gt;</th><th scope=col>&lt;int&gt;</th><th scope=col>&lt;dbl&gt;</th><th scope=col>&lt;chr&gt;</th><th scope=col>&lt;dbl&gt;</th><th scope=col>&lt;lgl&gt;</th><th scope=col>&lt;lgl&gt;</th><th scope=col>&lt;dbl&gt;</th></tr>\n",
       "</thead>\n",
       "<tbody>\n",
       "\t<tr><td>1.5</td><td>2</td><td>1</td><td>-1</td><td>19</td><td>black</td><td>2.4</td><td>NA</td><td>NA</td><td>0.5</td></tr>\n",
       "</tbody>\n",
       "</table>\n"
      ],
      "text/latex": [
       "A data.frame: 1 × 10\n",
       "\\begin{tabular}{llllllllll}\n",
       " x & y & PANEL & group & shape & colour & size & fill & alpha & stroke\\\\\n",
       " <mppd\\_dsc> & <dbl> & <dbl> & <int> & <dbl> & <chr> & <dbl> & <lgl> & <lgl> & <dbl>\\\\\n",
       "\\hline\n",
       "\t 1.5 & 2 & 1 & -1 & 19 & black & 2.4 & NA & NA & 0.5\\\\\n",
       "\\end{tabular}\n"
      ],
      "text/markdown": [
       "\n",
       "A data.frame: 1 × 10\n",
       "\n",
       "| x &lt;mppd_dsc&gt; | y &lt;dbl&gt; | PANEL &lt;dbl&gt; | group &lt;int&gt; | shape &lt;dbl&gt; | colour &lt;chr&gt; | size &lt;dbl&gt; | fill &lt;lgl&gt; | alpha &lt;lgl&gt; | stroke &lt;dbl&gt; |\n",
       "|---|---|---|---|---|---|---|---|---|---|\n",
       "| 1.5 | 2 | 1 | -1 | 19 | black | 2.4 | NA | NA | 0.5 |\n",
       "\n"
      ],
      "text/plain": [
       "  x   y PANEL group shape colour size fill alpha stroke\n",
       "1 1.5 2 1     -1    19    black  2.4  NA   NA    0.5   "
      ]
     },
     "metadata": {},
     "output_type": "display_data"
    }
   ],
   "source": [
    "layer_data(p, 2) # points"
   ]
  }
 ],
 "metadata": {
  "kernelspec": {
   "display_name": "R",
   "language": "R",
   "name": "ir"
  },
  "language_info": {
   "codemirror_mode": "r",
   "file_extension": ".r",
   "mimetype": "text/x-r-source",
   "name": "R",
   "pygments_lexer": "r",
   "version": "4.4.3"
  }
 },
 "nbformat": 4,
 "nbformat_minor": 5
}
