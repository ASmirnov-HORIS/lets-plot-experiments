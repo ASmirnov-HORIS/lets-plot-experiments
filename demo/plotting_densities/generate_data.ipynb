{
 "cells": [
  {
   "cell_type": "code",
   "execution_count": 1,
   "id": "21209874-d408-43b8-9c99-675f62fbbe4c",
   "metadata": {},
   "outputs": [
    {
     "name": "stderr",
     "output_type": "stream",
     "text": [
      "Updating HTML index of packages in '.Library'\n",
      "\n",
      "Making 'packages.html' ...\n",
      " done\n",
      "\n"
     ]
    }
   ],
   "source": [
    "install.packages(\"Distance\")"
   ]
  },
  {
   "cell_type": "code",
   "execution_count": 2,
   "id": "2189fb52-fe6c-43f6-aaa3-ea4f6d7cf408",
   "metadata": {},
   "outputs": [
    {
     "name": "stderr",
     "output_type": "stream",
     "text": [
      "Updating HTML index of packages in '.Library'\n",
      "\n",
      "Making 'packages.html' ...\n",
      " done\n",
      "\n"
     ]
    }
   ],
   "source": [
    "install.packages(\"dsm\")"
   ]
  },
  {
   "cell_type": "code",
   "execution_count": 3,
   "id": "6de7ad25-8881-4dcf-a7c3-af2fca52324a",
   "metadata": {},
   "outputs": [
    {
     "name": "stderr",
     "output_type": "stream",
     "text": [
      "Loading required package: mrds\n",
      "\n",
      "This is mrds 3.0.0\n",
      "Built: R 4.3.3; ; 2025-06-25 15:01:20 UTC; unix\n",
      "\n",
      "\n",
      "Attaching package: ‘Distance’\n",
      "\n",
      "\n",
      "The following object is masked from ‘package:mrds’:\n",
      "\n",
      "    create.bins\n",
      "\n",
      "\n",
      "Loading required package: mgcv\n",
      "\n",
      "Loading required package: nlme\n",
      "\n",
      "This is mgcv 1.9-3. For overview type 'help(\"mgcv-package\")'.\n",
      "\n",
      "Loading required package: numDeriv\n",
      "\n",
      "Registered S3 methods overwritten by 'dsm':\n",
      "  method                 from    \n",
      "  predict.fake_ddf       Distance\n",
      "  print.fake_ddf         Distance\n",
      "  print.summary.fake_ddf Distance\n",
      "  summary.fake_ddf       Distance\n",
      "\n",
      "This is dsm 2.3.3\n",
      "Built: R 4.3.3; ; 2025-06-26 10:18:17 UTC; unix\n",
      "\n",
      "\n",
      "Attaching package: ‘dsm’\n",
      "\n",
      "\n",
      "The following object is masked from ‘package:Distance’:\n",
      "\n",
      "    dummy_ddf\n",
      "\n",
      "\n"
     ]
    }
   ],
   "source": [
    "library(Distance)\n",
    "library(dsm)"
   ]
  },
  {
   "cell_type": "code",
   "execution_count": 4,
   "id": "16676837-91b2-40f1-9a34-5440e01073c1",
   "metadata": {},
   "outputs": [],
   "source": [
    "data_dir <- \"../../../spermwhaledata\"\n",
    "csv_data_dir <- paste(data_dir, \"csv\", sep=\"/\")\n",
    "generated_data_dir <- paste(data_dir, \"generated\", sep=\"/\")\n",
    "dir.create(generated_data_dir)"
   ]
  },
  {
   "cell_type": "code",
   "execution_count": 5,
   "id": "9209ff84-85eb-4b27-b640-543181150384",
   "metadata": {},
   "outputs": [
    {
     "data": {
      "text/html": [
       "<table class=\"dataframe\">\n",
       "<caption>A data.frame: 3 × 13</caption>\n",
       "<thead>\n",
       "\t<tr><th></th><th scope=col>Survey</th><th scope=col>SightingTime</th><th scope=col>distance</th><th scope=col>object</th><th scope=col>Sample.Label</th><th scope=col>size</th><th scope=col>detected</th><th scope=col>observer</th><th scope=col>Beaufort</th><th scope=col>long</th><th scope=col>lat</th><th scope=col>x</th><th scope=col>y</th></tr>\n",
       "\t<tr><th></th><th scope=col>&lt;chr&gt;</th><th scope=col>&lt;chr&gt;</th><th scope=col>&lt;dbl&gt;</th><th scope=col>&lt;int&gt;</th><th scope=col>&lt;int&gt;</th><th scope=col>&lt;dbl&gt;</th><th scope=col>&lt;int&gt;</th><th scope=col>&lt;int&gt;</th><th scope=col>&lt;dbl&gt;</th><th scope=col>&lt;dbl&gt;</th><th scope=col>&lt;dbl&gt;</th><th scope=col>&lt;dbl&gt;</th><th scope=col>&lt;dbl&gt;</th></tr>\n",
       "</thead>\n",
       "<tbody>\n",
       "\t<tr><th scope=row>1</th><td>en04395</td><td>2004-06-28 11:22:21</td><td> 246.0173</td><td>1</td><td>48</td><td>2</td><td>1</td><td>1</td><td>3.0</td><td>-65.636</td><td>39.576</td><td>633725.6</td><td>642049.0</td></tr>\n",
       "\t<tr><th scope=row>2</th><td>en04395</td><td>2004-06-28 14:18:14</td><td>1632.3934</td><td>2</td><td>50</td><td>2</td><td>1</td><td>1</td><td>2.5</td><td>-65.648</td><td>39.746</td><td>631348.3</td><td>660752.3</td></tr>\n",
       "\t<tr><th scope=row>3</th><td>en04395</td><td>2004-06-28 15:13:34</td><td>2368.9941</td><td>3</td><td>51</td><td>1</td><td>1</td><td>1</td><td>3.0</td><td>-65.692</td><td>39.843</td><td>626812.7</td><td>671194.6</td></tr>\n",
       "</tbody>\n",
       "</table>\n"
      ],
      "text/latex": [
       "A data.frame: 3 × 13\n",
       "\\begin{tabular}{r|lllllllllllll}\n",
       "  & Survey & SightingTime & distance & object & Sample.Label & size & detected & observer & Beaufort & long & lat & x & y\\\\\n",
       "  & <chr> & <chr> & <dbl> & <int> & <int> & <dbl> & <int> & <int> & <dbl> & <dbl> & <dbl> & <dbl> & <dbl>\\\\\n",
       "\\hline\n",
       "\t1 & en04395 & 2004-06-28 11:22:21 &  246.0173 & 1 & 48 & 2 & 1 & 1 & 3.0 & -65.636 & 39.576 & 633725.6 & 642049.0\\\\\n",
       "\t2 & en04395 & 2004-06-28 14:18:14 & 1632.3934 & 2 & 50 & 2 & 1 & 1 & 2.5 & -65.648 & 39.746 & 631348.3 & 660752.3\\\\\n",
       "\t3 & en04395 & 2004-06-28 15:13:34 & 2368.9941 & 3 & 51 & 1 & 1 & 1 & 3.0 & -65.692 & 39.843 & 626812.7 & 671194.6\\\\\n",
       "\\end{tabular}\n"
      ],
      "text/markdown": [
       "\n",
       "A data.frame: 3 × 13\n",
       "\n",
       "| <!--/--> | Survey &lt;chr&gt; | SightingTime &lt;chr&gt; | distance &lt;dbl&gt; | object &lt;int&gt; | Sample.Label &lt;int&gt; | size &lt;dbl&gt; | detected &lt;int&gt; | observer &lt;int&gt; | Beaufort &lt;dbl&gt; | long &lt;dbl&gt; | lat &lt;dbl&gt; | x &lt;dbl&gt; | y &lt;dbl&gt; |\n",
       "|---|---|---|---|---|---|---|---|---|---|---|---|---|---|\n",
       "| 1 | en04395 | 2004-06-28 11:22:21 |  246.0173 | 1 | 48 | 2 | 1 | 1 | 3.0 | -65.636 | 39.576 | 633725.6 | 642049.0 |\n",
       "| 2 | en04395 | 2004-06-28 14:18:14 | 1632.3934 | 2 | 50 | 2 | 1 | 1 | 2.5 | -65.648 | 39.746 | 631348.3 | 660752.3 |\n",
       "| 3 | en04395 | 2004-06-28 15:13:34 | 2368.9941 | 3 | 51 | 1 | 1 | 1 | 3.0 | -65.692 | 39.843 | 626812.7 | 671194.6 |\n",
       "\n"
      ],
      "text/plain": [
       "  Survey  SightingTime        distance  object Sample.Label size detected\n",
       "1 en04395 2004-06-28 11:22:21  246.0173 1      48           2    1       \n",
       "2 en04395 2004-06-28 14:18:14 1632.3934 2      50           2    1       \n",
       "3 en04395 2004-06-28 15:13:34 2368.9941 3      51           1    1       \n",
       "  observer Beaufort long    lat    x        y       \n",
       "1 1        3.0      -65.636 39.576 633725.6 642049.0\n",
       "2 1        2.5      -65.648 39.746 631348.3 660752.3\n",
       "3 1        3.0      -65.692 39.843 626812.7 671194.6"
      ]
     },
     "metadata": {},
     "output_type": "display_data"
    }
   ],
   "source": [
    "dist <- read.csv(paste(csv_data_dir, \"distdata.csv\", sep=\"/\"))\n",
    "obs <- read.csv(paste(csv_data_dir, \"obs.csv\", sep=\"/\"))\n",
    "predgrid <- read.csv(paste(csv_data_dir, \"predgrid.csv\", sep=\"/\"))\n",
    "segs <- read.csv(paste(csv_data_dir, \"segs.csv\", sep=\"/\"))\n",
    "head(dist, 3)"
   ]
  },
  {
   "cell_type": "code",
   "execution_count": 6,
   "id": "151527a9-5287-4953-9a82-64e56b1b73d8",
   "metadata": {},
   "outputs": [
    {
     "name": "stderr",
     "output_type": "stream",
     "text": [
      "Fitting half-normal key function\n",
      "\n",
      "AIC= 2252.06\n",
      "\n",
      "No survey area information supplied, only estimating detection function.\n",
      "\n",
      "\n"
     ]
    },
    {
     "data": {
      "text/plain": [
       "\n",
       "Distance sampling analysis object\n",
       "\n",
       "Detection function:\n",
       " Half-normal key function \n",
       "\n",
       "Estimated abundance in covered region: 240.416 "
      ]
     },
     "metadata": {},
     "output_type": "display_data"
    }
   ],
   "source": [
    "df_hn <- ds(data=dist, truncation=6000, key=\"hn\", adjustment=NULL)\n",
    "df_hn"
   ]
  },
  {
   "cell_type": "code",
   "execution_count": 7,
   "id": "9ce2b682-4f58-4204-96f2-ae5eeeb2b4a9",
   "metadata": {},
   "outputs": [
    {
     "name": "stderr",
     "output_type": "stream",
     "text": [
      "Warning message in make.data(response, ddf.obj, segment.data, observation.data, :\n",
      "“Some observations are outside of detection function 1 truncation!”\n"
     ]
    },
    {
     "data": {
      "text/plain": [
       "\n",
       "Density surface model\n",
       "Response :  count \n",
       "\n",
       "Detection function : Half-normal key function \n",
       "\n",
       "Formula:  count ~ s(x, y, bs = \"ts\") + s(Depth, bs = \"ts\") + offset(off.set) \n",
       "\n",
       "Fitting engine: gam\n"
      ]
     },
     "metadata": {},
     "output_type": "display_data"
    }
   ],
   "source": [
    "my_dsm <- dsm(count~s(x,y, bs=\"ts\") +\n",
    "                    s(Depth, bs=\"ts\"),\n",
    "              df_hn, segs, obs,\n",
    "              family=tw())\n",
    "my_dsm"
   ]
  },
  {
   "cell_type": "code",
   "execution_count": 8,
   "id": "2964fbab-79fb-4ffd-80ec-e60f7adf6da2",
   "metadata": {},
   "outputs": [
    {
     "data": {
      "text/html": [
       "<table class=\"dataframe\">\n",
       "<caption>A data.frame: 6 × 11</caption>\n",
       "<thead>\n",
       "\t<tr><th></th><th scope=col>x</th><th scope=col>y</th><th scope=col>Depth</th><th scope=col>SST</th><th scope=col>NPP</th><th scope=col>DistToCAS</th><th scope=col>EKE</th><th scope=col>off.set</th><th scope=col>long</th><th scope=col>lat</th><th scope=col>density</th></tr>\n",
       "\t<tr><th></th><th scope=col>&lt;dbl&gt;</th><th scope=col>&lt;dbl&gt;</th><th scope=col>&lt;dbl&gt;</th><th scope=col>&lt;dbl&gt;</th><th scope=col>&lt;dbl&gt;</th><th scope=col>&lt;dbl&gt;</th><th scope=col>&lt;dbl&gt;</th><th scope=col>&lt;dbl&gt;</th><th scope=col>&lt;dbl&gt;</th><th scope=col>&lt;dbl&gt;</th><th scope=col>&lt;dbl[1d]&gt;</th></tr>\n",
       "</thead>\n",
       "<tbody>\n",
       "\t<tr><th scope=row>1</th><td>547984.6</td><td>788254</td><td> 153.59825</td><td>12.04609</td><td>1462.521</td><td>11788.974</td><td>0.0008329031</td><td>1e+08</td><td>-66.52252</td><td>40.94697</td><td>0.006334498</td></tr>\n",
       "\t<tr><th scope=row>2</th><td>557984.6</td><td>788254</td><td> 552.31067</td><td>12.81379</td><td>1465.410</td><td> 5697.248</td><td>0.0009806611</td><td>1e+08</td><td>-66.40464</td><td>40.94121</td><td>0.023877901</td></tr>\n",
       "\t<tr><th scope=row>3</th><td>527984.6</td><td>778254</td><td>  96.81992</td><td>12.90251</td><td>1429.432</td><td>13722.626</td><td>0.0011575423</td><td>1e+08</td><td>-66.76551</td><td>40.86781</td><td>0.005421990</td></tr>\n",
       "\t<tr><th scope=row>4</th><td>537984.6</td><td>778254</td><td> 138.23763</td><td>13.21393</td><td>1424.862</td><td> 9720.671</td><td>0.0013417297</td><td>1e+08</td><td>-66.64772</td><td>40.86227</td><td>0.005965414</td></tr>\n",
       "\t<tr><th scope=row>5</th><td>547984.6</td><td>778254</td><td> 505.14386</td><td>13.75655</td><td>1379.351</td><td> 8018.690</td><td>0.0026881567</td><td>1e+08</td><td>-66.52996</td><td>40.85662</td><td>0.020205362</td></tr>\n",
       "\t<tr><th scope=row>6</th><td>557984.6</td><td>778254</td><td>1317.59521</td><td>14.42525</td><td>1348.544</td><td> 3775.462</td><td>0.0045683752</td><td>1e+08</td><td>-66.41221</td><td>40.85087</td><td>0.263562208</td></tr>\n",
       "</tbody>\n",
       "</table>\n"
      ],
      "text/latex": [
       "A data.frame: 6 × 11\n",
       "\\begin{tabular}{r|lllllllllll}\n",
       "  & x & y & Depth & SST & NPP & DistToCAS & EKE & off.set & long & lat & density\\\\\n",
       "  & <dbl> & <dbl> & <dbl> & <dbl> & <dbl> & <dbl> & <dbl> & <dbl> & <dbl> & <dbl> & <dbl{[}1d{]}>\\\\\n",
       "\\hline\n",
       "\t1 & 547984.6 & 788254 &  153.59825 & 12.04609 & 1462.521 & 11788.974 & 0.0008329031 & 1e+08 & -66.52252 & 40.94697 & 0.006334498\\\\\n",
       "\t2 & 557984.6 & 788254 &  552.31067 & 12.81379 & 1465.410 &  5697.248 & 0.0009806611 & 1e+08 & -66.40464 & 40.94121 & 0.023877901\\\\\n",
       "\t3 & 527984.6 & 778254 &   96.81992 & 12.90251 & 1429.432 & 13722.626 & 0.0011575423 & 1e+08 & -66.76551 & 40.86781 & 0.005421990\\\\\n",
       "\t4 & 537984.6 & 778254 &  138.23763 & 13.21393 & 1424.862 &  9720.671 & 0.0013417297 & 1e+08 & -66.64772 & 40.86227 & 0.005965414\\\\\n",
       "\t5 & 547984.6 & 778254 &  505.14386 & 13.75655 & 1379.351 &  8018.690 & 0.0026881567 & 1e+08 & -66.52996 & 40.85662 & 0.020205362\\\\\n",
       "\t6 & 557984.6 & 778254 & 1317.59521 & 14.42525 & 1348.544 &  3775.462 & 0.0045683752 & 1e+08 & -66.41221 & 40.85087 & 0.263562208\\\\\n",
       "\\end{tabular}\n"
      ],
      "text/markdown": [
       "\n",
       "A data.frame: 6 × 11\n",
       "\n",
       "| <!--/--> | x &lt;dbl&gt; | y &lt;dbl&gt; | Depth &lt;dbl&gt; | SST &lt;dbl&gt; | NPP &lt;dbl&gt; | DistToCAS &lt;dbl&gt; | EKE &lt;dbl&gt; | off.set &lt;dbl&gt; | long &lt;dbl&gt; | lat &lt;dbl&gt; | density &lt;dbl[1d]&gt; |\n",
       "|---|---|---|---|---|---|---|---|---|---|---|---|\n",
       "| 1 | 547984.6 | 788254 |  153.59825 | 12.04609 | 1462.521 | 11788.974 | 0.0008329031 | 1e+08 | -66.52252 | 40.94697 | 0.006334498 |\n",
       "| 2 | 557984.6 | 788254 |  552.31067 | 12.81379 | 1465.410 |  5697.248 | 0.0009806611 | 1e+08 | -66.40464 | 40.94121 | 0.023877901 |\n",
       "| 3 | 527984.6 | 778254 |   96.81992 | 12.90251 | 1429.432 | 13722.626 | 0.0011575423 | 1e+08 | -66.76551 | 40.86781 | 0.005421990 |\n",
       "| 4 | 537984.6 | 778254 |  138.23763 | 13.21393 | 1424.862 |  9720.671 | 0.0013417297 | 1e+08 | -66.64772 | 40.86227 | 0.005965414 |\n",
       "| 5 | 547984.6 | 778254 |  505.14386 | 13.75655 | 1379.351 |  8018.690 | 0.0026881567 | 1e+08 | -66.52996 | 40.85662 | 0.020205362 |\n",
       "| 6 | 557984.6 | 778254 | 1317.59521 | 14.42525 | 1348.544 |  3775.462 | 0.0045683752 | 1e+08 | -66.41221 | 40.85087 | 0.263562208 |\n",
       "\n"
      ],
      "text/plain": [
       "  x        y      Depth      SST      NPP      DistToCAS EKE          off.set\n",
       "1 547984.6 788254  153.59825 12.04609 1462.521 11788.974 0.0008329031 1e+08  \n",
       "2 557984.6 788254  552.31067 12.81379 1465.410  5697.248 0.0009806611 1e+08  \n",
       "3 527984.6 778254   96.81992 12.90251 1429.432 13722.626 0.0011575423 1e+08  \n",
       "4 537984.6 778254  138.23763 13.21393 1424.862  9720.671 0.0013417297 1e+08  \n",
       "5 547984.6 778254  505.14386 13.75655 1379.351  8018.690 0.0026881567 1e+08  \n",
       "6 557984.6 778254 1317.59521 14.42525 1348.544  3775.462 0.0045683752 1e+08  \n",
       "  long      lat      density    \n",
       "1 -66.52252 40.94697 0.006334498\n",
       "2 -66.40464 40.94121 0.023877901\n",
       "3 -66.76551 40.86781 0.005421990\n",
       "4 -66.64772 40.86227 0.005965414\n",
       "5 -66.52996 40.85662 0.020205362\n",
       "6 -66.41221 40.85087 0.263562208"
      ]
     },
     "metadata": {},
     "output_type": "display_data"
    }
   ],
   "source": [
    "predgrid$density <- predict(my_dsm, newdata=predgrid, offset=predgrid$off.set)\n",
    "head(predgrid)"
   ]
  },
  {
   "cell_type": "code",
   "execution_count": 9,
   "id": "e7013ab4-f4a1-49f7-8f98-bc12aa4e9189",
   "metadata": {},
   "outputs": [],
   "source": [
    "write.csv(predgrid, paste(generated_data_dir, \"predgrid.csv\", sep=\"/\"), row.names = FALSE)"
   ]
  },
  {
   "cell_type": "code",
   "execution_count": 10,
   "id": "476987ae-5b3b-46e3-ab64-a34227c01048",
   "metadata": {},
   "outputs": [
    {
     "data": {
      "text/html": [
       "<table class=\"dataframe\">\n",
       "<caption>A data.frame: 6 × 12</caption>\n",
       "<thead>\n",
       "\t<tr><th></th><th scope=col>x</th><th scope=col>y</th><th scope=col>Depth</th><th scope=col>SST</th><th scope=col>NPP</th><th scope=col>DistToCAS</th><th scope=col>EKE</th><th scope=col>off.set</th><th scope=col>long</th><th scope=col>lat</th><th scope=col>density</th><th scope=col>densityd</th></tr>\n",
       "\t<tr><th></th><th scope=col>&lt;dbl&gt;</th><th scope=col>&lt;dbl&gt;</th><th scope=col>&lt;dbl&gt;</th><th scope=col>&lt;dbl&gt;</th><th scope=col>&lt;dbl&gt;</th><th scope=col>&lt;dbl&gt;</th><th scope=col>&lt;dbl&gt;</th><th scope=col>&lt;dbl&gt;</th><th scope=col>&lt;dbl&gt;</th><th scope=col>&lt;dbl&gt;</th><th scope=col>&lt;dbl[1d]&gt;</th><th scope=col>&lt;fct&gt;</th></tr>\n",
       "</thead>\n",
       "<tbody>\n",
       "\t<tr><th scope=row>1</th><td>547984.6</td><td>788254</td><td> 153.59825</td><td>12.04609</td><td>1462.521</td><td>11788.974</td><td>0.0008329031</td><td>1e+08</td><td>-66.52252</td><td>40.94697</td><td>0.006334498</td><td>(0,0.1]  </td></tr>\n",
       "\t<tr><th scope=row>2</th><td>557984.6</td><td>788254</td><td> 552.31067</td><td>12.81379</td><td>1465.410</td><td> 5697.248</td><td>0.0009806611</td><td>1e+08</td><td>-66.40464</td><td>40.94121</td><td>0.023877901</td><td>(0,0.1]  </td></tr>\n",
       "\t<tr><th scope=row>3</th><td>527984.6</td><td>778254</td><td>  96.81992</td><td>12.90251</td><td>1429.432</td><td>13722.626</td><td>0.0011575423</td><td>1e+08</td><td>-66.76551</td><td>40.86781</td><td>0.005421990</td><td>(0,0.1]  </td></tr>\n",
       "\t<tr><th scope=row>4</th><td>537984.6</td><td>778254</td><td> 138.23763</td><td>13.21393</td><td>1424.862</td><td> 9720.671</td><td>0.0013417297</td><td>1e+08</td><td>-66.64772</td><td>40.86227</td><td>0.005965414</td><td>(0,0.1]  </td></tr>\n",
       "\t<tr><th scope=row>5</th><td>547984.6</td><td>778254</td><td> 505.14386</td><td>13.75655</td><td>1379.351</td><td> 8018.690</td><td>0.0026881567</td><td>1e+08</td><td>-66.52996</td><td>40.85662</td><td>0.020205362</td><td>(0,0.1]  </td></tr>\n",
       "\t<tr><th scope=row>6</th><td>557984.6</td><td>778254</td><td>1317.59521</td><td>14.42525</td><td>1348.544</td><td> 3775.462</td><td>0.0045683752</td><td>1e+08</td><td>-66.41221</td><td>40.85087</td><td>0.263562208</td><td>(0.1,0.5]</td></tr>\n",
       "</tbody>\n",
       "</table>\n"
      ],
      "text/latex": [
       "A data.frame: 6 × 12\n",
       "\\begin{tabular}{r|llllllllllll}\n",
       "  & x & y & Depth & SST & NPP & DistToCAS & EKE & off.set & long & lat & density & densityd\\\\\n",
       "  & <dbl> & <dbl> & <dbl> & <dbl> & <dbl> & <dbl> & <dbl> & <dbl> & <dbl> & <dbl> & <dbl{[}1d{]}> & <fct>\\\\\n",
       "\\hline\n",
       "\t1 & 547984.6 & 788254 &  153.59825 & 12.04609 & 1462.521 & 11788.974 & 0.0008329031 & 1e+08 & -66.52252 & 40.94697 & 0.006334498 & (0,0.1{]}  \\\\\n",
       "\t2 & 557984.6 & 788254 &  552.31067 & 12.81379 & 1465.410 &  5697.248 & 0.0009806611 & 1e+08 & -66.40464 & 40.94121 & 0.023877901 & (0,0.1{]}  \\\\\n",
       "\t3 & 527984.6 & 778254 &   96.81992 & 12.90251 & 1429.432 & 13722.626 & 0.0011575423 & 1e+08 & -66.76551 & 40.86781 & 0.005421990 & (0,0.1{]}  \\\\\n",
       "\t4 & 537984.6 & 778254 &  138.23763 & 13.21393 & 1424.862 &  9720.671 & 0.0013417297 & 1e+08 & -66.64772 & 40.86227 & 0.005965414 & (0,0.1{]}  \\\\\n",
       "\t5 & 547984.6 & 778254 &  505.14386 & 13.75655 & 1379.351 &  8018.690 & 0.0026881567 & 1e+08 & -66.52996 & 40.85662 & 0.020205362 & (0,0.1{]}  \\\\\n",
       "\t6 & 557984.6 & 778254 & 1317.59521 & 14.42525 & 1348.544 &  3775.462 & 0.0045683752 & 1e+08 & -66.41221 & 40.85087 & 0.263562208 & (0.1,0.5{]}\\\\\n",
       "\\end{tabular}\n"
      ],
      "text/markdown": [
       "\n",
       "A data.frame: 6 × 12\n",
       "\n",
       "| <!--/--> | x &lt;dbl&gt; | y &lt;dbl&gt; | Depth &lt;dbl&gt; | SST &lt;dbl&gt; | NPP &lt;dbl&gt; | DistToCAS &lt;dbl&gt; | EKE &lt;dbl&gt; | off.set &lt;dbl&gt; | long &lt;dbl&gt; | lat &lt;dbl&gt; | density &lt;dbl[1d]&gt; | densityd &lt;fct&gt; |\n",
       "|---|---|---|---|---|---|---|---|---|---|---|---|---|\n",
       "| 1 | 547984.6 | 788254 |  153.59825 | 12.04609 | 1462.521 | 11788.974 | 0.0008329031 | 1e+08 | -66.52252 | 40.94697 | 0.006334498 | (0,0.1]   |\n",
       "| 2 | 557984.6 | 788254 |  552.31067 | 12.81379 | 1465.410 |  5697.248 | 0.0009806611 | 1e+08 | -66.40464 | 40.94121 | 0.023877901 | (0,0.1]   |\n",
       "| 3 | 527984.6 | 778254 |   96.81992 | 12.90251 | 1429.432 | 13722.626 | 0.0011575423 | 1e+08 | -66.76551 | 40.86781 | 0.005421990 | (0,0.1]   |\n",
       "| 4 | 537984.6 | 778254 |  138.23763 | 13.21393 | 1424.862 |  9720.671 | 0.0013417297 | 1e+08 | -66.64772 | 40.86227 | 0.005965414 | (0,0.1]   |\n",
       "| 5 | 547984.6 | 778254 |  505.14386 | 13.75655 | 1379.351 |  8018.690 | 0.0026881567 | 1e+08 | -66.52996 | 40.85662 | 0.020205362 | (0,0.1]   |\n",
       "| 6 | 557984.6 | 778254 | 1317.59521 | 14.42525 | 1348.544 |  3775.462 | 0.0045683752 | 1e+08 | -66.41221 | 40.85087 | 0.263562208 | (0.1,0.5] |\n",
       "\n"
      ],
      "text/plain": [
       "  x        y      Depth      SST      NPP      DistToCAS EKE          off.set\n",
       "1 547984.6 788254  153.59825 12.04609 1462.521 11788.974 0.0008329031 1e+08  \n",
       "2 557984.6 788254  552.31067 12.81379 1465.410  5697.248 0.0009806611 1e+08  \n",
       "3 527984.6 778254   96.81992 12.90251 1429.432 13722.626 0.0011575423 1e+08  \n",
       "4 537984.6 778254  138.23763 13.21393 1424.862  9720.671 0.0013417297 1e+08  \n",
       "5 547984.6 778254  505.14386 13.75655 1379.351  8018.690 0.0026881567 1e+08  \n",
       "6 557984.6 778254 1317.59521 14.42525 1348.544  3775.462 0.0045683752 1e+08  \n",
       "  long      lat      density     densityd \n",
       "1 -66.52252 40.94697 0.006334498 (0,0.1]  \n",
       "2 -66.40464 40.94121 0.023877901 (0,0.1]  \n",
       "3 -66.76551 40.86781 0.005421990 (0,0.1]  \n",
       "4 -66.64772 40.86227 0.005965414 (0,0.1]  \n",
       "5 -66.52996 40.85662 0.020205362 (0,0.1]  \n",
       "6 -66.41221 40.85087 0.263562208 (0.1,0.5]"
      ]
     },
     "metadata": {},
     "output_type": "display_data"
    }
   ],
   "source": [
    "predgrid_d <- predgrid\n",
    "predgrid_d$densityd <- cut(predgrid_d$density, c(0, 0.1, 0.5, 1, 2, 3.1))\n",
    "head(predgrid_d)"
   ]
  },
  {
   "cell_type": "code",
   "execution_count": 11,
   "id": "ffeb2a00-a63f-4e3e-aa1a-7545ddd0fff6",
   "metadata": {},
   "outputs": [],
   "source": [
    "write.csv(predgrid_d, paste(generated_data_dir, \"predgrid_d.csv\", sep=\"/\"), row.names = FALSE)"
   ]
  },
  {
   "cell_type": "code",
   "execution_count": 12,
   "id": "e521c5f6-dcba-4e37-8c09-a7c2308b02a9",
   "metadata": {},
   "outputs": [
    {
     "data": {
      "text/html": [
       "<table class=\"dataframe\">\n",
       "<caption>A data.frame: 6 × 11</caption>\n",
       "<thead>\n",
       "\t<tr><th></th><th scope=col>x</th><th scope=col>y</th><th scope=col>Depth</th><th scope=col>SST</th><th scope=col>NPP</th><th scope=col>DistToCAS</th><th scope=col>EKE</th><th scope=col>off.set</th><th scope=col>long</th><th scope=col>lat</th><th scope=col>density</th></tr>\n",
       "\t<tr><th></th><th scope=col>&lt;dbl&gt;</th><th scope=col>&lt;dbl&gt;</th><th scope=col>&lt;dbl&gt;</th><th scope=col>&lt;dbl&gt;</th><th scope=col>&lt;dbl&gt;</th><th scope=col>&lt;dbl&gt;</th><th scope=col>&lt;dbl&gt;</th><th scope=col>&lt;dbl&gt;</th><th scope=col>&lt;dbl&gt;</th><th scope=col>&lt;dbl&gt;</th><th scope=col>&lt;dbl[1d]&gt;</th></tr>\n",
       "</thead>\n",
       "<tbody>\n",
       "\t<tr><th scope=row>13</th><td>557984.6</td><td>768254</td><td>1829.363</td><td>16.28555</td><td>1250.005</td><td>4541.3862</td><td>0.01737181</td><td>1e+08</td><td>-66.41976</td><td>40.76056</td><td>0.6347843</td></tr>\n",
       "\t<tr><th scope=row>22</th><td>547984.6</td><td>758254</td><td>1826.542</td><td>17.78271</td><td>1260.608</td><td>2561.7629</td><td>0.02221215</td><td>1e+08</td><td>-66.54478</td><td>40.67599</td><td>0.6290825</td></tr>\n",
       "\t<tr><th scope=row>23</th><td>557984.6</td><td>758254</td><td>2139.372</td><td>18.43224</td><td>1213.327</td><td>1949.2075</td><td>0.02980540</td><td>1e+08</td><td>-66.42730</td><td>40.67026</td><td>0.6959115</td></tr>\n",
       "\t<tr><th scope=row>23.1</th><td>557984.6</td><td>758254</td><td>2139.372</td><td>18.43224</td><td>1213.327</td><td>1949.2075</td><td>0.02980540</td><td>1e+08</td><td>-66.42730</td><td>40.67026</td><td>0.6959115</td></tr>\n",
       "\t<tr><th scope=row>24</th><td>567984.6</td><td>758254</td><td>2337.434</td><td>18.95543</td><td>1200.634</td><td> 650.7568</td><td>0.03842679</td><td>1e+08</td><td>-66.30983</td><td>40.66442</td><td>0.6472542</td></tr>\n",
       "\t<tr><th scope=row>25</th><td>577984.6</td><td>758254</td><td>2704.084</td><td>19.40874</td><td>1216.026</td><td>1194.6709</td><td>0.04799516</td><td>1e+08</td><td>-66.19239</td><td>40.65848</td><td>0.5266832</td></tr>\n",
       "</tbody>\n",
       "</table>\n"
      ],
      "text/latex": [
       "A data.frame: 6 × 11\n",
       "\\begin{tabular}{r|lllllllllll}\n",
       "  & x & y & Depth & SST & NPP & DistToCAS & EKE & off.set & long & lat & density\\\\\n",
       "  & <dbl> & <dbl> & <dbl> & <dbl> & <dbl> & <dbl> & <dbl> & <dbl> & <dbl> & <dbl> & <dbl{[}1d{]}>\\\\\n",
       "\\hline\n",
       "\t13 & 557984.6 & 768254 & 1829.363 & 16.28555 & 1250.005 & 4541.3862 & 0.01737181 & 1e+08 & -66.41976 & 40.76056 & 0.6347843\\\\\n",
       "\t22 & 547984.6 & 758254 & 1826.542 & 17.78271 & 1260.608 & 2561.7629 & 0.02221215 & 1e+08 & -66.54478 & 40.67599 & 0.6290825\\\\\n",
       "\t23 & 557984.6 & 758254 & 2139.372 & 18.43224 & 1213.327 & 1949.2075 & 0.02980540 & 1e+08 & -66.42730 & 40.67026 & 0.6959115\\\\\n",
       "\t23.1 & 557984.6 & 758254 & 2139.372 & 18.43224 & 1213.327 & 1949.2075 & 0.02980540 & 1e+08 & -66.42730 & 40.67026 & 0.6959115\\\\\n",
       "\t24 & 567984.6 & 758254 & 2337.434 & 18.95543 & 1200.634 &  650.7568 & 0.03842679 & 1e+08 & -66.30983 & 40.66442 & 0.6472542\\\\\n",
       "\t25 & 577984.6 & 758254 & 2704.084 & 19.40874 & 1216.026 & 1194.6709 & 0.04799516 & 1e+08 & -66.19239 & 40.65848 & 0.5266832\\\\\n",
       "\\end{tabular}\n"
      ],
      "text/markdown": [
       "\n",
       "A data.frame: 6 × 11\n",
       "\n",
       "| <!--/--> | x &lt;dbl&gt; | y &lt;dbl&gt; | Depth &lt;dbl&gt; | SST &lt;dbl&gt; | NPP &lt;dbl&gt; | DistToCAS &lt;dbl&gt; | EKE &lt;dbl&gt; | off.set &lt;dbl&gt; | long &lt;dbl&gt; | lat &lt;dbl&gt; | density &lt;dbl[1d]&gt; |\n",
       "|---|---|---|---|---|---|---|---|---|---|---|---|\n",
       "| 13 | 557984.6 | 768254 | 1829.363 | 16.28555 | 1250.005 | 4541.3862 | 0.01737181 | 1e+08 | -66.41976 | 40.76056 | 0.6347843 |\n",
       "| 22 | 547984.6 | 758254 | 1826.542 | 17.78271 | 1260.608 | 2561.7629 | 0.02221215 | 1e+08 | -66.54478 | 40.67599 | 0.6290825 |\n",
       "| 23 | 557984.6 | 758254 | 2139.372 | 18.43224 | 1213.327 | 1949.2075 | 0.02980540 | 1e+08 | -66.42730 | 40.67026 | 0.6959115 |\n",
       "| 23.1 | 557984.6 | 758254 | 2139.372 | 18.43224 | 1213.327 | 1949.2075 | 0.02980540 | 1e+08 | -66.42730 | 40.67026 | 0.6959115 |\n",
       "| 24 | 567984.6 | 758254 | 2337.434 | 18.95543 | 1200.634 |  650.7568 | 0.03842679 | 1e+08 | -66.30983 | 40.66442 | 0.6472542 |\n",
       "| 25 | 577984.6 | 758254 | 2704.084 | 19.40874 | 1216.026 | 1194.6709 | 0.04799516 | 1e+08 | -66.19239 | 40.65848 | 0.5266832 |\n",
       "\n"
      ],
      "text/plain": [
       "     x        y      Depth    SST      NPP      DistToCAS EKE        off.set\n",
       "13   557984.6 768254 1829.363 16.28555 1250.005 4541.3862 0.01737181 1e+08  \n",
       "22   547984.6 758254 1826.542 17.78271 1260.608 2561.7629 0.02221215 1e+08  \n",
       "23   557984.6 758254 2139.372 18.43224 1213.327 1949.2075 0.02980540 1e+08  \n",
       "23.1 557984.6 758254 2139.372 18.43224 1213.327 1949.2075 0.02980540 1e+08  \n",
       "24   567984.6 758254 2337.434 18.95543 1200.634  650.7568 0.03842679 1e+08  \n",
       "25   577984.6 758254 2704.084 19.40874 1216.026 1194.6709 0.04799516 1e+08  \n",
       "     long      lat      density  \n",
       "13   -66.41976 40.76056 0.6347843\n",
       "22   -66.54478 40.67599 0.6290825\n",
       "23   -66.42730 40.67026 0.6959115\n",
       "23.1 -66.42730 40.67026 0.6959115\n",
       "24   -66.30983 40.66442 0.6472542\n",
       "25   -66.19239 40.65848 0.5266832"
      ]
     },
     "metadata": {},
     "output_type": "display_data"
    }
   ],
   "source": [
    "# sample from a poisson with intensity==density\n",
    "ndot <- rpois(rep(1,nrow(predgrid)), predgrid$density)\n",
    "# make a new data set with locations of \"observations\" above\n",
    "# some of the predgrid gets dropped, the rest multiplied\n",
    "rep_grid <- predgrid[rep(1:nrow(predgrid), ndot), ]\n",
    "head(rep_grid)"
   ]
  },
  {
   "cell_type": "code",
   "execution_count": 13,
   "id": "df867c7a-34c3-4714-8a4f-b7c4baa90a02",
   "metadata": {},
   "outputs": [],
   "source": [
    "write.csv(rep_grid, paste(generated_data_dir, \"rep_grid.csv\", sep=\"/\"), row.names = FALSE)"
   ]
  }
 ],
 "metadata": {
  "kernelspec": {
   "display_name": "R",
   "language": "R",
   "name": "ir"
  },
  "language_info": {
   "codemirror_mode": "r",
   "file_extension": ".r",
   "mimetype": "text/x-r-source",
   "name": "R",
   "pygments_lexer": "r",
   "version": "4.3.3"
  }
 },
 "nbformat": 4,
 "nbformat_minor": 5
}
