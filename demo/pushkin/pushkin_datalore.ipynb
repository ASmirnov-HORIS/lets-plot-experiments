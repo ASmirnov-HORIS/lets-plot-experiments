{
 "cells":[
  {
   "cell_type":"markdown",
   "source":[
    "# Pushkin as Traveller\n",
    "\n",
    "Pushkin grew up in Moscow and St. Petersburg. In 1819 he was exiled, at the age of nineteen, to a small town called Kishinev and then he was moved to his family estate in Ekaterinoslav. He remained in exile for nearly seven years until 1826 when Tsar Nicholas came to power. Below you can see a map of his travels throughout Russia.\n",
    "\n",
    "<img src=\"https:\/\/raw.githubusercontent.com\/JetBrains\/lets-plot-docs\/master\/data\/pushkin\/O.Kiprensky_-_A.S.Pushkin.jpg\" alt=\"Portrait of A.S. Pushkin\" style=\"width: 300px;\"\/>\n",
    "\n",
    "[Original version](https:\/\/www.rgo.ru\/ru\/article\/pushkin-puteshestvennik-linii-zhizni-linii-na-karte) of the graph that you can see below.\n",
    "\n",
    "Also, see the [short journey through his biography](https:\/\/pushkinland.ru\/2018\/english\/push1.php).\n",
    "\n",
    "Some data was collected from other sources, such as:\n",
    "\n",
    "- [https:\/\/en.wikipedia.org\/wiki\/Alexander_Pushkin](https:\/\/en.wikipedia.org\/wiki\/Alexander_Pushkin)\n",
    "- [http:\/\/hronika.su\/pushkin-a-s](http:\/\/hronika.su\/pushkin-a-s)"
   ],
   "attachments":{
    
   },
   "metadata":{
    "datalore":{
     "node_id":"RbqIT0Ffy0K3Y19ukexs4c",
     "type":"MD",
     "hide_input_from_viewers":false,
     "hide_output_from_viewers":false,
     "report_properties":{
      "rowId":"KEmvgqU9p3mD9ZU2iUzWYK",
      "relativeY":0
     }
    }
   }
  },
  {
   "cell_type":"code",
   "source":[
    "import pandas as pd\n",
    "\n",
    "from lets_plot import *"
   ],
   "execution_count":6,
   "outputs":[
    
   ],
   "metadata":{
    "datalore":{
     "node_id":"oqftYUJICKS69NYV1pwN2m",
     "type":"CODE",
     "hide_input_from_viewers":false,
     "hide_output_from_viewers":false,
     "report_properties":{
      "rowId":"D95lYf8Jfdk6pxU86rmNz5",
      "relativeY":0
     }
    }
   }
  },
  {
   "cell_type":"code",
   "source":[
    "LetsPlot.setup_html()"
   ],
   "execution_count":7,
   "outputs":[
    
   ],
   "metadata":{
    "datalore":{
     "node_id":"QxDmg3GumKvc3qUS2cF8hD",
     "type":"CODE",
     "hide_input_from_viewers":false,
     "hide_output_from_viewers":false,
     "report_properties":{
      "rowId":"O1LmSJ86VEnrkaR923SpmY",
      "relativeY":0
     }
    }
   }
  },
  {
   "cell_type":"code",
   "source":[
    "def append_stay_time_calculator(places_df, moves_df):\n",
    "    def stay_time_calculator(df):\n",
    "        current_moves = moves_df[(moves_df[\"departure\"] == df[\"name\"])|(moves_df[\"arrival\"] == df[\"name\"])]\n",
    "        years = sorted(current_moves[\"year\"].unique())\n",
    "        years_combined = []\n",
    "        for year in years:\n",
    "            if not any(years_combined) or years_combined[-1][1] + 1 != year:\n",
    "                years_combined.append((year, year))\n",
    "            else:\n",
    "                years_combined[-1] = (years_combined[-1][0], year)\n",
    "        years_combined = [str(year_from) if year_from == year_to else \"{0}-{1}\".format(year_from, year_to)\n",
    "                          for year_from, year_to in years_combined]\n",
    "        df[\"years\"] = \", \".join(years_combined)\n",
    "        return df\n",
    "\n",
    "    places_df[\"years\"] = None\n",
    "    return places_df.apply(stay_time_calculator, axis=1)"
   ],
   "execution_count":8,
   "outputs":[
    
   ],
   "metadata":{
    "datalore":{
     "node_id":"ekn75M1cJiIgzChStWQnAq",
     "type":"CODE",
     "hide_input_from_viewers":false,
     "hide_output_from_viewers":false,
     "report_properties":{
      "rowId":"WSfybvCeb5ND6bSPj5PaHF",
      "relativeY":0
     }
    }
   }
  },
  {
   "cell_type":"code",
   "source":[
    "raw_places_df = pd.read_csv(\"https:\/\/raw.githubusercontent.com\/JetBrains\/lets-plot-docs\/master\/data\/pushkin\/places.csv\")\n",
    "raw_moves_df = pd.read_csv(\"https:\/\/raw.githubusercontent.com\/JetBrains\/lets-plot-docs\/master\/data\/pushkin\/moves.csv\")\n",
    "moves_df = raw_moves_df.merge(raw_places_df, left_on=\"departure\", right_on=\"name\")\\\n",
    "             .rename(columns=dict(longitude=\"from_lon\", latitude=\"from_lat\"))\\\n",
    "             .drop(columns=[\"name\"])\\\n",
    "             .merge(raw_places_df, left_on=\"arrival\", right_on=\"name\")\\\n",
    "             .rename(columns=dict(longitude=\"to_lon\", latitude=\"to_lat\"))\\\n",
    "             .drop(columns=[\"name\"])\n",
    "places_df = append_stay_time_calculator(raw_places_df, raw_moves_df)"
   ],
   "execution_count":9,
   "outputs":[
    
   ],
   "metadata":{
    "datalore":{
     "node_id":"bBgrA3IK57eAQBUWLcjsNf",
     "type":"CODE",
     "hide_input_from_viewers":false,
     "hide_output_from_viewers":false,
     "report_properties":{
      "rowId":"JGGNGyKIwo8SeUSJ7RLopZ",
      "relativeY":0
     }
    }
   }
  },
  {
   "cell_type":"code",
   "source":[
    "ggplot() + \\\n",
    "    geom_livemap(const_size_zoomin=3) + \\\n",
    "    geom_curve(aes(x=\"from_lon\", y=\"from_lat\", xend=\"to_lon\", yend=\"to_lat\", color='path'),\n",
    "               data=moves_df, curvature=-.1, spacer=4,\n",
    "               tooltips=layer_tooltips().title(\"Trip name\").line(\"@path\"),\n",
    "               arrow=arrow(type='closed', length=10, angle=15), size=1) + \\\n",
    "    geom_point(aes(x=\"longitude\", y=\"latitude\"), data=places_df, size=3, color='#F7F4F0',\n",
    "               tooltips=layer_tooltips().title(\"@name\").line(\"Visited in @years\")) + \\\n",
    "    geom_point(aes(x=\"longitude\", y=\"latitude\"), data=places_df, size=1.7, color='black',\n",
    "               tooltips='none') + \\\n",
    "    scale_color_manual(name=\"Trip name\", values=['#addd8e', '#e34a33', '#8856a7', '#2c7fb8',\n",
    "                                                 '#1c9099', '#006d2c', '#fec44f', '#636363']) + \\\n",
    "    coord_cartesian(xlim=[26, 58], ylim=[38, 62]) + \\\n",
    "    ggtitle(\"Alexander Pushkin's Trips\") + \\\n",
    "    ggsize(800, 600) + \\\n",
    "    theme(axis_title='blank', axis_text='blank', axis_ticks='blank', axis_line='blank',\n",
    "          plot_title=element_text(size=20, margin=[20, 0, 0, 0]))"
   ],
   "execution_count":10,
   "outputs":[
    {
     "data":{
      "text\/html":[
       "<html lang=\"en\">\n",
       "   <head>\n",
       "       <meta charset=\"UTF-8\">\n",
       "       <script type=\"text\/javascript\" data-lets-plot-script=\"library\" src=\"https:\/\/cdn.jsdelivr.net\/gh\/JetBrains\/lets-plot@v4.3.0\/js-package\/distr\/lets-plot.min.js\"><\/script>\n",
       "   <\/head>\n",
       "   <body>\n",
       "          <div id=\"uxyWMU\"><\/div>\n",
       "   <script type=\"text\/javascript\" data-lets-plot-script=\"plot\">\n",
       "       var plotSpec={\n",
       "\"mapping\":{\n",
       "},\n",
       "\"data_meta\":{\n",
       "},\n",
       "\"coord\":{\n",
       "\"name\":\"cartesian\",\n",
       "\"xlim\":[26.0,58.0],\n",
       "\"ylim\":[38.0,62.0],\n",
       "\"flip\":false\n",
       "},\n",
       "\"ggtitle\":{\n",
       "\"text\":\"Alexander Pushkin's Trips\"\n",
       "},\n",
       "\"ggsize\":{\n",
       "\"width\":800.0,\n",
       "\"height\":600.0\n",
       "},\n",
       "\"theme\":{\n",
       "\"axis_title\":\"blank\",\n",
       "\"axis_text\":\"blank\",\n",
       "\"axis_ticks\":\"blank\",\n",
       "\"axis_line\":\"blank\",\n",
       "\"plot_title\":{\n",
       "\"size\":20.0,\n",
       "\"margin\":[20.0,0.0,0.0,0.0],\n",
       "\"blank\":false\n",
       "}\n",
       "},\n",
       "\"kind\":\"plot\",\n",
       "\"scales\":[{\n",
       "\"name\":\"Trip name\",\n",
       "\"aesthetic\":\"color\",\n",
       "\"values\":[\"#addd8e\",\"#e34a33\",\"#8856a7\",\"#2c7fb8\",\"#1c9099\",\"#006d2c\",\"#fec44f\",\"#636363\"]\n",
       "}],\n",
       "\"layers\":[{\n",
       "\"geom\":\"livemap\",\n",
       "\"mapping\":{\n",
       "},\n",
       "\"data_meta\":{\n",
       "},\n",
       "\"tiles\":{\n",
       "\"kind\":\"vector_lets_plot\",\n",
       "\"url\":\"wss:\/\/tiles.datalore.jetbrains.com\",\n",
       "\"theme\":\"color\",\n",
       "\"attribution\":\"Map: <a href=\\\"https:\/\/github.com\/JetBrains\/lets-plot\\\">© Lets-Plot<\/a>, map data: <a href=\\\"https:\/\/www.openstreetmap.org\/copyright\\\">© OpenStreetMap contributors<\/a>.\"\n",
       "},\n",
       "\"geocoding\":{\n",
       "\"url\":\"https:\/\/geo2.datalore.jetbrains.com\/map_data\/geocoding\"\n",
       "},\n",
       "\"const_size_zoomin\":3.0,\n",
       "\"data\":{\n",
       "}\n",
       "},{\n",
       "\"geom\":\"curve\",\n",
       "\"data\":{\n",
       "\"path\":[\"To Lyceum\",\"Regular routes\",\"Regular routes\",\"Regular routes\",\"Travel to the Caucasus\",\"Autumn at Boldino\",\"Trip researching the Pugachev rebellion\",\"Trip researching the Pugachev rebellion\",\"Regular routes\",\"Regular routes\",\"Southern exile\",\"Mikhailovsky exile\",\"Final journey\",\"Regular routes\",\"Regular routes\",\"Mikhailovsky exile\",\"Autumn at Boldino\",\"Trip researching the Pugachev rebellion\",\"Regular routes\",\"Regular routes\",\"Southern exile\",\"Regular routes\",\"Mikhailovsky exile\",\"Southern exile\",\"Regular routes\",\"Southern exile\",\"Regular routes\",\"Southern exile\",\"Travel to the Caucasus\",\"Southern exile\",\"Travel to the Caucasus\",\"Southern exile\",\"Southern exile\",\"Travel to the Caucasus\",\"Southern exile\",\"Southern exile\",\"Travel to the Caucasus\",\"Southern exile\",\"Southern exile\",\"Southern exile\",\"Regular routes\",\"Mikhailovsky exile\",\"Mikhailovsky exile\",\"Travel to the Caucasus\",\"Travel to the Caucasus\",\"Travel to the Caucasus\",\"Trip researching the Pugachev rebellion\",\"Trip researching the Pugachev rebellion\",\"Trip researching the Pugachev rebellion\",\"Trip researching the Pugachev rebellion\"],\n",
       "\"from_lat\":[55.751244,55.751244,55.751244,55.751244,55.751244,55.751244,51.23333,55.751244,55.751244,55.751244,59.93863,51.50551,59.93863,59.93863,59.93863,57.8136,55.004477,55.004477,54.728958,54.728958,55.187222,47.00367,55.187222,50.431782,50.431782,46.469391,46.469391,48.450001,52.929697,47.414101,47.414101,44.04861,45.0428,45.0428,45.0428,44.1497667,44.1497667,45.04484,44.957813,47.00367,47.00367,46.469391,57.061332,43.03667,41.716667,40.60199,56.32753,55.78874,54.32824,51.776272],\n",
       "\"from_lon\":[37.618423,37.618423,37.618423,37.618423,37.618423,37.618423,51.36667,37.618423,37.618423,37.618423,30.31413,31.28487,30.31413,30.31413,30.31413,28.3496,45.30885,45.30885,35.971598,35.971598,30.205116,28.907089,30.205116,30.516382,30.516382,30.740883,30.740883,34.983334,36.098689,40.110401,40.110401,43.05944,41.9734,41.9734,41.9734,43.4577689,43.4577689,38.97603,34.109547,28.907089,28.907089,30.740883,28.919346,44.66778,44.783333,43.09495,44.000717,49.12214,48.38657,55.099594],\n",
       "\"to_lat\":[59.93863,59.93863,59.93863,59.93863,52.929697,55.004477,55.004477,56.32753,54.728958,54.728958,55.187222,55.187222,57.022162,55.751244,55.751244,55.751244,55.751244,55.751244,55.751244,55.751244,50.431782,50.431782,57.061332,48.450001,47.00367,47.00367,47.00367,47.414101,47.414101,45.0428,45.0428,45.0428,44.1497667,44.1497667,45.04484,44.04861,43.03667,44.957813,46.469391,46.469391,46.469391,51.50551,57.8136,41.716667,40.60199,39.90861,55.78874,54.32824,51.776272,51.23333],\n",
       "\"to_lon\":[30.31413,30.31413,30.31413,30.31413,36.098689,45.30885,45.30885,44.000717,35.971598,35.971598,30.205116,30.205116,28.920945,37.618423,37.618423,37.618423,37.618423,37.618423,37.618423,37.618423,30.516382,30.516382,28.919346,34.983334,28.907089,28.907089,28.907089,40.110401,40.110401,41.9734,41.9734,41.9734,43.4577689,43.4577689,38.97603,43.05944,44.66778,34.109547,30.740883,30.740883,30.740883,31.28487,28.3496,44.783333,43.09495,41.27694,49.12214,48.38657,55.099594,51.36667]\n",
       "},\n",
       "\"mapping\":{\n",
       "\"x\":\"from_lon\",\n",
       "\"y\":\"from_lat\",\n",
       "\"xend\":\"to_lon\",\n",
       "\"yend\":\"to_lat\",\n",
       "\"color\":\"path\"\n",
       "},\n",
       "\"tooltips\":{\n",
       "\"formats\":[],\n",
       "\"lines\":[\"@path\"],\n",
       "\"title\":\"Trip name\"\n",
       "},\n",
       "\"data_meta\":{\n",
       "},\n",
       "\"arrow\":{\n",
       "\"name\":\"arrow\",\n",
       "\"angle\":15.0,\n",
       "\"length\":10.0,\n",
       "\"type\":\"closed\"\n",
       "},\n",
       "\"curvature\":-0.1,\n",
       "\"spacer\":4.0,\n",
       "\"size\":1.0\n",
       "},{\n",
       "\"geom\":\"point\",\n",
       "\"data\":{\n",
       "\"name\":[\"Erzurum\",\"Boldino\",\"Vitebsk\",\"Vladikavkaz\",\"Georgiyevsk\",\"Goryachie Vody\",\"Ekaterinodar\",\"Ekaterinoslav\",\"Kazan\",\"Kars\",\"Kiev\",\"Chișinău\",\"Moscow\",\"Mikhaylovskoye\",\"Nizhny Novgorod\",\"Novocherkassk\",\"Odessa\",\"Orenburg\",\"Oryol\",\"Petersburg\",\"Polotnyany Zavod\",\"Pskov\",\"Svyatogorskij monastery\",\"Simbirsk\",\"Simferopol\",\"Stavropol\",\"Tiflis\",\"Uralsk\",\"Chernihiv\"],\n",
       "\"latitude\":[39.90861,55.004477,55.187222,43.03667,44.1497667,44.04861,45.04484,48.450001,55.78874,40.60199,50.431782,47.00367,55.751244,57.061332,56.32753,47.414101,46.469391,51.776272,52.929697,59.93863,54.728958,57.8136,57.022162,54.32824,44.957813,45.0428,41.716667,51.23333,51.50551],\n",
       "\"longitude\":[41.27694,45.30885,30.205116,44.66778,43.4577689,43.05944,38.97603,34.983334,49.12214,43.09495,30.516382,28.907089,37.618423,28.919346,44.000717,40.110401,30.740883,55.099594,36.098689,30.31413,35.971598,28.3496,28.920945,48.38657,34.109547,41.9734,44.783333,51.36667,31.28487],\n",
       "\"years\":[\"1829\",\"1830, 1833\",\"1820, 1824\",\"1829\",\"1820, 1829\",\"1820\",\"1820\",\"1820\",\"1833\",\"1829\",\"1820-1821\",\"1820-1821, 1823\",\"1811, 1826-1830, 1833-1834, 1836\",\"1824, 1826\",\"1833\",\"1820, 1829\",\"1820-1821, 1823-1824\",\"1833\",\"1829\",\"1811, 1820, 1827-1828, 1833, 1836-1837\",\"1830, 1834\",\"1826\",\"1837\",\"1833\",\"1820\",\"1820, 1829\",\"1829\",\"1833\",\"1824\"]\n",
       "},\n",
       "\"mapping\":{\n",
       "\"x\":\"longitude\",\n",
       "\"y\":\"latitude\"\n",
       "},\n",
       "\"tooltips\":{\n",
       "\"formats\":[],\n",
       "\"lines\":[\"Visited in @years\"],\n",
       "\"title\":\"@name\"\n",
       "},\n",
       "\"data_meta\":{\n",
       "},\n",
       "\"size\":3.0,\n",
       "\"color\":\"#F7F4F0\"\n",
       "},{\n",
       "\"geom\":\"point\",\n",
       "\"data\":{\n",
       "\"latitude\":[39.90861,55.004477,55.187222,43.03667,44.1497667,44.04861,45.04484,48.450001,55.78874,40.60199,50.431782,47.00367,55.751244,57.061332,56.32753,47.414101,46.469391,51.776272,52.929697,59.93863,54.728958,57.8136,57.022162,54.32824,44.957813,45.0428,41.716667,51.23333,51.50551],\n",
       "\"longitude\":[41.27694,45.30885,30.205116,44.66778,43.4577689,43.05944,38.97603,34.983334,49.12214,43.09495,30.516382,28.907089,37.618423,28.919346,44.000717,40.110401,30.740883,55.099594,36.098689,30.31413,35.971598,28.3496,28.920945,48.38657,34.109547,41.9734,44.783333,51.36667,31.28487]\n",
       "},\n",
       "\"mapping\":{\n",
       "\"x\":\"longitude\",\n",
       "\"y\":\"latitude\"\n",
       "},\n",
       "\"tooltips\":\"none\",\n",
       "\"data_meta\":{\n",
       "},\n",
       "\"size\":1.7,\n",
       "\"color\":\"black\"\n",
       "}],\n",
       "\"metainfo_list\":[]\n",
       "};\n",
       "       var plotContainer = document.getElementById(\"uxyWMU\");\n",
       "       LetsPlot.buildPlotFromProcessedSpecs(plotSpec, -1, -1, plotContainer);\n",
       "   <\/script>\n",
       "   <\/body>\n",
       "<\/html>"
      ]
     },
     "metadata":{
      
     },
     "output_type":"display_data"
    }
   ],
   "metadata":{
    "datalore":{
     "node_id":"jLrpQedcbHIYId4TdyN5od",
     "type":"CODE",
     "hide_input_from_viewers":false,
     "hide_output_from_viewers":false,
     "report_properties":{
      "rowId":"SXF2Y4Eq9CgrBDOJQqD3w7",
      "relativeY":0
     }
    }
   }
  }
 ],
 "metadata":{
  "kernelspec":{
   "display_name":"Python",
   "language":"python",
   "name":"python"
  },
  "datalore":{
   "computation_mode":"JUPYTER",
   "packages":[
    
   ],
   "report_row_ids":[
    "KEmvgqU9p3mD9ZU2iUzWYK",
    "D95lYf8Jfdk6pxU86rmNz5",
    "O1LmSJ86VEnrkaR923SpmY",
    "WSfybvCeb5ND6bSPj5PaHF",
    "JGGNGyKIwo8SeUSJ7RLopZ",
    "SXF2Y4Eq9CgrBDOJQqD3w7"
   ],
   "version":3
  }
 },
 "nbformat":4,
 "nbformat_minor":4
}