{
 "cells": [
  {
   "cell_type": "markdown",
   "id": "5ca7776d-90f8-4251-991f-6a3be9a76f65",
   "metadata": {},
   "source": [
    "Origin: https://eliocamp.github.io/codigo-r/2018/09/multiple-color-and-fill-scales-with-ggplot2/\n",
    "\n",
    "Datasets:\n",
    "- https://psl.noaa.gov/repository/entry/show?entryid=d3422997-979a-4abb-9bf2-503a80bb647f\n",
    "- https://psl.noaa.gov/repository/entry/show/PSD+Climate+Data+Repository/Public/PSD+Datasets/PSD+Gridded+Datasets/ncep.reanalysis.derived/surface/slp.mon.mean.nc?entryid=synth%3Ae570c8f9-ec09-4e89-93b4-babd5651e7a9%3AL25jZXAucmVhbmFseXNpcy5kZXJpdmVkL3N1cmZhY2Uvc2xwLm1vbi5tZWFuLm5j&output=html.info"
   ]
  },
  {
   "cell_type": "code",
   "execution_count": 9,
   "id": "bd3a5b2c-586c-4a86-b67a-5a04fadbae82",
   "metadata": {},
   "outputs": [
    {
     "name": "stderr",
     "output_type": "stream",
     "text": [
      "Updating HTML index of packages in '.Library'\n",
      "\n",
      "Making 'packages.html' ...\n",
      " done\n",
      "\n"
     ]
    }
   ],
   "source": [
    "install.packages(c(\"ncdf4\", \"PCICt\", \"ggnewscale\"))"
   ]
  },
  {
   "cell_type": "code",
   "execution_count": 10,
   "id": "0d4b6a7e-be56-49fd-a1ee-b6bdf4557967",
   "metadata": {},
   "outputs": [],
   "source": [
    "library(metR)\n",
    "library(magrittr)\n",
    "library(ggplot2)\n",
    "library(ggnewscale)"
   ]
  },
  {
   "cell_type": "code",
   "execution_count": 13,
   "id": "1a2b4813-e124-4d6b-9e09-6b584e7c6721",
   "metadata": {},
   "outputs": [
    {
     "ename": "ERROR",
     "evalue": "Error in geom_world(): could not find function \"geom_world\"\n",
     "output_type": "error",
     "traceback": [
      "Error in geom_world(): could not find function \"geom_world\"\nTraceback:\n"
     ]
    }
   ],
   "source": [
    "time <- as.POSIXct(\"1998-01-01\")\n",
    "# Temperature and sea level pressure for January 1st 1998\n",
    "atmos <- ReadNetCDF(\"../data/air.mon.mean.nc\", \n",
    "                    subset = list(level = 850, \n",
    "                                  time = time)) %>% \n",
    "   .[, slp:= ReadNetCDF(\"../data/slp.mon.mean.nc\", \n",
    "                        subset = list(time = time), out = \"vector\")] %>% \n",
    "   .[, lon := ConvertLongitude(lon)]\n",
    "\n",
    "ggplot(atmos, aes(lon, lat)) +\n",
    "   geom_world() +\n",
    "   geom_contour(aes(z = slp, color = ..level..), binwidth = 4) +\n",
    "   scale_color_viridis_c(\"Sea level pressure\") +\n",
    "   \n",
    "   new_scale_color() +   # same as `new_scale(\"color\")`\n",
    "   \n",
    "   geom_contour(aes(z = air, color = ..level..), binwidth = 4) +\n",
    "   scale_color_distiller(\"Air Temperature\", palette = \"Spectral\")  +\n",
    "   \n",
    "   scale_x_longitude(limits = c(-150, 0)) +\n",
    "   scale_y_latitude(ticks = 15) +\n",
    "   ggalt::coord_proj(\"+proj=moll +lon_0=-75\", \n",
    "                     ylim = c(-60, 0), xlim = c(-150, 0))"
   ]
  },
  {
   "cell_type": "code",
   "execution_count": null,
   "id": "44ca7d07-326b-4b81-9ff2-35680d79c3a8",
   "metadata": {},
   "outputs": [],
   "source": []
  }
 ],
 "metadata": {
  "kernelspec": {
   "display_name": "R",
   "language": "R",
   "name": "ir"
  },
  "language_info": {
   "codemirror_mode": "r",
   "file_extension": ".r",
   "mimetype": "text/x-r-source",
   "name": "R",
   "pygments_lexer": "r",
   "version": "4.3.2"
  }
 },
 "nbformat": 4,
 "nbformat_minor": 5
}
