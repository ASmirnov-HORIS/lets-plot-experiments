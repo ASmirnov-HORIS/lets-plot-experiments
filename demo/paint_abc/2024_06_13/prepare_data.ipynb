{
 "cells": [
  {
   "cell_type": "markdown",
   "id": "0a01022a-d245-4816-8049-55c05ce52e17",
   "metadata": {},
   "source": [
    "Origin: https://eliocamp.github.io/codigo-r/2018/09/multiple-color-and-fill-scales-with-ggplot2/\n",
    "\n",
    "Datasets:\n",
    "- https://psl.noaa.gov/repository/entry/show?entryid=d3422997-979a-4abb-9bf2-503a80bb647f\n",
    "- https://psl.noaa.gov/repository/entry/show/PSD+Climate+Data+Repository/Public/PSD+Datasets/PSD+Gridded+Datasets/ncep.reanalysis.derived/surface/slp.mon.mean.nc?entryid=synth%3Ae570c8f9-ec09-4e89-93b4-babd5651e7a9%3AL25jZXAucmVhbmFseXNpcy5kZXJpdmVkL3N1cmZhY2Uvc2xwLm1vbi5tZWFuLm5j&output=html.info"
   ]
  },
  {
   "cell_type": "code",
   "execution_count": 1,
   "id": "8d807572-7f34-409d-aea7-7ef390269545",
   "metadata": {},
   "outputs": [
    {
     "name": "stdout",
     "output_type": "stream",
     "text": [
      "Channels:\n",
      " - defaults\n",
      " - conda-forge\n",
      " - jetbrains\n",
      "Platform: linux-64\n",
      "Collecting package metadata (repodata.json): done\n",
      "Solving environment: done\n",
      "\n",
      "# All requested packages already installed.\n",
      "\n"
     ]
    }
   ],
   "source": [
    "import sys\n",
    "!conda install --yes --prefix {sys.prefix} netcdf4"
   ]
  },
  {
   "cell_type": "code",
   "execution_count": 8,
   "id": "d6d8b5bb-07a2-4cd6-882c-28f1dad60924",
   "metadata": {},
   "outputs": [],
   "source": [
    "import netCDF4\n",
    "import numpy as np\n",
    "import pandas as pd"
   ]
  },
  {
   "cell_type": "code",
   "execution_count": 3,
   "id": "451f9c3b-4728-49dd-adb2-f8377f5001cb",
   "metadata": {},
   "outputs": [
    {
     "data": {
      "text/plain": [
       "<class 'netCDF4._netCDF4.Dataset'>\n",
       "root group (NETCDF4_CLASSIC data model, file format HDF5):\n",
       "    description:  Data from NCEP initialized reanalysis (4x/day).  These are interpolated to pressure surfaces from model (sigma) surfaces.\n",
       "    platform: Model\n",
       "    Conventions: COARDS\n",
       "    NCO: 20121012\n",
       "    history: Mon Jul  5 21:45:36 1999: ncrcat air.mon.mean.nc /Datasets/ncep.reanalysis.derived/pressure/air.mon.mean.nc /dm/dmwork/nmc.rean.ingest/combinedMMs/air.mon.mean.nc\n",
       "/home/hoop/crdc/cpreanjuke2farm/cpreanjuke2farm Tue Oct 17 20:07:08 1995 from air.85.nc\n",
       "created 95/02/06 by Hoop (netCDF2.3)\n",
       "Converted to chunked, deflated non-packed NetCDF4 2014/09\n",
       "    title: monthly mean air from the NCEP Reanalysis\n",
       "    dataset_title: NCEP-NCAR Reanalysis 1\n",
       "    References: http://www.psl.noaa.gov/data/gridded/data.ncep.reanalysis.derived.html\n",
       "    dimensions(sizes): level(17), lat(73), lon(144), time(917)\n",
       "    variables(dimensions): float32 level(level), float32 lat(lat), float32 lon(lon), float64 time(time), float32 air(time, level, lat, lon)\n",
       "    groups: "
      ]
     },
     "execution_count": 3,
     "metadata": {},
     "output_type": "execute_result"
    }
   ],
   "source": [
    "nc = netCDF4.Dataset(\"../data/air.mon.mean.nc\")\n",
    "nc"
   ]
  },
  {
   "cell_type": "code",
   "execution_count": 4,
   "id": "cd24f327-f025-489f-89fc-593b092debe0",
   "metadata": {},
   "outputs": [
    {
     "data": {
      "text/plain": [
       "dict_keys(['level', 'lat', 'lon', 'time', 'air'])"
      ]
     },
     "execution_count": 4,
     "metadata": {},
     "output_type": "execute_result"
    }
   ],
   "source": [
    "nc.variables.keys()"
   ]
  },
  {
   "cell_type": "code",
   "execution_count": 11,
   "id": "036e9512-e38c-497c-b410-674a2a34c406",
   "metadata": {},
   "outputs": [],
   "source": [
    "lat = nc.variables['lat'][:]\n",
    "lon = nc.variables['lon'][:]\n",
    "level = nc.variables['level']\n",
    "time = nc.variables['time']\n",
    "dtime = netCDF4.num2date(time[:], time.units)\n",
    "air = nc.variables['air'][:]"
   ]
  },
  {
   "cell_type": "code",
   "execution_count": 12,
   "id": "a4432cdf-6947-4372-84b8-43638b801f69",
   "metadata": {},
   "outputs": [
    {
     "data": {
      "text/plain": [
       "(73, 144, 17, 917, 917)"
      ]
     },
     "execution_count": 12,
     "metadata": {},
     "output_type": "execute_result"
    }
   ],
   "source": [
    "len(lat), len(lon), len(level), len(dtime), len(air)"
   ]
  },
  {
   "cell_type": "code",
   "execution_count": 47,
   "id": "014e8d92-e5ae-4fbc-8398-7fec484ef15b",
   "metadata": {},
   "outputs": [
    {
     "data": {
      "text/html": [
       "<div>\n",
       "<style scoped>\n",
       "    .dataframe tbody tr th:only-of-type {\n",
       "        vertical-align: middle;\n",
       "    }\n",
       "\n",
       "    .dataframe tbody tr th {\n",
       "        vertical-align: top;\n",
       "    }\n",
       "\n",
       "    .dataframe thead th {\n",
       "        text-align: right;\n",
       "    }\n",
       "</style>\n",
       "<table border=\"1\" class=\"dataframe\">\n",
       "  <thead>\n",
       "    <tr style=\"text-align: right;\">\n",
       "      <th></th>\n",
       "      <th>lat</th>\n",
       "      <th>lon</th>\n",
       "      <th>air</th>\n",
       "    </tr>\n",
       "  </thead>\n",
       "  <tbody>\n",
       "    <tr>\n",
       "      <th>0</th>\n",
       "      <td>90.0</td>\n",
       "      <td>0.0</td>\n",
       "      <td>-26.939995</td>\n",
       "    </tr>\n",
       "    <tr>\n",
       "      <th>1</th>\n",
       "      <td>90.0</td>\n",
       "      <td>2.5</td>\n",
       "      <td>-26.939995</td>\n",
       "    </tr>\n",
       "    <tr>\n",
       "      <th>2</th>\n",
       "      <td>90.0</td>\n",
       "      <td>5.0</td>\n",
       "      <td>-26.939995</td>\n",
       "    </tr>\n",
       "    <tr>\n",
       "      <th>3</th>\n",
       "      <td>90.0</td>\n",
       "      <td>7.5</td>\n",
       "      <td>-26.939995</td>\n",
       "    </tr>\n",
       "    <tr>\n",
       "      <th>4</th>\n",
       "      <td>90.0</td>\n",
       "      <td>10.0</td>\n",
       "      <td>-26.939995</td>\n",
       "    </tr>\n",
       "    <tr>\n",
       "      <th>...</th>\n",
       "      <td>...</td>\n",
       "      <td>...</td>\n",
       "      <td>...</td>\n",
       "    </tr>\n",
       "    <tr>\n",
       "      <th>10507</th>\n",
       "      <td>-90.0</td>\n",
       "      <td>347.5</td>\n",
       "      <td>-7.249992</td>\n",
       "    </tr>\n",
       "    <tr>\n",
       "      <th>10508</th>\n",
       "      <td>-90.0</td>\n",
       "      <td>350.0</td>\n",
       "      <td>-7.249992</td>\n",
       "    </tr>\n",
       "    <tr>\n",
       "      <th>10509</th>\n",
       "      <td>-90.0</td>\n",
       "      <td>352.5</td>\n",
       "      <td>-7.249992</td>\n",
       "    </tr>\n",
       "    <tr>\n",
       "      <th>10510</th>\n",
       "      <td>-90.0</td>\n",
       "      <td>355.0</td>\n",
       "      <td>-7.249992</td>\n",
       "    </tr>\n",
       "    <tr>\n",
       "      <th>10511</th>\n",
       "      <td>-90.0</td>\n",
       "      <td>357.5</td>\n",
       "      <td>-7.249992</td>\n",
       "    </tr>\n",
       "  </tbody>\n",
       "</table>\n",
       "<p>10512 rows × 3 columns</p>\n",
       "</div>"
      ],
      "text/plain": [
       "        lat    lon        air\n",
       "0      90.0    0.0 -26.939995\n",
       "1      90.0    2.5 -26.939995\n",
       "2      90.0    5.0 -26.939995\n",
       "3      90.0    7.5 -26.939995\n",
       "4      90.0   10.0 -26.939995\n",
       "...     ...    ...        ...\n",
       "10507 -90.0  347.5  -7.249992\n",
       "10508 -90.0  350.0  -7.249992\n",
       "10509 -90.0  352.5  -7.249992\n",
       "10510 -90.0  355.0  -7.249992\n",
       "10511 -90.0  357.5  -7.249992\n",
       "\n",
       "[10512 rows x 3 columns]"
      ]
     },
     "execution_count": 47,
     "metadata": {},
     "output_type": "execute_result"
    }
   ],
   "source": [
    "time = 0 # TODO: 1998-01-01\n",
    "level = 2 # TODO: 850\n",
    "df = pd.DataFrame(air[time, level, :, :], index=lat, columns=lon).stack().reset_index()\n",
    "df.columns = [\"lat\", \"lon\", \"air\"]\n",
    "df"
   ]
  },
  {
   "cell_type": "code",
   "execution_count": 36,
   "id": "21dadd41-6447-4231-bacf-827cd0cc2e6c",
   "metadata": {},
   "outputs": [
    {
     "data": {
      "text/plain": [
       "array([ 90. ,  87.5,  85. ,  82.5,  80. ,  77.5,  75. ,  72.5,  70. ,\n",
       "        67.5,  65. ,  62.5,  60. ,  57.5,  55. ,  52.5,  50. ,  47.5,\n",
       "        45. ,  42.5,  40. ,  37.5,  35. ,  32.5,  30. ,  27.5,  25. ,\n",
       "        22.5,  20. ,  17.5,  15. ,  12.5,  10. ,   7.5,   5. ,   2.5,\n",
       "         0. ,  -2.5,  -5. ,  -7.5, -10. , -12.5, -15. , -17.5, -20. ,\n",
       "       -22.5, -25. , -27.5, -30. , -32.5, -35. , -37.5, -40. , -42.5,\n",
       "       -45. , -47.5, -50. , -52.5, -55. , -57.5, -60. , -62.5, -65. ,\n",
       "       -67.5, -70. , -72.5, -75. , -77.5, -80. , -82.5, -85. , -87.5,\n",
       "       -90. ], dtype=float32)"
      ]
     },
     "execution_count": 36,
     "metadata": {},
     "output_type": "execute_result"
    }
   ],
   "source": [
    "np.array(lat)"
   ]
  },
  {
   "cell_type": "code",
   "execution_count": null,
   "id": "81e2922e-e5f2-4b26-86de-da9f415bce2b",
   "metadata": {},
   "outputs": [],
   "source": []
  }
 ],
 "metadata": {
  "kernelspec": {
   "display_name": "Python 3 (ipykernel)",
   "language": "python",
   "name": "python3"
  },
  "language_info": {
   "codemirror_mode": {
    "name": "ipython",
    "version": 3
   },
   "file_extension": ".py",
   "mimetype": "text/x-python",
   "name": "python",
   "nbconvert_exporter": "python",
   "pygments_lexer": "ipython3",
   "version": "3.10.13"
  }
 },
 "nbformat": 4,
 "nbformat_minor": 5
}
