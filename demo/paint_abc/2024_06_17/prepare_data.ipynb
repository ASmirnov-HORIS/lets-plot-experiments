{
 "cells": [
  {
   "cell_type": "markdown",
   "id": "681e79b5-2120-4b45-b77e-448af4edb1bd",
   "metadata": {},
   "source": [
    "Datasets:\n",
    "- https://psl.noaa.gov/repository/entry/show?entryid=d3422997-979a-4abb-9bf2-503a80bb647f\n",
    "- https://psl.noaa.gov/repository/entry/show/PSD+Climate+Data+Repository/Public/PSD+Datasets/PSD+Gridded+Datasets/ncep.reanalysis.derived/surface/slp.mon.mean.nc?entryid=synth%3Ae570c8f9-ec09-4e89-93b4-babd5651e7a9%3AL25jZXAucmVhbmFseXNpcy5kZXJpdmVkL3N1cmZhY2Uvc2xwLm1vbi5tZWFuLm5j&output=html.info"
   ]
  },
  {
   "cell_type": "code",
   "execution_count": 1,
   "id": "11bd5af9-4d9f-4b3a-a687-52ba427facf7",
   "metadata": {},
   "outputs": [
    {
     "name": "stdout",
     "output_type": "stream",
     "text": [
      "Channels:\n",
      " - defaults\n",
      " - conda-forge\n",
      " - jetbrains\n",
      "Platform: linux-64\n",
      "Collecting package metadata (repodata.json): done\n",
      "Solving environment: done\n",
      "\n",
      "# All requested packages already installed.\n",
      "\n"
     ]
    }
   ],
   "source": [
    "import sys\n",
    "!conda install --yes --prefix {sys.prefix} netcdf4"
   ]
  },
  {
   "cell_type": "code",
   "execution_count": 2,
   "id": "78d98d0d-0aae-4071-9e74-fa27ea723a1a",
   "metadata": {},
   "outputs": [],
   "source": [
    "import datetime as dt\n",
    "\n",
    "import netCDF4\n",
    "import pandas as pd"
   ]
  },
  {
   "cell_type": "markdown",
   "id": "a61b53ee-a917-4b9c-95bb-85b557deae57",
   "metadata": {},
   "source": [
    "## Prepare 'air' data"
   ]
  },
  {
   "cell_type": "code",
   "execution_count": 3,
   "id": "4d28a4c8-0ddf-4054-aa79-23df8631abf5",
   "metadata": {},
   "outputs": [
    {
     "data": {
      "text/plain": [
       "<class 'netCDF4._netCDF4.Dataset'>\n",
       "root group (NETCDF4_CLASSIC data model, file format HDF5):\n",
       "    description:  Data from NCEP initialized reanalysis (4x/day).  These are interpolated to pressure surfaces from model (sigma) surfaces.\n",
       "    platform: Model\n",
       "    Conventions: COARDS\n",
       "    NCO: 20121012\n",
       "    history: Mon Jul  5 21:45:36 1999: ncrcat air.mon.mean.nc /Datasets/ncep.reanalysis.derived/pressure/air.mon.mean.nc /dm/dmwork/nmc.rean.ingest/combinedMMs/air.mon.mean.nc\n",
       "/home/hoop/crdc/cpreanjuke2farm/cpreanjuke2farm Tue Oct 17 20:07:08 1995 from air.85.nc\n",
       "created 95/02/06 by Hoop (netCDF2.3)\n",
       "Converted to chunked, deflated non-packed NetCDF4 2014/09\n",
       "    title: monthly mean air from the NCEP Reanalysis\n",
       "    dataset_title: NCEP-NCAR Reanalysis 1\n",
       "    References: http://www.psl.noaa.gov/data/gridded/data.ncep.reanalysis.derived.html\n",
       "    dimensions(sizes): level(17), lat(73), lon(144), time(917)\n",
       "    variables(dimensions): float32 level(level), float32 lat(lat), float32 lon(lon), float64 time(time), float32 air(time, level, lat, lon)\n",
       "    groups: "
      ]
     },
     "execution_count": 3,
     "metadata": {},
     "output_type": "execute_result"
    }
   ],
   "source": [
    "air_nc = netCDF4.Dataset(\"../data/air.mon.mean.nc\")\n",
    "air_nc"
   ]
  },
  {
   "cell_type": "code",
   "execution_count": 4,
   "id": "440f2c12-aa7f-43f4-afd2-0aa34f750338",
   "metadata": {},
   "outputs": [],
   "source": [
    "air_lat = air_nc.variables['lat'][:]\n",
    "air_lon = air_nc.variables['lon'][:]\n",
    "air_level = air_nc.variables['level']\n",
    "air_time = air_nc.variables['time']\n",
    "air_dtime = netCDF4.num2date(air_time[:], air_time.units)\n",
    "air_var = air_nc.variables['air'][:]"
   ]
  },
  {
   "cell_type": "code",
   "execution_count": 5,
   "id": "46040a46-3196-4c2e-9e13-e8a56ac84f48",
   "metadata": {},
   "outputs": [
    {
     "data": {
      "text/html": [
       "<div>\n",
       "<style scoped>\n",
       "    .dataframe tbody tr th:only-of-type {\n",
       "        vertical-align: middle;\n",
       "    }\n",
       "\n",
       "    .dataframe tbody tr th {\n",
       "        vertical-align: top;\n",
       "    }\n",
       "\n",
       "    .dataframe thead th {\n",
       "        text-align: right;\n",
       "    }\n",
       "</style>\n",
       "<table border=\"1\" class=\"dataframe\">\n",
       "  <thead>\n",
       "    <tr style=\"text-align: right;\">\n",
       "      <th></th>\n",
       "      <th>lat</th>\n",
       "      <th>lon</th>\n",
       "      <th>air</th>\n",
       "    </tr>\n",
       "  </thead>\n",
       "  <tbody>\n",
       "    <tr>\n",
       "      <th>0</th>\n",
       "      <td>90.0</td>\n",
       "      <td>0.0</td>\n",
       "      <td>-20.349998</td>\n",
       "    </tr>\n",
       "    <tr>\n",
       "      <th>1</th>\n",
       "      <td>90.0</td>\n",
       "      <td>2.5</td>\n",
       "      <td>-20.349998</td>\n",
       "    </tr>\n",
       "    <tr>\n",
       "      <th>2</th>\n",
       "      <td>90.0</td>\n",
       "      <td>5.0</td>\n",
       "      <td>-20.349998</td>\n",
       "    </tr>\n",
       "    <tr>\n",
       "      <th>3</th>\n",
       "      <td>90.0</td>\n",
       "      <td>7.5</td>\n",
       "      <td>-20.349998</td>\n",
       "    </tr>\n",
       "    <tr>\n",
       "      <th>4</th>\n",
       "      <td>90.0</td>\n",
       "      <td>10.0</td>\n",
       "      <td>-20.349998</td>\n",
       "    </tr>\n",
       "    <tr>\n",
       "      <th>...</th>\n",
       "      <td>...</td>\n",
       "      <td>...</td>\n",
       "      <td>...</td>\n",
       "    </tr>\n",
       "    <tr>\n",
       "      <th>10507</th>\n",
       "      <td>-90.0</td>\n",
       "      <td>347.5</td>\n",
       "      <td>-12.859993</td>\n",
       "    </tr>\n",
       "    <tr>\n",
       "      <th>10508</th>\n",
       "      <td>-90.0</td>\n",
       "      <td>350.0</td>\n",
       "      <td>-12.859993</td>\n",
       "    </tr>\n",
       "    <tr>\n",
       "      <th>10509</th>\n",
       "      <td>-90.0</td>\n",
       "      <td>352.5</td>\n",
       "      <td>-12.859993</td>\n",
       "    </tr>\n",
       "    <tr>\n",
       "      <th>10510</th>\n",
       "      <td>-90.0</td>\n",
       "      <td>355.0</td>\n",
       "      <td>-12.859993</td>\n",
       "    </tr>\n",
       "    <tr>\n",
       "      <th>10511</th>\n",
       "      <td>-90.0</td>\n",
       "      <td>357.5</td>\n",
       "      <td>-12.859993</td>\n",
       "    </tr>\n",
       "  </tbody>\n",
       "</table>\n",
       "<p>10512 rows × 3 columns</p>\n",
       "</div>"
      ],
      "text/plain": [
       "        lat    lon        air\n",
       "0      90.0    0.0 -20.349998\n",
       "1      90.0    2.5 -20.349998\n",
       "2      90.0    5.0 -20.349998\n",
       "3      90.0    7.5 -20.349998\n",
       "4      90.0   10.0 -20.349998\n",
       "...     ...    ...        ...\n",
       "10507 -90.0  347.5 -12.859993\n",
       "10508 -90.0  350.0 -12.859993\n",
       "10509 -90.0  352.5 -12.859993\n",
       "10510 -90.0  355.0 -12.859993\n",
       "10511 -90.0  357.5 -12.859993\n",
       "\n",
       "[10512 rows x 3 columns]"
      ]
     },
     "execution_count": 5,
     "metadata": {},
     "output_type": "execute_result"
    }
   ],
   "source": [
    "air_datetime_slice = air_dtime[:] == dt.datetime.strptime(\"1998-01-01\", \"%Y-%m-%d\")\n",
    "air_level_slice = air_level[:] == 850\n",
    "air_df = pd.DataFrame(air_var[air_datetime_slice, air_level_slice, :, :][0], index=air_lat, columns=air_lon).stack().reset_index()\n",
    "air_df.columns = [\"lat\", \"lon\", \"air\"]\n",
    "air_df"
   ]
  },
  {
   "cell_type": "code",
   "execution_count": 6,
   "id": "ac5e7fbd-7e0d-4e58-8411-97f190b69eb4",
   "metadata": {},
   "outputs": [],
   "source": [
    "air_df.to_csv(\"../data/air.csv\", index=False, encoding=\"utf-8\")"
   ]
  },
  {
   "cell_type": "markdown",
   "id": "5cb4652b-d73f-4f9f-8604-24957776abb8",
   "metadata": {},
   "source": [
    "## Prepare 'slp' data"
   ]
  },
  {
   "cell_type": "code",
   "execution_count": 7,
   "id": "86d2dd50-1516-4127-944b-70dff38438c5",
   "metadata": {},
   "outputs": [
    {
     "data": {
      "text/plain": [
       "<class 'netCDF4._netCDF4.Dataset'>\n",
       "root group (NETCDF4_CLASSIC data model, file format HDF5):\n",
       "    description: Data is from NMC initialized reanalysis\n",
       "(4x/day).  These are the 0.9950 sigma level values.\n",
       "    platform: Model\n",
       "    Conventions: COARDS\n",
       "    NCO: 20121012\n",
       "    history: Thu May  4 18:12:35 2000: ncrcat -d time,0,622 /Datasets/ncep.reanalysis.derived/surface/slp.mon.mean.nc ./surface/slp.mon.mean.nc\n",
       "Mon Jul  5 23:22:35 1999: ncrcat slp.mon.mean.nc /Datasets/ncep.reanalysis.derived/surface/slp.mon.mean.nc /dm/dmwork/nmc.rean.ingest/combinedMMs/slp.mon.mean.nc\n",
       "/home/hoop/crdc/cpreanjuke2farm/cpreanjuke2farm Thu Oct 26 23:42:16 1995 from pre.sig995.85.nc\n",
       "created 95/02/06 by Hoop (netCDF2.3)\n",
       "Converted to chunked, deflated non-packed NetCDF4 2014/09\n",
       "    title: monthly mean slp from the NCEP Reanalysis\n",
       "    dataset_title: NCEP-NCAR Reanalysis 1\n",
       "    References: http://www.psl.noaa.gov/data/gridded/data.ncep.reanalysis.derived.html\n",
       "    dimensions(sizes): lat(73), lon(144), time(917)\n",
       "    variables(dimensions): float32 lat(lat), float32 lon(lon), float64 time(time), float32 slp(time, lat, lon)\n",
       "    groups: "
      ]
     },
     "execution_count": 7,
     "metadata": {},
     "output_type": "execute_result"
    }
   ],
   "source": [
    "slp_nc = netCDF4.Dataset(\"../data/slp.mon.mean.nc\")\n",
    "slp_nc"
   ]
  },
  {
   "cell_type": "code",
   "execution_count": 8,
   "id": "5f1d8562-6b29-451e-8d63-0fda118810a9",
   "metadata": {},
   "outputs": [],
   "source": [
    "slp_lat = slp_nc.variables['lat'][:]\n",
    "slp_lon = slp_nc.variables['lon'][:]\n",
    "slp_time = slp_nc.variables['time']\n",
    "slp_dtime = netCDF4.num2date(slp_time[:], slp_time.units)\n",
    "slp_var = slp_nc.variables['slp'][:]"
   ]
  },
  {
   "cell_type": "code",
   "execution_count": 9,
   "id": "65ac25a7-b521-4639-a35a-70ccbd87dc27",
   "metadata": {},
   "outputs": [
    {
     "data": {
      "text/html": [
       "<div>\n",
       "<style scoped>\n",
       "    .dataframe tbody tr th:only-of-type {\n",
       "        vertical-align: middle;\n",
       "    }\n",
       "\n",
       "    .dataframe tbody tr th {\n",
       "        vertical-align: top;\n",
       "    }\n",
       "\n",
       "    .dataframe thead th {\n",
       "        text-align: right;\n",
       "    }\n",
       "</style>\n",
       "<table border=\"1\" class=\"dataframe\">\n",
       "  <thead>\n",
       "    <tr style=\"text-align: right;\">\n",
       "      <th></th>\n",
       "      <th>lat</th>\n",
       "      <th>lon</th>\n",
       "      <th>slp</th>\n",
       "    </tr>\n",
       "  </thead>\n",
       "  <tbody>\n",
       "    <tr>\n",
       "      <th>0</th>\n",
       "      <td>90.0</td>\n",
       "      <td>0.0</td>\n",
       "      <td>1022.198059</td>\n",
       "    </tr>\n",
       "    <tr>\n",
       "      <th>1</th>\n",
       "      <td>90.0</td>\n",
       "      <td>2.5</td>\n",
       "      <td>1022.198059</td>\n",
       "    </tr>\n",
       "    <tr>\n",
       "      <th>2</th>\n",
       "      <td>90.0</td>\n",
       "      <td>5.0</td>\n",
       "      <td>1022.198059</td>\n",
       "    </tr>\n",
       "    <tr>\n",
       "      <th>3</th>\n",
       "      <td>90.0</td>\n",
       "      <td>7.5</td>\n",
       "      <td>1022.198059</td>\n",
       "    </tr>\n",
       "    <tr>\n",
       "      <th>4</th>\n",
       "      <td>90.0</td>\n",
       "      <td>10.0</td>\n",
       "      <td>1022.198059</td>\n",
       "    </tr>\n",
       "    <tr>\n",
       "      <th>...</th>\n",
       "      <td>...</td>\n",
       "      <td>...</td>\n",
       "      <td>...</td>\n",
       "    </tr>\n",
       "    <tr>\n",
       "      <th>10507</th>\n",
       "      <td>-90.0</td>\n",
       "      <td>347.5</td>\n",
       "      <td>999.845459</td>\n",
       "    </tr>\n",
       "    <tr>\n",
       "      <th>10508</th>\n",
       "      <td>-90.0</td>\n",
       "      <td>350.0</td>\n",
       "      <td>999.845459</td>\n",
       "    </tr>\n",
       "    <tr>\n",
       "      <th>10509</th>\n",
       "      <td>-90.0</td>\n",
       "      <td>352.5</td>\n",
       "      <td>999.845459</td>\n",
       "    </tr>\n",
       "    <tr>\n",
       "      <th>10510</th>\n",
       "      <td>-90.0</td>\n",
       "      <td>355.0</td>\n",
       "      <td>999.845459</td>\n",
       "    </tr>\n",
       "    <tr>\n",
       "      <th>10511</th>\n",
       "      <td>-90.0</td>\n",
       "      <td>357.5</td>\n",
       "      <td>999.845459</td>\n",
       "    </tr>\n",
       "  </tbody>\n",
       "</table>\n",
       "<p>10512 rows × 3 columns</p>\n",
       "</div>"
      ],
      "text/plain": [
       "        lat    lon          slp\n",
       "0      90.0    0.0  1022.198059\n",
       "1      90.0    2.5  1022.198059\n",
       "2      90.0    5.0  1022.198059\n",
       "3      90.0    7.5  1022.198059\n",
       "4      90.0   10.0  1022.198059\n",
       "...     ...    ...          ...\n",
       "10507 -90.0  347.5   999.845459\n",
       "10508 -90.0  350.0   999.845459\n",
       "10509 -90.0  352.5   999.845459\n",
       "10510 -90.0  355.0   999.845459\n",
       "10511 -90.0  357.5   999.845459\n",
       "\n",
       "[10512 rows x 3 columns]"
      ]
     },
     "execution_count": 9,
     "metadata": {},
     "output_type": "execute_result"
    }
   ],
   "source": [
    "slp_datetime_slice = slp_dtime[:] == dt.datetime.strptime(\"1998-01-01\", \"%Y-%m-%d\")\n",
    "slp_df = pd.DataFrame(slp_var[slp_datetime_slice, :, :][0], index=slp_lat, columns=slp_lon).stack().reset_index()\n",
    "slp_df.columns = [\"lat\", \"lon\", \"slp\"]\n",
    "slp_df"
   ]
  },
  {
   "cell_type": "code",
   "execution_count": 10,
   "id": "74af45a7-4732-4bb2-99ef-e76549628e1b",
   "metadata": {},
   "outputs": [],
   "source": [
    "slp_df.to_csv(\"../data/slp.csv\", index=False, encoding=\"utf-8\")"
   ]
  }
 ],
 "metadata": {
  "kernelspec": {
   "display_name": "Python 3 (ipykernel)",
   "language": "python",
   "name": "python3"
  },
  "language_info": {
   "codemirror_mode": {
    "name": "ipython",
    "version": 3
   },
   "file_extension": ".py",
   "mimetype": "text/x-python",
   "name": "python",
   "nbconvert_exporter": "python",
   "pygments_lexer": "ipython3",
   "version": "3.10.13"
  }
 },
 "nbformat": 4,
 "nbformat_minor": 5
}
