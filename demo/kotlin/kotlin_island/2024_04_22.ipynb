{
 "cells": [
  {
   "cell_type": "markdown",
   "id": "4401a7ed-03c4-4ede-b084-5f13993d3911",
   "metadata": {},
   "source": [
    "# Inset Map of Kotlin Island\n",
    "\n",
    "Kotlin island is situated in Gulf of Finland and is one of districts of the city of Saint Petersburg in Russia.\n",
    "\n",
    "This example shows how Lets-Plot-Kotlin SpatialDataset integration can help to build an inset map of Kotlin island.\n",
    "\n",
    "[The geodata is provided by © OpenStreetMap contributors and is made available here under the Open Database License (ODbL)](https://www.openstreetmap.org/copyright)."
   ]
  },
  {
   "cell_type": "code",
   "execution_count": 1,
   "id": "f3cb0733-a86c-439b-a222-bf277d6aa3a4",
   "metadata": {},
   "outputs": [
    {
     "data": {
      "text/html": [
       "   <div id=\"gVTYJZ\"></div>\n",
       "   <script type=\"text/javascript\" data-lets-plot-script=\"library\">\n",
       "       if(!window.letsPlotCallQueue) {\n",
       "           window.letsPlotCallQueue = [];\n",
       "       }; \n",
       "       window.letsPlotCall = function(f) {\n",
       "           window.letsPlotCallQueue.push(f);\n",
       "       };\n",
       "       (function() {\n",
       "           var script = document.createElement(\"script\");\n",
       "           script.type = \"text/javascript\";\n",
       "           script.src = \"https://cdn.jsdelivr.net/gh/JetBrains/lets-plot@v4.3.0/js-package/distr/lets-plot.min.js\";\n",
       "           script.onload = function() {\n",
       "               window.letsPlotCall = function(f) {f();};\n",
       "               window.letsPlotCallQueue.forEach(function(f) {f();});\n",
       "               window.letsPlotCallQueue = [];\n",
       "               \n",
       "               \n",
       "           };\n",
       "           script.onerror = function(event) {\n",
       "               window.letsPlotCall = function(f) {};\n",
       "               window.letsPlotCallQueue = [];\n",
       "               var div = document.createElement(\"div\");\n",
       "               div.style.color = 'darkred';\n",
       "               div.textContent = 'Error loading Lets-Plot JS';\n",
       "               document.getElementById(\"gVTYJZ\").appendChild(div);\n",
       "           };\n",
       "           var e = document.getElementById(\"gVTYJZ\");\n",
       "           e.appendChild(script);\n",
       "       })();\n",
       "   </script>"
      ]
     },
     "metadata": {},
     "output_type": "display_data"
    }
   ],
   "source": [
    "%useLatestDescriptors\n",
    "%use klaxon\n",
    "%use lets-plot\n",
    "%use lets-plot-gt"
   ]
  },
  {
   "cell_type": "code",
   "execution_count": 2,
   "id": "2aadc0e2-cfe0-4cb0-8e21-f33c6c400595",
   "metadata": {},
   "outputs": [],
   "source": [
    "import java.net.URL\n",
    "//import org.jetbrains.letsPlot.spatial.SpatialDataset"
   ]
  },
  {
   "cell_type": "code",
   "execution_count": 3,
   "id": "6b31803a-b1d8-44c9-b704-2c3fa4405c25",
   "metadata": {},
   "outputs": [],
   "source": [
    "data class BBox(val xmin: Double, val ymin: Double, val xmax: Double, val ymax: Double)\n",
    "class Geometry(val type: String, val coordinates: List<Any>)\n",
    "class FeatureCollection(val type: String, val properties: Map<String, Any>, val geometry: Geometry)\n",
    "class GeoJSON(val type: String, val features: List<FeatureCollection>)"
   ]
  },
  {
   "cell_type": "code",
   "execution_count": 4,
   "id": "8237ae33-b540-4065-8b3d-43de9b3ca3c1",
   "metadata": {},
   "outputs": [
    {
     "name": "stderr",
     "output_type": "stream",
     "text": [
      "Line_12.jupyter.kts (1:42 - 56) Unresolved reference: SpatialDataset\n",
      "Line_12.jupyter.kts (10:12 - 26) Unresolved reference: SpatialDataset"
     ]
    }
   ],
   "source": [
    "fun getSpatialData(geoJSONData: String): SpatialDataset {\n",
    "    val parsedGeoJson: GeoJSON = Klaxon().parse<GeoJSON>(geoJSONData) ?: throw Exception(\"Parsing error\")\n",
    "    val geometries = parsedGeoJson.features.map { feature -> Klaxon().toJsonString(feature.geometry) }\n",
    "    val properties = parsedGeoJson.features.map { feature -> feature.properties }\n",
    "    val propertiesData = if (properties.isEmpty()) {\n",
    "        emptyMap()\n",
    "    } else {\n",
    "        properties[0].keys.map { col: String -> col to properties.map { record -> record[col] } }.toMap()\n",
    "    }\n",
    "    return SpatialDataset.withGEOJSON(data = propertiesData, geometry = geometries)\n",
    "}"
   ]
  },
  {
   "cell_type": "code",
   "execution_count": 5,
   "id": "906f1f31-0c57-41b8-a7b0-c5769d5085e0",
   "metadata": {},
   "outputs": [],
   "source": [
    "val kotlinBBox = BBox(29.63, 59.965, 29.815, 60.035)"
   ]
  },
  {
   "cell_type": "markdown",
   "id": "0d136efc-0375-41c6-a4d0-517925b94568",
   "metadata": {},
   "source": [
    "#### Load boundaries of St.-Petersburg districts."
   ]
  },
  {
   "cell_type": "code",
   "execution_count": 6,
   "id": "a70902c8-7c74-49ef-837f-934be9704809",
   "metadata": {},
   "outputs": [
    {
     "name": "stderr",
     "output_type": "stream",
     "text": [
      "Line_14.jupyter.kts (3:31 - 45) Unresolved reference: getSpatialData"
     ]
    }
   ],
   "source": [
    "val spbDistrictsURL = \"https://raw.githubusercontent.com/JetBrains/lets-plot-docs/master/data/spb_districts.geojson\"\n",
    "val spbDistrictsData = URL(spbDistrictsURL).readText()\n",
    "val spbDistrictsSpatialData = getSpatialData(spbDistrictsData)"
   ]
  },
  {
   "cell_type": "markdown",
   "id": "ead5b0a8-c3a0-4352-b780-df50bee792a8",
   "metadata": {},
   "source": [
    "#### Create a map showing all districts of St.-Petersburg.\n",
    "\n",
    "This map will become the **inset map**. The red rectangle indicates the bounds of the future **main map**."
   ]
  },
  {
   "cell_type": "code",
   "execution_count": 7,
   "id": "1de43530-7ae7-4f4d-9cf1-0c763d78a7bb",
   "metadata": {},
   "outputs": [
    {
     "name": "stderr",
     "output_type": "stream",
     "text": [
      "Line_15.jupyter.kts (2:23 - 46) Unresolved reference: spbDistrictsSpatialData"
     ]
    }
   ],
   "source": [
    "val spbPlot = letsPlot() +\n",
    "    geomPolygon(map = spbDistrictsSpatialData, color = \"#a1d99b\", fill = \"#f7fcf5\") +\n",
    "    geomRect(xmin = kotlinBBox.xmin, ymin = kotlinBBox.ymin, xmax = kotlinBBox.xmax, ymax = kotlinBBox.ymax, color = \"red\", alpha = 0) +\n",
    "    geomText(label = \"Saint Petersburg\", x = 30.334445, y = 59.934294, color = \"black\", size = 6) +\n",
    "    scaleXContinuous(expand = listOf(0.0, 0.0)) + scaleYContinuous(expand = listOf(0.0, 0.0)) +\n",
    "    themeVoid() + theme(panelBackground = elementRect(color = \"black\", fill = \"white\"))\n",
    "spbPlot"
   ]
  },
  {
   "cell_type": "markdown",
   "id": "114a3667-6def-4bdb-9f6e-efbc7be3ceab",
   "metadata": {},
   "source": [
    "#### Create the main map with only Kotlin island on it.\n",
    "\n",
    "We use `xlim` and `ylim` parameters of the coordinate system to crop the entire map containing all districts of St.-Petersburg."
   ]
  },
  {
   "cell_type": "code",
   "execution_count": 8,
   "id": "529d6dd7-4750-47de-86a9-e3064b5077f0",
   "metadata": {},
   "outputs": [
    {
     "name": "stderr",
     "output_type": "stream",
     "text": [
      "Line_16.jupyter.kts (4:31 - 45) Unresolved reference: getSpatialData"
     ]
    }
   ],
   "source": [
    "// SpatialDataset containing names and coordinates of some tourist attractions to show on the main map\n",
    "val kotlinPlacesURL = \"https://raw.githubusercontent.com/JetBrains/lets-plot-docs/master/data/kotlin_places.geojson\"\n",
    "val kotlinPlacesData = URL(kotlinPlacesURL).readText()\n",
    "val kotlinPlacesSpatialData = getSpatialData(kotlinPlacesData)"
   ]
  },
  {
   "cell_type": "code",
   "execution_count": 9,
   "id": "7980bbb2-5f8d-45e2-b890-e331a9b61def",
   "metadata": {},
   "outputs": [
    {
     "name": "stderr",
     "output_type": "stream",
     "text": [
      "Line_17.jupyter.kts (4:23 - 46) Unresolved reference: spbDistrictsSpatialData\n",
      "Line_17.jupyter.kts (5:21 - 44) Unresolved reference: kotlinPlacesSpatialData\n",
      "Line_17.jupyter.kts (6:20 - 43) Unresolved reference: kotlinPlacesSpatialData"
     ]
    }
   ],
   "source": [
    "// Cut-out the Kotlin area and add layes with text and points of interest.\n",
    "val kotlinPlot = letsPlot() +\n",
    "    geomRect(xmin = kotlinBBox.xmin, ymin = kotlinBBox.ymin, xmax = kotlinBBox.xmax, ymax = kotlinBBox.ymax, fill = \"#aadaff\", alpha = 0.2) +\n",
    "    geomPolygon(map = spbDistrictsSpatialData, color = \"#31a354\", fill = \"#e5f5e0\") +\n",
    "    geomPoint(map = kotlinPlacesSpatialData, size = 5) { color = \"type\"; shape = \"type\" } +\n",
    "    geomText(map = kotlinPlacesSpatialData, hjust = \"right\", position = positionNudge(x = -.002)) { label = \"name\" } +\n",
    "    geomText(label = \"Kotlin Isl.\", x = 29.725, y = 60.011, color = \"#31a354\", size = 13, fontface = \"italic\") +\n",
    "    geomText(label = \"Gulf of Finland\", x = 29.665, y = 60.002, color = \"#578bcc\", size = 11, fontface = \"italic\") +\n",
    "    coordCartesian(xlim = Pair(kotlinBBox.xmin, kotlinBBox.xmax), ylim = Pair(kotlinBBox.ymin, kotlinBBox.ymax)) +\n",
    "    ggtitle(\"Tourist attractions on Kotlin island\") +\n",
    "    themeVoid() + theme().legendPosition(.15, .2)\n",
    "kotlinPlot"
   ]
  },
  {
   "cell_type": "markdown",
   "id": "79c425a2-06cd-48aa-9093-816a551d0375",
   "metadata": {},
   "source": [
    "#### Finally, use `GGBunch` to show these two maps together."
   ]
  },
  {
   "cell_type": "code",
   "execution_count": 10,
   "id": "3f96ed6d-0e55-4a1a-b6b5-22f91c1259ef",
   "metadata": {},
   "outputs": [
    {
     "name": "stderr",
     "output_type": "stream",
     "text": [
      "Line_18.jupyter.kts (2:15 - 25) Unresolved reference: kotlinPlot\n",
      "Line_18.jupyter.kts (3:15 - 22) Unresolved reference: spbPlot"
     ]
    }
   ],
   "source": [
    "val bunch = GGBunch()\n",
    "bunch.addPlot(kotlinPlot, 0, 0, 800, 600)\n",
    "bunch.addPlot(spbPlot, 600, 25, 200, 150)\n",
    "bunch.show()"
   ]
  }
 ],
 "metadata": {
  "kernelspec": {
   "display_name": "Kotlin",
   "language": "kotlin",
   "name": "kotlin"
  },
  "language_info": {
   "codemirror_mode": "text/x-kotlin",
   "file_extension": ".kt",
   "mimetype": "text/x-kotlin",
   "name": "kotlin",
   "nbconvert_exporter": "",
   "pygments_lexer": "kotlin",
   "version": "1.9.10"
  }
 },
 "nbformat": 4,
 "nbformat_minor": 5
}
