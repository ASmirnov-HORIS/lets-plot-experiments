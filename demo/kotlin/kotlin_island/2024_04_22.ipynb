{
 "cells": [
  {
   "cell_type": "markdown",
   "id": "4401a7ed-03c4-4ede-b084-5f13993d3911",
   "metadata": {},
   "source": [
    "# Inset Map of Kotlin Island\n",
    "\n",
    "Kotlin island is situated in Gulf of Finland and is one of districts of the city of Saint Petersburg in Russia.\n",
    "\n",
    "This example shows how Lets-Plot-Kotlin SpatialDataset integration can help to build an inset map of Kotlin island.\n",
    "\n",
    "[The geodata is provided by © OpenStreetMap contributors and is made available here under the Open Database License (ODbL)](https://www.openstreetmap.org/copyright)."
   ]
  },
  {
   "cell_type": "code",
   "execution_count": 1,
   "id": "f3cb0733-a86c-439b-a222-bf277d6aa3a4",
   "metadata": {},
   "outputs": [
    {
     "data": {
      "text/html": [
       "   <div id=\"rE0kmv\"></div>\n",
       "   <script type=\"text/javascript\" data-lets-plot-script=\"library\">\n",
       "       if(!window.letsPlotCallQueue) {\n",
       "           window.letsPlotCallQueue = [];\n",
       "       }; \n",
       "       window.letsPlotCall = function(f) {\n",
       "           window.letsPlotCallQueue.push(f);\n",
       "       };\n",
       "       (function() {\n",
       "           var script = document.createElement(\"script\");\n",
       "           script.type = \"text/javascript\";\n",
       "           script.src = \"https://cdn.jsdelivr.net/gh/JetBrains/lets-plot@v4.3.0/js-package/distr/lets-plot.min.js\";\n",
       "           script.onload = function() {\n",
       "               window.letsPlotCall = function(f) {f();};\n",
       "               window.letsPlotCallQueue.forEach(function(f) {f();});\n",
       "               window.letsPlotCallQueue = [];\n",
       "               \n",
       "               \n",
       "           };\n",
       "           script.onerror = function(event) {\n",
       "               window.letsPlotCall = function(f) {};\n",
       "               window.letsPlotCallQueue = [];\n",
       "               var div = document.createElement(\"div\");\n",
       "               div.style.color = 'darkred';\n",
       "               div.textContent = 'Error loading Lets-Plot JS';\n",
       "               document.getElementById(\"rE0kmv\").appendChild(div);\n",
       "           };\n",
       "           var e = document.getElementById(\"rE0kmv\");\n",
       "           e.appendChild(script);\n",
       "       })();\n",
       "   </script>"
      ]
     },
     "metadata": {},
     "output_type": "display_data"
    }
   ],
   "source": [
    "%useLatestDescriptors\n",
    "%use klaxon\n",
    "%use lets-plot"
   ]
  },
  {
   "cell_type": "code",
   "execution_count": null,
   "id": "41969dd5-257a-4d3b-be33-91a24db6ead4",
   "metadata": {},
   "outputs": [],
   "source": []
  },
  {
   "cell_type": "code",
   "execution_count": 2,
   "id": "b7303ed6-c4d1-4e79-9bf6-868d11fea6e8",
   "metadata": {},
   "outputs": [],
   "source": [
    "%use lets-plot-gt(gt=\"[30,)\")"
   ]
  },
  {
   "cell_type": "code",
   "execution_count": 3,
   "id": "d3ca57af-4f40-4dca-958a-3752948629ce",
   "metadata": {},
   "outputs": [],
   "source": [
    "@file:DependsOn(\"org.geotools:gt-main:[30,)\")\n",
    "@file:DependsOn(\"org.geotools:gt-geojson:[30,)\")\n",
    "@file:DependsOn(\"org.geotools:gt-shapefile:[30,)\")\n",
    "@file:DependsOn(\"org.geotools:gt-cql:[30,)\")"
   ]
  },
  {
   "cell_type": "code",
   "execution_count": 4,
   "id": "7770fa45-c3f8-4648-a76e-8787cf88ed63",
   "metadata": {},
   "outputs": [],
   "source": [
    "import java.io.File\n",
    "import java.io.ByteArrayInputStream\n",
    "import java.io.InputStream\n",
    "import java.net.URL\n",
    "\n",
    "import org.geotools.data.shapefile.ShapefileDataStoreFactory\n",
    "import org.geotools.data.simple.SimpleFeatureCollection\n",
    "import org.geotools.api.data.DataStore\n",
    "import org.geotools.api.data.DataStoreFinder\n",
    "import org.geotools.feature.DefaultFeatureCollection\n",
    "import org.geotools.feature.simple.SimpleFeatureTypeBuilder\n",
    "import org.geotools.api.feature.simple.SimpleFeature\n",
    "import org.geotools.filter.text.cql2.CQL\n",
    "import org.geotools.geojson.feature.FeatureJSON"
   ]
  },
  {
   "cell_type": "code",
   "execution_count": 5,
   "id": "be1f195d-d45f-48d5-a4c4-8d60dee4ca4f",
   "metadata": {},
   "outputs": [
    {
     "data": {
      "text/plain": [
       "{\n",
       "\"type\": \"FeatureCollection\",\n",
       "\"features\": [\n",
       "{ \"type\": \"Feature\", \"properties\": { \"name\": \"Kronstadt Naval Cathedral\", \"type\": \"church\" }, \"geometry\": { \"type\": \"Point\", \"coordinates\": [ 29.777455, 59.991744 ] } },\n",
       "{ \"type\": \"Feature\", \"properties\": { \"name\": \"Kronstadt History Museum\", \"type\": \"museum\" }, \"geometry\": { \"type\": \"Point\", \"coordinates\": [ 29.791317, 59.986777 ] } },\n",
       "{ \"type\": \"Feature\", \"properties\": { \"name\": \"Kronstadt Naval Museum\", \"type\": \"museum\" }, \"geometry\": { \"type\": \"Point\", \"coordinates\": [ 29.763422, 59.996108 ] } },\n",
       "{ \"type\": \"Feature\", \"properties\": { \"name\": \"City Russian Cemetery\", \"type\": \"cemetery\" }, \"geometry\": { \"type\": \"Point\", \"coordinates\": [ 29.70613, 60.019788 ] } },\n",
       "{ \"type\": \"Feature\", \"properties\": { \"name\": \"Kronstadt Lutheran Cemetery\", \"type\": \"cemetery\" }, \"geometry\": { \"type\": \"Point\", \"coordinates\": [ 29.749861, 60.002212 ] } },\n",
       "{ \"type\": \"Feature\", \"properties\": { \"name\": \"Vladimir Church\", \"type\": \"church\" }, \"geometry\": { \"type\": \"Point\", \"coordinates\": [ 29.766254, 59.998515 ] } }\n",
       "]\n",
       "}\n"
      ]
     },
     "execution_count": 5,
     "metadata": {},
     "output_type": "execute_result"
    }
   ],
   "source": [
    "val f = File(\"../../../data/kotlin_places.geojson\");\n",
    "f.readText()"
   ]
  },
  {
   "cell_type": "code",
   "execution_count": 6,
   "id": "76a28cb8-cae2-40bc-979f-18f0908fa6cf",
   "metadata": {},
   "outputs": [
    {
     "name": "stdout",
     "output_type": "stream",
     "text": [
      "null\n",
      "null\n",
      "null\n"
     ]
    }
   ],
   "source": [
    "val params1: MutableMap<String, Any> = HashMap()\n",
    "params1[\"url\"] = f.toURI().toURL()\n",
    "println(DataStoreFinder.getDataStore(params1))\n",
    "\n",
    "val params2: MutableMap<String, Any> = HashMap()\n",
    "params2[\"inputStream\"] = ByteArrayInputStream(f.readText().toByteArray())\n",
    "println(DataStoreFinder.getDataStore(params2))\n",
    "\n",
    "val params3: MutableMap<String, Any> = HashMap()\n",
    "params3[\"file\"] = f\n",
    "println(DataStoreFinder.getDataStore(params3))"
   ]
  },
  {
   "cell_type": "code",
   "execution_count": 7,
   "id": "ab246456-e365-456d-9e4d-e326606d624e",
   "metadata": {},
   "outputs": [
    {
     "data": {
      "text/plain": [
       "org.geotools.geojson.feature.FeatureJSON@2b659e2d"
      ]
     },
     "execution_count": 7,
     "metadata": {},
     "output_type": "execute_result"
    }
   ],
   "source": [
    "val featureJSON = FeatureJSON()\n",
    "featureJSON"
   ]
  },
  {
   "cell_type": "code",
   "execution_count": 8,
   "id": "1d9a80f4-9aff-49ca-87a7-76f97d786b12",
   "metadata": {},
   "outputs": [
    {
     "name": "stdout",
     "output_type": "stream",
     "text": [
      "org.geotools.feature.DefaultFeatureCollection@729311c1\n",
      "SimpleFeatureTypeImpl http://geotools.org:feature identified extends Feature(name:name,type:type,geometry:geometry)\n"
     ]
    }
   ],
   "source": [
    "val featureCollection = featureJSON.readFeatureCollection(f.reader())\n",
    "println(featureCollection)\n",
    "println(featureCollection.schema)"
   ]
  },
  {
   "cell_type": "code",
   "execution_count": 9,
   "id": "8676a067-117e-4bb9-81d2-872addfa7796",
   "metadata": {},
   "outputs": [
    {
     "name": "stderr",
     "output_type": "stream",
     "text": [
      "null\n",
      "java.lang.NullPointerException\n",
      "\tat org.jetbrains.letsPlot.toolkit.geotools.FeatureCollectionExtKt.getDataAndGeometries(FeatureCollectionExt.kt:57)\n",
      "\tat org.jetbrains.letsPlot.toolkit.geotools.FeatureCollectionExtKt.toSpatialDataset(FeatureCollectionExt.kt:21)\n",
      "\tat org.jetbrains.letsPlot.toolkit.geotools.FeatureCollectionExtKt.toSpatialDataset$default(FeatureCollectionExt.kt:19)\n",
      "\tat Line_16_jupyter.<init>(Line_16.jupyter.kts:9)\n",
      "\tat java.base/jdk.internal.reflect.NativeConstructorAccessorImpl.newInstance0(Native Method)\n",
      "\tat java.base/jdk.internal.reflect.NativeConstructorAccessorImpl.newInstance(NativeConstructorAccessorImpl.java:62)\n",
      "\tat java.base/jdk.internal.reflect.DelegatingConstructorAccessorImpl.newInstance(DelegatingConstructorAccessorImpl.java:45)\n",
      "\tat java.base/java.lang.reflect.Constructor.newInstance(Constructor.java:490)\n",
      "\tat kotlin.script.experimental.jvm.BasicJvmScriptEvaluator.evalWithConfigAndOtherScriptsResults(BasicJvmScriptEvaluator.kt:105)\n",
      "\tat kotlin.script.experimental.jvm.BasicJvmScriptEvaluator.invoke$suspendImpl(BasicJvmScriptEvaluator.kt:47)\n",
      "\tat kotlin.script.experimental.jvm.BasicJvmScriptEvaluator.invoke(BasicJvmScriptEvaluator.kt)\n",
      "\tat kotlin.script.experimental.jvm.BasicJvmReplEvaluator.eval(BasicJvmReplEvaluator.kt:49)\n",
      "\tat org.jetbrains.kotlinx.jupyter.repl.impl.InternalEvaluatorImpl$eval$resultWithDiagnostics$1.invokeSuspend(InternalEvaluatorImpl.kt:107)\n",
      "\tat kotlin.coroutines.jvm.internal.BaseContinuationImpl.resumeWith(ContinuationImpl.kt:33)\n",
      "\tat kotlinx.coroutines.DispatchedTask.run(DispatchedTask.kt:106)\n",
      "\tat kotlinx.coroutines.EventLoopImplBase.processNextEvent(EventLoop.common.kt:284)\n",
      "\tat kotlinx.coroutines.BlockingCoroutine.joinBlocking(Builders.kt:85)\n",
      "\tat kotlinx.coroutines.BuildersKt__BuildersKt.runBlocking(Builders.kt:59)\n",
      "\tat kotlinx.coroutines.BuildersKt.runBlocking(Unknown Source)\n",
      "\tat kotlinx.coroutines.BuildersKt__BuildersKt.runBlocking$default(Builders.kt:38)\n",
      "\tat kotlinx.coroutines.BuildersKt.runBlocking$default(Unknown Source)\n",
      "\tat org.jetbrains.kotlinx.jupyter.repl.impl.InternalEvaluatorImpl.eval(InternalEvaluatorImpl.kt:107)\n",
      "\tat org.jetbrains.kotlinx.jupyter.repl.impl.CellExecutorImpl$execute$1$result$1.invoke(CellExecutorImpl.kt:73)\n",
      "\tat org.jetbrains.kotlinx.jupyter.repl.impl.CellExecutorImpl$execute$1$result$1.invoke(CellExecutorImpl.kt:71)\n",
      "\tat org.jetbrains.kotlinx.jupyter.repl.impl.ReplForJupyterImpl.withHost(ReplForJupyterImpl.kt:646)\n",
      "\tat org.jetbrains.kotlinx.jupyter.repl.impl.CellExecutorImpl.execute(CellExecutorImpl.kt:71)\n",
      "\tat org.jetbrains.kotlinx.jupyter.repl.execution.CellExecutor$DefaultImpls.execute$default(CellExecutor.kt:13)\n",
      "\tat org.jetbrains.kotlinx.jupyter.repl.impl.ReplForJupyterImpl.evaluateUserCode(ReplForJupyterImpl.kt:480)\n",
      "\tat org.jetbrains.kotlinx.jupyter.repl.impl.ReplForJupyterImpl.access$evaluateUserCode(ReplForJupyterImpl.kt:125)\n",
      "\tat org.jetbrains.kotlinx.jupyter.repl.impl.ReplForJupyterImpl$evalEx$1.invoke(ReplForJupyterImpl.kt:378)\n",
      "\tat org.jetbrains.kotlinx.jupyter.repl.impl.ReplForJupyterImpl$evalEx$1.invoke(ReplForJupyterImpl.kt:375)\n",
      "\tat org.jetbrains.kotlinx.jupyter.repl.impl.ReplForJupyterImpl.withEvalContext(ReplForJupyterImpl.kt:359)\n",
      "\tat org.jetbrains.kotlinx.jupyter.repl.impl.ReplForJupyterImpl.evalEx(ReplForJupyterImpl.kt:375)\n",
      "\tat org.jetbrains.kotlinx.jupyter.messaging.IdeCompatibleMessageRequestProcessor$processExecuteRequest$1$response$1$1.invoke(IdeCompatibleMessageRequestProcessor.kt:124)\n",
      "\tat org.jetbrains.kotlinx.jupyter.messaging.IdeCompatibleMessageRequestProcessor$processExecuteRequest$1$response$1$1.invoke(IdeCompatibleMessageRequestProcessor.kt:123)\n",
      "\tat org.jetbrains.kotlinx.jupyter.execution.JupyterExecutorImpl$runExecution$execThread$1.invoke(JupyterExecutorImpl.kt:26)\n",
      "\tat org.jetbrains.kotlinx.jupyter.execution.JupyterExecutorImpl$runExecution$execThread$1.invoke(JupyterExecutorImpl.kt:21)\n",
      "\tat kotlin.concurrent.ThreadsKt$thread$thread$1.run(Thread.kt:30)\n"
     ]
    }
   ],
   "source": [
    "val simpleFeatureCollection = DefaultFeatureCollection()\n",
    "val features = featureCollection.features()\n",
    "while (features.hasNext()) {\n",
    "    val feature = features.next()\n",
    "    if (feature is SimpleFeature) {\n",
    "        simpleFeatureCollection.add(feature as SimpleFeature)\n",
    "    }\n",
    "}\n",
    "simpleFeatureCollection.toSpatialDataset()"
   ]
  },
  {
   "cell_type": "code",
   "execution_count": null,
   "id": "2972e1c1-fc9c-4c4d-8e90-10d8f67486ac",
   "metadata": {},
   "outputs": [],
   "source": []
  },
  {
   "cell_type": "code",
   "execution_count": 10,
   "id": "2aadc0e2-cfe0-4cb0-8e21-f33c6c400595",
   "metadata": {},
   "outputs": [],
   "source": [
    "import java.net.URL"
   ]
  },
  {
   "cell_type": "code",
   "execution_count": 11,
   "id": "6b31803a-b1d8-44c9-b704-2c3fa4405c25",
   "metadata": {},
   "outputs": [],
   "source": [
    "data class BBox(val xmin: Double, val ymin: Double, val xmax: Double, val ymax: Double)\n",
    "class Geometry(val type: String, val coordinates: List<Any>)\n",
    "class FeatureCollection(val type: String, val properties: Map<String, Any>, val geometry: Geometry)\n",
    "class GeoJSON(val type: String, val features: List<FeatureCollection>)"
   ]
  },
  {
   "cell_type": "code",
   "execution_count": 12,
   "id": "8237ae33-b540-4065-8b3d-43de9b3ca3c1",
   "metadata": {},
   "outputs": [
    {
     "name": "stderr",
     "output_type": "stream",
     "text": [
      "Line_19.jupyter.kts (1:42 - 56) Unresolved reference: SpatialDataset\n",
      "Line_19.jupyter.kts (10:12 - 26) Unresolved reference: SpatialDataset"
     ]
    }
   ],
   "source": [
    "fun getSpatialData(geoJSONData: String): SpatialDataset {\n",
    "    val parsedGeoJson: GeoJSON = Klaxon().parse<GeoJSON>(geoJSONData) ?: throw Exception(\"Parsing error\")\n",
    "    val geometries = parsedGeoJson.features.map { feature -> Klaxon().toJsonString(feature.geometry) }\n",
    "    val properties = parsedGeoJson.features.map { feature -> feature.properties }\n",
    "    val propertiesData = if (properties.isEmpty()) {\n",
    "        emptyMap()\n",
    "    } else {\n",
    "        properties[0].keys.map { col: String -> col to properties.map { record -> record[col] } }.toMap()\n",
    "    }\n",
    "    return SpatialDataset.withGEOJSON(data = propertiesData, geometry = geometries)\n",
    "}"
   ]
  },
  {
   "cell_type": "code",
   "execution_count": 13,
   "id": "906f1f31-0c57-41b8-a7b0-c5769d5085e0",
   "metadata": {},
   "outputs": [],
   "source": [
    "val kotlinBBox = BBox(29.63, 59.965, 29.815, 60.035)"
   ]
  },
  {
   "cell_type": "markdown",
   "id": "0d136efc-0375-41c6-a4d0-517925b94568",
   "metadata": {},
   "source": [
    "#### Load boundaries of St.-Petersburg districts."
   ]
  },
  {
   "cell_type": "code",
   "execution_count": 14,
   "id": "a70902c8-7c74-49ef-837f-934be9704809",
   "metadata": {},
   "outputs": [
    {
     "name": "stderr",
     "output_type": "stream",
     "text": [
      "Line_21.jupyter.kts (3:31 - 45) Unresolved reference: getSpatialData"
     ]
    }
   ],
   "source": [
    "val spbDistrictsURL = \"https://raw.githubusercontent.com/JetBrains/lets-plot-docs/master/data/spb_districts.geojson\"\n",
    "val spbDistrictsData = URL(spbDistrictsURL).readText()\n",
    "val spbDistrictsSpatialData = getSpatialData(spbDistrictsData)"
   ]
  },
  {
   "cell_type": "markdown",
   "id": "ead5b0a8-c3a0-4352-b780-df50bee792a8",
   "metadata": {},
   "source": [
    "#### Create a map showing all districts of St.-Petersburg.\n",
    "\n",
    "This map will become the **inset map**. The red rectangle indicates the bounds of the future **main map**."
   ]
  },
  {
   "cell_type": "code",
   "execution_count": 15,
   "id": "1de43530-7ae7-4f4d-9cf1-0c763d78a7bb",
   "metadata": {},
   "outputs": [
    {
     "name": "stderr",
     "output_type": "stream",
     "text": [
      "Line_22.jupyter.kts (2:23 - 46) Unresolved reference: spbDistrictsSpatialData"
     ]
    }
   ],
   "source": [
    "val spbPlot = letsPlot() +\n",
    "    geomPolygon(map = spbDistrictsSpatialData, color = \"#a1d99b\", fill = \"#f7fcf5\") +\n",
    "    geomRect(xmin = kotlinBBox.xmin, ymin = kotlinBBox.ymin, xmax = kotlinBBox.xmax, ymax = kotlinBBox.ymax, color = \"red\", alpha = 0) +\n",
    "    geomText(label = \"Saint Petersburg\", x = 30.334445, y = 59.934294, color = \"black\", size = 6) +\n",
    "    scaleXContinuous(expand = listOf(0.0, 0.0)) + scaleYContinuous(expand = listOf(0.0, 0.0)) +\n",
    "    themeVoid() + theme(panelBackground = elementRect(color = \"black\", fill = \"white\"))\n",
    "spbPlot"
   ]
  },
  {
   "cell_type": "markdown",
   "id": "114a3667-6def-4bdb-9f6e-efbc7be3ceab",
   "metadata": {},
   "source": [
    "#### Create the main map with only Kotlin island on it.\n",
    "\n",
    "We use `xlim` and `ylim` parameters of the coordinate system to crop the entire map containing all districts of St.-Petersburg."
   ]
  },
  {
   "cell_type": "code",
   "execution_count": 16,
   "id": "529d6dd7-4750-47de-86a9-e3064b5077f0",
   "metadata": {},
   "outputs": [
    {
     "name": "stderr",
     "output_type": "stream",
     "text": [
      "Line_23.jupyter.kts (4:31 - 45) Unresolved reference: getSpatialData"
     ]
    }
   ],
   "source": [
    "// SpatialDataset containing names and coordinates of some tourist attractions to show on the main map\n",
    "val kotlinPlacesURL = \"https://raw.githubusercontent.com/JetBrains/lets-plot-docs/master/data/kotlin_places.geojson\"\n",
    "val kotlinPlacesData = URL(kotlinPlacesURL).readText()\n",
    "val kotlinPlacesSpatialData = getSpatialData(kotlinPlacesData)"
   ]
  },
  {
   "cell_type": "code",
   "execution_count": 17,
   "id": "7980bbb2-5f8d-45e2-b890-e331a9b61def",
   "metadata": {},
   "outputs": [
    {
     "name": "stderr",
     "output_type": "stream",
     "text": [
      "Line_24.jupyter.kts (4:23 - 46) Unresolved reference: spbDistrictsSpatialData\n",
      "Line_24.jupyter.kts (5:21 - 44) Unresolved reference: kotlinPlacesSpatialData\n",
      "Line_24.jupyter.kts (6:20 - 43) Unresolved reference: kotlinPlacesSpatialData"
     ]
    }
   ],
   "source": [
    "// Cut-out the Kotlin area and add layes with text and points of interest.\n",
    "val kotlinPlot = letsPlot() +\n",
    "    geomRect(xmin = kotlinBBox.xmin, ymin = kotlinBBox.ymin, xmax = kotlinBBox.xmax, ymax = kotlinBBox.ymax, fill = \"#aadaff\", alpha = 0.2) +\n",
    "    geomPolygon(map = spbDistrictsSpatialData, color = \"#31a354\", fill = \"#e5f5e0\") +\n",
    "    geomPoint(map = kotlinPlacesSpatialData, size = 5) { color = \"type\"; shape = \"type\" } +\n",
    "    geomText(map = kotlinPlacesSpatialData, hjust = \"right\", position = positionNudge(x = -.002)) { label = \"name\" } +\n",
    "    geomText(label = \"Kotlin Isl.\", x = 29.725, y = 60.011, color = \"#31a354\", size = 13, fontface = \"italic\") +\n",
    "    geomText(label = \"Gulf of Finland\", x = 29.665, y = 60.002, color = \"#578bcc\", size = 11, fontface = \"italic\") +\n",
    "    coordCartesian(xlim = Pair(kotlinBBox.xmin, kotlinBBox.xmax), ylim = Pair(kotlinBBox.ymin, kotlinBBox.ymax)) +\n",
    "    ggtitle(\"Tourist attractions on Kotlin island\") +\n",
    "    themeVoid() + theme().legendPosition(.15, .2)\n",
    "kotlinPlot"
   ]
  },
  {
   "cell_type": "markdown",
   "id": "79c425a2-06cd-48aa-9093-816a551d0375",
   "metadata": {},
   "source": [
    "#### Finally, use `GGBunch` to show these two maps together."
   ]
  },
  {
   "cell_type": "code",
   "execution_count": 18,
   "id": "3f96ed6d-0e55-4a1a-b6b5-22f91c1259ef",
   "metadata": {},
   "outputs": [
    {
     "name": "stderr",
     "output_type": "stream",
     "text": [
      "Line_25.jupyter.kts (2:15 - 25) Unresolved reference: kotlinPlot\n",
      "Line_25.jupyter.kts (3:15 - 22) Unresolved reference: spbPlot"
     ]
    }
   ],
   "source": [
    "val bunch = GGBunch()\n",
    "bunch.addPlot(kotlinPlot, 0, 0, 800, 600)\n",
    "bunch.addPlot(spbPlot, 600, 25, 200, 150)\n",
    "bunch.show()"
   ]
  }
 ],
 "metadata": {
  "kernelspec": {
   "display_name": "Kotlin",
   "language": "kotlin",
   "name": "kotlin"
  },
  "language_info": {
   "codemirror_mode": "text/x-kotlin",
   "file_extension": ".kt",
   "mimetype": "text/x-kotlin",
   "name": "kotlin",
   "nbconvert_exporter": "",
   "pygments_lexer": "kotlin",
   "version": "1.9.10"
  }
 },
 "nbformat": 4,
 "nbformat_minor": 5
}
