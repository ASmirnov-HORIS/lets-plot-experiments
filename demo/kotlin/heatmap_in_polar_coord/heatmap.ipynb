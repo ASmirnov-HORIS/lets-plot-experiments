{
 "cells": [
  {
   "cell_type": "code",
   "execution_count": 1,
   "id": "e604ff33-4721-412b-8469-5401ee8a440f",
   "metadata": {},
   "outputs": [],
   "source": [
    "import numpy as np\n",
    "import pandas as pd\n",
    "from scipy.interpolate import griddata\n",
    "\n",
    "from lets_plot import *"
   ]
  },
  {
   "cell_type": "code",
   "execution_count": 2,
   "id": "5b0c440b-a18d-4454-ba70-17a86fd178db",
   "metadata": {},
   "outputs": [
    {
     "data": {
      "text/html": [
       "\n",
       "            <div id=\"DgAhse\"></div>\n",
       "            <script type=\"text/javascript\" data-lets-plot-script=\"library\">\n",
       "                if(!window.letsPlotCallQueue) {\n",
       "                    window.letsPlotCallQueue = [];\n",
       "                }; \n",
       "                window.letsPlotCall = function(f) {\n",
       "                    window.letsPlotCallQueue.push(f);\n",
       "                };\n",
       "                (function() {\n",
       "                    var script = document.createElement(\"script\");\n",
       "                    script.type = \"text/javascript\";\n",
       "                    script.src = \"https://cdn.jsdelivr.net/gh/JetBrains/lets-plot@v4.3.0rc1/js-package/distr/lets-plot.min.js\";\n",
       "                    script.onload = function() {\n",
       "                        window.letsPlotCall = function(f) {f();};\n",
       "                        window.letsPlotCallQueue.forEach(function(f) {f();});\n",
       "                        window.letsPlotCallQueue = [];\n",
       "                        \n",
       "                    };\n",
       "                    script.onerror = function(event) {\n",
       "                        window.letsPlotCall = function(f) {};    // noop\n",
       "                        window.letsPlotCallQueue = [];\n",
       "                        var div = document.createElement(\"div\");\n",
       "                        div.style.color = 'darkred';\n",
       "                        div.textContent = 'Error loading Lets-Plot JS';\n",
       "                        document.getElementById(\"DgAhse\").appendChild(div);\n",
       "                    };\n",
       "                    var e = document.getElementById(\"DgAhse\");\n",
       "                    e.appendChild(script);\n",
       "                })()\n",
       "            </script>\n",
       "            "
      ]
     },
     "metadata": {},
     "output_type": "display_data"
    }
   ],
   "source": [
    "LetsPlot.setup_html()"
   ]
  },
  {
   "cell_type": "code",
   "execution_count": 3,
   "id": "e127ad69-8ad9-4368-a020-2f143fa262f0",
   "metadata": {},
   "outputs": [],
   "source": [
    "max_r = 3 # TODO: 100\n",
    "max_theta = 2.0 * np.pi\n",
    "number_points = 20 # TODO: 5_000\n",
    "np.random.seed = 42"
   ]
  },
  {
   "cell_type": "code",
   "execution_count": 4,
   "id": "d0220762-4dec-4b4c-98d6-959c914f8103",
   "metadata": {},
   "outputs": [],
   "source": [
    "grid_r, grid_theta = np.meshgrid(\n",
    "    np.linspace(0, max_r, 2 * max_r), # r\n",
    "    np.linspace(0.0, max_theta, max_r) # theta\n",
    ")"
   ]
  },
  {
   "cell_type": "code",
   "execution_count": 5,
   "id": "67534c3e-f5d2-4701-b2db-f6f7398fafbd",
   "metadata": {},
   "outputs": [
    {
     "name": "stdout",
     "output_type": "stream",
     "text": [
      "(3, 6)\n"
     ]
    },
    {
     "data": {
      "text/plain": [
       "array([[0. , 0.6, 1.2, 1.8, 2.4, 3. ],\n",
       "       [0. , 0.6, 1.2, 1.8, 2.4, 3. ],\n",
       "       [0. , 0.6, 1.2, 1.8, 2.4, 3. ]])"
      ]
     },
     "execution_count": 5,
     "metadata": {},
     "output_type": "execute_result"
    }
   ],
   "source": [
    "print(grid_r.shape)\n",
    "grid_r"
   ]
  },
  {
   "cell_type": "code",
   "execution_count": 6,
   "id": "f216fd42-2118-4318-b666-831aaeae0c3c",
   "metadata": {},
   "outputs": [
    {
     "name": "stdout",
     "output_type": "stream",
     "text": [
      "(3, 6)\n"
     ]
    },
    {
     "data": {
      "text/plain": [
       "array([[0.        , 0.        , 0.        , 0.        , 0.        ,\n",
       "        0.        ],\n",
       "       [3.14159265, 3.14159265, 3.14159265, 3.14159265, 3.14159265,\n",
       "        3.14159265],\n",
       "       [6.28318531, 6.28318531, 6.28318531, 6.28318531, 6.28318531,\n",
       "        6.28318531]])"
      ]
     },
     "execution_count": 6,
     "metadata": {},
     "output_type": "execute_result"
    }
   ],
   "source": [
    "print(grid_theta.shape)\n",
    "grid_theta"
   ]
  },
  {
   "cell_type": "code",
   "execution_count": 7,
   "id": "66a0026c-cbb0-4d9e-bd63-882469ca373b",
   "metadata": {},
   "outputs": [
    {
     "name": "stdout",
     "output_type": "stream",
     "text": [
      "(20, 2)\n"
     ]
    },
    {
     "data": {
      "text/plain": [
       "array([[2.00936138e-03, 5.75988696e+00],\n",
       "       [3.24252390e-01, 2.51278999e+00],\n",
       "       [2.23164587e-01, 4.19246957e-01],\n",
       "       [2.64980812e+00, 5.84204253e+00],\n",
       "       [1.04020277e+00, 3.74536871e+00],\n",
       "       [4.21012277e-02, 1.20490415e-01],\n",
       "       [2.04975010e+00, 5.74567583e+00],\n",
       "       [9.54136861e-01, 4.65960740e+00],\n",
       "       [3.76398890e-01, 1.55336294e+00],\n",
       "       [6.97146731e-02, 2.38357141e+00],\n",
       "       [1.48853576e-01, 2.48176740e+00],\n",
       "       [1.63503942e+00, 5.95625078e+00],\n",
       "       [2.55063040e-01, 5.94600681e+00],\n",
       "       [1.59889662e+00, 1.36935870e+00],\n",
       "       [1.90968879e+00, 4.89073410e+00],\n",
       "       [4.86547728e-01, 1.89115157e+00],\n",
       "       [2.52331068e+00, 1.48878602e+00],\n",
       "       [2.22260573e+00, 5.04588048e+00],\n",
       "       [1.67355538e+00, 2.11766499e+00],\n",
       "       [4.64385204e-01, 1.39464876e+00]])"
      ]
     },
     "execution_count": 7,
     "metadata": {},
     "output_type": "execute_result"
    }
   ],
   "source": [
    "points = np.random.rand(number_points, 2) * [max_r, max_theta]\n",
    "print(points.shape)\n",
    "points"
   ]
  },
  {
   "cell_type": "code",
   "execution_count": 8,
   "id": "3b861692-eecd-4891-ab05-c433aa649bc4",
   "metadata": {},
   "outputs": [
    {
     "name": "stdout",
     "output_type": "stream",
     "text": [
      "(20,)\n"
     ]
    },
    {
     "data": {
      "text/plain": [
       "array([3.76493768e-04, 7.33683350e-02, 3.08522819e-02, 3.95008353e-01,\n",
       "       2.27220796e-01, 5.99482734e-04, 3.96470195e-01, 2.64826591e-03,\n",
       "       1.14349894e-04, 1.73764696e-02, 3.49151241e-02, 1.51234036e-01,\n",
       "       2.48603154e-02, 6.14435875e-02, 5.82087360e-02, 4.34636968e-02,\n",
       "       1.68193628e-02, 2.12641517e-01, 3.30177524e-01, 1.38225990e-02])"
      ]
     },
     "execution_count": 8,
     "metadata": {},
     "output_type": "execute_result"
    }
   ],
   "source": [
    "values = points[:,0] * np.sin(points[:,1])**2 * np.cos(points[:,1])**2\n",
    "print(values.shape)\n",
    "values"
   ]
  },
  {
   "cell_type": "code",
   "execution_count": 9,
   "id": "68fb0387-f9d9-49ed-a9a0-da2d31a98a97",
   "metadata": {},
   "outputs": [
    {
     "name": "stdout",
     "output_type": "stream",
     "text": [
      "(3, 6)\n"
     ]
    },
    {
     "data": {
      "text/plain": [
       "array([[0.        , 0.        , 0.        , 0.        , 0.        ,\n",
       "        0.        ],\n",
       "       [0.        , 0.16528837, 0.33531021, 0.30578057, 0.14797681,\n",
       "        0.        ],\n",
       "       [0.        , 0.        , 0.        , 0.        , 0.        ,\n",
       "        0.        ]])"
      ]
     },
     "execution_count": 9,
     "metadata": {},
     "output_type": "execute_result"
    }
   ],
   "source": [
    "data = griddata(points, values, (grid_r, grid_theta), method='cubic',fill_value=0)\n",
    "print(data.shape)\n",
    "data"
   ]
  },
  {
   "cell_type": "code",
   "execution_count": 10,
   "id": "85508756-656c-4059-8773-aeb210fd2f09",
   "metadata": {},
   "outputs": [],
   "source": [
    "df = {\n",
    "    'x': grid_theta.flatten(), \n",
    "    'y': grid_r.flatten(), \n",
    "    'z': data.flatten()\n",
    "}"
   ]
  },
  {
   "cell_type": "code",
   "execution_count": 11,
   "id": "1dd784ce-c81a-4951-8176-a75705eb54ff",
   "metadata": {},
   "outputs": [
    {
     "data": {
      "text/html": [
       "   <div id=\"J3CjFl\"></div>\n",
       "   <script type=\"text/javascript\" data-lets-plot-script=\"plot\">\n",
       "       (function() {\n",
       "           var plotSpec={\n",
       "\"kind\":\"subplots\",\n",
       "\"layout\":{\n",
       "\"ncol\":2.0,\n",
       "\"nrow\":1.0,\n",
       "\"name\":\"grid\"\n",
       "},\n",
       "\"figures\":[{\n",
       "\"data\":{\n",
       "\"x\":[0.0,0.0,0.0,0.0,0.0,0.0,3.141592653589793,3.141592653589793,3.141592653589793,3.141592653589793,3.141592653589793,3.141592653589793,6.283185307179586,6.283185307179586,6.283185307179586,6.283185307179586,6.283185307179586,6.283185307179586],\n",
       "\"y\":[0.0,0.6,1.2,1.7999999999999998,2.4,3.0,0.0,0.6,1.2,1.7999999999999998,2.4,3.0,0.0,0.6,1.2,1.7999999999999998,2.4,3.0],\n",
       "\"z\":[0.0,0.0,0.0,0.0,0.0,0.0,0.0,0.16528836958672535,0.33531021332066513,0.3057805720999598,0.14797681302885807,0.0,0.0,0.0,0.0,0.0,0.0,0.0]\n",
       "},\n",
       "\"mapping\":{\n",
       "},\n",
       "\"data_meta\":{\n",
       "},\n",
       "\"theme\":{\n",
       "\"axis_title\":{\n",
       "\"blank\":true\n",
       "}\n",
       "},\n",
       "\"coord\":{\n",
       "\"name\":\"cartesian\",\n",
       "\"flip\":false\n",
       "},\n",
       "\"ggtitle\":{\n",
       "\"text\":\"Rectangular Heatmap\"\n",
       "},\n",
       "\"kind\":\"plot\",\n",
       "\"scales\":[{\n",
       "\"aesthetic\":\"color\",\n",
       "\"palette\":\"Spectral\",\n",
       "\"direction\":-1.0,\n",
       "\"scale_mapper_kind\":\"color_brewer\"\n",
       "},{\n",
       "\"aesthetic\":\"fill\",\n",
       "\"palette\":\"Spectral\",\n",
       "\"direction\":-1.0,\n",
       "\"scale_mapper_kind\":\"color_brewer\"\n",
       "}],\n",
       "\"layers\":[{\n",
       "\"geom\":\"tile\",\n",
       "\"mapping\":{\n",
       "\"x\":\"x\",\n",
       "\"y\":\"y\",\n",
       "\"color\":\"z\",\n",
       "\"fill\":\"z\"\n",
       "},\n",
       "\"tooltips\":\"none\",\n",
       "\"data_meta\":{\n",
       "},\n",
       "\"size\":1.0,\n",
       "\"data\":{\n",
       "}\n",
       "}],\n",
       "\"metainfo_list\":[]\n",
       "},{\n",
       "\"data\":{\n",
       "\"x\":[0.0,0.0,0.0,0.0,0.0,0.0,3.141592653589793,3.141592653589793,3.141592653589793,3.141592653589793,3.141592653589793,3.141592653589793,6.283185307179586,6.283185307179586,6.283185307179586,6.283185307179586,6.283185307179586,6.283185307179586],\n",
       "\"y\":[0.0,0.6,1.2,1.7999999999999998,2.4,3.0,0.0,0.6,1.2,1.7999999999999998,2.4,3.0,0.0,0.6,1.2,1.7999999999999998,2.4,3.0],\n",
       "\"z\":[0.0,0.0,0.0,0.0,0.0,0.0,0.0,0.16528836958672535,0.33531021332066513,0.3057805720999598,0.14797681302885807,0.0,0.0,0.0,0.0,0.0,0.0,0.0]\n",
       "},\n",
       "\"mapping\":{\n",
       "},\n",
       "\"data_meta\":{\n",
       "},\n",
       "\"theme\":{\n",
       "\"axis_title\":{\n",
       "\"blank\":true\n",
       "},\n",
       "\"legend_position\":\"none\"\n",
       "},\n",
       "\"coord\":{\n",
       "\"name\":\"polar\"\n",
       "},\n",
       "\"ggtitle\":{\n",
       "\"text\":\"Polar Heatmap\"\n",
       "},\n",
       "\"kind\":\"plot\",\n",
       "\"scales\":[{\n",
       "\"aesthetic\":\"color\",\n",
       "\"palette\":\"Spectral\",\n",
       "\"direction\":-1.0,\n",
       "\"scale_mapper_kind\":\"color_brewer\"\n",
       "},{\n",
       "\"aesthetic\":\"fill\",\n",
       "\"palette\":\"Spectral\",\n",
       "\"direction\":-1.0,\n",
       "\"scale_mapper_kind\":\"color_brewer\"\n",
       "}],\n",
       "\"layers\":[{\n",
       "\"geom\":\"tile\",\n",
       "\"mapping\":{\n",
       "\"x\":\"x\",\n",
       "\"y\":\"y\",\n",
       "\"color\":\"z\",\n",
       "\"fill\":\"z\"\n",
       "},\n",
       "\"tooltips\":\"none\",\n",
       "\"data_meta\":{\n",
       "},\n",
       "\"size\":1.0,\n",
       "\"data\":{\n",
       "}\n",
       "}],\n",
       "\"metainfo_list\":[]\n",
       "}]\n",
       "};\n",
       "           var plotContainer = document.getElementById(\"J3CjFl\");\n",
       "           window.letsPlotCall(function() {{\n",
       "               LetsPlot.buildPlotFromProcessedSpecs(plotSpec, -1, -1, plotContainer);\n",
       "           }});\n",
       "       })();    \n",
       "   </script>"
      ],
      "text/plain": [
       "<lets_plot.plot.subplots.SupPlotsSpec at 0x7f46861261a0>"
      ]
     },
     "execution_count": 11,
     "metadata": {},
     "output_type": "execute_result"
    }
   ],
   "source": [
    "p = ggplot(df) + \\\n",
    "    geom_tile(aes('x', 'y', color='z', fill='z'), size=1, tooltips='none') + \\\n",
    "    scale_brewer(['color', 'fill'], palette='Spectral', direction=-1) + \\\n",
    "    theme(axis_title=element_blank())\n",
    "\n",
    "gggrid([\n",
    "    p + coord_cartesian() + ggtitle(\"Rectangular Heatmap\"),\n",
    "    p + coord_polar() + theme(legend_position='none') + ggtitle(\"Polar Heatmap\"),\n",
    "])"
   ]
  }
 ],
 "metadata": {
  "kernelspec": {
   "display_name": "Python 3 (ipykernel)",
   "language": "python",
   "name": "python3"
  },
  "language_info": {
   "codemirror_mode": {
    "name": "ipython",
    "version": 3
   },
   "file_extension": ".py",
   "mimetype": "text/x-python",
   "name": "python",
   "nbconvert_exporter": "python",
   "pygments_lexer": "ipython3",
   "version": "3.10.13"
  }
 },
 "nbformat": 4,
 "nbformat_minor": 5
}
