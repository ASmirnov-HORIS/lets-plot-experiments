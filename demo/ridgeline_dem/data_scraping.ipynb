{
 "cells": [
  {
   "cell_type": "markdown",
   "id": "24ca3ce8",
   "metadata": {},
   "source": [
    "Source: https://www.opentopodata.org"
   ]
  },
  {
   "cell_type": "code",
   "execution_count": null,
   "id": "e2a2512e",
   "metadata": {},
   "outputs": [],
   "source": [
    "import requests\n",
    "import shapely\n",
    "import numpy as np\n",
    "import pandas as pd\n",
    "\n",
    "from lets_plot import *\n",
    "from lets_plot.geo_data import *"
   ]
  },
  {
   "cell_type": "code",
   "execution_count": null,
   "id": "3868b068",
   "metadata": {},
   "outputs": [],
   "source": [
    "def update_data(data, x, y, lon, lat, elevation, warning=None, print_warning=False):\n",
    "    if print_warning and warning is not None:\n",
    "        print(\"({0}, {1}): {2}\".format(lat, lon, warning))\n",
    "    data[\"x\"].append(x)\n",
    "    data[\"y\"].append(y)\n",
    "    data[\"lon\"].append(lon)\n",
    "    data[\"lat\"].append(lat)\n",
    "    data[\"elevation\"].append(elevation)\n",
    "    return data\n",
    "\n",
    "data = {\"x\": [], \"y\": [], \"lon\": [], \"lat\": [], \"elevation\": []}"
   ]
  },
  {
   "cell_type": "code",
   "execution_count": null,
   "id": "e714e528",
   "metadata": {},
   "outputs": [],
   "source": [
    "PRINT_WARNING = False\n",
    "\n",
    "country_name = \"New Zealand\"\n",
    "file_path = \"data/new_zealand.csv\"\n",
    "crop_rect = shapely.Polygon([(150, -48), (150, 0), (180, 0), (180, -48)])\n",
    "\n",
    "url = lambda lat, lon: \"https://api.opentopodata.org/v1/nzdem8m?locations={0},{1}\".format(lat, lon)\n",
    "n, m = 1500, 150"
   ]
  },
  {
   "cell_type": "code",
   "execution_count": null,
   "id": "e2762c0e",
   "metadata": {},
   "outputs": [],
   "source": [
    "original_geometry = geocode_countries(country_name).inc_res(4).get_boundaries().iloc[0].geometry\n",
    "geometry = original_geometry.intersection(crop_rect)\n",
    "geometry"
   ]
  },
  {
   "cell_type": "code",
   "execution_count": null,
   "id": "81d25f88",
   "metadata": {},
   "outputs": [],
   "source": [
    "bounds = geometry.bounds\n",
    "bounds"
   ]
  },
  {
   "cell_type": "code",
   "execution_count": null,
   "id": "d75877ae",
   "metadata": {},
   "outputs": [],
   "source": [
    "for x, lon in enumerate(np.linspace(bounds[0], bounds[2], n)):\n",
    "    for y, lat in enumerate(reversed(np.linspace(bounds[1], bounds[3], m))):\n",
    "        p = shapely.Point(lon, lat)\n",
    "        if not geometry.contains(p):\n",
    "            data = update_data(data, x, y, lon, lat, None, \"Out of the area\", PRINT_WARNING)\n",
    "            continue\n",
    "        response = requests.get(url(lat, lon))\n",
    "        if not response.ok:\n",
    "            data = update_data(data, x, y, lon, lat, None, \"Response is not OK\", PRINT_WARNING)\n",
    "            continue\n",
    "        json = response.json()\n",
    "        if json['status'] != \"OK\":\n",
    "            data = update_data(data, x, y, lon, lat, None, \"JSON is not OK\", PRINT_WARNING)\n",
    "            continue\n",
    "        elevation = json[\"results\"][0][\"elevation\"]\n",
    "        if elevation is None:\n",
    "            data = update_data(data, x, y, lon, lat, None, \"Elevation is None\", PRINT_WARNING)\n",
    "            continue\n",
    "        data = update_data(data, x, y, lon, lat, elevation)\n",
    "\n",
    "df = pd.DataFrame(data)\n",
    "print(df.shape)\n",
    "df.head()"
   ]
  },
  {
   "cell_type": "code",
   "execution_count": null,
   "id": "d0a90ef6",
   "metadata": {},
   "outputs": [],
   "source": [
    "dem_df = df.pivot(index='y', columns='x', values='elevation').fillna(0.0)\n",
    "print(dem_df.shape)\n",
    "dem_df.head()"
   ]
  },
  {
   "cell_type": "code",
   "execution_count": null,
   "id": "ea06c32f",
   "metadata": {},
   "outputs": [],
   "source": [
    "dem_df.to_csv(file_path, header=False, index=False)"
   ]
  }
 ],
 "metadata": {
  "kernelspec": {
   "display_name": "Python 3 (ipykernel)",
   "language": "python",
   "name": "python3"
  },
  "language_info": {
   "codemirror_mode": {
    "name": "ipython",
    "version": 3
   },
   "file_extension": ".py",
   "mimetype": "text/x-python",
   "name": "python",
   "nbconvert_exporter": "python",
   "pygments_lexer": "ipython3",
   "version": "3.10.13"
  }
 },
 "nbformat": 4,
 "nbformat_minor": 5
}
