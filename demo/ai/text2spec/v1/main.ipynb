{
 "cells": [
  {
   "cell_type": "code",
   "execution_count": 1,
   "id": "52ecdf97-3d22-4e52-a896-583ef870b4be",
   "metadata": {},
   "outputs": [],
   "source": [
    "import json\n",
    "from IPython.display import display_html\n",
    "\n",
    "from lets_plot import *\n",
    "from lets_plot.frontend_context._configuration import _as_html\n",
    "\n",
    "from text2spec import Text2Spec"
   ]
  },
  {
   "cell_type": "code",
   "execution_count": 2,
   "id": "333dae35-30d5-4b4e-8912-91fa059585cb",
   "metadata": {},
   "outputs": [
    {
     "data": {
      "text/html": [
       "\n",
       "            <div id=\"Oqq2Vb\"></div>\n",
       "            <script type=\"text/javascript\" data-lets-plot-script=\"library\">\n",
       "                if(!window.letsPlotCallQueue) {\n",
       "                    window.letsPlotCallQueue = [];\n",
       "                }; \n",
       "                window.letsPlotCall = function(f) {\n",
       "                    window.letsPlotCallQueue.push(f);\n",
       "                };\n",
       "                (function() {\n",
       "                    var script = document.createElement(\"script\");\n",
       "                    script.type = \"text/javascript\";\n",
       "                    script.src = \"https://cdn.jsdelivr.net/gh/JetBrains/lets-plot@v4.4.1/js-package/distr/lets-plot.min.js\";\n",
       "                    script.onload = function() {\n",
       "                        window.letsPlotCall = function(f) {f();};\n",
       "                        window.letsPlotCallQueue.forEach(function(f) {f();});\n",
       "                        window.letsPlotCallQueue = [];\n",
       "                        \n",
       "                    };\n",
       "                    script.onerror = function(event) {\n",
       "                        window.letsPlotCall = function(f) {};    // noop\n",
       "                        window.letsPlotCallQueue = [];\n",
       "                        var div = document.createElement(\"div\");\n",
       "                        div.style.color = 'darkred';\n",
       "                        div.textContent = 'Error loading Lets-Plot JS';\n",
       "                        document.getElementById(\"Oqq2Vb\").appendChild(div);\n",
       "                    };\n",
       "                    var e = document.getElementById(\"Oqq2Vb\");\n",
       "                    e.appendChild(script);\n",
       "                })()\n",
       "            </script>\n",
       "            "
      ]
     },
     "metadata": {},
     "output_type": "display_data"
    }
   ],
   "source": [
    "LetsPlot.setup_html()"
   ]
  },
  {
   "cell_type": "code",
   "execution_count": 3,
   "id": "c90cfec0-8188-43ac-b6ee-6b6bf054a0c7",
   "metadata": {},
   "outputs": [
    {
     "name": "stdin",
     "output_type": "stream",
     "text": [
      "OpenAI API key: -\n"
     ]
    }
   ],
   "source": [
    "api_key = input(\"OpenAI API key: \")"
   ]
  },
  {
   "cell_type": "code",
   "execution_count": 4,
   "id": "cc7679c4-e5cf-446a-8b9f-3eb61b0ace69",
   "metadata": {},
   "outputs": [],
   "source": [
    "chat = Text2Spec(api_key)"
   ]
  },
  {
   "cell_type": "code",
   "execution_count": 5,
   "id": "4417aa66-a81d-43c1-9555-1ad7e59ed160",
   "metadata": {},
   "outputs": [
    {
     "name": "stdin",
     "output_type": "stream",
     "text": [
      "Your query:  Dataset is mpg, all series has length 20. Draw fl vs. cty with boxplot.\n"
     ]
    }
   ],
   "source": [
    "request = input(\"Your query: \")"
   ]
  },
  {
   "cell_type": "code",
   "execution_count": 6,
   "id": "48d68e5b-78cc-4687-bcfc-a9739e9403fd",
   "metadata": {},
   "outputs": [],
   "source": [
    "response = chat.query(request)"
   ]
  },
  {
   "cell_type": "code",
   "execution_count": 7,
   "id": "736be4cf-0134-46a5-9a3f-a71c65d37659",
   "metadata": {},
   "outputs": [
    {
     "name": "stdout",
     "output_type": "stream",
     "text": [
      "Request: Dataset is mpg, all series has length 20. Draw fl vs. cty with boxplot.\n",
      "Response:\n",
      "{\n",
      "  \"data\": {\n",
      "    \"fl\": [\n",
      "      \"p\",\n",
      "      \"p\",\n",
      "      \"p\",\n",
      "      \"p\",\n",
      "      \"p\",\n",
      "      \"p\",\n",
      "      \"p\",\n",
      "      \"p\",\n",
      "      \"p\",\n",
      "      \"p\",\n",
      "      \"r\",\n",
      "      \"r\",\n",
      "      \"r\",\n",
      "      \"r\",\n",
      "      \"r\",\n",
      "      \"r\",\n",
      "      \"r\",\n",
      "      \"r\",\n",
      "      \"r\",\n",
      "      \"r\"\n",
      "    ],\n",
      "    \"cty\": [\n",
      "      18.0,\n",
      "      21.0,\n",
      "      20.0,\n",
      "      21.0,\n",
      "      16.0,\n",
      "      18.0,\n",
      "      18.0,\n",
      "      18.0,\n",
      "      16.0,\n",
      "      20.0,\n",
      "      17.0,\n",
      "      19.0,\n",
      "      22.0,\n",
      "      23.0,\n",
      "      20.0,\n",
      "      18.0,\n",
      "      15.0,\n",
      "      21.0,\n",
      "      20.0,\n",
      "      19.0\n",
      "    ]\n",
      "  },\n",
      "  \"mapping\": {\n",
      "    \"x\": \"fl\",\n",
      "    \"y\": \"cty\"\n",
      "  },\n",
      "  \"data_meta\": {\n",
      "    \"series_annotations\": [\n",
      "      {\n",
      "        \"type\": \"str\",\n",
      "        \"column\": \"fl\"\n",
      "      },\n",
      "      {\n",
      "        \"type\": \"int\",\n",
      "        \"column\": \"cty\"\n",
      "      }\n",
      "    ]\n",
      "  },\n",
      "  \"kind\": \"plot\",\n",
      "  \"scales\": [],\n",
      "  \"layers\": [\n",
      "    {\n",
      "      \"geom\": \"boxplot\",\n",
      "      \"mapping\": {},\n",
      "      \"data_meta\": {}\n",
      "    }\n",
      "  ],\n",
      "  \"metainfo_list\": []\n",
      "}\n"
     ]
    }
   ],
   "source": [
    "print(\"Request: {0}\\nResponse:\\n{1}\".format(request, json.dumps(response, indent=2)))"
   ]
  },
  {
   "cell_type": "code",
   "execution_count": 8,
   "id": "99586c5c-0a2b-46b1-b6c6-7227bcabad78",
   "metadata": {},
   "outputs": [
    {
     "data": {
      "text/html": [
       "   <div id=\"OZCeJj\"></div>\n",
       "   <script type=\"text/javascript\" data-lets-plot-script=\"plot\">\n",
       "       (function() {\n",
       "           var plotSpec={\n",
       "\"data\":{\n",
       "},\n",
       "\"mapping\":{\n",
       "\"x\":\"fl\",\n",
       "\"y\":\"cty\"\n",
       "},\n",
       "\"data_meta\":{\n",
       "\"series_annotations\":[{\n",
       "\"type\":\"str\",\n",
       "\"column\":\"fl\"\n",
       "},{\n",
       "\"type\":\"int\",\n",
       "\"column\":\"cty\"\n",
       "}]\n",
       "},\n",
       "\"kind\":\"plot\",\n",
       "\"scales\":[],\n",
       "\"layers\":[{\n",
       "\"geom\":\"boxplot\",\n",
       "\"mapping\":{\n",
       "},\n",
       "\"data_meta\":{\n",
       "},\n",
       "\"data\":{\n",
       "\"..middle..\":[18.0,19.5],\n",
       "\"..lower..\":[18.0,18.5],\n",
       "\"..upper..\":[20.0,20.5],\n",
       "\"..ymin..\":[16.0,17.0],\n",
       "\"..ymax..\":[21.0,23.0],\n",
       "\"fl\":[\"p\",\"r\"]\n",
       "}\n",
       "}],\n",
       "\"metainfo_list\":[]\n",
       "};\n",
       "           var plotContainer = document.getElementById(\"OZCeJj\");\n",
       "           window.letsPlotCall(function() {{\n",
       "               LetsPlot.buildPlotFromProcessedSpecs(plotSpec, -1, -1, plotContainer);\n",
       "           }});\n",
       "       })();\n",
       "   </script>"
      ]
     },
     "metadata": {},
     "output_type": "display_data"
    }
   ],
   "source": [
    "display_html(_as_html(response), raw=True)"
   ]
  }
 ],
 "metadata": {
  "kernelspec": {
   "display_name": "Python 3 (ipykernel)",
   "language": "python",
   "name": "python3"
  },
  "language_info": {
   "codemirror_mode": {
    "name": "ipython",
    "version": 3
   },
   "file_extension": ".py",
   "mimetype": "text/x-python",
   "name": "python",
   "nbconvert_exporter": "python",
   "pygments_lexer": "ipython3",
   "version": "3.10.14"
  }
 },
 "nbformat": 4,
 "nbformat_minor": 5
}
