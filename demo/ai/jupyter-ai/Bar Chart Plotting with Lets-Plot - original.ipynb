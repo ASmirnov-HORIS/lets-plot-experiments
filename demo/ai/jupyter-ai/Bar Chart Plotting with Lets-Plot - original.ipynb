{
 "cells": [
  {
   "cell_type": "markdown",
   "id": "8cb0751f",
   "metadata": {},
   "source": [
    "# Bar Chart Plotting with Lets-Plot"
   ]
  },
  {
   "cell_type": "markdown",
   "id": "6edb84b9",
   "metadata": {},
   "source": [
    "## Introduction"
   ]
  },
  {
   "cell_type": "markdown",
   "id": "843a266c",
   "metadata": {},
   "source": [
    "This notebook was created by [Jupyter AI](https://github.com/jupyterlab/jupyter-ai) with the following prompt:\n",
    "\n",
    "> /generate a demo notebook that shows how to plot a bar chart with Lets-Plot library."
   ]
  },
  {
   "cell_type": "markdown",
   "id": "96968d77",
   "metadata": {},
   "source": [
    "This Jupyter notebook is a demo that showcases how to plot a bar chart using the Lets-Plot library. The notebook consists of four sections: importing the necessary libraries, loading the dataset for plotting, preparing the data for the bar chart, and creating the actual bar chart using the Lets-Plot library. This notebook serves as a guide for anyone interested in learning how to create bar charts with Lets-Plot."
   ]
  },
  {
   "cell_type": "markdown",
   "id": "d67bf9d7",
   "metadata": {},
   "source": [
    "## Loading the dataset"
   ]
  },
  {
   "cell_type": "code",
   "execution_count": null,
   "id": "469a2e91",
   "metadata": {},
   "outputs": [],
   "source": [
    "import pandas as pd"
   ]
  },
  {
   "cell_type": "code",
   "execution_count": null,
   "id": "b273d019",
   "metadata": {},
   "outputs": [],
   "source": [
    "df = pd.read_csv('dataset.csv')"
   ]
  },
  {
   "cell_type": "code",
   "execution_count": null,
   "id": "48db4708",
   "metadata": {},
   "outputs": [],
   "source": [
    "return df"
   ]
  },
  {
   "cell_type": "markdown",
   "id": "afd16110",
   "metadata": {},
   "source": [
    "## Preparing the data"
   ]
  },
  {
   "cell_type": "code",
   "execution_count": null,
   "id": "494e918a",
   "metadata": {},
   "outputs": [],
   "source": [
    "import pandas as pd\n",
    "data = {'City': ['New York', 'Los Angeles', 'Chicago', 'Houston'], 'Population': [8537673, 3979576, 2693976, 2320268]}\n",
    "df = pd.DataFrame(data)\n",
    "df"
   ]
  },
  {
   "cell_type": "markdown",
   "id": "2d24d505",
   "metadata": {},
   "source": [
    "## Creating the bar chart"
   ]
  },
  {
   "cell_type": "code",
   "execution_count": null,
   "id": "8fb07b07",
   "metadata": {},
   "outputs": [],
   "source": [
    "import pandas as pd\n",
    "from lets_plot import *"
   ]
  },
  {
   "cell_type": "code",
   "execution_count": null,
   "id": "b4c7eb62",
   "metadata": {},
   "outputs": [],
   "source": [
    "LetsPlot.setup_html()"
   ]
  },
  {
   "cell_type": "code",
   "execution_count": null,
   "id": "deaf730f",
   "metadata": {},
   "outputs": [],
   "source": [
    "data = {'Country': ['USA', 'Canada', 'UK', 'Germany', 'France'],\n",
    "        'Population': [328, 37, 66, 83, 67]}\n",
    "df = pd.DataFrame(data)"
   ]
  },
  {
   "cell_type": "code",
   "execution_count": null,
   "id": "2dd4f885",
   "metadata": {},
   "outputs": [],
   "source": [
    "p = ggplot(df, aes(x='Country', y='Population')) + geom_bar(stat='identity')\n",
    "p + ggtitle(\"Population by Country\") + xlab(\"Country\") + ylab(\"Population\")"
   ]
  }
 ],
 "metadata": {},
 "nbformat": 4,
 "nbformat_minor": 5
}
