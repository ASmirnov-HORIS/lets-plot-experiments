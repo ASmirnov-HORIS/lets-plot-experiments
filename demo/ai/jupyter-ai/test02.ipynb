{
 "cells": [
  {
   "cell_type": "code",
   "execution_count": 1,
   "id": "a74eb517-7112-4f9a-b15b-520e7937c641",
   "metadata": {},
   "outputs": [],
   "source": [
    "%load_ext jupyter_ai_magics"
   ]
  },
  {
   "cell_type": "code",
   "execution_count": 2,
   "id": "cf58a7b2-eadc-4557-97c3-81cef2e09702",
   "metadata": {},
   "outputs": [
    {
     "name": "stdout",
     "output_type": "stream",
     "text": [
      "Usage: %%ai [OPTIONS] MODEL_ID\n",
      "\n",
      "  Invokes a language model identified by MODEL_ID, with the prompt being\n",
      "  contained in all lines after the first. Both local model IDs and global\n",
      "  model IDs (with the provider ID explicitly prefixed, followed by a colon)\n",
      "  are accepted.\n",
      "\n",
      "  To view available language models, please run `%ai list`.\n",
      "\n",
      "Options:\n",
      "  -f, --format [code|html|image|json|markdown|math|md|text]\n",
      "                                  IPython display to use when rendering\n",
      "                                  output. [default=\"markdown\"]\n",
      "  -r, --reset                     Clears the conversation transcript used when\n",
      "                                  interacting with an OpenAI chat model\n",
      "                                  provider. Does nothing with other providers.\n",
      "  -n, --region-name TEXT          AWS region name, e.g. 'us-east-1'. Required\n",
      "                                  for SageMaker provider; does nothing with\n",
      "                                  other providers.\n",
      "  -q, --request-schema TEXT       The JSON object the endpoint expects, with\n",
      "                                  the prompt being substituted into any value\n",
      "                                  that matches the string literal '<prompt>'.\n",
      "                                  Required for SageMaker provider; does\n",
      "                                  nothing with other providers.\n",
      "  -p, --response-path TEXT        A JSONPath string that retrieves the\n",
      "                                  language model's output from the endpoint's\n",
      "                                  JSON response. Required for SageMaker\n",
      "                                  provider; does nothing with other providers.\n",
      "  --help                          Show this message and exit.\n",
      "------------------------------------------------------------------------------\n",
      "Usage: %ai [OPTIONS] COMMAND [ARGS]...\n",
      "\n",
      "  Invokes a subcommand.\n",
      "\n",
      "Options:\n",
      "  --help  Show this message and exit.\n",
      "\n",
      "Commands:\n",
      "  delete    Delete an alias. See `%ai delete --help` for options.\n",
      "  error     Explains the most recent error.\n",
      "  help      Show this message and exit.\n",
      "  list      List language models. See `%ai list --help` for options.\n",
      "  register  Register a new alias. See `%ai register --help` for options.\n",
      "  update    Update the target of an alias. See `%ai update --help` for\n",
      "            options.\n",
      "\n"
     ]
    }
   ],
   "source": [
    "%ai help"
   ]
  },
  {
   "cell_type": "code",
   "execution_count": 9,
   "id": "0397df87-172a-44be-9a8f-c31cadb40735",
   "metadata": {},
   "outputs": [],
   "source": [
    "n = 10"
   ]
  },
  {
   "cell_type": "code",
   "execution_count": 10,
   "id": "e522b411-bd5f-4d67-9db4-9b03844fc108",
   "metadata": {
    "scrolled": true
   },
   "outputs": [
    {
     "data": {
      "text/markdown": [
       "```python\n",
       "def is_prime(num):\n",
       "    if num <= 1:\n",
       "        return False\n",
       "    for i in range(2, int(num ** 0.5) + 1):\n",
       "        if num % i == 0:\n",
       "            return False\n",
       "    return True\n",
       "\n",
       "prime_numbers = []\n",
       "count = 0\n",
       "num = 2\n",
       "\n",
       "while count < 10:\n",
       "    if is_prime(num):\n",
       "        prime_numbers.append(num)\n",
       "        count += 1\n",
       "    num += 1\n",
       "\n",
       "for prime in prime_numbers:\n",
       "    print(prime)\n",
       "```\n",
       "\n",
       "Output:\n",
       "```\n",
       "2\n",
       "3\n",
       "5\n",
       "7\n",
       "11\n",
       "13\n",
       "17\n",
       "19\n",
       "23\n",
       "29\n",
       "```"
      ],
      "text/plain": [
       "<IPython.core.display.Markdown object>"
      ]
     },
     "execution_count": 10,
     "metadata": {
      "text/markdown": {
       "jupyter_ai": {
        "model_id": "gpt-3.5-turbo",
        "provider_id": "openai-chat"
       }
      }
     },
     "output_type": "execute_result"
    }
   ],
   "source": [
    "%%ai chatgpt\n",
    "Write a code on Python for listing the first {n} prime numbers."
   ]
  },
  {
   "cell_type": "code",
   "execution_count": 4,
   "id": "f3b93b05-c654-4d2a-bb73-ab4a451bc758",
   "metadata": {},
   "outputs": [
    {
     "name": "stdout",
     "output_type": "stream",
     "text": [
      "First 10 prime numbers:\n",
      "- 2\n",
      "- 3\n",
      "- 5\n",
      "- 7\n",
      "- 11\n",
      "- 13\n",
      "- 17\n",
      "- 19\n",
      "- 23\n",
      "- 29\n"
     ]
    }
   ],
   "source": [
    "def is_prime(n):\n",
    "    if n == 2:\n",
    "        return True\n",
    "    if n < 2 or n % 2 == 0:\n",
    "        return False\n",
    "    for i in range(3, int(n ** 0.5) + 1, 2):\n",
    "        if n % i == 0:\n",
    "            return False\n",
    "    return True\n",
    "\n",
    "count = 0\n",
    "num = 2\n",
    "primes = []\n",
    "\n",
    "while count < 10:\n",
    "    if is_prime(num):\n",
    "        primes.append(num)\n",
    "        count += 1\n",
    "    num += 1\n",
    "\n",
    "print(\"First 10 prime numbers:\")\n",
    "for prime in primes:\n",
    "    print(f\"- {prime}\")"
   ]
  },
  {
   "cell_type": "code",
   "execution_count": 5,
   "id": "ee920aa3-319f-473d-8f03-cd1933fa4ab0",
   "metadata": {},
   "outputs": [
    {
     "data": {
      "text/html": [
       "```html\n",
       "<svg xmlns=\"http://www.w3.org/2000/svg\" xmlns:xlink=\"http://www.w3.org/1999/xlink\" width=\"200\" height=\"300\" viewBox=\"0 0 200 300\">\n",
       "    <!-- Snowman Body -->\n",
       "    <circle cx=\"100\" cy=\"200\" r=\"50\" fill=\"white\" />\n",
       "    <circle cx=\"100\" cy=\"125\" r=\"40\" fill=\"white\" />\n",
       "    <circle cx=\"100\" cy=\"75\" r=\"30\" fill=\"white\" />\n",
       "    \n",
       "    <!-- Snowman Eyes -->\n",
       "    <circle cx=\"90\" cy=\"70\" r=\"3\" fill=\"black\" />\n",
       "    <circle cx=\"110\" cy=\"70\" r=\"3\" fill=\"black\" />\n",
       "    \n",
       "    <!-- Snowman Nose -->\n",
       "    <polygon points=\"100,80 108,95 92,95\" fill=\"orange\" />\n",
       "    \n",
       "    <!-- Snowman Buttons -->\n",
       "    <circle cx=\"100\" cy=\"150\" r=\"4\" fill=\"black\" />\n",
       "    <circle cx=\"100\" cy=\"180\" r=\"4\" fill=\"black\" />\n",
       "    <circle cx=\"100\" cy=\"210\" r=\"4\" fill=\"black\" />\n",
       "    \n",
       "    <!-- Snowman Arms -->\n",
       "    <line x1=\"70\" y1=\"125\" x2=\"30\" y2=\"105\" stroke=\"black\" stroke-width=\"2\" />\n",
       "    <line x1=\"130\" y1=\"125\" x2=\"170\" y2=\"105\" stroke=\"black\" stroke-width=\"2\" />\n",
       "    \n",
       "    <!-- Snowman Hat -->\n",
       "    <rect x=\"70\" y=\"20\" width=\"60\" height=\"45\" fill=\"black\" />\n",
       "    <rect x=\"60\" y=\"45\" width=\"80\" height=\"10\" fill=\"black\" />\n",
       "    \n",
       "    <!-- Snowman Scarf -->\n",
       "    <rect x=\"65\" y=\"125\" width=\"70\" height=\"20\" fill=\"red\" />\n",
       "    <rect x=\"65\" y=\"145\" width=\"70\" height=\"10\" fill=\"green\" />\n",
       "    \n",
       "    <!-- Snowman Ground -->\n",
       "    <rect x=\"0\" y=\"250\" width=\"200\" height=\"50\" fill=\"white\" />\n",
       "</svg>\n",
       "```\n",
       "\n",
       "Output (When rendered):  \n",
       "![Snowman](data:image/svg+xml;utf8,<svg xmlns=\"http://www.w3.org/2000/svg\" xmlns:xlink=\"http://www.w3.org/1999/xlink\" width=\"200\" height=\"300\" viewBox=\"0 0 200 300\"><circle cx=\"100\" cy=\"200\" r=\"50\" fill=\"white\" /><circle cx=\"100\" cy=\"125\" r=\"40\" fill=\"white\" /><circle cx=\"100\" cy=\"75\" r=\"30\" fill=\"white\" /><circle cx=\"90\" cy=\"70\" r=\"3\" fill=\"black\" /><circle cx=\"110\" cy=\"70\" r=\"3\" fill=\"black\" /><polygon points=\"100,80 108,95 92,95\" fill=\"orange\" /><circle cx=\"100\" cy=\"150\" r=\"4\" fill=\"black\" /><circle cx=\"100\" cy=\"180\" r=\"4\" fill=\"black\" /><circle cx=\"100\" cy=\"210\" r=\"4\" fill=\"black\" /><line x1=\"70\" y1=\"125\" x2=\"30\" y2=\"105\" stroke=\"black\" stroke-width=\"2\" /><line x1=\"130\" y1=\"125\" x2=\"170\" y2=\"105\" stroke=\"black\" stroke-width=\"2\" /><rect x=\"70\" y=\"20\" width=\"60\" height=\"45\" fill=\"black\" /><rect x=\"60\" y=\"45\" width=\"80\" height=\"10\" fill=\"black\" /><rect x=\"65\" y=\"125\" width=\"70\" height=\"20\" fill=\"red\" /><rect x=\"65\" y=\"145\" width=\"70\" height=\"10\" fill=\"green\" /><rect x=\"0\" y=\"250\" width=\"200\" height=\"50\" fill=\"white\" /></svg>)"
      ],
      "text/plain": [
       "<IPython.core.display.HTML object>"
      ]
     },
     "execution_count": 5,
     "metadata": {
      "text/html": {
       "jupyter_ai": {
        "model_id": "gpt-3.5-turbo",
        "provider_id": "openai-chat"
       }
      }
     },
     "output_type": "execute_result"
    }
   ],
   "source": [
    "%%ai chatgpt -f html\n",
    "Draw a snowman using SVG."
   ]
  },
  {
   "cell_type": "code",
   "execution_count": 6,
   "id": "522c5502-1646-4dde-9ca1-fba14dc30bd6",
   "metadata": {},
   "outputs": [
    {
     "data": {
      "text/latex": [
       "$\\displaystyle \n",
       "z = x^2 - y^2\n",
       "$"
      ],
      "text/plain": [
       "<IPython.core.display.Math object>"
      ]
     },
     "execution_count": 6,
     "metadata": {
      "text/latex": {
       "jupyter_ai": {
        "model_id": "gpt-3.5-turbo",
        "provider_id": "openai-chat"
       }
      }
     },
     "output_type": "execute_result"
    }
   ],
   "source": [
    "%%ai chatgpt -f math\n",
    "Print an equation of a saddle."
   ]
  }
 ],
 "metadata": {
  "kernelspec": {
   "display_name": "Python 3 (ipykernel)",
   "language": "python",
   "name": "python3"
  },
  "language_info": {
   "codemirror_mode": {
    "name": "ipython",
    "version": 3
   },
   "file_extension": ".py",
   "mimetype": "text/x-python",
   "name": "python",
   "nbconvert_exporter": "python",
   "pygments_lexer": "ipython3",
   "version": "3.8.17"
  }
 },
 "nbformat": 4,
 "nbformat_minor": 5
}
