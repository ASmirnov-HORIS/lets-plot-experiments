{
 "cells": [
  {
   "cell_type": "markdown",
   "metadata": {},
   "source": [
    "# Spatial prediction of soil pollutants with multi-output Gaussian processes\n",
    "\n",
    "<h2 class=\"pm-node nj-subtitle\">A tutorial with <em>PyMC</em></h2>\n",
    "\n",
    "[](https://nextjournal.com/data/?node-id=8371e367-647e-4b6b-add0-84d5d74f01a6&node-kind=file)\n",
    "\n",
    "*Purple sunset, photo of the Meuse river by [Ilirjan Rrumbullaku](https://www.flickr.com/photos/125701341@N07/17007903751/in/photolist-rUVXeR-2mDm2ve-2mCViwV-2mD7Ft6-2mCZC8o-2mmkekw-r6XLHT-2jVTiLX-DumJH8-4vjFYu-SpDSBm-4vfCYD-2eMX17g-gvFG4Q-F1wuSp-nSdjG8-GrgTj6-QTtVNQ-zN7VjX-bR7V2z-2mBsjRu-ewMGd-GwTBDm-5WcGgQ-4vfDhM-YQpN4q-DrYQ3n-muTtNi-2kLrrQi-29diro-Wxukw-SRrbcx-2mmkeFw-2mo1gx9-2mD4ndH-2mo5a7u-2iVkfXk-2mmp7ex-2mD3W8P-2mmhWhZ-2mBwG8U-2mmrDum-2mmmMf1-Bvi2LB-2mD9HbR-4wmpZU-2dbRjY5-2mmhYeK-Ei7Z7B-2iVmQBJ)*\n",
    "\n",
    "The [Meuse river](https://www.openstreetmap.org/#map=12/50.9619/5.7327) flows through Germany, the Netherlands, Belgium, and France. Several industries have settled on its banks, so that its bed, as well as the soils of its banks, are polluted by metals. A particular area north of Maastricht, the Netherlands, is often used as a case study for geostatistics.\n",
    "\n",
    "**Knowledge requirements**. Intermediate levels in Python programming and data science. Beginner levels in positionning, Gausian processes and *PyMC*. To reach such level in *PyMC* and Gaussian processes, I suggest [this lecture](https://www.youtube.com/watch?v=j7Ruu3Yu-70) from Chris Fonnesbeck. For positionning, you will get the very basic concepts on [this Vox 6 minute video](https://www.youtube.com/watch?v=kIID5FDi2JQ).\n",
    "\n",
    "**Specific objectives**. At the end of this tutorial, you will be able to\n",
    "\n",
    "1. show geographic data on a map background,\n",
    "2. perform spatial queries,\n",
    "3. model spatial attributes with Gaussian processes,\n",
    "4. project spatial attributes on a background map.\n",
    "\n",
    "**Tools**. We will use Python as programming language with, as packages, *Numpy* (generic mathematical operations), *Pandas* (to handle tabular data), *GeoPandas* (to create spatial data types in tabular data, and perform spatial queries on them), *Lets-Plot* (for interactive plots) and *PyMC* (to build our Gaussian process model).\n",
    "\n",
    "# Multi-output Gaussian processes\n",
    "\n",
    "You might need a multi-output prediction when you suppose that the outputs are related to each other (i.e. correlated). Such cases are common is spatial predictions. Without committed ourselves on causality, we can often assume that things at the same location might have occurred together. In this case, soil pollutants may occur together due to sediment deposits from the flow of the river, during floods, ponctual spills, etc. Of course, we could use a collection of individual models, but when outputs are correlated, they inform each other.\n",
    "\n",
    "In the upper knowledge requirements, I specified that you need a beginner level in Gaussian processes. Gaussian processes are congnitively intensive, but mathematically powerful. They are also, in my view, poetic. Basically, a Gaussian process  ($\\mathcal{GP}$) is a multivariate-normal distribution with infinite dimensions, relying on continuous functions to define the mean vector and the covariance matrix. We can set the mean to zero when data are centered to 0. Covariance functions are named *kernels* , and many different kernels are distributed by *PyMC*. In single output Gaussian processes, we contruct a kernel on the inputs.\n",
    "\n",
    "$$\n",
    "y_i = f(x_i) + \\epsilon_i\n",
    "$$\n",
    "$$\n",
    "f(x_i) \\sim \\mathcal{GP}(0, k(x_i, x^\\prime))\n",
    "$$\n",
    "In other words, we estimate $y$ as a function of $x$, and this function is a Gaussian process (infinite multivariate normal) with 0 mean and a covariance defined by a function between a pair of observations $x$ and $x \\prime$.\n",
    "\n",
    "In multi-output Gaussian processes, we add another kernel on the outputs. In *PyMC* (and *GPflow*), this approach is included with a strategy called *coregionalization* (formally, [intrinsic model of coregionalization](https://gpflow.readthedocs.io/en/master/notebooks/advanced/coregionalisation.html)). Hence, a pair of $\\mathcal{GP}$ functions $f(x_i)$ and $f(x_j)$ will have a covariance equal to our kernel times a $B$ modifier matrix.\n",
    "\n",
    "$$\n",
    "cov \\left( f_i(x), f_j(x \\prime) \\right) = k(x, x \\prime) \\cdot B\n",
    "$$\n",
    "Just like our kernel, this $B$ matrix must be positive-definite. It is convenient to define $B$ by two objects, $W$ and $\\kappa$.\n",
    "\n",
    "$$\n",
    "B = WW^T + diag(\\kappa)\n",
    "$$\n",
    "*PyMC* assembles the multioutput kernel for you, as long as you provide a kernel for the features, as well as $W$ and $\\kappa$.\n",
    "\n",
    "# Prepare the notebook\n",
    "\n",
    "Nextjournal comes with Python and package installers *pip* and *conda*. We need to install *GeoPandas*, *Lets-plot* and *PyMC* - other packages are already install in Nextjournal's default Python environment. Because Lets-plot is not available in *conda*, for simplicity we install everything with *pip* in a Bash cell. *PyMC* is on the edge between *PyMC3* and *PyMC* version 4. I will update the notebook once *PyMC* version 4 becomes stable enough."
   ]
  },
  {
   "cell_type": "code",
   "execution_count": 1,
   "metadata": {
    "nextjournal": {
     "id": "ac875c7c-ed1b-4cd6-9278-62703fdf143c",
     "kind": "code",
     "language": "bash"
    }
   },
   "outputs": [
    {
     "name": "stdout",
     "output_type": "stream",
     "text": [
      "Requirement already satisfied: geopandas in d:\\anaconda3\\envs\\lets-plot-experiments\\lib\\site-packages (0.10.2)\r\n",
      "Requirement already satisfied: pymc3 in d:\\anaconda3\\envs\\lets-plot-experiments\\lib\\site-packages (3.11.5)\r\n",
      "Requirement already satisfied: lets-plot in d:\\anaconda3\\envs\\lets-plot-experiments\\lib\\site-packages (2.3.0)\r\n",
      "Requirement already satisfied: pandas>=0.25.0 in d:\\anaconda3\\envs\\lets-plot-experiments\\lib\\site-packages (from geopandas) (1.3.5)\r\n",
      "Requirement already satisfied: pyproj>=2.2.0 in d:\\anaconda3\\envs\\lets-plot-experiments\\lib\\site-packages (from geopandas) (3.2.1)\r\n",
      "Requirement already satisfied: shapely>=1.6 in d:\\anaconda3\\envs\\lets-plot-experiments\\lib\\site-packages (from geopandas) (1.8.0)\r\n",
      "Requirement already satisfied: fiona>=1.8 in d:\\anaconda3\\envs\\lets-plot-experiments\\lib\\site-packages (from geopandas) (1.8.20)\r\n",
      "Requirement already satisfied: cachetools>=4.2.1 in d:\\anaconda3\\envs\\lets-plot-experiments\\lib\\site-packages (from pymc3) (5.0.0)\r\n",
      "Requirement already satisfied: deprecat in d:\\anaconda3\\envs\\lets-plot-experiments\\lib\\site-packages (from pymc3) (2.1.1)\r\n",
      "Requirement already satisfied: theano-pymc==1.1.2 in d:\\anaconda3\\envs\\lets-plot-experiments\\lib\\site-packages (from pymc3) (1.1.2)\r\n",
      "Requirement already satisfied: fastprogress>=0.2.0 in d:\\anaconda3\\envs\\lets-plot-experiments\\lib\\site-packages (from pymc3) (1.0.2)\r\n",
      "Requirement already satisfied: dill in d:\\anaconda3\\envs\\lets-plot-experiments\\lib\\site-packages (from pymc3) (0.3.4)\r\n",
      "Requirement already satisfied: arviz>=0.11.0 in d:\\anaconda3\\envs\\lets-plot-experiments\\lib\\site-packages (from pymc3) (0.11.4)\r\n",
      "Requirement already satisfied: numpy<1.22.2,>=1.15.0 in d:\\anaconda3\\envs\\lets-plot-experiments\\lib\\site-packages (from pymc3) (1.21.5)\r\n",
      "Requirement already satisfied: semver>=2.13.0 in d:\\anaconda3\\envs\\lets-plot-experiments\\lib\\site-packages (from pymc3) (2.13.0)\r\n",
      "Requirement already satisfied: scipy<1.8.0,>=1.7.3 in d:\\anaconda3\\envs\\lets-plot-experiments\\lib\\site-packages (from pymc3) (1.7.3)\r\n",
      "Requirement already satisfied: patsy>=0.5.1 in d:\\anaconda3\\envs\\lets-plot-experiments\\lib\\site-packages (from pymc3) (0.5.2)\r\n",
      "Requirement already satisfied: typing-extensions>=3.7.4 in d:\\anaconda3\\envs\\lets-plot-experiments\\lib\\site-packages (from pymc3) (3.10.0.2)\r\n",
      "Requirement already satisfied: filelock in d:\\anaconda3\\envs\\lets-plot-experiments\\lib\\site-packages (from theano-pymc==1.1.2->pymc3) (3.6.0)\r\n",
      "Requirement already satisfied: pypng in d:\\anaconda3\\envs\\lets-plot-experiments\\lib\\site-packages (from lets-plot) (0.0.21)\r\n",
      "Requirement already satisfied: packaging in d:\\anaconda3\\envs\\lets-plot-experiments\\lib\\site-packages (from arviz>=0.11.0->pymc3) (21.0)\r\n",
      "Requirement already satisfied: matplotlib>=3.0 in d:\\anaconda3\\envs\\lets-plot-experiments\\lib\\site-packages (from arviz>=0.11.0->pymc3) (3.4.3)\r\n",
      "Requirement already satisfied: netcdf4 in d:\\anaconda3\\envs\\lets-plot-experiments\\lib\\site-packages (from arviz>=0.11.0->pymc3) (1.5.8)\r\n",
      "Requirement already satisfied: setuptools>=38.4 in d:\\anaconda3\\envs\\lets-plot-experiments\\lib\\site-packages (from arviz>=0.11.0->pymc3) (58.2.0)\r\n",
      "Requirement already satisfied: xarray>=0.16.1 in d:\\anaconda3\\envs\\lets-plot-experiments\\lib\\site-packages (from arviz>=0.11.0->pymc3) (0.20.2)\r\n",
      "Requirement already satisfied: attrs>=17 in d:\\anaconda3\\envs\\lets-plot-experiments\\lib\\site-packages (from fiona>=1.8->geopandas) (21.2.0)\r\n",
      "Requirement already satisfied: certifi in d:\\anaconda3\\envs\\lets-plot-experiments\\lib\\site-packages (from fiona>=1.8->geopandas) (2021.10.8)\r\n",
      "Requirement already satisfied: click>=4.0 in d:\\anaconda3\\envs\\lets-plot-experiments\\lib\\site-packages (from fiona>=1.8->geopandas) (8.0.3)\r\n",
      "Requirement already satisfied: cligj>=0.5 in d:\\anaconda3\\envs\\lets-plot-experiments\\lib\\site-packages (from fiona>=1.8->geopandas) (0.7.2)\r\n",
      "Requirement already satisfied: click-plugins>=1.0 in d:\\anaconda3\\envs\\lets-plot-experiments\\lib\\site-packages (from fiona>=1.8->geopandas) (1.1.1)\r\n",
      "Requirement already satisfied: six>=1.7 in d:\\anaconda3\\envs\\lets-plot-experiments\\lib\\site-packages (from fiona>=1.8->geopandas) (1.16.0)\r\n",
      "Requirement already satisfied: munch in d:\\anaconda3\\envs\\lets-plot-experiments\\lib\\site-packages (from fiona>=1.8->geopandas) (2.5.0)\r\n",
      "Requirement already satisfied: python-dateutil>=2.7.3 in d:\\anaconda3\\envs\\lets-plot-experiments\\lib\\site-packages (from pandas>=0.25.0->geopandas) (2.8.2)\r\n",
      "Requirement already satisfied: pytz>=2017.3 in d:\\anaconda3\\envs\\lets-plot-experiments\\lib\\site-packages (from pandas>=0.25.0->geopandas) (2021.3)\r\n",
      "Requirement already satisfied: wrapt<2,>=1.10 in d:\\anaconda3\\envs\\lets-plot-experiments\\lib\\site-packages (from deprecat->pymc3) (1.14.0)\r\n",
      "Requirement already satisfied: importlib-metadata in d:\\anaconda3\\envs\\lets-plot-experiments\\lib\\site-packages (from click>=4.0->fiona>=1.8->geopandas) (4.8.1)\r\n",
      "Requirement already satisfied: colorama in d:\\anaconda3\\envs\\lets-plot-experiments\\lib\\site-packages (from click>=4.0->fiona>=1.8->geopandas) (0.4.4)\r\n",
      "Requirement already satisfied: cycler>=0.10 in d:\\anaconda3\\envs\\lets-plot-experiments\\lib\\site-packages (from matplotlib>=3.0->arviz>=0.11.0->pymc3) (0.10.0)\r\n",
      "Requirement already satisfied: pillow>=6.2.0 in d:\\anaconda3\\envs\\lets-plot-experiments\\lib\\site-packages (from matplotlib>=3.0->arviz>=0.11.0->pymc3) (8.3.2)\r\n",
      "Requirement already satisfied: pyparsing>=2.2.1 in d:\\anaconda3\\envs\\lets-plot-experiments\\lib\\site-packages (from matplotlib>=3.0->arviz>=0.11.0->pymc3) (3.0.3)\r\n",
      "Requirement already satisfied: kiwisolver>=1.0.1 in d:\\anaconda3\\envs\\lets-plot-experiments\\lib\\site-packages (from matplotlib>=3.0->arviz>=0.11.0->pymc3) (1.3.2)\r\n",
      "Requirement already satisfied: cftime in d:\\anaconda3\\envs\\lets-plot-experiments\\lib\\site-packages (from netcdf4->arviz>=0.11.0->pymc3) (1.6.0)\r\n",
      "Requirement already satisfied: zipp>=0.5 in d:\\anaconda3\\envs\\lets-plot-experiments\\lib\\site-packages (from importlib-metadata->click>=4.0->fiona>=1.8->geopandas) (3.6.0)\r\n"
     ]
    },
    {
     "name": "stderr",
     "output_type": "stream",
     "text": [
      "WARNING: Ignoring invalid distribution -ets-plot (d:\\anaconda3\\envs\\lets-plot-experiments\\lib\\site-packages)\r\n",
      "WARNING: Ignoring invalid distribution -ets-plot (d:\\anaconda3\\envs\\lets-plot-experiments\\lib\\site-packages)\r\n",
      "WARNING: Ignoring invalid distribution -ets-plot (d:\\anaconda3\\envs\\lets-plot-experiments\\lib\\site-packages)\r\n",
      "WARNING: Ignoring invalid distribution -ets-plot (d:\\anaconda3\\envs\\lets-plot-experiments\\lib\\site-packages)\r\n",
      "WARNING: Ignoring invalid distribution -ets-plot (d:\\anaconda3\\envs\\lets-plot-experiments\\lib\\site-packages)\r\n"
     ]
    }
   ],
   "source": [
    "%%sh\n",
    "pip install geopandas pymc3 lets-plot"
   ]
  },
  {
   "cell_type": "markdown",
   "metadata": {},
   "source": [
    "The data from the Meuse river are distrubuted as shape files on the [website companion of the book ](http://spatial-analyst.net/book/meusegrids)*[A Practical Guide to Geostatistical Mapping](http://spatial-analyst.net/book/meusegrids)*, by Tomislav Hengl. I unzipped the file, opened it in [QGIS](https://www.qgis.org), then exported the data as a csv file.\n",
    "\n",
    "[meuse.csv](https://nextjournal.com/data/QmZxY8abmYTJPbi9N47tmUPNYHcG88ggcisejTsFpRcaFT?content-type=text/csv&node-id=8bcf5ea5-7d49-4827-b8ef-98f0e63b5057&filename=meuse.csv&node-kind=file)\n",
    "\n",
    "# Import packages and data\n",
    "\n",
    "Packages are installed, but still not loaded in our Python session."
   ]
  },
  {
   "cell_type": "code",
   "execution_count": 2,
   "metadata": {
    "nextjournal": {
     "id": "ed1202e4-f603-4c31-b620-278f96962b2d",
     "kind": "code",
     "language": "python"
    }
   },
   "outputs": [
    {
     "name": "stderr",
     "output_type": "stream",
     "text": [
      "WARNING (theano.link.c.cmodule): install mkl with `conda install mkl-service`: No module named 'mkl'\n",
      "WARNING (theano.tensor.blas): Using NumPy C-API based implementation for BLAS functions.\n"
     ]
    }
   ],
   "source": [
    "# Generic math\n",
    "import numpy as np\n",
    "\n",
    "# Tableaux\n",
    "import pandas as pd # tabular data\n",
    "import geopandas as gpd # spatial data\n",
    "\n",
    "# Graphiques\n",
    "import lets_plot as lp # interactive grammar of graphics\n",
    "from lets_plot import tilesets # to define the map tiles\n",
    "lp.LetsPlot.setup_html(isolated_frame=True) # so that lets-plot works in Nextjournal\n",
    "\n",
    "# Modelling\n",
    "import pymc3 as pm # bayesian modelling, including Gaussian processes\n",
    "\n",
    "np.random.seed(629545) # random.org"
   ]
  },
  {
   "cell_type": "markdown",
   "metadata": {},
   "source": [
    "Similarly, data are loaded in Nextjournal, but not to our Python session."
   ]
  },
  {
   "cell_type": "code",
   "execution_count": 3,
   "metadata": {
    "nextjournal": {
     "id": "fd452b48-6a98-4f32-bf35-f06babd2e81c",
     "kind": "code",
     "language": "python"
    }
   },
   "outputs": [
    {
     "data": {
      "text/html": [
       "<div>\n",
       "<style scoped>\n",
       "    .dataframe tbody tr th:only-of-type {\n",
       "        vertical-align: middle;\n",
       "    }\n",
       "\n",
       "    .dataframe tbody tr th {\n",
       "        vertical-align: top;\n",
       "    }\n",
       "\n",
       "    .dataframe thead th {\n",
       "        text-align: right;\n",
       "    }\n",
       "</style>\n",
       "<table border=\"1\" class=\"dataframe\">\n",
       "  <thead>\n",
       "    <tr style=\"text-align: right;\">\n",
       "      <th></th>\n",
       "      <th>x</th>\n",
       "      <th>y</th>\n",
       "      <th>cadmium</th>\n",
       "      <th>copper</th>\n",
       "      <th>lead</th>\n",
       "      <th>zinc</th>\n",
       "      <th>elev</th>\n",
       "      <th>dist</th>\n",
       "      <th>om</th>\n",
       "      <th>ffreq</th>\n",
       "      <th>soil</th>\n",
       "      <th>lime</th>\n",
       "      <th>landuse</th>\n",
       "      <th>dist.m</th>\n",
       "    </tr>\n",
       "  </thead>\n",
       "  <tbody>\n",
       "    <tr>\n",
       "      <th>0</th>\n",
       "      <td>181072</td>\n",
       "      <td>333611</td>\n",
       "      <td>11.7</td>\n",
       "      <td>85</td>\n",
       "      <td>299</td>\n",
       "      <td>1022</td>\n",
       "      <td>7.909</td>\n",
       "      <td>0.001358</td>\n",
       "      <td>13.6</td>\n",
       "      <td>1</td>\n",
       "      <td>1</td>\n",
       "      <td>1</td>\n",
       "      <td>Ah</td>\n",
       "      <td>50</td>\n",
       "    </tr>\n",
       "    <tr>\n",
       "      <th>1</th>\n",
       "      <td>181025</td>\n",
       "      <td>333558</td>\n",
       "      <td>8.6</td>\n",
       "      <td>81</td>\n",
       "      <td>277</td>\n",
       "      <td>1141</td>\n",
       "      <td>6.983</td>\n",
       "      <td>0.012224</td>\n",
       "      <td>14.0</td>\n",
       "      <td>1</td>\n",
       "      <td>1</td>\n",
       "      <td>1</td>\n",
       "      <td>Ah</td>\n",
       "      <td>30</td>\n",
       "    </tr>\n",
       "    <tr>\n",
       "      <th>2</th>\n",
       "      <td>181165</td>\n",
       "      <td>333537</td>\n",
       "      <td>6.5</td>\n",
       "      <td>68</td>\n",
       "      <td>199</td>\n",
       "      <td>640</td>\n",
       "      <td>7.800</td>\n",
       "      <td>0.103029</td>\n",
       "      <td>13.0</td>\n",
       "      <td>1</td>\n",
       "      <td>1</td>\n",
       "      <td>1</td>\n",
       "      <td>Ah</td>\n",
       "      <td>150</td>\n",
       "    </tr>\n",
       "    <tr>\n",
       "      <th>3</th>\n",
       "      <td>181298</td>\n",
       "      <td>333484</td>\n",
       "      <td>2.6</td>\n",
       "      <td>81</td>\n",
       "      <td>116</td>\n",
       "      <td>257</td>\n",
       "      <td>7.655</td>\n",
       "      <td>0.190094</td>\n",
       "      <td>8.0</td>\n",
       "      <td>1</td>\n",
       "      <td>2</td>\n",
       "      <td>0</td>\n",
       "      <td>Ga</td>\n",
       "      <td>270</td>\n",
       "    </tr>\n",
       "    <tr>\n",
       "      <th>4</th>\n",
       "      <td>181307</td>\n",
       "      <td>333330</td>\n",
       "      <td>2.8</td>\n",
       "      <td>48</td>\n",
       "      <td>117</td>\n",
       "      <td>269</td>\n",
       "      <td>7.480</td>\n",
       "      <td>0.277090</td>\n",
       "      <td>8.7</td>\n",
       "      <td>1</td>\n",
       "      <td>2</td>\n",
       "      <td>0</td>\n",
       "      <td>Ah</td>\n",
       "      <td>380</td>\n",
       "    </tr>\n",
       "  </tbody>\n",
       "</table>\n",
       "</div>"
      ],
      "text/plain": [
       "        x       y  cadmium  copper  lead  zinc   elev      dist    om  ffreq  \\\n",
       "0  181072  333611     11.7      85   299  1022  7.909  0.001358  13.6      1   \n",
       "1  181025  333558      8.6      81   277  1141  6.983  0.012224  14.0      1   \n",
       "2  181165  333537      6.5      68   199   640  7.800  0.103029  13.0      1   \n",
       "3  181298  333484      2.6      81   116   257  7.655  0.190094   8.0      1   \n",
       "4  181307  333330      2.8      48   117   269  7.480  0.277090   8.7      1   \n",
       "\n",
       "   soil  lime landuse  dist.m  \n",
       "0     1     1      Ah      50  \n",
       "1     1     1      Ah      30  \n",
       "2     1     1      Ah     150  \n",
       "3     2     0      Ga     270  \n",
       "4     2     0      Ah     380  "
      ]
     },
     "execution_count": 3,
     "metadata": {},
     "output_type": "execute_result"
    }
   ],
   "source": [
    "meuse_df = pd.read_csv(\"meuse.csv\")\n",
    "meuse_df.head()"
   ]
  },
  {
   "cell_type": "markdown",
   "metadata": {},
   "source": [
    "As written on the website distributing the Meuse data set, coordinates `x` and `y` are in the `proj4: +init=epsg:28992` coordinate system. If we only care about modelling, we wouldn't need to mind much about the coordinate system. But since we care about plotting data on a map and later perform spatial queries, I specified in *GeoPandas* that `x` and `y` are point geometries expressed in the 28992 coordinate reference system (`crs`), then transformed the geometries to longitude-latitude angular data with the universal WGS84 system, i.e. 4326 (go to [espg.io](http://espg.io) to get the numbers). Moreover, later on, we will use the distance from the river as predictor. "
   ]
  },
  {
   "cell_type": "code",
   "execution_count": 4,
   "metadata": {
    "nextjournal": {
     "id": "34b91cef-010b-4f5a-9783-2081598c404f",
     "kind": "code",
     "language": "python"
    }
   },
   "outputs": [
    {
     "data": {
      "text/html": [
       "<div>\n",
       "<style scoped>\n",
       "    .dataframe tbody tr th:only-of-type {\n",
       "        vertical-align: middle;\n",
       "    }\n",
       "\n",
       "    .dataframe tbody tr th {\n",
       "        vertical-align: top;\n",
       "    }\n",
       "\n",
       "    .dataframe thead th {\n",
       "        text-align: right;\n",
       "    }\n",
       "</style>\n",
       "<table border=\"1\" class=\"dataframe\">\n",
       "  <thead>\n",
       "    <tr style=\"text-align: right;\">\n",
       "      <th></th>\n",
       "      <th>x</th>\n",
       "      <th>y</th>\n",
       "      <th>cadmium</th>\n",
       "      <th>copper</th>\n",
       "      <th>lead</th>\n",
       "      <th>zinc</th>\n",
       "      <th>elev</th>\n",
       "      <th>dist</th>\n",
       "      <th>om</th>\n",
       "      <th>ffreq</th>\n",
       "      <th>soil</th>\n",
       "      <th>lime</th>\n",
       "      <th>landuse</th>\n",
       "      <th>dist.m</th>\n",
       "      <th>geometry</th>\n",
       "    </tr>\n",
       "  </thead>\n",
       "  <tbody>\n",
       "    <tr>\n",
       "      <th>0</th>\n",
       "      <td>181072</td>\n",
       "      <td>333611</td>\n",
       "      <td>11.7</td>\n",
       "      <td>85</td>\n",
       "      <td>299</td>\n",
       "      <td>1022</td>\n",
       "      <td>7.909</td>\n",
       "      <td>0.001358</td>\n",
       "      <td>13.6</td>\n",
       "      <td>1</td>\n",
       "      <td>1</td>\n",
       "      <td>1</td>\n",
       "      <td>Ah</td>\n",
       "      <td>50</td>\n",
       "      <td>POINT (5.75854 50.99156)</td>\n",
       "    </tr>\n",
       "    <tr>\n",
       "      <th>1</th>\n",
       "      <td>181025</td>\n",
       "      <td>333558</td>\n",
       "      <td>8.6</td>\n",
       "      <td>81</td>\n",
       "      <td>277</td>\n",
       "      <td>1141</td>\n",
       "      <td>6.983</td>\n",
       "      <td>0.012224</td>\n",
       "      <td>14.0</td>\n",
       "      <td>1</td>\n",
       "      <td>1</td>\n",
       "      <td>1</td>\n",
       "      <td>Ah</td>\n",
       "      <td>30</td>\n",
       "      <td>POINT (5.75786 50.99109)</td>\n",
       "    </tr>\n",
       "    <tr>\n",
       "      <th>2</th>\n",
       "      <td>181165</td>\n",
       "      <td>333537</td>\n",
       "      <td>6.5</td>\n",
       "      <td>68</td>\n",
       "      <td>199</td>\n",
       "      <td>640</td>\n",
       "      <td>7.800</td>\n",
       "      <td>0.103029</td>\n",
       "      <td>13.0</td>\n",
       "      <td>1</td>\n",
       "      <td>1</td>\n",
       "      <td>1</td>\n",
       "      <td>Ah</td>\n",
       "      <td>150</td>\n",
       "      <td>POINT (5.75986 50.99089)</td>\n",
       "    </tr>\n",
       "    <tr>\n",
       "      <th>3</th>\n",
       "      <td>181298</td>\n",
       "      <td>333484</td>\n",
       "      <td>2.6</td>\n",
       "      <td>81</td>\n",
       "      <td>116</td>\n",
       "      <td>257</td>\n",
       "      <td>7.655</td>\n",
       "      <td>0.190094</td>\n",
       "      <td>8.0</td>\n",
       "      <td>1</td>\n",
       "      <td>2</td>\n",
       "      <td>0</td>\n",
       "      <td>Ga</td>\n",
       "      <td>270</td>\n",
       "      <td>POINT (5.76175 50.99041)</td>\n",
       "    </tr>\n",
       "    <tr>\n",
       "      <th>4</th>\n",
       "      <td>181307</td>\n",
       "      <td>333330</td>\n",
       "      <td>2.8</td>\n",
       "      <td>48</td>\n",
       "      <td>117</td>\n",
       "      <td>269</td>\n",
       "      <td>7.480</td>\n",
       "      <td>0.277090</td>\n",
       "      <td>8.7</td>\n",
       "      <td>1</td>\n",
       "      <td>2</td>\n",
       "      <td>0</td>\n",
       "      <td>Ah</td>\n",
       "      <td>380</td>\n",
       "      <td>POINT (5.76186 50.98903)</td>\n",
       "    </tr>\n",
       "  </tbody>\n",
       "</table>\n",
       "</div>"
      ],
      "text/plain": [
       "        x       y  cadmium  copper  lead  zinc   elev      dist    om  ffreq  \\\n",
       "0  181072  333611     11.7      85   299  1022  7.909  0.001358  13.6      1   \n",
       "1  181025  333558      8.6      81   277  1141  6.983  0.012224  14.0      1   \n",
       "2  181165  333537      6.5      68   199   640  7.800  0.103029  13.0      1   \n",
       "3  181298  333484      2.6      81   116   257  7.655  0.190094   8.0      1   \n",
       "4  181307  333330      2.8      48   117   269  7.480  0.277090   8.7      1   \n",
       "\n",
       "   soil  lime landuse  dist.m                  geometry  \n",
       "0     1     1      Ah      50  POINT (5.75854 50.99156)  \n",
       "1     1     1      Ah      30  POINT (5.75786 50.99109)  \n",
       "2     1     1      Ah     150  POINT (5.75986 50.99089)  \n",
       "3     2     0      Ga     270  POINT (5.76175 50.99041)  \n",
       "4     2     0      Ah     380  POINT (5.76186 50.98903)  "
      ]
     },
     "execution_count": 4,
     "metadata": {},
     "output_type": "execute_result"
    }
   ],
   "source": [
    "meuse_gdf = (\n",
    "  gpd.GeoDataFrame(\n",
    "      meuse_df,\n",
    "      geometry = gpd.points_from_xy(meuse_df[\"x\"], meuse_df[\"y\"])\n",
    "  )\n",
    "  .set_crs(crs = 28992)\n",
    "  .to_crs(crs = 4326)\n",
    ")\n",
    "meuse_gdf.head() # quick check"
   ]
  },
  {
   "cell_type": "code",
   "execution_count": 5,
   "metadata": {
    "nextjournal": {
     "id": "a97b0c1b-c7fc-48b0-944a-f7f6b3f808ac",
     "kind": "code",
     "language": "python"
    }
   },
   "outputs": [
    {
     "data": {
      "text/html": [
       "<html lang=\"en\">\n",
       "   <head>\n",
       "       <script type=\"text/javascript\" data-lets-plot-script=\"library\" src=\"https://cdn.jsdelivr.net/gh/JetBrains/lets-plot@v2.3.0/js-package/distr/lets-plot.min.js\"></script>\n",
       "   </head>\n",
       "   <body>\n",
       "          <div id=\"J11VAp\"></div>\n",
       "   <script type=\"text/javascript\" data-lets-plot-script=\"plot\">\n",
       "       var plotSpec={\n",
       "\"mapping\":{\n",
       "},\n",
       "\"data_meta\":{\n",
       "},\n",
       "\"theme\":{\n",
       "\"name\":\"classic\"\n",
       "},\n",
       "\"kind\":\"plot\",\n",
       "\"scales\":[],\n",
       "\"layers\":[{\n",
       "\"geom\":\"point\",\n",
       "\"data\":{\n",
       "\"geometry\":[\"{\\\"type\\\": \\\"Point\\\", \\\"coordinates\\\": [5.758536241358085, 50.99156215671778]}\",\"{\\\"type\\\": \\\"Point\\\", \\\"coordinates\\\": [5.757863017883049, 50.991087902923226]}\",\"{\\\"type\\\": \\\"Point\\\", \\\"coordinates\\\": [5.759855417512949, 50.99089274337649]}\",\"{\\\"type\\\": \\\"Point\\\", \\\"coordinates\\\": [5.761745769705407, 50.99041023563286]}\",\"{\\\"type\\\": \\\"Point\\\", \\\"coordinates\\\": [5.761862707381168, 50.98902557095708]}\",\"{\\\"type\\\": \\\"Point\\\", \\\"coordinates\\\": [5.763039640982921, 50.98839253664887]}\",\"{\\\"type\\\": \\\"Point\\\", \\\"coordinates\\\": [5.75984329282049, 50.989391640706934]}\",\"{\\\"type\\\": \\\"Point\\\", \\\"coordinates\\\": [5.757877419534276, 50.98933502689312]}\",\"{\\\"type\\\": \\\"Point\\\", \\\"coordinates\\\": [5.758337853721926, 50.98814702134338]}\",\"{\\\"type\\\": \\\"Point\\\", \\\"coordinates\\\": [5.760782790779362, 50.9875728618997]}\",\"{\\\"type\\\": \\\"Point\\\", \\\"coordinates\\\": [5.760195049054255, 50.987098345980705]}\",\"{\\\"type\\\": \\\"Point\\\", \\\"coordinates\\\": [5.7579246494819385, 50.98635057042538]}\",\"{\\\"type\\\": \\\"Point\\\", \\\"coordinates\\\": [5.755696704062746, 50.98912625267952]}\",\"{\\\"type\\\": \\\"Point\\\", \\\"coordinates\\\": [5.757043398279614, 50.98833992841907]}\",\"{\\\"type\\\": \\\"Point\\\", \\\"coordinates\\\": [5.757634972816759, 50.98752005056761]}\",\"{\\\"type\\\": \\\"Point\\\", \\\"coordinates\\\": [5.75506340331458, 50.98829230093237]}\",\"{\\\"type\\\": \\\"Point\\\", \\\"coordinates\\\": [5.754099075385234, 50.98701894029337]}\",\"{\\\"type\\\": \\\"Point\\\", \\\"coordinates\\\": [5.753107032181696, 50.9858355480134]}\",\"{\\\"type\\\": \\\"Point\\\", \\\"coordinates\\\": [5.752115537495023, 50.98471506771109]}\",\"{\\\"type\\\": \\\"Point\\\", \\\"coordinates\\\": [5.751108787655798, 50.98345979394851]}\",\"{\\\"type\\\": \\\"Point\\\", \\\"coordinates\\\": [5.752347736439357, 50.98346488307418]}\",\"{\\\"type\\\": \\\"Point\\\", \\\"coordinates\\\": [5.753231256497299, 50.983542993816556]}\",\"{\\\"type\\\": \\\"Point\\\", \\\"coordinates\\\": [5.75322747760397, 50.98306659569488]}\",\"{\\\"type\\\": \\\"Point\\\", \\\"coordinates\\\": [5.759640102253008, 50.985392246184205]}\",\"{\\\"type\\\": \\\"Point\\\", \\\"coordinates\\\": [5.7595472604195646, 50.98447567977239]}\",\"{\\\"type\\\": \\\"Point\\\", \\\"coordinates\\\": [5.75982879953081, 50.98407027502434]}\",\"{\\\"type\\\": \\\"Point\\\", \\\"coordinates\\\": [5.757564542884561, 50.984068549295834]}\",\"{\\\"type\\\": \\\"Point\\\", \\\"coordinates\\\": [5.757059653246428, 50.98326116444435]}\",\"{\\\"type\\\": \\\"Point\\\", \\\"coordinates\\\": [5.756252723226065, 50.98385700413397]}\",\"{\\\"type\\\": \\\"Point\\\", \\\"coordinates\\\": [5.7624755081458146, 50.985571859677705]}\",\"{\\\"type\\\": \\\"Point\\\", \\\"coordinates\\\": [5.759329556706944, 50.982202194946176]}\",\"{\\\"type\\\": \\\"Point\\\", \\\"coordinates\\\": [5.755692649840071, 50.98148572581879]}\",\"{\\\"type\\\": \\\"Point\\\", \\\"coordinates\\\": [5.754992127244448, 50.98113738679508]}\",\"{\\\"type\\\": \\\"Point\\\", \\\"coordinates\\\": [5.756768362432966, 50.980673299633004]}\",\"{\\\"type\\\": \\\"Point\\\", \\\"coordinates\\\": [5.7567910096397, 50.97994512884859]}\",\"{\\\"type\\\": \\\"Point\\\", \\\"coordinates\\\": [5.75328909906964, 50.98006411864725]}\",\"{\\\"type\\\": \\\"Point\\\", \\\"coordinates\\\": [5.752186638286952, 50.981101318443194]}\",\"{\\\"type\\\": \\\"Point\\\", \\\"coordinates\\\": [5.7507408205002175, 50.98194183091395]}\",\"{\\\"type\\\": \\\"Point\\\", \\\"coordinates\\\": [5.75000319287152, 50.9823036988139]}\",\"{\\\"type\\\": \\\"Point\\\", \\\"coordinates\\\": [5.748643247617222, 50.981391086801814]}\",\"{\\\"type\\\": \\\"Point\\\", \\\"coordinates\\\": [5.750213490666505, 50.98007380059949]}\",\"{\\\"type\\\": \\\"Point\\\", \\\"coordinates\\\": [5.7511577870991895, 50.97883936173658]}\",\"{\\\"type\\\": \\\"Point\\\", \\\"coordinates\\\": [5.749590275995749, 50.97868247807214]}\",\"{\\\"type\\\": \\\"Point\\\", \\\"coordinates\\\": [5.748996350228412, 50.97738993831918]}\",\"{\\\"type\\\": \\\"Point\\\", \\\"coordinates\\\": [5.748232098985023, 50.97980133986306]}\",\"{\\\"type\\\": \\\"Point\\\", \\\"coordinates\\\": [5.747325091084467, 50.97852774498083]}\",\"{\\\"type\\\": \\\"Point\\\", \\\"coordinates\\\": [5.747186918723876, 50.9772427667127]}\",\"{\\\"type\\\": \\\"Point\\\", \\\"coordinates\\\": [5.747161954429742, 50.97586754778838]}\",\"{\\\"type\\\": \\\"Point\\\", \\\"coordinates\\\": [5.746980312301285, 50.97448382692278]}\",\"{\\\"type\\\": \\\"Point\\\", \\\"coordinates\\\": [5.745961365628163, 50.97344427996484]}\",\"{\\\"type\\\": \\\"Point\\\", \\\"coordinates\\\": [5.745047486649838, 50.973096542099576]}\",\"{\\\"type\\\": \\\"Point\\\", \\\"coordinates\\\": [5.7465555541636, 50.980273975595814]}\",\"{\\\"type\\\": \\\"Point\\\", \\\"coordinates\\\": [5.744643768607397, 50.97979449359688]}\",\"{\\\"type\\\": \\\"Point\\\", \\\"coordinates\\\": [5.742789808634666, 50.97942266896285]}\",\"{\\\"type\\\": \\\"Point\\\", \\\"coordinates\\\": [5.7406940971920895, 50.9790875083989]}\",\"{\\\"type\\\": \\\"Point\\\", \\\"coordinates\\\": [5.7387110920406705, 50.978590168394916]}\",\"{\\\"type\\\": \\\"Point\\\", \\\"coordinates\\\": [5.740197470241526, 50.97745305018122]}\",\"{\\\"type\\\": \\\"Point\\\", \\\"coordinates\\\": [5.741769051429365, 50.97814938015602]}\",\"{\\\"type\\\": \\\"Point\\\", \\\"coordinates\\\": [5.7445952046736535, 50.97903957879893]}\",\"{\\\"type\\\": \\\"Point\\\", \\\"coordinates\\\": [5.737522337728478, 50.97767690678625]}\",\"{\\\"type\\\": \\\"Point\\\", \\\"coordinates\\\": [5.736403391860635, 50.9765746564882]}\",\"{\\\"type\\\": \\\"Point\\\", \\\"coordinates\\\": [5.735950742791962, 50.975083869617805]}\",\"{\\\"type\\\": \\\"Point\\\", \\\"coordinates\\\": [5.7358560158877205, 50.973852680861306]}\",\"{\\\"type\\\": \\\"Point\\\", \\\"coordinates\\\": [5.734778829720905, 50.97260646765281]}\",\"{\\\"type\\\": \\\"Point\\\", \\\"coordinates\\\": [5.733631262493818, 50.97145933262255]}\",\"{\\\"type\\\": \\\"Point\\\", \\\"coordinates\\\": [5.732499736472149, 50.970545848869136]}\",\"{\\\"type\\\": \\\"Point\\\", \\\"coordinates\\\": [5.735551050327727, 50.969287257281614]}\",\"{\\\"type\\\": \\\"Point\\\", \\\"coordinates\\\": [5.738698217032391, 50.96755188434309]}\",\"{\\\"type\\\": \\\"Point\\\", \\\"coordinates\\\": [5.740966737946255, 50.96635844527372]}\",\"{\\\"type\\\": \\\"Point\\\", \\\"coordinates\\\": [5.73084191744462, 50.96777322355479]}\",\"{\\\"type\\\": \\\"Point\\\", \\\"coordinates\\\": [5.730665210331286, 50.966982728314896]}\",\"{\\\"type\\\": \\\"Point\\\", \\\"coordinates\\\": [5.729768210244004, 50.96695841926206]}\",\"{\\\"type\\\": \\\"Point\\\", \\\"coordinates\\\": [5.728933469516144, 50.96572941253324]}\",\"{\\\"type\\\": \\\"Point\\\", \\\"coordinates\\\": [5.73040169796583, 50.96600372414188]}\",\"{\\\"type\\\": \\\"Point\\\", \\\"coordinates\\\": [5.729283871353568, 50.96499129137007]}\",\"{\\\"type\\\": \\\"Point\\\", \\\"coordinates\\\": [5.730180031663303, 50.96490774028139]}\",\"{\\\"type\\\": \\\"Point\\\", \\\"coordinates\\\": [5.729644962501359, 50.963776728028854]}\",\"{\\\"type\\\": \\\"Point\\\", \\\"coordinates\\\": [5.726125240132986, 50.96518934714216]}\",\"{\\\"type\\\": \\\"Point\\\", \\\"coordinates\\\": [5.7275846347628, 50.96620080656532]}\",\"{\\\"type\\\": \\\"Point\\\", \\\"coordinates\\\": [5.728576465586246, 50.96750127075522]}\",\"{\\\"type\\\": \\\"Point\\\", \\\"coordinates\\\": [5.729934203699664, 50.96822535706035]}\",\"{\\\"type\\\": \\\"Point\\\", \\\"coordinates\\\": [5.745191690456101, 50.96231844753993]}\",\"{\\\"type\\\": \\\"Point\\\", \\\"coordinates\\\": [5.731867378433735, 50.96974772448132]}\",\"{\\\"type\\\": \\\"Point\\\", \\\"coordinates\\\": [5.759162623604555, 50.98799156465302]}\",\"{\\\"type\\\": \\\"Point\\\", \\\"coordinates\\\": [5.735620137001601, 50.97089605553014]}\",\"{\\\"type\\\": \\\"Point\\\", \\\"coordinates\\\": [5.736838309134274, 50.971962057992435]}\",\"{\\\"type\\\": \\\"Point\\\", \\\"coordinates\\\": [5.729156708192753, 50.96704112668872]}\",\"{\\\"type\\\": \\\"Point\\\", \\\"coordinates\\\": [5.728165800368948, 50.96586650874961]}\",\"{\\\"type\\\": \\\"Point\\\", \\\"coordinates\\\": [5.727040549307324, 50.96383833543935]}\",\"{\\\"type\\\": \\\"Point\\\", \\\"coordinates\\\": [5.726004688797623, 50.96234023240248]}\",\"{\\\"type\\\": \\\"Point\\\", \\\"coordinates\\\": [5.729224454146559, 50.96273526355798]}\",\"{\\\"type\\\": \\\"Point\\\", \\\"coordinates\\\": [5.72319018482882, 50.96286079966391]}\",\"{\\\"type\\\": \\\"Point\\\", \\\"coordinates\\\": [5.72456653372424, 50.96421411433296]}\",\"{\\\"type\\\": \\\"Point\\\", \\\"coordinates\\\": [5.736587326344702, 50.96137393715766]}\",\"{\\\"type\\\": \\\"Point\\\", \\\"coordinates\\\": [5.733081518088645, 50.96079119966074]}\",\"{\\\"type\\\": \\\"Point\\\", \\\"coordinates\\\": [5.734587990385906, 50.96427436668423]}\",\"{\\\"type\\\": \\\"Point\\\", \\\"coordinates\\\": [5.735412824020683, 50.966060672056024]}\",\"{\\\"type\\\": \\\"Point\\\", \\\"coordinates\\\": [5.733009258424531, 50.96634653067967]}\",\"{\\\"type\\\": \\\"Point\\\", \\\"coordinates\\\": [5.731394904411073, 50.965569310470975]}\",\"{\\\"type\\\": \\\"Point\\\", \\\"coordinates\\\": [5.731744071351678, 50.96276374788826]}\",\"{\\\"type\\\": \\\"Point\\\", \\\"coordinates\\\": [5.737612412546715, 50.96328546642317]}\",\"{\\\"type\\\": \\\"Point\\\", \\\"coordinates\\\": [5.739952382091762, 50.96401544712451]}\",\"{\\\"type\\\": \\\"Point\\\", \\\"coordinates\\\": [5.74278684261421, 50.96610118143772]}\",\"{\\\"type\\\": \\\"Point\\\", \\\"coordinates\\\": [5.744053881399243, 50.969800695217835]}\",\"{\\\"type\\\": \\\"Point\\\", \\\"coordinates\\\": [5.7454203696689685, 50.971612226372926]}\",\"{\\\"type\\\": \\\"Point\\\", \\\"coordinates\\\": [5.749540735244014, 50.972372448378174]}\",\"{\\\"type\\\": \\\"Point\\\", \\\"coordinates\\\": [5.747767521060008, 50.969546490840045]}\",\"{\\\"type\\\": \\\"Point\\\", \\\"coordinates\\\": [5.747013603167618, 50.9677960073605]}\",\"{\\\"type\\\": \\\"Point\\\", \\\"coordinates\\\": [5.744696371277224, 50.96636496701256]}\",\"{\\\"type\\\": \\\"Point\\\", \\\"coordinates\\\": [5.741387199334945, 50.967354923591024]}\",\"{\\\"type\\\": \\\"Point\\\", \\\"coordinates\\\": [5.739864669903062, 50.96744047091432]}\",\"{\\\"type\\\": \\\"Point\\\", \\\"coordinates\\\": [5.738214820177119, 50.969503933911994]}\",\"{\\\"type\\\": \\\"Point\\\", \\\"coordinates\\\": [5.739274773786346, 50.97035465762926]}\",\"{\\\"type\\\": \\\"Point\\\", \\\"coordinates\\\": [5.7390889007821695, 50.97211703972255]}\",\"{\\\"type\\\": \\\"Point\\\", \\\"coordinates\\\": [5.735229522680301, 50.971957915884964]}\",\"{\\\"type\\\": \\\"Point\\\", \\\"coordinates\\\": [5.73634968829575, 50.97323995074631]}\",\"{\\\"type\\\": \\\"Point\\\", \\\"coordinates\\\": [5.7380693833050165, 50.97471791478671]}\",\"{\\\"type\\\": \\\"Point\\\", \\\"coordinates\\\": [5.7476122910581084, 50.96242779257776]}\",\"{\\\"type\\\": \\\"Point\\\", \\\"coordinates\\\": [5.74545176314163, 50.97565711862678]}\",\"{\\\"type\\\": \\\"Point\\\", \\\"coordinates\\\": [5.74355004555877, 50.97461128940546]}\",\"{\\\"type\\\": \\\"Point\\\", \\\"coordinates\\\": [5.740260684397395, 50.976410149310325]}\",\"{\\\"type\\\": \\\"Point\\\", \\\"coordinates\\\": [5.738056282825542, 50.97674044852618]}\",\"{\\\"type\\\": \\\"Point\\\", \\\"coordinates\\\": [5.741016417366543, 50.97841235925492]}\",\"{\\\"type\\\": \\\"Point\\\", \\\"coordinates\\\": [5.746950462240393, 50.97978735069231]}\",\"{\\\"type\\\": \\\"Point\\\", \\\"coordinates\\\": [5.744687076676929, 50.97803254230738]}\",\"{\\\"type\\\": \\\"Point\\\", \\\"coordinates\\\": [5.749730800697625, 50.97663257647666]}\",\"{\\\"type\\\": \\\"Point\\\", \\\"coordinates\\\": [5.749949775671167, 50.975508282309235]}\",\"{\\\"type\\\": \\\"Point\\\", \\\"coordinates\\\": [5.748076085550668, 50.97441749504645]}\",\"{\\\"type\\\": \\\"Point\\\", \\\"coordinates\\\": [5.7555098020304785, 50.98712232908272]}\",\"{\\\"type\\\": \\\"Point\\\", \\\"coordinates\\\": [5.753186059734889, 50.98502630007287]}\",\"{\\\"type\\\": \\\"Point\\\", \\\"coordinates\\\": [5.745959728072044, 50.96957008407396]}\",\"{\\\"type\\\": \\\"Point\\\", \\\"coordinates\\\": [5.745614379455959, 50.97642965784425]}\",\"{\\\"type\\\": \\\"Point\\\", \\\"coordinates\\\": [5.756361105092538, 50.98494431204329]}\",\"{\\\"type\\\": \\\"Point\\\", \\\"coordinates\\\": [5.749784124429802, 50.97435822611774]}\",\"{\\\"type\\\": \\\"Point\\\", \\\"coordinates\\\": [5.741928185562481, 50.971065668031244]}\",\"{\\\"type\\\": \\\"Point\\\", \\\"coordinates\\\": [5.740570038522114, 50.97032374525311]}\",\"{\\\"type\\\": \\\"Point\\\", \\\"coordinates\\\": [5.742963926853747, 50.96876134112057]}\",\"{\\\"type\\\": \\\"Point\\\", \\\"coordinates\\\": [5.730532011630795, 50.96438534322504]}\",\"{\\\"type\\\": \\\"Point\\\", \\\"coordinates\\\": [5.729306744969263, 50.964236159703006]}\",\"{\\\"type\\\": \\\"Point\\\", \\\"coordinates\\\": [5.7300241393502604, 50.9630834637602]}\",\"{\\\"type\\\": \\\"Point\\\", \\\"coordinates\\\": [5.732147441275604, 50.959598468395555]}\",\"{\\\"type\\\": \\\"Point\\\", \\\"coordinates\\\": [5.735280383581161, 50.959822801241096]}\",\"{\\\"type\\\": \\\"Point\\\", \\\"coordinates\\\": [5.736609279568518, 50.958632268418626]}\",\"{\\\"type\\\": \\\"Point\\\", \\\"coordinates\\\": [5.735105876589793, 50.95744127793481]}\",\"{\\\"type\\\": \\\"Point\\\", \\\"coordinates\\\": [5.733573070869764, 50.95801217247905]}\",\"{\\\"type\\\": \\\"Point\\\", \\\"coordinates\\\": [5.7322532347161435, 50.95661385203215]}\",\"{\\\"type\\\": \\\"Point\\\", \\\"coordinates\\\": [5.7291092877765335, 50.95679396886497]}\",\"{\\\"type\\\": \\\"Point\\\", \\\"coordinates\\\": [5.72572798754482, 50.95760391457656]}\",\"{\\\"type\\\": \\\"Point\\\", \\\"coordinates\\\": [5.730699512884221, 50.958200511825886]}\",\"{\\\"type\\\": \\\"Point\\\", \\\"coordinates\\\": [5.729217913207587, 50.959930759254505]}\",\"{\\\"type\\\": \\\"Point\\\", \\\"coordinates\\\": [5.731416456905258, 50.96082312894543]}\",\"{\\\"type\\\": \\\"Point\\\", \\\"coordinates\\\": [5.730014728846313, 50.96181606262127]}\",\"{\\\"type\\\": \\\"Point\\\", \\\"coordinates\\\": [5.727026986288386, 50.96199565955479]}\",\"{\\\"type\\\": \\\"Point\\\", \\\"coordinates\\\": [5.735443658451969, 50.962599868019865]}\",\"{\\\"type\\\": \\\"Point\\\", \\\"coordinates\\\": [5.751955241398621, 50.96083215065749]}\"]\n",
       "},\n",
       "\"mapping\":{\n",
       "},\n",
       "\"data_meta\":{\n",
       "\"geodataframe\":{\n",
       "\"geometry\":\"geometry\"\n",
       "}\n",
       "}\n",
       "}]\n",
       "};\n",
       "       var plotContainer = document.getElementById(\"J11VAp\");\n",
       "       LetsPlot.buildPlotFromProcessedSpecs(plotSpec, -1, -1, plotContainer);\n",
       "   </script>\n",
       "   </body>\n",
       "</html>"
      ],
      "text/plain": [
       "<lets_plot.plot.core.PlotSpec at 0x1f28ff88>"
      ]
     },
     "execution_count": 5,
     "metadata": {},
     "output_type": "execute_result"
    }
   ],
   "source": [
    "# updated\n",
    "\n",
    "# quick check\n",
    "(\n",
    "    lp.ggplot() +\n",
    "    lp.geom_point(data=meuse_gdf) +\n",
    "    lp.theme_classic()\n",
    ")"
   ]
  },
  {
   "cell_type": "markdown",
   "metadata": {},
   "source": [
    "# Show geographic data on a map background\n",
    "\n",
    "In the `meuse_gdf` geographic data frame, we have a column for spatial data named `geometry`. *Lets-plot* will not plot the geometry column, but ordinary columns. We have `x` and `y` in the table, but they are still expressed in EPSG 28992 (the geometry is in 4326, but the original `x` and `y` have not been modified). Let's update these values."
   ]
  },
  {
   "cell_type": "code",
   "execution_count": 6,
   "metadata": {
    "nextjournal": {
     "id": "896b9dac-d53b-4901-9cae-d620ebcf96f7",
     "kind": "code",
     "language": "python"
    }
   },
   "outputs": [],
   "source": [
    "meuse_gdf['x'] = meuse_gdf[\"geometry\"].x\n",
    "meuse_gdf['y'] = meuse_gdf[\"geometry\"].y"
   ]
  },
  {
   "cell_type": "markdown",
   "metadata": {},
   "source": [
    "If you are familliar with *ggplot* (a widely known package in the R statistical programming language), you will understand the following code block right away. Basically, the grammar of graphics implemented in *ggplot* and *Lets-plot* consists in calling the data and stack layers of graphical entities, some mapping elements (*aesthetics* like x-y position, colors, point shape, etc.) to columns. In the following code block, I call the data, add a map, add points filled by a color according to values in the `copper` column, then customize the colors of the filling.\n",
    "\n",
    "> *Lets-plot* proposes [a large number of map styles](https://lets-plot.org/pages/api.html#geospatial) (*tilesets*). I used the `STAMEN_DESIGN_TONER` tile set because it's undisruptive, has great contrasts, and is pleasant to my eyes."
   ]
  },
  {
   "cell_type": "code",
   "execution_count": 7,
   "metadata": {
    "nextjournal": {
     "id": "53abfc80-0cb0-4766-8e51-573d505c971f",
     "kind": "code",
     "language": "python"
    }
   },
   "outputs": [
    {
     "data": {
      "text/html": [
       "<html lang=\"en\">\n",
       "   <head>\n",
       "       <script type=\"text/javascript\" data-lets-plot-script=\"library\" src=\"https://cdn.jsdelivr.net/gh/JetBrains/lets-plot@v2.3.0/js-package/distr/lets-plot.min.js\"></script>\n",
       "   </head>\n",
       "   <body>\n",
       "          <div id=\"jvmJzJ\"></div>\n",
       "   <script type=\"text/javascript\" data-lets-plot-script=\"plot\">\n",
       "       var plotSpec={\n",
       "\"mapping\":{\n",
       "},\n",
       "\"data_meta\":{\n",
       "},\n",
       "\"kind\":\"plot\",\n",
       "\"scales\":[{\n",
       "\"aesthetic\":\"fill\",\n",
       "\"type\":\"seq\",\n",
       "\"palette\":\"Reds\",\n",
       "\"scale_mapper_kind\":\"color_brewer\"\n",
       "}],\n",
       "\"layers\":[{\n",
       "\"geom\":\"livemap\",\n",
       "\"mapping\":{\n",
       "},\n",
       "\"data_meta\":{\n",
       "},\n",
       "\"tiles\":{\n",
       "\"kind\":\"raster_zxy\",\n",
       "\"url\":\"https://stamen-tiles-[abcd].a.ssl.fastly.net/toner/{z}/{x}/{y}.png\",\n",
       "\"attribution\":\"Map tiles by <a href=\\\"http://stamen.com\\\">Stamen Design</a>, under <a href=\\\"http://creativecommons.org/licenses/by/3.0\\\">CC BY 3.0</a>. Data by <a href=\\\"http://openstreetmap.org\\\">OpenStreetMap</a>, under <a href=\\\"http://www.openstreetmap.org/copyright\\\">ODbL</a>.\",\n",
       "\"min_zoom\":1,\n",
       "\"max_zoom\":20\n",
       "},\n",
       "\"geocoding\":{\n",
       "\"url\":\"https://geo2.datalore.jetbrains.com/map_data/geocoding\"\n",
       "},\n",
       "\"data\":{\n",
       "}\n",
       "},{\n",
       "\"geom\":\"point\",\n",
       "\"data\":{\n",
       "\"copper\":[85.0,81.0,68.0,81.0,48.0,61.0,31.0,29.0,37.0,24.0,25.0,25.0,93.0,31.0,27.0,86.0,74.0,69.0,69.0,95.0,53.0,35.0,35.0,24.0,26.0,22.0,27.0,24.0,22.0,21.0,29.0,21.0,27.0,26.0,27.0,32.0,50.0,67.0,77.0,108.0,32.0,21.0,22.0,21.0,51.0,50.0,38.0,26.0,24.0,32.0,24.0,47.0,128.0,117.0,104.0,76.0,36.0,34.0,90.0,80.0,78.0,77.0,65.0,66.0,72.0,75.0,75.0,22.0,55.0,47.0,46.0,55.0,49.0,39.0,45.0,48.0,36.0,36.0,68.0,88.0,85.0,76.0,63.0,32.0,25.0,27.0,36.0,41.0,33.0,27.0,38.0,37.0,34.0,19.0,22.0,26.0,25.0,22.0,24.0,18.0,23.0,22.0,23.0,23.0,23.0,18.0,20.0,22.0,27.0,25.0,30.0,23.0,24.0,21.0,24.0,21.0,23.0,53.0,33.0,22.0,23.0,25.0,30.0,47.0,31.0,20.0,16.0,17.0,26.0,34.0,18.0,23.0,20.0,14.0,46.0,29.0,19.0,31.0,27.0,29.0,22.0,20.0,20.0,29.0,38.0,39.0,35.0,42.0,24.0,20.0,20.0,39.0,31.0,21.0,27.0],\n",
       "\"geometry\":[\"{\\\"type\\\": \\\"Point\\\", \\\"coordinates\\\": [5.758536241358085, 50.99156215671778]}\",\"{\\\"type\\\": \\\"Point\\\", \\\"coordinates\\\": [5.757863017883049, 50.991087902923226]}\",\"{\\\"type\\\": \\\"Point\\\", \\\"coordinates\\\": [5.759855417512949, 50.99089274337649]}\",\"{\\\"type\\\": \\\"Point\\\", \\\"coordinates\\\": [5.761745769705407, 50.99041023563286]}\",\"{\\\"type\\\": \\\"Point\\\", \\\"coordinates\\\": [5.761862707381168, 50.98902557095708]}\",\"{\\\"type\\\": \\\"Point\\\", \\\"coordinates\\\": [5.763039640982921, 50.98839253664887]}\",\"{\\\"type\\\": \\\"Point\\\", \\\"coordinates\\\": [5.75984329282049, 50.989391640706934]}\",\"{\\\"type\\\": \\\"Point\\\", \\\"coordinates\\\": [5.757877419534276, 50.98933502689312]}\",\"{\\\"type\\\": \\\"Point\\\", \\\"coordinates\\\": [5.758337853721926, 50.98814702134338]}\",\"{\\\"type\\\": \\\"Point\\\", \\\"coordinates\\\": [5.760782790779362, 50.9875728618997]}\",\"{\\\"type\\\": \\\"Point\\\", \\\"coordinates\\\": [5.760195049054255, 50.987098345980705]}\",\"{\\\"type\\\": \\\"Point\\\", \\\"coordinates\\\": [5.7579246494819385, 50.98635057042538]}\",\"{\\\"type\\\": \\\"Point\\\", \\\"coordinates\\\": [5.755696704062746, 50.98912625267952]}\",\"{\\\"type\\\": \\\"Point\\\", \\\"coordinates\\\": [5.757043398279614, 50.98833992841907]}\",\"{\\\"type\\\": \\\"Point\\\", \\\"coordinates\\\": [5.757634972816759, 50.98752005056761]}\",\"{\\\"type\\\": \\\"Point\\\", \\\"coordinates\\\": [5.75506340331458, 50.98829230093237]}\",\"{\\\"type\\\": \\\"Point\\\", \\\"coordinates\\\": [5.754099075385234, 50.98701894029337]}\",\"{\\\"type\\\": \\\"Point\\\", \\\"coordinates\\\": [5.753107032181696, 50.9858355480134]}\",\"{\\\"type\\\": \\\"Point\\\", \\\"coordinates\\\": [5.752115537495023, 50.98471506771109]}\",\"{\\\"type\\\": \\\"Point\\\", \\\"coordinates\\\": [5.751108787655798, 50.98345979394851]}\",\"{\\\"type\\\": \\\"Point\\\", \\\"coordinates\\\": [5.752347736439357, 50.98346488307418]}\",\"{\\\"type\\\": \\\"Point\\\", \\\"coordinates\\\": [5.753231256497299, 50.983542993816556]}\",\"{\\\"type\\\": \\\"Point\\\", \\\"coordinates\\\": [5.75322747760397, 50.98306659569488]}\",\"{\\\"type\\\": \\\"Point\\\", \\\"coordinates\\\": [5.759640102253008, 50.985392246184205]}\",\"{\\\"type\\\": \\\"Point\\\", \\\"coordinates\\\": [5.7595472604195646, 50.98447567977239]}\",\"{\\\"type\\\": \\\"Point\\\", \\\"coordinates\\\": [5.75982879953081, 50.98407027502434]}\",\"{\\\"type\\\": \\\"Point\\\", \\\"coordinates\\\": [5.757564542884561, 50.984068549295834]}\",\"{\\\"type\\\": \\\"Point\\\", \\\"coordinates\\\": [5.757059653246428, 50.98326116444435]}\",\"{\\\"type\\\": \\\"Point\\\", \\\"coordinates\\\": [5.756252723226065, 50.98385700413397]}\",\"{\\\"type\\\": \\\"Point\\\", \\\"coordinates\\\": [5.7624755081458146, 50.985571859677705]}\",\"{\\\"type\\\": \\\"Point\\\", \\\"coordinates\\\": [5.759329556706944, 50.982202194946176]}\",\"{\\\"type\\\": \\\"Point\\\", \\\"coordinates\\\": [5.755692649840071, 50.98148572581879]}\",\"{\\\"type\\\": \\\"Point\\\", \\\"coordinates\\\": [5.754992127244448, 50.98113738679508]}\",\"{\\\"type\\\": \\\"Point\\\", \\\"coordinates\\\": [5.756768362432966, 50.980673299633004]}\",\"{\\\"type\\\": \\\"Point\\\", \\\"coordinates\\\": [5.7567910096397, 50.97994512884859]}\",\"{\\\"type\\\": \\\"Point\\\", \\\"coordinates\\\": [5.75328909906964, 50.98006411864725]}\",\"{\\\"type\\\": \\\"Point\\\", \\\"coordinates\\\": [5.752186638286952, 50.981101318443194]}\",\"{\\\"type\\\": \\\"Point\\\", \\\"coordinates\\\": [5.7507408205002175, 50.98194183091395]}\",\"{\\\"type\\\": \\\"Point\\\", \\\"coordinates\\\": [5.75000319287152, 50.9823036988139]}\",\"{\\\"type\\\": \\\"Point\\\", \\\"coordinates\\\": [5.748643247617222, 50.981391086801814]}\",\"{\\\"type\\\": \\\"Point\\\", \\\"coordinates\\\": [5.750213490666505, 50.98007380059949]}\",\"{\\\"type\\\": \\\"Point\\\", \\\"coordinates\\\": [5.7511577870991895, 50.97883936173658]}\",\"{\\\"type\\\": \\\"Point\\\", \\\"coordinates\\\": [5.749590275995749, 50.97868247807214]}\",\"{\\\"type\\\": \\\"Point\\\", \\\"coordinates\\\": [5.748996350228412, 50.97738993831918]}\",\"{\\\"type\\\": \\\"Point\\\", \\\"coordinates\\\": [5.748232098985023, 50.97980133986306]}\",\"{\\\"type\\\": \\\"Point\\\", \\\"coordinates\\\": [5.747325091084467, 50.97852774498083]}\",\"{\\\"type\\\": \\\"Point\\\", \\\"coordinates\\\": [5.747186918723876, 50.9772427667127]}\",\"{\\\"type\\\": \\\"Point\\\", \\\"coordinates\\\": [5.747161954429742, 50.97586754778838]}\",\"{\\\"type\\\": \\\"Point\\\", \\\"coordinates\\\": [5.746980312301285, 50.97448382692278]}\",\"{\\\"type\\\": \\\"Point\\\", \\\"coordinates\\\": [5.745961365628163, 50.97344427996484]}\",\"{\\\"type\\\": \\\"Point\\\", \\\"coordinates\\\": [5.745047486649838, 50.973096542099576]}\",\"{\\\"type\\\": \\\"Point\\\", \\\"coordinates\\\": [5.7465555541636, 50.980273975595814]}\",\"{\\\"type\\\": \\\"Point\\\", \\\"coordinates\\\": [5.744643768607397, 50.97979449359688]}\",\"{\\\"type\\\": \\\"Point\\\", \\\"coordinates\\\": [5.742789808634666, 50.97942266896285]}\",\"{\\\"type\\\": \\\"Point\\\", \\\"coordinates\\\": [5.7406940971920895, 50.9790875083989]}\",\"{\\\"type\\\": \\\"Point\\\", \\\"coordinates\\\": [5.7387110920406705, 50.978590168394916]}\",\"{\\\"type\\\": \\\"Point\\\", \\\"coordinates\\\": [5.740197470241526, 50.97745305018122]}\",\"{\\\"type\\\": \\\"Point\\\", \\\"coordinates\\\": [5.741769051429365, 50.97814938015602]}\",\"{\\\"type\\\": \\\"Point\\\", \\\"coordinates\\\": [5.7445952046736535, 50.97903957879893]}\",\"{\\\"type\\\": \\\"Point\\\", \\\"coordinates\\\": [5.737522337728478, 50.97767690678625]}\",\"{\\\"type\\\": \\\"Point\\\", \\\"coordinates\\\": [5.736403391860635, 50.9765746564882]}\",\"{\\\"type\\\": \\\"Point\\\", \\\"coordinates\\\": [5.735950742791962, 50.975083869617805]}\",\"{\\\"type\\\": \\\"Point\\\", \\\"coordinates\\\": [5.7358560158877205, 50.973852680861306]}\",\"{\\\"type\\\": \\\"Point\\\", \\\"coordinates\\\": [5.734778829720905, 50.97260646765281]}\",\"{\\\"type\\\": \\\"Point\\\", \\\"coordinates\\\": [5.733631262493818, 50.97145933262255]}\",\"{\\\"type\\\": \\\"Point\\\", \\\"coordinates\\\": [5.732499736472149, 50.970545848869136]}\",\"{\\\"type\\\": \\\"Point\\\", \\\"coordinates\\\": [5.735551050327727, 50.969287257281614]}\",\"{\\\"type\\\": \\\"Point\\\", \\\"coordinates\\\": [5.738698217032391, 50.96755188434309]}\",\"{\\\"type\\\": \\\"Point\\\", \\\"coordinates\\\": [5.740966737946255, 50.96635844527372]}\",\"{\\\"type\\\": \\\"Point\\\", \\\"coordinates\\\": [5.73084191744462, 50.96777322355479]}\",\"{\\\"type\\\": \\\"Point\\\", \\\"coordinates\\\": [5.730665210331286, 50.966982728314896]}\",\"{\\\"type\\\": \\\"Point\\\", \\\"coordinates\\\": [5.729768210244004, 50.96695841926206]}\",\"{\\\"type\\\": \\\"Point\\\", \\\"coordinates\\\": [5.728933469516144, 50.96572941253324]}\",\"{\\\"type\\\": \\\"Point\\\", \\\"coordinates\\\": [5.73040169796583, 50.96600372414188]}\",\"{\\\"type\\\": \\\"Point\\\", \\\"coordinates\\\": [5.729283871353568, 50.96499129137007]}\",\"{\\\"type\\\": \\\"Point\\\", \\\"coordinates\\\": [5.730180031663303, 50.96490774028139]}\",\"{\\\"type\\\": \\\"Point\\\", \\\"coordinates\\\": [5.729644962501359, 50.963776728028854]}\",\"{\\\"type\\\": \\\"Point\\\", \\\"coordinates\\\": [5.726125240132986, 50.96518934714216]}\",\"{\\\"type\\\": \\\"Point\\\", \\\"coordinates\\\": [5.7275846347628, 50.96620080656532]}\",\"{\\\"type\\\": \\\"Point\\\", \\\"coordinates\\\": [5.728576465586246, 50.96750127075522]}\",\"{\\\"type\\\": \\\"Point\\\", \\\"coordinates\\\": [5.729934203699664, 50.96822535706035]}\",\"{\\\"type\\\": \\\"Point\\\", \\\"coordinates\\\": [5.745191690456101, 50.96231844753993]}\",\"{\\\"type\\\": \\\"Point\\\", \\\"coordinates\\\": [5.731867378433735, 50.96974772448132]}\",\"{\\\"type\\\": \\\"Point\\\", \\\"coordinates\\\": [5.759162623604555, 50.98799156465302]}\",\"{\\\"type\\\": \\\"Point\\\", \\\"coordinates\\\": [5.735620137001601, 50.97089605553014]}\",\"{\\\"type\\\": \\\"Point\\\", \\\"coordinates\\\": [5.736838309134274, 50.971962057992435]}\",\"{\\\"type\\\": \\\"Point\\\", \\\"coordinates\\\": [5.729156708192753, 50.96704112668872]}\",\"{\\\"type\\\": \\\"Point\\\", \\\"coordinates\\\": [5.728165800368948, 50.96586650874961]}\",\"{\\\"type\\\": \\\"Point\\\", \\\"coordinates\\\": [5.727040549307324, 50.96383833543935]}\",\"{\\\"type\\\": \\\"Point\\\", \\\"coordinates\\\": [5.726004688797623, 50.96234023240248]}\",\"{\\\"type\\\": \\\"Point\\\", \\\"coordinates\\\": [5.729224454146559, 50.96273526355798]}\",\"{\\\"type\\\": \\\"Point\\\", \\\"coordinates\\\": [5.72319018482882, 50.96286079966391]}\",\"{\\\"type\\\": \\\"Point\\\", \\\"coordinates\\\": [5.72456653372424, 50.96421411433296]}\",\"{\\\"type\\\": \\\"Point\\\", \\\"coordinates\\\": [5.736587326344702, 50.96137393715766]}\",\"{\\\"type\\\": \\\"Point\\\", \\\"coordinates\\\": [5.733081518088645, 50.96079119966074]}\",\"{\\\"type\\\": \\\"Point\\\", \\\"coordinates\\\": [5.734587990385906, 50.96427436668423]}\",\"{\\\"type\\\": \\\"Point\\\", \\\"coordinates\\\": [5.735412824020683, 50.966060672056024]}\",\"{\\\"type\\\": \\\"Point\\\", \\\"coordinates\\\": [5.733009258424531, 50.96634653067967]}\",\"{\\\"type\\\": \\\"Point\\\", \\\"coordinates\\\": [5.731394904411073, 50.965569310470975]}\",\"{\\\"type\\\": \\\"Point\\\", \\\"coordinates\\\": [5.731744071351678, 50.96276374788826]}\",\"{\\\"type\\\": \\\"Point\\\", \\\"coordinates\\\": [5.737612412546715, 50.96328546642317]}\",\"{\\\"type\\\": \\\"Point\\\", \\\"coordinates\\\": [5.739952382091762, 50.96401544712451]}\",\"{\\\"type\\\": \\\"Point\\\", \\\"coordinates\\\": [5.74278684261421, 50.96610118143772]}\",\"{\\\"type\\\": \\\"Point\\\", \\\"coordinates\\\": [5.744053881399243, 50.969800695217835]}\",\"{\\\"type\\\": \\\"Point\\\", \\\"coordinates\\\": [5.7454203696689685, 50.971612226372926]}\",\"{\\\"type\\\": \\\"Point\\\", \\\"coordinates\\\": [5.749540735244014, 50.972372448378174]}\",\"{\\\"type\\\": \\\"Point\\\", \\\"coordinates\\\": [5.747767521060008, 50.969546490840045]}\",\"{\\\"type\\\": \\\"Point\\\", \\\"coordinates\\\": [5.747013603167618, 50.9677960073605]}\",\"{\\\"type\\\": \\\"Point\\\", \\\"coordinates\\\": [5.744696371277224, 50.96636496701256]}\",\"{\\\"type\\\": \\\"Point\\\", \\\"coordinates\\\": [5.741387199334945, 50.967354923591024]}\",\"{\\\"type\\\": \\\"Point\\\", \\\"coordinates\\\": [5.739864669903062, 50.96744047091432]}\",\"{\\\"type\\\": \\\"Point\\\", \\\"coordinates\\\": [5.738214820177119, 50.969503933911994]}\",\"{\\\"type\\\": \\\"Point\\\", \\\"coordinates\\\": [5.739274773786346, 50.97035465762926]}\",\"{\\\"type\\\": \\\"Point\\\", \\\"coordinates\\\": [5.7390889007821695, 50.97211703972255]}\",\"{\\\"type\\\": \\\"Point\\\", \\\"coordinates\\\": [5.735229522680301, 50.971957915884964]}\",\"{\\\"type\\\": \\\"Point\\\", \\\"coordinates\\\": [5.73634968829575, 50.97323995074631]}\",\"{\\\"type\\\": \\\"Point\\\", \\\"coordinates\\\": [5.7380693833050165, 50.97471791478671]}\",\"{\\\"type\\\": \\\"Point\\\", \\\"coordinates\\\": [5.7476122910581084, 50.96242779257776]}\",\"{\\\"type\\\": \\\"Point\\\", \\\"coordinates\\\": [5.74545176314163, 50.97565711862678]}\",\"{\\\"type\\\": \\\"Point\\\", \\\"coordinates\\\": [5.74355004555877, 50.97461128940546]}\",\"{\\\"type\\\": \\\"Point\\\", \\\"coordinates\\\": [5.740260684397395, 50.976410149310325]}\",\"{\\\"type\\\": \\\"Point\\\", \\\"coordinates\\\": [5.738056282825542, 50.97674044852618]}\",\"{\\\"type\\\": \\\"Point\\\", \\\"coordinates\\\": [5.741016417366543, 50.97841235925492]}\",\"{\\\"type\\\": \\\"Point\\\", \\\"coordinates\\\": [5.746950462240393, 50.97978735069231]}\",\"{\\\"type\\\": \\\"Point\\\", \\\"coordinates\\\": [5.744687076676929, 50.97803254230738]}\",\"{\\\"type\\\": \\\"Point\\\", \\\"coordinates\\\": [5.749730800697625, 50.97663257647666]}\",\"{\\\"type\\\": \\\"Point\\\", \\\"coordinates\\\": [5.749949775671167, 50.975508282309235]}\",\"{\\\"type\\\": \\\"Point\\\", \\\"coordinates\\\": [5.748076085550668, 50.97441749504645]}\",\"{\\\"type\\\": \\\"Point\\\", \\\"coordinates\\\": [5.7555098020304785, 50.98712232908272]}\",\"{\\\"type\\\": \\\"Point\\\", \\\"coordinates\\\": [5.753186059734889, 50.98502630007287]}\",\"{\\\"type\\\": \\\"Point\\\", \\\"coordinates\\\": [5.745959728072044, 50.96957008407396]}\",\"{\\\"type\\\": \\\"Point\\\", \\\"coordinates\\\": [5.745614379455959, 50.97642965784425]}\",\"{\\\"type\\\": \\\"Point\\\", \\\"coordinates\\\": [5.756361105092538, 50.98494431204329]}\",\"{\\\"type\\\": \\\"Point\\\", \\\"coordinates\\\": [5.749784124429802, 50.97435822611774]}\",\"{\\\"type\\\": \\\"Point\\\", \\\"coordinates\\\": [5.741928185562481, 50.971065668031244]}\",\"{\\\"type\\\": \\\"Point\\\", \\\"coordinates\\\": [5.740570038522114, 50.97032374525311]}\",\"{\\\"type\\\": \\\"Point\\\", \\\"coordinates\\\": [5.742963926853747, 50.96876134112057]}\",\"{\\\"type\\\": \\\"Point\\\", \\\"coordinates\\\": [5.730532011630795, 50.96438534322504]}\",\"{\\\"type\\\": \\\"Point\\\", \\\"coordinates\\\": [5.729306744969263, 50.964236159703006]}\",\"{\\\"type\\\": \\\"Point\\\", \\\"coordinates\\\": [5.7300241393502604, 50.9630834637602]}\",\"{\\\"type\\\": \\\"Point\\\", \\\"coordinates\\\": [5.732147441275604, 50.959598468395555]}\",\"{\\\"type\\\": \\\"Point\\\", \\\"coordinates\\\": [5.735280383581161, 50.959822801241096]}\",\"{\\\"type\\\": \\\"Point\\\", \\\"coordinates\\\": [5.736609279568518, 50.958632268418626]}\",\"{\\\"type\\\": \\\"Point\\\", \\\"coordinates\\\": [5.735105876589793, 50.95744127793481]}\",\"{\\\"type\\\": \\\"Point\\\", \\\"coordinates\\\": [5.733573070869764, 50.95801217247905]}\",\"{\\\"type\\\": \\\"Point\\\", \\\"coordinates\\\": [5.7322532347161435, 50.95661385203215]}\",\"{\\\"type\\\": \\\"Point\\\", \\\"coordinates\\\": [5.7291092877765335, 50.95679396886497]}\",\"{\\\"type\\\": \\\"Point\\\", \\\"coordinates\\\": [5.72572798754482, 50.95760391457656]}\",\"{\\\"type\\\": \\\"Point\\\", \\\"coordinates\\\": [5.730699512884221, 50.958200511825886]}\",\"{\\\"type\\\": \\\"Point\\\", \\\"coordinates\\\": [5.729217913207587, 50.959930759254505]}\",\"{\\\"type\\\": \\\"Point\\\", \\\"coordinates\\\": [5.731416456905258, 50.96082312894543]}\",\"{\\\"type\\\": \\\"Point\\\", \\\"coordinates\\\": [5.730014728846313, 50.96181606262127]}\",\"{\\\"type\\\": \\\"Point\\\", \\\"coordinates\\\": [5.727026986288386, 50.96199565955479]}\",\"{\\\"type\\\": \\\"Point\\\", \\\"coordinates\\\": [5.735443658451969, 50.962599868019865]}\",\"{\\\"type\\\": \\\"Point\\\", \\\"coordinates\\\": [5.751955241398621, 50.96083215065749]}\"]\n",
       "},\n",
       "\"mapping\":{\n",
       "\"fill\":\"copper\"\n",
       "},\n",
       "\"data_meta\":{\n",
       "\"geodataframe\":{\n",
       "\"geometry\":\"geometry\"\n",
       "}\n",
       "},\n",
       "\"size\":3,\n",
       "\"shape\":21,\n",
       "\"color\":\"black\"\n",
       "}]\n",
       "};\n",
       "       var plotContainer = document.getElementById(\"jvmJzJ\");\n",
       "       LetsPlot.buildPlotFromProcessedSpecs(plotSpec, -1, -1, plotContainer);\n",
       "   </script>\n",
       "   </body>\n",
       "</html>"
      ],
      "text/plain": [
       "<lets_plot.plot.core.PlotSpec at 0x211101c8>"
      ]
     },
     "execution_count": 7,
     "metadata": {},
     "output_type": "execute_result"
    }
   ],
   "source": [
    "# updated\n",
    "\n",
    "(\n",
    "    lp.ggplot() +\n",
    "    lp.geom_livemap(tiles = tilesets.STAMEN_DESIGN_TONER) + # add map with specific tileset\n",
    "    lp.geom_point(lp.aes(fill = \"copper\"), data = meuse_gdf,\n",
    "                  size = 3, shape = 21, color = \"black\") +\n",
    "    lp.scale_fill_brewer(type = \"seq\", palette = \"Reds\") # custom fill color gradients (red is pretty)\n",
    ")"
   ]
  },
  {
   "cell_type": "markdown",
   "metadata": {},
   "source": [
    "If you know R's *ggplot*, plotting for multiple metals would consist in, first, pivotting the table in long format, with all metal concentration values in a single column and the name of the metal variable in another column. Then, we would use facetting (`facet_wrap` or `facet_grid` to obtain multiple plots). But *Lets-plot* doesn't have [yet](https://github.com/JetBrains/lets-plot/issues/451) the option to plot a legend per facet, so zinc concentrations would take all fill color gradients, while cadmium point will all appear white since they are all low concentrations compared to zinc.\n",
    "\n",
    "The trick for now (I will update the code when *Lets-plot* will implement some scaling argument) is to define the plot in a function and plot each metal one after the other with `lp.GGBunch()`, which is kind of tricky since it needs the position (below, `w` and `h`) of the plot from the top-left corner of the whole patchwork, but works great."
   ]
  },
  {
   "cell_type": "code",
   "execution_count": 8,
   "metadata": {
    "nextjournal": {
     "id": "fb06d221-6b62-4c7e-afc7-105ea0ff8221",
     "kind": "code",
     "language": "python"
    }
   },
   "outputs": [
    {
     "data": {
      "text/html": [
       "<html lang=\"en\">\n",
       "   <head>\n",
       "       <script type=\"text/javascript\" data-lets-plot-script=\"library\" src=\"https://cdn.jsdelivr.net/gh/JetBrains/lets-plot@v2.3.0/js-package/distr/lets-plot.min.js\"></script>\n",
       "   </head>\n",
       "   <body>\n",
       "          <div id=\"74Jktl\"></div>\n",
       "   <script type=\"text/javascript\" data-lets-plot-script=\"plot\">\n",
       "       var plotSpec={\n",
       "\"kind\":\"ggbunch\",\n",
       "\"items\":[{\n",
       "\"x\":0,\n",
       "\"y\":0,\n",
       "\"width\":480,\n",
       "\"height\":320,\n",
       "\"feature_spec\":{\n",
       "\"mapping\":{\n",
       "},\n",
       "\"data_meta\":{\n",
       "},\n",
       "\"kind\":\"plot\",\n",
       "\"scales\":[{\n",
       "\"aesthetic\":\"fill\",\n",
       "\"type\":\"seq\",\n",
       "\"palette\":\"Reds\",\n",
       "\"scale_mapper_kind\":\"color_brewer\"\n",
       "}],\n",
       "\"layers\":[{\n",
       "\"geom\":\"livemap\",\n",
       "\"mapping\":{\n",
       "},\n",
       "\"data_meta\":{\n",
       "},\n",
       "\"tiles\":{\n",
       "\"kind\":\"raster_zxy\",\n",
       "\"url\":\"https://stamen-tiles-[abcd].a.ssl.fastly.net/toner/{z}/{x}/{y}.png\",\n",
       "\"attribution\":\"Map tiles by <a href=\\\"http://stamen.com\\\">Stamen Design</a>, under <a href=\\\"http://creativecommons.org/licenses/by/3.0\\\">CC BY 3.0</a>. Data by <a href=\\\"http://openstreetmap.org\\\">OpenStreetMap</a>, under <a href=\\\"http://www.openstreetmap.org/copyright\\\">ODbL</a>.\",\n",
       "\"min_zoom\":1,\n",
       "\"max_zoom\":20\n",
       "},\n",
       "\"geocoding\":{\n",
       "\"url\":\"https://geo2.datalore.jetbrains.com/map_data/geocoding\"\n",
       "},\n",
       "\"data\":{\n",
       "}\n",
       "},{\n",
       "\"geom\":\"point\",\n",
       "\"data\":{\n",
       "\"cadmium\":[11.7,8.6,6.5,2.6,2.8,3.0,3.2,2.8,2.4,1.6,1.4,1.8,11.2,2.5,2.0,9.5,7.0,7.1,8.7,12.9,5.5,2.8,2.9,1.7,1.4,1.5,1.3,1.3,1.8,1.5,1.3,1.3,2.1,1.2,1.6,3.0,5.8,7.9,8.1,14.1,2.4,1.2,1.7,1.3,4.2,4.3,3.1,1.7,1.7,2.1,1.7,8.2,17.0,12.0,9.4,8.2,2.6,3.5,10.9,7.3,9.4,8.3,7.0,6.8,7.4,6.6,7.8,0.7,3.4,3.9,3.5,4.7,3.9,3.1,2.9,3.9,2.7,2.5,5.6,9.4,10.8,18.1,6.3,2.1,1.8,2.2,2.8,2.4,2.6,1.8,2.0,2.7,2.7,0.9,0.9,0.4,0.8,0.4,0.4,0.4,0.8,0.4,0.4,0.4,0.2,0.2,0.4,0.2,0.2,0.4,0.2,0.2,0.2,0.2,0.2,0.2,0.2,3.7,0.2,0.2,0.2,0.2,1.2,2.4,0.2,0.2,0.2,0.2,0.4,1.6,0.8,1.2,0.2,0.2,0.8,1.0,0.8,1.2,2.0,1.5,1.1,0.8,0.8,2.1,2.5,3.8,3.2,3.1,1.5,1.2,0.8,3.1,2.1,0.8,2.7],\n",
       "\"geometry\":[\"{\\\"type\\\": \\\"Point\\\", \\\"coordinates\\\": [5.758536241358085, 50.99156215671778]}\",\"{\\\"type\\\": \\\"Point\\\", \\\"coordinates\\\": [5.757863017883049, 50.991087902923226]}\",\"{\\\"type\\\": \\\"Point\\\", \\\"coordinates\\\": [5.759855417512949, 50.99089274337649]}\",\"{\\\"type\\\": \\\"Point\\\", \\\"coordinates\\\": [5.761745769705407, 50.99041023563286]}\",\"{\\\"type\\\": \\\"Point\\\", \\\"coordinates\\\": [5.761862707381168, 50.98902557095708]}\",\"{\\\"type\\\": \\\"Point\\\", \\\"coordinates\\\": [5.763039640982921, 50.98839253664887]}\",\"{\\\"type\\\": \\\"Point\\\", \\\"coordinates\\\": [5.75984329282049, 50.989391640706934]}\",\"{\\\"type\\\": \\\"Point\\\", \\\"coordinates\\\": [5.757877419534276, 50.98933502689312]}\",\"{\\\"type\\\": \\\"Point\\\", \\\"coordinates\\\": [5.758337853721926, 50.98814702134338]}\",\"{\\\"type\\\": \\\"Point\\\", \\\"coordinates\\\": [5.760782790779362, 50.9875728618997]}\",\"{\\\"type\\\": \\\"Point\\\", \\\"coordinates\\\": [5.760195049054255, 50.987098345980705]}\",\"{\\\"type\\\": \\\"Point\\\", \\\"coordinates\\\": [5.7579246494819385, 50.98635057042538]}\",\"{\\\"type\\\": \\\"Point\\\", \\\"coordinates\\\": [5.755696704062746, 50.98912625267952]}\",\"{\\\"type\\\": \\\"Point\\\", \\\"coordinates\\\": [5.757043398279614, 50.98833992841907]}\",\"{\\\"type\\\": \\\"Point\\\", \\\"coordinates\\\": [5.757634972816759, 50.98752005056761]}\",\"{\\\"type\\\": \\\"Point\\\", \\\"coordinates\\\": [5.75506340331458, 50.98829230093237]}\",\"{\\\"type\\\": \\\"Point\\\", \\\"coordinates\\\": [5.754099075385234, 50.98701894029337]}\",\"{\\\"type\\\": \\\"Point\\\", \\\"coordinates\\\": [5.753107032181696, 50.9858355480134]}\",\"{\\\"type\\\": \\\"Point\\\", \\\"coordinates\\\": [5.752115537495023, 50.98471506771109]}\",\"{\\\"type\\\": \\\"Point\\\", \\\"coordinates\\\": [5.751108787655798, 50.98345979394851]}\",\"{\\\"type\\\": \\\"Point\\\", \\\"coordinates\\\": [5.752347736439357, 50.98346488307418]}\",\"{\\\"type\\\": \\\"Point\\\", \\\"coordinates\\\": [5.753231256497299, 50.983542993816556]}\",\"{\\\"type\\\": \\\"Point\\\", \\\"coordinates\\\": [5.75322747760397, 50.98306659569488]}\",\"{\\\"type\\\": \\\"Point\\\", \\\"coordinates\\\": [5.759640102253008, 50.985392246184205]}\",\"{\\\"type\\\": \\\"Point\\\", \\\"coordinates\\\": [5.7595472604195646, 50.98447567977239]}\",\"{\\\"type\\\": \\\"Point\\\", \\\"coordinates\\\": [5.75982879953081, 50.98407027502434]}\",\"{\\\"type\\\": \\\"Point\\\", \\\"coordinates\\\": [5.757564542884561, 50.984068549295834]}\",\"{\\\"type\\\": \\\"Point\\\", \\\"coordinates\\\": [5.757059653246428, 50.98326116444435]}\",\"{\\\"type\\\": \\\"Point\\\", \\\"coordinates\\\": [5.756252723226065, 50.98385700413397]}\",\"{\\\"type\\\": \\\"Point\\\", \\\"coordinates\\\": [5.7624755081458146, 50.985571859677705]}\",\"{\\\"type\\\": \\\"Point\\\", \\\"coordinates\\\": [5.759329556706944, 50.982202194946176]}\",\"{\\\"type\\\": \\\"Point\\\", \\\"coordinates\\\": [5.755692649840071, 50.98148572581879]}\",\"{\\\"type\\\": \\\"Point\\\", \\\"coordinates\\\": [5.754992127244448, 50.98113738679508]}\",\"{\\\"type\\\": \\\"Point\\\", \\\"coordinates\\\": [5.756768362432966, 50.980673299633004]}\",\"{\\\"type\\\": \\\"Point\\\", \\\"coordinates\\\": [5.7567910096397, 50.97994512884859]}\",\"{\\\"type\\\": \\\"Point\\\", \\\"coordinates\\\": [5.75328909906964, 50.98006411864725]}\",\"{\\\"type\\\": \\\"Point\\\", \\\"coordinates\\\": [5.752186638286952, 50.981101318443194]}\",\"{\\\"type\\\": \\\"Point\\\", \\\"coordinates\\\": [5.7507408205002175, 50.98194183091395]}\",\"{\\\"type\\\": \\\"Point\\\", \\\"coordinates\\\": [5.75000319287152, 50.9823036988139]}\",\"{\\\"type\\\": \\\"Point\\\", \\\"coordinates\\\": [5.748643247617222, 50.981391086801814]}\",\"{\\\"type\\\": \\\"Point\\\", \\\"coordinates\\\": [5.750213490666505, 50.98007380059949]}\",\"{\\\"type\\\": \\\"Point\\\", \\\"coordinates\\\": [5.7511577870991895, 50.97883936173658]}\",\"{\\\"type\\\": \\\"Point\\\", \\\"coordinates\\\": [5.749590275995749, 50.97868247807214]}\",\"{\\\"type\\\": \\\"Point\\\", \\\"coordinates\\\": [5.748996350228412, 50.97738993831918]}\",\"{\\\"type\\\": \\\"Point\\\", \\\"coordinates\\\": [5.748232098985023, 50.97980133986306]}\",\"{\\\"type\\\": \\\"Point\\\", \\\"coordinates\\\": [5.747325091084467, 50.97852774498083]}\",\"{\\\"type\\\": \\\"Point\\\", \\\"coordinates\\\": [5.747186918723876, 50.9772427667127]}\",\"{\\\"type\\\": \\\"Point\\\", \\\"coordinates\\\": [5.747161954429742, 50.97586754778838]}\",\"{\\\"type\\\": \\\"Point\\\", \\\"coordinates\\\": [5.746980312301285, 50.97448382692278]}\",\"{\\\"type\\\": \\\"Point\\\", \\\"coordinates\\\": [5.745961365628163, 50.97344427996484]}\",\"{\\\"type\\\": \\\"Point\\\", \\\"coordinates\\\": [5.745047486649838, 50.973096542099576]}\",\"{\\\"type\\\": \\\"Point\\\", \\\"coordinates\\\": [5.7465555541636, 50.980273975595814]}\",\"{\\\"type\\\": \\\"Point\\\", \\\"coordinates\\\": [5.744643768607397, 50.97979449359688]}\",\"{\\\"type\\\": \\\"Point\\\", \\\"coordinates\\\": [5.742789808634666, 50.97942266896285]}\",\"{\\\"type\\\": \\\"Point\\\", \\\"coordinates\\\": [5.7406940971920895, 50.9790875083989]}\",\"{\\\"type\\\": \\\"Point\\\", \\\"coordinates\\\": [5.7387110920406705, 50.978590168394916]}\",\"{\\\"type\\\": \\\"Point\\\", \\\"coordinates\\\": [5.740197470241526, 50.97745305018122]}\",\"{\\\"type\\\": \\\"Point\\\", \\\"coordinates\\\": [5.741769051429365, 50.97814938015602]}\",\"{\\\"type\\\": \\\"Point\\\", \\\"coordinates\\\": [5.7445952046736535, 50.97903957879893]}\",\"{\\\"type\\\": \\\"Point\\\", \\\"coordinates\\\": [5.737522337728478, 50.97767690678625]}\",\"{\\\"type\\\": \\\"Point\\\", \\\"coordinates\\\": [5.736403391860635, 50.9765746564882]}\",\"{\\\"type\\\": \\\"Point\\\", \\\"coordinates\\\": [5.735950742791962, 50.975083869617805]}\",\"{\\\"type\\\": \\\"Point\\\", \\\"coordinates\\\": [5.7358560158877205, 50.973852680861306]}\",\"{\\\"type\\\": \\\"Point\\\", \\\"coordinates\\\": [5.734778829720905, 50.97260646765281]}\",\"{\\\"type\\\": \\\"Point\\\", \\\"coordinates\\\": [5.733631262493818, 50.97145933262255]}\",\"{\\\"type\\\": \\\"Point\\\", \\\"coordinates\\\": [5.732499736472149, 50.970545848869136]}\",\"{\\\"type\\\": \\\"Point\\\", \\\"coordinates\\\": [5.735551050327727, 50.969287257281614]}\",\"{\\\"type\\\": \\\"Point\\\", \\\"coordinates\\\": [5.738698217032391, 50.96755188434309]}\",\"{\\\"type\\\": \\\"Point\\\", \\\"coordinates\\\": [5.740966737946255, 50.96635844527372]}\",\"{\\\"type\\\": \\\"Point\\\", \\\"coordinates\\\": [5.73084191744462, 50.96777322355479]}\",\"{\\\"type\\\": \\\"Point\\\", \\\"coordinates\\\": [5.730665210331286, 50.966982728314896]}\",\"{\\\"type\\\": \\\"Point\\\", \\\"coordinates\\\": [5.729768210244004, 50.96695841926206]}\",\"{\\\"type\\\": \\\"Point\\\", \\\"coordinates\\\": [5.728933469516144, 50.96572941253324]}\",\"{\\\"type\\\": \\\"Point\\\", \\\"coordinates\\\": [5.73040169796583, 50.96600372414188]}\",\"{\\\"type\\\": \\\"Point\\\", \\\"coordinates\\\": [5.729283871353568, 50.96499129137007]}\",\"{\\\"type\\\": \\\"Point\\\", \\\"coordinates\\\": [5.730180031663303, 50.96490774028139]}\",\"{\\\"type\\\": \\\"Point\\\", \\\"coordinates\\\": [5.729644962501359, 50.963776728028854]}\",\"{\\\"type\\\": \\\"Point\\\", \\\"coordinates\\\": [5.726125240132986, 50.96518934714216]}\",\"{\\\"type\\\": \\\"Point\\\", \\\"coordinates\\\": [5.7275846347628, 50.96620080656532]}\",\"{\\\"type\\\": \\\"Point\\\", \\\"coordinates\\\": [5.728576465586246, 50.96750127075522]}\",\"{\\\"type\\\": \\\"Point\\\", \\\"coordinates\\\": [5.729934203699664, 50.96822535706035]}\",\"{\\\"type\\\": \\\"Point\\\", \\\"coordinates\\\": [5.745191690456101, 50.96231844753993]}\",\"{\\\"type\\\": \\\"Point\\\", \\\"coordinates\\\": [5.731867378433735, 50.96974772448132]}\",\"{\\\"type\\\": \\\"Point\\\", \\\"coordinates\\\": [5.759162623604555, 50.98799156465302]}\",\"{\\\"type\\\": \\\"Point\\\", \\\"coordinates\\\": [5.735620137001601, 50.97089605553014]}\",\"{\\\"type\\\": \\\"Point\\\", \\\"coordinates\\\": [5.736838309134274, 50.971962057992435]}\",\"{\\\"type\\\": \\\"Point\\\", \\\"coordinates\\\": [5.729156708192753, 50.96704112668872]}\",\"{\\\"type\\\": \\\"Point\\\", \\\"coordinates\\\": [5.728165800368948, 50.96586650874961]}\",\"{\\\"type\\\": \\\"Point\\\", \\\"coordinates\\\": [5.727040549307324, 50.96383833543935]}\",\"{\\\"type\\\": \\\"Point\\\", \\\"coordinates\\\": [5.726004688797623, 50.96234023240248]}\",\"{\\\"type\\\": \\\"Point\\\", \\\"coordinates\\\": [5.729224454146559, 50.96273526355798]}\",\"{\\\"type\\\": \\\"Point\\\", \\\"coordinates\\\": [5.72319018482882, 50.96286079966391]}\",\"{\\\"type\\\": \\\"Point\\\", \\\"coordinates\\\": [5.72456653372424, 50.96421411433296]}\",\"{\\\"type\\\": \\\"Point\\\", \\\"coordinates\\\": [5.736587326344702, 50.96137393715766]}\",\"{\\\"type\\\": \\\"Point\\\", \\\"coordinates\\\": [5.733081518088645, 50.96079119966074]}\",\"{\\\"type\\\": \\\"Point\\\", \\\"coordinates\\\": [5.734587990385906, 50.96427436668423]}\",\"{\\\"type\\\": \\\"Point\\\", \\\"coordinates\\\": [5.735412824020683, 50.966060672056024]}\",\"{\\\"type\\\": \\\"Point\\\", \\\"coordinates\\\": [5.733009258424531, 50.96634653067967]}\",\"{\\\"type\\\": \\\"Point\\\", \\\"coordinates\\\": [5.731394904411073, 50.965569310470975]}\",\"{\\\"type\\\": \\\"Point\\\", \\\"coordinates\\\": [5.731744071351678, 50.96276374788826]}\",\"{\\\"type\\\": \\\"Point\\\", \\\"coordinates\\\": [5.737612412546715, 50.96328546642317]}\",\"{\\\"type\\\": \\\"Point\\\", \\\"coordinates\\\": [5.739952382091762, 50.96401544712451]}\",\"{\\\"type\\\": \\\"Point\\\", \\\"coordinates\\\": [5.74278684261421, 50.96610118143772]}\",\"{\\\"type\\\": \\\"Point\\\", \\\"coordinates\\\": [5.744053881399243, 50.969800695217835]}\",\"{\\\"type\\\": \\\"Point\\\", \\\"coordinates\\\": [5.7454203696689685, 50.971612226372926]}\",\"{\\\"type\\\": \\\"Point\\\", \\\"coordinates\\\": [5.749540735244014, 50.972372448378174]}\",\"{\\\"type\\\": \\\"Point\\\", \\\"coordinates\\\": [5.747767521060008, 50.969546490840045]}\",\"{\\\"type\\\": \\\"Point\\\", \\\"coordinates\\\": [5.747013603167618, 50.9677960073605]}\",\"{\\\"type\\\": \\\"Point\\\", \\\"coordinates\\\": [5.744696371277224, 50.96636496701256]}\",\"{\\\"type\\\": \\\"Point\\\", \\\"coordinates\\\": [5.741387199334945, 50.967354923591024]}\",\"{\\\"type\\\": \\\"Point\\\", \\\"coordinates\\\": [5.739864669903062, 50.96744047091432]}\",\"{\\\"type\\\": \\\"Point\\\", \\\"coordinates\\\": [5.738214820177119, 50.969503933911994]}\",\"{\\\"type\\\": \\\"Point\\\", \\\"coordinates\\\": [5.739274773786346, 50.97035465762926]}\",\"{\\\"type\\\": \\\"Point\\\", \\\"coordinates\\\": [5.7390889007821695, 50.97211703972255]}\",\"{\\\"type\\\": \\\"Point\\\", \\\"coordinates\\\": [5.735229522680301, 50.971957915884964]}\",\"{\\\"type\\\": \\\"Point\\\", \\\"coordinates\\\": [5.73634968829575, 50.97323995074631]}\",\"{\\\"type\\\": \\\"Point\\\", \\\"coordinates\\\": [5.7380693833050165, 50.97471791478671]}\",\"{\\\"type\\\": \\\"Point\\\", \\\"coordinates\\\": [5.7476122910581084, 50.96242779257776]}\",\"{\\\"type\\\": \\\"Point\\\", \\\"coordinates\\\": [5.74545176314163, 50.97565711862678]}\",\"{\\\"type\\\": \\\"Point\\\", \\\"coordinates\\\": [5.74355004555877, 50.97461128940546]}\",\"{\\\"type\\\": \\\"Point\\\", \\\"coordinates\\\": [5.740260684397395, 50.976410149310325]}\",\"{\\\"type\\\": \\\"Point\\\", \\\"coordinates\\\": [5.738056282825542, 50.97674044852618]}\",\"{\\\"type\\\": \\\"Point\\\", \\\"coordinates\\\": [5.741016417366543, 50.97841235925492]}\",\"{\\\"type\\\": \\\"Point\\\", \\\"coordinates\\\": [5.746950462240393, 50.97978735069231]}\",\"{\\\"type\\\": \\\"Point\\\", \\\"coordinates\\\": [5.744687076676929, 50.97803254230738]}\",\"{\\\"type\\\": \\\"Point\\\", \\\"coordinates\\\": [5.749730800697625, 50.97663257647666]}\",\"{\\\"type\\\": \\\"Point\\\", \\\"coordinates\\\": [5.749949775671167, 50.975508282309235]}\",\"{\\\"type\\\": \\\"Point\\\", \\\"coordinates\\\": [5.748076085550668, 50.97441749504645]}\",\"{\\\"type\\\": \\\"Point\\\", \\\"coordinates\\\": [5.7555098020304785, 50.98712232908272]}\",\"{\\\"type\\\": \\\"Point\\\", \\\"coordinates\\\": [5.753186059734889, 50.98502630007287]}\",\"{\\\"type\\\": \\\"Point\\\", \\\"coordinates\\\": [5.745959728072044, 50.96957008407396]}\",\"{\\\"type\\\": \\\"Point\\\", \\\"coordinates\\\": [5.745614379455959, 50.97642965784425]}\",\"{\\\"type\\\": \\\"Point\\\", \\\"coordinates\\\": [5.756361105092538, 50.98494431204329]}\",\"{\\\"type\\\": \\\"Point\\\", \\\"coordinates\\\": [5.749784124429802, 50.97435822611774]}\",\"{\\\"type\\\": \\\"Point\\\", \\\"coordinates\\\": [5.741928185562481, 50.971065668031244]}\",\"{\\\"type\\\": \\\"Point\\\", \\\"coordinates\\\": [5.740570038522114, 50.97032374525311]}\",\"{\\\"type\\\": \\\"Point\\\", \\\"coordinates\\\": [5.742963926853747, 50.96876134112057]}\",\"{\\\"type\\\": \\\"Point\\\", \\\"coordinates\\\": [5.730532011630795, 50.96438534322504]}\",\"{\\\"type\\\": \\\"Point\\\", \\\"coordinates\\\": [5.729306744969263, 50.964236159703006]}\",\"{\\\"type\\\": \\\"Point\\\", \\\"coordinates\\\": [5.7300241393502604, 50.9630834637602]}\",\"{\\\"type\\\": \\\"Point\\\", \\\"coordinates\\\": [5.732147441275604, 50.959598468395555]}\",\"{\\\"type\\\": \\\"Point\\\", \\\"coordinates\\\": [5.735280383581161, 50.959822801241096]}\",\"{\\\"type\\\": \\\"Point\\\", \\\"coordinates\\\": [5.736609279568518, 50.958632268418626]}\",\"{\\\"type\\\": \\\"Point\\\", \\\"coordinates\\\": [5.735105876589793, 50.95744127793481]}\",\"{\\\"type\\\": \\\"Point\\\", \\\"coordinates\\\": [5.733573070869764, 50.95801217247905]}\",\"{\\\"type\\\": \\\"Point\\\", \\\"coordinates\\\": [5.7322532347161435, 50.95661385203215]}\",\"{\\\"type\\\": \\\"Point\\\", \\\"coordinates\\\": [5.7291092877765335, 50.95679396886497]}\",\"{\\\"type\\\": \\\"Point\\\", \\\"coordinates\\\": [5.72572798754482, 50.95760391457656]}\",\"{\\\"type\\\": \\\"Point\\\", \\\"coordinates\\\": [5.730699512884221, 50.958200511825886]}\",\"{\\\"type\\\": \\\"Point\\\", \\\"coordinates\\\": [5.729217913207587, 50.959930759254505]}\",\"{\\\"type\\\": \\\"Point\\\", \\\"coordinates\\\": [5.731416456905258, 50.96082312894543]}\",\"{\\\"type\\\": \\\"Point\\\", \\\"coordinates\\\": [5.730014728846313, 50.96181606262127]}\",\"{\\\"type\\\": \\\"Point\\\", \\\"coordinates\\\": [5.727026986288386, 50.96199565955479]}\",\"{\\\"type\\\": \\\"Point\\\", \\\"coordinates\\\": [5.735443658451969, 50.962599868019865]}\",\"{\\\"type\\\": \\\"Point\\\", \\\"coordinates\\\": [5.751955241398621, 50.96083215065749]}\"]\n",
       "},\n",
       "\"mapping\":{\n",
       "\"fill\":\"cadmium\"\n",
       "},\n",
       "\"data_meta\":{\n",
       "\"geodataframe\":{\n",
       "\"geometry\":\"geometry\"\n",
       "}\n",
       "},\n",
       "\"size\":2,\n",
       "\"shape\":21,\n",
       "\"color\":\"black\"\n",
       "}]\n",
       "}\n",
       "},{\n",
       "\"x\":495,\n",
       "\"y\":0,\n",
       "\"width\":480,\n",
       "\"height\":320,\n",
       "\"feature_spec\":{\n",
       "\"mapping\":{\n",
       "},\n",
       "\"data_meta\":{\n",
       "},\n",
       "\"kind\":\"plot\",\n",
       "\"scales\":[{\n",
       "\"aesthetic\":\"fill\",\n",
       "\"type\":\"seq\",\n",
       "\"palette\":\"Reds\",\n",
       "\"scale_mapper_kind\":\"color_brewer\"\n",
       "}],\n",
       "\"layers\":[{\n",
       "\"geom\":\"livemap\",\n",
       "\"mapping\":{\n",
       "},\n",
       "\"data_meta\":{\n",
       "},\n",
       "\"tiles\":{\n",
       "\"kind\":\"raster_zxy\",\n",
       "\"url\":\"https://stamen-tiles-[abcd].a.ssl.fastly.net/toner/{z}/{x}/{y}.png\",\n",
       "\"attribution\":\"Map tiles by <a href=\\\"http://stamen.com\\\">Stamen Design</a>, under <a href=\\\"http://creativecommons.org/licenses/by/3.0\\\">CC BY 3.0</a>. Data by <a href=\\\"http://openstreetmap.org\\\">OpenStreetMap</a>, under <a href=\\\"http://www.openstreetmap.org/copyright\\\">ODbL</a>.\",\n",
       "\"min_zoom\":1,\n",
       "\"max_zoom\":20\n",
       "},\n",
       "\"geocoding\":{\n",
       "\"url\":\"https://geo2.datalore.jetbrains.com/map_data/geocoding\"\n",
       "},\n",
       "\"data\":{\n",
       "}\n",
       "},{\n",
       "\"geom\":\"point\",\n",
       "\"data\":{\n",
       "\"copper\":[85.0,81.0,68.0,81.0,48.0,61.0,31.0,29.0,37.0,24.0,25.0,25.0,93.0,31.0,27.0,86.0,74.0,69.0,69.0,95.0,53.0,35.0,35.0,24.0,26.0,22.0,27.0,24.0,22.0,21.0,29.0,21.0,27.0,26.0,27.0,32.0,50.0,67.0,77.0,108.0,32.0,21.0,22.0,21.0,51.0,50.0,38.0,26.0,24.0,32.0,24.0,47.0,128.0,117.0,104.0,76.0,36.0,34.0,90.0,80.0,78.0,77.0,65.0,66.0,72.0,75.0,75.0,22.0,55.0,47.0,46.0,55.0,49.0,39.0,45.0,48.0,36.0,36.0,68.0,88.0,85.0,76.0,63.0,32.0,25.0,27.0,36.0,41.0,33.0,27.0,38.0,37.0,34.0,19.0,22.0,26.0,25.0,22.0,24.0,18.0,23.0,22.0,23.0,23.0,23.0,18.0,20.0,22.0,27.0,25.0,30.0,23.0,24.0,21.0,24.0,21.0,23.0,53.0,33.0,22.0,23.0,25.0,30.0,47.0,31.0,20.0,16.0,17.0,26.0,34.0,18.0,23.0,20.0,14.0,46.0,29.0,19.0,31.0,27.0,29.0,22.0,20.0,20.0,29.0,38.0,39.0,35.0,42.0,24.0,20.0,20.0,39.0,31.0,21.0,27.0],\n",
       "\"geometry\":[\"{\\\"type\\\": \\\"Point\\\", \\\"coordinates\\\": [5.758536241358085, 50.99156215671778]}\",\"{\\\"type\\\": \\\"Point\\\", \\\"coordinates\\\": [5.757863017883049, 50.991087902923226]}\",\"{\\\"type\\\": \\\"Point\\\", \\\"coordinates\\\": [5.759855417512949, 50.99089274337649]}\",\"{\\\"type\\\": \\\"Point\\\", \\\"coordinates\\\": [5.761745769705407, 50.99041023563286]}\",\"{\\\"type\\\": \\\"Point\\\", \\\"coordinates\\\": [5.761862707381168, 50.98902557095708]}\",\"{\\\"type\\\": \\\"Point\\\", \\\"coordinates\\\": [5.763039640982921, 50.98839253664887]}\",\"{\\\"type\\\": \\\"Point\\\", \\\"coordinates\\\": [5.75984329282049, 50.989391640706934]}\",\"{\\\"type\\\": \\\"Point\\\", \\\"coordinates\\\": [5.757877419534276, 50.98933502689312]}\",\"{\\\"type\\\": \\\"Point\\\", \\\"coordinates\\\": [5.758337853721926, 50.98814702134338]}\",\"{\\\"type\\\": \\\"Point\\\", \\\"coordinates\\\": [5.760782790779362, 50.9875728618997]}\",\"{\\\"type\\\": \\\"Point\\\", \\\"coordinates\\\": [5.760195049054255, 50.987098345980705]}\",\"{\\\"type\\\": \\\"Point\\\", \\\"coordinates\\\": [5.7579246494819385, 50.98635057042538]}\",\"{\\\"type\\\": \\\"Point\\\", \\\"coordinates\\\": [5.755696704062746, 50.98912625267952]}\",\"{\\\"type\\\": \\\"Point\\\", \\\"coordinates\\\": [5.757043398279614, 50.98833992841907]}\",\"{\\\"type\\\": \\\"Point\\\", \\\"coordinates\\\": [5.757634972816759, 50.98752005056761]}\",\"{\\\"type\\\": \\\"Point\\\", \\\"coordinates\\\": [5.75506340331458, 50.98829230093237]}\",\"{\\\"type\\\": \\\"Point\\\", \\\"coordinates\\\": [5.754099075385234, 50.98701894029337]}\",\"{\\\"type\\\": \\\"Point\\\", \\\"coordinates\\\": [5.753107032181696, 50.9858355480134]}\",\"{\\\"type\\\": \\\"Point\\\", \\\"coordinates\\\": [5.752115537495023, 50.98471506771109]}\",\"{\\\"type\\\": \\\"Point\\\", \\\"coordinates\\\": [5.751108787655798, 50.98345979394851]}\",\"{\\\"type\\\": \\\"Point\\\", \\\"coordinates\\\": [5.752347736439357, 50.98346488307418]}\",\"{\\\"type\\\": \\\"Point\\\", \\\"coordinates\\\": [5.753231256497299, 50.983542993816556]}\",\"{\\\"type\\\": \\\"Point\\\", \\\"coordinates\\\": [5.75322747760397, 50.98306659569488]}\",\"{\\\"type\\\": \\\"Point\\\", \\\"coordinates\\\": [5.759640102253008, 50.985392246184205]}\",\"{\\\"type\\\": \\\"Point\\\", \\\"coordinates\\\": [5.7595472604195646, 50.98447567977239]}\",\"{\\\"type\\\": \\\"Point\\\", \\\"coordinates\\\": [5.75982879953081, 50.98407027502434]}\",\"{\\\"type\\\": \\\"Point\\\", \\\"coordinates\\\": [5.757564542884561, 50.984068549295834]}\",\"{\\\"type\\\": \\\"Point\\\", \\\"coordinates\\\": [5.757059653246428, 50.98326116444435]}\",\"{\\\"type\\\": \\\"Point\\\", \\\"coordinates\\\": [5.756252723226065, 50.98385700413397]}\",\"{\\\"type\\\": \\\"Point\\\", \\\"coordinates\\\": [5.7624755081458146, 50.985571859677705]}\",\"{\\\"type\\\": \\\"Point\\\", \\\"coordinates\\\": [5.759329556706944, 50.982202194946176]}\",\"{\\\"type\\\": \\\"Point\\\", \\\"coordinates\\\": [5.755692649840071, 50.98148572581879]}\",\"{\\\"type\\\": \\\"Point\\\", \\\"coordinates\\\": [5.754992127244448, 50.98113738679508]}\",\"{\\\"type\\\": \\\"Point\\\", \\\"coordinates\\\": [5.756768362432966, 50.980673299633004]}\",\"{\\\"type\\\": \\\"Point\\\", \\\"coordinates\\\": [5.7567910096397, 50.97994512884859]}\",\"{\\\"type\\\": \\\"Point\\\", \\\"coordinates\\\": [5.75328909906964, 50.98006411864725]}\",\"{\\\"type\\\": \\\"Point\\\", \\\"coordinates\\\": [5.752186638286952, 50.981101318443194]}\",\"{\\\"type\\\": \\\"Point\\\", \\\"coordinates\\\": [5.7507408205002175, 50.98194183091395]}\",\"{\\\"type\\\": \\\"Point\\\", \\\"coordinates\\\": [5.75000319287152, 50.9823036988139]}\",\"{\\\"type\\\": \\\"Point\\\", \\\"coordinates\\\": [5.748643247617222, 50.981391086801814]}\",\"{\\\"type\\\": \\\"Point\\\", \\\"coordinates\\\": [5.750213490666505, 50.98007380059949]}\",\"{\\\"type\\\": \\\"Point\\\", \\\"coordinates\\\": [5.7511577870991895, 50.97883936173658]}\",\"{\\\"type\\\": \\\"Point\\\", \\\"coordinates\\\": [5.749590275995749, 50.97868247807214]}\",\"{\\\"type\\\": \\\"Point\\\", \\\"coordinates\\\": [5.748996350228412, 50.97738993831918]}\",\"{\\\"type\\\": \\\"Point\\\", \\\"coordinates\\\": [5.748232098985023, 50.97980133986306]}\",\"{\\\"type\\\": \\\"Point\\\", \\\"coordinates\\\": [5.747325091084467, 50.97852774498083]}\",\"{\\\"type\\\": \\\"Point\\\", \\\"coordinates\\\": [5.747186918723876, 50.9772427667127]}\",\"{\\\"type\\\": \\\"Point\\\", \\\"coordinates\\\": [5.747161954429742, 50.97586754778838]}\",\"{\\\"type\\\": \\\"Point\\\", \\\"coordinates\\\": [5.746980312301285, 50.97448382692278]}\",\"{\\\"type\\\": \\\"Point\\\", \\\"coordinates\\\": [5.745961365628163, 50.97344427996484]}\",\"{\\\"type\\\": \\\"Point\\\", \\\"coordinates\\\": [5.745047486649838, 50.973096542099576]}\",\"{\\\"type\\\": \\\"Point\\\", \\\"coordinates\\\": [5.7465555541636, 50.980273975595814]}\",\"{\\\"type\\\": \\\"Point\\\", \\\"coordinates\\\": [5.744643768607397, 50.97979449359688]}\",\"{\\\"type\\\": \\\"Point\\\", \\\"coordinates\\\": [5.742789808634666, 50.97942266896285]}\",\"{\\\"type\\\": \\\"Point\\\", \\\"coordinates\\\": [5.7406940971920895, 50.9790875083989]}\",\"{\\\"type\\\": \\\"Point\\\", \\\"coordinates\\\": [5.7387110920406705, 50.978590168394916]}\",\"{\\\"type\\\": \\\"Point\\\", \\\"coordinates\\\": [5.740197470241526, 50.97745305018122]}\",\"{\\\"type\\\": \\\"Point\\\", \\\"coordinates\\\": [5.741769051429365, 50.97814938015602]}\",\"{\\\"type\\\": \\\"Point\\\", \\\"coordinates\\\": [5.7445952046736535, 50.97903957879893]}\",\"{\\\"type\\\": \\\"Point\\\", \\\"coordinates\\\": [5.737522337728478, 50.97767690678625]}\",\"{\\\"type\\\": \\\"Point\\\", \\\"coordinates\\\": [5.736403391860635, 50.9765746564882]}\",\"{\\\"type\\\": \\\"Point\\\", \\\"coordinates\\\": [5.735950742791962, 50.975083869617805]}\",\"{\\\"type\\\": \\\"Point\\\", \\\"coordinates\\\": [5.7358560158877205, 50.973852680861306]}\",\"{\\\"type\\\": \\\"Point\\\", \\\"coordinates\\\": [5.734778829720905, 50.97260646765281]}\",\"{\\\"type\\\": \\\"Point\\\", \\\"coordinates\\\": [5.733631262493818, 50.97145933262255]}\",\"{\\\"type\\\": \\\"Point\\\", \\\"coordinates\\\": [5.732499736472149, 50.970545848869136]}\",\"{\\\"type\\\": \\\"Point\\\", \\\"coordinates\\\": [5.735551050327727, 50.969287257281614]}\",\"{\\\"type\\\": \\\"Point\\\", \\\"coordinates\\\": [5.738698217032391, 50.96755188434309]}\",\"{\\\"type\\\": \\\"Point\\\", \\\"coordinates\\\": [5.740966737946255, 50.96635844527372]}\",\"{\\\"type\\\": \\\"Point\\\", \\\"coordinates\\\": [5.73084191744462, 50.96777322355479]}\",\"{\\\"type\\\": \\\"Point\\\", \\\"coordinates\\\": [5.730665210331286, 50.966982728314896]}\",\"{\\\"type\\\": \\\"Point\\\", \\\"coordinates\\\": [5.729768210244004, 50.96695841926206]}\",\"{\\\"type\\\": \\\"Point\\\", \\\"coordinates\\\": [5.728933469516144, 50.96572941253324]}\",\"{\\\"type\\\": \\\"Point\\\", \\\"coordinates\\\": [5.73040169796583, 50.96600372414188]}\",\"{\\\"type\\\": \\\"Point\\\", \\\"coordinates\\\": [5.729283871353568, 50.96499129137007]}\",\"{\\\"type\\\": \\\"Point\\\", \\\"coordinates\\\": [5.730180031663303, 50.96490774028139]}\",\"{\\\"type\\\": \\\"Point\\\", \\\"coordinates\\\": [5.729644962501359, 50.963776728028854]}\",\"{\\\"type\\\": \\\"Point\\\", \\\"coordinates\\\": [5.726125240132986, 50.96518934714216]}\",\"{\\\"type\\\": \\\"Point\\\", \\\"coordinates\\\": [5.7275846347628, 50.96620080656532]}\",\"{\\\"type\\\": \\\"Point\\\", \\\"coordinates\\\": [5.728576465586246, 50.96750127075522]}\",\"{\\\"type\\\": \\\"Point\\\", \\\"coordinates\\\": [5.729934203699664, 50.96822535706035]}\",\"{\\\"type\\\": \\\"Point\\\", \\\"coordinates\\\": [5.745191690456101, 50.96231844753993]}\",\"{\\\"type\\\": \\\"Point\\\", \\\"coordinates\\\": [5.731867378433735, 50.96974772448132]}\",\"{\\\"type\\\": \\\"Point\\\", \\\"coordinates\\\": [5.759162623604555, 50.98799156465302]}\",\"{\\\"type\\\": \\\"Point\\\", \\\"coordinates\\\": [5.735620137001601, 50.97089605553014]}\",\"{\\\"type\\\": \\\"Point\\\", \\\"coordinates\\\": [5.736838309134274, 50.971962057992435]}\",\"{\\\"type\\\": \\\"Point\\\", \\\"coordinates\\\": [5.729156708192753, 50.96704112668872]}\",\"{\\\"type\\\": \\\"Point\\\", \\\"coordinates\\\": [5.728165800368948, 50.96586650874961]}\",\"{\\\"type\\\": \\\"Point\\\", \\\"coordinates\\\": [5.727040549307324, 50.96383833543935]}\",\"{\\\"type\\\": \\\"Point\\\", \\\"coordinates\\\": [5.726004688797623, 50.96234023240248]}\",\"{\\\"type\\\": \\\"Point\\\", \\\"coordinates\\\": [5.729224454146559, 50.96273526355798]}\",\"{\\\"type\\\": \\\"Point\\\", \\\"coordinates\\\": [5.72319018482882, 50.96286079966391]}\",\"{\\\"type\\\": \\\"Point\\\", \\\"coordinates\\\": [5.72456653372424, 50.96421411433296]}\",\"{\\\"type\\\": \\\"Point\\\", \\\"coordinates\\\": [5.736587326344702, 50.96137393715766]}\",\"{\\\"type\\\": \\\"Point\\\", \\\"coordinates\\\": [5.733081518088645, 50.96079119966074]}\",\"{\\\"type\\\": \\\"Point\\\", \\\"coordinates\\\": [5.734587990385906, 50.96427436668423]}\",\"{\\\"type\\\": \\\"Point\\\", \\\"coordinates\\\": [5.735412824020683, 50.966060672056024]}\",\"{\\\"type\\\": \\\"Point\\\", \\\"coordinates\\\": [5.733009258424531, 50.96634653067967]}\",\"{\\\"type\\\": \\\"Point\\\", \\\"coordinates\\\": [5.731394904411073, 50.965569310470975]}\",\"{\\\"type\\\": \\\"Point\\\", \\\"coordinates\\\": [5.731744071351678, 50.96276374788826]}\",\"{\\\"type\\\": \\\"Point\\\", \\\"coordinates\\\": [5.737612412546715, 50.96328546642317]}\",\"{\\\"type\\\": \\\"Point\\\", \\\"coordinates\\\": [5.739952382091762, 50.96401544712451]}\",\"{\\\"type\\\": \\\"Point\\\", \\\"coordinates\\\": [5.74278684261421, 50.96610118143772]}\",\"{\\\"type\\\": \\\"Point\\\", \\\"coordinates\\\": [5.744053881399243, 50.969800695217835]}\",\"{\\\"type\\\": \\\"Point\\\", \\\"coordinates\\\": [5.7454203696689685, 50.971612226372926]}\",\"{\\\"type\\\": \\\"Point\\\", \\\"coordinates\\\": [5.749540735244014, 50.972372448378174]}\",\"{\\\"type\\\": \\\"Point\\\", \\\"coordinates\\\": [5.747767521060008, 50.969546490840045]}\",\"{\\\"type\\\": \\\"Point\\\", \\\"coordinates\\\": [5.747013603167618, 50.9677960073605]}\",\"{\\\"type\\\": \\\"Point\\\", \\\"coordinates\\\": [5.744696371277224, 50.96636496701256]}\",\"{\\\"type\\\": \\\"Point\\\", \\\"coordinates\\\": [5.741387199334945, 50.967354923591024]}\",\"{\\\"type\\\": \\\"Point\\\", \\\"coordinates\\\": [5.739864669903062, 50.96744047091432]}\",\"{\\\"type\\\": \\\"Point\\\", \\\"coordinates\\\": [5.738214820177119, 50.969503933911994]}\",\"{\\\"type\\\": \\\"Point\\\", \\\"coordinates\\\": [5.739274773786346, 50.97035465762926]}\",\"{\\\"type\\\": \\\"Point\\\", \\\"coordinates\\\": [5.7390889007821695, 50.97211703972255]}\",\"{\\\"type\\\": \\\"Point\\\", \\\"coordinates\\\": [5.735229522680301, 50.971957915884964]}\",\"{\\\"type\\\": \\\"Point\\\", \\\"coordinates\\\": [5.73634968829575, 50.97323995074631]}\",\"{\\\"type\\\": \\\"Point\\\", \\\"coordinates\\\": [5.7380693833050165, 50.97471791478671]}\",\"{\\\"type\\\": \\\"Point\\\", \\\"coordinates\\\": [5.7476122910581084, 50.96242779257776]}\",\"{\\\"type\\\": \\\"Point\\\", \\\"coordinates\\\": [5.74545176314163, 50.97565711862678]}\",\"{\\\"type\\\": \\\"Point\\\", \\\"coordinates\\\": [5.74355004555877, 50.97461128940546]}\",\"{\\\"type\\\": \\\"Point\\\", \\\"coordinates\\\": [5.740260684397395, 50.976410149310325]}\",\"{\\\"type\\\": \\\"Point\\\", \\\"coordinates\\\": [5.738056282825542, 50.97674044852618]}\",\"{\\\"type\\\": \\\"Point\\\", \\\"coordinates\\\": [5.741016417366543, 50.97841235925492]}\",\"{\\\"type\\\": \\\"Point\\\", \\\"coordinates\\\": [5.746950462240393, 50.97978735069231]}\",\"{\\\"type\\\": \\\"Point\\\", \\\"coordinates\\\": [5.744687076676929, 50.97803254230738]}\",\"{\\\"type\\\": \\\"Point\\\", \\\"coordinates\\\": [5.749730800697625, 50.97663257647666]}\",\"{\\\"type\\\": \\\"Point\\\", \\\"coordinates\\\": [5.749949775671167, 50.975508282309235]}\",\"{\\\"type\\\": \\\"Point\\\", \\\"coordinates\\\": [5.748076085550668, 50.97441749504645]}\",\"{\\\"type\\\": \\\"Point\\\", \\\"coordinates\\\": [5.7555098020304785, 50.98712232908272]}\",\"{\\\"type\\\": \\\"Point\\\", \\\"coordinates\\\": [5.753186059734889, 50.98502630007287]}\",\"{\\\"type\\\": \\\"Point\\\", \\\"coordinates\\\": [5.745959728072044, 50.96957008407396]}\",\"{\\\"type\\\": \\\"Point\\\", \\\"coordinates\\\": [5.745614379455959, 50.97642965784425]}\",\"{\\\"type\\\": \\\"Point\\\", \\\"coordinates\\\": [5.756361105092538, 50.98494431204329]}\",\"{\\\"type\\\": \\\"Point\\\", \\\"coordinates\\\": [5.749784124429802, 50.97435822611774]}\",\"{\\\"type\\\": \\\"Point\\\", \\\"coordinates\\\": [5.741928185562481, 50.971065668031244]}\",\"{\\\"type\\\": \\\"Point\\\", \\\"coordinates\\\": [5.740570038522114, 50.97032374525311]}\",\"{\\\"type\\\": \\\"Point\\\", \\\"coordinates\\\": [5.742963926853747, 50.96876134112057]}\",\"{\\\"type\\\": \\\"Point\\\", \\\"coordinates\\\": [5.730532011630795, 50.96438534322504]}\",\"{\\\"type\\\": \\\"Point\\\", \\\"coordinates\\\": [5.729306744969263, 50.964236159703006]}\",\"{\\\"type\\\": \\\"Point\\\", \\\"coordinates\\\": [5.7300241393502604, 50.9630834637602]}\",\"{\\\"type\\\": \\\"Point\\\", \\\"coordinates\\\": [5.732147441275604, 50.959598468395555]}\",\"{\\\"type\\\": \\\"Point\\\", \\\"coordinates\\\": [5.735280383581161, 50.959822801241096]}\",\"{\\\"type\\\": \\\"Point\\\", \\\"coordinates\\\": [5.736609279568518, 50.958632268418626]}\",\"{\\\"type\\\": \\\"Point\\\", \\\"coordinates\\\": [5.735105876589793, 50.95744127793481]}\",\"{\\\"type\\\": \\\"Point\\\", \\\"coordinates\\\": [5.733573070869764, 50.95801217247905]}\",\"{\\\"type\\\": \\\"Point\\\", \\\"coordinates\\\": [5.7322532347161435, 50.95661385203215]}\",\"{\\\"type\\\": \\\"Point\\\", \\\"coordinates\\\": [5.7291092877765335, 50.95679396886497]}\",\"{\\\"type\\\": \\\"Point\\\", \\\"coordinates\\\": [5.72572798754482, 50.95760391457656]}\",\"{\\\"type\\\": \\\"Point\\\", \\\"coordinates\\\": [5.730699512884221, 50.958200511825886]}\",\"{\\\"type\\\": \\\"Point\\\", \\\"coordinates\\\": [5.729217913207587, 50.959930759254505]}\",\"{\\\"type\\\": \\\"Point\\\", \\\"coordinates\\\": [5.731416456905258, 50.96082312894543]}\",\"{\\\"type\\\": \\\"Point\\\", \\\"coordinates\\\": [5.730014728846313, 50.96181606262127]}\",\"{\\\"type\\\": \\\"Point\\\", \\\"coordinates\\\": [5.727026986288386, 50.96199565955479]}\",\"{\\\"type\\\": \\\"Point\\\", \\\"coordinates\\\": [5.735443658451969, 50.962599868019865]}\",\"{\\\"type\\\": \\\"Point\\\", \\\"coordinates\\\": [5.751955241398621, 50.96083215065749]}\"]\n",
       "},\n",
       "\"mapping\":{\n",
       "\"fill\":\"copper\"\n",
       "},\n",
       "\"data_meta\":{\n",
       "\"geodataframe\":{\n",
       "\"geometry\":\"geometry\"\n",
       "}\n",
       "},\n",
       "\"size\":2,\n",
       "\"shape\":21,\n",
       "\"color\":\"black\"\n",
       "}]\n",
       "}\n",
       "},{\n",
       "\"x\":0,\n",
       "\"y\":335,\n",
       "\"width\":480,\n",
       "\"height\":320,\n",
       "\"feature_spec\":{\n",
       "\"mapping\":{\n",
       "},\n",
       "\"data_meta\":{\n",
       "},\n",
       "\"kind\":\"plot\",\n",
       "\"scales\":[{\n",
       "\"aesthetic\":\"fill\",\n",
       "\"type\":\"seq\",\n",
       "\"palette\":\"Reds\",\n",
       "\"scale_mapper_kind\":\"color_brewer\"\n",
       "}],\n",
       "\"layers\":[{\n",
       "\"geom\":\"livemap\",\n",
       "\"mapping\":{\n",
       "},\n",
       "\"data_meta\":{\n",
       "},\n",
       "\"tiles\":{\n",
       "\"kind\":\"raster_zxy\",\n",
       "\"url\":\"https://stamen-tiles-[abcd].a.ssl.fastly.net/toner/{z}/{x}/{y}.png\",\n",
       "\"attribution\":\"Map tiles by <a href=\\\"http://stamen.com\\\">Stamen Design</a>, under <a href=\\\"http://creativecommons.org/licenses/by/3.0\\\">CC BY 3.0</a>. Data by <a href=\\\"http://openstreetmap.org\\\">OpenStreetMap</a>, under <a href=\\\"http://www.openstreetmap.org/copyright\\\">ODbL</a>.\",\n",
       "\"min_zoom\":1,\n",
       "\"max_zoom\":20\n",
       "},\n",
       "\"geocoding\":{\n",
       "\"url\":\"https://geo2.datalore.jetbrains.com/map_data/geocoding\"\n",
       "},\n",
       "\"data\":{\n",
       "}\n",
       "},{\n",
       "\"geom\":\"point\",\n",
       "\"data\":{\n",
       "\"lead\":[299.0,277.0,199.0,116.0,117.0,137.0,132.0,150.0,133.0,80.0,86.0,97.0,285.0,183.0,130.0,240.0,133.0,148.0,207.0,284.0,194.0,123.0,110.0,85.0,75.0,76.0,73.0,67.0,87.0,65.0,78.0,64.0,77.0,80.0,82.0,97.0,166.0,217.0,219.0,405.0,102.0,48.0,65.0,62.0,281.0,294.0,211.0,135.0,112.0,162.0,94.0,191.0,405.0,654.0,482.0,276.0,180.0,207.0,541.0,310.0,210.0,158.0,141.0,144.0,181.0,173.0,399.0,45.0,325.0,268.0,252.0,315.0,260.0,237.0,228.0,241.0,201.0,204.0,429.0,462.0,333.0,464.0,159.0,116.0,81.0,131.0,216.0,145.0,163.0,129.0,148.0,214.0,226.0,54.0,70.0,73.0,87.0,76.0,81.0,68.0,66.0,49.0,63.0,48.0,51.0,50.0,39.0,48.0,64.0,84.0,67.0,49.0,48.0,56.0,65.0,84.0,75.0,250.0,81.0,72.0,86.0,94.0,244.0,297.0,96.0,56.0,49.0,50.0,148.0,162.0,37.0,80.0,80.0,49.0,42.0,48.0,41.0,73.0,146.0,95.0,72.0,51.0,54.0,136.0,170.0,179.0,200.0,258.0,93.0,68.0,49.0,173.0,119.0,51.0,124.0],\n",
       "\"geometry\":[\"{\\\"type\\\": \\\"Point\\\", \\\"coordinates\\\": [5.758536241358085, 50.99156215671778]}\",\"{\\\"type\\\": \\\"Point\\\", \\\"coordinates\\\": [5.757863017883049, 50.991087902923226]}\",\"{\\\"type\\\": \\\"Point\\\", \\\"coordinates\\\": [5.759855417512949, 50.99089274337649]}\",\"{\\\"type\\\": \\\"Point\\\", \\\"coordinates\\\": [5.761745769705407, 50.99041023563286]}\",\"{\\\"type\\\": \\\"Point\\\", \\\"coordinates\\\": [5.761862707381168, 50.98902557095708]}\",\"{\\\"type\\\": \\\"Point\\\", \\\"coordinates\\\": [5.763039640982921, 50.98839253664887]}\",\"{\\\"type\\\": \\\"Point\\\", \\\"coordinates\\\": [5.75984329282049, 50.989391640706934]}\",\"{\\\"type\\\": \\\"Point\\\", \\\"coordinates\\\": [5.757877419534276, 50.98933502689312]}\",\"{\\\"type\\\": \\\"Point\\\", \\\"coordinates\\\": [5.758337853721926, 50.98814702134338]}\",\"{\\\"type\\\": \\\"Point\\\", \\\"coordinates\\\": [5.760782790779362, 50.9875728618997]}\",\"{\\\"type\\\": \\\"Point\\\", \\\"coordinates\\\": [5.760195049054255, 50.987098345980705]}\",\"{\\\"type\\\": \\\"Point\\\", \\\"coordinates\\\": [5.7579246494819385, 50.98635057042538]}\",\"{\\\"type\\\": \\\"Point\\\", \\\"coordinates\\\": [5.755696704062746, 50.98912625267952]}\",\"{\\\"type\\\": \\\"Point\\\", \\\"coordinates\\\": [5.757043398279614, 50.98833992841907]}\",\"{\\\"type\\\": \\\"Point\\\", \\\"coordinates\\\": [5.757634972816759, 50.98752005056761]}\",\"{\\\"type\\\": \\\"Point\\\", \\\"coordinates\\\": [5.75506340331458, 50.98829230093237]}\",\"{\\\"type\\\": \\\"Point\\\", \\\"coordinates\\\": [5.754099075385234, 50.98701894029337]}\",\"{\\\"type\\\": \\\"Point\\\", \\\"coordinates\\\": [5.753107032181696, 50.9858355480134]}\",\"{\\\"type\\\": \\\"Point\\\", \\\"coordinates\\\": [5.752115537495023, 50.98471506771109]}\",\"{\\\"type\\\": \\\"Point\\\", \\\"coordinates\\\": [5.751108787655798, 50.98345979394851]}\",\"{\\\"type\\\": \\\"Point\\\", \\\"coordinates\\\": [5.752347736439357, 50.98346488307418]}\",\"{\\\"type\\\": \\\"Point\\\", \\\"coordinates\\\": [5.753231256497299, 50.983542993816556]}\",\"{\\\"type\\\": \\\"Point\\\", \\\"coordinates\\\": [5.75322747760397, 50.98306659569488]}\",\"{\\\"type\\\": \\\"Point\\\", \\\"coordinates\\\": [5.759640102253008, 50.985392246184205]}\",\"{\\\"type\\\": \\\"Point\\\", \\\"coordinates\\\": [5.7595472604195646, 50.98447567977239]}\",\"{\\\"type\\\": \\\"Point\\\", \\\"coordinates\\\": [5.75982879953081, 50.98407027502434]}\",\"{\\\"type\\\": \\\"Point\\\", \\\"coordinates\\\": [5.757564542884561, 50.984068549295834]}\",\"{\\\"type\\\": \\\"Point\\\", \\\"coordinates\\\": [5.757059653246428, 50.98326116444435]}\",\"{\\\"type\\\": \\\"Point\\\", \\\"coordinates\\\": [5.756252723226065, 50.98385700413397]}\",\"{\\\"type\\\": \\\"Point\\\", \\\"coordinates\\\": [5.7624755081458146, 50.985571859677705]}\",\"{\\\"type\\\": \\\"Point\\\", \\\"coordinates\\\": [5.759329556706944, 50.982202194946176]}\",\"{\\\"type\\\": \\\"Point\\\", \\\"coordinates\\\": [5.755692649840071, 50.98148572581879]}\",\"{\\\"type\\\": \\\"Point\\\", \\\"coordinates\\\": [5.754992127244448, 50.98113738679508]}\",\"{\\\"type\\\": \\\"Point\\\", \\\"coordinates\\\": [5.756768362432966, 50.980673299633004]}\",\"{\\\"type\\\": \\\"Point\\\", \\\"coordinates\\\": [5.7567910096397, 50.97994512884859]}\",\"{\\\"type\\\": \\\"Point\\\", \\\"coordinates\\\": [5.75328909906964, 50.98006411864725]}\",\"{\\\"type\\\": \\\"Point\\\", \\\"coordinates\\\": [5.752186638286952, 50.981101318443194]}\",\"{\\\"type\\\": \\\"Point\\\", \\\"coordinates\\\": [5.7507408205002175, 50.98194183091395]}\",\"{\\\"type\\\": \\\"Point\\\", \\\"coordinates\\\": [5.75000319287152, 50.9823036988139]}\",\"{\\\"type\\\": \\\"Point\\\", \\\"coordinates\\\": [5.748643247617222, 50.981391086801814]}\",\"{\\\"type\\\": \\\"Point\\\", \\\"coordinates\\\": [5.750213490666505, 50.98007380059949]}\",\"{\\\"type\\\": \\\"Point\\\", \\\"coordinates\\\": [5.7511577870991895, 50.97883936173658]}\",\"{\\\"type\\\": \\\"Point\\\", \\\"coordinates\\\": [5.749590275995749, 50.97868247807214]}\",\"{\\\"type\\\": \\\"Point\\\", \\\"coordinates\\\": [5.748996350228412, 50.97738993831918]}\",\"{\\\"type\\\": \\\"Point\\\", \\\"coordinates\\\": [5.748232098985023, 50.97980133986306]}\",\"{\\\"type\\\": \\\"Point\\\", \\\"coordinates\\\": [5.747325091084467, 50.97852774498083]}\",\"{\\\"type\\\": \\\"Point\\\", \\\"coordinates\\\": [5.747186918723876, 50.9772427667127]}\",\"{\\\"type\\\": \\\"Point\\\", \\\"coordinates\\\": [5.747161954429742, 50.97586754778838]}\",\"{\\\"type\\\": \\\"Point\\\", \\\"coordinates\\\": [5.746980312301285, 50.97448382692278]}\",\"{\\\"type\\\": \\\"Point\\\", \\\"coordinates\\\": [5.745961365628163, 50.97344427996484]}\",\"{\\\"type\\\": \\\"Point\\\", \\\"coordinates\\\": [5.745047486649838, 50.973096542099576]}\",\"{\\\"type\\\": \\\"Point\\\", \\\"coordinates\\\": [5.7465555541636, 50.980273975595814]}\",\"{\\\"type\\\": \\\"Point\\\", \\\"coordinates\\\": [5.744643768607397, 50.97979449359688]}\",\"{\\\"type\\\": \\\"Point\\\", \\\"coordinates\\\": [5.742789808634666, 50.97942266896285]}\",\"{\\\"type\\\": \\\"Point\\\", \\\"coordinates\\\": [5.7406940971920895, 50.9790875083989]}\",\"{\\\"type\\\": \\\"Point\\\", \\\"coordinates\\\": [5.7387110920406705, 50.978590168394916]}\",\"{\\\"type\\\": \\\"Point\\\", \\\"coordinates\\\": [5.740197470241526, 50.97745305018122]}\",\"{\\\"type\\\": \\\"Point\\\", \\\"coordinates\\\": [5.741769051429365, 50.97814938015602]}\",\"{\\\"type\\\": \\\"Point\\\", \\\"coordinates\\\": [5.7445952046736535, 50.97903957879893]}\",\"{\\\"type\\\": \\\"Point\\\", \\\"coordinates\\\": [5.737522337728478, 50.97767690678625]}\",\"{\\\"type\\\": \\\"Point\\\", \\\"coordinates\\\": [5.736403391860635, 50.9765746564882]}\",\"{\\\"type\\\": \\\"Point\\\", \\\"coordinates\\\": [5.735950742791962, 50.975083869617805]}\",\"{\\\"type\\\": \\\"Point\\\", \\\"coordinates\\\": [5.7358560158877205, 50.973852680861306]}\",\"{\\\"type\\\": \\\"Point\\\", \\\"coordinates\\\": [5.734778829720905, 50.97260646765281]}\",\"{\\\"type\\\": \\\"Point\\\", \\\"coordinates\\\": [5.733631262493818, 50.97145933262255]}\",\"{\\\"type\\\": \\\"Point\\\", \\\"coordinates\\\": [5.732499736472149, 50.970545848869136]}\",\"{\\\"type\\\": \\\"Point\\\", \\\"coordinates\\\": [5.735551050327727, 50.969287257281614]}\",\"{\\\"type\\\": \\\"Point\\\", \\\"coordinates\\\": [5.738698217032391, 50.96755188434309]}\",\"{\\\"type\\\": \\\"Point\\\", \\\"coordinates\\\": [5.740966737946255, 50.96635844527372]}\",\"{\\\"type\\\": \\\"Point\\\", \\\"coordinates\\\": [5.73084191744462, 50.96777322355479]}\",\"{\\\"type\\\": \\\"Point\\\", \\\"coordinates\\\": [5.730665210331286, 50.966982728314896]}\",\"{\\\"type\\\": \\\"Point\\\", \\\"coordinates\\\": [5.729768210244004, 50.96695841926206]}\",\"{\\\"type\\\": \\\"Point\\\", \\\"coordinates\\\": [5.728933469516144, 50.96572941253324]}\",\"{\\\"type\\\": \\\"Point\\\", \\\"coordinates\\\": [5.73040169796583, 50.96600372414188]}\",\"{\\\"type\\\": \\\"Point\\\", \\\"coordinates\\\": [5.729283871353568, 50.96499129137007]}\",\"{\\\"type\\\": \\\"Point\\\", \\\"coordinates\\\": [5.730180031663303, 50.96490774028139]}\",\"{\\\"type\\\": \\\"Point\\\", \\\"coordinates\\\": [5.729644962501359, 50.963776728028854]}\",\"{\\\"type\\\": \\\"Point\\\", \\\"coordinates\\\": [5.726125240132986, 50.96518934714216]}\",\"{\\\"type\\\": \\\"Point\\\", \\\"coordinates\\\": [5.7275846347628, 50.96620080656532]}\",\"{\\\"type\\\": \\\"Point\\\", \\\"coordinates\\\": [5.728576465586246, 50.96750127075522]}\",\"{\\\"type\\\": \\\"Point\\\", \\\"coordinates\\\": [5.729934203699664, 50.96822535706035]}\",\"{\\\"type\\\": \\\"Point\\\", \\\"coordinates\\\": [5.745191690456101, 50.96231844753993]}\",\"{\\\"type\\\": \\\"Point\\\", \\\"coordinates\\\": [5.731867378433735, 50.96974772448132]}\",\"{\\\"type\\\": \\\"Point\\\", \\\"coordinates\\\": [5.759162623604555, 50.98799156465302]}\",\"{\\\"type\\\": \\\"Point\\\", \\\"coordinates\\\": [5.735620137001601, 50.97089605553014]}\",\"{\\\"type\\\": \\\"Point\\\", \\\"coordinates\\\": [5.736838309134274, 50.971962057992435]}\",\"{\\\"type\\\": \\\"Point\\\", \\\"coordinates\\\": [5.729156708192753, 50.96704112668872]}\",\"{\\\"type\\\": \\\"Point\\\", \\\"coordinates\\\": [5.728165800368948, 50.96586650874961]}\",\"{\\\"type\\\": \\\"Point\\\", \\\"coordinates\\\": [5.727040549307324, 50.96383833543935]}\",\"{\\\"type\\\": \\\"Point\\\", \\\"coordinates\\\": [5.726004688797623, 50.96234023240248]}\",\"{\\\"type\\\": \\\"Point\\\", \\\"coordinates\\\": [5.729224454146559, 50.96273526355798]}\",\"{\\\"type\\\": \\\"Point\\\", \\\"coordinates\\\": [5.72319018482882, 50.96286079966391]}\",\"{\\\"type\\\": \\\"Point\\\", \\\"coordinates\\\": [5.72456653372424, 50.96421411433296]}\",\"{\\\"type\\\": \\\"Point\\\", \\\"coordinates\\\": [5.736587326344702, 50.96137393715766]}\",\"{\\\"type\\\": \\\"Point\\\", \\\"coordinates\\\": [5.733081518088645, 50.96079119966074]}\",\"{\\\"type\\\": \\\"Point\\\", \\\"coordinates\\\": [5.734587990385906, 50.96427436668423]}\",\"{\\\"type\\\": \\\"Point\\\", \\\"coordinates\\\": [5.735412824020683, 50.966060672056024]}\",\"{\\\"type\\\": \\\"Point\\\", \\\"coordinates\\\": [5.733009258424531, 50.96634653067967]}\",\"{\\\"type\\\": \\\"Point\\\", \\\"coordinates\\\": [5.731394904411073, 50.965569310470975]}\",\"{\\\"type\\\": \\\"Point\\\", \\\"coordinates\\\": [5.731744071351678, 50.96276374788826]}\",\"{\\\"type\\\": \\\"Point\\\", \\\"coordinates\\\": [5.737612412546715, 50.96328546642317]}\",\"{\\\"type\\\": \\\"Point\\\", \\\"coordinates\\\": [5.739952382091762, 50.96401544712451]}\",\"{\\\"type\\\": \\\"Point\\\", \\\"coordinates\\\": [5.74278684261421, 50.96610118143772]}\",\"{\\\"type\\\": \\\"Point\\\", \\\"coordinates\\\": [5.744053881399243, 50.969800695217835]}\",\"{\\\"type\\\": \\\"Point\\\", \\\"coordinates\\\": [5.7454203696689685, 50.971612226372926]}\",\"{\\\"type\\\": \\\"Point\\\", \\\"coordinates\\\": [5.749540735244014, 50.972372448378174]}\",\"{\\\"type\\\": \\\"Point\\\", \\\"coordinates\\\": [5.747767521060008, 50.969546490840045]}\",\"{\\\"type\\\": \\\"Point\\\", \\\"coordinates\\\": [5.747013603167618, 50.9677960073605]}\",\"{\\\"type\\\": \\\"Point\\\", \\\"coordinates\\\": [5.744696371277224, 50.96636496701256]}\",\"{\\\"type\\\": \\\"Point\\\", \\\"coordinates\\\": [5.741387199334945, 50.967354923591024]}\",\"{\\\"type\\\": \\\"Point\\\", \\\"coordinates\\\": [5.739864669903062, 50.96744047091432]}\",\"{\\\"type\\\": \\\"Point\\\", \\\"coordinates\\\": [5.738214820177119, 50.969503933911994]}\",\"{\\\"type\\\": \\\"Point\\\", \\\"coordinates\\\": [5.739274773786346, 50.97035465762926]}\",\"{\\\"type\\\": \\\"Point\\\", \\\"coordinates\\\": [5.7390889007821695, 50.97211703972255]}\",\"{\\\"type\\\": \\\"Point\\\", \\\"coordinates\\\": [5.735229522680301, 50.971957915884964]}\",\"{\\\"type\\\": \\\"Point\\\", \\\"coordinates\\\": [5.73634968829575, 50.97323995074631]}\",\"{\\\"type\\\": \\\"Point\\\", \\\"coordinates\\\": [5.7380693833050165, 50.97471791478671]}\",\"{\\\"type\\\": \\\"Point\\\", \\\"coordinates\\\": [5.7476122910581084, 50.96242779257776]}\",\"{\\\"type\\\": \\\"Point\\\", \\\"coordinates\\\": [5.74545176314163, 50.97565711862678]}\",\"{\\\"type\\\": \\\"Point\\\", \\\"coordinates\\\": [5.74355004555877, 50.97461128940546]}\",\"{\\\"type\\\": \\\"Point\\\", \\\"coordinates\\\": [5.740260684397395, 50.976410149310325]}\",\"{\\\"type\\\": \\\"Point\\\", \\\"coordinates\\\": [5.738056282825542, 50.97674044852618]}\",\"{\\\"type\\\": \\\"Point\\\", \\\"coordinates\\\": [5.741016417366543, 50.97841235925492]}\",\"{\\\"type\\\": \\\"Point\\\", \\\"coordinates\\\": [5.746950462240393, 50.97978735069231]}\",\"{\\\"type\\\": \\\"Point\\\", \\\"coordinates\\\": [5.744687076676929, 50.97803254230738]}\",\"{\\\"type\\\": \\\"Point\\\", \\\"coordinates\\\": [5.749730800697625, 50.97663257647666]}\",\"{\\\"type\\\": \\\"Point\\\", \\\"coordinates\\\": [5.749949775671167, 50.975508282309235]}\",\"{\\\"type\\\": \\\"Point\\\", \\\"coordinates\\\": [5.748076085550668, 50.97441749504645]}\",\"{\\\"type\\\": \\\"Point\\\", \\\"coordinates\\\": [5.7555098020304785, 50.98712232908272]}\",\"{\\\"type\\\": \\\"Point\\\", \\\"coordinates\\\": [5.753186059734889, 50.98502630007287]}\",\"{\\\"type\\\": \\\"Point\\\", \\\"coordinates\\\": [5.745959728072044, 50.96957008407396]}\",\"{\\\"type\\\": \\\"Point\\\", \\\"coordinates\\\": [5.745614379455959, 50.97642965784425]}\",\"{\\\"type\\\": \\\"Point\\\", \\\"coordinates\\\": [5.756361105092538, 50.98494431204329]}\",\"{\\\"type\\\": \\\"Point\\\", \\\"coordinates\\\": [5.749784124429802, 50.97435822611774]}\",\"{\\\"type\\\": \\\"Point\\\", \\\"coordinates\\\": [5.741928185562481, 50.971065668031244]}\",\"{\\\"type\\\": \\\"Point\\\", \\\"coordinates\\\": [5.740570038522114, 50.97032374525311]}\",\"{\\\"type\\\": \\\"Point\\\", \\\"coordinates\\\": [5.742963926853747, 50.96876134112057]}\",\"{\\\"type\\\": \\\"Point\\\", \\\"coordinates\\\": [5.730532011630795, 50.96438534322504]}\",\"{\\\"type\\\": \\\"Point\\\", \\\"coordinates\\\": [5.729306744969263, 50.964236159703006]}\",\"{\\\"type\\\": \\\"Point\\\", \\\"coordinates\\\": [5.7300241393502604, 50.9630834637602]}\",\"{\\\"type\\\": \\\"Point\\\", \\\"coordinates\\\": [5.732147441275604, 50.959598468395555]}\",\"{\\\"type\\\": \\\"Point\\\", \\\"coordinates\\\": [5.735280383581161, 50.959822801241096]}\",\"{\\\"type\\\": \\\"Point\\\", \\\"coordinates\\\": [5.736609279568518, 50.958632268418626]}\",\"{\\\"type\\\": \\\"Point\\\", \\\"coordinates\\\": [5.735105876589793, 50.95744127793481]}\",\"{\\\"type\\\": \\\"Point\\\", \\\"coordinates\\\": [5.733573070869764, 50.95801217247905]}\",\"{\\\"type\\\": \\\"Point\\\", \\\"coordinates\\\": [5.7322532347161435, 50.95661385203215]}\",\"{\\\"type\\\": \\\"Point\\\", \\\"coordinates\\\": [5.7291092877765335, 50.95679396886497]}\",\"{\\\"type\\\": \\\"Point\\\", \\\"coordinates\\\": [5.72572798754482, 50.95760391457656]}\",\"{\\\"type\\\": \\\"Point\\\", \\\"coordinates\\\": [5.730699512884221, 50.958200511825886]}\",\"{\\\"type\\\": \\\"Point\\\", \\\"coordinates\\\": [5.729217913207587, 50.959930759254505]}\",\"{\\\"type\\\": \\\"Point\\\", \\\"coordinates\\\": [5.731416456905258, 50.96082312894543]}\",\"{\\\"type\\\": \\\"Point\\\", \\\"coordinates\\\": [5.730014728846313, 50.96181606262127]}\",\"{\\\"type\\\": \\\"Point\\\", \\\"coordinates\\\": [5.727026986288386, 50.96199565955479]}\",\"{\\\"type\\\": \\\"Point\\\", \\\"coordinates\\\": [5.735443658451969, 50.962599868019865]}\",\"{\\\"type\\\": \\\"Point\\\", \\\"coordinates\\\": [5.751955241398621, 50.96083215065749]}\"]\n",
       "},\n",
       "\"mapping\":{\n",
       "\"fill\":\"lead\"\n",
       "},\n",
       "\"data_meta\":{\n",
       "\"geodataframe\":{\n",
       "\"geometry\":\"geometry\"\n",
       "}\n",
       "},\n",
       "\"size\":2,\n",
       "\"shape\":21,\n",
       "\"color\":\"black\"\n",
       "}]\n",
       "}\n",
       "},{\n",
       "\"x\":495,\n",
       "\"y\":335,\n",
       "\"width\":480,\n",
       "\"height\":320,\n",
       "\"feature_spec\":{\n",
       "\"mapping\":{\n",
       "},\n",
       "\"data_meta\":{\n",
       "},\n",
       "\"kind\":\"plot\",\n",
       "\"scales\":[{\n",
       "\"aesthetic\":\"fill\",\n",
       "\"type\":\"seq\",\n",
       "\"palette\":\"Reds\",\n",
       "\"scale_mapper_kind\":\"color_brewer\"\n",
       "}],\n",
       "\"layers\":[{\n",
       "\"geom\":\"livemap\",\n",
       "\"mapping\":{\n",
       "},\n",
       "\"data_meta\":{\n",
       "},\n",
       "\"tiles\":{\n",
       "\"kind\":\"raster_zxy\",\n",
       "\"url\":\"https://stamen-tiles-[abcd].a.ssl.fastly.net/toner/{z}/{x}/{y}.png\",\n",
       "\"attribution\":\"Map tiles by <a href=\\\"http://stamen.com\\\">Stamen Design</a>, under <a href=\\\"http://creativecommons.org/licenses/by/3.0\\\">CC BY 3.0</a>. Data by <a href=\\\"http://openstreetmap.org\\\">OpenStreetMap</a>, under <a href=\\\"http://www.openstreetmap.org/copyright\\\">ODbL</a>.\",\n",
       "\"min_zoom\":1,\n",
       "\"max_zoom\":20\n",
       "},\n",
       "\"geocoding\":{\n",
       "\"url\":\"https://geo2.datalore.jetbrains.com/map_data/geocoding\"\n",
       "},\n",
       "\"data\":{\n",
       "}\n",
       "},{\n",
       "\"geom\":\"point\",\n",
       "\"data\":{\n",
       "\"zinc\":[1022.0,1141.0,640.0,257.0,269.0,281.0,346.0,406.0,347.0,183.0,189.0,251.0,1096.0,504.0,326.0,1032.0,606.0,711.0,735.0,1052.0,673.0,402.0,343.0,218.0,200.0,194.0,207.0,180.0,240.0,180.0,208.0,198.0,250.0,192.0,213.0,321.0,569.0,833.0,906.0,1454.0,298.0,167.0,176.0,258.0,746.0,746.0,464.0,365.0,282.0,375.0,222.0,812.0,1548.0,1839.0,1528.0,933.0,432.0,550.0,1571.0,1190.0,907.0,761.0,659.0,643.0,801.0,784.0,1060.0,119.0,778.0,703.0,676.0,793.0,685.0,593.0,549.0,680.0,539.0,560.0,1136.0,1383.0,1161.0,1672.0,765.0,279.0,241.0,317.0,545.0,505.0,420.0,332.0,400.0,553.0,577.0,155.0,224.0,180.0,226.0,186.0,198.0,187.0,199.0,157.0,203.0,143.0,136.0,117.0,113.0,130.0,192.0,240.0,221.0,140.0,128.0,166.0,191.0,232.0,203.0,722.0,210.0,198.0,139.0,253.0,703.0,832.0,262.0,142.0,119.0,152.0,415.0,474.0,126.0,210.0,220.0,133.0,141.0,158.0,129.0,206.0,451.0,296.0,189.0,154.0,169.0,403.0,471.0,612.0,601.0,783.0,258.0,214.0,166.0,496.0,342.0,162.0,375.0],\n",
       "\"geometry\":[\"{\\\"type\\\": \\\"Point\\\", \\\"coordinates\\\": [5.758536241358085, 50.99156215671778]}\",\"{\\\"type\\\": \\\"Point\\\", \\\"coordinates\\\": [5.757863017883049, 50.991087902923226]}\",\"{\\\"type\\\": \\\"Point\\\", \\\"coordinates\\\": [5.759855417512949, 50.99089274337649]}\",\"{\\\"type\\\": \\\"Point\\\", \\\"coordinates\\\": [5.761745769705407, 50.99041023563286]}\",\"{\\\"type\\\": \\\"Point\\\", \\\"coordinates\\\": [5.761862707381168, 50.98902557095708]}\",\"{\\\"type\\\": \\\"Point\\\", \\\"coordinates\\\": [5.763039640982921, 50.98839253664887]}\",\"{\\\"type\\\": \\\"Point\\\", \\\"coordinates\\\": [5.75984329282049, 50.989391640706934]}\",\"{\\\"type\\\": \\\"Point\\\", \\\"coordinates\\\": [5.757877419534276, 50.98933502689312]}\",\"{\\\"type\\\": \\\"Point\\\", \\\"coordinates\\\": [5.758337853721926, 50.98814702134338]}\",\"{\\\"type\\\": \\\"Point\\\", \\\"coordinates\\\": [5.760782790779362, 50.9875728618997]}\",\"{\\\"type\\\": \\\"Point\\\", \\\"coordinates\\\": [5.760195049054255, 50.987098345980705]}\",\"{\\\"type\\\": \\\"Point\\\", \\\"coordinates\\\": [5.7579246494819385, 50.98635057042538]}\",\"{\\\"type\\\": \\\"Point\\\", \\\"coordinates\\\": [5.755696704062746, 50.98912625267952]}\",\"{\\\"type\\\": \\\"Point\\\", \\\"coordinates\\\": [5.757043398279614, 50.98833992841907]}\",\"{\\\"type\\\": \\\"Point\\\", \\\"coordinates\\\": [5.757634972816759, 50.98752005056761]}\",\"{\\\"type\\\": \\\"Point\\\", \\\"coordinates\\\": [5.75506340331458, 50.98829230093237]}\",\"{\\\"type\\\": \\\"Point\\\", \\\"coordinates\\\": [5.754099075385234, 50.98701894029337]}\",\"{\\\"type\\\": \\\"Point\\\", \\\"coordinates\\\": [5.753107032181696, 50.9858355480134]}\",\"{\\\"type\\\": \\\"Point\\\", \\\"coordinates\\\": [5.752115537495023, 50.98471506771109]}\",\"{\\\"type\\\": \\\"Point\\\", \\\"coordinates\\\": [5.751108787655798, 50.98345979394851]}\",\"{\\\"type\\\": \\\"Point\\\", \\\"coordinates\\\": [5.752347736439357, 50.98346488307418]}\",\"{\\\"type\\\": \\\"Point\\\", \\\"coordinates\\\": [5.753231256497299, 50.983542993816556]}\",\"{\\\"type\\\": \\\"Point\\\", \\\"coordinates\\\": [5.75322747760397, 50.98306659569488]}\",\"{\\\"type\\\": \\\"Point\\\", \\\"coordinates\\\": [5.759640102253008, 50.985392246184205]}\",\"{\\\"type\\\": \\\"Point\\\", \\\"coordinates\\\": [5.7595472604195646, 50.98447567977239]}\",\"{\\\"type\\\": \\\"Point\\\", \\\"coordinates\\\": [5.75982879953081, 50.98407027502434]}\",\"{\\\"type\\\": \\\"Point\\\", \\\"coordinates\\\": [5.757564542884561, 50.984068549295834]}\",\"{\\\"type\\\": \\\"Point\\\", \\\"coordinates\\\": [5.757059653246428, 50.98326116444435]}\",\"{\\\"type\\\": \\\"Point\\\", \\\"coordinates\\\": [5.756252723226065, 50.98385700413397]}\",\"{\\\"type\\\": \\\"Point\\\", \\\"coordinates\\\": [5.7624755081458146, 50.985571859677705]}\",\"{\\\"type\\\": \\\"Point\\\", \\\"coordinates\\\": [5.759329556706944, 50.982202194946176]}\",\"{\\\"type\\\": \\\"Point\\\", \\\"coordinates\\\": [5.755692649840071, 50.98148572581879]}\",\"{\\\"type\\\": \\\"Point\\\", \\\"coordinates\\\": [5.754992127244448, 50.98113738679508]}\",\"{\\\"type\\\": \\\"Point\\\", \\\"coordinates\\\": [5.756768362432966, 50.980673299633004]}\",\"{\\\"type\\\": \\\"Point\\\", \\\"coordinates\\\": [5.7567910096397, 50.97994512884859]}\",\"{\\\"type\\\": \\\"Point\\\", \\\"coordinates\\\": [5.75328909906964, 50.98006411864725]}\",\"{\\\"type\\\": \\\"Point\\\", \\\"coordinates\\\": [5.752186638286952, 50.981101318443194]}\",\"{\\\"type\\\": \\\"Point\\\", \\\"coordinates\\\": [5.7507408205002175, 50.98194183091395]}\",\"{\\\"type\\\": \\\"Point\\\", \\\"coordinates\\\": [5.75000319287152, 50.9823036988139]}\",\"{\\\"type\\\": \\\"Point\\\", \\\"coordinates\\\": [5.748643247617222, 50.981391086801814]}\",\"{\\\"type\\\": \\\"Point\\\", \\\"coordinates\\\": [5.750213490666505, 50.98007380059949]}\",\"{\\\"type\\\": \\\"Point\\\", \\\"coordinates\\\": [5.7511577870991895, 50.97883936173658]}\",\"{\\\"type\\\": \\\"Point\\\", \\\"coordinates\\\": [5.749590275995749, 50.97868247807214]}\",\"{\\\"type\\\": \\\"Point\\\", \\\"coordinates\\\": [5.748996350228412, 50.97738993831918]}\",\"{\\\"type\\\": \\\"Point\\\", \\\"coordinates\\\": [5.748232098985023, 50.97980133986306]}\",\"{\\\"type\\\": \\\"Point\\\", \\\"coordinates\\\": [5.747325091084467, 50.97852774498083]}\",\"{\\\"type\\\": \\\"Point\\\", \\\"coordinates\\\": [5.747186918723876, 50.9772427667127]}\",\"{\\\"type\\\": \\\"Point\\\", \\\"coordinates\\\": [5.747161954429742, 50.97586754778838]}\",\"{\\\"type\\\": \\\"Point\\\", \\\"coordinates\\\": [5.746980312301285, 50.97448382692278]}\",\"{\\\"type\\\": \\\"Point\\\", \\\"coordinates\\\": [5.745961365628163, 50.97344427996484]}\",\"{\\\"type\\\": \\\"Point\\\", \\\"coordinates\\\": [5.745047486649838, 50.973096542099576]}\",\"{\\\"type\\\": \\\"Point\\\", \\\"coordinates\\\": [5.7465555541636, 50.980273975595814]}\",\"{\\\"type\\\": \\\"Point\\\", \\\"coordinates\\\": [5.744643768607397, 50.97979449359688]}\",\"{\\\"type\\\": \\\"Point\\\", \\\"coordinates\\\": [5.742789808634666, 50.97942266896285]}\",\"{\\\"type\\\": \\\"Point\\\", \\\"coordinates\\\": [5.7406940971920895, 50.9790875083989]}\",\"{\\\"type\\\": \\\"Point\\\", \\\"coordinates\\\": [5.7387110920406705, 50.978590168394916]}\",\"{\\\"type\\\": \\\"Point\\\", \\\"coordinates\\\": [5.740197470241526, 50.97745305018122]}\",\"{\\\"type\\\": \\\"Point\\\", \\\"coordinates\\\": [5.741769051429365, 50.97814938015602]}\",\"{\\\"type\\\": \\\"Point\\\", \\\"coordinates\\\": [5.7445952046736535, 50.97903957879893]}\",\"{\\\"type\\\": \\\"Point\\\", \\\"coordinates\\\": [5.737522337728478, 50.97767690678625]}\",\"{\\\"type\\\": \\\"Point\\\", \\\"coordinates\\\": [5.736403391860635, 50.9765746564882]}\",\"{\\\"type\\\": \\\"Point\\\", \\\"coordinates\\\": [5.735950742791962, 50.975083869617805]}\",\"{\\\"type\\\": \\\"Point\\\", \\\"coordinates\\\": [5.7358560158877205, 50.973852680861306]}\",\"{\\\"type\\\": \\\"Point\\\", \\\"coordinates\\\": [5.734778829720905, 50.97260646765281]}\",\"{\\\"type\\\": \\\"Point\\\", \\\"coordinates\\\": [5.733631262493818, 50.97145933262255]}\",\"{\\\"type\\\": \\\"Point\\\", \\\"coordinates\\\": [5.732499736472149, 50.970545848869136]}\",\"{\\\"type\\\": \\\"Point\\\", \\\"coordinates\\\": [5.735551050327727, 50.969287257281614]}\",\"{\\\"type\\\": \\\"Point\\\", \\\"coordinates\\\": [5.738698217032391, 50.96755188434309]}\",\"{\\\"type\\\": \\\"Point\\\", \\\"coordinates\\\": [5.740966737946255, 50.96635844527372]}\",\"{\\\"type\\\": \\\"Point\\\", \\\"coordinates\\\": [5.73084191744462, 50.96777322355479]}\",\"{\\\"type\\\": \\\"Point\\\", \\\"coordinates\\\": [5.730665210331286, 50.966982728314896]}\",\"{\\\"type\\\": \\\"Point\\\", \\\"coordinates\\\": [5.729768210244004, 50.96695841926206]}\",\"{\\\"type\\\": \\\"Point\\\", \\\"coordinates\\\": [5.728933469516144, 50.96572941253324]}\",\"{\\\"type\\\": \\\"Point\\\", \\\"coordinates\\\": [5.73040169796583, 50.96600372414188]}\",\"{\\\"type\\\": \\\"Point\\\", \\\"coordinates\\\": [5.729283871353568, 50.96499129137007]}\",\"{\\\"type\\\": \\\"Point\\\", \\\"coordinates\\\": [5.730180031663303, 50.96490774028139]}\",\"{\\\"type\\\": \\\"Point\\\", \\\"coordinates\\\": [5.729644962501359, 50.963776728028854]}\",\"{\\\"type\\\": \\\"Point\\\", \\\"coordinates\\\": [5.726125240132986, 50.96518934714216]}\",\"{\\\"type\\\": \\\"Point\\\", \\\"coordinates\\\": [5.7275846347628, 50.96620080656532]}\",\"{\\\"type\\\": \\\"Point\\\", \\\"coordinates\\\": [5.728576465586246, 50.96750127075522]}\",\"{\\\"type\\\": \\\"Point\\\", \\\"coordinates\\\": [5.729934203699664, 50.96822535706035]}\",\"{\\\"type\\\": \\\"Point\\\", \\\"coordinates\\\": [5.745191690456101, 50.96231844753993]}\",\"{\\\"type\\\": \\\"Point\\\", \\\"coordinates\\\": [5.731867378433735, 50.96974772448132]}\",\"{\\\"type\\\": \\\"Point\\\", \\\"coordinates\\\": [5.759162623604555, 50.98799156465302]}\",\"{\\\"type\\\": \\\"Point\\\", \\\"coordinates\\\": [5.735620137001601, 50.97089605553014]}\",\"{\\\"type\\\": \\\"Point\\\", \\\"coordinates\\\": [5.736838309134274, 50.971962057992435]}\",\"{\\\"type\\\": \\\"Point\\\", \\\"coordinates\\\": [5.729156708192753, 50.96704112668872]}\",\"{\\\"type\\\": \\\"Point\\\", \\\"coordinates\\\": [5.728165800368948, 50.96586650874961]}\",\"{\\\"type\\\": \\\"Point\\\", \\\"coordinates\\\": [5.727040549307324, 50.96383833543935]}\",\"{\\\"type\\\": \\\"Point\\\", \\\"coordinates\\\": [5.726004688797623, 50.96234023240248]}\",\"{\\\"type\\\": \\\"Point\\\", \\\"coordinates\\\": [5.729224454146559, 50.96273526355798]}\",\"{\\\"type\\\": \\\"Point\\\", \\\"coordinates\\\": [5.72319018482882, 50.96286079966391]}\",\"{\\\"type\\\": \\\"Point\\\", \\\"coordinates\\\": [5.72456653372424, 50.96421411433296]}\",\"{\\\"type\\\": \\\"Point\\\", \\\"coordinates\\\": [5.736587326344702, 50.96137393715766]}\",\"{\\\"type\\\": \\\"Point\\\", \\\"coordinates\\\": [5.733081518088645, 50.96079119966074]}\",\"{\\\"type\\\": \\\"Point\\\", \\\"coordinates\\\": [5.734587990385906, 50.96427436668423]}\",\"{\\\"type\\\": \\\"Point\\\", \\\"coordinates\\\": [5.735412824020683, 50.966060672056024]}\",\"{\\\"type\\\": \\\"Point\\\", \\\"coordinates\\\": [5.733009258424531, 50.96634653067967]}\",\"{\\\"type\\\": \\\"Point\\\", \\\"coordinates\\\": [5.731394904411073, 50.965569310470975]}\",\"{\\\"type\\\": \\\"Point\\\", \\\"coordinates\\\": [5.731744071351678, 50.96276374788826]}\",\"{\\\"type\\\": \\\"Point\\\", \\\"coordinates\\\": [5.737612412546715, 50.96328546642317]}\",\"{\\\"type\\\": \\\"Point\\\", \\\"coordinates\\\": [5.739952382091762, 50.96401544712451]}\",\"{\\\"type\\\": \\\"Point\\\", \\\"coordinates\\\": [5.74278684261421, 50.96610118143772]}\",\"{\\\"type\\\": \\\"Point\\\", \\\"coordinates\\\": [5.744053881399243, 50.969800695217835]}\",\"{\\\"type\\\": \\\"Point\\\", \\\"coordinates\\\": [5.7454203696689685, 50.971612226372926]}\",\"{\\\"type\\\": \\\"Point\\\", \\\"coordinates\\\": [5.749540735244014, 50.972372448378174]}\",\"{\\\"type\\\": \\\"Point\\\", \\\"coordinates\\\": [5.747767521060008, 50.969546490840045]}\",\"{\\\"type\\\": \\\"Point\\\", \\\"coordinates\\\": [5.747013603167618, 50.9677960073605]}\",\"{\\\"type\\\": \\\"Point\\\", \\\"coordinates\\\": [5.744696371277224, 50.96636496701256]}\",\"{\\\"type\\\": \\\"Point\\\", \\\"coordinates\\\": [5.741387199334945, 50.967354923591024]}\",\"{\\\"type\\\": \\\"Point\\\", \\\"coordinates\\\": [5.739864669903062, 50.96744047091432]}\",\"{\\\"type\\\": \\\"Point\\\", \\\"coordinates\\\": [5.738214820177119, 50.969503933911994]}\",\"{\\\"type\\\": \\\"Point\\\", \\\"coordinates\\\": [5.739274773786346, 50.97035465762926]}\",\"{\\\"type\\\": \\\"Point\\\", \\\"coordinates\\\": [5.7390889007821695, 50.97211703972255]}\",\"{\\\"type\\\": \\\"Point\\\", \\\"coordinates\\\": [5.735229522680301, 50.971957915884964]}\",\"{\\\"type\\\": \\\"Point\\\", \\\"coordinates\\\": [5.73634968829575, 50.97323995074631]}\",\"{\\\"type\\\": \\\"Point\\\", \\\"coordinates\\\": [5.7380693833050165, 50.97471791478671]}\",\"{\\\"type\\\": \\\"Point\\\", \\\"coordinates\\\": [5.7476122910581084, 50.96242779257776]}\",\"{\\\"type\\\": \\\"Point\\\", \\\"coordinates\\\": [5.74545176314163, 50.97565711862678]}\",\"{\\\"type\\\": \\\"Point\\\", \\\"coordinates\\\": [5.74355004555877, 50.97461128940546]}\",\"{\\\"type\\\": \\\"Point\\\", \\\"coordinates\\\": [5.740260684397395, 50.976410149310325]}\",\"{\\\"type\\\": \\\"Point\\\", \\\"coordinates\\\": [5.738056282825542, 50.97674044852618]}\",\"{\\\"type\\\": \\\"Point\\\", \\\"coordinates\\\": [5.741016417366543, 50.97841235925492]}\",\"{\\\"type\\\": \\\"Point\\\", \\\"coordinates\\\": [5.746950462240393, 50.97978735069231]}\",\"{\\\"type\\\": \\\"Point\\\", \\\"coordinates\\\": [5.744687076676929, 50.97803254230738]}\",\"{\\\"type\\\": \\\"Point\\\", \\\"coordinates\\\": [5.749730800697625, 50.97663257647666]}\",\"{\\\"type\\\": \\\"Point\\\", \\\"coordinates\\\": [5.749949775671167, 50.975508282309235]}\",\"{\\\"type\\\": \\\"Point\\\", \\\"coordinates\\\": [5.748076085550668, 50.97441749504645]}\",\"{\\\"type\\\": \\\"Point\\\", \\\"coordinates\\\": [5.7555098020304785, 50.98712232908272]}\",\"{\\\"type\\\": \\\"Point\\\", \\\"coordinates\\\": [5.753186059734889, 50.98502630007287]}\",\"{\\\"type\\\": \\\"Point\\\", \\\"coordinates\\\": [5.745959728072044, 50.96957008407396]}\",\"{\\\"type\\\": \\\"Point\\\", \\\"coordinates\\\": [5.745614379455959, 50.97642965784425]}\",\"{\\\"type\\\": \\\"Point\\\", \\\"coordinates\\\": [5.756361105092538, 50.98494431204329]}\",\"{\\\"type\\\": \\\"Point\\\", \\\"coordinates\\\": [5.749784124429802, 50.97435822611774]}\",\"{\\\"type\\\": \\\"Point\\\", \\\"coordinates\\\": [5.741928185562481, 50.971065668031244]}\",\"{\\\"type\\\": \\\"Point\\\", \\\"coordinates\\\": [5.740570038522114, 50.97032374525311]}\",\"{\\\"type\\\": \\\"Point\\\", \\\"coordinates\\\": [5.742963926853747, 50.96876134112057]}\",\"{\\\"type\\\": \\\"Point\\\", \\\"coordinates\\\": [5.730532011630795, 50.96438534322504]}\",\"{\\\"type\\\": \\\"Point\\\", \\\"coordinates\\\": [5.729306744969263, 50.964236159703006]}\",\"{\\\"type\\\": \\\"Point\\\", \\\"coordinates\\\": [5.7300241393502604, 50.9630834637602]}\",\"{\\\"type\\\": \\\"Point\\\", \\\"coordinates\\\": [5.732147441275604, 50.959598468395555]}\",\"{\\\"type\\\": \\\"Point\\\", \\\"coordinates\\\": [5.735280383581161, 50.959822801241096]}\",\"{\\\"type\\\": \\\"Point\\\", \\\"coordinates\\\": [5.736609279568518, 50.958632268418626]}\",\"{\\\"type\\\": \\\"Point\\\", \\\"coordinates\\\": [5.735105876589793, 50.95744127793481]}\",\"{\\\"type\\\": \\\"Point\\\", \\\"coordinates\\\": [5.733573070869764, 50.95801217247905]}\",\"{\\\"type\\\": \\\"Point\\\", \\\"coordinates\\\": [5.7322532347161435, 50.95661385203215]}\",\"{\\\"type\\\": \\\"Point\\\", \\\"coordinates\\\": [5.7291092877765335, 50.95679396886497]}\",\"{\\\"type\\\": \\\"Point\\\", \\\"coordinates\\\": [5.72572798754482, 50.95760391457656]}\",\"{\\\"type\\\": \\\"Point\\\", \\\"coordinates\\\": [5.730699512884221, 50.958200511825886]}\",\"{\\\"type\\\": \\\"Point\\\", \\\"coordinates\\\": [5.729217913207587, 50.959930759254505]}\",\"{\\\"type\\\": \\\"Point\\\", \\\"coordinates\\\": [5.731416456905258, 50.96082312894543]}\",\"{\\\"type\\\": \\\"Point\\\", \\\"coordinates\\\": [5.730014728846313, 50.96181606262127]}\",\"{\\\"type\\\": \\\"Point\\\", \\\"coordinates\\\": [5.727026986288386, 50.96199565955479]}\",\"{\\\"type\\\": \\\"Point\\\", \\\"coordinates\\\": [5.735443658451969, 50.962599868019865]}\",\"{\\\"type\\\": \\\"Point\\\", \\\"coordinates\\\": [5.751955241398621, 50.96083215065749]}\"]\n",
       "},\n",
       "\"mapping\":{\n",
       "\"fill\":\"zinc\"\n",
       "},\n",
       "\"data_meta\":{\n",
       "\"geodataframe\":{\n",
       "\"geometry\":\"geometry\"\n",
       "}\n",
       "},\n",
       "\"size\":2,\n",
       "\"shape\":21,\n",
       "\"color\":\"black\"\n",
       "}]\n",
       "}\n",
       "}]\n",
       "};\n",
       "       var plotContainer = document.getElementById(\"74Jktl\");\n",
       "       LetsPlot.buildPlotFromProcessedSpecs(plotSpec, -1, -1, plotContainer);\n",
       "   </script>\n",
       "   </body>\n",
       "</html>"
      ]
     },
     "metadata": {},
     "output_type": "display_data"
    }
   ],
   "source": [
    "# updated\n",
    "\n",
    "def plot_observations(metal):\n",
    "    p = (\n",
    "        lp.ggplot() +\n",
    "        lp.geom_livemap(tiles = tilesets.STAMEN_DESIGN_TONER) +\n",
    "        lp.scale_fill_brewer(type = 'seq', palette = 'Reds') +\n",
    "        lp.geom_point(lp.aes(fill = metal), data = meuse_gdf,\n",
    "                      size = 2, shape = 21, color = 'black')\n",
    "    )\n",
    "    return p\n",
    "\n",
    "w, h = 480, 320\n",
    "offset = 15\n",
    "bunch = lp.GGBunch()\n",
    "bunch.add_plot(plot_observations('cadmium'), 0, 0, w, h)\n",
    "bunch.add_plot(plot_observations('copper'), w + offset, 0, w, h)\n",
    "bunch.add_plot(plot_observations('lead'), 0, h + offset, w, h)\n",
    "bunch.add_plot(plot_observations('zinc'), w + offset, h + offset, w, h)\n",
    "bunch.show()"
   ]
  },
  {
   "cell_type": "markdown",
   "metadata": {},
   "source": [
    "# Perform spatial queries\n",
    "\n",
    "The `dist` column of the `meuse_gdf` table contains the information of the distance between the river and the sample. However, if we wish to evaluate the distance at any point in the domain of application of our model, in order to subsequently make our projections in space, we will have to be able to compute the distance to the river.\n",
    "\n",
    "> Note that we are working here with geographic coordinates (longitude, latitude), which we approximate as geometric data. At this scale and for our usage, it is appropriate. But on a smaller scale, close to the poles, these distances could be distorted.\n",
    "\n",
    "We will need the shape of the river to compute the distance to it at any point. I drew a line with mouse and click in QGIS along the center of the river. Since a line is difficult to handle with a csv, I exported it in the geojson format, which can be imported without ache with *GeoPandas*.\n",
    "\n",
    "[river.geojson](https://nextjournal.com/data/QmYtVaAMkyfZyceU7WpsmK7sEfqK5SPshsLA6qUo16fgL6?content-type=application/geo%2Bjson&node-id=e5b4557b-3cb0-4192-b965-64562b43b278&filename=river.geojson&node-kind=file)\n"
   ]
  },
  {
   "cell_type": "code",
   "execution_count": 9,
   "metadata": {},
   "outputs": [
    {
     "data": {
      "text/html": [
       "<html lang=\"en\">\n",
       "   <head>\n",
       "       <script type=\"text/javascript\" data-lets-plot-script=\"library\" src=\"https://cdn.jsdelivr.net/gh/JetBrains/lets-plot@v2.3.0/js-package/distr/lets-plot.min.js\"></script>\n",
       "   </head>\n",
       "   <body>\n",
       "          <div id=\"7Gpx82\"></div>\n",
       "   <script type=\"text/javascript\" data-lets-plot-script=\"plot\">\n",
       "       var plotSpec={\n",
       "\"mapping\":{\n",
       "},\n",
       "\"data_meta\":{\n",
       "},\n",
       "\"theme\":{\n",
       "\"name\":\"classic\"\n",
       "},\n",
       "\"kind\":\"plot\",\n",
       "\"scales\":[],\n",
       "\"layers\":[{\n",
       "\"geom\":\"path\",\n",
       "\"data\":{\n",
       "\"geometry\":[\"{\\\"type\\\": \\\"MultiLineString\\\", \\\"coordinates\\\": [[[5.766690613258867, 51.00308161264945], [5.766839149136091, 51.00066771098846], [5.766732485276878, 50.99878508974709], [5.76579125029153, 50.99743614504357], [5.763772137357098, 50.99550665711426], [5.761381200598112, 50.9940174358579], [5.759282403144293, 50.99274863237768], [5.758427642965541, 50.992375073556225], [5.757491841570648, 50.991864727835626], [5.756608488236794, 50.991169063318], [5.75575951388261, 50.99029044230988], [5.755019613414221, 50.98945250916633], [5.754277198809699, 50.98836322152792], [5.753616510050141, 50.98747469467185], [5.752963832838955, 50.986659258571635], [5.752377960708603, 50.986003509233385], [5.751852056280557, 50.98554860483632], [5.75121103933134, 50.98444520103886], [5.750549626180803, 50.98346984436956], [5.749178493419183, 50.982469898028924], [5.747574911568193, 50.98138402863138], [5.746426419537743, 50.9809178626586], [5.744436767450325, 50.98030875388567], [5.742615339978093, 50.979868035877864], [5.740999416827565, 50.97970982184383], [5.739557110963953, 50.97953719627412], [5.738903557628391, 50.97932950894336], [5.738168833417259, 50.97896218181481], [5.737549724406141, 50.97857155415809], [5.73675535498195, 50.97802164959737], [5.736222172144643, 50.97753014622171], [5.735867899119935, 50.97682316915582], [5.735519076363252, 50.97592880758689], [5.735174611287016, 50.974732822523634], [5.734915970691832, 50.97418086178719], [5.734048676500499, 50.97280409245977], [5.732964326267242, 50.971428152718296], [5.730776114146916, 50.96964511838946], [5.729236497825282, 50.96831657819084], [5.727188122462866, 50.966743168146316], [5.725863694608958, 50.96595757128628], [5.724484544565379, 50.964728913298494], [5.723454376890556, 50.9636680256519], [5.722019088120992, 50.961827242762745], [5.721852605697085, 50.96103733642154], [5.722355704818995, 50.959888549220835], [5.723586566933085, 50.95842178628063], [5.725197786236126, 50.957410541008215], [5.729368770923016, 50.95627086337464], [5.732695884469656, 50.95618515946742], [5.735244658633671, 50.956413034658524], [5.73697015002509, 50.95679023213259], [5.738233020596939, 50.957205741810014], [5.740056076368824, 50.95867916073943], [5.741310205577624, 50.95967041501871], [5.742765286120195, 50.96048723207995], [5.74408668469733, 50.96094813588294], [5.745362445886792, 50.96118072750229], [5.746794408571716, 50.961111097283805], [5.748397553156454, 50.96079401217367], [5.74989955984907, 50.9604955809939], [5.751269380629619, 50.96000573813627], [5.752723494887541, 50.959268787080894], [5.754147777649462, 50.958449686819094], [5.755225662229178, 50.95772336005882], [5.755985185634927, 50.956998316717254], [5.75703060124458, 50.955933974475045], [5.75798736962112, 50.9546963547645]]]}\"]\n",
       "},\n",
       "\"mapping\":{\n",
       "},\n",
       "\"data_meta\":{\n",
       "\"geodataframe\":{\n",
       "\"geometry\":\"geometry\"\n",
       "}\n",
       "}\n",
       "}]\n",
       "};\n",
       "       var plotContainer = document.getElementById(\"7Gpx82\");\n",
       "       LetsPlot.buildPlotFromProcessedSpecs(plotSpec, -1, -1, plotContainer);\n",
       "   </script>\n",
       "   </body>\n",
       "</html>"
      ],
      "text/plain": [
       "<lets_plot.plot.core.PlotSpec at 0x1f32a4c8>"
      ]
     },
     "execution_count": 9,
     "metadata": {},
     "output_type": "execute_result"
    }
   ],
   "source": [
    "# updated\n",
    "\n",
    "river = gpd.read_file(\"river.geojson\")\n",
    "# quick check\n",
    "(\n",
    "    lp.ggplot() +\n",
    "    lp.geom_path(data=river) +\n",
    "    lp.theme_classic()\n",
    ")"
   ]
  },
  {
   "cell_type": "markdown",
   "metadata": {},
   "source": [
    "I used the `distance` function of *GeoPandas* in a loop across rows, and assigned a new column named `distance_river`."
   ]
  },
  {
   "cell_type": "code",
   "execution_count": 10,
   "metadata": {
    "nextjournal": {
     "id": "0b937167-c4b9-4a23-8f46-9de7f26be213",
     "kind": "code",
     "language": "python"
    }
   },
   "outputs": [
    {
     "data": {
      "text/html": [
       "<div>\n",
       "<style scoped>\n",
       "    .dataframe tbody tr th:only-of-type {\n",
       "        vertical-align: middle;\n",
       "    }\n",
       "\n",
       "    .dataframe tbody tr th {\n",
       "        vertical-align: top;\n",
       "    }\n",
       "\n",
       "    .dataframe thead th {\n",
       "        text-align: right;\n",
       "    }\n",
       "</style>\n",
       "<table border=\"1\" class=\"dataframe\">\n",
       "  <thead>\n",
       "    <tr style=\"text-align: right;\">\n",
       "      <th></th>\n",
       "      <th>x</th>\n",
       "      <th>y</th>\n",
       "      <th>cadmium</th>\n",
       "      <th>copper</th>\n",
       "      <th>lead</th>\n",
       "      <th>zinc</th>\n",
       "      <th>elev</th>\n",
       "      <th>dist</th>\n",
       "      <th>om</th>\n",
       "      <th>ffreq</th>\n",
       "      <th>soil</th>\n",
       "      <th>lime</th>\n",
       "      <th>landuse</th>\n",
       "      <th>dist.m</th>\n",
       "      <th>geometry</th>\n",
       "      <th>distance_river</th>\n",
       "    </tr>\n",
       "  </thead>\n",
       "  <tbody>\n",
       "    <tr>\n",
       "      <th>0</th>\n",
       "      <td>5.758536</td>\n",
       "      <td>50.991562</td>\n",
       "      <td>11.7</td>\n",
       "      <td>85</td>\n",
       "      <td>299</td>\n",
       "      <td>1022</td>\n",
       "      <td>7.909</td>\n",
       "      <td>0.001358</td>\n",
       "      <td>13.6</td>\n",
       "      <td>1</td>\n",
       "      <td>1</td>\n",
       "      <td>1</td>\n",
       "      <td>Ah</td>\n",
       "      <td>50</td>\n",
       "      <td>POINT (5.75854 50.99156)</td>\n",
       "      <td>0.000766</td>\n",
       "    </tr>\n",
       "    <tr>\n",
       "      <th>1</th>\n",
       "      <td>5.757863</td>\n",
       "      <td>50.991088</td>\n",
       "      <td>8.6</td>\n",
       "      <td>81</td>\n",
       "      <td>277</td>\n",
       "      <td>1141</td>\n",
       "      <td>6.983</td>\n",
       "      <td>0.012224</td>\n",
       "      <td>14.0</td>\n",
       "      <td>1</td>\n",
       "      <td>1</td>\n",
       "      <td>1</td>\n",
       "      <td>Ah</td>\n",
       "      <td>30</td>\n",
       "      <td>POINT (5.75786 50.99109)</td>\n",
       "      <td>0.000840</td>\n",
       "    </tr>\n",
       "    <tr>\n",
       "      <th>2</th>\n",
       "      <td>5.759855</td>\n",
       "      <td>50.990893</td>\n",
       "      <td>6.5</td>\n",
       "      <td>68</td>\n",
       "      <td>199</td>\n",
       "      <td>640</td>\n",
       "      <td>7.800</td>\n",
       "      <td>0.103029</td>\n",
       "      <td>13.0</td>\n",
       "      <td>1</td>\n",
       "      <td>1</td>\n",
       "      <td>1</td>\n",
       "      <td>Ah</td>\n",
       "      <td>150</td>\n",
       "      <td>POINT (5.75986 50.99089)</td>\n",
       "      <td>0.001930</td>\n",
       "    </tr>\n",
       "    <tr>\n",
       "      <th>3</th>\n",
       "      <td>5.761746</td>\n",
       "      <td>50.990410</td>\n",
       "      <td>2.6</td>\n",
       "      <td>81</td>\n",
       "      <td>116</td>\n",
       "      <td>257</td>\n",
       "      <td>7.655</td>\n",
       "      <td>0.190094</td>\n",
       "      <td>8.0</td>\n",
       "      <td>1</td>\n",
       "      <td>2</td>\n",
       "      <td>0</td>\n",
       "      <td>Ga</td>\n",
       "      <td>270</td>\n",
       "      <td>POINT (5.76175 50.99041)</td>\n",
       "      <td>0.003276</td>\n",
       "    </tr>\n",
       "    <tr>\n",
       "      <th>4</th>\n",
       "      <td>5.761863</td>\n",
       "      <td>50.989026</td>\n",
       "      <td>2.8</td>\n",
       "      <td>48</td>\n",
       "      <td>117</td>\n",
       "      <td>269</td>\n",
       "      <td>7.480</td>\n",
       "      <td>0.277090</td>\n",
       "      <td>8.7</td>\n",
       "      <td>1</td>\n",
       "      <td>2</td>\n",
       "      <td>0</td>\n",
       "      <td>Ah</td>\n",
       "      <td>380</td>\n",
       "      <td>POINT (5.76186 50.98903)</td>\n",
       "      <td>0.004521</td>\n",
       "    </tr>\n",
       "  </tbody>\n",
       "</table>\n",
       "</div>"
      ],
      "text/plain": [
       "          x          y  cadmium  copper  lead  zinc   elev      dist    om  \\\n",
       "0  5.758536  50.991562     11.7      85   299  1022  7.909  0.001358  13.6   \n",
       "1  5.757863  50.991088      8.6      81   277  1141  6.983  0.012224  14.0   \n",
       "2  5.759855  50.990893      6.5      68   199   640  7.800  0.103029  13.0   \n",
       "3  5.761746  50.990410      2.6      81   116   257  7.655  0.190094   8.0   \n",
       "4  5.761863  50.989026      2.8      48   117   269  7.480  0.277090   8.7   \n",
       "\n",
       "   ffreq  soil  lime landuse  dist.m                  geometry  distance_river  \n",
       "0      1     1     1      Ah      50  POINT (5.75854 50.99156)        0.000766  \n",
       "1      1     1     1      Ah      30  POINT (5.75786 50.99109)        0.000840  \n",
       "2      1     1     1      Ah     150  POINT (5.75986 50.99089)        0.001930  \n",
       "3      1     2     0      Ga     270  POINT (5.76175 50.99041)        0.003276  \n",
       "4      1     2     0      Ah     380  POINT (5.76186 50.98903)        0.004521  "
      ]
     },
     "execution_count": 10,
     "metadata": {},
     "output_type": "execute_result"
    }
   ],
   "source": [
    "meuse_gdf = meuse_gdf.assign(\n",
    "    distance_river = [meuse_gdf[\"geometry\"][i].distance(river[\"geometry\"][0]) for i in range(meuse_gdf.shape[0])]\n",
    ")\n",
    "meuse_gdf.head()"
   ]
  },
  {
   "cell_type": "markdown",
   "metadata": {},
   "source": [
    "Let's see what it looks like and how our computed distance compares to the `dist` column."
   ]
  },
  {
   "cell_type": "code",
   "execution_count": 11,
   "metadata": {
    "nextjournal": {
     "id": "d5bd17b1-dfe7-4cb4-86c1-e7794fb1fb4f",
     "kind": "code",
     "language": "python"
    }
   },
   "outputs": [],
   "source": [
    "dist_compare = (\n",
    "    lp.ggplot(meuse_gdf) + # call the data set\n",
    "    lp.geom_point(lp.aes(x = \"dist\", y = \"distance_river\"), size = 3, color = \"#ca0020\") + # a layer of points\n",
    "    lp.labs(x = \"Distance in meuse.csv (km)\", y = \"Distance computed with GeoPandas (m)\") # axes titles\n",
    ")"
   ]
  },
  {
   "cell_type": "code",
   "execution_count": 12,
   "metadata": {
    "nextjournal": {
     "id": "538309c7-e663-4958-bee1-bad9c5613249",
     "kind": "code",
     "language": "python"
    }
   },
   "outputs": [],
   "source": [
    "# updated\n",
    "\n",
    "dist_map = (\n",
    "    lp.ggplot() +\n",
    "    lp.geom_livemap(tiles = tilesets.STAMEN_DESIGN_TONER) + # add a layer of map tiles\n",
    "    lp.geom_point(lp.aes(fill = \"distance_river\"), data = meuse_gdf, size = 3, shape = 21, color = \"black\") + # add a layer of points filled according to the distance\n",
    "    lp.scale_fill_brewer(type = \"seq\", palette = \"Reds\") + # fill colors\n",
    "    lp.labs(x = \"Longitude\", y = \"Latitude\") # axes titles\n",
    ")"
   ]
  },
  {
   "cell_type": "code",
   "execution_count": 13,
   "metadata": {
    "nextjournal": {
     "id": "756f971f-01fd-46af-82e3-51fba34e5b43",
     "kind": "code",
     "language": "python"
    }
   },
   "outputs": [
    {
     "data": {
      "text/html": [
       "<html lang=\"en\">\n",
       "   <head>\n",
       "       <script type=\"text/javascript\" data-lets-plot-script=\"library\" src=\"https://cdn.jsdelivr.net/gh/JetBrains/lets-plot@v2.3.0/js-package/distr/lets-plot.min.js\"></script>\n",
       "   </head>\n",
       "   <body>\n",
       "          <div id=\"8B5qJK\"></div>\n",
       "   <script type=\"text/javascript\" data-lets-plot-script=\"plot\">\n",
       "       var plotSpec={\n",
       "\"kind\":\"ggbunch\",\n",
       "\"items\":[{\n",
       "\"x\":0,\n",
       "\"y\":0,\n",
       "\"width\":480,\n",
       "\"height\":480,\n",
       "\"feature_spec\":{\n",
       "\"data\":{\n",
       "\"dist\":[0.00135803,0.0122243,0.103029,0.190094,0.27709,0.364067,0.190094,0.0921516,0.184614,0.309702,0.315116,0.228123,0.0,0.113932,0.168336,0.0,0.0122243,0.0122243,0.0,0.0,0.0703468,0.0975136,0.113932,0.342321,0.385804,0.429289,0.315116,0.320574,0.249863,0.489064,0.472778,0.287957,0.271622,0.385807,0.418417,0.244474,0.135709,0.0484965,0.0,0.00135803,0.135709,0.26622,0.211843,0.320572,0.081222,0.190086,0.287941,0.423826,0.554289,0.603225,0.614071,0.00135803,0.0,0.0054321,0.0054321,0.0054321,0.146578,0.135684,0.0703333,0.0484831,0.0054321,0.0054321,0.0316663,0.0122243,0.0122243,0.0373395,0.211846,0.451037,0.575877,0.0756869,0.12481,0.103024,0.157469,0.200976,0.200976,0.26622,0.298835,0.0812247,0.070355,0.0122243,0.0,0.0537723,0.0593662,0.211843,0.12481,0.12481,0.0921516,0.113941,0.179216,0.233596,0.336861,0.070355,0.0593662,0.255341,0.364067,0.429295,0.380328,0.249874,0.266212,0.451037,0.30971,0.293359,0.532351,0.619513,0.684725,0.809742,0.880389,0.749591,0.575752,0.581484,0.49452,0.32058,0.336851,0.249852,0.0756869,0.0756869,0.162853,0.0974916,0.440142,0.4619,0.222701,0.103024,0.0921353,0.0484884,0.168331,0.38581,0.489064,0.57602,0.0812194,0.0373369,0.771698,0.336829,0.228123,0.597761,0.44558,0.396675,0.581478,0.287966,0.233596,0.364067,0.331454,0.211846,0.103029,0.070355,0.146576,0.0537723,0.119286,0.0921435,0.249863,0.37494,0.423837,0.423837,0.27709,0.358606,0.0122243],\n",
       "\"distance_river\":[7.656807903291873E-4,8.399412747680412E-4,0.001930046854131457,0.00327556015760906,0.004521018755038151,0.00567163850067821,0.0032970434199508735,0.002186950309714675,0.0033435742840713656,0.005343477424773528,0.0054078421418997805,0.00414749303064824,7.234917981191287E-4,0.002253432417517619,0.0032395483251313776,6.896036389657046E-4,6.615410622228474E-4,6.55590015314389E-4,6.465361866188895E-4,4.684294556597597E-4,0.0014909862332852287,0.002200039194711644,0.0024426399512805386,0.0061047371242168086,0.00654878082338889,0.00701656253941272,0.005210745171874904,0.005321915868196096,0.004320813570596575,0.00785506116703705,0.0077549787439128845,0.005370598321431504,0.00498591281016168,0.006716477693454915,0.007143906037902932,0.004370775606717567,0.002878263117020966,0.0013472352073264516,6.202240264546766E-4,5.931681347691863E-4,0.002564339184742899,0.0041159446989409475,0.003366949479530701,0.004235444830493508,0.0017137091463303115,0.0025534825361611248,0.0037367304831311017,0.005044401159273721,0.00631433734119138,0.00703049348560986,0.007153555318846526,6.534833847978179E-4,5.523285466502311E-4,4.73906498883044E-4,5.816195432311776E-4,5.752322108845042E-4,0.0021454765460147463,0.0016280114866146535,0.0012708388311218298,7.200029988758224E-4,5.891909348561559E-4,6.486552471640591E-4,9.904771815457429E-4,7.23126046171102E-4,5.045222646080738E-4,3.9051224325469946E-4,0.003357763338280298,0.006902775778144108,0.006136000069448448,0.001460196208772544,0.0019432350241880706,0.0014009822209629331,0.0018671519069484242,0.0025439960237555173,0.00266596769871718,0.0032781327653752293,0.003849136160511001,7.47588800919451E-4,6.718467746005843E-4,2.445120313881326E-4,5.248759088888759E-4,0.0011504626465722587,6.09789976043598E-4,0.004044717629985707,0.0024152654185087045,0.002809148974354529,9.628886713638189E-4,0.0012907947123653172,0.0023652076022315995,0.0027546369725442318,0.004485970534856274,2.880127406673881E-4,4.174517682176499E-4,0.004276238902817182,0.004553399967225713,0.006556488628653267,0.005707689464420439,0.003956269869505453,0.0034937370986067983,0.005931170652778112,0.00512908174777504,0.004453533954619968,0.005314458385455403,0.008718726078684593,0.008683933292760349,0.009095222237111407,0.008491337489673357,0.0066876668770806495,0.005226853229751658,0.006938410870360674,0.007533996597218081,0.005314849318814715,0.005727423724984236,0.004655395477652605,0.0014527258847079922,0.0017145961507619228,0.002785819636516174,0.0014503663421318756,0.0047598724881237,0.0053392001271436885,0.003188499242301237,0.001793882026055754,0.0012902884879911855,0.001244600796997322,0.0022712367762348987,0.005217677214720309,0.006337530067834329,0.006698527282131875,0.0017295596028765398,0.0012677424801939572,0.008408464975148373,0.004053906280909625,0.003723950203139317,0.007340850526801574,0.007671487331870093,0.006839838037152377,0.007887880469956955,0.003906830477004534,0.003278756499866989,0.004629906903405028,0.0033980542671500054,0.0033234738625694616,0.0018625457214555355,0.0010341599659165687,0.0017416405033762522,4.1715186953869934E-4,4.362137312089019E-4,3.26284552707943E-4,0.0019632761027160296,0.0034907130435745154,0.004603485358665565,0.005519371337650458,0.0037280955520178757,0.005948587576458624,0.0010472005066848842]\n",
       "},\n",
       "\"mapping\":{\n",
       "},\n",
       "\"data_meta\":{\n",
       "},\n",
       "\"kind\":\"plot\",\n",
       "\"scales\":[{\n",
       "\"name\":\"Distance in meuse.csv (km)\",\n",
       "\"aesthetic\":\"x\"\n",
       "},{\n",
       "\"name\":\"Distance computed with GeoPandas (m)\",\n",
       "\"aesthetic\":\"y\"\n",
       "}],\n",
       "\"layers\":[{\n",
       "\"geom\":\"point\",\n",
       "\"mapping\":{\n",
       "\"x\":\"dist\",\n",
       "\"y\":\"distance_river\"\n",
       "},\n",
       "\"data_meta\":{\n",
       "},\n",
       "\"size\":3,\n",
       "\"color\":\"#ca0020\",\n",
       "\"data\":{\n",
       "}\n",
       "}]\n",
       "}\n",
       "},{\n",
       "\"x\":495,\n",
       "\"y\":0,\n",
       "\"width\":480,\n",
       "\"height\":480,\n",
       "\"feature_spec\":{\n",
       "\"mapping\":{\n",
       "},\n",
       "\"data_meta\":{\n",
       "},\n",
       "\"kind\":\"plot\",\n",
       "\"scales\":[{\n",
       "\"aesthetic\":\"fill\",\n",
       "\"type\":\"seq\",\n",
       "\"palette\":\"Reds\",\n",
       "\"scale_mapper_kind\":\"color_brewer\"\n",
       "},{\n",
       "\"name\":\"Longitude\",\n",
       "\"aesthetic\":\"x\"\n",
       "},{\n",
       "\"name\":\"Latitude\",\n",
       "\"aesthetic\":\"y\"\n",
       "}],\n",
       "\"layers\":[{\n",
       "\"geom\":\"livemap\",\n",
       "\"mapping\":{\n",
       "},\n",
       "\"data_meta\":{\n",
       "},\n",
       "\"tiles\":{\n",
       "\"kind\":\"raster_zxy\",\n",
       "\"url\":\"https://stamen-tiles-[abcd].a.ssl.fastly.net/toner/{z}/{x}/{y}.png\",\n",
       "\"attribution\":\"Map tiles by <a href=\\\"http://stamen.com\\\">Stamen Design</a>, under <a href=\\\"http://creativecommons.org/licenses/by/3.0\\\">CC BY 3.0</a>. Data by <a href=\\\"http://openstreetmap.org\\\">OpenStreetMap</a>, under <a href=\\\"http://www.openstreetmap.org/copyright\\\">ODbL</a>.\",\n",
       "\"min_zoom\":1,\n",
       "\"max_zoom\":20\n",
       "},\n",
       "\"geocoding\":{\n",
       "\"url\":\"https://geo2.datalore.jetbrains.com/map_data/geocoding\"\n",
       "},\n",
       "\"data\":{\n",
       "}\n",
       "},{\n",
       "\"geom\":\"point\",\n",
       "\"data\":{\n",
       "\"geometry\":[\"{\\\"type\\\": \\\"Point\\\", \\\"coordinates\\\": [5.758536241358085, 50.99156215671778]}\",\"{\\\"type\\\": \\\"Point\\\", \\\"coordinates\\\": [5.757863017883049, 50.991087902923226]}\",\"{\\\"type\\\": \\\"Point\\\", \\\"coordinates\\\": [5.759855417512949, 50.99089274337649]}\",\"{\\\"type\\\": \\\"Point\\\", \\\"coordinates\\\": [5.761745769705407, 50.99041023563286]}\",\"{\\\"type\\\": \\\"Point\\\", \\\"coordinates\\\": [5.761862707381168, 50.98902557095708]}\",\"{\\\"type\\\": \\\"Point\\\", \\\"coordinates\\\": [5.763039640982921, 50.98839253664887]}\",\"{\\\"type\\\": \\\"Point\\\", \\\"coordinates\\\": [5.75984329282049, 50.989391640706934]}\",\"{\\\"type\\\": \\\"Point\\\", \\\"coordinates\\\": [5.757877419534276, 50.98933502689312]}\",\"{\\\"type\\\": \\\"Point\\\", \\\"coordinates\\\": [5.758337853721926, 50.98814702134338]}\",\"{\\\"type\\\": \\\"Point\\\", \\\"coordinates\\\": [5.760782790779362, 50.9875728618997]}\",\"{\\\"type\\\": \\\"Point\\\", \\\"coordinates\\\": [5.760195049054255, 50.987098345980705]}\",\"{\\\"type\\\": \\\"Point\\\", \\\"coordinates\\\": [5.7579246494819385, 50.98635057042538]}\",\"{\\\"type\\\": \\\"Point\\\", \\\"coordinates\\\": [5.755696704062746, 50.98912625267952]}\",\"{\\\"type\\\": \\\"Point\\\", \\\"coordinates\\\": [5.757043398279614, 50.98833992841907]}\",\"{\\\"type\\\": \\\"Point\\\", \\\"coordinates\\\": [5.757634972816759, 50.98752005056761]}\",\"{\\\"type\\\": \\\"Point\\\", \\\"coordinates\\\": [5.75506340331458, 50.98829230093237]}\",\"{\\\"type\\\": \\\"Point\\\", \\\"coordinates\\\": [5.754099075385234, 50.98701894029337]}\",\"{\\\"type\\\": \\\"Point\\\", \\\"coordinates\\\": [5.753107032181696, 50.9858355480134]}\",\"{\\\"type\\\": \\\"Point\\\", \\\"coordinates\\\": [5.752115537495023, 50.98471506771109]}\",\"{\\\"type\\\": \\\"Point\\\", \\\"coordinates\\\": [5.751108787655798, 50.98345979394851]}\",\"{\\\"type\\\": \\\"Point\\\", \\\"coordinates\\\": [5.752347736439357, 50.98346488307418]}\",\"{\\\"type\\\": \\\"Point\\\", \\\"coordinates\\\": [5.753231256497299, 50.983542993816556]}\",\"{\\\"type\\\": \\\"Point\\\", \\\"coordinates\\\": [5.75322747760397, 50.98306659569488]}\",\"{\\\"type\\\": \\\"Point\\\", \\\"coordinates\\\": [5.759640102253008, 50.985392246184205]}\",\"{\\\"type\\\": \\\"Point\\\", \\\"coordinates\\\": [5.7595472604195646, 50.98447567977239]}\",\"{\\\"type\\\": \\\"Point\\\", \\\"coordinates\\\": [5.75982879953081, 50.98407027502434]}\",\"{\\\"type\\\": \\\"Point\\\", \\\"coordinates\\\": [5.757564542884561, 50.984068549295834]}\",\"{\\\"type\\\": \\\"Point\\\", \\\"coordinates\\\": [5.757059653246428, 50.98326116444435]}\",\"{\\\"type\\\": \\\"Point\\\", \\\"coordinates\\\": [5.756252723226065, 50.98385700413397]}\",\"{\\\"type\\\": \\\"Point\\\", \\\"coordinates\\\": [5.7624755081458146, 50.985571859677705]}\",\"{\\\"type\\\": \\\"Point\\\", \\\"coordinates\\\": [5.759329556706944, 50.982202194946176]}\",\"{\\\"type\\\": \\\"Point\\\", \\\"coordinates\\\": [5.755692649840071, 50.98148572581879]}\",\"{\\\"type\\\": \\\"Point\\\", \\\"coordinates\\\": [5.754992127244448, 50.98113738679508]}\",\"{\\\"type\\\": \\\"Point\\\", \\\"coordinates\\\": [5.756768362432966, 50.980673299633004]}\",\"{\\\"type\\\": \\\"Point\\\", \\\"coordinates\\\": [5.7567910096397, 50.97994512884859]}\",\"{\\\"type\\\": \\\"Point\\\", \\\"coordinates\\\": [5.75328909906964, 50.98006411864725]}\",\"{\\\"type\\\": \\\"Point\\\", \\\"coordinates\\\": [5.752186638286952, 50.981101318443194]}\",\"{\\\"type\\\": \\\"Point\\\", \\\"coordinates\\\": [5.7507408205002175, 50.98194183091395]}\",\"{\\\"type\\\": \\\"Point\\\", \\\"coordinates\\\": [5.75000319287152, 50.9823036988139]}\",\"{\\\"type\\\": \\\"Point\\\", \\\"coordinates\\\": [5.748643247617222, 50.981391086801814]}\",\"{\\\"type\\\": \\\"Point\\\", \\\"coordinates\\\": [5.750213490666505, 50.98007380059949]}\",\"{\\\"type\\\": \\\"Point\\\", \\\"coordinates\\\": [5.7511577870991895, 50.97883936173658]}\",\"{\\\"type\\\": \\\"Point\\\", \\\"coordinates\\\": [5.749590275995749, 50.97868247807214]}\",\"{\\\"type\\\": \\\"Point\\\", \\\"coordinates\\\": [5.748996350228412, 50.97738993831918]}\",\"{\\\"type\\\": \\\"Point\\\", \\\"coordinates\\\": [5.748232098985023, 50.97980133986306]}\",\"{\\\"type\\\": \\\"Point\\\", \\\"coordinates\\\": [5.747325091084467, 50.97852774498083]}\",\"{\\\"type\\\": \\\"Point\\\", \\\"coordinates\\\": [5.747186918723876, 50.9772427667127]}\",\"{\\\"type\\\": \\\"Point\\\", \\\"coordinates\\\": [5.747161954429742, 50.97586754778838]}\",\"{\\\"type\\\": \\\"Point\\\", \\\"coordinates\\\": [5.746980312301285, 50.97448382692278]}\",\"{\\\"type\\\": \\\"Point\\\", \\\"coordinates\\\": [5.745961365628163, 50.97344427996484]}\",\"{\\\"type\\\": \\\"Point\\\", \\\"coordinates\\\": [5.745047486649838, 50.973096542099576]}\",\"{\\\"type\\\": \\\"Point\\\", \\\"coordinates\\\": [5.7465555541636, 50.980273975595814]}\",\"{\\\"type\\\": \\\"Point\\\", \\\"coordinates\\\": [5.744643768607397, 50.97979449359688]}\",\"{\\\"type\\\": \\\"Point\\\", \\\"coordinates\\\": [5.742789808634666, 50.97942266896285]}\",\"{\\\"type\\\": \\\"Point\\\", \\\"coordinates\\\": [5.7406940971920895, 50.9790875083989]}\",\"{\\\"type\\\": \\\"Point\\\", \\\"coordinates\\\": [5.7387110920406705, 50.978590168394916]}\",\"{\\\"type\\\": \\\"Point\\\", \\\"coordinates\\\": [5.740197470241526, 50.97745305018122]}\",\"{\\\"type\\\": \\\"Point\\\", \\\"coordinates\\\": [5.741769051429365, 50.97814938015602]}\",\"{\\\"type\\\": \\\"Point\\\", \\\"coordinates\\\": [5.7445952046736535, 50.97903957879893]}\",\"{\\\"type\\\": \\\"Point\\\", \\\"coordinates\\\": [5.737522337728478, 50.97767690678625]}\",\"{\\\"type\\\": \\\"Point\\\", \\\"coordinates\\\": [5.736403391860635, 50.9765746564882]}\",\"{\\\"type\\\": \\\"Point\\\", \\\"coordinates\\\": [5.735950742791962, 50.975083869617805]}\",\"{\\\"type\\\": \\\"Point\\\", \\\"coordinates\\\": [5.7358560158877205, 50.973852680861306]}\",\"{\\\"type\\\": \\\"Point\\\", \\\"coordinates\\\": [5.734778829720905, 50.97260646765281]}\",\"{\\\"type\\\": \\\"Point\\\", \\\"coordinates\\\": [5.733631262493818, 50.97145933262255]}\",\"{\\\"type\\\": \\\"Point\\\", \\\"coordinates\\\": [5.732499736472149, 50.970545848869136]}\",\"{\\\"type\\\": \\\"Point\\\", \\\"coordinates\\\": [5.735551050327727, 50.969287257281614]}\",\"{\\\"type\\\": \\\"Point\\\", \\\"coordinates\\\": [5.738698217032391, 50.96755188434309]}\",\"{\\\"type\\\": \\\"Point\\\", \\\"coordinates\\\": [5.740966737946255, 50.96635844527372]}\",\"{\\\"type\\\": \\\"Point\\\", \\\"coordinates\\\": [5.73084191744462, 50.96777322355479]}\",\"{\\\"type\\\": \\\"Point\\\", \\\"coordinates\\\": [5.730665210331286, 50.966982728314896]}\",\"{\\\"type\\\": \\\"Point\\\", \\\"coordinates\\\": [5.729768210244004, 50.96695841926206]}\",\"{\\\"type\\\": \\\"Point\\\", \\\"coordinates\\\": [5.728933469516144, 50.96572941253324]}\",\"{\\\"type\\\": \\\"Point\\\", \\\"coordinates\\\": [5.73040169796583, 50.96600372414188]}\",\"{\\\"type\\\": \\\"Point\\\", \\\"coordinates\\\": [5.729283871353568, 50.96499129137007]}\",\"{\\\"type\\\": \\\"Point\\\", \\\"coordinates\\\": [5.730180031663303, 50.96490774028139]}\",\"{\\\"type\\\": \\\"Point\\\", \\\"coordinates\\\": [5.729644962501359, 50.963776728028854]}\",\"{\\\"type\\\": \\\"Point\\\", \\\"coordinates\\\": [5.726125240132986, 50.96518934714216]}\",\"{\\\"type\\\": \\\"Point\\\", \\\"coordinates\\\": [5.7275846347628, 50.96620080656532]}\",\"{\\\"type\\\": \\\"Point\\\", \\\"coordinates\\\": [5.728576465586246, 50.96750127075522]}\",\"{\\\"type\\\": \\\"Point\\\", \\\"coordinates\\\": [5.729934203699664, 50.96822535706035]}\",\"{\\\"type\\\": \\\"Point\\\", \\\"coordinates\\\": [5.745191690456101, 50.96231844753993]}\",\"{\\\"type\\\": \\\"Point\\\", \\\"coordinates\\\": [5.731867378433735, 50.96974772448132]}\",\"{\\\"type\\\": \\\"Point\\\", \\\"coordinates\\\": [5.759162623604555, 50.98799156465302]}\",\"{\\\"type\\\": \\\"Point\\\", \\\"coordinates\\\": [5.735620137001601, 50.97089605553014]}\",\"{\\\"type\\\": \\\"Point\\\", \\\"coordinates\\\": [5.736838309134274, 50.971962057992435]}\",\"{\\\"type\\\": \\\"Point\\\", \\\"coordinates\\\": [5.729156708192753, 50.96704112668872]}\",\"{\\\"type\\\": \\\"Point\\\", \\\"coordinates\\\": [5.728165800368948, 50.96586650874961]}\",\"{\\\"type\\\": \\\"Point\\\", \\\"coordinates\\\": [5.727040549307324, 50.96383833543935]}\",\"{\\\"type\\\": \\\"Point\\\", \\\"coordinates\\\": [5.726004688797623, 50.96234023240248]}\",\"{\\\"type\\\": \\\"Point\\\", \\\"coordinates\\\": [5.729224454146559, 50.96273526355798]}\",\"{\\\"type\\\": \\\"Point\\\", \\\"coordinates\\\": [5.72319018482882, 50.96286079966391]}\",\"{\\\"type\\\": \\\"Point\\\", \\\"coordinates\\\": [5.72456653372424, 50.96421411433296]}\",\"{\\\"type\\\": \\\"Point\\\", \\\"coordinates\\\": [5.736587326344702, 50.96137393715766]}\",\"{\\\"type\\\": \\\"Point\\\", \\\"coordinates\\\": [5.733081518088645, 50.96079119966074]}\",\"{\\\"type\\\": \\\"Point\\\", \\\"coordinates\\\": [5.734587990385906, 50.96427436668423]}\",\"{\\\"type\\\": \\\"Point\\\", \\\"coordinates\\\": [5.735412824020683, 50.966060672056024]}\",\"{\\\"type\\\": \\\"Point\\\", \\\"coordinates\\\": [5.733009258424531, 50.96634653067967]}\",\"{\\\"type\\\": \\\"Point\\\", \\\"coordinates\\\": [5.731394904411073, 50.965569310470975]}\",\"{\\\"type\\\": \\\"Point\\\", \\\"coordinates\\\": [5.731744071351678, 50.96276374788826]}\",\"{\\\"type\\\": \\\"Point\\\", \\\"coordinates\\\": [5.737612412546715, 50.96328546642317]}\",\"{\\\"type\\\": \\\"Point\\\", \\\"coordinates\\\": [5.739952382091762, 50.96401544712451]}\",\"{\\\"type\\\": \\\"Point\\\", \\\"coordinates\\\": [5.74278684261421, 50.96610118143772]}\",\"{\\\"type\\\": \\\"Point\\\", \\\"coordinates\\\": [5.744053881399243, 50.969800695217835]}\",\"{\\\"type\\\": \\\"Point\\\", \\\"coordinates\\\": [5.7454203696689685, 50.971612226372926]}\",\"{\\\"type\\\": \\\"Point\\\", \\\"coordinates\\\": [5.749540735244014, 50.972372448378174]}\",\"{\\\"type\\\": \\\"Point\\\", \\\"coordinates\\\": [5.747767521060008, 50.969546490840045]}\",\"{\\\"type\\\": \\\"Point\\\", \\\"coordinates\\\": [5.747013603167618, 50.9677960073605]}\",\"{\\\"type\\\": \\\"Point\\\", \\\"coordinates\\\": [5.744696371277224, 50.96636496701256]}\",\"{\\\"type\\\": \\\"Point\\\", \\\"coordinates\\\": [5.741387199334945, 50.967354923591024]}\",\"{\\\"type\\\": \\\"Point\\\", \\\"coordinates\\\": [5.739864669903062, 50.96744047091432]}\",\"{\\\"type\\\": \\\"Point\\\", \\\"coordinates\\\": [5.738214820177119, 50.969503933911994]}\",\"{\\\"type\\\": \\\"Point\\\", \\\"coordinates\\\": [5.739274773786346, 50.97035465762926]}\",\"{\\\"type\\\": \\\"Point\\\", \\\"coordinates\\\": [5.7390889007821695, 50.97211703972255]}\",\"{\\\"type\\\": \\\"Point\\\", \\\"coordinates\\\": [5.735229522680301, 50.971957915884964]}\",\"{\\\"type\\\": \\\"Point\\\", \\\"coordinates\\\": [5.73634968829575, 50.97323995074631]}\",\"{\\\"type\\\": \\\"Point\\\", \\\"coordinates\\\": [5.7380693833050165, 50.97471791478671]}\",\"{\\\"type\\\": \\\"Point\\\", \\\"coordinates\\\": [5.7476122910581084, 50.96242779257776]}\",\"{\\\"type\\\": \\\"Point\\\", \\\"coordinates\\\": [5.74545176314163, 50.97565711862678]}\",\"{\\\"type\\\": \\\"Point\\\", \\\"coordinates\\\": [5.74355004555877, 50.97461128940546]}\",\"{\\\"type\\\": \\\"Point\\\", \\\"coordinates\\\": [5.740260684397395, 50.976410149310325]}\",\"{\\\"type\\\": \\\"Point\\\", \\\"coordinates\\\": [5.738056282825542, 50.97674044852618]}\",\"{\\\"type\\\": \\\"Point\\\", \\\"coordinates\\\": [5.741016417366543, 50.97841235925492]}\",\"{\\\"type\\\": \\\"Point\\\", \\\"coordinates\\\": [5.746950462240393, 50.97978735069231]}\",\"{\\\"type\\\": \\\"Point\\\", \\\"coordinates\\\": [5.744687076676929, 50.97803254230738]}\",\"{\\\"type\\\": \\\"Point\\\", \\\"coordinates\\\": [5.749730800697625, 50.97663257647666]}\",\"{\\\"type\\\": \\\"Point\\\", \\\"coordinates\\\": [5.749949775671167, 50.975508282309235]}\",\"{\\\"type\\\": \\\"Point\\\", \\\"coordinates\\\": [5.748076085550668, 50.97441749504645]}\",\"{\\\"type\\\": \\\"Point\\\", \\\"coordinates\\\": [5.7555098020304785, 50.98712232908272]}\",\"{\\\"type\\\": \\\"Point\\\", \\\"coordinates\\\": [5.753186059734889, 50.98502630007287]}\",\"{\\\"type\\\": \\\"Point\\\", \\\"coordinates\\\": [5.745959728072044, 50.96957008407396]}\",\"{\\\"type\\\": \\\"Point\\\", \\\"coordinates\\\": [5.745614379455959, 50.97642965784425]}\",\"{\\\"type\\\": \\\"Point\\\", \\\"coordinates\\\": [5.756361105092538, 50.98494431204329]}\",\"{\\\"type\\\": \\\"Point\\\", \\\"coordinates\\\": [5.749784124429802, 50.97435822611774]}\",\"{\\\"type\\\": \\\"Point\\\", \\\"coordinates\\\": [5.741928185562481, 50.971065668031244]}\",\"{\\\"type\\\": \\\"Point\\\", \\\"coordinates\\\": [5.740570038522114, 50.97032374525311]}\",\"{\\\"type\\\": \\\"Point\\\", \\\"coordinates\\\": [5.742963926853747, 50.96876134112057]}\",\"{\\\"type\\\": \\\"Point\\\", \\\"coordinates\\\": [5.730532011630795, 50.96438534322504]}\",\"{\\\"type\\\": \\\"Point\\\", \\\"coordinates\\\": [5.729306744969263, 50.964236159703006]}\",\"{\\\"type\\\": \\\"Point\\\", \\\"coordinates\\\": [5.7300241393502604, 50.9630834637602]}\",\"{\\\"type\\\": \\\"Point\\\", \\\"coordinates\\\": [5.732147441275604, 50.959598468395555]}\",\"{\\\"type\\\": \\\"Point\\\", \\\"coordinates\\\": [5.735280383581161, 50.959822801241096]}\",\"{\\\"type\\\": \\\"Point\\\", \\\"coordinates\\\": [5.736609279568518, 50.958632268418626]}\",\"{\\\"type\\\": \\\"Point\\\", \\\"coordinates\\\": [5.735105876589793, 50.95744127793481]}\",\"{\\\"type\\\": \\\"Point\\\", \\\"coordinates\\\": [5.733573070869764, 50.95801217247905]}\",\"{\\\"type\\\": \\\"Point\\\", \\\"coordinates\\\": [5.7322532347161435, 50.95661385203215]}\",\"{\\\"type\\\": \\\"Point\\\", \\\"coordinates\\\": [5.7291092877765335, 50.95679396886497]}\",\"{\\\"type\\\": \\\"Point\\\", \\\"coordinates\\\": [5.72572798754482, 50.95760391457656]}\",\"{\\\"type\\\": \\\"Point\\\", \\\"coordinates\\\": [5.730699512884221, 50.958200511825886]}\",\"{\\\"type\\\": \\\"Point\\\", \\\"coordinates\\\": [5.729217913207587, 50.959930759254505]}\",\"{\\\"type\\\": \\\"Point\\\", \\\"coordinates\\\": [5.731416456905258, 50.96082312894543]}\",\"{\\\"type\\\": \\\"Point\\\", \\\"coordinates\\\": [5.730014728846313, 50.96181606262127]}\",\"{\\\"type\\\": \\\"Point\\\", \\\"coordinates\\\": [5.727026986288386, 50.96199565955479]}\",\"{\\\"type\\\": \\\"Point\\\", \\\"coordinates\\\": [5.735443658451969, 50.962599868019865]}\",\"{\\\"type\\\": \\\"Point\\\", \\\"coordinates\\\": [5.751955241398621, 50.96083215065749]}\"],\n",
       "\"distance_river\":[7.656807903291873E-4,8.399412747680412E-4,0.001930046854131457,0.00327556015760906,0.004521018755038151,0.00567163850067821,0.0032970434199508735,0.002186950309714675,0.0033435742840713656,0.005343477424773528,0.0054078421418997805,0.00414749303064824,7.234917981191287E-4,0.002253432417517619,0.0032395483251313776,6.896036389657046E-4,6.615410622228474E-4,6.55590015314389E-4,6.465361866188895E-4,4.684294556597597E-4,0.0014909862332852287,0.002200039194711644,0.0024426399512805386,0.0061047371242168086,0.00654878082338889,0.00701656253941272,0.005210745171874904,0.005321915868196096,0.004320813570596575,0.00785506116703705,0.0077549787439128845,0.005370598321431504,0.00498591281016168,0.006716477693454915,0.007143906037902932,0.004370775606717567,0.002878263117020966,0.0013472352073264516,6.202240264546766E-4,5.931681347691863E-4,0.002564339184742899,0.0041159446989409475,0.003366949479530701,0.004235444830493508,0.0017137091463303115,0.0025534825361611248,0.0037367304831311017,0.005044401159273721,0.00631433734119138,0.00703049348560986,0.007153555318846526,6.534833847978179E-4,5.523285466502311E-4,4.73906498883044E-4,5.816195432311776E-4,5.752322108845042E-4,0.0021454765460147463,0.0016280114866146535,0.0012708388311218298,7.200029988758224E-4,5.891909348561559E-4,6.486552471640591E-4,9.904771815457429E-4,7.23126046171102E-4,5.045222646080738E-4,3.9051224325469946E-4,0.003357763338280298,0.006902775778144108,0.006136000069448448,0.001460196208772544,0.0019432350241880706,0.0014009822209629331,0.0018671519069484242,0.0025439960237555173,0.00266596769871718,0.0032781327653752293,0.003849136160511001,7.47588800919451E-4,6.718467746005843E-4,2.445120313881326E-4,5.248759088888759E-4,0.0011504626465722587,6.09789976043598E-4,0.004044717629985707,0.0024152654185087045,0.002809148974354529,9.628886713638189E-4,0.0012907947123653172,0.0023652076022315995,0.0027546369725442318,0.004485970534856274,2.880127406673881E-4,4.174517682176499E-4,0.004276238902817182,0.004553399967225713,0.006556488628653267,0.005707689464420439,0.003956269869505453,0.0034937370986067983,0.005931170652778112,0.00512908174777504,0.004453533954619968,0.005314458385455403,0.008718726078684593,0.008683933292760349,0.009095222237111407,0.008491337489673357,0.0066876668770806495,0.005226853229751658,0.006938410870360674,0.007533996597218081,0.005314849318814715,0.005727423724984236,0.004655395477652605,0.0014527258847079922,0.0017145961507619228,0.002785819636516174,0.0014503663421318756,0.0047598724881237,0.0053392001271436885,0.003188499242301237,0.001793882026055754,0.0012902884879911855,0.001244600796997322,0.0022712367762348987,0.005217677214720309,0.006337530067834329,0.006698527282131875,0.0017295596028765398,0.0012677424801939572,0.008408464975148373,0.004053906280909625,0.003723950203139317,0.007340850526801574,0.007671487331870093,0.006839838037152377,0.007887880469956955,0.003906830477004534,0.003278756499866989,0.004629906903405028,0.0033980542671500054,0.0033234738625694616,0.0018625457214555355,0.0010341599659165687,0.0017416405033762522,4.1715186953869934E-4,4.362137312089019E-4,3.26284552707943E-4,0.0019632761027160296,0.0034907130435745154,0.004603485358665565,0.005519371337650458,0.0037280955520178757,0.005948587576458624,0.0010472005066848842]\n",
       "},\n",
       "\"mapping\":{\n",
       "\"fill\":\"distance_river\"\n",
       "},\n",
       "\"data_meta\":{\n",
       "\"geodataframe\":{\n",
       "\"geometry\":\"geometry\"\n",
       "}\n",
       "},\n",
       "\"size\":3,\n",
       "\"shape\":21,\n",
       "\"color\":\"black\"\n",
       "}]\n",
       "}\n",
       "}]\n",
       "};\n",
       "       var plotContainer = document.getElementById(\"8B5qJK\");\n",
       "       LetsPlot.buildPlotFromProcessedSpecs(plotSpec, -1, -1, plotContainer);\n",
       "   </script>\n",
       "   </body>\n",
       "</html>"
      ]
     },
     "metadata": {},
     "output_type": "display_data"
    }
   ],
   "source": [
    "w, h = 480, 480\n",
    "offset = 15\n",
    "bunch = lp.GGBunch() # plot both\n",
    "bunch.add_plot(dist_compare, 0, 0, w, h)\n",
    "bunch.add_plot(dist_map, w + offset, 0, w, h)\n",
    "bunch.show()"
   ]
  },
  {
   "cell_type": "markdown",
   "metadata": {},
   "source": [
    "The left plot shows that distances are comparable, and the right plot shows that points away from the river are going darker. Good!\n",
    "\n",
    "# Model spatial attributes with Gaussian processes\n",
    "\n",
    "This part is probably the most difficult. Our workflow is the following.\n",
    "\n",
    "1. Assign observations to training and testing\n",
    "2. Preprocess data (standardize to 0 mean and 1 variance)\n",
    "3. Arrange data to a format amenable to coregionalisation with *PyMC*\n",
    "4. Create the model\n",
    "5. Fit the model\n",
    "6. Predict and criticize the model\n",
    "7. Use the model\n",
    "\n",
    "## Asssign to train / test\n",
    "\n",
    "This is a necessary step to check if the model is good to predict at locations unknown by the model. This must be done with randomness, and it's usually good to back check if distributions in both sets are similar (I won't do it here though). I retain 70% of data in training, the rest in testing."
   ]
  },
  {
   "cell_type": "code",
   "execution_count": 14,
   "metadata": {
    "nextjournal": {
     "id": "813079cc-ea28-4b69-a16d-cdd0f21f2720",
     "kind": "code",
     "language": "python"
    }
   },
   "outputs": [],
   "source": [
    "obs_id = meuse_gdf.index\n",
    "n_train = np.round(obs_id.shape[0] * 0.7, 0).astype(\"int\")\n",
    "id_train = np.random.choice(obs_id, size = n_train, replace = False)\n",
    "id_test = obs_id[~obs_id.isin(id_train)].values"
   ]
  },
  {
   "cell_type": "markdown",
   "metadata": {},
   "source": [
    "I prefer to perform the split operation after preprocessing and arrangements.\n",
    "\n",
    "## Preprocess data\n",
    "\n",
    "I identify the columns I want to predict (targets, outcomes or outputs) and those containing the information needed to predict (features)."
   ]
  },
  {
   "cell_type": "code",
   "execution_count": 15,
   "metadata": {
    "nextjournal": {
     "id": "8c8f7edc-6ab3-4bf7-aabc-a513b4685429",
     "kind": "code",
     "language": "python"
    }
   },
   "outputs": [],
   "source": [
    "targets = [\"cadmium\", \"copper\", \"lead\", \"zinc\"]\n",
    "features = [\"x\", \"y\", \"distance_river\"]"
   ]
  },
  {
   "cell_type": "markdown",
   "metadata": {},
   "source": [
    "The data set contains other information useful to predict soil pollutants. I could have used the elevation, flood frequency, soil type, etc. But remember that if you want to predict pollutants at any location on your map, you also need to provide the features at any location. What would you do to obtain them? Think about it 30 seconds...\n",
    "\n",
    "⏲️\n",
    "\n",
    "For categorical variables (e.g. `soil`), you could draw polygons in your GIS to delimit zones and perform spatial queries to assign the category to enclosure in a polygon. But this would be impossible for numerical variables. In all cases (categories and numerical), you could create a simple spatial model, e.g. a *k*-nearest neighbors model with scikit-learn with the variable of interest (e.g. `elev`) as target and the position (`x` any `y`), then use this model to predict at any location what would become a feature for the soil pollutant model. By doing so, you should fit the soil pollutant model on the outcomes of your first spatial model, not the original points.\n",
    "\n",
    "I won't do that here, since it would just make the approach more complicated - we will stick on the position and the distance from the river as features."
   ]
  },
  {
   "cell_type": "code",
   "execution_count": 16,
   "metadata": {
    "nextjournal": {
     "id": "045746d6-1778-4e4f-8c1d-8c78bff37782",
     "kind": "code",
     "language": "python"
    }
   },
   "outputs": [],
   "source": [
    "XY = meuse_gdf[targets + features]"
   ]
  },
  {
   "cell_type": "markdown",
   "metadata": {},
   "source": [
    "The `XY` table must be standardized (or scaled, `_sc`) *on the training set*. Most tutorials online use scikit-learn tools, but since standardizing is a very simple operation, I prefer to stay explicit."
   ]
  },
  {
   "cell_type": "code",
   "execution_count": 17,
   "metadata": {
    "nextjournal": {
     "id": "51094e03-e67a-4c3a-96af-c3f7c43bb7b0",
     "kind": "code",
     "language": "python"
    }
   },
   "outputs": [],
   "source": [
    "mean_sc = XY.loc[XY.index.isin(id_train), :].mean(axis = 0)\n",
    "std_sc = XY.loc[XY.index.isin(id_train), :].std(axis = 0)\n",
    "XY_sc = XY.apply(lambda x: (x-mean_sc)/std_sc, axis = 1)"
   ]
  },
  {
   "cell_type": "markdown",
   "metadata": {},
   "source": [
    "> Note that concentration values are compositional data. Usually, I would have transformed them to log-ratios before scaling, but this would have complicated this workflow. For more info, read *[Why, and How, Should Geologists Use Compositional Data Analysis](https://en.wikibooks.org/wiki/Why,_and_How,_Should_Geologists_Use_Compositional_Data_Analysis)*[, by Ricardo A. Valls (2008)](https://en.wikibooks.org/wiki/Why,_and_How,_Should_Geologists_Use_Compositional_Data_Analysis).\n",
    "\n",
    "## Arrange data\n",
    "\n",
    "Coregionalization in *PyMC* needs a special format: the target is a single column of a matrix in long format, stacking all outputs into a vector and adding an integer (starting from 0) in the feature matrix indentifying to which output it belongs.\n",
    "\n",
    "The first step to arrange our data set is to create a long format along the targets with the `melt()` method. The `variable` contains the target identifier and the `value` column contains its value. o keep track of the index for train/test split down the road, I \"reset\" the index so that it becomes a genuine column."
   ]
  },
  {
   "cell_type": "code",
   "execution_count": 18,
   "metadata": {
    "nextjournal": {
     "id": "7fb1ec4d-5c39-4278-bd12-be8487e5a28a",
     "kind": "code",
     "language": "python"
    }
   },
   "outputs": [
    {
     "data": {
      "text/html": [
       "<div>\n",
       "<style scoped>\n",
       "    .dataframe tbody tr th:only-of-type {\n",
       "        vertical-align: middle;\n",
       "    }\n",
       "\n",
       "    .dataframe tbody tr th {\n",
       "        vertical-align: top;\n",
       "    }\n",
       "\n",
       "    .dataframe thead th {\n",
       "        text-align: right;\n",
       "    }\n",
       "</style>\n",
       "<table border=\"1\" class=\"dataframe\">\n",
       "  <thead>\n",
       "    <tr style=\"text-align: right;\">\n",
       "      <th></th>\n",
       "      <th>index</th>\n",
       "      <th>x</th>\n",
       "      <th>y</th>\n",
       "      <th>distance_river</th>\n",
       "      <th>variable</th>\n",
       "      <th>value</th>\n",
       "    </tr>\n",
       "  </thead>\n",
       "  <tbody>\n",
       "    <tr>\n",
       "      <th>501</th>\n",
       "      <td>36</td>\n",
       "      <td>0.791636</td>\n",
       "      <td>0.751319</td>\n",
       "      <td>-0.226376</td>\n",
       "      <td>zinc</td>\n",
       "      <td>0.249071</td>\n",
       "    </tr>\n",
       "    <tr>\n",
       "      <th>570</th>\n",
       "      <td>105</td>\n",
       "      <td>0.547928</td>\n",
       "      <td>-0.162460</td>\n",
       "      <td>2.308461</td>\n",
       "      <td>zinc</td>\n",
       "      <td>-0.965945</td>\n",
       "    </tr>\n",
       "    <tr>\n",
       "      <th>506</th>\n",
       "      <td>41</td>\n",
       "      <td>0.696871</td>\n",
       "      <td>0.514527</td>\n",
       "      <td>0.278263</td>\n",
       "      <td>zinc</td>\n",
       "      <td>-0.831540</td>\n",
       "    </tr>\n",
       "    <tr>\n",
       "      <th>82</th>\n",
       "      <td>82</td>\n",
       "      <td>-1.079929</td>\n",
       "      <td>-0.437228</td>\n",
       "      <td>-1.151299</td>\n",
       "      <td>cadmium</td>\n",
       "      <td>0.763428</td>\n",
       "    </tr>\n",
       "    <tr>\n",
       "      <th>525</th>\n",
       "      <td>60</td>\n",
       "      <td>-0.662126</td>\n",
       "      <td>0.277447</td>\n",
       "      <td>-1.159698</td>\n",
       "      <td>zinc</td>\n",
       "      <td>1.157645</td>\n",
       "    </tr>\n",
       "    <tr>\n",
       "      <th>353</th>\n",
       "      <td>43</td>\n",
       "      <td>0.497786</td>\n",
       "      <td>0.362794</td>\n",
       "      <td>0.326987</td>\n",
       "      <td>lead</td>\n",
       "      <td>-0.835414</td>\n",
       "    </tr>\n",
       "    <tr>\n",
       "      <th>76</th>\n",
       "      <td>76</td>\n",
       "      <td>-1.284631</td>\n",
       "      <td>-1.062300</td>\n",
       "      <td>0.169478</td>\n",
       "      <td>cadmium</td>\n",
       "      <td>-0.189754</td>\n",
       "    </tr>\n",
       "    <tr>\n",
       "      <th>561</th>\n",
       "      <td>96</td>\n",
       "      <td>-0.753365</td>\n",
       "      <td>-0.823206</td>\n",
       "      <td>0.927265</td>\n",
       "      <td>zinc</td>\n",
       "      <td>-0.672943</td>\n",
       "    </tr>\n",
       "  </tbody>\n",
       "</table>\n",
       "</div>"
      ],
      "text/plain": [
       "     index         x         y  distance_river variable     value\n",
       "501     36  0.791636  0.751319       -0.226376     zinc  0.249071\n",
       "570    105  0.547928 -0.162460        2.308461     zinc -0.965945\n",
       "506     41  0.696871  0.514527        0.278263     zinc -0.831540\n",
       "82      82 -1.079929 -0.437228       -1.151299  cadmium  0.763428\n",
       "525     60 -0.662126  0.277447       -1.159698     zinc  1.157645\n",
       "353     43  0.497786  0.362794        0.326987     lead -0.835414\n",
       "76      76 -1.284631 -1.062300        0.169478  cadmium -0.189754\n",
       "561     96 -0.753365 -0.823206        0.927265     zinc -0.672943"
      ]
     },
     "execution_count": 18,
     "metadata": {},
     "output_type": "execute_result"
    }
   ],
   "source": [
    "XY_m = (\n",
    "  XY_sc\n",
    "  .reset_index()\n",
    "  .melt(id_vars = [\"index\"] + features, value_vars = targets)\n",
    ")\n",
    "XY_m.sample(8)"
   ]
  },
  {
   "cell_type": "markdown",
   "metadata": {},
   "source": [
    "As I wrote, the variable must be an interger, while the variables in previous table are specified as strings. We can create a helper table, then merge it to our initial table."
   ]
  },
  {
   "cell_type": "code",
   "execution_count": 19,
   "metadata": {
    "nextjournal": {
     "id": "384243e5-aedd-4dfe-86a9-de1c56de2690",
     "kind": "code",
     "language": "python"
    }
   },
   "outputs": [
    {
     "data": {
      "text/html": [
       "<div>\n",
       "<style scoped>\n",
       "    .dataframe tbody tr th:only-of-type {\n",
       "        vertical-align: middle;\n",
       "    }\n",
       "\n",
       "    .dataframe tbody tr th {\n",
       "        vertical-align: top;\n",
       "    }\n",
       "\n",
       "    .dataframe thead th {\n",
       "        text-align: right;\n",
       "    }\n",
       "</style>\n",
       "<table border=\"1\" class=\"dataframe\">\n",
       "  <thead>\n",
       "    <tr style=\"text-align: right;\">\n",
       "      <th></th>\n",
       "      <th>variable</th>\n",
       "      <th>variable_id</th>\n",
       "    </tr>\n",
       "  </thead>\n",
       "  <tbody>\n",
       "    <tr>\n",
       "      <th>0</th>\n",
       "      <td>cadmium</td>\n",
       "      <td>0</td>\n",
       "    </tr>\n",
       "    <tr>\n",
       "      <th>1</th>\n",
       "      <td>copper</td>\n",
       "      <td>1</td>\n",
       "    </tr>\n",
       "    <tr>\n",
       "      <th>2</th>\n",
       "      <td>lead</td>\n",
       "      <td>2</td>\n",
       "    </tr>\n",
       "    <tr>\n",
       "      <th>3</th>\n",
       "      <td>zinc</td>\n",
       "      <td>3</td>\n",
       "    </tr>\n",
       "  </tbody>\n",
       "</table>\n",
       "</div>"
      ],
      "text/plain": [
       "  variable  variable_id\n",
       "0  cadmium            0\n",
       "1   copper            1\n",
       "2     lead            2\n",
       "3     zinc            3"
      ]
     },
     "execution_count": 19,
     "metadata": {},
     "output_type": "execute_result"
    }
   ],
   "source": [
    "variable_ids = pd.DataFrame(dict(\n",
    "    variable = targets,\n",
    "    variable_id = np.arange(0, len(targets))\n",
    "))\n",
    "variable_ids"
   ]
  },
  {
   "cell_type": "code",
   "execution_count": 20,
   "metadata": {
    "nextjournal": {
     "id": "656596f0-be60-48e6-88b8-21656e11e2f2",
     "kind": "code",
     "language": "python"
    }
   },
   "outputs": [
    {
     "data": {
      "text/html": [
       "<div>\n",
       "<style scoped>\n",
       "    .dataframe tbody tr th:only-of-type {\n",
       "        vertical-align: middle;\n",
       "    }\n",
       "\n",
       "    .dataframe tbody tr th {\n",
       "        vertical-align: top;\n",
       "    }\n",
       "\n",
       "    .dataframe thead th {\n",
       "        text-align: right;\n",
       "    }\n",
       "</style>\n",
       "<table border=\"1\" class=\"dataframe\">\n",
       "  <thead>\n",
       "    <tr style=\"text-align: right;\">\n",
       "      <th></th>\n",
       "      <th>index</th>\n",
       "      <th>x</th>\n",
       "      <th>y</th>\n",
       "      <th>distance_river</th>\n",
       "      <th>variable</th>\n",
       "      <th>value</th>\n",
       "      <th>variable_id</th>\n",
       "    </tr>\n",
       "  </thead>\n",
       "  <tbody>\n",
       "    <tr>\n",
       "      <th>443</th>\n",
       "      <td>133</td>\n",
       "      <td>0.570346</td>\n",
       "      <td>0.045421</td>\n",
       "      <td>1.593152</td>\n",
       "      <td>lead</td>\n",
       "      <td>-0.953772</td>\n",
       "      <td>2</td>\n",
       "    </tr>\n",
       "    <tr>\n",
       "      <th>328</th>\n",
       "      <td>18</td>\n",
       "      <td>0.785088</td>\n",
       "      <td>1.129623</td>\n",
       "      <td>-1.136317</td>\n",
       "      <td>lead</td>\n",
       "      <td>0.484726</td>\n",
       "      <td>2</td>\n",
       "    </tr>\n",
       "    <tr>\n",
       "      <th>276</th>\n",
       "      <td>121</td>\n",
       "      <td>-0.509881</td>\n",
       "      <td>0.294803</td>\n",
       "      <td>-0.668510</td>\n",
       "      <td>copper</td>\n",
       "      <td>-0.642702</td>\n",
       "      <td>1</td>\n",
       "    </tr>\n",
       "    <tr>\n",
       "      <th>594</th>\n",
       "      <td>129</td>\n",
       "      <td>0.883691</td>\n",
       "      <td>1.162204</td>\n",
       "      <td>-0.883033</td>\n",
       "      <td>zinc</td>\n",
       "      <td>-0.006297</td>\n",
       "      <td>3</td>\n",
       "    </tr>\n",
       "    <tr>\n",
       "      <th>561</th>\n",
       "      <td>96</td>\n",
       "      <td>-0.753365</td>\n",
       "      <td>-0.823206</td>\n",
       "      <td>0.927265</td>\n",
       "      <td>zinc</td>\n",
       "      <td>-0.672943</td>\n",
       "      <td>3</td>\n",
       "    </tr>\n",
       "    <tr>\n",
       "      <th>66</th>\n",
       "      <td>66</td>\n",
       "      <td>-0.740633</td>\n",
       "      <td>-0.485432</td>\n",
       "      <td>-0.030870</td>\n",
       "      <td>cadmium</td>\n",
       "      <td>1.160587</td>\n",
       "      <td>0</td>\n",
       "    </tr>\n",
       "    <tr>\n",
       "      <th>396</th>\n",
       "      <td>86</td>\n",
       "      <td>-1.329603</td>\n",
       "      <td>-0.720567</td>\n",
       "      <td>-1.007330</td>\n",
       "      <td>lead</td>\n",
       "      <td>0.566666</td>\n",
       "      <td>2</td>\n",
       "    </tr>\n",
       "    <tr>\n",
       "      <th>610</th>\n",
       "      <td>145</td>\n",
       "      <td>-1.044388</td>\n",
       "      <td>-1.812143</td>\n",
       "      <td>-1.229843</td>\n",
       "      <td>zinc</td>\n",
       "      <td>0.364659</td>\n",
       "      <td>3</td>\n",
       "    </tr>\n",
       "  </tbody>\n",
       "</table>\n",
       "</div>"
      ],
      "text/plain": [
       "     index         x         y  distance_river variable     value  variable_id\n",
       "443    133  0.570346  0.045421        1.593152     lead -0.953772            2\n",
       "328     18  0.785088  1.129623       -1.136317     lead  0.484726            2\n",
       "276    121 -0.509881  0.294803       -0.668510   copper -0.642702            1\n",
       "594    129  0.883691  1.162204       -0.883033     zinc -0.006297            3\n",
       "561     96 -0.753365 -0.823206        0.927265     zinc -0.672943            3\n",
       "66      66 -0.740633 -0.485432       -0.030870  cadmium  1.160587            0\n",
       "396     86 -1.329603 -0.720567       -1.007330     lead  0.566666            2\n",
       "610    145 -1.044388 -1.812143       -1.229843     zinc  0.364659            3"
      ]
     },
     "execution_count": 20,
     "metadata": {},
     "output_type": "execute_result"
    }
   ],
   "source": [
    "XY_m = XY_m.merge(variable_ids, on = \"variable\")\n",
    "XY_m.sample(8)"
   ]
  },
  {
   "cell_type": "markdown",
   "metadata": {},
   "source": [
    "## Create the model\n",
    "\n",
    "*PyMC* works with directed acyclic graphs, a fancy word referring to variables plugged together to generate an outcome (without feedback loops since they are \"acyclic\"). I consider the model to be something fixed, where I don't specify if it's for training or testing. This is why I use the `_mod` subscript instead of `_train` to define the objects in my model."
   ]
  },
  {
   "cell_type": "code",
   "execution_count": 21,
   "metadata": {
    "nextjournal": {
     "id": "f9b1dcf0-2236-42d6-bc6b-68d2a4d94987",
     "kind": "code",
     "language": "python"
    }
   },
   "outputs": [],
   "source": [
    "X_mod = XY_m.loc[XY_m[\"index\"].isin(id_train), [\"variable_id\"] + features].values\n",
    "id_col = 0\n",
    "n_mod = n_train\n",
    "y_mod = XY_m.loc[XY_m[\"index\"].isin(id_train), \"value\"].values"
   ]
  },
  {
   "cell_type": "markdown",
   "metadata": {},
   "source": [
    "In *PyMC*, models are defined in a `with` statement. At this point you might want to have a look a the model in the `with` statement below, then scroll back up. The block `## Feature covariance` in the model code block below defines the kernel of the features (x-y coordinates and distance to the river). *PyMC* allows to define priors on the hyperparameters of the kernel (lenght scale and amplitude). I used a half-Cauchy prior on length scale and another on amplitude. I tend to intensively use Cauchy priors since they have a thicker tail than normal distributions, thus allowing more extreme values. Half Cauchy, like half normal, restricts to positive values (and by default comes with zero mean). Such poorly informative priors allow a lot of flexibility. The following plot shows a half Cauchy prior where the value is probably close to zero, but might be higher."
   ]
  },
  {
   "cell_type": "code",
   "execution_count": 22,
   "metadata": {},
   "outputs": [
    {
     "data": {
      "text/html": [
       "<html lang=\"en\">\n",
       "   <head>\n",
       "       <script type=\"text/javascript\" data-lets-plot-script=\"library\" src=\"https://cdn.jsdelivr.net/gh/JetBrains/lets-plot@v2.3.0/js-package/distr/lets-plot.min.js\"></script>\n",
       "   </head>\n",
       "   <body>\n",
       "          <div id=\"ivQiDp\"></div>\n",
       "   <script type=\"text/javascript\" data-lets-plot-script=\"plot\">\n",
       "       var plotSpec={\n",
       "\"data\":{\n",
       "\"x\":[0.0,0.30303030303030304,0.6060606060606061,0.9090909090909092,1.2121212121212122,1.5151515151515151,1.8181818181818183,2.121212121212121,2.4242424242424243,2.7272727272727275,3.0303030303030303,3.3333333333333335,3.6363636363636367,3.9393939393939394,4.242424242424242,4.545454545454546,4.848484848484849,5.151515151515151,5.454545454545455,5.757575757575758,6.0606060606060606,6.363636363636364,6.666666666666667,6.96969696969697,7.272727272727273,7.575757575757576,7.878787878787879,8.181818181818182,8.484848484848484,8.787878787878789,9.090909090909092,9.393939393939394,9.696969696969697,10.0,10.303030303030303,10.606060606060606,10.90909090909091,11.212121212121213,11.515151515151516,11.818181818181818,12.121212121212121,12.424242424242424,12.727272727272728,13.030303030303031,13.333333333333334,13.636363636363637,13.93939393939394,14.242424242424242,14.545454545454547,14.84848484848485,15.151515151515152,15.454545454545455,15.757575757575758,16.060606060606062,16.363636363636363,16.666666666666668,16.96969696969697,17.272727272727273,17.575757575757578,17.87878787878788,18.181818181818183,18.484848484848484,18.78787878787879,19.09090909090909,19.393939393939394,19.6969696969697,20.0,20.303030303030305,20.606060606060606,20.90909090909091,21.21212121212121,21.515151515151516,21.81818181818182,22.12121212121212,22.424242424242426,22.727272727272727,23.03030303030303,23.333333333333336,23.636363636363637,23.93939393939394,24.242424242424242,24.545454545454547,24.848484848484848,25.151515151515152,25.454545454545457,25.757575757575758,26.060606060606062,26.363636363636363,26.666666666666668,26.96969696969697,27.272727272727273,27.575757575757578,27.87878787878788,28.181818181818183,28.484848484848484,28.78787878787879,29.090909090909093,29.393939393939394,29.6969696969697,30.0,0.0,0.30303030303030304,0.6060606060606061,0.9090909090909092,1.2121212121212122,1.5151515151515151,1.8181818181818183,2.121212121212121,2.4242424242424243,2.7272727272727275,3.0303030303030303,3.3333333333333335,3.6363636363636367,3.9393939393939394,4.242424242424242,4.545454545454546,4.848484848484849,5.151515151515151,5.454545454545455,5.757575757575758,6.0606060606060606,6.363636363636364,6.666666666666667,6.96969696969697,7.272727272727273,7.575757575757576,7.878787878787879,8.181818181818182,8.484848484848484,8.787878787878789,9.090909090909092,9.393939393939394,9.696969696969697,10.0,10.303030303030303,10.606060606060606,10.90909090909091,11.212121212121213,11.515151515151516,11.818181818181818,12.121212121212121,12.424242424242424,12.727272727272728,13.030303030303031,13.333333333333334,13.636363636363637,13.93939393939394,14.242424242424242,14.545454545454547,14.84848484848485,15.151515151515152,15.454545454545455,15.757575757575758,16.060606060606062,16.363636363636363,16.666666666666668,16.96969696969697,17.272727272727273,17.575757575757578,17.87878787878788,18.181818181818183,18.484848484848484,18.78787878787879,19.09090909090909,19.393939393939394,19.6969696969697,20.0,20.303030303030305,20.606060606060606,20.90909090909091,21.21212121212121,21.515151515151516,21.81818181818182,22.12121212121212,22.424242424242426,22.727272727272727,23.03030303030303,23.333333333333336,23.636363636363637,23.93939393939394,24.242424242424242,24.545454545454547,24.848484848484848,25.151515151515152,25.454545454545457,25.757575757575758,26.060606060606062,26.363636363636363,26.666666666666668,26.96969696969697,27.272727272727273,27.575757575757578,27.87878787878788,28.181818181818183,28.484848484848484,28.78787878787879,29.090909090909093,29.393939393939394,29.6969696969697,30.0],\n",
       "\"y\":[0.06366197723675814,0.06360357175305469,0.06342899653323844,0.06314015775121094,0.0627401748514295,0.06223329731672317,0.06162479396518189,0.06092082004466574,0.06012826817938387,0.05925460958190565,0.05830773188463382,0.057295779513082325,0.05622700179304916,0.05510961304517457,0.053951667868349894,0.05276095373731325,0.05154490201548669,0.05031051756954254,0.04906432640539958,0.04781234014539973,0.04656003573595004,0.0453123485038102,0.04407367654852486,0.042847894444270465,0.041638374300798565,0.04044801237504646,0.0392792596095352,0.038134154681424434,0.03701435836136125,0.0359211881921397,0.03485565269523862,0.033818484493087615,0.032810171893435686,0.03183098861837907,0.030881021474757065,0.029960195856019712,0.029068299040180122,0.0282050013062773,0.02736987493518737,0.026562411191888735,0.025782035407523097,0.025028120292718274,0.02429999762033985,0.02359696841757304,0.022918311805232926,0.022263292617479,0.021631167928495978,0.021021192604860402,0.020432623993760567,0.01986472584837525,0.019316771582844696,0.018788046940604233,0.018277852151550124,0.017785503645672038,0.017310335383478058,0.01685169985678892,0.016408968807296954,0.01598153370466335,0.015568806020846532,0.015170217332785474,0.014785219281473578,0.01441328341181489,0.014053900914419137,0.01370658228762942,0.01337085693555055,0.013046272715624687,0.012732395447351627,0.012428808392045467,0.012135111712030388,0.011850921916381131,0.01157587129918678,0.011309607375339254,0.011051792318002487,0.010802102401188786,0.010560227450240609,0.010325870302476859,0.01009874627980038,0.009878582674669364,0.009665118250499038,0.009458102757275526,0.009257296462922901,0.00906246970076204,0.008873402433230464,0.008689883831891402,0.008511711873643902,0.008338692952950397,0.008170641509820813,0.008007379673230494,0.007848736919600318,0.007694549745930035,0.007544661357147634,0.007398921367217674,0.007257185513538114,0.007119315384147629,0.006985178157262429,0.006854646352662606,0.00672759759445217,0.0066039143847237206,0.006483483887667597,0.006366197723675813,0.07978845608028654,0.07975183067074836,0.0796420552845539,0.07945943198634835,0.07920446267812656,0.07887784680098377,0.07848047813822129,0.07801344074025734,0.07747800399734661,0.0768756168914518,0.07620790146369437,0.07547664553859863,0.07468379475079576,0.07383144392393949,0.07292182785527018,0.07195731156252466,0.07094038005270058,0.06987362767453088,0.06875974711838898,0.06760151812872324,0.06640179599500166,0.06516349988753802,0.06388960110447045,0.06258311129558394,0.06124707072762005,0.059884536654219944,0.058498571851719264,0.057092233379681015,0.05566856162234256,0.05423056966409562,0.052781233048746004,0.05132347996864882,0.04986018192592041,0.04839414490382867,0.046928101082198,0.04546470112627219,0.044006507073998134,0.042555985842163836,0.04111550336728444,0.039687319392617035,0.0382735829082342,0.036876328246732294,0.03549747183292551,0.03413880958180961,0.03280201493519872,0.03148863752376873,0.03020010243780295,0.0289377100867505,0.02770263662478961,0.02649593491695078,0.02531853601800834,0.024171251134299784,0.023054774036885155,0.02196968389301402,0.020916448481724238,0.019895427758549737,0.01890687773375841,0.017950954628264855,0.01702771927135783,0.01613714170463273,0.015279105957013345,0.014453414956466546,0.013659795544941778,0.012897903564186564,0.012167328981379184,0.011467601024962578,0.010798193302637612,0.010158528875160808,0.009547985261370708,0.008965899351718546,0.008411572209485038,0.00788427374080566,0.007383247216585717,0.0069077136313461145,0.006456875885985471,0.0060299227833601355,0.005626032827455689,0.005244377818741897,0.004884126240053905,0.004544446429019085,0.0042245095346405475,0.003923492257149481,0.0036405793716426556,0.003374966037324449,0.003125859895371118,0.002892482959526838,0.0026740733045249356,0.0024698865583042233,0.0022791972047594864,0.0021012997044300426,0.001935509441092,0.0017811635026832068,0.0016376213053574489,0.001504265069741864,0.0013805001586628292,0.0012657552857165523,0.0011594826040966053,0.0010611576850575214,9.7027939529724E-4,8.863696823876015E-4],\n",
       "\"stat\":[\"Half-Cauchy\",\"Half-Cauchy\",\"Half-Cauchy\",\"Half-Cauchy\",\"Half-Cauchy\",\"Half-Cauchy\",\"Half-Cauchy\",\"Half-Cauchy\",\"Half-Cauchy\",\"Half-Cauchy\",\"Half-Cauchy\",\"Half-Cauchy\",\"Half-Cauchy\",\"Half-Cauchy\",\"Half-Cauchy\",\"Half-Cauchy\",\"Half-Cauchy\",\"Half-Cauchy\",\"Half-Cauchy\",\"Half-Cauchy\",\"Half-Cauchy\",\"Half-Cauchy\",\"Half-Cauchy\",\"Half-Cauchy\",\"Half-Cauchy\",\"Half-Cauchy\",\"Half-Cauchy\",\"Half-Cauchy\",\"Half-Cauchy\",\"Half-Cauchy\",\"Half-Cauchy\",\"Half-Cauchy\",\"Half-Cauchy\",\"Half-Cauchy\",\"Half-Cauchy\",\"Half-Cauchy\",\"Half-Cauchy\",\"Half-Cauchy\",\"Half-Cauchy\",\"Half-Cauchy\",\"Half-Cauchy\",\"Half-Cauchy\",\"Half-Cauchy\",\"Half-Cauchy\",\"Half-Cauchy\",\"Half-Cauchy\",\"Half-Cauchy\",\"Half-Cauchy\",\"Half-Cauchy\",\"Half-Cauchy\",\"Half-Cauchy\",\"Half-Cauchy\",\"Half-Cauchy\",\"Half-Cauchy\",\"Half-Cauchy\",\"Half-Cauchy\",\"Half-Cauchy\",\"Half-Cauchy\",\"Half-Cauchy\",\"Half-Cauchy\",\"Half-Cauchy\",\"Half-Cauchy\",\"Half-Cauchy\",\"Half-Cauchy\",\"Half-Cauchy\",\"Half-Cauchy\",\"Half-Cauchy\",\"Half-Cauchy\",\"Half-Cauchy\",\"Half-Cauchy\",\"Half-Cauchy\",\"Half-Cauchy\",\"Half-Cauchy\",\"Half-Cauchy\",\"Half-Cauchy\",\"Half-Cauchy\",\"Half-Cauchy\",\"Half-Cauchy\",\"Half-Cauchy\",\"Half-Cauchy\",\"Half-Cauchy\",\"Half-Cauchy\",\"Half-Cauchy\",\"Half-Cauchy\",\"Half-Cauchy\",\"Half-Cauchy\",\"Half-Cauchy\",\"Half-Cauchy\",\"Half-Cauchy\",\"Half-Cauchy\",\"Half-Cauchy\",\"Half-Cauchy\",\"Half-Cauchy\",\"Half-Cauchy\",\"Half-Cauchy\",\"Half-Cauchy\",\"Half-Cauchy\",\"Half-Cauchy\",\"Half-Cauchy\",\"Half-Cauchy\",\"Half-normal\",\"Half-normal\",\"Half-normal\",\"Half-normal\",\"Half-normal\",\"Half-normal\",\"Half-normal\",\"Half-normal\",\"Half-normal\",\"Half-normal\",\"Half-normal\",\"Half-normal\",\"Half-normal\",\"Half-normal\",\"Half-normal\",\"Half-normal\",\"Half-normal\",\"Half-normal\",\"Half-normal\",\"Half-normal\",\"Half-normal\",\"Half-normal\",\"Half-normal\",\"Half-normal\",\"Half-normal\",\"Half-normal\",\"Half-normal\",\"Half-normal\",\"Half-normal\",\"Half-normal\",\"Half-normal\",\"Half-normal\",\"Half-normal\",\"Half-normal\",\"Half-normal\",\"Half-normal\",\"Half-normal\",\"Half-normal\",\"Half-normal\",\"Half-normal\",\"Half-normal\",\"Half-normal\",\"Half-normal\",\"Half-normal\",\"Half-normal\",\"Half-normal\",\"Half-normal\",\"Half-normal\",\"Half-normal\",\"Half-normal\",\"Half-normal\",\"Half-normal\",\"Half-normal\",\"Half-normal\",\"Half-normal\",\"Half-normal\",\"Half-normal\",\"Half-normal\",\"Half-normal\",\"Half-normal\",\"Half-normal\",\"Half-normal\",\"Half-normal\",\"Half-normal\",\"Half-normal\",\"Half-normal\",\"Half-normal\",\"Half-normal\",\"Half-normal\",\"Half-normal\",\"Half-normal\",\"Half-normal\",\"Half-normal\",\"Half-normal\",\"Half-normal\",\"Half-normal\",\"Half-normal\",\"Half-normal\",\"Half-normal\",\"Half-normal\",\"Half-normal\",\"Half-normal\",\"Half-normal\",\"Half-normal\",\"Half-normal\",\"Half-normal\",\"Half-normal\",\"Half-normal\",\"Half-normal\",\"Half-normal\",\"Half-normal\",\"Half-normal\",\"Half-normal\",\"Half-normal\",\"Half-normal\",\"Half-normal\",\"Half-normal\",\"Half-normal\",\"Half-normal\",\"Half-normal\"]\n",
       "},\n",
       "\"mapping\":{\n",
       "},\n",
       "\"data_meta\":{\n",
       "},\n",
       "\"kind\":\"plot\",\n",
       "\"scales\":[{\n",
       "\"aesthetic\":\"fill\",\n",
       "\"values\":[\"#ca0020\",\"#aaaaaa\"]\n",
       "},{\n",
       "\"name\":\"x\",\n",
       "\"aesthetic\":\"x\"\n",
       "},{\n",
       "\"name\":\"density\",\n",
       "\"aesthetic\":\"y\"\n",
       "}],\n",
       "\"layers\":[{\n",
       "\"geom\":\"area\",\n",
       "\"mapping\":{\n",
       "\"x\":\"x\",\n",
       "\"y\":\"y\",\n",
       "\"fill\":\"stat\"\n",
       "},\n",
       "\"position\":\"identity\",\n",
       "\"data_meta\":{\n",
       "},\n",
       "\"color\":\"white\",\n",
       "\"alpha\":0.6,\n",
       "\"size\":0,\n",
       "\"data\":{\n",
       "}\n",
       "}]\n",
       "};\n",
       "       var plotContainer = document.getElementById(\"ivQiDp\");\n",
       "       LetsPlot.buildPlotFromProcessedSpecs(plotSpec, -1, -1, plotContainer);\n",
       "   </script>\n",
       "   </body>\n",
       "</html>"
      ],
      "text/plain": [
       "<lets_plot.plot.core.PlotSpec at 0x217e0708>"
      ]
     },
     "execution_count": 22,
     "metadata": {},
     "output_type": "execute_result"
    }
   ],
   "source": [
    "# updated\n",
    "\n",
    "from scipy import stats\n",
    "x = np.linspace(0, 30, 100)\n",
    "data = {\n",
    "    'x': list(x) + list(x),\n",
    "    'y': list(stats.halfcauchy.pdf(x, 0, 10)) + list(stats.halfnorm.pdf(x, 0, 10)),\n",
    "    'stat': [\"Half-Cauchy\"] * x.size + [\"Half-normal\"] * x.size,\n",
    "}\n",
    "(\n",
    "    lp.ggplot(data) +\n",
    "    lp.geom_area(lp.aes(x = 'x', y = 'y', fill = 'stat'),\n",
    "                 position = 'identity', color = 'white', alpha = .6, size = 0) +\n",
    "    lp.scale_fill_manual(values = [\"#ca0020\", \"#aaaaaa\"]) +\n",
    "    lp.labs(x = \"x\", y = \"density\")\n",
    ")"
   ]
  },
  {
   "cell_type": "markdown",
   "metadata": {},
   "source": [
    "In the kernel definition (a `Matern32` kernel), we must specify the input dimensions (`input_dim`), which is the dimension of the feature matrix, including the output index. The active dimensions (`active_dims`) are the column indexes of the features included in the kernel, i.e. excluding the output index. In our case, the output column index is `0`, so the feature column indexes are `np.arange(1, X_mod.shape[1])`.\n",
    "\n",
    "The `## Coregion covariance` part also contain two hyperparameters I introduced in the Gaussian process introductory section above. The fist is `W`. It must be built as a `n_mod` by `n_mod` matrix. I chose to have independent normally distributed values at each element of the matrix. The other is `kappa`, always positive with a half Cauchy distribution and poorly informative. W and kappa could have been defined as fixed numbers, but distributions hold uncertainty and we Bayesians are never really sure of anything, right? ... Right?\n",
    "\n",
    "We must specify a noise parameter to allow the Gaussian process have prediction errors, avoiding over-fitting. It's also specified as a half Cauchy.\n",
    "\n",
    "The `pm.gp.Marginal()` function specifies that we need an exact Gaussian process, i.e. to predict continuous values. For categorical outputs, or even Poisson, we might select a `pm.gp.Latent()` function. The final resulting model is specified in the `gp.marginal_likelihood()` function."
   ]
  },
  {
   "cell_type": "code",
   "execution_count": 23,
   "metadata": {
    "nextjournal": {
     "id": "1b126452-4f17-4d78-a38a-544a7337a854",
     "kind": "code",
     "language": "python"
    }
   },
   "outputs": [
    {
     "name": "stdout",
     "output_type": "stream",
     "text": [
      "\n",
      "You can find the C code in this temporary file: C:\\Temp\\theano_compilation_error_qlr7gcp1\n"
     ]
    },
    {
     "ename": "Exception",
     "evalue": "(\"Compilation failed (return status=1): C:\\\\Temp\\\\ccq41m53.o: In function `run':\\r. C:/Users/Artem Smirnov/AppData/Local/Theano/compiledir_Windows-7-6.1.7601-SP1-Intel64_Family_6_Model_94_Stepping_3_GenuineIntel-3.7.12-64/tmpkyt46w3l/mod.cpp:85: undefined reference to `__imp__Py_NoneStruct'\\r. C:/Users/Artem Smirnov/AppData/Local/Theano/compiledir_Windows-7-6.1.7601-SP1-Intel64_Family_6_Model_94_Stepping_3_GenuineIntel-3.7.12-64/tmpkyt46w3l/mod.cpp:110: undefined reference to `__imp_PyExc_ValueError'\\r. C:/Users/Artem Smirnov/AppData/Local/Theano/compiledir_Windows-7-6.1.7601-SP1-Intel64_Family_6_Model_94_Stepping_3_GenuineIntel-3.7.12-64/tmpkyt46w3l/mod.cpp:116: undefined reference to `__imp_PyExc_RuntimeError'\\r. C:/Users/Artem Smirnov/AppData/Local/Theano/compiledir_Windows-7-6.1.7601-SP1-Intel64_Family_6_Model_94_Stepping_3_GenuineIntel-3.7.12-64/tmpkyt46w3l/mod.cpp:144: undefined reference to `__imp_PyExc_NotImplementedError'\\r. C:/Users/Artem Smirnov/AppData/Local/Theano/compiledir_Windows-7-6.1.7601-SP1-Intel64_Family_6_Model_94_Stepping_3_GenuineIntel-3.7.12-64/tmpkyt46w3l/mod.cpp:181: undefined reference to `__imp__Py_NoneStruct'\\r. C:/Users/Artem Smirnov/AppData/Local/Theano/compiledir_Windows-7-6.1.7601-SP1-Intel64_Family_6_Model_94_Stepping_3_GenuineIntel-3.7.12-64/tmpkyt46w3l/mod.cpp:196: undefined reference to `__imp_PyExc_ValueError'\\r. C:/Users/Artem Smirnov/AppData/Local/Theano/compiledir_Windows-7-6.1.7601-SP1-Intel64_Family_6_Model_94_Stepping_3_GenuineIntel-3.7.12-64/tmpkyt46w3l/mod.cpp:366: undefined reference to `__imp_PyExc_NotImplementedError'\\r. C:/Users/Artem Smirnov/AppData/Local/Theano/compiledir_Windows-7-6.1.7601-SP1-Intel64_Family_6_Model_94_Stepping_3_GenuineIntel-3.7.12-64/tmpkyt46w3l/mod.cpp:337: undefined reference to `__imp__Py_NoneStruct'\\r. C:/Users/Artem Smirnov/AppData/Local/Theano/compiledir_Windows-7-6.1.7601-SP1-Intel64_Family_6_Model_94_Stepping_3_GenuineIntel-3.7.12-64/tmpkyt46w3l/mod.cpp:372: undefined reference to `__imp_PyExc_RuntimeError'\\r. C:/Users/Artem Smirnov/AppData/Local/Theano/compiledir_Windows-7-6.1.7601-SP1-Intel64_Family_6_Model_94_Stepping_3_GenuineIntel-3.7.12-64/tmpkyt46w3l/mod.cpp:230: undefined reference to `__imp_PyExc_NotImplementedError'\\r. C:/Users/Artem Smirnov/AppData/Local/Theano/compiledir_Windows-7-6.1.7601-SP1-Intel64_Family_6_Model_94_Stepping_3_GenuineIntel-3.7.12-64/tmpkyt46w3l/mod.cpp:251: undefined reference to `__imp_PyExc_RuntimeError'\\r. C:/Users/Artem Smirnov/AppData/Local/Theano/compiledir_Windows-7-6.1.7601-SP1-Intel64_Family_6_Model_94_Stepping_3_GenuineIntel-3.7.12-64/tmpkyt46w3l/mod.cpp:159: undefined reference to `__imp_PyExc_TypeError'\\r. C:/Users/Artem Smirnov/AppData/Local/Theano/compiledir_Windows-7-6.1.7601-SP1-Intel64_Family_6_Model_94_Stepping_3_GenuineIntel-3.7.12-64/tmpkyt46w3l/mod.cpp:165: undefined reference to `__imp_PyExc_RuntimeError'\\r. C:/Users/Artem Smirnov/AppData/Local/Theano/compiledir_Windows-7-6.1.7601-SP1-Intel64_Family_6_Model_94_Stepping_3_GenuineIntel-3.7.12-64/tmpkyt46w3l/mod.cpp:402: undefined reference to `__imp__Py_NoneStruct'\\r. C:/Users/Artem Smirnov/AppData/Local/Theano/compiledir_Windows-7-6.1.7601-SP1-Intel64_Family_6_Model_94_Stepping_3_GenuineIntel-3.7.12-64/tmpkyt46w3l/mod.cpp:401: undefined reference to `__imp__Py_NoneStruct'\\r. C:/Users/Artem Smirnov/AppData/Local/Theano/compiledir_Windows-7-6.1.7601-SP1-Intel64_Family_6_Model_94_Stepping_3_GenuineIntel-3.7.12-64/tmpkyt46w3l/mod.cpp:403: undefined reference to `__imp__Py_NoneStruct'\\r. C:/Users/Artem Smirnov/AppData/Local/Theano/compiledir_Windows-7-6.1.7601-SP1-Intel64_Family_6_Model_94_Stepping_3_GenuineIntel-3.7.12-64/tmpkyt46w3l/mod.cpp:245: undefined reference to `__imp_PyExc_TypeError'\\r. C:/Users/Artem Smirnov/AppData/Local/Theano/compiledir_Windows-7-6.1.7601-SP1-Intel64_Family_6_Model_94_Stepping_3_GenuineIntel-3.7.12-64/tmpkyt46w3l/mod.cpp:202: undefined reference to `__imp_PyExc_RuntimeError'\\r. C:/Users/Artem Smirnov/AppData/Local/Theano/compiledir_Windows-7-6.1.7601-SP1-Intel64_Family_6_Model_94_Stepping_3_GenuineIntel-3.7.12-64/tmpkyt46w3l/mod.cpp:297: undefined reference to `__imp_PyExc_RuntimeError'\\r. C:\\\\Temp\\\\ccq41m53.o: In function `instantiate':\\r. C:/Users/Artem Smirnov/AppData/Local/Theano/compiledir_Windows-7-6.1.7601-SP1-Intel64_Family_6_Model_94_Stepping_3_GenuineIntel-3.7.12-64/tmpkyt46w3l/mod.cpp:437: undefined reference to `__imp_PyExc_TypeError'\\r. C:\\\\Temp\\\\ccq41m53.o: In function `_import_array':\\r. D:/anaconda3/envs/lets-plot-experiments/lib/site-packages/numpy/core/include/numpy/__multiarray_api.h:1480: undefined reference to `__imp_PyCapsule_Type'\\r. D:/anaconda3/envs/lets-plot-experiments/lib/site-packages/numpy/core/include/numpy/__multiarray_api.h:1481: undefined reference to `__imp_PyExc_RuntimeError'\\r. C:\\\\Temp\\\\ccq41m53.o: In function `PyInit_mcec594bd93a9f0bf822b906a6f3c0143220942cc5f8b7ad4b91874d2a3b48485':\\r. C:/Users/Artem Smirnov/AppData/Local/Theano/compiledir_Windows-7-6.1.7601-SP1-Intel64_Family_6_Model_94_Stepping_3_GenuineIntel-3.7.12-64/tmpkyt46w3l/mod.cpp:470: undefined reference to `__imp_PyExc_ImportError'\\r. C:\\\\Temp\\\\ccq41m53.o: In function `_import_array':\\r. D:/anaconda3/envs/lets-plot-experiments/lib/site-packages/numpy/core/include/numpy/__multiarray_api.h:1512: undefined reference to `__imp_PyExc_RuntimeError'\\r. D:/anaconda3/envs/lets-plot-experiments/lib/site-packages/numpy/core/include/numpy/__multiarray_api.h:1496: undefined reference to `__imp_PyExc_RuntimeError'\\r. D:/anaconda3/envs/lets-plot-experiments/lib/site-packages/numpy/core/include/numpy/__multiarray_api.h:1502: undefined reference to `__imp_PyExc_RuntimeError'\\r. D:/anaconda3/envs/lets-plot-experiments/lib/site-packages/numpy/core/include/numpy/__multiarray_api.h:1524: undefined reference to `__imp_PyExc_RuntimeError'\\r. D:/anaconda3/envs/lets-plot-experiments/lib/site-packages/numpy/core/include/numpy/__multiarray_api.h:1476: undefined reference to `__imp_PyExc_AttributeError'\\r. D:/anaconda3/envs/lets-plot-experiments/lib/site-packages/numpy/core/include/numpy/__multiarray_api.h:1488: undefined reference to `__imp_PyExc_RuntimeError'\\r. collect2.exe: error: ld returned 1 exit status\\r. \", 'FunctionGraph(Elemwise{log,no_inplace}(TensorConstant{10.0}))')",
     "output_type": "error",
     "traceback": [
      "\u001b[1;31m---------------------------------------------------------------------------\u001b[0m",
      "\u001b[1;31mException\u001b[0m                                 Traceback (most recent call last)",
      "\u001b[1;32mC:\\Temp/ipykernel_16188/4069582348.py\u001b[0m in \u001b[0;36m<module>\u001b[1;34m\u001b[0m\n\u001b[0;32m      2\u001b[0m     \u001b[1;31m# GP\u001b[0m\u001b[1;33m\u001b[0m\u001b[1;33m\u001b[0m\u001b[1;33m\u001b[0m\u001b[0m\n\u001b[0;32m      3\u001b[0m     \u001b[1;31m## Feature covariance\u001b[0m\u001b[1;33m\u001b[0m\u001b[1;33m\u001b[0m\u001b[1;33m\u001b[0m\u001b[0m\n\u001b[1;32m----> 4\u001b[1;33m     \u001b[0mlength_scale\u001b[0m \u001b[1;33m=\u001b[0m \u001b[0mpm\u001b[0m\u001b[1;33m.\u001b[0m\u001b[0mHalfCauchy\u001b[0m\u001b[1;33m(\u001b[0m\u001b[1;34m\"length_scale\"\u001b[0m\u001b[1;33m,\u001b[0m \u001b[0mbeta\u001b[0m \u001b[1;33m=\u001b[0m \u001b[1;36m10\u001b[0m\u001b[1;33m)\u001b[0m\u001b[1;33m\u001b[0m\u001b[1;33m\u001b[0m\u001b[0m\n\u001b[0m\u001b[0;32m      5\u001b[0m     \u001b[0mamplitude\u001b[0m \u001b[1;33m=\u001b[0m \u001b[0mpm\u001b[0m\u001b[1;33m.\u001b[0m\u001b[0mHalfCauchy\u001b[0m\u001b[1;33m(\u001b[0m\u001b[1;34m\"amplitude\"\u001b[0m\u001b[1;33m,\u001b[0m \u001b[0mbeta\u001b[0m \u001b[1;33m=\u001b[0m \u001b[1;36m10\u001b[0m\u001b[1;33m)\u001b[0m\u001b[1;33m\u001b[0m\u001b[1;33m\u001b[0m\u001b[0m\n\u001b[0;32m      6\u001b[0m     cov_feature = amplitude ** 2 * pm.gp.cov.Matern52(\n",
      "\u001b[1;32mD:\\anaconda3\\envs\\lets-plot-experiments\\lib\\site-packages\\pymc3\\distributions\\distribution.py\u001b[0m in \u001b[0;36m__new__\u001b[1;34m(cls, name, *args, **kwargs)\u001b[0m\n\u001b[0;32m    123\u001b[0m         \u001b[1;32melse\u001b[0m\u001b[1;33m:\u001b[0m\u001b[1;33m\u001b[0m\u001b[1;33m\u001b[0m\u001b[0m\n\u001b[0;32m    124\u001b[0m             \u001b[0mdist\u001b[0m \u001b[1;33m=\u001b[0m \u001b[0mcls\u001b[0m\u001b[1;33m.\u001b[0m\u001b[0mdist\u001b[0m\u001b[1;33m(\u001b[0m\u001b[1;33m*\u001b[0m\u001b[0margs\u001b[0m\u001b[1;33m,\u001b[0m \u001b[1;33m**\u001b[0m\u001b[0mkwargs\u001b[0m\u001b[1;33m)\u001b[0m\u001b[1;33m\u001b[0m\u001b[1;33m\u001b[0m\u001b[0m\n\u001b[1;32m--> 125\u001b[1;33m         \u001b[1;32mreturn\u001b[0m \u001b[0mmodel\u001b[0m\u001b[1;33m.\u001b[0m\u001b[0mVar\u001b[0m\u001b[1;33m(\u001b[0m\u001b[0mname\u001b[0m\u001b[1;33m,\u001b[0m \u001b[0mdist\u001b[0m\u001b[1;33m,\u001b[0m \u001b[0mdata\u001b[0m\u001b[1;33m,\u001b[0m \u001b[0mtotal_size\u001b[0m\u001b[1;33m,\u001b[0m \u001b[0mdims\u001b[0m\u001b[1;33m=\u001b[0m\u001b[0mdims\u001b[0m\u001b[1;33m)\u001b[0m\u001b[1;33m\u001b[0m\u001b[1;33m\u001b[0m\u001b[0m\n\u001b[0m\u001b[0;32m    126\u001b[0m \u001b[1;33m\u001b[0m\u001b[0m\n\u001b[0;32m    127\u001b[0m     \u001b[1;32mdef\u001b[0m \u001b[0m__getnewargs__\u001b[0m\u001b[1;33m(\u001b[0m\u001b[0mself\u001b[0m\u001b[1;33m)\u001b[0m\u001b[1;33m:\u001b[0m\u001b[1;33m\u001b[0m\u001b[1;33m\u001b[0m\u001b[0m\n",
      "\u001b[1;32mD:\\anaconda3\\envs\\lets-plot-experiments\\lib\\site-packages\\pymc3\\model.py\u001b[0m in \u001b[0;36mVar\u001b[1;34m(self, name, dist, data, total_size, dims)\u001b[0m\n\u001b[0;32m   1145\u001b[0m                         \u001b[0mtransform\u001b[0m\u001b[1;33m=\u001b[0m\u001b[0mdist\u001b[0m\u001b[1;33m.\u001b[0m\u001b[0mtransform\u001b[0m\u001b[1;33m,\u001b[0m\u001b[1;33m\u001b[0m\u001b[1;33m\u001b[0m\u001b[0m\n\u001b[0;32m   1146\u001b[0m                         \u001b[0mtotal_size\u001b[0m\u001b[1;33m=\u001b[0m\u001b[0mtotal_size\u001b[0m\u001b[1;33m,\u001b[0m\u001b[1;33m\u001b[0m\u001b[1;33m\u001b[0m\u001b[0m\n\u001b[1;32m-> 1147\u001b[1;33m                         \u001b[0mmodel\u001b[0m\u001b[1;33m=\u001b[0m\u001b[0mself\u001b[0m\u001b[1;33m,\u001b[0m\u001b[1;33m\u001b[0m\u001b[1;33m\u001b[0m\u001b[0m\n\u001b[0m\u001b[0;32m   1148\u001b[0m                     )\n\u001b[0;32m   1149\u001b[0m                 pm._log.debug(\n",
      "\u001b[1;32mD:\\anaconda3\\envs\\lets-plot-experiments\\lib\\site-packages\\pymc3\\model.py\u001b[0m in \u001b[0;36m__init__\u001b[1;34m(self, type, owner, index, name, distribution, model, transform, total_size)\u001b[0m\n\u001b[0;32m   2011\u001b[0m \u001b[1;33m\u001b[0m\u001b[0m\n\u001b[0;32m   2012\u001b[0m             self.transformed = model.Var(\n\u001b[1;32m-> 2013\u001b[1;33m                 \u001b[0mtransformed_name\u001b[0m\u001b[1;33m,\u001b[0m \u001b[0mtransform\u001b[0m\u001b[1;33m.\u001b[0m\u001b[0mapply\u001b[0m\u001b[1;33m(\u001b[0m\u001b[0mdistribution\u001b[0m\u001b[1;33m)\u001b[0m\u001b[1;33m,\u001b[0m \u001b[0mtotal_size\u001b[0m\u001b[1;33m=\u001b[0m\u001b[0mtotal_size\u001b[0m\u001b[1;33m\u001b[0m\u001b[1;33m\u001b[0m\u001b[0m\n\u001b[0m\u001b[0;32m   2014\u001b[0m             )\n\u001b[0;32m   2015\u001b[0m \u001b[1;33m\u001b[0m\u001b[0m\n",
      "\u001b[1;32mD:\\anaconda3\\envs\\lets-plot-experiments\\lib\\site-packages\\pymc3\\distributions\\transforms.py\u001b[0m in \u001b[0;36mapply\u001b[1;34m(self, dist)\u001b[0m\n\u001b[0;32m    124\u001b[0m     \u001b[1;32mdef\u001b[0m \u001b[0mapply\u001b[0m\u001b[1;33m(\u001b[0m\u001b[0mself\u001b[0m\u001b[1;33m,\u001b[0m \u001b[0mdist\u001b[0m\u001b[1;33m)\u001b[0m\u001b[1;33m:\u001b[0m\u001b[1;33m\u001b[0m\u001b[1;33m\u001b[0m\u001b[0m\n\u001b[0;32m    125\u001b[0m         \u001b[1;31m# avoid circular import\u001b[0m\u001b[1;33m\u001b[0m\u001b[1;33m\u001b[0m\u001b[1;33m\u001b[0m\u001b[0m\n\u001b[1;32m--> 126\u001b[1;33m         \u001b[1;32mreturn\u001b[0m \u001b[0mTransformedDistribution\u001b[0m\u001b[1;33m.\u001b[0m\u001b[0mdist\u001b[0m\u001b[1;33m(\u001b[0m\u001b[0mdist\u001b[0m\u001b[1;33m,\u001b[0m \u001b[0mself\u001b[0m\u001b[1;33m)\u001b[0m\u001b[1;33m\u001b[0m\u001b[1;33m\u001b[0m\u001b[0m\n\u001b[0m\u001b[0;32m    127\u001b[0m \u001b[1;33m\u001b[0m\u001b[0m\n\u001b[0;32m    128\u001b[0m     \u001b[1;32mdef\u001b[0m \u001b[0m__str__\u001b[0m\u001b[1;33m(\u001b[0m\u001b[0mself\u001b[0m\u001b[1;33m)\u001b[0m\u001b[1;33m:\u001b[0m\u001b[1;33m\u001b[0m\u001b[1;33m\u001b[0m\u001b[0m\n",
      "\u001b[1;32mD:\\anaconda3\\envs\\lets-plot-experiments\\lib\\site-packages\\pymc3\\distributions\\distribution.py\u001b[0m in \u001b[0;36mdist\u001b[1;34m(cls, *args, **kwargs)\u001b[0m\n\u001b[0;32m    131\u001b[0m     \u001b[1;32mdef\u001b[0m \u001b[0mdist\u001b[0m\u001b[1;33m(\u001b[0m\u001b[0mcls\u001b[0m\u001b[1;33m,\u001b[0m \u001b[1;33m*\u001b[0m\u001b[0margs\u001b[0m\u001b[1;33m,\u001b[0m \u001b[1;33m**\u001b[0m\u001b[0mkwargs\u001b[0m\u001b[1;33m)\u001b[0m\u001b[1;33m:\u001b[0m\u001b[1;33m\u001b[0m\u001b[1;33m\u001b[0m\u001b[0m\n\u001b[0;32m    132\u001b[0m         \u001b[0mdist\u001b[0m \u001b[1;33m=\u001b[0m \u001b[0mobject\u001b[0m\u001b[1;33m.\u001b[0m\u001b[0m__new__\u001b[0m\u001b[1;33m(\u001b[0m\u001b[0mcls\u001b[0m\u001b[1;33m)\u001b[0m\u001b[1;33m\u001b[0m\u001b[1;33m\u001b[0m\u001b[0m\n\u001b[1;32m--> 133\u001b[1;33m         \u001b[0mdist\u001b[0m\u001b[1;33m.\u001b[0m\u001b[0m__init__\u001b[0m\u001b[1;33m(\u001b[0m\u001b[1;33m*\u001b[0m\u001b[0margs\u001b[0m\u001b[1;33m,\u001b[0m \u001b[1;33m**\u001b[0m\u001b[0mkwargs\u001b[0m\u001b[1;33m)\u001b[0m\u001b[1;33m\u001b[0m\u001b[1;33m\u001b[0m\u001b[0m\n\u001b[0m\u001b[0;32m    134\u001b[0m         \u001b[1;32mreturn\u001b[0m \u001b[0mdist\u001b[0m\u001b[1;33m\u001b[0m\u001b[1;33m\u001b[0m\u001b[0m\n\u001b[0;32m    135\u001b[0m \u001b[1;33m\u001b[0m\u001b[0m\n",
      "\u001b[1;32mD:\\anaconda3\\envs\\lets-plot-experiments\\lib\\site-packages\\pymc3\\distributions\\transforms.py\u001b[0m in \u001b[0;36m__init__\u001b[1;34m(self, dist, transform, *args, **kwargs)\u001b[0m\n\u001b[0;32m    148\u001b[0m             arguments to Distribution\"\"\"\n\u001b[0;32m    149\u001b[0m         \u001b[0mforward\u001b[0m \u001b[1;33m=\u001b[0m \u001b[0mtransform\u001b[0m\u001b[1;33m.\u001b[0m\u001b[0mforward\u001b[0m\u001b[1;33m\u001b[0m\u001b[1;33m\u001b[0m\u001b[0m\n\u001b[1;32m--> 150\u001b[1;33m         \u001b[0mtestval\u001b[0m \u001b[1;33m=\u001b[0m \u001b[0mforward\u001b[0m\u001b[1;33m(\u001b[0m\u001b[0mdist\u001b[0m\u001b[1;33m.\u001b[0m\u001b[0mdefault\u001b[0m\u001b[1;33m(\u001b[0m\u001b[1;33m)\u001b[0m\u001b[1;33m)\u001b[0m\u001b[1;33m\u001b[0m\u001b[1;33m\u001b[0m\u001b[0m\n\u001b[0m\u001b[0;32m    151\u001b[0m \u001b[1;33m\u001b[0m\u001b[0m\n\u001b[0;32m    152\u001b[0m         \u001b[0mself\u001b[0m\u001b[1;33m.\u001b[0m\u001b[0mdist\u001b[0m \u001b[1;33m=\u001b[0m \u001b[0mdist\u001b[0m\u001b[1;33m\u001b[0m\u001b[1;33m\u001b[0m\u001b[0m\n",
      "\u001b[1;32mD:\\anaconda3\\envs\\lets-plot-experiments\\lib\\site-packages\\pymc3\\distributions\\transforms.py\u001b[0m in \u001b[0;36mforward\u001b[1;34m(self, x)\u001b[0m\n\u001b[0;32m    216\u001b[0m \u001b[1;33m\u001b[0m\u001b[0m\n\u001b[0;32m    217\u001b[0m     \u001b[1;32mdef\u001b[0m \u001b[0mforward\u001b[0m\u001b[1;33m(\u001b[0m\u001b[0mself\u001b[0m\u001b[1;33m,\u001b[0m \u001b[0mx\u001b[0m\u001b[1;33m)\u001b[0m\u001b[1;33m:\u001b[0m\u001b[1;33m\u001b[0m\u001b[1;33m\u001b[0m\u001b[0m\n\u001b[1;32m--> 218\u001b[1;33m         \u001b[1;32mreturn\u001b[0m \u001b[0mtt\u001b[0m\u001b[1;33m.\u001b[0m\u001b[0mlog\u001b[0m\u001b[1;33m(\u001b[0m\u001b[0mx\u001b[0m\u001b[1;33m)\u001b[0m\u001b[1;33m\u001b[0m\u001b[1;33m\u001b[0m\u001b[0m\n\u001b[0m\u001b[0;32m    219\u001b[0m \u001b[1;33m\u001b[0m\u001b[0m\n\u001b[0;32m    220\u001b[0m     \u001b[1;32mdef\u001b[0m \u001b[0mforward_val\u001b[0m\u001b[1;33m(\u001b[0m\u001b[0mself\u001b[0m\u001b[1;33m,\u001b[0m \u001b[0mx\u001b[0m\u001b[1;33m,\u001b[0m \u001b[0mpoint\u001b[0m\u001b[1;33m=\u001b[0m\u001b[1;32mNone\u001b[0m\u001b[1;33m)\u001b[0m\u001b[1;33m:\u001b[0m\u001b[1;33m\u001b[0m\u001b[1;33m\u001b[0m\u001b[0m\n",
      "\u001b[1;32mD:\\anaconda3\\envs\\lets-plot-experiments\\lib\\site-packages\\theano\\graph\\op.py\u001b[0m in \u001b[0;36m__call__\u001b[1;34m(self, *inputs, **kwargs)\u001b[0m\n\u001b[0;32m    251\u001b[0m \u001b[1;33m\u001b[0m\u001b[0m\n\u001b[0;32m    252\u001b[0m         \u001b[1;32mif\u001b[0m \u001b[0mconfig\u001b[0m\u001b[1;33m.\u001b[0m\u001b[0mcompute_test_value\u001b[0m \u001b[1;33m!=\u001b[0m \u001b[1;34m\"off\"\u001b[0m\u001b[1;33m:\u001b[0m\u001b[1;33m\u001b[0m\u001b[1;33m\u001b[0m\u001b[0m\n\u001b[1;32m--> 253\u001b[1;33m             \u001b[0mcompute_test_value\u001b[0m\u001b[1;33m(\u001b[0m\u001b[0mnode\u001b[0m\u001b[1;33m)\u001b[0m\u001b[1;33m\u001b[0m\u001b[1;33m\u001b[0m\u001b[0m\n\u001b[0m\u001b[0;32m    254\u001b[0m \u001b[1;33m\u001b[0m\u001b[0m\n\u001b[0;32m    255\u001b[0m         \u001b[1;32mif\u001b[0m \u001b[0mself\u001b[0m\u001b[1;33m.\u001b[0m\u001b[0mdefault_output\u001b[0m \u001b[1;32mis\u001b[0m \u001b[1;32mnot\u001b[0m \u001b[1;32mNone\u001b[0m\u001b[1;33m:\u001b[0m\u001b[1;33m\u001b[0m\u001b[1;33m\u001b[0m\u001b[0m\n",
      "\u001b[1;32mD:\\anaconda3\\envs\\lets-plot-experiments\\lib\\site-packages\\theano\\graph\\op.py\u001b[0m in \u001b[0;36mcompute_test_value\u001b[1;34m(node)\u001b[0m\n\u001b[0;32m    124\u001b[0m \u001b[1;33m\u001b[0m\u001b[0m\n\u001b[0;32m    125\u001b[0m     \u001b[1;31m# Create a thunk that performs the computation\u001b[0m\u001b[1;33m\u001b[0m\u001b[1;33m\u001b[0m\u001b[1;33m\u001b[0m\u001b[0m\n\u001b[1;32m--> 126\u001b[1;33m     \u001b[0mthunk\u001b[0m \u001b[1;33m=\u001b[0m \u001b[0mnode\u001b[0m\u001b[1;33m.\u001b[0m\u001b[0mop\u001b[0m\u001b[1;33m.\u001b[0m\u001b[0mmake_thunk\u001b[0m\u001b[1;33m(\u001b[0m\u001b[0mnode\u001b[0m\u001b[1;33m,\u001b[0m \u001b[0mstorage_map\u001b[0m\u001b[1;33m,\u001b[0m \u001b[0mcompute_map\u001b[0m\u001b[1;33m,\u001b[0m \u001b[0mno_recycling\u001b[0m\u001b[1;33m=\u001b[0m\u001b[1;33m[\u001b[0m\u001b[1;33m]\u001b[0m\u001b[1;33m)\u001b[0m\u001b[1;33m\u001b[0m\u001b[1;33m\u001b[0m\u001b[0m\n\u001b[0m\u001b[0;32m    127\u001b[0m     \u001b[0mthunk\u001b[0m\u001b[1;33m.\u001b[0m\u001b[0minputs\u001b[0m \u001b[1;33m=\u001b[0m \u001b[1;33m[\u001b[0m\u001b[0mstorage_map\u001b[0m\u001b[1;33m[\u001b[0m\u001b[0mv\u001b[0m\u001b[1;33m]\u001b[0m \u001b[1;32mfor\u001b[0m \u001b[0mv\u001b[0m \u001b[1;32min\u001b[0m \u001b[0mnode\u001b[0m\u001b[1;33m.\u001b[0m\u001b[0minputs\u001b[0m\u001b[1;33m]\u001b[0m\u001b[1;33m\u001b[0m\u001b[1;33m\u001b[0m\u001b[0m\n\u001b[0;32m    128\u001b[0m     \u001b[0mthunk\u001b[0m\u001b[1;33m.\u001b[0m\u001b[0moutputs\u001b[0m \u001b[1;33m=\u001b[0m \u001b[1;33m[\u001b[0m\u001b[0mstorage_map\u001b[0m\u001b[1;33m[\u001b[0m\u001b[0mv\u001b[0m\u001b[1;33m]\u001b[0m \u001b[1;32mfor\u001b[0m \u001b[0mv\u001b[0m \u001b[1;32min\u001b[0m \u001b[0mnode\u001b[0m\u001b[1;33m.\u001b[0m\u001b[0moutputs\u001b[0m\u001b[1;33m]\u001b[0m\u001b[1;33m\u001b[0m\u001b[1;33m\u001b[0m\u001b[0m\n",
      "\u001b[1;32mD:\\anaconda3\\envs\\lets-plot-experiments\\lib\\site-packages\\theano\\graph\\op.py\u001b[0m in \u001b[0;36mmake_thunk\u001b[1;34m(self, node, storage_map, compute_map, no_recycling, impl)\u001b[0m\n\u001b[0;32m    632\u001b[0m             )\n\u001b[0;32m    633\u001b[0m             \u001b[1;32mtry\u001b[0m\u001b[1;33m:\u001b[0m\u001b[1;33m\u001b[0m\u001b[1;33m\u001b[0m\u001b[0m\n\u001b[1;32m--> 634\u001b[1;33m                 \u001b[1;32mreturn\u001b[0m \u001b[0mself\u001b[0m\u001b[1;33m.\u001b[0m\u001b[0mmake_c_thunk\u001b[0m\u001b[1;33m(\u001b[0m\u001b[0mnode\u001b[0m\u001b[1;33m,\u001b[0m \u001b[0mstorage_map\u001b[0m\u001b[1;33m,\u001b[0m \u001b[0mcompute_map\u001b[0m\u001b[1;33m,\u001b[0m \u001b[0mno_recycling\u001b[0m\u001b[1;33m)\u001b[0m\u001b[1;33m\u001b[0m\u001b[1;33m\u001b[0m\u001b[0m\n\u001b[0m\u001b[0;32m    635\u001b[0m             \u001b[1;32mexcept\u001b[0m \u001b[1;33m(\u001b[0m\u001b[0mNotImplementedError\u001b[0m\u001b[1;33m,\u001b[0m \u001b[0mMethodNotDefined\u001b[0m\u001b[1;33m)\u001b[0m\u001b[1;33m:\u001b[0m\u001b[1;33m\u001b[0m\u001b[1;33m\u001b[0m\u001b[0m\n\u001b[0;32m    636\u001b[0m                 \u001b[1;31m# We requested the c code, so don't catch the error.\u001b[0m\u001b[1;33m\u001b[0m\u001b[1;33m\u001b[0m\u001b[1;33m\u001b[0m\u001b[0m\n",
      "\u001b[1;32mD:\\anaconda3\\envs\\lets-plot-experiments\\lib\\site-packages\\theano\\graph\\op.py\u001b[0m in \u001b[0;36mmake_c_thunk\u001b[1;34m(self, node, storage_map, compute_map, no_recycling)\u001b[0m\n\u001b[0;32m    599\u001b[0m                 \u001b[1;32mraise\u001b[0m \u001b[0mNotImplementedError\u001b[0m\u001b[1;33m(\u001b[0m\u001b[1;34m\"float16\"\u001b[0m\u001b[1;33m)\u001b[0m\u001b[1;33m\u001b[0m\u001b[1;33m\u001b[0m\u001b[0m\n\u001b[0;32m    600\u001b[0m         outputs = cl.make_thunk(\n\u001b[1;32m--> 601\u001b[1;33m             \u001b[0minput_storage\u001b[0m\u001b[1;33m=\u001b[0m\u001b[0mnode_input_storage\u001b[0m\u001b[1;33m,\u001b[0m \u001b[0moutput_storage\u001b[0m\u001b[1;33m=\u001b[0m\u001b[0mnode_output_storage\u001b[0m\u001b[1;33m\u001b[0m\u001b[1;33m\u001b[0m\u001b[0m\n\u001b[0m\u001b[0;32m    602\u001b[0m         )\n\u001b[0;32m    603\u001b[0m         \u001b[0mthunk\u001b[0m\u001b[1;33m,\u001b[0m \u001b[0mnode_input_filters\u001b[0m\u001b[1;33m,\u001b[0m \u001b[0mnode_output_filters\u001b[0m \u001b[1;33m=\u001b[0m \u001b[0moutputs\u001b[0m\u001b[1;33m\u001b[0m\u001b[1;33m\u001b[0m\u001b[0m\n",
      "\u001b[1;32mD:\\anaconda3\\envs\\lets-plot-experiments\\lib\\site-packages\\theano\\link\\c\\basic.py\u001b[0m in \u001b[0;36mmake_thunk\u001b[1;34m(self, input_storage, output_storage, storage_map)\u001b[0m\n\u001b[0;32m   1202\u001b[0m         \u001b[0minit_tasks\u001b[0m\u001b[1;33m,\u001b[0m \u001b[0mtasks\u001b[0m \u001b[1;33m=\u001b[0m \u001b[0mself\u001b[0m\u001b[1;33m.\u001b[0m\u001b[0mget_init_tasks\u001b[0m\u001b[1;33m(\u001b[0m\u001b[1;33m)\u001b[0m\u001b[1;33m\u001b[0m\u001b[1;33m\u001b[0m\u001b[0m\n\u001b[0;32m   1203\u001b[0m         cthunk, module, in_storage, out_storage, error_storage = self.__compile__(\n\u001b[1;32m-> 1204\u001b[1;33m             \u001b[0minput_storage\u001b[0m\u001b[1;33m,\u001b[0m \u001b[0moutput_storage\u001b[0m\u001b[1;33m,\u001b[0m \u001b[0mstorage_map\u001b[0m\u001b[1;33m\u001b[0m\u001b[1;33m\u001b[0m\u001b[0m\n\u001b[0m\u001b[0;32m   1205\u001b[0m         )\n\u001b[0;32m   1206\u001b[0m \u001b[1;33m\u001b[0m\u001b[0m\n",
      "\u001b[1;32mD:\\anaconda3\\envs\\lets-plot-experiments\\lib\\site-packages\\theano\\link\\c\\basic.py\u001b[0m in \u001b[0;36m__compile__\u001b[1;34m(self, input_storage, output_storage, storage_map)\u001b[0m\n\u001b[0;32m   1140\u001b[0m             \u001b[0minput_storage\u001b[0m\u001b[1;33m,\u001b[0m\u001b[1;33m\u001b[0m\u001b[1;33m\u001b[0m\u001b[0m\n\u001b[0;32m   1141\u001b[0m             \u001b[0moutput_storage\u001b[0m\u001b[1;33m,\u001b[0m\u001b[1;33m\u001b[0m\u001b[1;33m\u001b[0m\u001b[0m\n\u001b[1;32m-> 1142\u001b[1;33m             \u001b[0mstorage_map\u001b[0m\u001b[1;33m,\u001b[0m\u001b[1;33m\u001b[0m\u001b[1;33m\u001b[0m\u001b[0m\n\u001b[0m\u001b[0;32m   1143\u001b[0m         )\n\u001b[0;32m   1144\u001b[0m         return (\n",
      "\u001b[1;32mD:\\anaconda3\\envs\\lets-plot-experiments\\lib\\site-packages\\theano\\link\\c\\basic.py\u001b[0m in \u001b[0;36mcthunk_factory\u001b[1;34m(self, error_storage, in_storage, out_storage, storage_map)\u001b[0m\n\u001b[0;32m   1632\u001b[0m             \u001b[1;32mfor\u001b[0m \u001b[0mnode\u001b[0m \u001b[1;32min\u001b[0m \u001b[0mself\u001b[0m\u001b[1;33m.\u001b[0m\u001b[0mnode_order\u001b[0m\u001b[1;33m:\u001b[0m\u001b[1;33m\u001b[0m\u001b[1;33m\u001b[0m\u001b[0m\n\u001b[0;32m   1633\u001b[0m                 \u001b[0mnode\u001b[0m\u001b[1;33m.\u001b[0m\u001b[0mop\u001b[0m\u001b[1;33m.\u001b[0m\u001b[0mprepare_node\u001b[0m\u001b[1;33m(\u001b[0m\u001b[0mnode\u001b[0m\u001b[1;33m,\u001b[0m \u001b[0mstorage_map\u001b[0m\u001b[1;33m,\u001b[0m \u001b[1;32mNone\u001b[0m\u001b[1;33m,\u001b[0m \u001b[1;34m\"c\"\u001b[0m\u001b[1;33m)\u001b[0m\u001b[1;33m\u001b[0m\u001b[1;33m\u001b[0m\u001b[0m\n\u001b[1;32m-> 1634\u001b[1;33m             \u001b[0mmodule\u001b[0m \u001b[1;33m=\u001b[0m \u001b[0mget_module_cache\u001b[0m\u001b[1;33m(\u001b[0m\u001b[1;33m)\u001b[0m\u001b[1;33m.\u001b[0m\u001b[0mmodule_from_key\u001b[0m\u001b[1;33m(\u001b[0m\u001b[0mkey\u001b[0m\u001b[1;33m=\u001b[0m\u001b[0mkey\u001b[0m\u001b[1;33m,\u001b[0m \u001b[0mlnk\u001b[0m\u001b[1;33m=\u001b[0m\u001b[0mself\u001b[0m\u001b[1;33m)\u001b[0m\u001b[1;33m\u001b[0m\u001b[1;33m\u001b[0m\u001b[0m\n\u001b[0m\u001b[0;32m   1635\u001b[0m \u001b[1;33m\u001b[0m\u001b[0m\n\u001b[0;32m   1636\u001b[0m         \u001b[0mvars\u001b[0m \u001b[1;33m=\u001b[0m \u001b[0mself\u001b[0m\u001b[1;33m.\u001b[0m\u001b[0minputs\u001b[0m \u001b[1;33m+\u001b[0m \u001b[0mself\u001b[0m\u001b[1;33m.\u001b[0m\u001b[0moutputs\u001b[0m \u001b[1;33m+\u001b[0m \u001b[0mself\u001b[0m\u001b[1;33m.\u001b[0m\u001b[0morphans\u001b[0m\u001b[1;33m\u001b[0m\u001b[1;33m\u001b[0m\u001b[0m\n",
      "\u001b[1;32mD:\\anaconda3\\envs\\lets-plot-experiments\\lib\\site-packages\\theano\\link\\c\\cmodule.py\u001b[0m in \u001b[0;36mmodule_from_key\u001b[1;34m(self, key, lnk)\u001b[0m\n\u001b[0;32m   1189\u001b[0m             \u001b[1;32mtry\u001b[0m\u001b[1;33m:\u001b[0m\u001b[1;33m\u001b[0m\u001b[1;33m\u001b[0m\u001b[0m\n\u001b[0;32m   1190\u001b[0m                 \u001b[0mlocation\u001b[0m \u001b[1;33m=\u001b[0m \u001b[0mdlimport_workdir\u001b[0m\u001b[1;33m(\u001b[0m\u001b[0mself\u001b[0m\u001b[1;33m.\u001b[0m\u001b[0mdirname\u001b[0m\u001b[1;33m)\u001b[0m\u001b[1;33m\u001b[0m\u001b[1;33m\u001b[0m\u001b[0m\n\u001b[1;32m-> 1191\u001b[1;33m                 \u001b[0mmodule\u001b[0m \u001b[1;33m=\u001b[0m \u001b[0mlnk\u001b[0m\u001b[1;33m.\u001b[0m\u001b[0mcompile_cmodule\u001b[0m\u001b[1;33m(\u001b[0m\u001b[0mlocation\u001b[0m\u001b[1;33m)\u001b[0m\u001b[1;33m\u001b[0m\u001b[1;33m\u001b[0m\u001b[0m\n\u001b[0m\u001b[0;32m   1192\u001b[0m                 \u001b[0mname\u001b[0m \u001b[1;33m=\u001b[0m \u001b[0mmodule\u001b[0m\u001b[1;33m.\u001b[0m\u001b[0m__file__\u001b[0m\u001b[1;33m\u001b[0m\u001b[1;33m\u001b[0m\u001b[0m\n\u001b[0;32m   1193\u001b[0m                 \u001b[1;32massert\u001b[0m \u001b[0mname\u001b[0m\u001b[1;33m.\u001b[0m\u001b[0mstartswith\u001b[0m\u001b[1;33m(\u001b[0m\u001b[0mlocation\u001b[0m\u001b[1;33m)\u001b[0m\u001b[1;33m\u001b[0m\u001b[1;33m\u001b[0m\u001b[0m\n",
      "\u001b[1;32mD:\\anaconda3\\envs\\lets-plot-experiments\\lib\\site-packages\\theano\\link\\c\\basic.py\u001b[0m in \u001b[0;36mcompile_cmodule\u001b[1;34m(self, location)\u001b[0m\n\u001b[0;32m   1548\u001b[0m                     \u001b[0mlib_dirs\u001b[0m\u001b[1;33m=\u001b[0m\u001b[0mself\u001b[0m\u001b[1;33m.\u001b[0m\u001b[0mlib_dirs\u001b[0m\u001b[1;33m(\u001b[0m\u001b[1;33m)\u001b[0m\u001b[1;33m,\u001b[0m\u001b[1;33m\u001b[0m\u001b[1;33m\u001b[0m\u001b[0m\n\u001b[0;32m   1549\u001b[0m                     \u001b[0mlibs\u001b[0m\u001b[1;33m=\u001b[0m\u001b[0mlibs\u001b[0m\u001b[1;33m,\u001b[0m\u001b[1;33m\u001b[0m\u001b[1;33m\u001b[0m\u001b[0m\n\u001b[1;32m-> 1550\u001b[1;33m                     \u001b[0mpreargs\u001b[0m\u001b[1;33m=\u001b[0m\u001b[0mpreargs\u001b[0m\u001b[1;33m,\u001b[0m\u001b[1;33m\u001b[0m\u001b[1;33m\u001b[0m\u001b[0m\n\u001b[0m\u001b[0;32m   1551\u001b[0m                 )\n\u001b[0;32m   1552\u001b[0m             \u001b[1;32mexcept\u001b[0m \u001b[0mException\u001b[0m \u001b[1;32mas\u001b[0m \u001b[0me\u001b[0m\u001b[1;33m:\u001b[0m\u001b[1;33m\u001b[0m\u001b[1;33m\u001b[0m\u001b[0m\n",
      "\u001b[1;32mD:\\anaconda3\\envs\\lets-plot-experiments\\lib\\site-packages\\theano\\link\\c\\cmodule.py\u001b[0m in \u001b[0;36mcompile_str\u001b[1;34m(module_name, src_code, location, include_dirs, lib_dirs, libs, preargs, py_module, hide_symbols)\u001b[0m\n\u001b[0;32m   2545\u001b[0m             \u001b[0mcompile_stderr\u001b[0m \u001b[1;33m=\u001b[0m \u001b[0mcompile_stderr\u001b[0m\u001b[1;33m.\u001b[0m\u001b[0mreplace\u001b[0m\u001b[1;33m(\u001b[0m\u001b[1;34m\"\\n\"\u001b[0m\u001b[1;33m,\u001b[0m \u001b[1;34m\". \"\u001b[0m\u001b[1;33m)\u001b[0m\u001b[1;33m\u001b[0m\u001b[1;33m\u001b[0m\u001b[0m\n\u001b[0;32m   2546\u001b[0m             raise Exception(\n\u001b[1;32m-> 2547\u001b[1;33m                 \u001b[1;34mf\"Compilation failed (return status={status}): {compile_stderr}\"\u001b[0m\u001b[1;33m\u001b[0m\u001b[1;33m\u001b[0m\u001b[0m\n\u001b[0m\u001b[0;32m   2548\u001b[0m             )\n\u001b[0;32m   2549\u001b[0m         \u001b[1;32melif\u001b[0m \u001b[0mconfig\u001b[0m\u001b[1;33m.\u001b[0m\u001b[0mcmodule__compilation_warning\u001b[0m \u001b[1;32mand\u001b[0m \u001b[0mcompile_stderr\u001b[0m\u001b[1;33m:\u001b[0m\u001b[1;33m\u001b[0m\u001b[1;33m\u001b[0m\u001b[0m\n",
      "\u001b[1;31mException\u001b[0m: (\"Compilation failed (return status=1): C:\\\\Temp\\\\ccq41m53.o: In function `run':\\r. C:/Users/Artem Smirnov/AppData/Local/Theano/compiledir_Windows-7-6.1.7601-SP1-Intel64_Family_6_Model_94_Stepping_3_GenuineIntel-3.7.12-64/tmpkyt46w3l/mod.cpp:85: undefined reference to `__imp__Py_NoneStruct'\\r. C:/Users/Artem Smirnov/AppData/Local/Theano/compiledir_Windows-7-6.1.7601-SP1-Intel64_Family_6_Model_94_Stepping_3_GenuineIntel-3.7.12-64/tmpkyt46w3l/mod.cpp:110: undefined reference to `__imp_PyExc_ValueError'\\r. C:/Users/Artem Smirnov/AppData/Local/Theano/compiledir_Windows-7-6.1.7601-SP1-Intel64_Family_6_Model_94_Stepping_3_GenuineIntel-3.7.12-64/tmpkyt46w3l/mod.cpp:116: undefined reference to `__imp_PyExc_RuntimeError'\\r. C:/Users/Artem Smirnov/AppData/Local/Theano/compiledir_Windows-7-6.1.7601-SP1-Intel64_Family_6_Model_94_Stepping_3_GenuineIntel-3.7.12-64/tmpkyt46w3l/mod.cpp:144: undefined reference to `__imp_PyExc_NotImplementedError'\\r. C:/Users/Artem Smirnov/AppData/Local/Theano/compiledir_Windows-7-6.1.7601-SP1-Intel64_Family_6_Model_94_Stepping_3_GenuineIntel-3.7.12-64/tmpkyt46w3l/mod.cpp:181: undefined reference to `__imp__Py_NoneStruct'\\r. C:/Users/Artem Smirnov/AppData/Local/Theano/compiledir_Windows-7-6.1.7601-SP1-Intel64_Family_6_Model_94_Stepping_3_GenuineIntel-3.7.12-64/tmpkyt46w3l/mod.cpp:196: undefined reference to `__imp_PyExc_ValueError'\\r. C:/Users/Artem Smirnov/AppData/Local/Theano/compiledir_Windows-7-6.1.7601-SP1-Intel64_Family_6_Model_94_Stepping_3_GenuineIntel-3.7.12-64/tmpkyt46w3l/mod.cpp:366: undefined reference to `__imp_PyExc_NotImplementedError'\\r. C:/Users/Artem Smirnov/AppData/Local/Theano/compiledir_Windows-7-6.1.7601-SP1-Intel64_Family_6_Model_94_Stepping_3_GenuineIntel-3.7.12-64/tmpkyt46w3l/mod.cpp:337: undefined reference to `__imp__Py_NoneStruct'\\r. C:/Users/Artem Smirnov/AppData/Local/Theano/compiledir_Windows-7-6.1.7601-SP1-Intel64_Family_6_Model_94_Stepping_3_GenuineIntel-3.7.12-64/tmpkyt46w3l/mod.cpp:372: undefined reference to `__imp_PyExc_RuntimeError'\\r. C:/Users/Artem Smirnov/AppData/Local/Theano/compiledir_Windows-7-6.1.7601-SP1-Intel64_Family_6_Model_94_Stepping_3_GenuineIntel-3.7.12-64/tmpkyt46w3l/mod.cpp:230: undefined reference to `__imp_PyExc_NotImplementedError'\\r. C:/Users/Artem Smirnov/AppData/Local/Theano/compiledir_Windows-7-6.1.7601-SP1-Intel64_Family_6_Model_94_Stepping_3_GenuineIntel-3.7.12-64/tmpkyt46w3l/mod.cpp:251: undefined reference to `__imp_PyExc_RuntimeError'\\r. C:/Users/Artem Smirnov/AppData/Local/Theano/compiledir_Windows-7-6.1.7601-SP1-Intel64_Family_6_Model_94_Stepping_3_GenuineIntel-3.7.12-64/tmpkyt46w3l/mod.cpp:159: undefined reference to `__imp_PyExc_TypeError'\\r. C:/Users/Artem Smirnov/AppData/Local/Theano/compiledir_Windows-7-6.1.7601-SP1-Intel64_Family_6_Model_94_Stepping_3_GenuineIntel-3.7.12-64/tmpkyt46w3l/mod.cpp:165: undefined reference to `__imp_PyExc_RuntimeError'\\r. C:/Users/Artem Smirnov/AppData/Local/Theano/compiledir_Windows-7-6.1.7601-SP1-Intel64_Family_6_Model_94_Stepping_3_GenuineIntel-3.7.12-64/tmpkyt46w3l/mod.cpp:402: undefined reference to `__imp__Py_NoneStruct'\\r. C:/Users/Artem Smirnov/AppData/Local/Theano/compiledir_Windows-7-6.1.7601-SP1-Intel64_Family_6_Model_94_Stepping_3_GenuineIntel-3.7.12-64/tmpkyt46w3l/mod.cpp:401: undefined reference to `__imp__Py_NoneStruct'\\r. C:/Users/Artem Smirnov/AppData/Local/Theano/compiledir_Windows-7-6.1.7601-SP1-Intel64_Family_6_Model_94_Stepping_3_GenuineIntel-3.7.12-64/tmpkyt46w3l/mod.cpp:403: undefined reference to `__imp__Py_NoneStruct'\\r. C:/Users/Artem Smirnov/AppData/Local/Theano/compiledir_Windows-7-6.1.7601-SP1-Intel64_Family_6_Model_94_Stepping_3_GenuineIntel-3.7.12-64/tmpkyt46w3l/mod.cpp:245: undefined reference to `__imp_PyExc_TypeError'\\r. C:/Users/Artem Smirnov/AppData/Local/Theano/compiledir_Windows-7-6.1.7601-SP1-Intel64_Family_6_Model_94_Stepping_3_GenuineIntel-3.7.12-64/tmpkyt46w3l/mod.cpp:202: undefined reference to `__imp_PyExc_RuntimeError'\\r. C:/Users/Artem Smirnov/AppData/Local/Theano/compiledir_Windows-7-6.1.7601-SP1-Intel64_Family_6_Model_94_Stepping_3_GenuineIntel-3.7.12-64/tmpkyt46w3l/mod.cpp:297: undefined reference to `__imp_PyExc_RuntimeError'\\r. C:\\\\Temp\\\\ccq41m53.o: In function `instantiate':\\r. C:/Users/Artem Smirnov/AppData/Local/Theano/compiledir_Windows-7-6.1.7601-SP1-Intel64_Family_6_Model_94_Stepping_3_GenuineIntel-3.7.12-64/tmpkyt46w3l/mod.cpp:437: undefined reference to `__imp_PyExc_TypeError'\\r. C:\\\\Temp\\\\ccq41m53.o: In function `_import_array':\\r. D:/anaconda3/envs/lets-plot-experiments/lib/site-packages/numpy/core/include/numpy/__multiarray_api.h:1480: undefined reference to `__imp_PyCapsule_Type'\\r. D:/anaconda3/envs/lets-plot-experiments/lib/site-packages/numpy/core/include/numpy/__multiarray_api.h:1481: undefined reference to `__imp_PyExc_RuntimeError'\\r. C:\\\\Temp\\\\ccq41m53.o: In function `PyInit_mcec594bd93a9f0bf822b906a6f3c0143220942cc5f8b7ad4b91874d2a3b48485':\\r. C:/Users/Artem Smirnov/AppData/Local/Theano/compiledir_Windows-7-6.1.7601-SP1-Intel64_Family_6_Model_94_Stepping_3_GenuineIntel-3.7.12-64/tmpkyt46w3l/mod.cpp:470: undefined reference to `__imp_PyExc_ImportError'\\r. C:\\\\Temp\\\\ccq41m53.o: In function `_import_array':\\r. D:/anaconda3/envs/lets-plot-experiments/lib/site-packages/numpy/core/include/numpy/__multiarray_api.h:1512: undefined reference to `__imp_PyExc_RuntimeError'\\r. D:/anaconda3/envs/lets-plot-experiments/lib/site-packages/numpy/core/include/numpy/__multiarray_api.h:1496: undefined reference to `__imp_PyExc_RuntimeError'\\r. D:/anaconda3/envs/lets-plot-experiments/lib/site-packages/numpy/core/include/numpy/__multiarray_api.h:1502: undefined reference to `__imp_PyExc_RuntimeError'\\r. D:/anaconda3/envs/lets-plot-experiments/lib/site-packages/numpy/core/include/numpy/__multiarray_api.h:1524: undefined reference to `__imp_PyExc_RuntimeError'\\r. D:/anaconda3/envs/lets-plot-experiments/lib/site-packages/numpy/core/include/numpy/__multiarray_api.h:1476: undefined reference to `__imp_PyExc_AttributeError'\\r. D:/anaconda3/envs/lets-plot-experiments/lib/site-packages/numpy/core/include/numpy/__multiarray_api.h:1488: undefined reference to `__imp_PyExc_RuntimeError'\\r. collect2.exe: error: ld returned 1 exit status\\r. \", 'FunctionGraph(Elemwise{log,no_inplace}(TensorConstant{10.0}))')"
     ]
    }
   ],
   "source": [
    "with pm.Model() as model:\n",
    "    # GP\n",
    "    ## Feature covariance\n",
    "    length_scale = pm.HalfCauchy(\"length_scale\", beta = 10)\n",
    "    amplitude = pm.HalfCauchy(\"amplitude\", beta = 10)\n",
    "    cov_feature = amplitude ** 2 * pm.gp.cov.Matern52(\n",
    "        input_dim = X_mod.shape[1],\n",
    "        ls = length_scale,\n",
    "        active_dims = np.arange(1, X_mod.shape[1]) # all except index\n",
    "    )\n",
    "\n",
    "    ## Coregion covariance\n",
    "    W = pm.Normal(\n",
    "        \"W\", mu = 0, sd = 5,\n",
    "        shape = (n_mod, n_mod)\n",
    "    )\n",
    "    kappa = pm.HalfCauchy(\"kappa\", beta = 10, shape = n_mod)\n",
    "    coreg = pm.gp.cov.Coregion(\n",
    "        input_dim = X_mod.shape[1],\n",
    "        active_dims = [id_col], # only index\n",
    "        kappa = kappa,\n",
    "        W = W\n",
    "    )\n",
    "\n",
    "    ## Combined covariance\n",
    "    cov_f = coreg * cov_feature\n",
    "\n",
    "    ## GP noise\n",
    "    σ = pm.HalfCauchy(\"σ\", beta = 10)\n",
    "\n",
    "    ## Gaussian process\n",
    "    gp = pm.gp.Marginal(cov_func = cov_f)\n",
    "\n",
    "    ## Marginal likelihood\n",
    "    y_ = gp.marginal_likelihood(\"y\", X = X_mod, y = y_mod, noise = σ)"
   ]
  },
  {
   "cell_type": "markdown",
   "metadata": {},
   "source": [
    "## Fit the model\n",
    "\n",
    "There are two ways to fit this model. The `find_MAP()` function finds the *maximum a posteriori*. It's not a sampling algorithm. It just finds the optimum. It's quick, but it doesn't return the probabilistic hyperparameters and is at risk for finding local optima. On the other hand, a fully Bayesian approach with the `trace()` function can be very long to compute in multi-output mode."
   ]
  },
  {
   "cell_type": "code",
   "execution_count": null,
   "metadata": {
    "nextjournal": {
     "id": "e2565c11-d9d5-4cb3-9601-20b0c4eb22db",
     "kind": "code",
     "language": "python"
    }
   },
   "outputs": [],
   "source": [
    "with model:\n",
    "    # Fit\n",
    "    # trace = pm.sample(2000, tune = 500, chains = 4, cores = 4, return_inferencedata = True) # long\n",
    "    mp = pm.find_MAP() # quick"
   ]
  },
  {
   "cell_type": "markdown",
   "metadata": {},
   "source": [
    "## Predict and criticize the model\n",
    "\n",
    "The prediction is also done in a `with` statement. We take 50 samples of the outcome. Usually, I would have taken more, but let's keep the memory low here."
   ]
  },
  {
   "cell_type": "code",
   "execution_count": null,
   "metadata": {
    "nextjournal": {
     "id": "ff62d3b7-fb6c-4d4d-8248-ccbde421e84d",
     "kind": "code",
     "language": "python"
    }
   },
   "outputs": [],
   "source": [
    " with model:\n",
    "    pred_ = gp.conditional(\"pred_\", XY_m[[\"variable_id\"] + features].values)\n",
    "    pred_samples = pm.sample_posterior_predictive([mp], var_names=[\"pred_\"], samples = 50)"
   ]
  },
  {
   "cell_type": "markdown",
   "metadata": {},
   "source": [
    "I compute the mean of the 50 samples, then tag if the observation is in the training or testing set."
   ]
  },
  {
   "cell_type": "code",
   "execution_count": null,
   "metadata": {
    "nextjournal": {
     "id": "8b6c25da-a329-4ec6-a931-c0a90473f9aa",
     "kind": "code",
     "language": "python"
    }
   },
   "outputs": [],
   "source": [
    "XY_m[\"yhat\"] = pred_samples[\"pred_\"].mean(axis = 0)\n",
    "XY_m[\"tr_te\"] = \"train\"\n",
    "XY_m.loc[XY_m[\"index\"].isin(id_test), \"tr_te\"] = \"test\"\n",
    "XY_m.sample(8)"
   ]
  },
  {
   "cell_type": "markdown",
   "metadata": {},
   "source": [
    "It would be nice to have an idea of the prediction error. But if I compute the error between `value` and `yhat`, the error will also be scaled and difficult to interpret. So I add columns in the original scale."
   ]
  },
  {
   "cell_type": "code",
   "execution_count": null,
   "metadata": {
    "nextjournal": {
     "id": "36bd8a92-4dc2-438a-8b2e-12280389fbcd",
     "kind": "code",
     "language": "python"
    }
   },
   "outputs": [],
   "source": [
    "XY_m[\"value_original\"] = 0\n",
    "XY_m[\"yhat_original\"] = 0\n",
    "for metal in targets:\n",
    "    XY_m.loc[XY_m[\"variable\"] == metal, \"value_original\"] = XY_m.loc[XY_m[\"variable\"] == metal, \"value\"] * std_sc[metal] + mean_sc[metal]\n",
    "    XY_m.loc[XY_m[\"variable\"] == metal, \"yhat_original\"] = XY_m.loc[XY_m[\"variable\"] == metal, \"yhat\"] * std_sc[metal] + mean_sc[metal]"
   ]
  },
  {
   "cell_type": "markdown",
   "metadata": {},
   "source": [
    "This long-format table is ready to be used with *Pandas* for statistics the grammar of graphics of *Lets-plot*. First, the root-mean-square-error."
   ]
  },
  {
   "cell_type": "code",
   "execution_count": null,
   "metadata": {
    "nextjournal": {
     "id": "6d32eff8-dd9c-473e-bae1-7ed4c88c56bd",
     "kind": "code",
     "language": "python"
    }
   },
   "outputs": [],
   "source": [
    "rmse = (\n",
    "    XY_m\n",
    "    .query(\"tr_te == 'test'\")\n",
    "    .groupby('variable')\n",
    "    .apply(func = lambda x: np.mean((x.value_original - x.yhat_original)**2)**0.5)\n",
    "    .round(2)\n",
    ")\n",
    "rmse"
   ]
  },
  {
   "cell_type": "markdown",
   "metadata": {},
   "source": [
    "The acceptability of these errors depend on the usage of the model."
   ]
  },
  {
   "cell_type": "code",
   "execution_count": null,
   "metadata": {
    "nextjournal": {
     "id": "0abe2176-0fb3-451f-b661-fb4f5ce6c34c",
     "kind": "code",
     "language": "python"
    }
   },
   "outputs": [],
   "source": [
    "(\n",
    "    lp.ggplot(XY_m, lp.aes(x = \"value\", y = \"yhat\")) +\n",
    "    lp.facet_grid(x = \"tr_te\", y = \"variable\") +\n",
    "    lp.geom_abline(intercept = 0, slope = 1, color = 'red', size = 1) +\n",
    "    lp.geom_point()\n",
    ")"
   ]
  },
  {
   "cell_type": "markdown",
   "metadata": {},
   "source": [
    "The testing prediction is not so good, with some off points. The model could be improved by adding more predictors and adjusting hyper-parameters (which should be optimized by `find_MAP()`, though). Coregionalization may not be needed and simpler models would perform better. In fact, a much simpler approach with generalized additive models with *PyGAM* returned similar results with the same features. If you want to see how I did it with GAMs, go [here - (](https://gitlab.com/essicolo/blog_sm/-/blob/master/2022-03-14_spatial/2022-03-14_gam.ipynb)the following code exports data for GAMs)."
   ]
  },
  {
   "cell_type": "code",
   "execution_count": null,
   "metadata": {
    "nextjournal": {
     "id": "953e9ce1-ed1b-4060-93d4-49d8382bc14a",
     "kind": "code",
     "language": "python"
    }
   },
   "outputs": [],
   "source": [
    "import pickle\n",
    "with open(\"results/to_gam.pkl\", \"wb\") as file:\n",
    "    pickle.dump([XY, XY_sc, id_train, id_test, mean_sc, std_sc, targets, features], file)"
   ]
  },
  {
   "cell_type": "markdown",
   "metadata": {},
   "source": [
    "## Use the model\n",
    "\n",
    "Once we have our model, we can project it onto our map. To do this, one can use a grid of points, and evaluate the metal contents on this grid. There are several ways to create grids. The *Pandas* package, although not offering a function to create grids of points, does offer the `expand_grid` function [in its documentation](https://<https://pandas.pydata.org/docs/user_guide/cookbook.html> ?highlight=cookbook#creating-example-data)."
   ]
  },
  {
   "cell_type": "code",
   "execution_count": null,
   "metadata": {
    "nextjournal": {
     "id": "743f01f8-ad6e-437e-9d71-3c83cfe940ae",
     "kind": "code",
     "language": "python"
    }
   },
   "outputs": [],
   "source": [
    "import itertools\n",
    "def expand_grid(data_dict):\n",
    "    rows = itertools.product(*data_dict.values())\n",
    "    return pd.DataFrame.from_records(rows, columns=data_dict.keys())"
   ]
  },
  {
   "cell_type": "code",
   "execution_count": null,
   "metadata": {
    "nextjournal": {
     "id": "58048825-e0c1-48f0-96f9-6dc89daacc9f",
     "kind": "code",
     "language": "python"
    }
   },
   "outputs": [],
   "source": [
    "\n",
    "gridres = 0.0012 # grid resolution : could be finer\n",
    "x_grid = np.arange(5.71, 5.77, gridres)\n",
    "y_grid = np.arange(50.95, 51.0, gridres)\n",
    "\n",
    "squaregrid = expand_grid(\n",
    "    {\"x\": x_grid, \"y\": y_grid}\n",
    ")\n",
    "\n",
    "(\n",
    "    lp.ggplot(squaregrid, lp.aes('x', 'y')) +\n",
    "    lp.geom_livemap(tiles = tilesets.STAMEN_DESIGN_TONER) +\n",
    "    lp.geom_point()\n",
    ")"
   ]
  },
  {
   "cell_type": "markdown",
   "metadata": {},
   "source": [
    "The problem with this grid is that it goes far away from our domain. Indeed, predicting concentrations on the West side of the river is risky, since we only have data between the East side and the canal. I drew a polygon with QGIS, exported it in the geojson format, then performed a spatial query to filter out points outside the polygon. The grid must first be turned to a *GeoPandas* data frame."
   ]
  },
  {
   "cell_type": "code",
   "execution_count": null,
   "metadata": {
    "nextjournal": {
     "id": "6d193ab6-4c84-413b-86ae-61cac52383c8",
     "kind": "code",
     "language": "python"
    }
   },
   "outputs": [],
   "source": [
    "geogrid = gpd.GeoDataFrame(\n",
    "    squaregrid,\n",
    "    geometry = gpd.points_from_xy(squaregrid[\"x\"], squaregrid[\"y\"], crs = \"epsg:4326\")\n",
    ")"
   ]
  },
  {
   "cell_type": "markdown",
   "metadata": {},
   "source": [
    "[polygon.geojson](https://nextjournal.com/data/QmXWCH5fTcmVwCRFViWs8pkCfCmEmqqAzWwU4cvyXZzMw2?content-type=application/geo%2Bjson&node-id=df5d18eb-d37a-4ed0-8591-9920b437fed1&filename=polygon.geojson&node-kind=file)\n"
   ]
  },
  {
   "cell_type": "code",
   "execution_count": null,
   "metadata": {
    "nextjournal": {
     "id": "b8a46853-7c4a-4369-8a3d-860ad591924e",
     "kind": "code",
     "language": "python"
    }
   },
   "outputs": [],
   "source": [
    "geo_polygon = gpd.read_file(\"/.nextjournal/data-named/QmXWCH5fTcmVwCRFViWs8pkCfCmEmqqAzWwU4cvyXZzMw2/polygon.geojson\")\n",
    "grid_filter = np.array([geogrid[\"geometry\"][i].within(geo_polygon[\"geometry\"][0]) for i in range(geogrid.shape[0])])\n",
    "\n",
    "(\n",
    "  lp.ggplot(geogrid.iloc[grid_filter, :]) +\n",
    "  lp.geom_livemap(tiles = tilesets.STAMEN_DESIGN_TONER) +\n",
    "  lp.geom_point(lp.aes(x = 'x', y = 'y'))\n",
    ")"
   ]
  },
  {
   "cell_type": "markdown",
   "metadata": {},
   "source": [
    "Since the grid is good, I save it in its own object."
   ]
  },
  {
   "cell_type": "code",
   "execution_count": null,
   "metadata": {
    "nextjournal": {
     "id": "e5395c66-957a-4432-ba0c-8d326ab31279",
     "kind": "code",
     "language": "python"
    }
   },
   "outputs": [],
   "source": [
    "geogrid_f = geogrid.iloc[grid_filter, :]"
   ]
  },
  {
   "cell_type": "markdown",
   "metadata": {},
   "source": [
    "The resolution of the grid could be finer, but it is better for the example to limit it to little. Let us now calculate the distances from the river for each of the points in the grid."
   ]
  },
  {
   "cell_type": "code",
   "execution_count": null,
   "metadata": {
    "nextjournal": {
     "id": "53422588-fdd7-4045-8684-2bff635c3896",
     "kind": "code",
     "language": "python"
    }
   },
   "outputs": [],
   "source": [
    "geogrid_f = geogrid_f.assign(\n",
    "   distance_river = [geogrid_f[\"geometry\"][i].distance(river[\"geometry\"][0]) for i in geogrid_f.index]\n",
    ")\n",
    "\n",
    "(\n",
    "    lp.ggplot(geogrid_f) +\n",
    "    lp.geom_livemap(tiles = tilesets.STAMEN_DESIGN_TONER) +\n",
    "    lp.geom_tile(lp.aes('x', 'y', fill = 'distance_river'), alpha = 0.8) +\n",
    "    lp.scale_fill_brewer(type = 'seq', palette = 'Reds')\n",
    ")"
   ]
  },
  {
   "cell_type": "markdown",
   "metadata": {},
   "source": [
    "To obtain the desirable prediction, we have to format the data just like the data we fitted the model onto. Remember that the features were scaled, and that the first column contained the index of the target."
   ]
  },
  {
   "cell_type": "code",
   "execution_count": null,
   "metadata": {
    "nextjournal": {
     "id": "c786cbca-3552-40a2-91c7-a18d1f994482",
     "kind": "code",
     "language": "python"
    }
   },
   "outputs": [],
   "source": [
    "geogrid_sc = (geogrid_f[features] - mean_sc[features]) / std_sc[features]"
   ]
  },
  {
   "cell_type": "code",
   "execution_count": null,
   "metadata": {
    "nextjournal": {
     "id": "e58a4ed5-9947-4e6e-9af6-109dce758f87",
     "kind": "code",
     "language": "python"
    }
   },
   "outputs": [],
   "source": [
    "geogrid_mod = pd.concat([geogrid_sc, geogrid_sc, geogrid_sc, geogrid_sc]).reset_index(drop = True)\n",
    "geogrid_varid = pd.Series(np.repeat([0, 1, 2, 3], geogrid_sc.shape[0]), name = \"variable_id\")\n",
    "geogrid_mod = pd.concat([geogrid_varid, geogrid_mod], axis = 1)"
   ]
  },
  {
   "cell_type": "code",
   "execution_count": null,
   "metadata": {
    "nextjournal": {
     "id": "d9405114-5c6c-4888-9617-3e950a230b6d",
     "kind": "code",
     "language": "python"
    }
   },
   "outputs": [],
   "source": [
    "with model:\n",
    "    predgrid = gp.conditional(\"predgrid\", geogrid_mod.values)\n",
    "    predgrid_samples = pm.sample_posterior_predictive([mp], var_names=[\"predgrid\"], samples = 50)"
   ]
  },
  {
   "cell_type": "markdown",
   "metadata": {},
   "source": [
    "I compute the mean of the 50 samples, then tag if the observation is in the training or testing set."
   ]
  },
  {
   "cell_type": "code",
   "execution_count": null,
   "metadata": {
    "nextjournal": {
     "id": "b249180c-df89-4bcf-8778-5a84f6a3dac7",
     "kind": "code",
     "language": "python"
    }
   },
   "outputs": [],
   "source": [
    "geogrid_mod[\"yhat\"] = predgrid_samples[\"predgrid\"].mean(axis = 0)\n",
    "geogrid_mod = geogrid_mod.merge(variable_ids, on = \"variable_id\")"
   ]
  },
  {
   "cell_type": "markdown",
   "metadata": {},
   "source": [
    "It would be nice to have an idea of the prediction error. But if I compute the error between `value` and `yhat`, the error will also be scaled and difficult to interpret. I add columns in the original scale."
   ]
  },
  {
   "cell_type": "code",
   "execution_count": null,
   "metadata": {
    "nextjournal": {
     "id": "3cfee581-4ee5-4e32-a705-99f21c7d6fac",
     "kind": "code",
     "language": "python"
    }
   },
   "outputs": [],
   "source": [
    "for var in targets:\n",
    "    geogrid_mod.loc[geogrid_mod[\"variable\"] == var, \"yhat\"] = geogrid_mod.loc[geogrid_mod[\"variable\"] == var, \"yhat\"] * std_sc[var] + mean_sc[var]"
   ]
  },
  {
   "cell_type": "code",
   "execution_count": null,
   "metadata": {
    "nextjournal": {
     "id": "f3554c43-6d1b-4c13-aaec-b87195a2235f",
     "kind": "code",
     "language": "python"
    }
   },
   "outputs": [],
   "source": [
    "for var in features:\n",
    "    geogrid_mod.loc[:, var] = geogrid_mod.loc[:, var] * std_sc[var] + mean_sc[var]"
   ]
  },
  {
   "cell_type": "code",
   "execution_count": null,
   "metadata": {
    "nextjournal": {
     "id": "ed081e78-5a29-4512-97bc-86240950ba34",
     "kind": "code",
     "language": "python"
    }
   },
   "outputs": [],
   "source": [
    "geogrid_mod"
   ]
  },
  {
   "cell_type": "markdown",
   "metadata": {},
   "source": [
    "We can plot the spatial distribution on the prediction as we did before."
   ]
  },
  {
   "cell_type": "code",
   "execution_count": null,
   "metadata": {
    "nextjournal": {
     "id": "1eba43ae-753d-4686-84a1-d7dec93306d0",
     "kind": "code",
     "language": "python"
    }
   },
   "outputs": [],
   "source": [
    "def plot_predictions(metal):\n",
    "    p = (\n",
    "            lp.ggplot() +\n",
    "            lp.geom_livemap(tiles = tilesets.STAMEN_DESIGN_TONER) +\n",
    "            lp.scale_fill_brewer(type = 'seq', palette = 'Reds') +\n",
    "            lp.geom_tile(data = geogrid_mod.loc[geogrid_mod[\"variable\"] == metal, :], mapping = lp.aes('x', 'y', fill = 'yhat'), alpha = 0.85) +\n",
    "\n",
    "            lp.geom_point(data = meuse_gdf, mapping = lp.aes(x = 'x', y = 'y', fill = metal), size = 2, shape = 21, color = 'black')\n",
    "    )\n",
    "    return p\n",
    "\n",
    "w, h = 480, 320\n",
    "offset = 15\n",
    "bunch = lp.GGBunch()\n",
    "bunch.add_plot(plot_predictions('cadmium'), 0, 0, w, h)\n",
    "bunch.add_plot(plot_predictions('copper'), w + offset, 0, w, h)\n",
    "bunch.add_plot(plot_predictions('lead'), 0, h + offset, w, h)\n",
    "bunch.add_plot(plot_predictions('zinc'), w + offset, h + offset, w, h)\n",
    "bunch"
   ]
  },
  {
   "cell_type": "markdown",
   "metadata": {},
   "source": [
    "When I ran `predgrid_samples = pm.sample_posterior_predictive([mp], var_names=[\"predgrid\"], samples = 50)`, I drew 50 samples from a conditionned Gaussian process distribution distribution. Then I computed the mean of these 50 samples to obtain a prediction for each point on the grid. What could I also do with these samples?\n",
    "\n",
    "⏲️\n",
    "\n",
    "That's right, computing uncertainties!  Where there are fewer observations, Gaussian processes return larger uncertainties. Let us check it out."
   ]
  },
  {
   "cell_type": "code",
   "execution_count": null,
   "metadata": {
    "nextjournal": {
     "id": "ae6aa79d-4b0d-4433-9ca5-77ae59a9a5c1",
     "kind": "code",
     "language": "python"
    }
   },
   "outputs": [],
   "source": [
    "geogrid_mod[\"yhat_sd\"] = predgrid_samples[\"predgrid\"].std(axis = 0)\n",
    "for var in targets:\n",
    "    geogrid_mod.loc[geogrid_mod[\"variable\"] == var, \"yhat_sd\"] = geogrid_mod.loc[geogrid_mod[\"variable\"] == var, \"yhat_sd\"] * std_sc[var]"
   ]
  },
  {
   "cell_type": "code",
   "execution_count": null,
   "metadata": {
    "nextjournal": {
     "id": "a9f493ca-36eb-476c-be8f-c47e9eaf4cb1",
     "kind": "code",
     "language": "python"
    }
   },
   "outputs": [],
   "source": [
    "def plot_predictions(metal):\n",
    "    p = (\n",
    "            lp.ggplot() +\n",
    "            lp.geom_livemap(tiles = tilesets.STAMEN_DESIGN_TONER) +\n",
    "            lp.scale_fill_brewer(type = 'seq', palette = 'Reds') +\n",
    "            lp.geom_tile(data = geogrid_mod.loc[geogrid_mod[\"variable\"] == metal, :], mapping = lp.aes('x', 'y', fill = 'yhat_sd'), alpha = 0.85) +\n",
    "\n",
    "            lp.geom_point(data = meuse_gdf, mapping = lp.aes(x = 'x', y = 'y'), size = 2, shape = 1, color = 'black')\n",
    "    )\n",
    "    return p\n",
    "\n",
    "w, h = 480, 320\n",
    "offset = 15\n",
    "bunch = lp.GGBunch()\n",
    "bunch.add_plot(plot_predictions('cadmium'), 0, 0, w, h)\n",
    "bunch.add_plot(plot_predictions('copper'), w + offset, 0, w, h)\n",
    "bunch.add_plot(plot_predictions('lead'), 0, h + offset, w, h)\n",
    "bunch.add_plot(plot_predictions('zinc'), w + offset, h + offset, w, h)\n",
    "bunch"
   ]
  },
  {
   "cell_type": "markdown",
   "metadata": {},
   "source": [
    "# Recapitulation\n",
    "\n",
    "In this tutorial, we began by the import of a tabular *csv* in a *Pandas* data frame. We transformed this table to a *GeoPandas* data frame, i.e. data frame including a geometry column. By transforming the projection of our points to the correct coordinate system, we could project our points on a map with *Lets-plot*.\n",
    "\n",
    "We then imported a *geojson* file directly as a *GeoPandas* data frame in the aim of computing the distance to the river from any location. This was our first spatial query with *GeoPandas*.\n",
    "\n",
    "We created a spatial model as conventionnally done with machine learning, with training and testing sets and preprocess. We used multioutput Gaussian processes with *PyMC*. We then sampled from our fitted Gaussian process to obtain our predictions and criticize our model.\n",
    "\n",
    "We finally used our model to spatially project soil pollutants concentrations and their uncertainty on a grid contained in a polygon to avoid spatial extrapolations.\n",
    "\n",
    "[Comment on Twitter](https://twitter.com/essicolo/status/1504537755916906500).\n",
    "\n",
    "[Comment on Mastodon](https://mastodon.online/web/@essi/107977832169912555)."
   ]
  }
 ],
 "metadata": {
  "kernelspec": {
   "display_name": "Python 3 (ipykernel)",
   "language": "python",
   "name": "python3"
  },
  "language_info": {
   "codemirror_mode": {
    "name": "ipython",
    "version": 3
   },
   "file_extension": ".py",
   "mimetype": "text/x-python",
   "name": "python",
   "nbconvert_exporter": "python",
   "pygments_lexer": "ipython3",
   "version": "3.7.12"
  },
  "nextjournal": {
   "nodes-edn": "{\"ae6aa79d-4b0d-4433-9ca5-77ae59a9a5c1\" {:id \"ae6aa79d-4b0d-4433-9ca5-77ae59a9a5c1\", :kind \"code\", :language \"python\", :runtime [:runtime \"3d2bcd6a-fd2d-45f9-a9f6-f7fc252062c7\"], :error nil, :compute-ref #uuid \"30483688-66bb-4de1-87de-60f86dba47ea\", :exec-duration 56, :output-log-lines {}}, \"d2448e99-349c-49c3-b459-4d744ac19517\" {:id \"d2448e99-349c-49c3-b459-4d744ac19517\", :kind \"code\", :language \"python\", :runtime [:runtime \"3d2bcd6a-fd2d-45f9-a9f6-f7fc252062c7\"]}, \"e5395c66-957a-4432-ba0c-8d326ab31279\" {:id \"e5395c66-957a-4432-ba0c-8d326ab31279\", :kind \"code\", :language \"python\", :runtime [:runtime \"3d2bcd6a-fd2d-45f9-a9f6-f7fc252062c7\"], :error nil, :compute-ref #uuid \"5c09f675-638d-406c-a420-91847af3a253\", :exec-duration 20, :output-log-lines {}}, \"ed081e78-5a29-4512-97bc-86240950ba34\" {:output-log-lines {}, :language \"python\", :id \"ed081e78-5a29-4512-97bc-86240950ba34\", :compute-ref #uuid \"d3c7e8a8-b7d7-40fc-ad13-5a49646ddcff\", :runtime [:runtime \"3d2bcd6a-fd2d-45f9-a9f6-f7fc252062c7\"], :kind \"code\", :error nil, :exec-duration 43}, \"a9f493ca-36eb-476c-be8f-c47e9eaf4cb1\" {:output-log-lines {}, :language \"python\", :id \"a9f493ca-36eb-476c-be8f-c47e9eaf4cb1\", :compute-ref #uuid \"fb0bb3f5-40cc-4d93-bca0-3858c60c33c3\", :runtime [:runtime \"3d2bcd6a-fd2d-45f9-a9f6-f7fc252062c7\"], :kind \"code\", :error nil, :exec-duration 704}, \"fd452b48-6a98-4f32-bf35-f06babd2e81c\" {:output-log-lines {}, :language \"python\", :id \"fd452b48-6a98-4f32-bf35-f06babd2e81c\", :compute-ref #uuid \"855d4bd5-cf71-4e25-9da4-7a3e01b47614\", :runtime [:runtime \"3d2bcd6a-fd2d-45f9-a9f6-f7fc252062c7\"], :kind \"code\", :error nil, :exec-duration 134}, \"0abe2176-0fb3-451f-b661-fb4f5ce6c34c\" {:output-log-lines {}, :language \"python\", :id \"0abe2176-0fb3-451f-b661-fb4f5ce6c34c\", :compute-ref #uuid \"354ea6f9-e2fc-4d2a-af18-fddb17d26aec\", :runtime [:runtime \"3d2bcd6a-fd2d-45f9-a9f6-f7fc252062c7\"], :kind \"code\", :error nil, :exec-duration 434}, \"bad32b5f-8d3c-44c0-a9ed-d65381a869d0\" {:output-log-lines {}, :language \"python\", :id \"bad32b5f-8d3c-44c0-a9ed-d65381a869d0\", :compute-ref #uuid \"562a4969-94a0-451b-937d-38a38354d3b6\", :runtime [:runtime \"3d2bcd6a-fd2d-45f9-a9f6-f7fc252062c7\"], :kind \"code\", :error nil, :exec-duration 475}, \"045746d6-1778-4e4f-8c1d-8c78bff37782\" {:id \"045746d6-1778-4e4f-8c1d-8c78bff37782\", :kind \"code\", :language \"python\", :runtime [:runtime \"3d2bcd6a-fd2d-45f9-a9f6-f7fc252062c7\"], :error nil, :compute-ref #uuid \"273fbc19-1b56-4417-a682-4c37373a734f\", :exec-duration 26, :output-log-lines {}}, \"b8a46853-7c4a-4369-8a3d-860ad591924e\" {:output-log-lines {}, :language \"python\", :id \"b8a46853-7c4a-4369-8a3d-860ad591924e\", :compute-ref #uuid \"57da40c0-41e5-4fbc-b254-a75db9e707a4\", :runtime [:runtime \"3d2bcd6a-fd2d-45f9-a9f6-f7fc252062c7\"], :kind \"code\", :error nil, :exec-duration 620}, \"3cfee581-4ee5-4e32-a705-99f21c7d6fac\" {:output-log-lines {}, :language \"python\", :id \"3cfee581-4ee5-4e32-a705-99f21c7d6fac\", :compute-ref #uuid \"9cd32f8e-09de-45fd-a2cd-8f1001818b24\", :runtime [:runtime \"3d2bcd6a-fd2d-45f9-a9f6-f7fc252062c7\"], :kind \"code\", :error nil, :exec-duration 32}, \"538309c7-e663-4958-bee1-bad9c5613249\" {:id \"538309c7-e663-4958-bee1-bad9c5613249\", :kind \"code\", :language \"python\", :runtime [:runtime \"3d2bcd6a-fd2d-45f9-a9f6-f7fc252062c7\"], :error nil, :compute-ref #uuid \"e4ded5b5-bc9e-4f1f-a42c-a3ed94b17a7c\", :exec-duration 37, :output-log-lines {}}, \"953e9ce1-ed1b-4060-93d4-49d8382bc14a\" {:output-log-lines {}, :language \"python\", :id \"953e9ce1-ed1b-4060-93d4-49d8382bc14a\", :compute-ref #uuid \"c5027dbc-c28b-48e5-ae6a-452d506fa7e5\", :runtime [:runtime \"3d2bcd6a-fd2d-45f9-a9f6-f7fc252062c7\"], :kind \"code\", :error nil, :exec-duration 17}, \"5bc10e21-4207-4595-aa90-90cb1ea05c2e\" {:id \"5bc10e21-4207-4595-aa90-90cb1ea05c2e\", :kind \"reference\", :link [:output \"df5d18eb-d37a-4ed0-8591-9920b437fed1\" nil]}, \"fb06d221-6b62-4c7e-afc7-105ea0ff8221\" {:output-log-lines {}, :language \"python\", :id \"fb06d221-6b62-4c7e-afc7-105ea0ff8221\", :compute-ref #uuid \"08d5592f-295a-4e20-b72a-844293397fa6\", :runtime [:runtime \"3d2bcd6a-fd2d-45f9-a9f6-f7fc252062c7\"], :kind \"code\", :error nil, :exec-duration 530}, \"0b937167-c4b9-4a23-8f46-9de7f26be213\" {:output-log-lines {}, :language \"python\", :id \"0b937167-c4b9-4a23-8f46-9de7f26be213\", :compute-ref #uuid \"322bee93-b2c0-45a7-9ac3-8ec904959665\", :runtime [:runtime \"3d2bcd6a-fd2d-45f9-a9f6-f7fc252062c7\"], :kind \"code\", :error nil, :exec-duration 84}, \"e58a4ed5-9947-4e6e-9af6-109dce758f87\" {:id \"e58a4ed5-9947-4e6e-9af6-109dce758f87\", :kind \"code\", :language \"python\", :runtime [:runtime \"3d2bcd6a-fd2d-45f9-a9f6-f7fc252062c7\"], :error nil, :compute-ref #uuid \"a81ca031-2fce-4ad1-af40-9bb8a342c70b\", :exec-duration 25, :output-log-lines {}}, \"51094e03-e67a-4c3a-96af-c3f7c43bb7b0\" {:id \"51094e03-e67a-4c3a-96af-c3f7c43bb7b0\", :kind \"code\", :language \"python\", :runtime [:runtime \"3d2bcd6a-fd2d-45f9-a9f6-f7fc252062c7\"], :error nil, :compute-ref #uuid \"8bddfcef-8511-43e9-b593-8ec836519725\", :exec-duration 148, :output-log-lines {}}, \"5edc7cfd-8000-44a3-a09f-07b632e9d9aa\" {:id \"5edc7cfd-8000-44a3-a09f-07b632e9d9aa\", :kind \"code\", :language \"python\", :runtime [:runtime \"3d2bcd6a-fd2d-45f9-a9f6-f7fc252062c7\"]}, \"3eed9497-37ca-421a-bab5-171b297d44f4\" {:output-log-lines {}, :language \"python\", :id \"3eed9497-37ca-421a-bab5-171b297d44f4\", :compute-ref #uuid \"39d38f04-9f08-45be-9dc5-d1658b0da39b\", :runtime [:runtime \"3d2bcd6a-fd2d-45f9-a9f6-f7fc252062c7\"], :kind \"code\", :error nil, :exec-duration 334}, \"7fb1ec4d-5c39-4278-bd12-be8487e5a28a\" {:output-log-lines {}, :language \"python\", :id \"7fb1ec4d-5c39-4278-bd12-be8487e5a28a\", :compute-ref #uuid \"80bf4dee-9725-4a3c-a362-0783f20c0224\", :runtime [:runtime \"3d2bcd6a-fd2d-45f9-a9f6-f7fc252062c7\"], :kind \"code\", :error nil, :exec-duration 109}, \"53abfc80-0cb0-4766-8e51-573d505c971f\" {:output-log-lines {}, :language \"python\", :id \"53abfc80-0cb0-4766-8e51-573d505c971f\", :compute-ref #uuid \"6e583609-e85b-49fa-808b-80c8abb010d5\", :runtime [:runtime \"3d2bcd6a-fd2d-45f9-a9f6-f7fc252062c7\"], :kind \"code\", :error nil, :exec-duration 428}, \"3d2bcd6a-fd2d-45f9-a9f6-f7fc252062c7\" {:output-log-lines nil, :type :jupyter, :language \"python\", :id \"3d2bcd6a-fd2d-45f9-a9f6-f7fc252062c7\", :compute-ref #uuid \"a7564e3a-d8f3-493b-94a1-355e184724ac\", :kind \"runtime\", :error nil, :environment [:environment {:node/id \"0149f12a-08de-4f3d-9fd3-4b7a665e8624\", :article/nextjournal.id #uuid \"5b45e08b-5b96-413e-84ed-f03b5b65bd66\", :change/nextjournal.id #uuid \"6034be04-2bc2-4468-af0e-cd7b9b6e7ed8\"}], :resources {:machine-type \"n1-standard-1\"}}, \"6d32eff8-dd9c-473e-bae1-7ed4c88c56bd\" {:output-log-lines {}, :language \"python\", :id \"6d32eff8-dd9c-473e-bae1-7ed4c88c56bd\", :compute-ref #uuid \"a139b55d-1f08-475d-b8d4-8bcac7104e08\", :runtime [:runtime \"3d2bcd6a-fd2d-45f9-a9f6-f7fc252062c7\"], :kind \"code\", :error nil, :exec-duration 49}, \"ac875c7c-ed1b-4cd6-9278-62703fdf143c\" {:stdout-collapsed? true, :output-log-lines {:stdout 79}, :language \"bash\", :id \"ac875c7c-ed1b-4cd6-9278-62703fdf143c\", :compute-ref #uuid \"23317e55-293a-4a91-b369-4c0595af616f\", :runtime [:runtime \"3d2bcd6a-fd2d-45f9-a9f6-f7fc252062c7\"], :kind \"code\", :error nil, :exec-duration 25452}, \"8b6c25da-a329-4ec6-a931-c0a90473f9aa\" {:output-log-lines {}, :language \"python\", :id \"8b6c25da-a329-4ec6-a931-c0a90473f9aa\", :compute-ref #uuid \"da7f9b84-4017-4f16-aaf3-b3d2f03913f7\", :runtime [:runtime \"3d2bcd6a-fd2d-45f9-a9f6-f7fc252062c7\"], :kind \"code\", :error nil, :exec-duration 84}, \"36bd8a92-4dc2-438a-8b2e-12280389fbcd\" {:id \"36bd8a92-4dc2-438a-8b2e-12280389fbcd\", :kind \"code\", :language \"python\", :runtime [:runtime \"3d2bcd6a-fd2d-45f9-a9f6-f7fc252062c7\"], :error nil, :compute-ref #uuid \"47e406a6-80bc-4e86-acd0-daff33ed617d\", :exec-duration 77, :output-log-lines {}}, \"58048825-e0c1-48f0-96f9-6dc89daacc9f\" {:output-log-lines {}, :language \"python\", :id \"58048825-e0c1-48f0-96f9-6dc89daacc9f\", :compute-ref #uuid \"f157cdc0-b87d-44a5-a738-f4f23c2db248\", :runtime [:runtime \"3d2bcd6a-fd2d-45f9-a9f6-f7fc252062c7\"], :kind \"code\", :error nil, :exec-duration 435}, \"ed1202e4-f603-4c31-b620-278f96962b2d\" {:output-log-lines {}, :language \"python\", :id \"ed1202e4-f603-4c31-b620-278f96962b2d\", :compute-ref #uuid \"ce588a7f-3ea5-43c2-8545-da3d4484a83a\", :runtime [:runtime \"3d2bcd6a-fd2d-45f9-a9f6-f7fc252062c7\"], :kind \"code\", :error nil, :exec-duration 3815}, \"7dffb99e-9a02-4b10-b38f-2c258321e874\" {:id \"7dffb99e-9a02-4b10-b38f-2c258321e874\", :kind \"reference\", :link [:output \"8bcf5ea5-7d49-4827-b8ef-98f0e63b5057\" nil]}, \"d9405114-5c6c-4888-9617-3e950a230b6d\" {:output-log-lines {}, :language \"python\", :id \"d9405114-5c6c-4888-9617-3e950a230b6d\", :compute-ref #uuid \"3d666984-8cc6-484f-a0e7-c0516ef698e7\", :runtime [:runtime \"3d2bcd6a-fd2d-45f9-a9f6-f7fc252062c7\"], :kind \"code\", :error nil, :exec-duration 2787}, \"e2565c11-d9d5-4cb3-9601-20b0c4eb22db\" {:output-log-lines {:stdout 2}, :language \"python\", :id \"e2565c11-d9d5-4cb3-9601-20b0c4eb22db\", :compute-ref #uuid \"4540ab55-c1ad-44c8-9333-bbb49f002acc\", :runtime [:runtime \"3d2bcd6a-fd2d-45f9-a9f6-f7fc252062c7\"], :kind \"code\", :error nil, :exec-duration 133202}, \"f3554c43-6d1b-4c13-aaec-b87195a2235f\" {:id \"f3554c43-6d1b-4c13-aaec-b87195a2235f\", :kind \"code\", :language \"python\", :runtime [:runtime \"3d2bcd6a-fd2d-45f9-a9f6-f7fc252062c7\"], :error nil, :compute-ref #uuid \"a638f9b6-dead-4517-8b4a-68c50c2bf1de\", :exec-duration 27, :output-log-lines {}}, \"d5bd17b1-dfe7-4cb4-86c1-e7794fb1fb4f\" {:id \"d5bd17b1-dfe7-4cb4-86c1-e7794fb1fb4f\", :kind \"code\", :language \"python\", :runtime [:runtime \"3d2bcd6a-fd2d-45f9-a9f6-f7fc252062c7\"], :error nil, :compute-ref #uuid \"6604691e-29bf-48dc-bb64-a0b8f553ed1f\", :exec-duration 22, :output-log-lines {}}, \"8c8f7edc-6ab3-4bf7-aabc-a513b4685429\" {:id \"8c8f7edc-6ab3-4bf7-aabc-a513b4685429\", :kind \"code\", :language \"python\", :runtime [:runtime \"3d2bcd6a-fd2d-45f9-a9f6-f7fc252062c7\"], :error nil, :compute-ref #uuid \"7a9b6ecf-3e74-4a26-8a93-f06f0c09915d\", :exec-duration 17, :output-log-lines {}}, \"1b126452-4f17-4d78-a38a-544a7337a854\" {:output-log-lines {}, :language \"python\", :id \"1b126452-4f17-4d78-a38a-544a7337a854\", :compute-ref #uuid \"009debeb-6438-46ec-bc6e-b13b44e096f7\", :runtime [:runtime \"3d2bcd6a-fd2d-45f9-a9f6-f7fc252062c7\"], :kind \"code\", :error nil, :exec-duration 55219}, \"ff62d3b7-fb6c-4d4d-8248-ccbde421e84d\" {:output-log-lines {}, :language \"python\", :id \"ff62d3b7-fb6c-4d4d-8248-ccbde421e84d\", :compute-ref #uuid \"e0f819be-9527-4894-ba71-05153f7370c6\", :runtime [:runtime \"3d2bcd6a-fd2d-45f9-a9f6-f7fc252062c7\"], :kind \"code\", :error nil, :exec-duration 17127}, \"896b9dac-d53b-4901-9cae-d620ebcf96f7\" {:id \"896b9dac-d53b-4901-9cae-d620ebcf96f7\", :kind \"code\", :language \"python\", :runtime [:runtime \"3d2bcd6a-fd2d-45f9-a9f6-f7fc252062c7\"], :error nil, :compute-ref #uuid \"b47c581a-4d73-4e22-b23a-b02354ecb533\", :exec-duration 40, :output-log-lines {}}, \"59a3c4bf-50df-42cc-8577-3d2e92531b15\" {:id \"59a3c4bf-50df-42cc-8577-3d2e92531b15\", :kind \"reference\", :link [:output \"e5b4557b-3cb0-4192-b965-64562b43b278\" nil]}, \"743f01f8-ad6e-437e-9d71-3c83cfe940ae\" {:output-log-lines {}, :language \"python\", :id \"743f01f8-ad6e-437e-9d71-3c83cfe940ae\", :compute-ref #uuid \"af5b5880-400a-4a57-9018-395b2fb25b9c\", :runtime [:runtime \"3d2bcd6a-fd2d-45f9-a9f6-f7fc252062c7\"], :kind \"code\", :error nil, :exec-duration 20}, \"34b91cef-010b-4f5a-9783-2081598c404f\" {:output-log-lines {}, :language \"python\", :id \"34b91cef-010b-4f5a-9783-2081598c404f\", :compute-ref #uuid \"01aa6238-f09d-432f-9a1f-1008e0ab7108\", :runtime [:runtime \"3d2bcd6a-fd2d-45f9-a9f6-f7fc252062c7\"], :kind \"code\", :error nil, :exec-duration 190}, \"a97b0c1b-c7fc-48b0-944a-f7f6b3f808ac\" {:output-log-lines {}, :language \"python\", :id \"a97b0c1b-c7fc-48b0-944a-f7f6b3f808ac\", :compute-ref #uuid \"c18e9f64-cbc4-45b5-9e0e-4d68375b931f\", :runtime [:runtime \"3d2bcd6a-fd2d-45f9-a9f6-f7fc252062c7\"], :kind \"code\", :error nil, :exec-duration 370}, \"f9b1dcf0-2236-42d6-bc6b-68d2a4d94987\" {:id \"f9b1dcf0-2236-42d6-bc6b-68d2a4d94987\", :kind \"code\", :language \"python\", :runtime [:runtime \"3d2bcd6a-fd2d-45f9-a9f6-f7fc252062c7\"], :error nil, :compute-ref #uuid \"abd36f7a-5f88-4c0c-88a9-ce95a46efe3a\", :exec-duration 26, :output-log-lines {}}, \"1eba43ae-753d-4686-84a1-d7dec93306d0\" {:output-log-lines {}, :language \"python\", :id \"1eba43ae-753d-4686-84a1-d7dec93306d0\", :compute-ref #uuid \"dab8381d-c89b-4528-91f4-21d310ae69d1\", :runtime [:runtime \"3d2bcd6a-fd2d-45f9-a9f6-f7fc252062c7\"], :kind \"code\", :error nil, :exec-duration 683}, \"53422588-fdd7-4045-8684-2bff635c3896\" {:output-log-lines {}, :language \"python\", :id \"53422588-fdd7-4045-8684-2bff635c3896\", :compute-ref #uuid \"0627149f-5fb6-4ee6-a625-2a54dcba0a18\", :runtime [:runtime \"3d2bcd6a-fd2d-45f9-a9f6-f7fc252062c7\"], :kind \"code\", :error nil, :exec-duration 474}, \"384243e5-aedd-4dfe-86a9-de1c56de2690\" {:output-log-lines {}, :language \"python\", :id \"384243e5-aedd-4dfe-86a9-de1c56de2690\", :compute-ref #uuid \"042898ce-01c4-4ae3-bfa8-4b78d377f8a8\", :runtime [:runtime \"3d2bcd6a-fd2d-45f9-a9f6-f7fc252062c7\"], :kind \"code\", :error nil, :exec-duration 34}, \"656596f0-be60-48e6-88b8-21656e11e2f2\" {:output-log-lines {}, :language \"python\", :id \"656596f0-be60-48e6-88b8-21656e11e2f2\", :compute-ref #uuid \"c0f0f083-3e38-4df0-8b16-91cbbc50f6e4\", :runtime [:runtime \"3d2bcd6a-fd2d-45f9-a9f6-f7fc252062c7\"], :kind \"code\", :error nil, :exec-duration 74}, \"b249180c-df89-4bcf-8778-5a84f6a3dac7\" {:output-log-lines {}, :language \"python\", :id \"b249180c-df89-4bcf-8778-5a84f6a3dac7\", :compute-ref #uuid \"98c1a90a-2132-4af4-9b56-b7cbaed3f323\", :runtime [:runtime \"3d2bcd6a-fd2d-45f9-a9f6-f7fc252062c7\"], :kind \"code\", :error nil, :exec-duration 18}, \"813079cc-ea28-4b69-a16d-cdd0f21f2720\" {:id \"813079cc-ea28-4b69-a16d-cdd0f21f2720\", :kind \"code\", :language \"python\", :runtime [:runtime \"3d2bcd6a-fd2d-45f9-a9f6-f7fc252062c7\"], :error nil, :compute-ref #uuid \"077c50eb-88b2-4800-ad1b-e5a273dc6a0b\", :exec-duration 34, :output-log-lines {}}, \"6d193ab6-4c84-413b-86ae-61cac52383c8\" {:id \"6d193ab6-4c84-413b-86ae-61cac52383c8\", :kind \"code\", :language \"python\", :runtime [:runtime \"3d2bcd6a-fd2d-45f9-a9f6-f7fc252062c7\"], :error nil, :compute-ref #uuid \"c32e5594-3f14-4d54-a77d-2972b87ae57c\", :exec-duration 68, :output-log-lines {}}, \"756f971f-01fd-46af-82e3-51fba34e5b43\" {:output-log-lines {}, :language \"python\", :id \"756f971f-01fd-46af-82e3-51fba34e5b43\", :compute-ref #uuid \"0af88070-6c08-48f0-ab0d-2278e19abc9a\", :runtime [:runtime \"3d2bcd6a-fd2d-45f9-a9f6-f7fc252062c7\"], :kind \"code\", :error nil, :exec-duration 416}, \"c786cbca-3552-40a2-91c7-a18d1f994482\" {:output-log-lines {}, :language \"python\", :id \"c786cbca-3552-40a2-91c7-a18d1f994482\", :compute-ref #uuid \"775a72bc-9eda-46b4-a1fc-bf149e368a77\", :runtime [:runtime \"3d2bcd6a-fd2d-45f9-a9f6-f7fc252062c7\"], :kind \"code\", :error nil, :exec-duration 28}}",
   "runtime-id": "3d2bcd6a-fd2d-45f9-a9f6-f7fc252062c7",
   "url": "https://nextjournal.com/a/Q2cQTSYnBrnXKz68Xi2xA"
  }
 },
 "nbformat": 4,
 "nbformat_minor": 4
}
