{
 "cells": [
  {
   "cell_type": "markdown",
   "id": "5dc443a1-e840-42e7-9046-f349dd377a8e",
   "metadata": {},
   "source": [
    "Data source: https://www.kaggle.com/datasets/bilalwaseer/sunshine-hours-for-cities-around-the-world"
   ]
  },
  {
   "cell_type": "code",
   "execution_count": 1,
   "id": "525d29b0-46e1-4a02-ab35-f0ca14563d7e",
   "metadata": {},
   "outputs": [],
   "source": [
    "from lets_plot import *"
   ]
  },
  {
   "cell_type": "code",
   "execution_count": 2,
   "id": "e7b870a4-b38f-40e8-b46a-2870a2b6b6f3",
   "metadata": {},
   "outputs": [
    {
     "data": {
      "text/html": [
       "\n",
       "            <div id=\"eVhvGB\"></div>\n",
       "            <script type=\"text/javascript\" data-lets-plot-script=\"library\">\n",
       "                if(!window.letsPlotCallQueue) {\n",
       "                    window.letsPlotCallQueue = [];\n",
       "                }; \n",
       "                window.letsPlotCall = function(f) {\n",
       "                    window.letsPlotCallQueue.push(f);\n",
       "                };\n",
       "                (function() {\n",
       "                    var script = document.createElement(\"script\");\n",
       "                    script.type = \"text/javascript\";\n",
       "                    script.src = \"https://cdn.jsdelivr.net/gh/JetBrains/lets-plot@v4.3.2/js-package/distr/lets-plot.min.js\";\n",
       "                    script.onload = function() {\n",
       "                        window.letsPlotCall = function(f) {f();};\n",
       "                        window.letsPlotCallQueue.forEach(function(f) {f();});\n",
       "                        window.letsPlotCallQueue = [];\n",
       "                        \n",
       "                    };\n",
       "                    script.onerror = function(event) {\n",
       "                        window.letsPlotCall = function(f) {};    // noop\n",
       "                        window.letsPlotCallQueue = [];\n",
       "                        var div = document.createElement(\"div\");\n",
       "                        div.style.color = 'darkred';\n",
       "                        div.textContent = 'Error loading Lets-Plot JS';\n",
       "                        document.getElementById(\"eVhvGB\").appendChild(div);\n",
       "                    };\n",
       "                    var e = document.getElementById(\"eVhvGB\");\n",
       "                    e.appendChild(script);\n",
       "                })()\n",
       "            </script>\n",
       "            "
      ]
     },
     "metadata": {},
     "output_type": "display_data"
    }
   ],
   "source": [
    "LetsPlot.setup_html()"
   ]
  },
  {
   "cell_type": "code",
   "execution_count": 3,
   "id": "95acc6a8-2802-437d-b753-8c3b690dff91",
   "metadata": {},
   "outputs": [],
   "source": [
    "target_cities = [\"Barcelona\", \"New York City\", \"Lyon\", \"Paris\", \"Amsterdam\", \"Berlin\"]"
   ]
  },
  {
   "cell_type": "code",
   "execution_count": 4,
   "id": "3cca9346-8e95-4efa-aa69-14177d3737a3",
   "metadata": {},
   "outputs": [],
   "source": [
    "def get_data(cities):\n",
    "    import pandas as pd\n",
    "    raw_df = pd.read_csv(\"https://raw.githubusercontent.com/ASmirnov-HORIS/lets-plot-experiments/3984dda0d8fa00e5f2493af5d43491a9eabf44e8/demo/sunshine_hours/data.csv\")\n",
    "    df = raw_df[raw_df[\"City\"].isin(cities)]\n",
    "    return pd.melt(df, id_vars=[\"Country\", \"City\"], value_vars=df.columns[2:-1], \\\n",
    "                   var_name=\"Month\", value_name=\"Sunshine Hours\")"
   ]
  },
  {
   "cell_type": "code",
   "execution_count": 5,
   "id": "2b525db5-451f-4b1c-badf-439e4cf0feb0",
   "metadata": {},
   "outputs": [
    {
     "name": "stdout",
     "output_type": "stream",
     "text": [
      "(72, 4)\n"
     ]
    },
    {
     "data": {
      "text/html": [
       "<div>\n",
       "<style scoped>\n",
       "    .dataframe tbody tr th:only-of-type {\n",
       "        vertical-align: middle;\n",
       "    }\n",
       "\n",
       "    .dataframe tbody tr th {\n",
       "        vertical-align: top;\n",
       "    }\n",
       "\n",
       "    .dataframe thead th {\n",
       "        text-align: right;\n",
       "    }\n",
       "</style>\n",
       "<table border=\"1\" class=\"dataframe\">\n",
       "  <thead>\n",
       "    <tr style=\"text-align: right;\">\n",
       "      <th></th>\n",
       "      <th>Country</th>\n",
       "      <th>City</th>\n",
       "      <th>Month</th>\n",
       "      <th>Sunshine Hours</th>\n",
       "    </tr>\n",
       "  </thead>\n",
       "  <tbody>\n",
       "    <tr>\n",
       "      <th>0</th>\n",
       "      <td>France</td>\n",
       "      <td>Lyon</td>\n",
       "      <td>Jan</td>\n",
       "      <td>74.0</td>\n",
       "    </tr>\n",
       "    <tr>\n",
       "      <th>1</th>\n",
       "      <td>France</td>\n",
       "      <td>Paris</td>\n",
       "      <td>Jan</td>\n",
       "      <td>63.0</td>\n",
       "    </tr>\n",
       "    <tr>\n",
       "      <th>2</th>\n",
       "      <td>Germany</td>\n",
       "      <td>Berlin</td>\n",
       "      <td>Jan</td>\n",
       "      <td>47.0</td>\n",
       "    </tr>\n",
       "  </tbody>\n",
       "</table>\n",
       "</div>"
      ],
      "text/plain": [
       "   Country    City Month  Sunshine Hours\n",
       "0   France    Lyon   Jan            74.0\n",
       "1   France   Paris   Jan            63.0\n",
       "2  Germany  Berlin   Jan            47.0"
      ]
     },
     "execution_count": 5,
     "metadata": {},
     "output_type": "execute_result"
    }
   ],
   "source": [
    "df = get_data(target_cities)\n",
    "print(df.shape)\n",
    "df.head(3)"
   ]
  },
  {
   "cell_type": "code",
   "execution_count": 6,
   "id": "bdbd5091-3a72-4aae-8431-b873c1bb8864",
   "metadata": {},
   "outputs": [
    {
     "data": {
      "text/html": [
       "   <div id=\"HrgcRv\"></div>\n",
       "   <script type=\"text/javascript\" data-lets-plot-script=\"plot\">\n",
       "       (function() {\n",
       "           var plotSpec={\n",
       "\"data\":{\n",
       "\"City\":[\"Lyon\",\"Paris\",\"Berlin\",\"Amsterdam\",\"Barcelona\",\"New York City\",\"Lyon\",\"Paris\",\"Berlin\",\"Amsterdam\",\"Barcelona\",\"New York City\",\"Lyon\",\"Paris\",\"Berlin\",\"Amsterdam\",\"Barcelona\",\"New York City\",\"Lyon\",\"Paris\",\"Berlin\",\"Amsterdam\",\"Barcelona\",\"New York City\",\"Lyon\",\"Paris\",\"Berlin\",\"Amsterdam\",\"Barcelona\",\"New York City\",\"Lyon\",\"Paris\",\"Berlin\",\"Amsterdam\",\"Barcelona\",\"New York City\",\"Lyon\",\"Paris\",\"Berlin\",\"Amsterdam\",\"Barcelona\",\"New York City\",\"Lyon\",\"Paris\",\"Berlin\",\"Amsterdam\",\"Barcelona\",\"New York City\",\"Lyon\",\"Paris\",\"Berlin\",\"Amsterdam\",\"Barcelona\",\"New York City\",\"Lyon\",\"Paris\",\"Berlin\",\"Amsterdam\",\"Barcelona\",\"New York City\",\"Lyon\",\"Paris\",\"Berlin\",\"Amsterdam\",\"Barcelona\",\"New York City\",\"Lyon\",\"Paris\",\"Berlin\",\"Amsterdam\",\"Barcelona\",\"New York City\"],\n",
       "\"Month\":[\"Jan\",\"Jan\",\"Jan\",\"Jan\",\"Jan\",\"Jan\",\"Feb\",\"Feb\",\"Feb\",\"Feb\",\"Feb\",\"Feb\",\"Mar\",\"Mar\",\"Mar\",\"Mar\",\"Mar\",\"Mar\",\"Apr\",\"Apr\",\"Apr\",\"Apr\",\"Apr\",\"Apr\",\"May\",\"May\",\"May\",\"May\",\"May\",\"May\",\"Jun\",\"Jun\",\"Jun\",\"Jun\",\"Jun\",\"Jun\",\"Jul\",\"Jul\",\"Jul\",\"Jul\",\"Jul\",\"Jul\",\"Aug\",\"Aug\",\"Aug\",\"Aug\",\"Aug\",\"Aug\",\"Sep\",\"Sep\",\"Sep\",\"Sep\",\"Sep\",\"Sep\",\"Oct\",\"Oct\",\"Oct\",\"Oct\",\"Oct\",\"Oct\",\"Nov\",\"Nov\",\"Nov\",\"Nov\",\"Nov\",\"Nov\",\"Dec\",\"Dec\",\"Dec\",\"Dec\",\"Dec\",\"Dec\"],\n",
       "\"Sunshine Hours\":[74.0,63.0,47.0,63.0,158.0,162.7,101.0,79.0,74.0,88.0,171.0,163.1,170.0,129.0,121.0,126.0,206.0,212.5,191.0,166.0,159.0,183.0,239.0,225.6,221.0,194.0,220.0,222.0,258.0,256.6,254.0,202.0,222.0,206.0,287.0,257.3,283.0,212.0,217.0,217.0,293.0,268.2,253.0,212.0,211.0,197.0,264.0,268.2,195.0,168.0,156.0,139.0,229.0,219.3,130.0,118.0,112.0,109.0,196.0,211.2,76.0,68.0,51.0,62.0,153.0,151.0,54.0,51.0,37.0,51.0,137.0,139.0]\n",
       "},\n",
       "\"mapping\":{\n",
       "\"x\":\"Month\",\n",
       "\"y\":\"Sunshine Hours\"\n",
       "},\n",
       "\"data_meta\":{\n",
       "},\n",
       "\"facet\":{\n",
       "\"name\":\"wrap\",\n",
       "\"facets\":\"City\",\n",
       "\"order\":1.0,\n",
       "\"dir\":\"h\"\n",
       "},\n",
       "\"coord\":{\n",
       "\"name\":\"polar\"\n",
       "},\n",
       "\"kind\":\"plot\",\n",
       "\"scales\":[],\n",
       "\"layers\":[{\n",
       "\"geom\":\"bar\",\n",
       "\"stat\":\"identity\",\n",
       "\"mapping\":{\n",
       "},\n",
       "\"data_meta\":{\n",
       "},\n",
       "\"data\":{\n",
       "}\n",
       "}],\n",
       "\"metainfo_list\":[]\n",
       "};\n",
       "           var plotContainer = document.getElementById(\"HrgcRv\");\n",
       "           window.letsPlotCall(function() {{\n",
       "               LetsPlot.buildPlotFromProcessedSpecs(plotSpec, -1, -1, plotContainer);\n",
       "           }});\n",
       "       })();\n",
       "   </script>"
      ],
      "text/plain": [
       "<lets_plot.plot.core.PlotSpec at 0x220e3af0e50>"
      ]
     },
     "execution_count": 6,
     "metadata": {},
     "output_type": "execute_result"
    }
   ],
   "source": [
    "ggplot(df, aes(\"Month\", \"Sunshine Hours\")) + \\\n",
    "    geom_bar(stat='identity') + \\\n",
    "    facet_wrap(facets=\"City\") + \\\n",
    "    coord_polar()"
   ]
  }
 ],
 "metadata": {
  "kernelspec": {
   "display_name": "Python 3 (ipykernel)",
   "language": "python",
   "name": "python3"
  },
  "language_info": {
   "codemirror_mode": {
    "name": "ipython",
    "version": 3
   },
   "file_extension": ".py",
   "mimetype": "text/x-python",
   "name": "python",
   "nbconvert_exporter": "python",
   "pygments_lexer": "ipython3",
   "version": "3.10.13"
  }
 },
 "nbformat": 4,
 "nbformat_minor": 5
}
