{
 "cells": [
  {
   "cell_type": "code",
   "execution_count": 1,
   "id": "a0ffaef9",
   "metadata": {},
   "outputs": [],
   "source": [
    "from prompt import *"
   ]
  },
  {
   "cell_type": "code",
   "execution_count": 2,
   "id": "02672622",
   "metadata": {
    "scrolled": false
   },
   "outputs": [
    {
     "name": "stdout",
     "output_type": "stream",
     "text": [
      "\n",
      "I want you to act as a data scientist.\n",
      "\n",
      "Create a notebook explaining how to use the `geom_smooth()` function of the Lets-Plot library.\n",
      "\n",
      "Use something standard as a dataset, like mpg or iris. The dataset url should look like \"https://raw.githubusercontent.com/JetBrains/lets-plot-docs/master/data/%DATASET_NAME%.csv\".\n",
      "\n",
      "Build 3 to 5 plots. Use `LetsPlot.setup_html()` before first occurrence of plot. Use a consistent style when choosing colors, sizes and so on.\n",
      "\n",
      "Here 2 examples of what I expect:\n",
      "    \n",
      "\n",
      "1.\n",
      "\n",
      "# Plotting Points: geom_point()\n",
      "\n",
      "The point geometry is used to create scatterplots. The scatterplot is useful for displaying the relationship between two continuous variables, although it can also be used with one continuous and one categorical variable, or two categorical variables.\n",
      "\n",
      "```python\n",
      "import numpy as np\n",
      "from lets_plot import *\n",
      "```\n",
      "\n",
      "```python\n",
      "LetsPlot.setup_html()\n",
      "```\n",
      "\n",
      "```python\n",
      "np.random.seed(10000)\n",
      "n = 100\n",
      "data = {\n",
      "    'x': np.random.rand(n),\n",
      "    'y': np.random.rand(n),\n",
      "    'colors': np.random.rand(n),\n",
      "    'area': (30 * np.random.rand(n))**2,\n",
      "}\n",
      "```\n",
      "\n",
      "## Default Presentation of Point Geometry\n",
      "\n",
      "```python\n",
      "p = ggplot(data, aes(x='x', y='y')) \n",
      "p + geom_point()\n",
      "```\n",
      "\n",
      "## Options\n",
      "\n",
      "Add aesthetic mappings.\n",
      "\n",
      "```python\n",
      "p + geom_point(aes(color='colors', shape='x'), size=5)\n",
      "```\n",
      "\n",
      "A \"bubblechart\".\n",
      "\n",
      "```python\n",
      "p + geom_point(aes(size='x'))\n",
      "```\n",
      "\n",
      "Set aesthetics to fixed value.\n",
      "\n",
      "```python\n",
      "p + geom_point(color='black', size=6, shape=22, fill='red')\n",
      "```\n",
      "\n",
      "Varying alpha is useful for large datasets.\n",
      "\n",
      "```python\n",
      "np.random.seed(42)\n",
      "n1, n2 = 1000, 500\n",
      "big_data = {\n",
      "    'x': np.append(np.random.normal(0, 1, n1), np.random.normal(3, 1, n2)),\n",
      "    'y': np.append(np.random.normal(0, 1, n1), np.random.normal(3, 1, n2)),\n",
      "}\n",
      "```\n",
      "\n",
      "```python\n",
      "ggplot(big_data, aes('x', 'y')) + geom_point(size=3, alpha=0.3)\n",
      "```\n",
      "\n",
      "You can create interesting shapes by layering multiple points of different sizes.\n",
      "\n",
      "```python\n",
      "p + geom_point(aes(shape='area', color='colors'), size=7) + \\\n",
      "    geom_point(color='#993404', size=2.5)\n",
      "```\n",
      "        \n",
      "\n",
      "2.\n",
      "\n",
      "# Bar Charts: geom_bar()\n",
      "\n",
      "geom_bar() displays a bar chart which makes the height of the bar proportional to the number of cases in each group.\n",
      "\n",
      "geom_bar() uses 'count' stat by default, it counts the number of cases at each x position. Use stat='identity' to leave the data as is.\n",
      "\n",
      "## Preparation\n",
      "\n",
      "```python\n",
      "import pandas as pd\n",
      "\n",
      "from lets_plot import *\n",
      "from lets_plot.mapping import *\n",
      "```\n",
      "\n",
      "```python\n",
      "LetsPlot.setup_html()\n",
      "```\n",
      "\n",
      "```python\n",
      "df = pd.read_csv(\"https://raw.githubusercontent.com/JetBrains/lets-plot-docs/master/data/titanic.csv\")\n",
      "print(df.shape)\n",
      "df.head()\n",
      "```\n",
      "\n",
      "## Default Presentation of Bar Geometry\n",
      "\n",
      "Here is the simplest example showing the number of passengers in each class.\n",
      "\n",
      "```python\n",
      "ggplot(df, aes(x=\"Pclass\")) + geom_bar()\n",
      "```\n",
      "\n",
      "## Options\n",
      "\n",
      "Use the weight aesthetic to count the number of surviving passengers in each class.\n",
      "\n",
      "```python\n",
      "ggplot(df, aes(x=\"Pclass\")) + geom_bar(aes(weight=\"Survived\"))\n",
      "```\n",
      "\n",
      "Use orientation param to flip the graph.\n",
      "\n",
      "```python\n",
      "ggplot(df, aes(y=\"Pclass\")) + geom_bar(orientation='y')\n",
      "```\n",
      "\n",
      "Bar charts are automatically stacked when multiple bars are placed at the same location.\n",
      "\n",
      "```python\n",
      "ggplot(df, aes(x=\"Pclass\")) + geom_bar(aes(fill=as_discrete(\"Survived\")))\n",
      "```\n",
      "\n",
      "Use position='dodge' to draw bars dodged side-to-side.\n",
      "\n",
      "```python\n",
      "ggplo\n",
      "\n",
      "geom_bar() can be used with continuous data. In this case it will show counts at unique locations on the x-axis.\n",
      "\n",
      "geom_bar() does not uny close values on the x-axis unlike geom_histogram().\n",
      "\n",
      "```python\n",
      "data = {\n",
      "    \"x\": [3.2] * 2 + [3.85] * 5 + [4.1] * 3\n",
      "}\n",
      "```\n",
      "\n",
      "```python\n",
      "width, height = 400, 300\n",
      "\n",
      "g = ggplot(data, aes(x=\"x\"))\n",
      "\n",
      "bunch = GGBunch()\n",
      "bunch.add_plot(g + geom_bar() + ggtitle(\"Bar\"), 0, 0, width, height)\n",
      "bunch.add_plot(g + geom_histogram(binwidth=.5) + ggtitle(\"Histogram\"), width, 0, width, height)\n",
      "bunch.show()\n",
      "```\n",
      "\n",
      "## Identity Stat\n",
      "\n",
      "Use stat='identity' to display the mean fare for each class as is.\n",
      "\n",
      "```python\n",
      "agg_df = df.groupby(\"Pclass\")[\"Fare\"].mean().to_frame(\"Mean_Fare\").reset_index()\n",
      "agg_df\n",
      "```\n",
      "\n",
      "```python\n",
      "ggplot(agg_df, aes(x=\"Pclass\", y=\"Mean_Fare\")) + geom_bar(stat='identity', tooltips='none')\n",
      "```\n",
      "\n",
      "## Demo\n",
      "\n",
      "```python\n",
      "ggplot(df, aes(x=\"Pclass\")) + \\\n",
      "    geom_bar(aes(fill=as_discrete(\"Survived\")), color='black') + \\\n",
      "    facet_grid(x=\"Sex\") + \\\n",
      "    scale_x_continuous(breaks=[1, 2, 3]) + \\\n",
      "    scale_fill_brewer(type='qual', palette='Pastel1') + \\\n",
      "    xlab(\"passenger class\") + ylab(\"passengers number\") + \\\n",
      "    ggtitle(\"Survivors by passenger class\") + \\\n",
      "    theme_classic() + flavor_solarized_light()\n",
      "```\n",
      "        \n",
      "\n"
     ]
    }
   ],
   "source": [
    "print(get_prompt(\"geom_smooth\"))"
   ]
  }
 ],
 "metadata": {
  "kernelspec": {
   "display_name": "Python 3 (ipykernel)",
   "language": "python",
   "name": "python3"
  },
  "language_info": {
   "codemirror_mode": {
    "name": "ipython",
    "version": 3
   },
   "file_extension": ".py",
   "mimetype": "text/x-python",
   "name": "python",
   "nbconvert_exporter": "python",
   "pygments_lexer": "ipython3",
   "version": "3.8.16"
  },
  "widgets": {
   "application/vnd.jupyter.widget-state+json": {
    "state": {
     "004c7d28a3eb4a518b9866d04b3c4ee4": {
      "model_module": "@jupyter-widgets/controls",
      "model_module_version": "2.0.0",
      "model_name": "TextareaModel",
      "state": {
       "description": "GPT Input",
       "disabled": true,
       "layout": "IPY_MODEL_229b52380d964a45b905d81b486e7f4c",
       "style": "IPY_MODEL_6a466a1aeee643b2b01dc0533edbbf53",
       "value": "(3, 7)"
      }
     },
     "008c6394ac6f417c9b90476c8ff4b3f9": {
      "model_module": "@jupyter-widgets/base",
      "model_module_version": "2.0.0",
      "model_name": "LayoutModel",
      "state": {}
     },
     "008ea4d50ffd4930a29abd1cfcd87311": {
      "model_module": "@jupyter-widgets/controls",
      "model_module_version": "2.0.0",
      "model_name": "TextStyleModel",
      "state": {
       "description_width": "",
       "font_size": null,
       "text_color": null
      }
     },
     "030486fd44db4afda13992fc68e41faf": {
      "model_module": "@jupyter-widgets/controls",
      "model_module_version": "2.0.0",
      "model_name": "IntRangeSliderModel",
      "state": {
       "_model_name": "IntRangeSliderModel",
       "_view_name": "IntRangeSliderView",
       "behavior": "drag-tap",
       "description": "Plots count",
       "layout": "IPY_MODEL_710fe47c99974f1388093de0dda7a2df",
       "max": 10,
       "min": 1,
       "style": "IPY_MODEL_935a788cd3414f39b70053b44dcd937c",
       "value": [
        3,
        7
       ]
      }
     },
     "031f32854f44429b9378415a9a65fdc9": {
      "model_module": "@jupyter-widgets/controls",
      "model_module_version": "2.0.0",
      "model_name": "TextModel",
      "state": {
       "description": "Source",
       "layout": "IPY_MODEL_b02c8f8972c14019834e23120666cbd8",
       "placeholder": "Dataset URL",
       "style": "IPY_MODEL_2ac623c532b64348aefad5b48d3df23d",
       "value": "https://raw.githubusercontent.com/JetBrains/lets-plot-docs/master/data/mpg.csv"
      }
     },
     "03b5ab6400344197b03e369abba2e212": {
      "model_module": "@jupyter-widgets/base",
      "model_module_version": "2.0.0",
      "model_name": "LayoutModel",
      "state": {}
     },
     "03b6da79ef4a46c1bc680f7441a97e72": {
      "model_module": "@jupyter-widgets/base",
      "model_module_version": "2.0.0",
      "model_name": "LayoutModel",
      "state": {}
     },
     "041e34b9e4bf49519d6005479b2bbc13": {
      "model_module": "@jupyter-widgets/controls",
      "model_module_version": "2.0.0",
      "model_name": "TextModel",
      "state": {
       "description": "Name",
       "layout": "IPY_MODEL_fcc7df86218241bb8bc75d87dca1ad73",
       "placeholder": "Dataset name",
       "style": "IPY_MODEL_26dbc8c8cd1c43b89fa50ed83eed2f84"
      }
     },
     "04201d5fb3594156ab857a4e5e526898": {
      "model_module": "@jupyter-widgets/controls",
      "model_module_version": "2.0.0",
      "model_name": "TextStyleModel",
      "state": {
       "description_width": "",
       "font_size": null,
       "text_color": null
      }
     },
     "044fbb5a6f134cae9e4f8ff2818dec1d": {
      "model_module": "@jupyter-widgets/base",
      "model_module_version": "2.0.0",
      "model_name": "LayoutModel",
      "state": {}
     },
     "0483bf83b5254535ae4c1d93af56ea5e": {
      "model_module": "@jupyter-widgets/controls",
      "model_module_version": "2.0.0",
      "model_name": "TextModel",
      "state": {
       "description": "Source",
       "layout": "IPY_MODEL_57b3463752f14472aa085f2b6a855c13",
       "placeholder": "Dataset URL",
       "style": "IPY_MODEL_d99cacbedeeb41319d4fc720bf3a2ff1",
       "value": "https://raw.githubusercontent.com/JetBrains/lets-plot-docs/master/data/mpg.csv"
      }
     },
     "04a2afaa11aa4207b75ea0c27750a7f6": {
      "model_module": "@jupyter-widgets/base",
      "model_module_version": "2.0.0",
      "model_name": "LayoutModel",
      "state": {}
     },
     "05b7b6b36fda449ab1e4cf5fa88e7b9d": {
      "model_module": "@jupyter-widgets/base",
      "model_module_version": "2.0.0",
      "model_name": "LayoutModel",
      "state": {}
     },
     "060d2e11554144469551cd675d1d26e5": {
      "model_module": "@jupyter-widgets/base",
      "model_module_version": "2.0.0",
      "model_name": "LayoutModel",
      "state": {}
     },
     "066f0df39c724ca0898c6b288bc9622f": {
      "model_module": "@jupyter-widgets/controls",
      "model_module_version": "2.0.0",
      "model_name": "TextModel",
      "state": {
       "description": "Name",
       "layout": "IPY_MODEL_fca6f3a9a4af4d19bb6dd078d1311b01",
       "placeholder": "Dataset name",
       "style": "IPY_MODEL_0d8d693268a84a85ae829cc8e9229cd4"
      }
     },
     "06e74aa8806b47a1bd3754d4703e00ca": {
      "model_module": "@jupyter-widgets/controls",
      "model_module_version": "2.0.0",
      "model_name": "TextModel",
      "state": {
       "description": "Source",
       "layout": "IPY_MODEL_36364fc078ad4fe98eec101e43c303bb",
       "placeholder": "Dataset URL",
       "style": "IPY_MODEL_1268921b59aa46c78b512bb4b861ea81",
       "value": "https://raw.githubusercontent.com/JetBrains/lets-plot-docs/master/data/mpg.csv"
      }
     },
     "06f0ca3001ad4d10966282f49ca38d3b": {
      "model_module": "@jupyter-widgets/base",
      "model_module_version": "2.0.0",
      "model_name": "LayoutModel",
      "state": {
       "width": "400px"
      }
     },
     "0714ec77dd6c40c4bced8403cb2aaca8": {
      "model_module": "@jupyter-widgets/controls",
      "model_module_version": "2.0.0",
      "model_name": "IntRangeSliderModel",
      "state": {
       "_model_name": "IntRangeSliderModel",
       "_view_name": "IntRangeSliderView",
       "behavior": "drag-tap",
       "description": "Plots count",
       "layout": "IPY_MODEL_92f6ecacb5e24b80ac01bb496767e048",
       "max": 10,
       "min": 1,
       "style": "IPY_MODEL_4943927a47904575943ded9d429e0780",
       "value": [
        5,
        5
       ]
      }
     },
     "075eddf22d964ccf986bdc0e2b218dcd": {
      "model_module": "@jupyter-widgets/controls",
      "model_module_version": "2.0.0",
      "model_name": "TextModel",
      "state": {
       "description": "Source",
       "layout": "IPY_MODEL_fca6f3a9a4af4d19bb6dd078d1311b01",
       "placeholder": "Dataset URL",
       "style": "IPY_MODEL_3598b0b8f2ef4d29bf8a2a1204b5eec1",
       "value": "https://raw.githubusercontent.com/JetBrains/lets-plot-docs/master/data/mpg.csv"
      }
     },
     "0760ad8c9660471786972d3cbc55b1e4": {
      "model_module": "@jupyter-widgets/controls",
      "model_module_version": "2.0.0",
      "model_name": "TextModel",
      "state": {
       "description": "Source",
       "layout": "IPY_MODEL_68e881d648d2453d83f6808e2b145734",
       "placeholder": "Dataset URL",
       "style": "IPY_MODEL_313923d5d9af4a299ec10b49d1b0604a"
      }
     },
     "08604e8f8a0e4b98a9cfebc9272a7a46": {
      "model_module": "@jupyter-widgets/controls",
      "model_module_version": "2.0.0",
      "model_name": "ButtonStyleModel",
      "state": {
       "font_family": null,
       "font_size": null,
       "font_style": null,
       "font_variant": null,
       "font_weight": null,
       "text_color": null,
       "text_decoration": null
      }
     },
     "089345df2ae5481f985ad53038709aff": {
      "model_module": "@jupyter-widgets/controls",
      "model_module_version": "2.0.0",
      "model_name": "TextareaModel",
      "state": {
       "description": "GPT Input",
       "disabled": true,
       "layout": "IPY_MODEL_1ff24020513640c491d8cd77a6ce6005",
       "style": "IPY_MODEL_a33fcfb1c85549b2ab10a5d495a07f97",
       "value": "(5, 5)"
      }
     },
     "09ef2f180f7f416f99b9813f4d52dd4c": {
      "model_module": "@jupyter-widgets/base",
      "model_module_version": "2.0.0",
      "model_name": "LayoutModel",
      "state": {}
     },
     "0a39591e8e944238b90a28859a147d96": {
      "model_module": "@jupyter-widgets/base",
      "model_module_version": "2.0.0",
      "model_name": "LayoutModel",
      "state": {}
     },
     "0a5aef1756b9402394b0b99d76881b9b": {
      "model_module": "@jupyter-widgets/controls",
      "model_module_version": "2.0.0",
      "model_name": "TextModel",
      "state": {
       "description": "Source",
       "layout": "IPY_MODEL_981f8c63f8b84df6b04d0b748ff1066a",
       "placeholder": "Dataset URL",
       "style": "IPY_MODEL_c593b05c36ed4a018231d0b7cbce787f",
       "value": "https://raw.githubusercontent.com/JetBrains/lets-plot-docs/master/data/mpg.csv"
      }
     },
     "0aad5f2f43b746aa97efa33d282d7dea": {
      "model_module": "@jupyter-widgets/base",
      "model_module_version": "2.0.0",
      "model_name": "LayoutModel",
      "state": {
       "align_items": "center",
       "display": "flex",
       "flex_flow": "column",
       "width": "75%"
      }
     },
     "0ba61226db444a8c95d8b18e8745967b": {
      "model_module": "@jupyter-widgets/controls",
      "model_module_version": "2.0.0",
      "model_name": "TextareaModel",
      "state": {
       "description": "GPT Input",
       "disabled": true,
       "layout": "IPY_MODEL_7274f7d7783a4562bf83bcbb6a5aaffa",
       "style": "IPY_MODEL_279231a45cc948d389e5dd9be71442e6",
       "value": "\nI want you to act as a data scientist.\n\nI have a dataset with the following columns:\n\"Unnamed: 0\" (int64)\n\"manufacturer\" (object)\n\"model\" (object)\n\"displ\" (float64)\n\"year\" (int64)\n\"cyl\" (int64)\n\"trans\" (object)\n\"drv\" (object)\n\"cty\" (int64)\n\"hwy\" (int64)\n\"fl\" (object)\n\"class\" (object)\n\nWrite code for data visualization and exploration. Build 3 to 5 plots on the dataset. Organize the code so that it is suitable for Jupiter notebook. Pay special attention to the columns that seem most interesting to you.\n\nFor visualization use the Lets-Plot library. Use `LetsPlot.setup_html()` before first occurrence of plot. Try not to use parameters that depends on data (such as 'binwidth'). Use a consistent style when choosing colors, sizes and so on.\n    "
      }
     },
     "0bbfc0c432db42e784a3be6f92fcadb4": {
      "model_module": "@jupyter-widgets/controls",
      "model_module_version": "2.0.0",
      "model_name": "IntSliderModel",
      "state": {
       "behavior": "drag-tap",
       "layout": "IPY_MODEL_20f3e1f436b24a1b834ade022a835751",
       "max": 10,
       "min": 1,
       "style": "IPY_MODEL_e21ab0104e9d496f8d14c7ef415cd48c",
       "value": 1
      }
     },
     "0c60a5752be2467ba0b123c18b9ad403": {
      "model_module": "@jupyter-widgets/controls",
      "model_module_version": "2.0.0",
      "model_name": "TextModel",
      "state": {
       "description": "Name",
       "layout": "IPY_MODEL_b20e1083ecdc47548d1aab1eaf6ea426",
       "placeholder": "Dataset name",
       "style": "IPY_MODEL_04201d5fb3594156ab857a4e5e526898",
       "value": "Ook"
      }
     },
     "0c650b5d63dc4fb49dd77dffe3302ae6": {
      "model_module": "@jupyter-widgets/controls",
      "model_module_version": "2.0.0",
      "model_name": "TextStyleModel",
      "state": {
       "description_width": "",
       "font_size": null,
       "text_color": null
      }
     },
     "0cc890189d3241b8be0aa6a6e3f603bd": {
      "model_module": "@jupyter-widgets/controls",
      "model_module_version": "2.0.0",
      "model_name": "ButtonModel",
      "state": {
       "description": "Get prompt",
       "layout": "IPY_MODEL_5a71c51c5eb548a3918eaff54c1bd59b",
       "style": "IPY_MODEL_3ed17f4bc296484ba6768e752b5afd46",
       "tooltip": null
      }
     },
     "0d8d693268a84a85ae829cc8e9229cd4": {
      "model_module": "@jupyter-widgets/controls",
      "model_module_version": "2.0.0",
      "model_name": "TextStyleModel",
      "state": {
       "description_width": "",
       "font_size": null,
       "text_color": null
      }
     },
     "0e3090e78a12404ca3e6551b534dfe44": {
      "model_module": "@jupyter-widgets/controls",
      "model_module_version": "2.0.0",
      "model_name": "ButtonModel",
      "state": {
       "description": "Get prompt",
       "layout": "IPY_MODEL_2df60158e0ca4935b01a3ceb1e72c472",
       "style": "IPY_MODEL_b9c46a3f21174ca0a6ee25dcd751f76a",
       "tooltip": null
      }
     },
     "0e96c0b056534dcdb7e98e231d40d5a4": {
      "model_module": "@jupyter-widgets/controls",
      "model_module_version": "2.0.0",
      "model_name": "TextStyleModel",
      "state": {
       "description_width": "",
       "font_size": null,
       "text_color": null
      }
     },
     "0f220ede589f449ea786530f0b2f3b1b": {
      "model_module": "@jupyter-widgets/controls",
      "model_module_version": "2.0.0",
      "model_name": "TextModel",
      "state": {
       "description": "Name",
       "layout": "IPY_MODEL_6aefc8d7fd97499992a9ec5e7af4e5a8",
       "placeholder": "Dataset name",
       "style": "IPY_MODEL_6b4ebb570fc542338ccde40978300204"
      }
     },
     "0fcd87450a484163b6986f10759dbf4b": {
      "model_module": "@jupyter-widgets/base",
      "model_module_version": "2.0.0",
      "model_name": "LayoutModel",
      "state": {}
     },
     "105cf8818c244f39be915bd3e805066e": {
      "model_module": "@jupyter-widgets/controls",
      "model_module_version": "2.0.0",
      "model_name": "TextStyleModel",
      "state": {
       "description_width": "",
       "font_size": null,
       "text_color": null
      }
     },
     "108158e450be437290583fa3c6b304ee": {
      "model_module": "@jupyter-widgets/controls",
      "model_module_version": "2.0.0",
      "model_name": "TextStyleModel",
      "state": {
       "description_width": "",
       "font_size": null,
       "text_color": null
      }
     },
     "10999669f30141c9870a79f6259ae153": {
      "model_module": "@jupyter-widgets/controls",
      "model_module_version": "2.0.0",
      "model_name": "IntRangeSliderModel",
      "state": {
       "_model_name": "IntRangeSliderModel",
       "_view_name": "IntRangeSliderView",
       "behavior": "drag-tap",
       "description": "Plots count",
       "layout": "IPY_MODEL_bb9d0b13541545c3a377c6874deadb34",
       "max": 10,
       "min": 1,
       "style": "IPY_MODEL_a6eb86729ad3414aa092c13d2f1ceaf4",
       "value": [
        3,
        5
       ]
      }
     },
     "109bca50b6c64ecbb569dbf4b0992d44": {
      "model_module": "@jupyter-widgets/controls",
      "model_module_version": "2.0.0",
      "model_name": "ButtonStyleModel",
      "state": {
       "font_family": null,
       "font_size": null,
       "font_style": null,
       "font_variant": null,
       "font_weight": null,
       "text_color": null,
       "text_decoration": null
      }
     },
     "1110858083de4e43aaa6a227299969fd": {
      "model_module": "@jupyter-widgets/controls",
      "model_module_version": "2.0.0",
      "model_name": "TextStyleModel",
      "state": {
       "description_width": "",
       "font_size": null,
       "text_color": null
      }
     },
     "114ca15320a040e297c1c500b42eb4d7": {
      "model_module": "@jupyter-widgets/base",
      "model_module_version": "2.0.0",
      "model_name": "LayoutModel",
      "state": {}
     },
     "121a1f38077f421caa881a218f0b96e5": {
      "model_module": "@jupyter-widgets/controls",
      "model_module_version": "2.0.0",
      "model_name": "SliderStyleModel",
      "state": {
       "description_width": ""
      }
     },
     "1268921b59aa46c78b512bb4b861ea81": {
      "model_module": "@jupyter-widgets/controls",
      "model_module_version": "2.0.0",
      "model_name": "TextStyleModel",
      "state": {
       "description_width": "",
       "font_size": null,
       "text_color": null
      }
     },
     "130f4b43940e450aa23e35302446f38d": {
      "model_module": "@jupyter-widgets/controls",
      "model_module_version": "2.0.0",
      "model_name": "SliderStyleModel",
      "state": {
       "description_width": ""
      }
     },
     "1317dbfb82d441f79095d1d0eae7166b": {
      "model_module": "@jupyter-widgets/controls",
      "model_module_version": "2.0.0",
      "model_name": "TextStyleModel",
      "state": {
       "description_width": "",
       "font_size": null,
       "text_color": null
      }
     },
     "1394ee6512ff48bdb52456adfe5298cb": {
      "model_module": "@jupyter-widgets/controls",
      "model_module_version": "2.0.0",
      "model_name": "ButtonStyleModel",
      "state": {
       "font_family": null,
       "font_size": null,
       "font_style": null,
       "font_variant": null,
       "font_weight": null,
       "text_color": null,
       "text_decoration": null
      }
     },
     "13ea6f181325403d9a5dada6729a9aaa": {
      "model_module": "@jupyter-widgets/base",
      "model_module_version": "2.0.0",
      "model_name": "LayoutModel",
      "state": {}
     },
     "141d883cf2874ab9b907a1776221a428": {
      "model_module": "@jupyter-widgets/base",
      "model_module_version": "2.0.0",
      "model_name": "LayoutModel",
      "state": {}
     },
     "14b2cac9f38049fc885c948965e94dc6": {
      "model_module": "@jupyter-widgets/controls",
      "model_module_version": "2.0.0",
      "model_name": "TextStyleModel",
      "state": {
       "description_width": "",
       "font_size": null,
       "text_color": null
      }
     },
     "15af44aaa3b14cbd90bc2e21f5609268": {
      "model_module": "@jupyter-widgets/controls",
      "model_module_version": "2.0.0",
      "model_name": "ButtonModel",
      "state": {
       "description": "Get prompt",
       "layout": "IPY_MODEL_24a8e9a555534a64a881f232f3a8a051",
       "style": "IPY_MODEL_8d7037eac0bb4390aed12714ab2e042c",
       "tooltip": null
      }
     },
     "16e879b7d4064430a735249b8a552d6e": {
      "model_module": "@jupyter-widgets/base",
      "model_module_version": "2.0.0",
      "model_name": "LayoutModel",
      "state": {
       "align_items": "center",
       "display": "flex",
       "flex_flow": "column",
       "width": "75%"
      }
     },
     "187f413a3b504a4d87bf06e25448347b": {
      "model_module": "@jupyter-widgets/base",
      "model_module_version": "2.0.0",
      "model_name": "LayoutModel",
      "state": {
       "height": "400px",
       "width": "75%"
      }
     },
     "18813cdbb2a34ccea0c01ceec5d5605b": {
      "model_module": "@jupyter-widgets/base",
      "model_module_version": "2.0.0",
      "model_name": "LayoutModel",
      "state": {}
     },
     "1908076bbff741c8a3a16c0e80edae87": {
      "model_module": "@jupyter-widgets/controls",
      "model_module_version": "2.0.0",
      "model_name": "ButtonModel",
      "state": {
       "description": "Get prompt",
       "layout": "IPY_MODEL_62ab3bdedb0f4196b8adf6f5ded26d35",
       "style": "IPY_MODEL_c5554770644d40bf986eae7a74d72e72",
       "tooltip": null
      }
     },
     "19777a8c2f264c5eb53d1f9a3654794d": {
      "model_module": "@jupyter-widgets/controls",
      "model_module_version": "2.0.0",
      "model_name": "TextStyleModel",
      "state": {
       "description_width": "",
       "font_size": null,
       "text_color": null
      }
     },
     "19fcfd3b8ee94fcb93194a216691e203": {
      "model_module": "@jupyter-widgets/controls",
      "model_module_version": "2.0.0",
      "model_name": "TextStyleModel",
      "state": {
       "description_width": "",
       "font_size": null,
       "text_color": null
      }
     },
     "1ac3711499d447448bd05c0a682d47b4": {
      "model_module": "@jupyter-widgets/base",
      "model_module_version": "2.0.0",
      "model_name": "LayoutModel",
      "state": {}
     },
     "1c6df3939eb24216bddf9af3e4085b59": {
      "model_module": "@jupyter-widgets/controls",
      "model_module_version": "2.0.0",
      "model_name": "TextModel",
      "state": {
       "description": "Source",
       "layout": "IPY_MODEL_d4ad0733789c427384bbc7aa3e70d403",
       "placeholder": "Dataset URL",
       "style": "IPY_MODEL_67e4c2ac63fd4ad4b2ba3754c8f9eb1c"
      }
     },
     "1ca999af1b8b49b780f5b277d42afd42": {
      "model_module": "@jupyter-widgets/base",
      "model_module_version": "2.0.0",
      "model_name": "LayoutModel",
      "state": {
       "align_items": "center",
       "display": "flex",
       "flex_flow": "column",
       "width": "50%"
      }
     },
     "1cb855a1ed5b4947933036c351a1f6c2": {
      "model_module": "@jupyter-widgets/controls",
      "model_module_version": "2.0.0",
      "model_name": "ButtonStyleModel",
      "state": {
       "font_family": null,
       "font_size": null,
       "font_style": null,
       "font_variant": null,
       "font_weight": null,
       "text_color": null,
       "text_decoration": null
      }
     },
     "1cf20f161c7743a2929f73a768e6f123": {
      "model_module": "@jupyter-widgets/base",
      "model_module_version": "2.0.0",
      "model_name": "LayoutModel",
      "state": {
       "width": "100%"
      }
     },
     "1cfdf19784304bfeb391780fdd5ae8eb": {
      "model_module": "@jupyter-widgets/controls",
      "model_module_version": "2.0.0",
      "model_name": "TextStyleModel",
      "state": {
       "description_width": "",
       "font_size": null,
       "text_color": null
      }
     },
     "1d10aac473a24b78b3e2d62770c7f523": {
      "model_module": "@jupyter-widgets/controls",
      "model_module_version": "2.0.0",
      "model_name": "ButtonModel",
      "state": {
       "description": "Get prompt",
       "layout": "IPY_MODEL_db6265e6ba4c48508d46379f407c6352",
       "style": "IPY_MODEL_ee4f005d310a48ea91548aa7532e9a91",
       "tooltip": null
      }
     },
     "1d8ae57c48c64b1cbf35b4bdaaf2d61f": {
      "model_module": "@jupyter-widgets/controls",
      "model_module_version": "2.0.0",
      "model_name": "TextModel",
      "state": {
       "description": "Name",
       "layout": "IPY_MODEL_9e336f7b88774c318306e161255377ba",
       "placeholder": "Dataset name",
       "style": "IPY_MODEL_2152c41b650e4a17a72da41df4bcc242"
      }
     },
     "1d9567b4b40644bab8e02edb467a8213": {
      "model_module": "@jupyter-widgets/base",
      "model_module_version": "2.0.0",
      "model_name": "LayoutModel",
      "state": {}
     },
     "1dbb1624c5ef4416a079b2f0549e7129": {
      "model_module": "@jupyter-widgets/controls",
      "model_module_version": "2.0.0",
      "model_name": "TextStyleModel",
      "state": {
       "description_width": "",
       "font_size": null,
       "text_color": null
      }
     },
     "1e54a45c2ffd48ba8d5cedbd7ff41d50": {
      "model_module": "@jupyter-widgets/controls",
      "model_module_version": "2.0.0",
      "model_name": "SliderStyleModel",
      "state": {
       "description_width": ""
      }
     },
     "1e88094c259a4548a0f303793fce1b7d": {
      "model_module": "@jupyter-widgets/controls",
      "model_module_version": "2.0.0",
      "model_name": "SliderStyleModel",
      "state": {
       "description_width": ""
      }
     },
     "1f5c74a935c54f5dbfb8a6336c4a1bb0": {
      "model_module": "@jupyter-widgets/controls",
      "model_module_version": "2.0.0",
      "model_name": "TextModel",
      "state": {
       "description": "Name",
       "layout": "IPY_MODEL_618ae9a781ae41e980214b882029ce64",
       "placeholder": "Dataset name",
       "style": "IPY_MODEL_c7a93d180bf04ed4b8c29f6310d4aaa0"
      }
     },
     "1f8b198f7baa47fc9c6b768536bfccff": {
      "model_module": "@jupyter-widgets/controls",
      "model_module_version": "2.0.0",
      "model_name": "TextStyleModel",
      "state": {
       "description_width": "",
       "font_size": null,
       "text_color": null
      }
     },
     "1ff24020513640c491d8cd77a6ce6005": {
      "model_module": "@jupyter-widgets/base",
      "model_module_version": "2.0.0",
      "model_name": "LayoutModel",
      "state": {}
     },
     "2059b2c308544b09a048db5beeb866b2": {
      "model_module": "@jupyter-widgets/base",
      "model_module_version": "2.0.0",
      "model_name": "LayoutModel",
      "state": {}
     },
     "20f3e1f436b24a1b834ade022a835751": {
      "model_module": "@jupyter-widgets/base",
      "model_module_version": "2.0.0",
      "model_name": "LayoutModel",
      "state": {}
     },
     "2152c41b650e4a17a72da41df4bcc242": {
      "model_module": "@jupyter-widgets/controls",
      "model_module_version": "2.0.0",
      "model_name": "TextStyleModel",
      "state": {
       "description_width": "",
       "font_size": null,
       "text_color": null
      }
     },
     "229b52380d964a45b905d81b486e7f4c": {
      "model_module": "@jupyter-widgets/base",
      "model_module_version": "2.0.0",
      "model_name": "LayoutModel",
      "state": {}
     },
     "22d30130f57049189998de6546c237dc": {
      "model_module": "@jupyter-widgets/base",
      "model_module_version": "2.0.0",
      "model_name": "LayoutModel",
      "state": {}
     },
     "236056c07ca6465cb45146f5f8e8a8e0": {
      "model_module": "@jupyter-widgets/controls",
      "model_module_version": "2.0.0",
      "model_name": "TextStyleModel",
      "state": {
       "description_width": "",
       "font_size": null,
       "text_color": null
      }
     },
     "2366762393ef4d7781c3b62ca0075436": {
      "model_module": "@jupyter-widgets/base",
      "model_module_version": "2.0.0",
      "model_name": "LayoutModel",
      "state": {
       "width": "75%"
      }
     },
     "23a8364857a14021afb6ce1fd56f2431": {
      "model_module": "@jupyter-widgets/controls",
      "model_module_version": "2.0.0",
      "model_name": "SliderStyleModel",
      "state": {
       "description_width": ""
      }
     },
     "240048ef78f3479980639bea16e94a31": {
      "model_module": "@jupyter-widgets/base",
      "model_module_version": "2.0.0",
      "model_name": "LayoutModel",
      "state": {
       "width": "75%"
      }
     },
     "241e1e80284e4607a59e33a4b84f389b": {
      "model_module": "@jupyter-widgets/controls",
      "model_module_version": "2.0.0",
      "model_name": "TextareaModel",
      "state": {
       "description": "GPT Input",
       "disabled": true,
       "layout": "IPY_MODEL_5500a58acbf347a5b12240dcc7fdb38d",
       "style": "IPY_MODEL_7f396afe3bb549c69f834236e57817d2",
       "value": "(3, 5)"
      }
     },
     "24a8e9a555534a64a881f232f3a8a051": {
      "model_module": "@jupyter-widgets/base",
      "model_module_version": "2.0.0",
      "model_name": "LayoutModel",
      "state": {}
     },
     "24da196f872d484c98db966bee4b691e": {
      "model_module": "@jupyter-widgets/controls",
      "model_module_version": "2.0.0",
      "model_name": "TextModel",
      "state": {
       "description": "Source",
       "layout": "IPY_MODEL_f1c80bc15f034e6c8feff0ec0c550615",
       "placeholder": "Dataset URL",
       "style": "IPY_MODEL_ba7bb9f7ed624713aaa99ba585f64eba",
       "value": "https://raw.githubusercontent.com/JetBrains/lets-plot-docs/master/data/mpg.csv"
      }
     },
     "256a5e9d81b5450c85fa9b765f2ac851": {
      "model_module": "@jupyter-widgets/controls",
      "model_module_version": "2.0.0",
      "model_name": "ButtonModel",
      "state": {
       "description": "Get prompt",
       "layout": "IPY_MODEL_3fe51af2769e4364827a675f249a8929",
       "style": "IPY_MODEL_1cb855a1ed5b4947933036c351a1f6c2",
       "tooltip": null
      }
     },
     "258ae8acccbe43f6b2c7808e6cba1781": {
      "model_module": "@jupyter-widgets/controls",
      "model_module_version": "2.0.0",
      "model_name": "TextModel",
      "state": {
       "description": "Name",
       "layout": "IPY_MODEL_be19b4490c574a16bb79af8bc8b1fdb0",
       "placeholder": "Dataset name",
       "style": "IPY_MODEL_914b6fd10350497f91715772994e6ef4"
      }
     },
     "268cd2954fe44967ab15dfa641e02bed": {
      "model_module": "@jupyter-widgets/controls",
      "model_module_version": "2.0.0",
      "model_name": "TextareaModel",
      "state": {
       "description": "GPT Input",
       "disabled": true,
       "layout": "IPY_MODEL_75949d1988824b70bfdf671a9692edb6",
       "style": "IPY_MODEL_6dbc16efdeaf4d978b0a6cb4f51bfebe",
       "value": "\nI want you to act as a data scientist.\n\nI have a dataset with the following columns:\n\"Unnamed: 0\" (int64)\n\"manufacturer\" (object)\n\"model\" (object)\n\"displ\" (float64)\n\"year\" (int64)\n\"cyl\" (int64)\n\"trans\" (object)\n\"drv\" (object)\n\"cty\" (int64)\n\"hwy\" (int64)\n\"fl\" (object)\n\"class\" (object)\n\nWrite code for data visualization and exploration. Build 3 to 5 plots on the dataset. Organize the code so that it is suitable for Jupiter notebook. Pay special attention to the columns that seem most interesting to you.\n\nFor visualization use the Lets-Plot library. Use `LetsPlot.setup_html()` before first occurrence of plot. Try not to use parameters that depends on data (such as 'binwidth'). Use a consistent style when choosing colors, sizes and so on.\n    "
      }
     },
     "26dbc8c8cd1c43b89fa50ed83eed2f84": {
      "model_module": "@jupyter-widgets/controls",
      "model_module_version": "2.0.0",
      "model_name": "TextStyleModel",
      "state": {
       "description_width": "",
       "font_size": null,
       "text_color": null
      }
     },
     "279231a45cc948d389e5dd9be71442e6": {
      "model_module": "@jupyter-widgets/controls",
      "model_module_version": "2.0.0",
      "model_name": "TextStyleModel",
      "state": {
       "description_width": "",
       "font_size": null,
       "text_color": null
      }
     },
     "281a7e4fea27438eac7c741eab6adc86": {
      "model_module": "@jupyter-widgets/controls",
      "model_module_version": "2.0.0",
      "model_name": "TextModel",
      "state": {
       "description": "Name",
       "layout": "IPY_MODEL_bb9d0b13541545c3a377c6874deadb34",
       "placeholder": "Dataset name",
       "style": "IPY_MODEL_f71e914f332048768b96f92aec1ad503"
      }
     },
     "282821e2594c47839a585294f6d194f1": {
      "model_module": "@jupyter-widgets/base",
      "model_module_version": "2.0.0",
      "model_name": "LayoutModel",
      "state": {
       "height": "400px",
       "width": "75%"
      }
     },
     "28d8d332d5c54dc89ecd6b75f7b8e406": {
      "model_module": "@jupyter-widgets/controls",
      "model_module_version": "2.0.0",
      "model_name": "TextStyleModel",
      "state": {
       "description_width": "",
       "font_size": null,
       "text_color": null
      }
     },
     "29dde1a7e5674b62afed66fad6457dfc": {
      "model_module": "@jupyter-widgets/controls",
      "model_module_version": "2.0.0",
      "model_name": "TextareaModel",
      "state": {
       "description": "GPT Input",
       "disabled": true,
       "layout": "IPY_MODEL_187f413a3b504a4d87bf06e25448347b",
       "style": "IPY_MODEL_737b1942e11f4f329f690173fe3a7459",
       "value": "I want you to act as a data scientist.\n\nI have a dataset \"mpg\" with the following columns:\n\"Unnamed: 0\" (int64)\n\"manufacturer\" (object)\n\"model\" (object)\n\"displ\" (float64)\n\"year\" (int64)\n\"cyl\" (int64)\n\"trans\" (object)\n\"drv\" (object)\n\"cty\" (int64)\n\"hwy\" (int64)\n\"fl\" (object)\n\"class\" (object)\n\nWrite code for data visualization and exploration. Build 3 to 5 plots on the dataset. Organize the code so that it is suitable for Jupiter notebook. Pay special attention to the columns that seem most interesting to you.\n\nFor visualization use the Lets-Plot library. Use `LetsPlot.setup_html()` before first occurrence of plot. Try not to use parameters that depends on data (such as 'binwidth'). Use a consistent style when choosing colors, sizes and so on."
      }
     },
     "29f26af7128c46a69c4ec22c8187a54d": {
      "model_module": "@jupyter-widgets/controls",
      "model_module_version": "2.0.0",
      "model_name": "TextModel",
      "state": {
       "description": "Source",
       "layout": "IPY_MODEL_dd04cb9f7c7d4e76be8c1cba383112c7",
       "placeholder": "Dataset URL",
       "style": "IPY_MODEL_e5224d1856dc4ded8c18d82c871d3d49",
       "value": "https://raw.githubusercontent.com/JetBrains/lets-plot-docs/master/data/mpg.csv"
      }
     },
     "2a51115c2b9b47b2b9abc5a178b2015e": {
      "model_module": "@jupyter-widgets/base",
      "model_module_version": "2.0.0",
      "model_name": "LayoutModel",
      "state": {}
     },
     "2ac623c532b64348aefad5b48d3df23d": {
      "model_module": "@jupyter-widgets/controls",
      "model_module_version": "2.0.0",
      "model_name": "TextStyleModel",
      "state": {
       "description_width": "",
       "font_size": null,
       "text_color": null
      }
     },
     "2b80fdaff3e54e939bfe529f2ef76092": {
      "model_module": "@jupyter-widgets/controls",
      "model_module_version": "2.0.0",
      "model_name": "TextModel",
      "state": {
       "description": "Source",
       "layout": "IPY_MODEL_a7c1bf343d474960b5ba0051e60cfe09",
       "placeholder": "Dataset URL",
       "style": "IPY_MODEL_d3fe9c7489fa44d3899410b800ad9ceb"
      }
     },
     "2be2f5d330524ff9a868c2b9832c69b9": {
      "model_module": "@jupyter-widgets/controls",
      "model_module_version": "2.0.0",
      "model_name": "TextStyleModel",
      "state": {
       "description_width": "",
       "font_size": null,
       "text_color": null
      }
     },
     "2bec8a7e82314a8b8d13b6af38d2fd8e": {
      "model_module": "@jupyter-widgets/controls",
      "model_module_version": "2.0.0",
      "model_name": "ButtonStyleModel",
      "state": {
       "font_family": null,
       "font_size": null,
       "font_style": null,
       "font_variant": null,
       "font_weight": null,
       "text_color": null,
       "text_decoration": null
      }
     },
     "2cc5475de7f74d9e8d1524fb4e9b1b70": {
      "model_module": "@jupyter-widgets/controls",
      "model_module_version": "2.0.0",
      "model_name": "TextModel",
      "state": {
       "description": "Name",
       "layout": "IPY_MODEL_13ea6f181325403d9a5dada6729a9aaa",
       "placeholder": "Dataset name",
       "style": "IPY_MODEL_108158e450be437290583fa3c6b304ee"
      }
     },
     "2ce0b27974e243018c915b8f9e2bbc5d": {
      "model_module": "@jupyter-widgets/controls",
      "model_module_version": "2.0.0",
      "model_name": "ButtonStyleModel",
      "state": {
       "font_family": null,
       "font_size": null,
       "font_style": null,
       "font_variant": null,
       "font_weight": null,
       "text_color": null,
       "text_decoration": null
      }
     },
     "2cec929ad4d34472aaa8309ff4f403f3": {
      "model_module": "@jupyter-widgets/controls",
      "model_module_version": "2.0.0",
      "model_name": "TextareaModel",
      "state": {
       "description": "GPT Input",
       "disabled": true,
       "layout": "IPY_MODEL_68857bd1db364c13b3c8ee49f5027a6a",
       "style": "IPY_MODEL_a98e02b9da23477a846cd2c46ec676eb",
       "value": "\nI want you to act as a data scientist.\n\nI have a dataset with the following columns:\n\"Unnamed: 0\" (int64)\n\"manufacturer\" (object)\n\"model\" (object)\n\"displ\" (float64)\n\"year\" (int64)\n\"cyl\" (int64)\n\"trans\" (object)\n\"drv\" (object)\n\"cty\" (int64)\n\"hwy\" (int64)\n\"fl\" (object)\n\"class\" (object)\n\nWrite code for data visualization and exploration. Build 3 to 5 plots on the dataset. Organize the code so that it is suitable for Jupiter notebook. Pay special attention to the columns that seem most interesting to you.\n\nFor visualization use the Lets-Plot library. Use `LetsPlot.setup_html()` before first occurrence of plot. Try not to use parameters that depends on data (such as 'binwidth'). Use a consistent style when choosing colors, sizes and so on.\n    "
      }
     },
     "2daa1a7a99e24e998d2b3489cc8cf002": {
      "model_module": "@jupyter-widgets/controls",
      "model_module_version": "2.0.0",
      "model_name": "IntRangeSliderModel",
      "state": {
       "_model_name": "IntRangeSliderModel",
       "_view_name": "IntRangeSliderView",
       "behavior": "drag-tap",
       "description": "Plots count",
       "layout": "IPY_MODEL_972386492f96443aa6858dc74394ea01",
       "max": 10,
       "min": 1,
       "style": "IPY_MODEL_d3139a9305a64d90bc818e7b472f7bed",
       "value": [
        3,
        3
       ]
      }
     },
     "2df60158e0ca4935b01a3ceb1e72c472": {
      "model_module": "@jupyter-widgets/base",
      "model_module_version": "2.0.0",
      "model_name": "LayoutModel",
      "state": {}
     },
     "2e3eb0811221414ca237540727a53e29": {
      "model_module": "@jupyter-widgets/controls",
      "model_module_version": "2.0.0",
      "model_name": "SliderStyleModel",
      "state": {
       "description_width": ""
      }
     },
     "2e85a15f466c4390b5d90fc47aef9242": {
      "model_module": "@jupyter-widgets/controls",
      "model_module_version": "2.0.0",
      "model_name": "TextModel",
      "state": {
       "description": "Source",
       "layout": "IPY_MODEL_51db77f6a7624048b646d873223a6482",
       "placeholder": "Dataset URL",
       "style": "IPY_MODEL_942ed414c8f84a65b4253a8a9786ef6e",
       "value": "https://raw.githubusercontent.com/JetBrains/lets-plot-docs/master/data/mpg.csv"
      }
     },
     "2ea008d149424758931c3ea5caf422f4": {
      "model_module": "@jupyter-widgets/controls",
      "model_module_version": "2.0.0",
      "model_name": "IntRangeSliderModel",
      "state": {
       "_model_name": "IntRangeSliderModel",
       "_view_name": "IntRangeSliderView",
       "behavior": "drag-tap",
       "description": "Plots count",
       "layout": "IPY_MODEL_f1a2d890945948608c7e8e2778b4b40a",
       "max": 10,
       "min": 1,
       "style": "IPY_MODEL_be612e2c0cd3437eb2f9be35cccc809a",
       "value": [
        4,
        4
       ]
      }
     },
     "2ed8292e57c848789b8f4bb4d7b0e245": {
      "model_module": "@jupyter-widgets/controls",
      "model_module_version": "2.0.0",
      "model_name": "TextStyleModel",
      "state": {
       "description_width": "",
       "font_size": null,
       "text_color": null
      }
     },
     "2f0cb2dd2ced4ecc8afb37a11fb737cc": {
      "model_module": "@jupyter-widgets/controls",
      "model_module_version": "2.0.0",
      "model_name": "SliderStyleModel",
      "state": {
       "description_width": ""
      }
     },
     "2f5879032d0947bb923d10c02e2fedcc": {
      "model_module": "@jupyter-widgets/base",
      "model_module_version": "2.0.0",
      "model_name": "LayoutModel",
      "state": {}
     },
     "2f7250faa86d465ab2dae9fb016ea379": {
      "model_module": "@jupyter-widgets/controls",
      "model_module_version": "2.0.0",
      "model_name": "TextareaModel",
      "state": {
       "description": "GPT Input",
       "disabled": true,
       "layout": "IPY_MODEL_a00c631c064a4118b4550a229e5a7854",
       "style": "IPY_MODEL_14b2cac9f38049fc885c948965e94dc6"
      }
     },
     "2fc04e9ffec044169e64a9fe37105e74": {
      "model_module": "@jupyter-widgets/base",
      "model_module_version": "2.0.0",
      "model_name": "LayoutModel",
      "state": {}
     },
     "30319184487042c5b89e7a712c794e01": {
      "model_module": "@jupyter-widgets/controls",
      "model_module_version": "2.0.0",
      "model_name": "TextModel",
      "state": {
       "description": "Source",
       "layout": "IPY_MODEL_518e008a5385414b8f3170abc6b595b6",
       "placeholder": "Dataset URL",
       "style": "IPY_MODEL_eb8eb34856a5461e8e71fe24c185c153"
      }
     },
     "3079886a8ddb45be962d69d496d3055c": {
      "model_module": "@jupyter-widgets/base",
      "model_module_version": "2.0.0",
      "model_name": "LayoutModel",
      "state": {}
     },
     "30da25beff9a42c69cef9278dd39b3e8": {
      "model_module": "@jupyter-widgets/base",
      "model_module_version": "2.0.0",
      "model_name": "LayoutModel",
      "state": {}
     },
     "313923d5d9af4a299ec10b49d1b0604a": {
      "model_module": "@jupyter-widgets/controls",
      "model_module_version": "2.0.0",
      "model_name": "TextStyleModel",
      "state": {
       "description_width": "",
       "font_size": null,
       "text_color": null
      }
     },
     "31850ee2be344c08afecbfe08240c5e5": {
      "model_module": "@jupyter-widgets/controls",
      "model_module_version": "2.0.0",
      "model_name": "IntRangeSliderModel",
      "state": {
       "_model_name": "IntRangeSliderModel",
       "_view_name": "IntRangeSliderView",
       "behavior": "drag-tap",
       "description": "Plots count",
       "layout": "IPY_MODEL_3738f244e6984666bca49f668775c847",
       "max": 20,
       "min": 1,
       "style": "IPY_MODEL_b9f9e2f186ab400e8598964836166569",
       "value": [
        3,
        5
       ]
      }
     },
     "335468d2d9434a4cb96258622c3143da": {
      "model_module": "@jupyter-widgets/base",
      "model_module_version": "2.0.0",
      "model_name": "LayoutModel",
      "state": {}
     },
     "34d0f7765cf74d2fb8290ff5d159fe7e": {
      "model_module": "@jupyter-widgets/base",
      "model_module_version": "2.0.0",
      "model_name": "LayoutModel",
      "state": {}
     },
     "356a8d3e11ff492bba416de3784f839f": {
      "model_module": "@jupyter-widgets/controls",
      "model_module_version": "2.0.0",
      "model_name": "TextModel",
      "state": {
       "description": "String:",
       "layout": "IPY_MODEL_09ef2f180f7f416f99b9813f4d52dd4c",
       "placeholder": "Type something",
       "style": "IPY_MODEL_55b867cd0f774cbf856ec2bbd8a277f3"
      }
     },
     "3598b0b8f2ef4d29bf8a2a1204b5eec1": {
      "model_module": "@jupyter-widgets/controls",
      "model_module_version": "2.0.0",
      "model_name": "TextStyleModel",
      "state": {
       "description_width": "",
       "font_size": null,
       "text_color": null
      }
     },
     "35e34975d7814e50977db6d9fe54e0f5": {
      "model_module": "@jupyter-widgets/controls",
      "model_module_version": "2.0.0",
      "model_name": "TextStyleModel",
      "state": {
       "description_width": "",
       "font_size": null,
       "text_color": null
      }
     },
     "36174307eb7f421e8ad2b30f7b49e0f7": {
      "model_module": "@jupyter-widgets/base",
      "model_module_version": "2.0.0",
      "model_name": "LayoutModel",
      "state": {
       "height": "400px",
       "width": "75%"
      }
     },
     "36295ff9d6064995be0592907aa7ef89": {
      "model_module": "@jupyter-widgets/controls",
      "model_module_version": "2.0.0",
      "model_name": "TextModel",
      "state": {
       "description": "Source",
       "layout": "IPY_MODEL_f3a198c215fa4f14adcd5c8ff52e09ba",
       "placeholder": "Dataset URL",
       "style": "IPY_MODEL_7a1140e340de40a7bb27a295386421a4",
       "value": "https://raw.githubusercontent.com/JetBrains/lets-plot-docs/master/data/mpg.csv"
      }
     },
     "36364fc078ad4fe98eec101e43c303bb": {
      "model_module": "@jupyter-widgets/base",
      "model_module_version": "2.0.0",
      "model_name": "LayoutModel",
      "state": {}
     },
     "371278792d3849f3957e5c2229d1cefb": {
      "model_module": "@jupyter-widgets/controls",
      "model_module_version": "2.0.0",
      "model_name": "IntRangeSliderModel",
      "state": {
       "_model_name": "IntRangeSliderModel",
       "_view_name": "IntRangeSliderView",
       "behavior": "drag-tap",
       "description": "Plots count",
       "layout": "IPY_MODEL_82e5e2504ed3470ca74e7141e7deda2c",
       "max": 10,
       "min": 1,
       "style": "IPY_MODEL_a2455d2aae06455ab99222ecdc3d2863",
       "value": [
        3,
        5
       ]
      }
     },
     "3738f244e6984666bca49f668775c847": {
      "model_module": "@jupyter-widgets/base",
      "model_module_version": "2.0.0",
      "model_name": "LayoutModel",
      "state": {
       "width": "75%"
      }
     },
     "37d5657a1e884ea98a29251666a3e574": {
      "model_module": "@jupyter-widgets/base",
      "model_module_version": "2.0.0",
      "model_name": "LayoutModel",
      "state": {
       "width": "75%"
      }
     },
     "37db823439244d608b11dc21639e0d33": {
      "model_module": "@jupyter-widgets/controls",
      "model_module_version": "2.0.0",
      "model_name": "IntSliderModel",
      "state": {
       "behavior": "drag-tap",
       "layout": "IPY_MODEL_114ca15320a040e297c1c500b42eb4d7",
       "max": 10,
       "min": 1,
       "style": "IPY_MODEL_9a09c50361e941949b9c2955707b144b",
       "value": 1
      }
     },
     "385b36e5804d47848048e6b17b86a34e": {
      "model_module": "@jupyter-widgets/controls",
      "model_module_version": "2.0.0",
      "model_name": "TextModel",
      "state": {
       "description": "Name",
       "layout": "IPY_MODEL_4bc47b38b5fb4ab29962176a893ed3a6",
       "placeholder": "Dataset name",
       "style": "IPY_MODEL_db22a14add034f0e98cbb5f532173404"
      }
     },
     "388082b362c1432a94532ad755b5067b": {
      "model_module": "@jupyter-widgets/controls",
      "model_module_version": "2.0.0",
      "model_name": "IntRangeSliderModel",
      "state": {
       "_model_name": "IntRangeSliderModel",
       "_view_name": "IntRangeSliderView",
       "behavior": "drag-tap",
       "description": "Plots count",
       "layout": "IPY_MODEL_fde04d581dc2403b92fed357bff1883c",
       "max": 10,
       "min": 1,
       "style": "IPY_MODEL_c2514f734f054998aa81e563f699dc7d",
       "value": [
        3,
        5
       ]
      }
     },
     "39659730b2514076b33fc087eab1307a": {
      "model_module": "@jupyter-widgets/controls",
      "model_module_version": "2.0.0",
      "model_name": "TextStyleModel",
      "state": {
       "description_width": "",
       "font_size": null,
       "text_color": null
      }
     },
     "3977571267314f6c9d6630eb1a33ec12": {
      "model_module": "@jupyter-widgets/controls",
      "model_module_version": "2.0.0",
      "model_name": "SliderStyleModel",
      "state": {
       "description_width": ""
      }
     },
     "39ee7e75ec074f7194a7df5b6181c261": {
      "model_module": "@jupyter-widgets/base",
      "model_module_version": "2.0.0",
      "model_name": "LayoutModel",
      "state": {}
     },
     "3b2b2a8106084a4a9b890648dd64b46a": {
      "model_module": "@jupyter-widgets/controls",
      "model_module_version": "2.0.0",
      "model_name": "IntRangeSliderModel",
      "state": {
       "_model_name": "IntRangeSliderModel",
       "_view_name": "IntRangeSliderView",
       "behavior": "drag-tap",
       "description": "Plots count",
       "layout": "IPY_MODEL_335468d2d9434a4cb96258622c3143da",
       "max": 10,
       "min": 1,
       "style": "IPY_MODEL_900fbd70e0b44dc4b33de21e7d493e1c",
       "value": [
        3,
        7
       ]
      }
     },
     "3b3ff3b3d4f0463b96949667f1629d80": {
      "model_module": "@jupyter-widgets/controls",
      "model_module_version": "2.0.0",
      "model_name": "TextModel",
      "state": {
       "description": "Name",
       "layout": "IPY_MODEL_752fe6acaea142af90144bdd774805a0",
       "placeholder": "Dataset name",
       "style": "IPY_MODEL_664f2ef8337746d48bf49b39056496fb"
      }
     },
     "3b4c60f5dc0949d483a6fc34924f27fc": {
      "model_module": "@jupyter-widgets/controls",
      "model_module_version": "2.0.0",
      "model_name": "TextareaModel",
      "state": {
       "description": "GPT Input",
       "disabled": true,
       "layout": "IPY_MODEL_d4ac8c66b5fb4285b221bb671fe8f176",
       "style": "IPY_MODEL_6e2d39bcb23245ed9348d53ef03e15a5",
       "value": "3"
      }
     },
     "3c13babeac044012b913455da57bedd1": {
      "model_module": "@jupyter-widgets/controls",
      "model_module_version": "2.0.0",
      "model_name": "TextModel",
      "state": {
       "description": "Source",
       "layout": "IPY_MODEL_d889f131562d4515b4dd0b9a51dc6ad8",
       "placeholder": "Dataset URL",
       "style": "IPY_MODEL_19777a8c2f264c5eb53d1f9a3654794d",
       "value": "https://raw.githubusercontent.com/JetBrains/lets-plot-docs/master/data/mpg.csv"
      }
     },
     "3ca89bc4b2ea4a2b92a57855e601846c": {
      "model_module": "@jupyter-widgets/controls",
      "model_module_version": "2.0.0",
      "model_name": "ButtonModel",
      "state": {
       "description": "Get prompt",
       "layout": "IPY_MODEL_542abc1b6d0641e0a201bfb0eaf7985c",
       "style": "IPY_MODEL_99295933a5dd4e218c06d598fce1219e",
       "tooltip": null
      }
     },
     "3d2c518b53154f0abd275b3a7541e09a": {
      "model_module": "@jupyter-widgets/controls",
      "model_module_version": "2.0.0",
      "model_name": "SliderStyleModel",
      "state": {
       "description_width": ""
      }
     },
     "3d63b30c3f674716bec7566a293b2741": {
      "model_module": "@jupyter-widgets/base",
      "model_module_version": "2.0.0",
      "model_name": "LayoutModel",
      "state": {}
     },
     "3d6ee9bb74504083add5ee9460994c22": {
      "model_module": "@jupyter-widgets/controls",
      "model_module_version": "2.0.0",
      "model_name": "TextModel",
      "state": {
       "description": "Name",
       "layout": "IPY_MODEL_5a09966f9143423c81041472650bef05",
       "placeholder": "Dataset name",
       "style": "IPY_MODEL_ce9ff7dac0dc4817920ca4918ba12d89"
      }
     },
     "3d87d2227fd54d0daff1ecea036c6fe2": {
      "model_module": "@jupyter-widgets/controls",
      "model_module_version": "2.0.0",
      "model_name": "ButtonModel",
      "state": {
       "description": "Get prompt",
       "layout": "IPY_MODEL_a57ca0635ef54318ae9977f4a1e616a7",
       "style": "IPY_MODEL_2ce0b27974e243018c915b8f9e2bbc5d",
       "tooltip": null
      }
     },
     "3e677ac6e7124838b94d793abf6945d2": {
      "model_module": "@jupyter-widgets/controls",
      "model_module_version": "2.0.0",
      "model_name": "SliderStyleModel",
      "state": {
       "description_width": ""
      }
     },
     "3ec0ec143be543959df75b3cdd042ff7": {
      "model_module": "@jupyter-widgets/base",
      "model_module_version": "2.0.0",
      "model_name": "LayoutModel",
      "state": {}
     },
     "3ec1bb189e0c4b109b0b8b30e1901bdc": {
      "model_module": "@jupyter-widgets/controls",
      "model_module_version": "2.0.0",
      "model_name": "IntRangeSliderModel",
      "state": {
       "_model_name": "IntRangeSliderModel",
       "_view_name": "IntRangeSliderView",
       "behavior": "drag-tap",
       "description": "Plots count",
       "layout": "IPY_MODEL_3738f244e6984666bca49f668775c847",
       "max": 20,
       "min": 1,
       "style": "IPY_MODEL_9f18ee1513c34d199f0d33cc4f6b812e",
       "value": [
        3,
        5
       ]
      }
     },
     "3ed17f4bc296484ba6768e752b5afd46": {
      "model_module": "@jupyter-widgets/controls",
      "model_module_version": "2.0.0",
      "model_name": "ButtonStyleModel",
      "state": {
       "font_family": null,
       "font_size": null,
       "font_style": null,
       "font_variant": null,
       "font_weight": null,
       "text_color": null,
       "text_decoration": null
      }
     },
     "3f1af427c30b4c8890917b261cd23c01": {
      "model_module": "@jupyter-widgets/controls",
      "model_module_version": "2.0.0",
      "model_name": "SliderStyleModel",
      "state": {
       "description_width": ""
      }
     },
     "3f7ba0a7a76e432cb1c862f3bb6205b5": {
      "model_module": "@jupyter-widgets/base",
      "model_module_version": "2.0.0",
      "model_name": "LayoutModel",
      "state": {}
     },
     "3fd6372ba7a747ada126fe9485a5eb94": {
      "model_module": "@jupyter-widgets/controls",
      "model_module_version": "2.0.0",
      "model_name": "SliderStyleModel",
      "state": {
       "description_width": ""
      }
     },
     "3fe51af2769e4364827a675f249a8929": {
      "model_module": "@jupyter-widgets/base",
      "model_module_version": "2.0.0",
      "model_name": "LayoutModel",
      "state": {}
     },
     "4047f03999c64793bc80d80a7e095408": {
      "model_module": "@jupyter-widgets/controls",
      "model_module_version": "2.0.0",
      "model_name": "IntRangeSliderModel",
      "state": {
       "_model_name": "IntRangeSliderModel",
       "_view_name": "IntRangeSliderView",
       "behavior": "drag-tap",
       "description": "Plots count",
       "layout": "IPY_MODEL_560cbfea4c494e39aa0ee73075839899",
       "max": 10,
       "min": 1,
       "style": "IPY_MODEL_3d2c518b53154f0abd275b3a7541e09a",
       "value": [
        5,
        7
       ]
      }
     },
     "405a4f1d39b1454d8b8443cfbabab3a4": {
      "model_module": "@jupyter-widgets/controls",
      "model_module_version": "2.0.0",
      "model_name": "IntSliderModel",
      "state": {
       "behavior": "drag-tap",
       "layout": "IPY_MODEL_d4d2b278ba0442eab56e8eb7383e7b7a",
       "max": 10,
       "min": 1,
       "style": "IPY_MODEL_fe392c22fccf4061ab859ff5aeeee21d",
       "value": 3
      }
     },
     "4075d5e1afa74436b3815e75a6495b3a": {
      "model_module": "@jupyter-widgets/base",
      "model_module_version": "2.0.0",
      "model_name": "LayoutModel",
      "state": {
       "height": "400px",
       "width": "75%"
      }
     },
     "40820855ac1f4951a9667172594fccb9": {
      "model_module": "@jupyter-widgets/base",
      "model_module_version": "2.0.0",
      "model_name": "LayoutModel",
      "state": {}
     },
     "4118c10c655e46dfa94b34d4299145f1": {
      "model_module": "@jupyter-widgets/controls",
      "model_module_version": "2.0.0",
      "model_name": "TextareaModel",
      "state": {
       "description": "GPT Input",
       "disabled": true,
       "layout": "IPY_MODEL_c8373d9c109e408384a90d2dcb2e2ff6",
       "style": "IPY_MODEL_35e34975d7814e50977db6d9fe54e0f5",
       "value": "(3, 5)"
      }
     },
     "42f0ef8dbeb7448e9c3a66e7c9080627": {
      "model_module": "@jupyter-widgets/controls",
      "model_module_version": "2.0.0",
      "model_name": "SliderStyleModel",
      "state": {
       "description_width": ""
      }
     },
     "432064e683c947929feee5c0c00ef719": {
      "model_module": "@jupyter-widgets/controls",
      "model_module_version": "2.0.0",
      "model_name": "SliderStyleModel",
      "state": {
       "description_width": ""
      }
     },
     "4349158d4514458ebee9763ae6fa9f91": {
      "model_module": "@jupyter-widgets/base",
      "model_module_version": "2.0.0",
      "model_name": "LayoutModel",
      "state": {
       "width": "75%"
      }
     },
     "43c59985bac94b38998b6395d60aacf1": {
      "model_module": "@jupyter-widgets/controls",
      "model_module_version": "2.0.0",
      "model_name": "ButtonModel",
      "state": {
       "description": "Get prompt",
       "layout": "IPY_MODEL_40820855ac1f4951a9667172594fccb9",
       "style": "IPY_MODEL_ccc31ee6cbff4afabc3f94d7b6e98dea",
       "tooltip": null
      }
     },
     "442884cbf607449d9221ee33f6b36764": {
      "model_module": "@jupyter-widgets/controls",
      "model_module_version": "2.0.0",
      "model_name": "ButtonStyleModel",
      "state": {
       "font_family": null,
       "font_size": null,
       "font_style": null,
       "font_variant": null,
       "font_weight": null,
       "text_color": null,
       "text_decoration": null
      }
     },
     "449094b82e65421c93dae17e7dc53ac1": {
      "model_module": "@jupyter-widgets/controls",
      "model_module_version": "2.0.0",
      "model_name": "IntRangeSliderModel",
      "state": {
       "_model_name": "IntRangeSliderModel",
       "_view_name": "IntRangeSliderView",
       "behavior": "drag-tap",
       "description": "Plots count",
       "layout": "IPY_MODEL_b34113e3b2574f84847cff4ebdf77072",
       "max": 20,
       "min": 1,
       "style": "IPY_MODEL_e09ff6c002fe43c2bd9781f653996a64",
       "value": [
        3,
        5
       ]
      }
     },
     "44e4cbba5f4a45d6951803dcc436fd00": {
      "model_module": "@jupyter-widgets/controls",
      "model_module_version": "2.0.0",
      "model_name": "TextModel",
      "state": {
       "description": "Source",
       "layout": "IPY_MODEL_06f0ca3001ad4d10966282f49ca38d3b",
       "placeholder": "Dataset URL",
       "style": "IPY_MODEL_471ae932bdca415e8d72ec9f371e691d",
       "value": "https://raw.githubusercontent.com/JetBrains/lets-plot-docs/master/data/mpg.csv"
      }
     },
     "450984320db648c59cd60f9a0ec00974": {
      "model_module": "@jupyter-widgets/controls",
      "model_module_version": "2.0.0",
      "model_name": "TextModel",
      "state": {
       "description": "Name",
       "layout": "IPY_MODEL_f08930c63d2545fc9627de7c548ec45e",
       "placeholder": "Dataset name",
       "style": "IPY_MODEL_008ea4d50ffd4930a29abd1cfcd87311",
       "value": "mpg"
      }
     },
     "453057be116a4af8aca0ec6413f194dc": {
      "model_module": "@jupyter-widgets/controls",
      "model_module_version": "2.0.0",
      "model_name": "IntSliderModel",
      "state": {
       "behavior": "drag-tap",
       "layout": "IPY_MODEL_be16f36d555c4598ae85bfec44af483c",
       "max": 10,
       "min": 1,
       "style": "IPY_MODEL_42f0ef8dbeb7448e9c3a66e7c9080627",
       "value": 3
      }
     },
     "45d32e0ea339419e981564ce171884af": {
      "model_module": "@jupyter-widgets/controls",
      "model_module_version": "2.0.0",
      "model_name": "TextModel",
      "state": {
       "description": "Source",
       "layout": "IPY_MODEL_1cf20f161c7743a2929f73a768e6f123",
       "placeholder": "Dataset URL",
       "style": "IPY_MODEL_d69c3b13872644df80524ec7e6c1dd1f",
       "value": "https://raw.githubusercontent.com/JetBrains/lets-plot-docs/master/data/mpg.csv"
      }
     },
     "45f8f930f6c4444790a357880d7fc8ed": {
      "model_module": "@jupyter-widgets/controls",
      "model_module_version": "2.0.0",
      "model_name": "TextareaModel",
      "state": {
       "description": "GPT Input",
       "disabled": true,
       "layout": "IPY_MODEL_3079886a8ddb45be962d69d496d3055c",
       "style": "IPY_MODEL_9af5b9cb891d4172b71d59f189a14acf",
       "value": "\nI want you to act as a data scientist.\n\nI have a dataset with the following columns:\n\"Unnamed: 0\" (int64)\n\"manufacturer\" (object)\n\"model\" (object)\n\"displ\" (float64)\n\"year\" (int64)\n\"cyl\" (int64)\n\"trans\" (object)\n\"drv\" (object)\n\"cty\" (int64)\n\"hwy\" (int64)\n\"fl\" (object)\n\"class\" (object)\n\nWrite code for data visualization and exploration. Build 3 to 5 plots on the dataset. Organize the code so that it is suitable for Jupiter notebook. Pay special attention to the columns that seem most interesting to you.\n\nFor visualization use the Lets-Plot library. Use `LetsPlot.setup_html()` before first occurrence of plot. Try not to use parameters that depends on data (such as 'binwidth'). Use a consistent style when choosing colors, sizes and so on.\n    "
      }
     },
     "46140b622a274b6abc7a72b8e8649f37": {
      "model_module": "@jupyter-widgets/controls",
      "model_module_version": "2.0.0",
      "model_name": "TextareaModel",
      "state": {
       "description": "GPT Input",
       "disabled": true,
       "layout": "IPY_MODEL_36174307eb7f421e8ad2b30f7b49e0f7",
       "style": "IPY_MODEL_2ed8292e57c848789b8f4bb4d7b0e245",
       "value": "I want you to act as a data scientist.\n\nI have a dataset \"mpg\" with the following columns:\n\"Unnamed: 0\" (int64)\n\"manufacturer\" (object)\n\"model\" (object)\n\"displ\" (float64)\n\"year\" (int64)\n\"cyl\" (int64)\n\"trans\" (object)\n\"drv\" (object)\n\"cty\" (int64)\n\"hwy\" (int64)\n\"fl\" (object)\n\"class\" (object)\n\nWrite code for data visualization and exploration. Build 3 to 5 plots on the dataset. Organize the code so that it is suitable for Jupiter notebook. Pay special attention to the columns that seem most interesting to you.\n\nFor visualization use the Lets-Plot library. Use `LetsPlot.setup_html()` before first occurrence of plot. Try not to use parameters that depends on data (such as 'binwidth'). Use a consistent style when choosing colors, sizes and so on. If you are trying to plot some geospatial data, don't forget to use the coord_map() function."
      }
     },
     "4636935874d242c58debd6f477fc7bb3": {
      "model_module": "@jupyter-widgets/controls",
      "model_module_version": "2.0.0",
      "model_name": "ButtonModel",
      "state": {
       "description": "Get prompt",
       "layout": "IPY_MODEL_5544c197a18b4139893e2ab8b2856450",
       "style": "IPY_MODEL_e1f2d85a0de54799aef27ccb84343640",
       "tooltip": null
      }
     },
     "46796770007f4cea94016049f17e6b74": {
      "model_module": "@jupyter-widgets/base",
      "model_module_version": "2.0.0",
      "model_name": "LayoutModel",
      "state": {}
     },
     "471ae932bdca415e8d72ec9f371e691d": {
      "model_module": "@jupyter-widgets/controls",
      "model_module_version": "2.0.0",
      "model_name": "TextStyleModel",
      "state": {
       "description_width": "",
       "font_size": null,
       "text_color": null
      }
     },
     "47384940095346cca802a4eaee2df6f3": {
      "model_module": "@jupyter-widgets/controls",
      "model_module_version": "2.0.0",
      "model_name": "SliderStyleModel",
      "state": {
       "description_width": ""
      }
     },
     "4791f13348124cac867b4054b8c94470": {
      "model_module": "@jupyter-widgets/controls",
      "model_module_version": "2.0.0",
      "model_name": "TextStyleModel",
      "state": {
       "description_width": "",
       "font_size": null,
       "text_color": null
      }
     },
     "47ef8f5fd9954a1fb875e04eb80b20da": {
      "model_module": "@jupyter-widgets/base",
      "model_module_version": "2.0.0",
      "model_name": "LayoutModel",
      "state": {
       "align_items": "center",
       "display": "flex",
       "flex_flow": "column",
       "width": "75%"
      }
     },
     "484cc6eaa58741df9e0dd91b0364f85f": {
      "model_module": "@jupyter-widgets/base",
      "model_module_version": "2.0.0",
      "model_name": "LayoutModel",
      "state": {}
     },
     "4943927a47904575943ded9d429e0780": {
      "model_module": "@jupyter-widgets/controls",
      "model_module_version": "2.0.0",
      "model_name": "SliderStyleModel",
      "state": {
       "description_width": ""
      }
     },
     "4a4719643bba41239b3b4a4735eb75ca": {
      "model_module": "@jupyter-widgets/controls",
      "model_module_version": "2.0.0",
      "model_name": "TextModel",
      "state": {
       "description": "Source",
       "layout": "IPY_MODEL_a4f709ae224944a28edce469b37d316b",
       "placeholder": "Dataset URL",
       "style": "IPY_MODEL_5630799b7c924823a8365aaaacf24e2c",
       "value": "https://raw.githubusercontent.com/JetBrains/lets-plot-docs/master/data/mpg.csv"
      }
     },
     "4a680827b76f4786b8c50faa7c4d978d": {
      "model_module": "@jupyter-widgets/controls",
      "model_module_version": "2.0.0",
      "model_name": "ButtonStyleModel",
      "state": {
       "font_family": null,
       "font_size": null,
       "font_style": null,
       "font_variant": null,
       "font_weight": null,
       "text_color": null,
       "text_decoration": null
      }
     },
     "4bc47b38b5fb4ab29962176a893ed3a6": {
      "model_module": "@jupyter-widgets/base",
      "model_module_version": "2.0.0",
      "model_name": "LayoutModel",
      "state": {}
     },
     "4c8177c2af6d4ce1b96e9dd2d0a93e2b": {
      "model_module": "@jupyter-widgets/controls",
      "model_module_version": "2.0.0",
      "model_name": "TextareaModel",
      "state": {
       "description": "String:",
       "disabled": true,
       "layout": "IPY_MODEL_66aa9258a37c46c2902abd618fafa061",
       "placeholder": "Type something",
       "style": "IPY_MODEL_c0f8c4e3de3341c299c3d9a621864b01",
       "value": "Hello World"
      }
     },
     "4e3d5dc90e7b4f4cb6f5601d822b7032": {
      "model_module": "@jupyter-widgets/controls",
      "model_module_version": "2.0.0",
      "model_name": "SliderStyleModel",
      "state": {
       "description_width": ""
      }
     },
     "4eaae046343c46698f16afe85b6689f8": {
      "model_module": "@jupyter-widgets/controls",
      "model_module_version": "2.0.0",
      "model_name": "ButtonModel",
      "state": {
       "description": "Get prompt",
       "layout": "IPY_MODEL_e43fb2327c1a45bfb6b014b32dedfd0c",
       "style": "IPY_MODEL_109bca50b6c64ecbb569dbf4b0992d44",
       "tooltip": null
      }
     },
     "4ebef2682b8c4f31ae40e43f08210c97": {
      "model_module": "@jupyter-widgets/controls",
      "model_module_version": "2.0.0",
      "model_name": "ButtonStyleModel",
      "state": {
       "font_family": null,
       "font_size": null,
       "font_style": null,
       "font_variant": null,
       "font_weight": null,
       "text_color": null,
       "text_decoration": null
      }
     },
     "4f065a3c401348b08263930639fa2245": {
      "model_module": "@jupyter-widgets/controls",
      "model_module_version": "2.0.0",
      "model_name": "TextareaModel",
      "state": {
       "description": "GPT Input",
       "disabled": true,
       "layout": "IPY_MODEL_03b5ab6400344197b03e369abba2e212",
       "style": "IPY_MODEL_d24857b7cb564ba099c828809ee2ffce",
       "value": "(3, 5)"
      }
     },
     "4fbb5a63ab3c46c4a751c5fe7b98c4ac": {
      "model_module": "@jupyter-widgets/base",
      "model_module_version": "2.0.0",
      "model_name": "LayoutModel",
      "state": {}
     },
     "4fbdc3ef23774ccba6972d1ad6a2eb8b": {
      "model_module": "@jupyter-widgets/controls",
      "model_module_version": "2.0.0",
      "model_name": "TextModel",
      "state": {
       "description": "Name",
       "layout": "IPY_MODEL_3d63b30c3f674716bec7566a293b2741",
       "placeholder": "Dataset name",
       "style": "IPY_MODEL_6b0d34a0ec524eb1a01bd4e693851d38"
      }
     },
     "4fc291d60b63403c9f2000b4df5c1833": {
      "model_module": "@jupyter-widgets/controls",
      "model_module_version": "2.0.0",
      "model_name": "SliderStyleModel",
      "state": {
       "description_width": ""
      }
     },
     "50848b80a81a4cf3a7b11749e05e2e6e": {
      "model_module": "@jupyter-widgets/base",
      "model_module_version": "2.0.0",
      "model_name": "LayoutModel",
      "state": {
       "width": "75%"
      }
     },
     "515fe4eb800c406f852aca5f16ab8b74": {
      "model_module": "@jupyter-widgets/base",
      "model_module_version": "2.0.0",
      "model_name": "LayoutModel",
      "state": {}
     },
     "516a7ec97bf440b190f8678abe133e02": {
      "model_module": "@jupyter-widgets/controls",
      "model_module_version": "2.0.0",
      "model_name": "DescriptionStyleModel",
      "state": {
       "description_width": ""
      }
     },
     "518e008a5385414b8f3170abc6b595b6": {
      "model_module": "@jupyter-widgets/base",
      "model_module_version": "2.0.0",
      "model_name": "LayoutModel",
      "state": {}
     },
     "51db77f6a7624048b646d873223a6482": {
      "model_module": "@jupyter-widgets/base",
      "model_module_version": "2.0.0",
      "model_name": "LayoutModel",
      "state": {}
     },
     "520e72fd56cf48889e7a8c76e19dfedc": {
      "model_module": "@jupyter-widgets/controls",
      "model_module_version": "2.0.0",
      "model_name": "TextModel",
      "state": {
       "description": "Name",
       "layout": "IPY_MODEL_d2720106de504bd3956af4279ca6e463",
       "placeholder": "Dataset name",
       "style": "IPY_MODEL_f161ad57e6904df6be767f370777f2f3"
      }
     },
     "524e40abc41147f088ec4a0e7b61e1ae": {
      "model_module": "@jupyter-widgets/base",
      "model_module_version": "2.0.0",
      "model_name": "LayoutModel",
      "state": {}
     },
     "52c822d22c50465e962c18095a55ff1e": {
      "model_module": "@jupyter-widgets/controls",
      "model_module_version": "2.0.0",
      "model_name": "ButtonModel",
      "state": {
       "description": "Get prompt",
       "layout": "IPY_MODEL_16e879b7d4064430a735249b8a552d6e",
       "style": "IPY_MODEL_6e34bf893cc544bfb8085d0e53560930",
       "tooltip": null
      }
     },
     "52d53bc8aa554e70aa66c5f4806d2da3": {
      "model_module": "@jupyter-widgets/controls",
      "model_module_version": "2.0.0",
      "model_name": "TextStyleModel",
      "state": {
       "description_width": "",
       "font_size": null,
       "text_color": null
      }
     },
     "534af299d620493e935f34e46f06ddd0": {
      "model_module": "@jupyter-widgets/controls",
      "model_module_version": "2.0.0",
      "model_name": "TextStyleModel",
      "state": {
       "description_width": "",
       "font_size": null,
       "text_color": null
      }
     },
     "539cfe1d50944d1e99e395985c5b6ea0": {
      "model_module": "@jupyter-widgets/controls",
      "model_module_version": "2.0.0",
      "model_name": "IntRangeSliderModel",
      "state": {
       "_model_name": "IntRangeSliderModel",
       "_view_name": "IntRangeSliderView",
       "behavior": "drag-tap",
       "description": "Plots count",
       "layout": "IPY_MODEL_1d9567b4b40644bab8e02edb467a8213",
       "max": 10,
       "min": 1,
       "style": "IPY_MODEL_1e54a45c2ffd48ba8d5cedbd7ff41d50",
       "value": [
        3,
        5
       ]
      }
     },
     "53af3cc0134149aca1acb41e42363949": {
      "model_module": "@jupyter-widgets/controls",
      "model_module_version": "2.0.0",
      "model_name": "IntRangeSliderModel",
      "state": {
       "_model_name": "IntRangeSliderModel",
       "_view_name": "IntRangeSliderView",
       "behavior": "drag-tap",
       "description": "Plots count",
       "layout": "IPY_MODEL_c8d1c49c8c7d4ff5be47c351a974c37b",
       "max": 10,
       "min": 1,
       "style": "IPY_MODEL_3fd6372ba7a747ada126fe9485a5eb94",
       "value": [
        3,
        5
       ]
      }
     },
     "542abc1b6d0641e0a201bfb0eaf7985c": {
      "model_module": "@jupyter-widgets/base",
      "model_module_version": "2.0.0",
      "model_name": "LayoutModel",
      "state": {
       "align_items": "center",
       "display": "flex",
       "flex_flow": "column",
       "width": "75%"
      }
     },
     "54526bc50fe94f89873767bbebce6d85": {
      "model_module": "@jupyter-widgets/controls",
      "model_module_version": "2.0.0",
      "model_name": "TextStyleModel",
      "state": {
       "description_width": "",
       "font_size": null,
       "text_color": null
      }
     },
     "5454ca81bc57499db73f2a5a5f6943bd": {
      "model_module": "@jupyter-widgets/controls",
      "model_module_version": "2.0.0",
      "model_name": "TextModel",
      "state": {
       "description": "Name",
       "layout": "IPY_MODEL_240048ef78f3479980639bea16e94a31",
       "placeholder": "Dataset name",
       "style": "IPY_MODEL_c5e8b425d57b47ffbd87f82443cc0c31"
      }
     },
     "54695ee3a72f42fab148b0e062743ae8": {
      "model_module": "@jupyter-widgets/controls",
      "model_module_version": "2.0.0",
      "model_name": "SliderStyleModel",
      "state": {
       "description_width": ""
      }
     },
     "5500a58acbf347a5b12240dcc7fdb38d": {
      "model_module": "@jupyter-widgets/base",
      "model_module_version": "2.0.0",
      "model_name": "LayoutModel",
      "state": {}
     },
     "5517921963b9464e82877c635caf7a3e": {
      "model_module": "@jupyter-widgets/controls",
      "model_module_version": "2.0.0",
      "model_name": "TextStyleModel",
      "state": {
       "description_width": "",
       "font_size": null,
       "text_color": null
      }
     },
     "5544c197a18b4139893e2ab8b2856450": {
      "model_module": "@jupyter-widgets/base",
      "model_module_version": "2.0.0",
      "model_name": "LayoutModel",
      "state": {}
     },
     "555ce58cbdd44d4aa8c019862a2bb812": {
      "model_module": "@jupyter-widgets/controls",
      "model_module_version": "2.0.0",
      "model_name": "IntRangeSliderModel",
      "state": {
       "_model_name": "IntRangeSliderModel",
       "_view_name": "IntRangeSliderView",
       "behavior": "drag-tap",
       "description": "Plots count",
       "layout": "IPY_MODEL_dc5637aaae3941c8ad15ea6570b9f2cd",
       "max": 10,
       "min": 1,
       "style": "IPY_MODEL_2e3eb0811221414ca237540727a53e29",
       "value": [
        3,
        5
       ]
      }
     },
     "556d337fad9f4e4cb082f572b1de76f6": {
      "model_module": "@jupyter-widgets/base",
      "model_module_version": "2.0.0",
      "model_name": "LayoutModel",
      "state": {}
     },
     "55b867cd0f774cbf856ec2bbd8a277f3": {
      "model_module": "@jupyter-widgets/controls",
      "model_module_version": "2.0.0",
      "model_name": "TextStyleModel",
      "state": {
       "description_width": "",
       "font_size": null,
       "text_color": null
      }
     },
     "560cbfea4c494e39aa0ee73075839899": {
      "model_module": "@jupyter-widgets/base",
      "model_module_version": "2.0.0",
      "model_name": "LayoutModel",
      "state": {}
     },
     "5630799b7c924823a8365aaaacf24e2c": {
      "model_module": "@jupyter-widgets/controls",
      "model_module_version": "2.0.0",
      "model_name": "TextStyleModel",
      "state": {
       "description_width": "",
       "font_size": null,
       "text_color": null
      }
     },
     "57063c4f9e2c4c03b97b5b4bd6b6aa24": {
      "model_module": "@jupyter-widgets/controls",
      "model_module_version": "2.0.0",
      "model_name": "TextModel",
      "state": {
       "description": "Source",
       "layout": "IPY_MODEL_78ae08ecccbc489190bd6b0d62c0024b",
       "placeholder": "Dataset URL",
       "style": "IPY_MODEL_b32210b5c9f645519ecaab11323f527d"
      }
     },
     "57b3463752f14472aa085f2b6a855c13": {
      "model_module": "@jupyter-widgets/base",
      "model_module_version": "2.0.0",
      "model_name": "LayoutModel",
      "state": {}
     },
     "584e0d49e34446cabe583a50b339f539": {
      "model_module": "@jupyter-widgets/base",
      "model_module_version": "2.0.0",
      "model_name": "LayoutModel",
      "state": {}
     },
     "5905f6e7177b4f4f8b170b439e9ab44a": {
      "model_module": "@jupyter-widgets/controls",
      "model_module_version": "2.0.0",
      "model_name": "TextareaModel",
      "state": {
       "description": "GPT Input",
       "disabled": true,
       "layout": "IPY_MODEL_141d883cf2874ab9b907a1776221a428",
       "style": "IPY_MODEL_eed9236977ca47e4af8add2582221df1",
       "value": "(3, 4)"
      }
     },
     "5a09966f9143423c81041472650bef05": {
      "model_module": "@jupyter-widgets/base",
      "model_module_version": "2.0.0",
      "model_name": "LayoutModel",
      "state": {}
     },
     "5a63213a4b764e3598f5fa14ab2facbf": {
      "model_module": "@jupyter-widgets/controls",
      "model_module_version": "2.0.0",
      "model_name": "IntSliderModel",
      "state": {
       "behavior": "drag-tap",
       "description": "Ook",
       "layout": "IPY_MODEL_83f2d48cec2040d9b656d205356d5797",
       "max": 10,
       "min": 1,
       "style": "IPY_MODEL_71e35942abcd4c5785c386dc6a87ee00",
       "value": 3
      }
     },
     "5a71c51c5eb548a3918eaff54c1bd59b": {
      "model_module": "@jupyter-widgets/base",
      "model_module_version": "2.0.0",
      "model_name": "LayoutModel",
      "state": {}
     },
     "5ab49584795442fa991acb7ea1f313fc": {
      "model_module": "@jupyter-widgets/controls",
      "model_module_version": "2.0.0",
      "model_name": "ButtonStyleModel",
      "state": {
       "font_family": null,
       "font_size": null,
       "font_style": null,
       "font_variant": null,
       "font_weight": null,
       "text_color": null,
       "text_decoration": null
      }
     },
     "5b2c900428c643e7a4c56b96d8d1031d": {
      "model_module": "@jupyter-widgets/controls",
      "model_module_version": "2.0.0",
      "model_name": "TextStyleModel",
      "state": {
       "description_width": "",
       "font_size": null,
       "text_color": null
      }
     },
     "5c0d9ef3a5d24f0594615a460b96e7d7": {
      "model_module": "@jupyter-widgets/base",
      "model_module_version": "2.0.0",
      "model_name": "LayoutModel",
      "state": {}
     },
     "5df64c76f0034b53943d70bcbbd75d3c": {
      "model_module": "@jupyter-widgets/base",
      "model_module_version": "2.0.0",
      "model_name": "LayoutModel",
      "state": {}
     },
     "5e6995c115ea467c94ad9d96d5375269": {
      "model_module": "@jupyter-widgets/controls",
      "model_module_version": "2.0.0",
      "model_name": "TextStyleModel",
      "state": {
       "description_width": "",
       "font_size": null,
       "text_color": null
      }
     },
     "6073238d3ff145ffbe783953e6b2d6bd": {
      "model_module": "@jupyter-widgets/base",
      "model_module_version": "2.0.0",
      "model_name": "LayoutModel",
      "state": {}
     },
     "60d43abc47534fd499401769e390d5ce": {
      "model_module": "@jupyter-widgets/base",
      "model_module_version": "2.0.0",
      "model_name": "LayoutModel",
      "state": {
       "height": "400px",
       "width": "75%"
      }
     },
     "617f55c7bf2a42bfaf422d8d63dbb306": {
      "model_module": "@jupyter-widgets/base",
      "model_module_version": "2.0.0",
      "model_name": "LayoutModel",
      "state": {}
     },
     "618ae9a781ae41e980214b882029ce64": {
      "model_module": "@jupyter-widgets/base",
      "model_module_version": "2.0.0",
      "model_name": "LayoutModel",
      "state": {
       "width": "75%"
      }
     },
     "61e1b0c6bbaa4646bdcae1847f7a61d8": {
      "model_module": "@jupyter-widgets/controls",
      "model_module_version": "2.0.0",
      "model_name": "TextModel",
      "state": {
       "description": "Source",
       "layout": "IPY_MODEL_8e0f9447927f46e2a3650d7f6f302ee5",
       "placeholder": "Dataset URL",
       "style": "IPY_MODEL_848495b716f348b686510a334ff7ebc0"
      }
     },
     "61fa16e8cc1d46638155472ad3c2bb49": {
      "model_module": "@jupyter-widgets/controls",
      "model_module_version": "2.0.0",
      "model_name": "IntRangeSliderModel",
      "state": {
       "_model_name": "IntRangeSliderModel",
       "_view_name": "IntRangeSliderView",
       "behavior": "drag-tap",
       "description": "Plots count",
       "layout": "IPY_MODEL_39ee7e75ec074f7194a7df5b6181c261",
       "max": 10,
       "min": 1,
       "style": "IPY_MODEL_3977571267314f6c9d6630eb1a33ec12",
       "value": [
        3,
        5
       ]
      }
     },
     "61ff6e2443a14aa5a530f1dcb7f7dc6e": {
      "model_module": "@jupyter-widgets/controls",
      "model_module_version": "2.0.0",
      "model_name": "TextareaModel",
      "state": {
       "description": "GPT Input",
       "disabled": true,
       "layout": "IPY_MODEL_bb9d0b13541545c3a377c6874deadb34",
       "style": "IPY_MODEL_d0817fe95ae3410ea986ee4cba6ef4db",
       "value": "\nI want you to act as a data scientist.\n\nI have a dataset with the following columns:\n\"Unnamed: 0\" (int64)\n\"manufacturer\" (object)\n\"model\" (object)\n\"displ\" (float64)\n\"year\" (int64)\n\"cyl\" (int64)\n\"trans\" (object)\n\"drv\" (object)\n\"cty\" (int64)\n\"hwy\" (int64)\n\"fl\" (object)\n\"class\" (object)\n\nWrite code for data visualization and exploration. Build 3 to 5 plots on the dataset. Organize the code so that it is suitable for Jupiter notebook. Pay special attention to the columns that seem most interesting to you.\n\nFor visualization use the Lets-Plot library. Use `LetsPlot.setup_html()` before first occurrence of plot. Try not to use parameters that depends on data (such as 'binwidth'). Use a consistent style when choosing colors, sizes and so on.\n    "
      }
     },
     "62ab3bdedb0f4196b8adf6f5ded26d35": {
      "model_module": "@jupyter-widgets/base",
      "model_module_version": "2.0.0",
      "model_name": "LayoutModel",
      "state": {
       "align_items": "center",
       "display": "flex",
       "flex_flow": "column",
       "width": "75%"
      }
     },
     "62f3d8c8915f42c3bee55edf7118d7a3": {
      "model_module": "@jupyter-widgets/controls",
      "model_module_version": "2.0.0",
      "model_name": "TextStyleModel",
      "state": {
       "description_width": "",
       "font_size": null,
       "text_color": null
      }
     },
     "63431f53d6ef4045a63c8a24ad816700": {
      "model_module": "@jupyter-widgets/controls",
      "model_module_version": "2.0.0",
      "model_name": "TextModel",
      "state": {
       "description": "Source",
       "layout": "IPY_MODEL_3738f244e6984666bca49f668775c847",
       "placeholder": "Dataset URL",
       "style": "IPY_MODEL_f036de9eec284613b8afc4f961df59ae",
       "value": "https://raw.githubusercontent.com/JetBrains/lets-plot-docs/master/data/mpg.csv"
      }
     },
     "6481f9a243484969a385a6b89985e429": {
      "model_module": "@jupyter-widgets/base",
      "model_module_version": "2.0.0",
      "model_name": "LayoutModel",
      "state": {}
     },
     "64a2b1b636064727be59996a21fb85aa": {
      "model_module": "@jupyter-widgets/base",
      "model_module_version": "2.0.0",
      "model_name": "LayoutModel",
      "state": {}
     },
     "64b332be57cd4c5aa172928d8ba35083": {
      "model_module": "@jupyter-widgets/base",
      "model_module_version": "2.0.0",
      "model_name": "LayoutModel",
      "state": {}
     },
     "64d27a1c43814832a133463d72d8fa54": {
      "model_module": "@jupyter-widgets/controls",
      "model_module_version": "2.0.0",
      "model_name": "TextModel",
      "state": {
       "description": "Source",
       "layout": "IPY_MODEL_fd001d68bca44442868e65638f2eba7d",
       "placeholder": "Dataset URL",
       "style": "IPY_MODEL_b8d9cb734c494a00a4854e6b3fad3ea8"
      }
     },
     "64ecce941014436290adeb611d216fbb": {
      "model_module": "@jupyter-widgets/base",
      "model_module_version": "2.0.0",
      "model_name": "LayoutModel",
      "state": {}
     },
     "6570790d1eda42ac86f06628b87e28bd": {
      "model_module": "@jupyter-widgets/controls",
      "model_module_version": "2.0.0",
      "model_name": "IntRangeSliderModel",
      "state": {
       "_model_name": "IntRangeSliderModel",
       "_view_name": "IntRangeSliderView",
       "behavior": "drag-tap",
       "description": "Plots count",
       "layout": "IPY_MODEL_2a51115c2b9b47b2b9abc5a178b2015e",
       "max": 10,
       "min": 1,
       "style": "IPY_MODEL_23a8364857a14021afb6ce1fd56f2431",
       "value": [
        3,
        5
       ]
      }
     },
     "6570ef799a7244eca3a5a07e4287b460": {
      "model_module": "@jupyter-widgets/controls",
      "model_module_version": "2.0.0",
      "model_name": "TextareaModel",
      "state": {
       "description": "GPT Input",
       "disabled": true,
       "layout": "IPY_MODEL_7d45a1710df4471d90155d72a439d49c",
       "style": "IPY_MODEL_db04ed4ef3304b7f97ada8d2f0290e64",
       "value": "3"
      }
     },
     "664f2ef8337746d48bf49b39056496fb": {
      "model_module": "@jupyter-widgets/controls",
      "model_module_version": "2.0.0",
      "model_name": "TextStyleModel",
      "state": {
       "description_width": "",
       "font_size": null,
       "text_color": null
      }
     },
     "669f394572de48898ceedec90c40b3c4": {
      "model_module": "@jupyter-widgets/controls",
      "model_module_version": "2.0.0",
      "model_name": "TextareaModel",
      "state": {
       "description": "GPT Input",
       "disabled": true,
       "layout": "IPY_MODEL_2059b2c308544b09a048db5beeb866b2",
       "style": "IPY_MODEL_ea16d2f858324c78ac2e9bbde288363a",
       "value": "1"
      }
     },
     "66aa9258a37c46c2902abd618fafa061": {
      "model_module": "@jupyter-widgets/base",
      "model_module_version": "2.0.0",
      "model_name": "LayoutModel",
      "state": {}
     },
     "673b943ecb1c480abcdc9d303fb7474f": {
      "model_module": "@jupyter-widgets/base",
      "model_module_version": "2.0.0",
      "model_name": "LayoutModel",
      "state": {}
     },
     "6769638716e948b48f385f73d10ecfb5": {
      "model_module": "@jupyter-widgets/controls",
      "model_module_version": "2.0.0",
      "model_name": "TextStyleModel",
      "state": {
       "description_width": "",
       "font_size": null,
       "text_color": null
      }
     },
     "67c5cf8eb03c4c47a2195f755cad8797": {
      "model_module": "@jupyter-widgets/controls",
      "model_module_version": "2.0.0",
      "model_name": "IntSliderModel",
      "state": {
       "behavior": "drag-tap",
       "layout": "IPY_MODEL_008c6394ac6f417c9b90476c8ff4b3f9",
       "max": 10,
       "min": 1,
       "style": "IPY_MODEL_f65a8587ece64d00bc5ed92033719a28",
       "value": 2
      }
     },
     "67e4c2ac63fd4ad4b2ba3754c8f9eb1c": {
      "model_module": "@jupyter-widgets/controls",
      "model_module_version": "2.0.0",
      "model_name": "TextStyleModel",
      "state": {
       "description_width": "",
       "font_size": null,
       "text_color": null
      }
     },
     "67fde41bf9a542dab0efb71ced08962d": {
      "model_module": "@jupyter-widgets/controls",
      "model_module_version": "2.0.0",
      "model_name": "DescriptionStyleModel",
      "state": {
       "description_width": ""
      }
     },
     "68806fbd00ab4c90a4e84fe7fb5d5208": {
      "model_module": "@jupyter-widgets/controls",
      "model_module_version": "2.0.0",
      "model_name": "TextareaModel",
      "state": {
       "description": "GPT Input",
       "disabled": true,
       "layout": "IPY_MODEL_4fbb5a63ab3c46c4a751c5fe7b98c4ac",
       "style": "IPY_MODEL_9d5bcc87fff14cccb06d02767a12be40",
       "value": "3"
      }
     },
     "68857bd1db364c13b3c8ee49f5027a6a": {
      "model_module": "@jupyter-widgets/base",
      "model_module_version": "2.0.0",
      "model_name": "LayoutModel",
      "state": {}
     },
     "68e881d648d2453d83f6808e2b145734": {
      "model_module": "@jupyter-widgets/base",
      "model_module_version": "2.0.0",
      "model_name": "LayoutModel",
      "state": {}
     },
     "68f3e3e77e1c4b12933a7850ccf7617a": {
      "model_module": "@jupyter-widgets/controls",
      "model_module_version": "2.0.0",
      "model_name": "ButtonStyleModel",
      "state": {
       "font_family": null,
       "font_size": null,
       "font_style": null,
       "font_variant": null,
       "font_weight": null,
       "text_color": null,
       "text_decoration": null
      }
     },
     "6910f3f9257942ef880ecd8fb5551bc7": {
      "model_module": "@jupyter-widgets/controls",
      "model_module_version": "2.0.0",
      "model_name": "TextModel",
      "state": {
       "description": "Name",
       "layout": "IPY_MODEL_a2f4252d1df8419c99656ba8d7c23870",
       "placeholder": "Dataset name",
       "style": "IPY_MODEL_8254ece2a02449c18a43884e98b2ec24"
      }
     },
     "6934acf49dff478fbcb90d50b3435466": {
      "model_module": "@jupyter-widgets/base",
      "model_module_version": "2.0.0",
      "model_name": "LayoutModel",
      "state": {}
     },
     "6966ebb6ca664bf8b0fe70218161f58d": {
      "model_module": "@jupyter-widgets/controls",
      "model_module_version": "2.0.0",
      "model_name": "TextModel",
      "state": {
       "description": "Source",
       "layout": "IPY_MODEL_bb9d0b13541545c3a377c6874deadb34",
       "placeholder": "Dataset URL",
       "style": "IPY_MODEL_93bc67ab2e9a4538af483c8216738638",
       "value": "https://raw.githubusercontent.com/JetBrains/lets-plot-docs/master/data/mpg.csv"
      }
     },
     "69f45a3e5a214b84a32a849aa097996b": {
      "model_module": "@jupyter-widgets/base",
      "model_module_version": "2.0.0",
      "model_name": "LayoutModel",
      "state": {
       "width": "75%"
      }
     },
     "6a466a1aeee643b2b01dc0533edbbf53": {
      "model_module": "@jupyter-widgets/controls",
      "model_module_version": "2.0.0",
      "model_name": "TextStyleModel",
      "state": {
       "description_width": "",
       "font_size": null,
       "text_color": null
      }
     },
     "6a9832a0a95d409b8e38b6bad7614823": {
      "model_module": "@jupyter-widgets/controls",
      "model_module_version": "2.0.0",
      "model_name": "SliderStyleModel",
      "state": {
       "description_width": ""
      }
     },
     "6a9fa43bb6fa46ff908a053528d8c376": {
      "model_module": "@jupyter-widgets/base",
      "model_module_version": "2.0.0",
      "model_name": "LayoutModel",
      "state": {}
     },
     "6aefc8d7fd97499992a9ec5e7af4e5a8": {
      "model_module": "@jupyter-widgets/base",
      "model_module_version": "2.0.0",
      "model_name": "LayoutModel",
      "state": {}
     },
     "6b0c0fb576274f51a065007350bdf1d7": {
      "model_module": "@jupyter-widgets/controls",
      "model_module_version": "2.0.0",
      "model_name": "SliderStyleModel",
      "state": {
       "description_width": ""
      }
     },
     "6b0d34a0ec524eb1a01bd4e693851d38": {
      "model_module": "@jupyter-widgets/controls",
      "model_module_version": "2.0.0",
      "model_name": "TextStyleModel",
      "state": {
       "description_width": "",
       "font_size": null,
       "text_color": null
      }
     },
     "6b4ebb570fc542338ccde40978300204": {
      "model_module": "@jupyter-widgets/controls",
      "model_module_version": "2.0.0",
      "model_name": "TextStyleModel",
      "state": {
       "description_width": "",
       "font_size": null,
       "text_color": null
      }
     },
     "6b9f9fd79cfc4349a94f2f39f45e3925": {
      "model_module": "@jupyter-widgets/controls",
      "model_module_version": "2.0.0",
      "model_name": "ButtonModel",
      "state": {
       "description": "Get prompt",
       "layout": "IPY_MODEL_46796770007f4cea94016049f17e6b74",
       "style": "IPY_MODEL_aea824ffcce64c55912ca079c51e3f4b",
       "tooltip": null
      }
     },
     "6bbc984049d74032980a3d160ed2fe49": {
      "model_module": "@jupyter-widgets/controls",
      "model_module_version": "2.0.0",
      "model_name": "TextareaModel",
      "state": {
       "description": "GPT Input",
       "disabled": true,
       "layout": "IPY_MODEL_060d2e11554144469551cd675d1d26e5",
       "style": "IPY_MODEL_5b2c900428c643e7a4c56b96d8d1031d"
      }
     },
     "6ca1338a1e874f2ea204429be09a2636": {
      "model_module": "@jupyter-widgets/controls",
      "model_module_version": "2.0.0",
      "model_name": "TextModel",
      "state": {
       "description": "Name",
       "layout": "IPY_MODEL_7900ac999f40462b8983fd3a6ae21fe8",
       "placeholder": "Dataset name",
       "style": "IPY_MODEL_62f3d8c8915f42c3bee55edf7118d7a3",
       "value": "jo"
      }
     },
     "6d152099584e45129ee43add78067408": {
      "model_module": "@jupyter-widgets/controls",
      "model_module_version": "2.0.0",
      "model_name": "TextareaModel",
      "state": {
       "description": "GPT Input",
       "disabled": true,
       "layout": "IPY_MODEL_34d0f7765cf74d2fb8290ff5d159fe7e",
       "style": "IPY_MODEL_1f8b198f7baa47fc9c6b768536bfccff",
       "value": "\nI want you to act as a data scientist.\n\nI have a dataset with the following columns:\n\"Unnamed: 0\" (int64)\n\"manufacturer\" (object)\n\"model\" (object)\n\"displ\" (float64)\n\"year\" (int64)\n\"cyl\" (int64)\n\"trans\" (object)\n\"drv\" (object)\n\"cty\" (int64)\n\"hwy\" (int64)\n\"fl\" (object)\n\"class\" (object)\n\nWrite code for data visualization and exploration. Build 3 to 5 plots on the dataset. Organize the code so that it is suitable for Jupiter notebook. Pay special attention to the columns that seem most interesting to you.\n\nFor visualization use the Lets-Plot library. Use `LetsPlot.setup_html()` before first occurrence of plot. Try not to use parameters that depends on data (such as 'binwidth'). Use a consistent style when choosing colors, sizes and so on.\n    "
      }
     },
     "6d778efd4fd243bba5c130295c2ddb7e": {
      "model_module": "@jupyter-widgets/base",
      "model_module_version": "2.0.0",
      "model_name": "LayoutModel",
      "state": {}
     },
     "6dbc16efdeaf4d978b0a6cb4f51bfebe": {
      "model_module": "@jupyter-widgets/controls",
      "model_module_version": "2.0.0",
      "model_name": "TextStyleModel",
      "state": {
       "description_width": "",
       "font_size": null,
       "text_color": null
      }
     },
     "6dcf0fc59edc4dffb7f2ff44566ece96": {
      "model_module": "@jupyter-widgets/base",
      "model_module_version": "2.0.0",
      "model_name": "LayoutModel",
      "state": {}
     },
     "6e2d39bcb23245ed9348d53ef03e15a5": {
      "model_module": "@jupyter-widgets/controls",
      "model_module_version": "2.0.0",
      "model_name": "TextStyleModel",
      "state": {
       "description_width": "",
       "font_size": null,
       "text_color": null
      }
     },
     "6e34bf893cc544bfb8085d0e53560930": {
      "model_module": "@jupyter-widgets/controls",
      "model_module_version": "2.0.0",
      "model_name": "ButtonStyleModel",
      "state": {
       "font_family": null,
       "font_size": null,
       "font_style": null,
       "font_variant": null,
       "font_weight": null,
       "text_color": null,
       "text_decoration": null
      }
     },
     "7053e4c525a74a5286bf7ab772fc846a": {
      "model_module": "@jupyter-widgets/controls",
      "model_module_version": "2.0.0",
      "model_name": "TextareaModel",
      "state": {
       "description": "GPT Input",
       "disabled": true,
       "layout": "IPY_MODEL_88e161e452ab4b70a5194a2113370050",
       "style": "IPY_MODEL_7b48a129ee9b4c12aead860d7457686b",
       "value": "(3, 5)"
      }
     },
     "7054eef7f3834570a816bd709a934b27": {
      "model_module": "@jupyter-widgets/controls",
      "model_module_version": "2.0.0",
      "model_name": "TextareaModel",
      "state": {
       "description": "GPT Input",
       "disabled": true,
       "layout": "IPY_MODEL_860a8f1de326413c94a4c10daa423740",
       "style": "IPY_MODEL_cd484be0ba8a49d78abbc1d6e4185e9e",
       "value": "(3, 5)"
      }
     },
     "710fe47c99974f1388093de0dda7a2df": {
      "model_module": "@jupyter-widgets/base",
      "model_module_version": "2.0.0",
      "model_name": "LayoutModel",
      "state": {}
     },
     "71e35942abcd4c5785c386dc6a87ee00": {
      "model_module": "@jupyter-widgets/controls",
      "model_module_version": "2.0.0",
      "model_name": "SliderStyleModel",
      "state": {
       "description_width": ""
      }
     },
     "72742d5807c54192a67efb552d775b48": {
      "model_module": "@jupyter-widgets/base",
      "model_module_version": "2.0.0",
      "model_name": "LayoutModel",
      "state": {}
     },
     "7274f7d7783a4562bf83bcbb6a5aaffa": {
      "model_module": "@jupyter-widgets/base",
      "model_module_version": "2.0.0",
      "model_name": "LayoutModel",
      "state": {}
     },
     "737b1942e11f4f329f690173fe3a7459": {
      "model_module": "@jupyter-widgets/controls",
      "model_module_version": "2.0.0",
      "model_name": "TextStyleModel",
      "state": {
       "description_width": "",
       "font_size": null,
       "text_color": null
      }
     },
     "737d9b6a1f824a77bcc435aeb350de6c": {
      "model_module": "@jupyter-widgets/controls",
      "model_module_version": "2.0.0",
      "model_name": "TextModel",
      "state": {
       "description": "Source",
       "layout": "IPY_MODEL_c8d1c49c8c7d4ff5be47c351a974c37b",
       "placeholder": "Dataset URL",
       "style": "IPY_MODEL_0e96c0b056534dcdb7e98e231d40d5a4",
       "value": "https://raw.githubusercontent.com/JetBrains/lets-plot-docs/master/data/mpg.csv"
      }
     },
     "73ee6ca8ddfc40f881e0b11095ed7606": {
      "model_module": "@jupyter-widgets/controls",
      "model_module_version": "2.0.0",
      "model_name": "TextStyleModel",
      "state": {
       "description_width": "",
       "font_size": null,
       "text_color": null
      }
     },
     "74384a67b8f54581b75e521c7ef8a0ab": {
      "model_module": "@jupyter-widgets/controls",
      "model_module_version": "2.0.0",
      "model_name": "SliderStyleModel",
      "state": {
       "description_width": ""
      }
     },
     "7445fce67d4d4599ae60af22f2124cfd": {
      "model_module": "@jupyter-widgets/base",
      "model_module_version": "2.0.0",
      "model_name": "LayoutModel",
      "state": {
       "width": "75%"
      }
     },
     "74de0edd82844a79b68da01f274c4c6c": {
      "model_module": "@jupyter-widgets/controls",
      "model_module_version": "2.0.0",
      "model_name": "TextModel",
      "state": {
       "description": "Source",
       "layout": "IPY_MODEL_6dcf0fc59edc4dffb7f2ff44566ece96",
       "placeholder": "Dataset URL",
       "style": "IPY_MODEL_ee557068620e4046947f0605595f2886"
      }
     },
     "75195284794d4cbfbcd43abe09da752d": {
      "model_module": "@jupyter-widgets/controls",
      "model_module_version": "2.0.0",
      "model_name": "TextModel",
      "state": {
       "description": "Source",
       "layout": "IPY_MODEL_0a39591e8e944238b90a28859a147d96",
       "placeholder": "Dataset URL",
       "style": "IPY_MODEL_96edd98f68e8446384307ac580800b72",
       "value": "https://raw.githubusercontent.com/JetBrains/lets-plot-docs/master/data/mpg.csv"
      }
     },
     "752fe6acaea142af90144bdd774805a0": {
      "model_module": "@jupyter-widgets/base",
      "model_module_version": "2.0.0",
      "model_name": "LayoutModel",
      "state": {}
     },
     "75949d1988824b70bfdf671a9692edb6": {
      "model_module": "@jupyter-widgets/base",
      "model_module_version": "2.0.0",
      "model_name": "LayoutModel",
      "state": {}
     },
     "7792c182da62491baec820653f19c669": {
      "model_module": "@jupyter-widgets/controls",
      "model_module_version": "2.0.0",
      "model_name": "SliderStyleModel",
      "state": {
       "description_width": ""
      }
     },
     "7877220409ba4342808948c56b7a54cb": {
      "model_module": "@jupyter-widgets/controls",
      "model_module_version": "2.0.0",
      "model_name": "TextStyleModel",
      "state": {
       "description_width": "",
       "font_size": null,
       "text_color": null
      }
     },
     "78ae08ecccbc489190bd6b0d62c0024b": {
      "model_module": "@jupyter-widgets/base",
      "model_module_version": "2.0.0",
      "model_name": "LayoutModel",
      "state": {}
     },
     "7900ac999f40462b8983fd3a6ae21fe8": {
      "model_module": "@jupyter-widgets/base",
      "model_module_version": "2.0.0",
      "model_name": "LayoutModel",
      "state": {}
     },
     "7984e08910674af78ef9d7b5e0caaadb": {
      "model_module": "@jupyter-widgets/controls",
      "model_module_version": "2.0.0",
      "model_name": "SliderStyleModel",
      "state": {
       "description_width": ""
      }
     },
     "7a1140e340de40a7bb27a295386421a4": {
      "model_module": "@jupyter-widgets/controls",
      "model_module_version": "2.0.0",
      "model_name": "TextStyleModel",
      "state": {
       "description_width": "",
       "font_size": null,
       "text_color": null
      }
     },
     "7b3ba99b62ff481db181bb8a2df1fd3e": {
      "model_module": "@jupyter-widgets/controls",
      "model_module_version": "2.0.0",
      "model_name": "TextareaModel",
      "state": {
       "description": "GPT Input",
       "disabled": true,
       "layout": "IPY_MODEL_04a2afaa11aa4207b75ea0c27750a7f6",
       "style": "IPY_MODEL_87471d27b10f4d469d902c38c00d116e",
       "value": "(3, 5)"
      }
     },
     "7b48a129ee9b4c12aead860d7457686b": {
      "model_module": "@jupyter-widgets/controls",
      "model_module_version": "2.0.0",
      "model_name": "TextStyleModel",
      "state": {
       "description_width": "",
       "font_size": null,
       "text_color": null
      }
     },
     "7bc6f6af91024e0b81f659c9f3e65b4b": {
      "model_module": "@jupyter-widgets/controls",
      "model_module_version": "2.0.0",
      "model_name": "TextareaModel",
      "state": {
       "description": "GPT Input",
       "disabled": true,
       "layout": "IPY_MODEL_72742d5807c54192a67efb552d775b48",
       "style": "IPY_MODEL_fab518215aa44288aa9571f5a225fe2d",
       "value": "(3, 5)"
      }
     },
     "7d45a1710df4471d90155d72a439d49c": {
      "model_module": "@jupyter-widgets/base",
      "model_module_version": "2.0.0",
      "model_name": "LayoutModel",
      "state": {}
     },
     "7e84ccbbd9b142c69b7f0dc9df1f44d9": {
      "model_module": "@jupyter-widgets/controls",
      "model_module_version": "2.0.0",
      "model_name": "TextareaModel",
      "state": {
       "description": "GPT Input",
       "disabled": true,
       "layout": "IPY_MODEL_fca6f3a9a4af4d19bb6dd078d1311b01",
       "style": "IPY_MODEL_236056c07ca6465cb45146f5f8e8a8e0",
       "value": "\nI want you to act as a data scientist.\n\nI have a dataset with the following columns:\n\"Unnamed: 0\" (int64)\n\"manufacturer\" (object)\n\"model\" (object)\n\"displ\" (float64)\n\"year\" (int64)\n\"cyl\" (int64)\n\"trans\" (object)\n\"drv\" (object)\n\"cty\" (int64)\n\"hwy\" (int64)\n\"fl\" (object)\n\"class\" (object)\n\nWrite code for data visualization and exploration. Build 3 to 5 plots on the dataset. Organize the code so that it is suitable for Jupiter notebook. Pay special attention to the columns that seem most interesting to you.\n\nFor visualization use the Lets-Plot library. Use `LetsPlot.setup_html()` before first occurrence of plot. Try not to use parameters that depends on data (such as 'binwidth'). Use a consistent style when choosing colors, sizes and so on.\n    "
      }
     },
     "7e9b090400d54799a6593a6d90bcf70e": {
      "model_module": "@jupyter-widgets/base",
      "model_module_version": "2.0.0",
      "model_name": "LayoutModel",
      "state": {
       "width": "75%"
      }
     },
     "7f396afe3bb549c69f834236e57817d2": {
      "model_module": "@jupyter-widgets/controls",
      "model_module_version": "2.0.0",
      "model_name": "TextStyleModel",
      "state": {
       "description_width": "",
       "font_size": null,
       "text_color": null
      }
     },
     "7fc36aa652b14639b1b68250d9b7e993": {
      "model_module": "@jupyter-widgets/controls",
      "model_module_version": "2.0.0",
      "model_name": "TextModel",
      "state": {
       "description": "Name",
       "layout": "IPY_MODEL_3738f244e6984666bca49f668775c847",
       "placeholder": "Dataset name",
       "style": "IPY_MODEL_fb0ca2b85ce74787ab9b3c55bcab6d6f"
      }
     },
     "817f6b8d721e4986adf94554c5935a69": {
      "model_module": "@jupyter-widgets/controls",
      "model_module_version": "2.0.0",
      "model_name": "IntRangeSliderModel",
      "state": {
       "_model_name": "IntRangeSliderModel",
       "_view_name": "IntRangeSliderView",
       "behavior": "drag-tap",
       "description": "Plots count",
       "layout": "IPY_MODEL_18813cdbb2a34ccea0c01ceec5d5605b",
       "max": 10,
       "min": 1,
       "style": "IPY_MODEL_1e88094c259a4548a0f303793fce1b7d",
       "value": [
        3,
        5
       ]
      }
     },
     "82263770dc3b4660bbd17c9f214e3109": {
      "model_module": "@jupyter-widgets/controls",
      "model_module_version": "2.0.0",
      "model_name": "SliderStyleModel",
      "state": {
       "description_width": ""
      }
     },
     "8254ece2a02449c18a43884e98b2ec24": {
      "model_module": "@jupyter-widgets/controls",
      "model_module_version": "2.0.0",
      "model_name": "TextStyleModel",
      "state": {
       "description_width": "",
       "font_size": null,
       "text_color": null
      }
     },
     "8261248b20ea49389d373a1e24c99e34": {
      "model_module": "@jupyter-widgets/controls",
      "model_module_version": "2.0.0",
      "model_name": "TextareaModel",
      "state": {
       "description": "GPT Input",
       "disabled": true,
       "layout": "IPY_MODEL_556d337fad9f4e4cb082f572b1de76f6",
       "style": "IPY_MODEL_39659730b2514076b33fc087eab1307a",
       "value": "\nI want you to act as a data scientist.\n\nI have a dataset with the following columns:\n\"Unnamed: 0\" (int64)\n\"manufacturer\" (object)\n\"model\" (object)\n\"displ\" (float64)\n\"year\" (int64)\n\"cyl\" (int64)\n\"trans\" (object)\n\"drv\" (object)\n\"cty\" (int64)\n\"hwy\" (int64)\n\"fl\" (object)\n\"class\" (object)\n\nWrite code for data visualization and exploration. Build 3 to 5 plots on the dataset. Organize the code so that it is suitable for Jupiter notebook. Pay special attention to the columns that seem most interesting to you.\n\nFor visualization use the Lets-Plot library. Use `LetsPlot.setup_html()` before first occurrence of plot. Try not to use parameters that depends on data (such as 'binwidth'). Use a consistent style when choosing colors, sizes and so on.\n    "
      }
     },
     "82973cd6066648099e4a4e429269c24d": {
      "model_module": "@jupyter-widgets/controls",
      "model_module_version": "2.0.0",
      "model_name": "IntRangeSliderModel",
      "state": {
       "_model_name": "IntRangeSliderModel",
       "_view_name": "IntRangeSliderView",
       "behavior": "drag-tap",
       "description": "Plots count",
       "layout": "IPY_MODEL_64b332be57cd4c5aa172928d8ba35083",
       "max": 10,
       "min": 1,
       "style": "IPY_MODEL_7792c182da62491baec820653f19c669",
       "value": [
        3,
        5
       ]
      }
     },
     "82e5e2504ed3470ca74e7141e7deda2c": {
      "model_module": "@jupyter-widgets/base",
      "model_module_version": "2.0.0",
      "model_name": "LayoutModel",
      "state": {}
     },
     "8387f959a4184583b1602af5731d5348": {
      "model_module": "@jupyter-widgets/controls",
      "model_module_version": "2.0.0",
      "model_name": "TextareaModel",
      "state": {
       "description": "GPT Input",
       "disabled": true,
       "layout": "IPY_MODEL_282821e2594c47839a585294f6d194f1",
       "style": "IPY_MODEL_997f812d9a174404990810d445d857cd",
       "value": "\nI want you to act as a data scientist.\n\nI have a dataset with the following columns:\n\"Unnamed: 0\" (int64)\n\"manufacturer\" (object)\n\"model\" (object)\n\"displ\" (float64)\n\"year\" (int64)\n\"cyl\" (int64)\n\"trans\" (object)\n\"drv\" (object)\n\"cty\" (int64)\n\"hwy\" (int64)\n\"fl\" (object)\n\"class\" (object)\n\nWrite code for data visualization and exploration. Build 3 to 5 plots on the dataset. Organize the code so that it is suitable for Jupiter notebook. Pay special attention to the columns that seem most interesting to you.\n\nFor visualization use the Lets-Plot library. Use `LetsPlot.setup_html()` before first occurrence of plot. Try not to use parameters that depends on data (such as 'binwidth'). Use a consistent style when choosing colors, sizes and so on.\n    "
      }
     },
     "83deb89fde3d41f79783dfd8a78d223f": {
      "model_module": "@jupyter-widgets/controls",
      "model_module_version": "2.0.0",
      "model_name": "TextStyleModel",
      "state": {
       "description_width": "",
       "font_size": null,
       "text_color": null
      }
     },
     "83f2d48cec2040d9b656d205356d5797": {
      "model_module": "@jupyter-widgets/base",
      "model_module_version": "2.0.0",
      "model_name": "LayoutModel",
      "state": {}
     },
     "848495b716f348b686510a334ff7ebc0": {
      "model_module": "@jupyter-widgets/controls",
      "model_module_version": "2.0.0",
      "model_name": "TextStyleModel",
      "state": {
       "description_width": "",
       "font_size": null,
       "text_color": null
      }
     },
     "8485596458e54396bffb8c97b471da6c": {
      "model_module": "@jupyter-widgets/controls",
      "model_module_version": "2.0.0",
      "model_name": "ButtonModel",
      "state": {
       "description": "Get prompt",
       "layout": "IPY_MODEL_0aad5f2f43b746aa97efa33d282d7dea",
       "style": "IPY_MODEL_dd7ae1b4bc4d47bc969b20cb8fac45ff",
       "tooltip": null
      }
     },
     "849527f581dc4da2b74f7a51f50a0140": {
      "model_module": "@jupyter-widgets/controls",
      "model_module_version": "2.0.0",
      "model_name": "TextareaModel",
      "state": {
       "description": "GPT Input",
       "disabled": true,
       "layout": "IPY_MODEL_6d778efd4fd243bba5c130295c2ddb7e",
       "style": "IPY_MODEL_1dbb1624c5ef4416a079b2f0549e7129",
       "value": "(3, 5)"
      }
     },
     "84b15fd39ef244b49913702a972194e1": {
      "model_module": "@jupyter-widgets/controls",
      "model_module_version": "2.0.0",
      "model_name": "IntRangeSliderModel",
      "state": {
       "_model_name": "IntRangeSliderModel",
       "_view_name": "IntRangeSliderView",
       "behavior": "drag-tap",
       "description": "Plots count",
       "layout": "IPY_MODEL_3738f244e6984666bca49f668775c847",
       "max": 20,
       "min": 1,
       "style": "IPY_MODEL_ff6c9e8979d44cc19366e5623ae17f12",
       "value": [
        3,
        5
       ]
      }
     },
     "85598843795c4cf185bac87f245f712e": {
      "model_module": "@jupyter-widgets/controls",
      "model_module_version": "2.0.0",
      "model_name": "TextareaModel",
      "state": {
       "description": "GPT Input",
       "disabled": true,
       "layout": "IPY_MODEL_3ec0ec143be543959df75b3cdd042ff7",
       "style": "IPY_MODEL_d5a8460daf7a48b99ff899ce0b1ff151",
       "value": "(5, 5)"
      }
     },
     "85981b8bdba04a64a4f219bea9655a9d": {
      "model_module": "@jupyter-widgets/controls",
      "model_module_version": "2.0.0",
      "model_name": "IntRangeSliderModel",
      "state": {
       "_model_name": "IntRangeSliderModel",
       "_view_name": "IntRangeSliderView",
       "behavior": "drag-tap",
       "description": "Plots count",
       "layout": "IPY_MODEL_6073238d3ff145ffbe783953e6b2d6bd",
       "max": 10,
       "min": 1,
       "style": "IPY_MODEL_3e677ac6e7124838b94d793abf6945d2",
       "value": [
        3,
        5
       ]
      }
     },
     "85f4ff00244b4d87864d057a4137c9df": {
      "model_module": "@jupyter-widgets/controls",
      "model_module_version": "2.0.0",
      "model_name": "IntRangeSliderModel",
      "state": {
       "_model_name": "IntRangeSliderModel",
       "_view_name": "IntRangeSliderView",
       "behavior": "drag-tap",
       "description": "Plots count",
       "layout": "IPY_MODEL_69f45a3e5a214b84a32a849aa097996b",
       "max": 10,
       "min": 1,
       "style": "IPY_MODEL_7984e08910674af78ef9d7b5e0caaadb",
       "value": [
        3,
        5
       ]
      }
     },
     "8602ad85ce99455e9ed96e3c68172143": {
      "model_module": "@jupyter-widgets/controls",
      "model_module_version": "2.0.0",
      "model_name": "ButtonModel",
      "state": {
       "description": "Get prompt",
       "layout": "IPY_MODEL_ee3e1fe6077f4e69ae0594732c5ed711",
       "style": "IPY_MODEL_bf37ee1428ec4ba6a629af299915b46a",
       "tooltip": null
      }
     },
     "860a8f1de326413c94a4c10daa423740": {
      "model_module": "@jupyter-widgets/base",
      "model_module_version": "2.0.0",
      "model_name": "LayoutModel",
      "state": {}
     },
     "86d5d6382e474d87a8bcb3d1d6631561": {
      "model_module": "@jupyter-widgets/controls",
      "model_module_version": "2.0.0",
      "model_name": "TextModel",
      "state": {
       "description": "Source",
       "layout": "IPY_MODEL_69f45a3e5a214b84a32a849aa097996b",
       "placeholder": "Dataset URL",
       "style": "IPY_MODEL_de597751ca394254a49a103a2f4dc1ac",
       "value": "https://raw.githubusercontent.com/JetBrains/lets-plot-docs/master/data/mpg.csv"
      }
     },
     "87471d27b10f4d469d902c38c00d116e": {
      "model_module": "@jupyter-widgets/controls",
      "model_module_version": "2.0.0",
      "model_name": "TextStyleModel",
      "state": {
       "description_width": "",
       "font_size": null,
       "text_color": null
      }
     },
     "88d2918615214a088032a4afc6bd5ebf": {
      "model_module": "@jupyter-widgets/controls",
      "model_module_version": "2.0.0",
      "model_name": "IntRangeSliderModel",
      "state": {
       "_model_name": "IntRangeSliderModel",
       "_view_name": "IntRangeSliderView",
       "behavior": "drag-tap",
       "description": "Plots count",
       "layout": "IPY_MODEL_dec6cb15d6484f998bcbfd106c97950f",
       "max": 10,
       "min": 1,
       "style": "IPY_MODEL_4e3d5dc90e7b4f4cb6f5601d822b7032",
       "value": [
        3,
        5
       ]
      }
     },
     "88e161e452ab4b70a5194a2113370050": {
      "model_module": "@jupyter-widgets/base",
      "model_module_version": "2.0.0",
      "model_name": "LayoutModel",
      "state": {}
     },
     "8b6982e6eb7a4922a1b6233a42b33f2d": {
      "model_module": "@jupyter-widgets/controls",
      "model_module_version": "2.0.0",
      "model_name": "TextStyleModel",
      "state": {
       "description_width": "",
       "font_size": null,
       "text_color": null
      }
     },
     "8bb52f724683477ca004cce14523d333": {
      "model_module": "@jupyter-widgets/controls",
      "model_module_version": "2.0.0",
      "model_name": "ButtonModel",
      "state": {
       "description": "Get prompt",
       "layout": "IPY_MODEL_47ef8f5fd9954a1fb875e04eb80b20da",
       "style": "IPY_MODEL_b19aba0b1c8c40d5b06a2a9824e1e63f",
       "tooltip": null
      }
     },
     "8bd0038a85694d2a9318b69df8d2b634": {
      "model_module": "@jupyter-widgets/controls",
      "model_module_version": "2.0.0",
      "model_name": "TextareaModel",
      "state": {
       "description": "GPT Input",
       "disabled": true,
       "layout": "IPY_MODEL_dff3f1e67e714ffa8206d617e1bef9b4",
       "style": "IPY_MODEL_83deb89fde3d41f79783dfd8a78d223f",
       "value": "2"
      }
     },
     "8c0f16bf72a74a54aa4e3366e209d0e3": {
      "model_module": "@jupyter-widgets/controls",
      "model_module_version": "2.0.0",
      "model_name": "TextStyleModel",
      "state": {
       "description_width": "",
       "font_size": null,
       "text_color": null
      }
     },
     "8c14a6c3aebb445d87d1726ed6131cb3": {
      "model_module": "@jupyter-widgets/base",
      "model_module_version": "2.0.0",
      "model_name": "LayoutModel",
      "state": {}
     },
     "8c7e624a57824f4cba98f6ebe4f92ac6": {
      "model_module": "@jupyter-widgets/controls",
      "model_module_version": "2.0.0",
      "model_name": "ButtonModel",
      "state": {
       "description": "Get prompt",
       "layout": "IPY_MODEL_a97dd320853b49f485345b13c999bc33",
       "style": "IPY_MODEL_9e1afe196f2046e89c87d168b4e2c480",
       "tooltip": null
      }
     },
     "8d7037eac0bb4390aed12714ab2e042c": {
      "model_module": "@jupyter-widgets/controls",
      "model_module_version": "2.0.0",
      "model_name": "ButtonStyleModel",
      "state": {
       "font_family": null,
       "font_size": null,
       "font_style": null,
       "font_variant": null,
       "font_weight": null,
       "text_color": null,
       "text_decoration": null
      }
     },
     "8da8d065133c4c93b82cebb9b31316cc": {
      "model_module": "@jupyter-widgets/controls",
      "model_module_version": "2.0.0",
      "model_name": "TextareaModel",
      "state": {
       "description": "GPT Input",
       "disabled": true,
       "layout": "IPY_MODEL_fe9b2f4a76544573ba11d9abf73b532a",
       "placeholder": "Type something",
       "style": "IPY_MODEL_a6bc964216304aa685ed00b685cc89e4",
       "value": "Hello World"
      }
     },
     "8e0f9447927f46e2a3650d7f6f302ee5": {
      "model_module": "@jupyter-widgets/base",
      "model_module_version": "2.0.0",
      "model_name": "LayoutModel",
      "state": {}
     },
     "8f4d93512c2f4d7ba038c3de95afb5bf": {
      "model_module": "@jupyter-widgets/controls",
      "model_module_version": "2.0.0",
      "model_name": "TextareaModel",
      "state": {
       "description": "GPT Input",
       "disabled": true,
       "layout": "IPY_MODEL_c8d1c49c8c7d4ff5be47c351a974c37b",
       "style": "IPY_MODEL_19fcfd3b8ee94fcb93194a216691e203",
       "value": "\nI want you to act as a data scientist.\n\nI have a dataset with the following columns:\n\"Unnamed: 0\" (int64)\n\"manufacturer\" (object)\n\"model\" (object)\n\"displ\" (float64)\n\"year\" (int64)\n\"cyl\" (int64)\n\"trans\" (object)\n\"drv\" (object)\n\"cty\" (int64)\n\"hwy\" (int64)\n\"fl\" (object)\n\"class\" (object)\n\nWrite code for data visualization and exploration. Build 3 to 5 plots on the dataset. Organize the code so that it is suitable for Jupiter notebook. Pay special attention to the columns that seem most interesting to you.\n\nFor visualization use the Lets-Plot library. Use `LetsPlot.setup_html()` before first occurrence of plot. Try not to use parameters that depends on data (such as 'binwidth'). Use a consistent style when choosing colors, sizes and so on.\n    "
      }
     },
     "900fbd70e0b44dc4b33de21e7d493e1c": {
      "model_module": "@jupyter-widgets/controls",
      "model_module_version": "2.0.0",
      "model_name": "SliderStyleModel",
      "state": {
       "description_width": ""
      }
     },
     "9012402e28e145a9b8807543a254f01e": {
      "model_module": "@jupyter-widgets/base",
      "model_module_version": "2.0.0",
      "model_name": "LayoutModel",
      "state": {}
     },
     "9131f2797ed24362ad36cb9d8dd59d2b": {
      "model_module": "@jupyter-widgets/base",
      "model_module_version": "2.0.0",
      "model_name": "LayoutModel",
      "state": {
       "align_items": "center",
       "display": "flex",
       "flex_flow": "column",
       "width": "75%"
      }
     },
     "914b6fd10350497f91715772994e6ef4": {
      "model_module": "@jupyter-widgets/controls",
      "model_module_version": "2.0.0",
      "model_name": "TextStyleModel",
      "state": {
       "description_width": "",
       "font_size": null,
       "text_color": null
      }
     },
     "91985f3572c74ce8b4cb7ba118be5321": {
      "model_module": "@jupyter-widgets/controls",
      "model_module_version": "2.0.0",
      "model_name": "IntRangeSliderModel",
      "state": {
       "_model_name": "IntRangeSliderModel",
       "_view_name": "IntRangeSliderView",
       "behavior": "drag-tap",
       "description": "Plots count",
       "layout": "IPY_MODEL_d8fa2d8801dc4014be08b8a23ddcce11",
       "max": 10,
       "min": 1,
       "style": "IPY_MODEL_432064e683c947929feee5c0c00ef719",
       "value": [
        3,
        4
       ]
      }
     },
     "91ee2d0050ba444491c06cde83df85f4": {
      "model_module": "@jupyter-widgets/controls",
      "model_module_version": "2.0.0",
      "model_name": "SliderStyleModel",
      "state": {
       "description_width": ""
      }
     },
     "9222098db3884c35b0da10c47e1bc991": {
      "model_module": "@jupyter-widgets/controls",
      "model_module_version": "2.0.0",
      "model_name": "TextareaModel",
      "state": {
       "description": "GPT Input",
       "disabled": true,
       "layout": "IPY_MODEL_4075d5e1afa74436b3815e75a6495b3a",
       "style": "IPY_MODEL_5e6995c115ea467c94ad9d96d5375269",
       "value": "I want you to act as a data scientist.\n\nI have a dataset with the following columns:\n\"Unnamed: 0\" (int64)\n\"manufacturer\" (object)\n\"model\" (object)\n\"displ\" (float64)\n\"year\" (int64)\n\"cyl\" (int64)\n\"trans\" (object)\n\"drv\" (object)\n\"cty\" (int64)\n\"hwy\" (int64)\n\"fl\" (object)\n\"class\" (object)\n\nWrite code for data visualization and exploration. Build 3 to 5 plots on the dataset. Organize the code so that it is suitable for Jupiter notebook. Pay special attention to the columns that seem most interesting to you.\n\nFor visualization use the Lets-Plot library. Use `LetsPlot.setup_html()` before first occurrence of plot. Try not to use parameters that depends on data (such as 'binwidth'). Use a consistent style when choosing colors, sizes and so on."
      }
     },
     "922f46c7a1004c6e814379830e949f53": {
      "model_module": "@jupyter-widgets/controls",
      "model_module_version": "2.0.0",
      "model_name": "TextareaModel",
      "state": {
       "description": "GPT Input",
       "disabled": true,
       "layout": "IPY_MODEL_60d43abc47534fd499401769e390d5ce",
       "style": "IPY_MODEL_d1077a74fd5c4ab6ba94a92b2d3c76b9",
       "value": "I want you to act as a data scientist.\n\nI have a dataset \"mpg\" with the following columns:\n\"Unnamed: 0\" (int64)\n\"manufacturer\" (object)\n\"model\" (object)\n\"displ\" (float64)\n\"year\" (int64)\n\"cyl\" (int64)\n\"trans\" (object)\n\"drv\" (object)\n\"cty\" (int64)\n\"hwy\" (int64)\n\"fl\" (object)\n\"class\" (object)\n\nWrite code for data visualization and exploration. Build 3 to 5 plots on the dataset. Organize the code so that it is suitable for Jupiter notebook. Pay special attention to the columns that seem most interesting to you.\n\nFor visualization use the Lets-Plot library. Use `LetsPlot.setup_html()` before first occurrence of plot. Try not to use parameters that depends on data (such as 'binwidth'). Use a consistent style when choosing colors, sizes and so on. If you are trying to plot some geospatial data, don't forget to use the coord_map() function."
      }
     },
     "92f6ecacb5e24b80ac01bb496767e048": {
      "model_module": "@jupyter-widgets/base",
      "model_module_version": "2.0.0",
      "model_name": "LayoutModel",
      "state": {}
     },
     "931bf33c88f2491bb729d03743017880": {
      "model_module": "@jupyter-widgets/controls",
      "model_module_version": "2.0.0",
      "model_name": "ButtonModel",
      "state": {
       "description": "Get prompt",
       "layout": "IPY_MODEL_64a2b1b636064727be59996a21fb85aa",
       "style": "IPY_MODEL_2bec8a7e82314a8b8d13b6af38d2fd8e",
       "tooltip": null
      }
     },
     "934b5329307d49f7bf1187a4fe362c62": {
      "model_module": "@jupyter-widgets/controls",
      "model_module_version": "2.0.0",
      "model_name": "TextareaModel",
      "state": {
       "description": "GPT Input",
       "disabled": true,
       "layout": "IPY_MODEL_484cc6eaa58741df9e0dd91b0364f85f",
       "style": "IPY_MODEL_8b6982e6eb7a4922a1b6233a42b33f2d",
       "value": "\nI want you to act as a data scientist.\n\nI have a dataset with the following columns:\n\"Unnamed: 0\" (int64)\n\"manufacturer\" (object)\n\"model\" (object)\n\"displ\" (float64)\n\"year\" (int64)\n\"cyl\" (int64)\n\"trans\" (object)\n\"drv\" (object)\n\"cty\" (int64)\n\"hwy\" (int64)\n\"fl\" (object)\n\"class\" (object)\n\nWrite code for data visualization and exploration. Build 3 to 5 plots on the dataset. Organize the code so that it is suitable for Jupiter notebook. Pay special attention to the columns that seem most interesting to you.\n\nFor visualization use the Lets-Plot library. Use `LetsPlot.setup_html()` before first occurrence of plot. Try not to use parameters that depends on data (such as 'binwidth'). Use a consistent style when choosing colors, sizes and so on.\n    "
      }
     },
     "935a788cd3414f39b70053b44dcd937c": {
      "model_module": "@jupyter-widgets/controls",
      "model_module_version": "2.0.0",
      "model_name": "SliderStyleModel",
      "state": {
       "description_width": ""
      }
     },
     "93bc67ab2e9a4538af483c8216738638": {
      "model_module": "@jupyter-widgets/controls",
      "model_module_version": "2.0.0",
      "model_name": "TextStyleModel",
      "state": {
       "description_width": "",
       "font_size": null,
       "text_color": null
      }
     },
     "942ed414c8f84a65b4253a8a9786ef6e": {
      "model_module": "@jupyter-widgets/controls",
      "model_module_version": "2.0.0",
      "model_name": "TextStyleModel",
      "state": {
       "description_width": "",
       "font_size": null,
       "text_color": null
      }
     },
     "94d6c21925e74509a35fb79c97c3e607": {
      "model_module": "@jupyter-widgets/controls",
      "model_module_version": "2.0.0",
      "model_name": "TextModel",
      "state": {
       "description": "Name",
       "layout": "IPY_MODEL_7e9b090400d54799a6593a6d90bcf70e",
       "placeholder": "Dataset name",
       "style": "IPY_MODEL_db4598e3112a4958a3363535b139112e",
       "value": "mpg"
      }
     },
     "959a5f384fae4f95a375e0e5e326a58f": {
      "model_module": "@jupyter-widgets/controls",
      "model_module_version": "2.0.0",
      "model_name": "TextStyleModel",
      "state": {
       "description_width": "",
       "font_size": null,
       "text_color": null
      }
     },
     "96edd98f68e8446384307ac580800b72": {
      "model_module": "@jupyter-widgets/controls",
      "model_module_version": "2.0.0",
      "model_name": "TextStyleModel",
      "state": {
       "description_width": "",
       "font_size": null,
       "text_color": null
      }
     },
     "972386492f96443aa6858dc74394ea01": {
      "model_module": "@jupyter-widgets/base",
      "model_module_version": "2.0.0",
      "model_name": "LayoutModel",
      "state": {}
     },
     "981f8c63f8b84df6b04d0b748ff1066a": {
      "model_module": "@jupyter-widgets/base",
      "model_module_version": "2.0.0",
      "model_name": "LayoutModel",
      "state": {
       "width": "200px"
      }
     },
     "982e8423607d4095b6a443e7ee7b1cd6": {
      "model_module": "@jupyter-widgets/controls",
      "model_module_version": "2.0.0",
      "model_name": "TextModel",
      "state": {
       "description": "String:",
       "layout": "IPY_MODEL_9dee8a7a56d34747afe3e12476320b32",
       "placeholder": "Type something",
       "style": "IPY_MODEL_a09a063c3be948d8a46e9c1cfd694ac3"
      }
     },
     "990a2916ba4143f589e9d30990dc1b40": {
      "model_module": "@jupyter-widgets/controls",
      "model_module_version": "2.0.0",
      "model_name": "TextareaModel",
      "state": {
       "description": "GPT Input",
       "disabled": true,
       "layout": "IPY_MODEL_fda0c2def69a46fe9b9ebd705d5300aa",
       "style": "IPY_MODEL_be9ad99fb8a24a118d5e01b35a5a896c"
      }
     },
     "99295933a5dd4e218c06d598fce1219e": {
      "model_module": "@jupyter-widgets/controls",
      "model_module_version": "2.0.0",
      "model_name": "ButtonStyleModel",
      "state": {
       "font_family": null,
       "font_size": null,
       "font_style": null,
       "font_variant": null,
       "font_weight": null,
       "text_color": null,
       "text_decoration": null
      }
     },
     "997f812d9a174404990810d445d857cd": {
      "model_module": "@jupyter-widgets/controls",
      "model_module_version": "2.0.0",
      "model_name": "TextStyleModel",
      "state": {
       "description_width": "",
       "font_size": null,
       "text_color": null
      }
     },
     "9a09c50361e941949b9c2955707b144b": {
      "model_module": "@jupyter-widgets/controls",
      "model_module_version": "2.0.0",
      "model_name": "SliderStyleModel",
      "state": {
       "description_width": ""
      }
     },
     "9a3378ac77674818b46d26da1ff2ce5e": {
      "model_module": "@jupyter-widgets/controls",
      "model_module_version": "2.0.0",
      "model_name": "ButtonModel",
      "state": {
       "description": "Get prompt",
       "layout": "IPY_MODEL_1ca999af1b8b49b780f5b277d42afd42",
       "style": "IPY_MODEL_b9ed73a983804f03b352aa1e605425fd",
       "tooltip": null
      }
     },
     "9af5b9cb891d4172b71d59f189a14acf": {
      "model_module": "@jupyter-widgets/controls",
      "model_module_version": "2.0.0",
      "model_name": "TextStyleModel",
      "state": {
       "description_width": "",
       "font_size": null,
       "text_color": null
      }
     },
     "9b5dc3944cda42be9ffe640fbb91dd5f": {
      "model_module": "@jupyter-widgets/base",
      "model_module_version": "2.0.0",
      "model_name": "LayoutModel",
      "state": {}
     },
     "9c5ebd60a63f4ff6980a8e3290f4999b": {
      "model_module": "@jupyter-widgets/base",
      "model_module_version": "2.0.0",
      "model_name": "LayoutModel",
      "state": {}
     },
     "9cbfcdc7f8974f94b1bcd39d58643464": {
      "model_module": "@jupyter-widgets/controls",
      "model_module_version": "2.0.0",
      "model_name": "TextareaModel",
      "state": {
       "description": "GPT Input",
       "disabled": true,
       "layout": "IPY_MODEL_0fcd87450a484163b6986f10759dbf4b",
       "style": "IPY_MODEL_f68101e112014a899d1ea0cf9c7cbda4",
       "value": "(3, 5)"
      }
     },
     "9d5bcc87fff14cccb06d02767a12be40": {
      "model_module": "@jupyter-widgets/controls",
      "model_module_version": "2.0.0",
      "model_name": "TextStyleModel",
      "state": {
       "description_width": "",
       "font_size": null,
       "text_color": null
      }
     },
     "9da8102bf6ed4d3db6bf079baa915686": {
      "model_module": "@jupyter-widgets/base",
      "model_module_version": "2.0.0",
      "model_name": "LayoutModel",
      "state": {
       "width": "75%"
      }
     },
     "9dee8a7a56d34747afe3e12476320b32": {
      "model_module": "@jupyter-widgets/base",
      "model_module_version": "2.0.0",
      "model_name": "LayoutModel",
      "state": {}
     },
     "9e0b406bd89446fa8e4958a56beffdf9": {
      "model_module": "@jupyter-widgets/controls",
      "model_module_version": "2.0.0",
      "model_name": "TextModel",
      "state": {
       "description": "Source",
       "layout": "IPY_MODEL_2f5879032d0947bb923d10c02e2fedcc",
       "placeholder": "Dataset URL",
       "style": "IPY_MODEL_52d53bc8aa554e70aa66c5f4806d2da3"
      }
     },
     "9e1afe196f2046e89c87d168b4e2c480": {
      "model_module": "@jupyter-widgets/controls",
      "model_module_version": "2.0.0",
      "model_name": "ButtonStyleModel",
      "state": {
       "font_family": null,
       "font_size": null,
       "font_style": null,
       "font_variant": null,
       "font_weight": null,
       "text_color": null,
       "text_decoration": null
      }
     },
     "9e336f7b88774c318306e161255377ba": {
      "model_module": "@jupyter-widgets/base",
      "model_module_version": "2.0.0",
      "model_name": "LayoutModel",
      "state": {}
     },
     "9e3df3dc4456424e91a078034bca5d03": {
      "model_module": "@jupyter-widgets/controls",
      "model_module_version": "2.0.0",
      "model_name": "SliderStyleModel",
      "state": {
       "description_width": ""
      }
     },
     "9e7160d6b4214dbca042a31fed6d684a": {
      "model_module": "@jupyter-widgets/controls",
      "model_module_version": "2.0.0",
      "model_name": "TextModel",
      "state": {
       "description": "Source",
       "layout": "IPY_MODEL_2366762393ef4d7781c3b62ca0075436",
       "placeholder": "Dataset URL",
       "style": "IPY_MODEL_cff1db6f498848eba883cc46c7231726",
       "value": "https://raw.githubusercontent.com/JetBrains/lets-plot-docs/master/data/mpg.csv"
      }
     },
     "9ee9fc3f4ff744f6b8aa5aa94e2f02bf": {
      "model_module": "@jupyter-widgets/controls",
      "model_module_version": "2.0.0",
      "model_name": "TextModel",
      "state": {
       "description": "Name",
       "layout": "IPY_MODEL_df06c816ead840e28b11f5ff0fad9901",
       "placeholder": "Dataset name",
       "style": "IPY_MODEL_2be2f5d330524ff9a868c2b9832c69b9",
       "value": "mpg"
      }
     },
     "9f18ee1513c34d199f0d33cc4f6b812e": {
      "model_module": "@jupyter-widgets/controls",
      "model_module_version": "2.0.0",
      "model_name": "SliderStyleModel",
      "state": {
       "description_width": ""
      }
     },
     "9f9e2ae8d45c47e992888b3c921aeb5d": {
      "model_module": "@jupyter-widgets/controls",
      "model_module_version": "2.0.0",
      "model_name": "TextModel",
      "state": {
       "description": "Name",
       "layout": "IPY_MODEL_37d5657a1e884ea98a29251666a3e574",
       "placeholder": "Dataset name",
       "style": "IPY_MODEL_1317dbfb82d441f79095d1d0eae7166b",
       "value": "mpg"
      }
     },
     "9fbfd34488ea4c2688f3e1435d8f6c6b": {
      "model_module": "@jupyter-widgets/base",
      "model_module_version": "2.0.0",
      "model_name": "LayoutModel",
      "state": {
       "align_items": "center",
       "display": "flex",
       "flex_flow": "column",
       "width": "50%"
      }
     },
     "a00c631c064a4118b4550a229e5a7854": {
      "model_module": "@jupyter-widgets/base",
      "model_module_version": "2.0.0",
      "model_name": "LayoutModel",
      "state": {}
     },
     "a09a063c3be948d8a46e9c1cfd694ac3": {
      "model_module": "@jupyter-widgets/controls",
      "model_module_version": "2.0.0",
      "model_name": "TextStyleModel",
      "state": {
       "description_width": "",
       "font_size": null,
       "text_color": null
      }
     },
     "a18e6b052b904260bdb6f208f524f04d": {
      "model_module": "@jupyter-widgets/controls",
      "model_module_version": "2.0.0",
      "model_name": "IntRangeSliderModel",
      "state": {
       "_model_name": "IntRangeSliderModel",
       "_view_name": "IntRangeSliderView",
       "behavior": "drag-tap",
       "description": "Plots count",
       "layout": "IPY_MODEL_515fe4eb800c406f852aca5f16ab8b74",
       "max": 10,
       "min": 1,
       "style": "IPY_MODEL_6a9832a0a95d409b8e38b6bad7614823",
       "value": [
        3,
        5
       ]
      }
     },
     "a2455d2aae06455ab99222ecdc3d2863": {
      "model_module": "@jupyter-widgets/controls",
      "model_module_version": "2.0.0",
      "model_name": "SliderStyleModel",
      "state": {
       "description_width": ""
      }
     },
     "a2f4252d1df8419c99656ba8d7c23870": {
      "model_module": "@jupyter-widgets/base",
      "model_module_version": "2.0.0",
      "model_name": "LayoutModel",
      "state": {}
     },
     "a3236cb15e43422ab37f7920e4b440f5": {
      "model_module": "@jupyter-widgets/controls",
      "model_module_version": "2.0.0",
      "model_name": "TextStyleModel",
      "state": {
       "description_width": "",
       "font_size": null,
       "text_color": null
      }
     },
     "a33fcfb1c85549b2ab10a5d495a07f97": {
      "model_module": "@jupyter-widgets/controls",
      "model_module_version": "2.0.0",
      "model_name": "TextStyleModel",
      "state": {
       "description_width": "",
       "font_size": null,
       "text_color": null
      }
     },
     "a40952f556774087b942ef01033965f8": {
      "model_module": "@jupyter-widgets/controls",
      "model_module_version": "2.0.0",
      "model_name": "DropdownModel",
      "state": {
       "_options_labels": [
        "case1",
        "case2",
        "case3"
       ],
       "index": 0,
       "layout": "IPY_MODEL_b082db6b97584cd48a668c7aa5c0f0d0",
       "style": "IPY_MODEL_516a7ec97bf440b190f8678abe133e02"
      }
     },
     "a4f709ae224944a28edce469b37d316b": {
      "model_module": "@jupyter-widgets/base",
      "model_module_version": "2.0.0",
      "model_name": "LayoutModel",
      "state": {}
     },
     "a51d5560acc2461ab1ea88a928f6fd9d": {
      "model_module": "@jupyter-widgets/controls",
      "model_module_version": "2.0.0",
      "model_name": "TextareaModel",
      "state": {
       "description": "GPT Input",
       "disabled": true,
       "layout": "IPY_MODEL_22d30130f57049189998de6546c237dc",
       "style": "IPY_MODEL_54526bc50fe94f89873767bbebce6d85",
       "value": "(5, 7)"
      }
     },
     "a57ca0635ef54318ae9977f4a1e616a7": {
      "model_module": "@jupyter-widgets/base",
      "model_module_version": "2.0.0",
      "model_name": "LayoutModel",
      "state": {}
     },
     "a58a992f921640849e7dc22c6a373d6a": {
      "model_module": "@jupyter-widgets/controls",
      "model_module_version": "2.0.0",
      "model_name": "SliderStyleModel",
      "state": {
       "description_width": ""
      }
     },
     "a594038d054f4996aaed274e73f2be56": {
      "model_module": "@jupyter-widgets/base",
      "model_module_version": "2.0.0",
      "model_name": "LayoutModel",
      "state": {
       "width": "75%"
      }
     },
     "a5a97e3c26f64ae19f80a9019eda355c": {
      "model_module": "@jupyter-widgets/base",
      "model_module_version": "2.0.0",
      "model_name": "LayoutModel",
      "state": {}
     },
     "a6246b97ebbe4b53b549bd3ea6d15818": {
      "model_module": "@jupyter-widgets/controls",
      "model_module_version": "2.0.0",
      "model_name": "TextareaModel",
      "state": {
       "description": "GPT Input",
       "disabled": true,
       "layout": "IPY_MODEL_50848b80a81a4cf3a7b11749e05e2e6e",
       "style": "IPY_MODEL_f94220df10754f49b03813a704cf8609",
       "value": "\nI want you to act as a data scientist.\n\nI have a dataset with the following columns:\n\"Unnamed: 0\" (int64)\n\"manufacturer\" (object)\n\"model\" (object)\n\"displ\" (float64)\n\"year\" (int64)\n\"cyl\" (int64)\n\"trans\" (object)\n\"drv\" (object)\n\"cty\" (int64)\n\"hwy\" (int64)\n\"fl\" (object)\n\"class\" (object)\n\nWrite code for data visualization and exploration. Build 3 to 5 plots on the dataset. Organize the code so that it is suitable for Jupiter notebook. Pay special attention to the columns that seem most interesting to you.\n\nFor visualization use the Lets-Plot library. Use `LetsPlot.setup_html()` before first occurrence of plot. Try not to use parameters that depends on data (such as 'binwidth'). Use a consistent style when choosing colors, sizes and so on.\n    "
      }
     },
     "a668888b4c544de19ff70d4c793942f7": {
      "model_module": "@jupyter-widgets/base",
      "model_module_version": "2.0.0",
      "model_name": "LayoutModel",
      "state": {}
     },
     "a68357bec5ed4f34899b55e58c4557ee": {
      "model_module": "@jupyter-widgets/controls",
      "model_module_version": "2.0.0",
      "model_name": "TextModel",
      "state": {
       "description": "Name",
       "layout": "IPY_MODEL_5c0d9ef3a5d24f0594615a460b96e7d7",
       "placeholder": "Dataset name",
       "style": "IPY_MODEL_b59e5bc7bd1d43d28853a960713a66bc"
      }
     },
     "a6bc964216304aa685ed00b685cc89e4": {
      "model_module": "@jupyter-widgets/controls",
      "model_module_version": "2.0.0",
      "model_name": "TextStyleModel",
      "state": {
       "description_width": "",
       "font_size": null,
       "text_color": null
      }
     },
     "a6eb86729ad3414aa092c13d2f1ceaf4": {
      "model_module": "@jupyter-widgets/controls",
      "model_module_version": "2.0.0",
      "model_name": "SliderStyleModel",
      "state": {
       "description_width": ""
      }
     },
     "a71fc95ac171449881dc4bd0ad21a6ad": {
      "model_module": "@jupyter-widgets/controls",
      "model_module_version": "2.0.0",
      "model_name": "TextStyleModel",
      "state": {
       "description_width": "",
       "font_size": null,
       "text_color": null
      }
     },
     "a7c1bf343d474960b5ba0051e60cfe09": {
      "model_module": "@jupyter-widgets/base",
      "model_module_version": "2.0.0",
      "model_name": "LayoutModel",
      "state": {}
     },
     "a937011fe56743ae9d52545372b8f8a2": {
      "model_module": "@jupyter-widgets/controls",
      "model_module_version": "2.0.0",
      "model_name": "IntRangeSliderModel",
      "state": {
       "_model_name": "IntRangeSliderModel",
       "_view_name": "IntRangeSliderView",
       "behavior": "drag-tap",
       "description": "Plots count",
       "layout": "IPY_MODEL_9b5dc3944cda42be9ffe640fbb91dd5f",
       "max": 10,
       "min": 1,
       "style": "IPY_MODEL_b68f442cbe9e41f2b85fb4ea58eedb6e",
       "value": [
        3,
        5
       ]
      }
     },
     "a97c58bc4cb349a19639ea19ca2fb8f6": {
      "model_module": "@jupyter-widgets/base",
      "model_module_version": "2.0.0",
      "model_name": "LayoutModel",
      "state": {}
     },
     "a97dd320853b49f485345b13c999bc33": {
      "model_module": "@jupyter-widgets/base",
      "model_module_version": "2.0.0",
      "model_name": "LayoutModel",
      "state": {}
     },
     "a98e02b9da23477a846cd2c46ec676eb": {
      "model_module": "@jupyter-widgets/controls",
      "model_module_version": "2.0.0",
      "model_name": "TextStyleModel",
      "state": {
       "description_width": "",
       "font_size": null,
       "text_color": null
      }
     },
     "aaca3675c5b44cb28f8c65abba759269": {
      "model_module": "@jupyter-widgets/controls",
      "model_module_version": "2.0.0",
      "model_name": "ButtonStyleModel",
      "state": {
       "font_family": null,
       "font_size": null,
       "font_style": null,
       "font_variant": null,
       "font_weight": null,
       "text_color": null,
       "text_decoration": null
      }
     },
     "ad2b41b6ed19499cbbf3e1982a64ce7f": {
      "model_module": "@jupyter-widgets/base",
      "model_module_version": "2.0.0",
      "model_name": "LayoutModel",
      "state": {}
     },
     "ae332ba7dd8d4810965946d066d01144": {
      "model_module": "@jupyter-widgets/controls",
      "model_module_version": "2.0.0",
      "model_name": "ButtonStyleModel",
      "state": {
       "font_family": null,
       "font_size": null,
       "font_style": null,
       "font_variant": null,
       "font_weight": null,
       "text_color": null,
       "text_decoration": null
      }
     },
     "ae3dfaefea554af9a720f73ad001804d": {
      "model_module": "@jupyter-widgets/controls",
      "model_module_version": "2.0.0",
      "model_name": "ButtonStyleModel",
      "state": {
       "font_family": null,
       "font_size": null,
       "font_style": null,
       "font_variant": null,
       "font_weight": null,
       "text_color": null,
       "text_decoration": null
      }
     },
     "ae4cd588652c473fb75ce4b28421fbff": {
      "model_module": "@jupyter-widgets/controls",
      "model_module_version": "2.0.0",
      "model_name": "TextStyleModel",
      "state": {
       "description_width": "",
       "font_size": null,
       "text_color": null
      }
     },
     "ae686f257c9447c3a92379b743163ff8": {
      "model_module": "@jupyter-widgets/controls",
      "model_module_version": "2.0.0",
      "model_name": "TextModel",
      "state": {
       "description": "Name",
       "layout": "IPY_MODEL_50848b80a81a4cf3a7b11749e05e2e6e",
       "placeholder": "Dataset name",
       "style": "IPY_MODEL_28d8d332d5c54dc89ecd6b75f7b8e406"
      }
     },
     "aea824ffcce64c55912ca079c51e3f4b": {
      "model_module": "@jupyter-widgets/controls",
      "model_module_version": "2.0.0",
      "model_name": "ButtonStyleModel",
      "state": {
       "font_family": null,
       "font_size": null,
       "font_style": null,
       "font_variant": null,
       "font_weight": null,
       "text_color": null,
       "text_decoration": null
      }
     },
     "b02c8f8972c14019834e23120666cbd8": {
      "model_module": "@jupyter-widgets/base",
      "model_module_version": "2.0.0",
      "model_name": "LayoutModel",
      "state": {
       "width": "75%"
      }
     },
     "b07ecba6ec9544ff862af72c35e8b012": {
      "model_module": "@jupyter-widgets/controls",
      "model_module_version": "2.0.0",
      "model_name": "ButtonModel",
      "state": {
       "description": "Get prompt",
       "layout": "IPY_MODEL_cb0c3b92051940a381aee8b6531b77f5",
       "style": "IPY_MODEL_ae332ba7dd8d4810965946d066d01144",
       "tooltip": null
      }
     },
     "b082db6b97584cd48a668c7aa5c0f0d0": {
      "model_module": "@jupyter-widgets/base",
      "model_module_version": "2.0.0",
      "model_name": "LayoutModel",
      "state": {}
     },
     "b105ddee992b40398883c172aee46918": {
      "model_module": "@jupyter-widgets/controls",
      "model_module_version": "2.0.0",
      "model_name": "ButtonModel",
      "state": {
       "description": "Get prompt",
       "layout": "IPY_MODEL_b339f852ccca495a90e65b91dd6c701b",
       "style": "IPY_MODEL_442884cbf607449d9221ee33f6b36764",
       "tooltip": null
      }
     },
     "b11fbf336c634abe89bbfd1df359aff2": {
      "model_module": "@jupyter-widgets/base",
      "model_module_version": "2.0.0",
      "model_name": "LayoutModel",
      "state": {}
     },
     "b15a2c9db5bc43b1aa1229dc35868a54": {
      "model_module": "@jupyter-widgets/controls",
      "model_module_version": "2.0.0",
      "model_name": "TextareaModel",
      "state": {
       "description": "GPT Input",
       "disabled": true,
       "layout": "IPY_MODEL_e3f47426f1aa491fa49155e9033cf7be",
       "style": "IPY_MODEL_959a5f384fae4f95a375e0e5e326a58f",
       "value": "(3, 5)"
      }
     },
     "b19aba0b1c8c40d5b06a2a9824e1e63f": {
      "model_module": "@jupyter-widgets/controls",
      "model_module_version": "2.0.0",
      "model_name": "ButtonStyleModel",
      "state": {
       "font_family": null,
       "font_size": null,
       "font_style": null,
       "font_variant": null,
       "font_weight": null,
       "text_color": null,
       "text_decoration": null
      }
     },
     "b1b081d671ad4e71a187c9acd1fb0e2c": {
      "model_module": "@jupyter-widgets/controls",
      "model_module_version": "2.0.0",
      "model_name": "SliderStyleModel",
      "state": {
       "description_width": ""
      }
     },
     "b20e1083ecdc47548d1aab1eaf6ea426": {
      "model_module": "@jupyter-widgets/base",
      "model_module_version": "2.0.0",
      "model_name": "LayoutModel",
      "state": {}
     },
     "b2619260128e439fb31c845eea2ebf59": {
      "model_module": "@jupyter-widgets/base",
      "model_module_version": "2.0.0",
      "model_name": "LayoutModel",
      "state": {
       "align_items": "center",
       "display": "flex",
       "flex_flow": "column",
       "width": "75%"
      }
     },
     "b32210b5c9f645519ecaab11323f527d": {
      "model_module": "@jupyter-widgets/controls",
      "model_module_version": "2.0.0",
      "model_name": "TextStyleModel",
      "state": {
       "description_width": "",
       "font_size": null,
       "text_color": null
      }
     },
     "b339f852ccca495a90e65b91dd6c701b": {
      "model_module": "@jupyter-widgets/base",
      "model_module_version": "2.0.0",
      "model_name": "LayoutModel",
      "state": {}
     },
     "b34113e3b2574f84847cff4ebdf77072": {
      "model_module": "@jupyter-widgets/base",
      "model_module_version": "2.0.0",
      "model_name": "LayoutModel",
      "state": {
       "width": "75%"
      }
     },
     "b400ab4c919e46ea9a2ba8f6f14d4d08": {
      "model_module": "@jupyter-widgets/controls",
      "model_module_version": "2.0.0",
      "model_name": "IntRangeSliderModel",
      "state": {
       "_model_name": "IntRangeSliderModel",
       "_view_name": "IntRangeSliderView",
       "behavior": "drag-tap",
       "description": "Plots count",
       "layout": "IPY_MODEL_6a9fa43bb6fa46ff908a053528d8c376",
       "max": 10,
       "min": 1,
       "style": "IPY_MODEL_bbd5533575464201abeef90ae5e4b75c",
       "value": [
        3,
        5
       ]
      }
     },
     "b41d46204e6a4a858ca716353003f657": {
      "model_module": "@jupyter-widgets/controls",
      "model_module_version": "2.0.0",
      "model_name": "IntRangeSliderModel",
      "state": {
       "_model_name": "IntRangeSliderModel",
       "_view_name": "IntRangeSliderView",
       "behavior": "drag-tap",
       "description": "Plots count",
       "layout": "IPY_MODEL_ad2b41b6ed19499cbbf3e1982a64ce7f",
       "max": 10,
       "min": 1,
       "style": "IPY_MODEL_130f4b43940e450aa23e35302446f38d",
       "value": [
        3,
        5
       ]
      }
     },
     "b59e5bc7bd1d43d28853a960713a66bc": {
      "model_module": "@jupyter-widgets/controls",
      "model_module_version": "2.0.0",
      "model_name": "TextStyleModel",
      "state": {
       "description_width": "",
       "font_size": null,
       "text_color": null
      }
     },
     "b68f442cbe9e41f2b85fb4ea58eedb6e": {
      "model_module": "@jupyter-widgets/controls",
      "model_module_version": "2.0.0",
      "model_name": "SliderStyleModel",
      "state": {
       "description_width": ""
      }
     },
     "b78a7cdb949048ed96d2df335bd4a38b": {
      "model_module": "@jupyter-widgets/controls",
      "model_module_version": "2.0.0",
      "model_name": "ButtonStyleModel",
      "state": {
       "font_family": null,
       "font_size": null,
       "font_style": null,
       "font_variant": null,
       "font_weight": null,
       "text_color": null,
       "text_decoration": null
      }
     },
     "b8742236e58c4e28bb3e0ad7deb8bfca": {
      "model_module": "@jupyter-widgets/controls",
      "model_module_version": "2.0.0",
      "model_name": "TextareaModel",
      "state": {
       "description": "GPT Input",
       "disabled": true,
       "layout": "IPY_MODEL_eef37bda44ca4a44980c15f74ff876e9",
       "style": "IPY_MODEL_5517921963b9464e82877c635caf7a3e",
       "value": "\nI want you to act as a data scientist.\n\nI have a dataset with the following columns:\n\"Unnamed: 0\" (int64)\n\"manufacturer\" (object)\n\"model\" (object)\n\"displ\" (float64)\n\"year\" (int64)\n\"cyl\" (int64)\n\"trans\" (object)\n\"drv\" (object)\n\"cty\" (int64)\n\"hwy\" (int64)\n\"fl\" (object)\n\"class\" (object)\n\nWrite code for data visualization and exploration. Build 3 to 5 plots on the dataset. Organize the code so that it is suitable for Jupiter notebook. Pay special attention to the columns that seem most interesting to you.\n\nFor visualization use the Lets-Plot library. Use `LetsPlot.setup_html()` before first occurrence of plot. Try not to use parameters that depends on data (such as 'binwidth'). Use a consistent style when choosing colors, sizes and so on.\n    "
      }
     },
     "b8d9cb734c494a00a4854e6b3fad3ea8": {
      "model_module": "@jupyter-widgets/controls",
      "model_module_version": "2.0.0",
      "model_name": "TextStyleModel",
      "state": {
       "description_width": "",
       "font_size": null,
       "text_color": null
      }
     },
     "b9073b204ca84d9c89e2bfab3acc1c14": {
      "model_module": "@jupyter-widgets/controls",
      "model_module_version": "2.0.0",
      "model_name": "ButtonModel",
      "state": {
       "description": "Click me",
       "layout": "IPY_MODEL_cb7c26fb1f914c4d9e9f7487d5bec55e",
       "style": "IPY_MODEL_4ebef2682b8c4f31ae40e43f08210c97",
       "tooltip": "Click me"
      }
     },
     "b9c46a3f21174ca0a6ee25dcd751f76a": {
      "model_module": "@jupyter-widgets/controls",
      "model_module_version": "2.0.0",
      "model_name": "ButtonStyleModel",
      "state": {
       "font_family": null,
       "font_size": null,
       "font_style": null,
       "font_variant": null,
       "font_weight": null,
       "text_color": null,
       "text_decoration": null
      }
     },
     "b9ed73a983804f03b352aa1e605425fd": {
      "model_module": "@jupyter-widgets/controls",
      "model_module_version": "2.0.0",
      "model_name": "ButtonStyleModel",
      "state": {
       "font_family": null,
       "font_size": null,
       "font_style": null,
       "font_variant": null,
       "font_weight": null,
       "text_color": null,
       "text_decoration": null
      }
     },
     "b9f9e2f186ab400e8598964836166569": {
      "model_module": "@jupyter-widgets/controls",
      "model_module_version": "2.0.0",
      "model_name": "SliderStyleModel",
      "state": {
       "description_width": ""
      }
     },
     "ba7bb9f7ed624713aaa99ba585f64eba": {
      "model_module": "@jupyter-widgets/controls",
      "model_module_version": "2.0.0",
      "model_name": "TextStyleModel",
      "state": {
       "description_width": "",
       "font_size": null,
       "text_color": null
      }
     },
     "bb09755b71e7480cadf791ad7b3dfffe": {
      "model_module": "@jupyter-widgets/controls",
      "model_module_version": "2.0.0",
      "model_name": "SliderStyleModel",
      "state": {
       "description_width": ""
      }
     },
     "bb7e90eb8fa24d5a961f1058efa95232": {
      "model_module": "@jupyter-widgets/base",
      "model_module_version": "2.0.0",
      "model_name": "LayoutModel",
      "state": {}
     },
     "bb9d0b13541545c3a377c6874deadb34": {
      "model_module": "@jupyter-widgets/base",
      "model_module_version": "2.0.0",
      "model_name": "LayoutModel",
      "state": {
       "width": "75%"
      }
     },
     "bbc951dbd27849e4bfd0fbfe6be63eaf": {
      "model_module": "@jupyter-widgets/controls",
      "model_module_version": "2.0.0",
      "model_name": "ButtonStyleModel",
      "state": {
       "font_family": null,
       "font_size": null,
       "font_style": null,
       "font_variant": null,
       "font_weight": null,
       "text_color": null,
       "text_decoration": null
      }
     },
     "bbd5533575464201abeef90ae5e4b75c": {
      "model_module": "@jupyter-widgets/controls",
      "model_module_version": "2.0.0",
      "model_name": "SliderStyleModel",
      "state": {
       "description_width": ""
      }
     },
     "bc5be94794c042afb9233f9427b37977": {
      "model_module": "@jupyter-widgets/controls",
      "model_module_version": "2.0.0",
      "model_name": "IntSliderModel",
      "state": {
       "behavior": "drag-tap",
       "description": "Plots count",
       "layout": "IPY_MODEL_ed8c2fa338cb4df0a98b25ba76d5d39b",
       "max": 10,
       "min": 1,
       "style": "IPY_MODEL_bb09755b71e7480cadf791ad7b3dfffe",
       "value": 3
      }
     },
     "bd373a017b2f4633851e06664e9f068b": {
      "model_module": "@jupyter-widgets/controls",
      "model_module_version": "2.0.0",
      "model_name": "ButtonModel",
      "state": {
       "description": "Get prompt",
       "layout": "IPY_MODEL_044fbb5a6f134cae9e4f8ff2818dec1d",
       "style": "IPY_MODEL_aaca3675c5b44cb28f8c65abba759269",
       "tooltip": null
      }
     },
     "bd95f5f7255a490eb963bae4717940ef": {
      "model_module": "@jupyter-widgets/controls",
      "model_module_version": "2.0.0",
      "model_name": "DropdownModel",
      "state": {
       "_options_labels": [
        "case1",
        "case2",
        "case3"
       ],
       "index": 0,
       "layout": "IPY_MODEL_c2903b37d0f1467fbd1338e739f730f4",
       "style": "IPY_MODEL_67fde41bf9a542dab0efb71ced08962d"
      }
     },
     "be16f36d555c4598ae85bfec44af483c": {
      "model_module": "@jupyter-widgets/base",
      "model_module_version": "2.0.0",
      "model_name": "LayoutModel",
      "state": {}
     },
     "be19b4490c574a16bb79af8bc8b1fdb0": {
      "model_module": "@jupyter-widgets/base",
      "model_module_version": "2.0.0",
      "model_name": "LayoutModel",
      "state": {}
     },
     "be612e2c0cd3437eb2f9be35cccc809a": {
      "model_module": "@jupyter-widgets/controls",
      "model_module_version": "2.0.0",
      "model_name": "SliderStyleModel",
      "state": {
       "description_width": ""
      }
     },
     "be9ad99fb8a24a118d5e01b35a5a896c": {
      "model_module": "@jupyter-widgets/controls",
      "model_module_version": "2.0.0",
      "model_name": "TextStyleModel",
      "state": {
       "description_width": "",
       "font_size": null,
       "text_color": null
      }
     },
     "bf37ee1428ec4ba6a629af299915b46a": {
      "model_module": "@jupyter-widgets/controls",
      "model_module_version": "2.0.0",
      "model_name": "ButtonStyleModel",
      "state": {
       "font_family": null,
       "font_size": null,
       "font_style": null,
       "font_variant": null,
       "font_weight": null,
       "text_color": null,
       "text_decoration": null
      }
     },
     "c02f0c1243424c8d8762d56b529e0901": {
      "model_module": "@jupyter-widgets/base",
      "model_module_version": "2.0.0",
      "model_name": "LayoutModel",
      "state": {}
     },
     "c06a1c0bc0a049a09676049c8c92fec7": {
      "model_module": "@jupyter-widgets/controls",
      "model_module_version": "2.0.0",
      "model_name": "TextareaModel",
      "state": {
       "description": "GPT Input",
       "disabled": true,
       "layout": "IPY_MODEL_e15c418cf8f545448a58ad4db019c7f1",
       "style": "IPY_MODEL_fc69b3b2e6434633b972cd233dae5df2",
       "value": "(3, 5)"
      }
     },
     "c0f8c4e3de3341c299c3d9a621864b01": {
      "model_module": "@jupyter-widgets/controls",
      "model_module_version": "2.0.0",
      "model_name": "TextStyleModel",
      "state": {
       "description_width": "",
       "font_size": null,
       "text_color": null
      }
     },
     "c2514f734f054998aa81e563f699dc7d": {
      "model_module": "@jupyter-widgets/controls",
      "model_module_version": "2.0.0",
      "model_name": "SliderStyleModel",
      "state": {
       "description_width": ""
      }
     },
     "c2903b37d0f1467fbd1338e739f730f4": {
      "model_module": "@jupyter-widgets/base",
      "model_module_version": "2.0.0",
      "model_name": "LayoutModel",
      "state": {}
     },
     "c35fed0367de46fcb9ec73dc38d6a439": {
      "model_module": "@jupyter-widgets/controls",
      "model_module_version": "2.0.0",
      "model_name": "ButtonModel",
      "state": {
       "description": "Get prompt",
       "layout": "IPY_MODEL_a5a97e3c26f64ae19f80a9019eda355c",
       "style": "IPY_MODEL_ff4a7f6f66a74425aea990096557bd33",
       "tooltip": null
      }
     },
     "c5554770644d40bf986eae7a74d72e72": {
      "model_module": "@jupyter-widgets/controls",
      "model_module_version": "2.0.0",
      "model_name": "ButtonStyleModel",
      "state": {
       "font_family": null,
       "font_size": null,
       "font_style": null,
       "font_variant": null,
       "font_weight": null,
       "text_color": null,
       "text_decoration": null
      }
     },
     "c593b05c36ed4a018231d0b7cbce787f": {
      "model_module": "@jupyter-widgets/controls",
      "model_module_version": "2.0.0",
      "model_name": "TextStyleModel",
      "state": {
       "description_width": "",
       "font_size": null,
       "text_color": null
      }
     },
     "c5a2c7d44bc0410b8688ed429d6fd12f": {
      "model_module": "@jupyter-widgets/controls",
      "model_module_version": "2.0.0",
      "model_name": "TextModel",
      "state": {
       "description": "Source",
       "layout": "IPY_MODEL_50848b80a81a4cf3a7b11749e05e2e6e",
       "placeholder": "Dataset URL",
       "style": "IPY_MODEL_d6d29950d0884809b766a92a5b84d40b",
       "value": "https://raw.githubusercontent.com/JetBrains/lets-plot-docs/master/data/mpg.csv"
      }
     },
     "c5daf2d26a2745f08a1baec9d78dbe5a": {
      "model_module": "@jupyter-widgets/controls",
      "model_module_version": "2.0.0",
      "model_name": "SliderStyleModel",
      "state": {
       "description_width": ""
      }
     },
     "c5e8b425d57b47ffbd87f82443cc0c31": {
      "model_module": "@jupyter-widgets/controls",
      "model_module_version": "2.0.0",
      "model_name": "TextStyleModel",
      "state": {
       "description_width": "",
       "font_size": null,
       "text_color": null
      }
     },
     "c60a765dc9fd4e538f35a4bd543ceb74": {
      "model_module": "@jupyter-widgets/controls",
      "model_module_version": "2.0.0",
      "model_name": "ButtonModel",
      "state": {
       "description": "Get prompt",
       "layout": "IPY_MODEL_b2619260128e439fb31c845eea2ebf59",
       "style": "IPY_MODEL_1394ee6512ff48bdb52456adfe5298cb",
       "tooltip": null
      }
     },
     "c62ff432386342aaa98e1bd7a131c044": {
      "model_module": "@jupyter-widgets/controls",
      "model_module_version": "2.0.0",
      "model_name": "TextareaModel",
      "state": {
       "description": "GPT Input",
       "disabled": true,
       "layout": "IPY_MODEL_584e0d49e34446cabe583a50b339f539",
       "style": "IPY_MODEL_1cfdf19784304bfeb391780fdd5ae8eb",
       "value": "(4, 4)"
      }
     },
     "c7a93d180bf04ed4b8c29f6310d4aaa0": {
      "model_module": "@jupyter-widgets/controls",
      "model_module_version": "2.0.0",
      "model_name": "TextStyleModel",
      "state": {
       "description_width": "",
       "font_size": null,
       "text_color": null
      }
     },
     "c8373d9c109e408384a90d2dcb2e2ff6": {
      "model_module": "@jupyter-widgets/base",
      "model_module_version": "2.0.0",
      "model_name": "LayoutModel",
      "state": {}
     },
     "c84cade31a654c8ab7a321985ddd0638": {
      "model_module": "@jupyter-widgets/controls",
      "model_module_version": "2.0.0",
      "model_name": "ButtonStyleModel",
      "state": {
       "font_family": null,
       "font_size": null,
       "font_style": null,
       "font_variant": null,
       "font_weight": null,
       "text_color": null,
       "text_decoration": null
      }
     },
     "c88c451ca8b1458caaeb0a323d094582": {
      "model_module": "@jupyter-widgets/controls",
      "model_module_version": "2.0.0",
      "model_name": "IntRangeSliderModel",
      "state": {
       "_model_name": "IntRangeSliderModel",
       "_view_name": "IntRangeSliderView",
       "behavior": "drag-tap",
       "description": "Plots count",
       "layout": "IPY_MODEL_c02f0c1243424c8d8762d56b529e0901",
       "max": 10,
       "min": 1,
       "style": "IPY_MODEL_82263770dc3b4660bbd17c9f214e3109",
       "value": [
        5,
        5
       ]
      }
     },
     "c8d1c49c8c7d4ff5be47c351a974c37b": {
      "model_module": "@jupyter-widgets/base",
      "model_module_version": "2.0.0",
      "model_name": "LayoutModel",
      "state": {
       "width": "75%"
      }
     },
     "cb0c3b92051940a381aee8b6531b77f5": {
      "model_module": "@jupyter-widgets/base",
      "model_module_version": "2.0.0",
      "model_name": "LayoutModel",
      "state": {}
     },
     "cb7c26fb1f914c4d9e9f7487d5bec55e": {
      "model_module": "@jupyter-widgets/base",
      "model_module_version": "2.0.0",
      "model_name": "LayoutModel",
      "state": {}
     },
     "cba5f8dba1fe4c019413a07ff21e50f9": {
      "model_module": "@jupyter-widgets/controls",
      "model_module_version": "2.0.0",
      "model_name": "IntRangeSliderModel",
      "state": {
       "_model_name": "IntRangeSliderModel",
       "_view_name": "IntRangeSliderView",
       "behavior": "drag-tap",
       "description": "Plots count",
       "layout": "IPY_MODEL_a594038d054f4996aaed274e73f2be56",
       "max": 20,
       "min": 1,
       "style": "IPY_MODEL_47384940095346cca802a4eaee2df6f3",
       "value": [
        3,
        5
       ]
      }
     },
     "ccc31ee6cbff4afabc3f94d7b6e98dea": {
      "model_module": "@jupyter-widgets/controls",
      "model_module_version": "2.0.0",
      "model_name": "ButtonStyleModel",
      "state": {
       "font_family": null,
       "font_size": null,
       "font_style": null,
       "font_variant": null,
       "font_weight": null,
       "text_color": null,
       "text_decoration": null
      }
     },
     "cce2f9b728a14c93b922aa67722c352b": {
      "model_module": "@jupyter-widgets/controls",
      "model_module_version": "2.0.0",
      "model_name": "ButtonModel",
      "state": {
       "description": "Get prompt",
       "layout": "IPY_MODEL_524e40abc41147f088ec4a0e7b61e1ae",
       "style": "IPY_MODEL_5ab49584795442fa991acb7ea1f313fc",
       "tooltip": null
      }
     },
     "cd484be0ba8a49d78abbc1d6e4185e9e": {
      "model_module": "@jupyter-widgets/controls",
      "model_module_version": "2.0.0",
      "model_name": "TextStyleModel",
      "state": {
       "description_width": "",
       "font_size": null,
       "text_color": null
      }
     },
     "cd535e0f08fc4ae1adc258449ba1ef90": {
      "model_module": "@jupyter-widgets/controls",
      "model_module_version": "2.0.0",
      "model_name": "IntRangeSliderModel",
      "state": {
       "_model_name": "IntRangeSliderModel",
       "_view_name": "IntRangeSliderView",
       "behavior": "drag-tap",
       "description": "Plots count",
       "layout": "IPY_MODEL_d5c8c8d0900241ad99e6d4202495dc40",
       "max": 10,
       "min": 1,
       "style": "IPY_MODEL_da32d73081a6429bb09ec45b30cd559a",
       "value": [
        3,
        5
       ]
      }
     },
     "ce9ff7dac0dc4817920ca4918ba12d89": {
      "model_module": "@jupyter-widgets/controls",
      "model_module_version": "2.0.0",
      "model_name": "TextStyleModel",
      "state": {
       "description_width": "",
       "font_size": null,
       "text_color": null
      }
     },
     "cf3a8c1e3a2643f193ca4e4d0d5057b4": {
      "model_module": "@jupyter-widgets/controls",
      "model_module_version": "2.0.0",
      "model_name": "SliderStyleModel",
      "state": {
       "description_width": ""
      }
     },
     "cff1db6f498848eba883cc46c7231726": {
      "model_module": "@jupyter-widgets/controls",
      "model_module_version": "2.0.0",
      "model_name": "TextStyleModel",
      "state": {
       "description_width": "",
       "font_size": null,
       "text_color": null
      }
     },
     "d0817fe95ae3410ea986ee4cba6ef4db": {
      "model_module": "@jupyter-widgets/controls",
      "model_module_version": "2.0.0",
      "model_name": "TextStyleModel",
      "state": {
       "description_width": "",
       "font_size": null,
       "text_color": null
      }
     },
     "d0d8b23de8784bc6a8cb7895eb8a334b": {
      "model_module": "@jupyter-widgets/controls",
      "model_module_version": "2.0.0",
      "model_name": "ButtonStyleModel",
      "state": {
       "font_family": null,
       "font_size": null,
       "font_style": null,
       "font_variant": null,
       "font_weight": null,
       "text_color": null,
       "text_decoration": null
      }
     },
     "d1077a74fd5c4ab6ba94a92b2d3c76b9": {
      "model_module": "@jupyter-widgets/controls",
      "model_module_version": "2.0.0",
      "model_name": "TextStyleModel",
      "state": {
       "description_width": "",
       "font_size": null,
       "text_color": null
      }
     },
     "d1f957c6fb9941169211213bcd6e7281": {
      "model_module": "@jupyter-widgets/controls",
      "model_module_version": "2.0.0",
      "model_name": "TextModel",
      "state": {
       "description": "Source",
       "layout": "IPY_MODEL_e6f5e1a077e54274a306f2cc67fa9116",
       "placeholder": "Dataset URL",
       "style": "IPY_MODEL_534af299d620493e935f34e46f06ddd0",
       "value": "https://raw.githubusercontent.com/JetBrains/lets-plot-docs/master/data/mpg.csv"
      }
     },
     "d23671ef84584a1bb4a20d21dba6f0dd": {
      "model_module": "@jupyter-widgets/controls",
      "model_module_version": "2.0.0",
      "model_name": "ButtonModel",
      "state": {
       "description": "Get prompt",
       "layout": "IPY_MODEL_9131f2797ed24362ad36cb9d8dd59d2b",
       "style": "IPY_MODEL_4a680827b76f4786b8c50faa7c4d978d",
       "tooltip": null
      }
     },
     "d24857b7cb564ba099c828809ee2ffce": {
      "model_module": "@jupyter-widgets/controls",
      "model_module_version": "2.0.0",
      "model_name": "TextStyleModel",
      "state": {
       "description_width": "",
       "font_size": null,
       "text_color": null
      }
     },
     "d2720106de504bd3956af4279ca6e463": {
      "model_module": "@jupyter-widgets/base",
      "model_module_version": "2.0.0",
      "model_name": "LayoutModel",
      "state": {}
     },
     "d3139a9305a64d90bc818e7b472f7bed": {
      "model_module": "@jupyter-widgets/controls",
      "model_module_version": "2.0.0",
      "model_name": "SliderStyleModel",
      "state": {
       "description_width": ""
      }
     },
     "d38ebf5a8b1049c2bf437cbf2f593074": {
      "model_module": "@jupyter-widgets/base",
      "model_module_version": "2.0.0",
      "model_name": "LayoutModel",
      "state": {
       "align_self": "center"
      }
     },
     "d3fe9c7489fa44d3899410b800ad9ceb": {
      "model_module": "@jupyter-widgets/controls",
      "model_module_version": "2.0.0",
      "model_name": "TextStyleModel",
      "state": {
       "description_width": "",
       "font_size": null,
       "text_color": null
      }
     },
     "d4ac8c66b5fb4285b221bb671fe8f176": {
      "model_module": "@jupyter-widgets/base",
      "model_module_version": "2.0.0",
      "model_name": "LayoutModel",
      "state": {}
     },
     "d4ad0733789c427384bbc7aa3e70d403": {
      "model_module": "@jupyter-widgets/base",
      "model_module_version": "2.0.0",
      "model_name": "LayoutModel",
      "state": {}
     },
     "d4d2b278ba0442eab56e8eb7383e7b7a": {
      "model_module": "@jupyter-widgets/base",
      "model_module_version": "2.0.0",
      "model_name": "LayoutModel",
      "state": {}
     },
     "d4d5d7c485a3435f99167d87f205af11": {
      "model_module": "@jupyter-widgets/controls",
      "model_module_version": "2.0.0",
      "model_name": "IntRangeSliderModel",
      "state": {
       "_model_name": "IntRangeSliderModel",
       "_view_name": "IntRangeSliderView",
       "behavior": "drag-tap",
       "description": "Plots count",
       "layout": "IPY_MODEL_03b6da79ef4a46c1bc680f7441a97e72",
       "max": 10,
       "min": 1,
       "style": "IPY_MODEL_3f1af427c30b4c8890917b261cd23c01",
       "value": [
        3,
        5
       ]
      }
     },
     "d544f69cb7164c3c9a50cf3a28a4e28f": {
      "model_module": "@jupyter-widgets/controls",
      "model_module_version": "2.0.0",
      "model_name": "IntRangeSliderModel",
      "state": {
       "_model_name": "IntRangeSliderModel",
       "_view_name": "IntRangeSliderView",
       "behavior": "drag-tap",
       "description": "Plots count",
       "layout": "IPY_MODEL_fd0adc12a1b048df975ee00914403cd0",
       "max": 10,
       "min": 1,
       "style": "IPY_MODEL_74384a67b8f54581b75e521c7ef8a0ab",
       "value": [
        3,
        7
       ]
      }
     },
     "d5a8460daf7a48b99ff899ce0b1ff151": {
      "model_module": "@jupyter-widgets/controls",
      "model_module_version": "2.0.0",
      "model_name": "TextStyleModel",
      "state": {
       "description_width": "",
       "font_size": null,
       "text_color": null
      }
     },
     "d5b88288e4f249638a5281bdfc2eeba2": {
      "model_module": "@jupyter-widgets/controls",
      "model_module_version": "2.0.0",
      "model_name": "IntRangeSliderModel",
      "state": {
       "_model_name": "IntRangeSliderModel",
       "_view_name": "IntRangeSliderView",
       "behavior": "drag-tap",
       "description": "Plots count",
       "layout": "IPY_MODEL_dd04cb9f7c7d4e76be8c1cba383112c7",
       "max": 10,
       "min": 1,
       "style": "IPY_MODEL_54695ee3a72f42fab148b0e062743ae8",
       "value": [
        3,
        5
       ]
      }
     },
     "d5c8c8d0900241ad99e6d4202495dc40": {
      "model_module": "@jupyter-widgets/base",
      "model_module_version": "2.0.0",
      "model_name": "LayoutModel",
      "state": {}
     },
     "d6940577c74e4786aacce284b0a57e6f": {
      "model_module": "@jupyter-widgets/controls",
      "model_module_version": "2.0.0",
      "model_name": "IntSliderModel",
      "state": {
       "behavior": "drag-tap",
       "layout": "IPY_MODEL_f4290513be3c442692e823cf8990e6f0",
       "max": 10,
       "min": 1,
       "style": "IPY_MODEL_a58a992f921640849e7dc22c6a373d6a",
       "value": 3
      }
     },
     "d69c3b13872644df80524ec7e6c1dd1f": {
      "model_module": "@jupyter-widgets/controls",
      "model_module_version": "2.0.0",
      "model_name": "TextStyleModel",
      "state": {
       "description_width": "",
       "font_size": null,
       "text_color": null
      }
     },
     "d6d29950d0884809b766a92a5b84d40b": {
      "model_module": "@jupyter-widgets/controls",
      "model_module_version": "2.0.0",
      "model_name": "TextStyleModel",
      "state": {
       "description_width": "",
       "font_size": null,
       "text_color": null
      }
     },
     "d8804ad4e71a407aa6cdeb147941897c": {
      "model_module": "@jupyter-widgets/controls",
      "model_module_version": "2.0.0",
      "model_name": "TextStyleModel",
      "state": {
       "description_width": "",
       "font_size": null,
       "text_color": null
      }
     },
     "d889f131562d4515b4dd0b9a51dc6ad8": {
      "model_module": "@jupyter-widgets/base",
      "model_module_version": "2.0.0",
      "model_name": "LayoutModel",
      "state": {
       "width": "75%"
      }
     },
     "d8a429ab87774329b4342c7fc913bf94": {
      "model_module": "@jupyter-widgets/controls",
      "model_module_version": "2.0.0",
      "model_name": "FloatSliderModel",
      "state": {
       "behavior": "drag-tap",
       "layout": "IPY_MODEL_b11fbf336c634abe89bbfd1df359aff2",
       "max": 7,
       "min": 3,
       "step": 0.23,
       "style": "IPY_MODEL_de11a9c45e104ecea1207ce67f3b5ccb",
       "value": 3.46
      }
     },
     "d8fa2d8801dc4014be08b8a23ddcce11": {
      "model_module": "@jupyter-widgets/base",
      "model_module_version": "2.0.0",
      "model_name": "LayoutModel",
      "state": {}
     },
     "d970dd23b9824cf0a62b1c5f52395e04": {
      "model_module": "@jupyter-widgets/controls",
      "model_module_version": "2.0.0",
      "model_name": "TextModel",
      "state": {
       "description": "Name",
       "layout": "IPY_MODEL_dd04cb9f7c7d4e76be8c1cba383112c7",
       "placeholder": "Dataset name",
       "style": "IPY_MODEL_8c0f16bf72a74a54aa4e3366e209d0e3"
      }
     },
     "d99cacbedeeb41319d4fc720bf3a2ff1": {
      "model_module": "@jupyter-widgets/controls",
      "model_module_version": "2.0.0",
      "model_name": "TextStyleModel",
      "state": {
       "description_width": "",
       "font_size": null,
       "text_color": null
      }
     },
     "da32d73081a6429bb09ec45b30cd559a": {
      "model_module": "@jupyter-widgets/controls",
      "model_module_version": "2.0.0",
      "model_name": "SliderStyleModel",
      "state": {
       "description_width": ""
      }
     },
     "db04ed4ef3304b7f97ada8d2f0290e64": {
      "model_module": "@jupyter-widgets/controls",
      "model_module_version": "2.0.0",
      "model_name": "TextStyleModel",
      "state": {
       "description_width": "",
       "font_size": null,
       "text_color": null
      }
     },
     "db22a14add034f0e98cbb5f532173404": {
      "model_module": "@jupyter-widgets/controls",
      "model_module_version": "2.0.0",
      "model_name": "TextStyleModel",
      "state": {
       "description_width": "",
       "font_size": null,
       "text_color": null
      }
     },
     "db4598e3112a4958a3363535b139112e": {
      "model_module": "@jupyter-widgets/controls",
      "model_module_version": "2.0.0",
      "model_name": "TextStyleModel",
      "state": {
       "description_width": "",
       "font_size": null,
       "text_color": null
      }
     },
     "db6265e6ba4c48508d46379f407c6352": {
      "model_module": "@jupyter-widgets/base",
      "model_module_version": "2.0.0",
      "model_name": "LayoutModel",
      "state": {}
     },
     "dbf49c83bc74448a847fba20e110788e": {
      "model_module": "@jupyter-widgets/controls",
      "model_module_version": "2.0.0",
      "model_name": "ButtonModel",
      "state": {
       "description": "Get prompt",
       "layout": "IPY_MODEL_9012402e28e145a9b8807543a254f01e",
       "style": "IPY_MODEL_08604e8f8a0e4b98a9cfebc9272a7a46",
       "tooltip": null
      }
     },
     "dc5637aaae3941c8ad15ea6570b9f2cd": {
      "model_module": "@jupyter-widgets/base",
      "model_module_version": "2.0.0",
      "model_name": "LayoutModel",
      "state": {}
     },
     "dd04cb9f7c7d4e76be8c1cba383112c7": {
      "model_module": "@jupyter-widgets/base",
      "model_module_version": "2.0.0",
      "model_name": "LayoutModel",
      "state": {
       "width": "75%"
      }
     },
     "dd10aba9607144c3a93c963b2fd6be3d": {
      "model_module": "@jupyter-widgets/controls",
      "model_module_version": "2.0.0",
      "model_name": "TextStyleModel",
      "state": {
       "description_width": "",
       "font_size": null,
       "text_color": null
      }
     },
     "dd1b08b1518d4b039083749a1fa0e5d5": {
      "model_module": "@jupyter-widgets/controls",
      "model_module_version": "2.0.0",
      "model_name": "TextStyleModel",
      "state": {
       "description_width": "",
       "font_size": null,
       "text_color": null
      }
     },
     "dd6838b6d06f45f0b294d3c680d6efec": {
      "model_module": "@jupyter-widgets/controls",
      "model_module_version": "2.0.0",
      "model_name": "IntRangeSliderModel",
      "state": {
       "_model_name": "IntRangeSliderModel",
       "_view_name": "IntRangeSliderView",
       "behavior": "drag-tap",
       "description": "Plots count",
       "layout": "IPY_MODEL_bb7e90eb8fa24d5a961f1058efa95232",
       "max": 10,
       "min": 1,
       "style": "IPY_MODEL_2f0cb2dd2ced4ecc8afb37a11fb737cc",
       "value": [
        3,
        5
       ]
      }
     },
     "dd7ae1b4bc4d47bc969b20cb8fac45ff": {
      "model_module": "@jupyter-widgets/controls",
      "model_module_version": "2.0.0",
      "model_name": "ButtonStyleModel",
      "state": {
       "font_family": null,
       "font_size": null,
       "font_style": null,
       "font_variant": null,
       "font_weight": null,
       "text_color": null,
       "text_decoration": null
      }
     },
     "ddaaa137d7d24ca08d4b0e425992e691": {
      "model_module": "@jupyter-widgets/controls",
      "model_module_version": "2.0.0",
      "model_name": "TextModel",
      "state": {
       "description": "Source",
       "layout": "IPY_MODEL_7445fce67d4d4599ae60af22f2124cfd",
       "placeholder": "Dataset URL",
       "style": "IPY_MODEL_0c650b5d63dc4fb49dd77dffe3302ae6",
       "value": "https://raw.githubusercontent.com/JetBrains/lets-plot-docs/master/data/mpg.csv"
      }
     },
     "de11a9c45e104ecea1207ce67f3b5ccb": {
      "model_module": "@jupyter-widgets/controls",
      "model_module_version": "2.0.0",
      "model_name": "SliderStyleModel",
      "state": {
       "description_width": ""
      }
     },
     "de597751ca394254a49a103a2f4dc1ac": {
      "model_module": "@jupyter-widgets/controls",
      "model_module_version": "2.0.0",
      "model_name": "TextStyleModel",
      "state": {
       "description_width": "",
       "font_size": null,
       "text_color": null
      }
     },
     "dec6cb15d6484f998bcbfd106c97950f": {
      "model_module": "@jupyter-widgets/base",
      "model_module_version": "2.0.0",
      "model_name": "LayoutModel",
      "state": {}
     },
     "dee47fa7bcd643deaab569ad62195ca9": {
      "model_module": "@jupyter-widgets/controls",
      "model_module_version": "2.0.0",
      "model_name": "IntRangeSliderModel",
      "state": {
       "_model_name": "IntRangeSliderModel",
       "_view_name": "IntRangeSliderView",
       "behavior": "drag-tap",
       "description": "Plots count",
       "layout": "IPY_MODEL_a668888b4c544de19ff70d4c793942f7",
       "max": 10,
       "min": 1,
       "style": "IPY_MODEL_cf3a8c1e3a2643f193ca4e4d0d5057b4",
       "value": [
        3,
        5
       ]
      }
     },
     "df06c816ead840e28b11f5ff0fad9901": {
      "model_module": "@jupyter-widgets/base",
      "model_module_version": "2.0.0",
      "model_name": "LayoutModel",
      "state": {
       "width": "75%"
      }
     },
     "dff3f1e67e714ffa8206d617e1bef9b4": {
      "model_module": "@jupyter-widgets/base",
      "model_module_version": "2.0.0",
      "model_name": "LayoutModel",
      "state": {}
     },
     "e09ff6c002fe43c2bd9781f653996a64": {
      "model_module": "@jupyter-widgets/controls",
      "model_module_version": "2.0.0",
      "model_name": "SliderStyleModel",
      "state": {
       "description_width": ""
      }
     },
     "e15c418cf8f545448a58ad4db019c7f1": {
      "model_module": "@jupyter-widgets/base",
      "model_module_version": "2.0.0",
      "model_name": "LayoutModel",
      "state": {}
     },
     "e1f2d85a0de54799aef27ccb84343640": {
      "model_module": "@jupyter-widgets/controls",
      "model_module_version": "2.0.0",
      "model_name": "ButtonStyleModel",
      "state": {
       "font_family": null,
       "font_size": null,
       "font_style": null,
       "font_variant": null,
       "font_weight": null,
       "text_color": null,
       "text_decoration": null
      }
     },
     "e21ab0104e9d496f8d14c7ef415cd48c": {
      "model_module": "@jupyter-widgets/controls",
      "model_module_version": "2.0.0",
      "model_name": "SliderStyleModel",
      "state": {
       "description_width": ""
      }
     },
     "e37746281ff74777adb6495db30a28df": {
      "model_module": "@jupyter-widgets/controls",
      "model_module_version": "2.0.0",
      "model_name": "TextareaModel",
      "state": {
       "description": "GPT Input",
       "disabled": true,
       "layout": "IPY_MODEL_dd04cb9f7c7d4e76be8c1cba383112c7",
       "style": "IPY_MODEL_dd10aba9607144c3a93c963b2fd6be3d",
       "value": "\nI want you to act as a data scientist.\n\nI have a dataset with the following columns:\n\"Unnamed: 0\" (int64)\n\"manufacturer\" (object)\n\"model\" (object)\n\"displ\" (float64)\n\"year\" (int64)\n\"cyl\" (int64)\n\"trans\" (object)\n\"drv\" (object)\n\"cty\" (int64)\n\"hwy\" (int64)\n\"fl\" (object)\n\"class\" (object)\n\nWrite code for data visualization and exploration. Build 3 to 5 plots on the dataset. Organize the code so that it is suitable for Jupiter notebook. Pay special attention to the columns that seem most interesting to you.\n\nFor visualization use the Lets-Plot library. Use `LetsPlot.setup_html()` before first occurrence of plot. Try not to use parameters that depends on data (such as 'binwidth'). Use a consistent style when choosing colors, sizes and so on.\n    "
      }
     },
     "e3f47426f1aa491fa49155e9033cf7be": {
      "model_module": "@jupyter-widgets/base",
      "model_module_version": "2.0.0",
      "model_name": "LayoutModel",
      "state": {}
     },
     "e43fb2327c1a45bfb6b014b32dedfd0c": {
      "model_module": "@jupyter-widgets/base",
      "model_module_version": "2.0.0",
      "model_name": "LayoutModel",
      "state": {
       "align_items": "center",
       "display": "flex",
       "flex_flow": "column",
       "width": "75%"
      }
     },
     "e4af2f2206864bd1af1f481d038c2c1f": {
      "model_module": "@jupyter-widgets/controls",
      "model_module_version": "2.0.0",
      "model_name": "TextStyleModel",
      "state": {
       "description_width": "",
       "font_size": null,
       "text_color": null
      }
     },
     "e4e5311e62f940afb0c677e87a2c2115": {
      "model_module": "@jupyter-widgets/controls",
      "model_module_version": "2.0.0",
      "model_name": "IntRangeSliderModel",
      "state": {
       "_model_name": "IntRangeSliderModel",
       "_view_name": "IntRangeSliderView",
       "behavior": "drag-tap",
       "description": "Plots count",
       "layout": "IPY_MODEL_5df64c76f0034b53943d70bcbbd75d3c",
       "max": 10,
       "min": 1,
       "style": "IPY_MODEL_6b0c0fb576274f51a065007350bdf1d7",
       "value": [
        3,
        5
       ]
      }
     },
     "e5224d1856dc4ded8c18d82c871d3d49": {
      "model_module": "@jupyter-widgets/controls",
      "model_module_version": "2.0.0",
      "model_name": "TextStyleModel",
      "state": {
       "description_width": "",
       "font_size": null,
       "text_color": null
      }
     },
     "e55e29b135fe470a8ec817514d46df1a": {
      "model_module": "@jupyter-widgets/controls",
      "model_module_version": "2.0.0",
      "model_name": "IntRangeSliderModel",
      "state": {
       "_model_name": "IntRangeSliderModel",
       "_view_name": "IntRangeSliderView",
       "behavior": "drag-tap",
       "description": "Plots count",
       "layout": "IPY_MODEL_50848b80a81a4cf3a7b11749e05e2e6e",
       "max": 10,
       "min": 1,
       "style": "IPY_MODEL_121a1f38077f421caa881a218f0b96e5",
       "value": [
        3,
        5
       ]
      }
     },
     "e5fa66749cf1445da88408079d4b136c": {
      "model_module": "@jupyter-widgets/controls",
      "model_module_version": "2.0.0",
      "model_name": "TextareaModel",
      "state": {
       "description": "GPT Input",
       "disabled": true,
       "layout": "IPY_MODEL_3738f244e6984666bca49f668775c847",
       "style": "IPY_MODEL_e4af2f2206864bd1af1f481d038c2c1f",
       "value": "\nI want you to act as a data scientist.\n\nI have a dataset with the following columns:\n\"Unnamed: 0\" (int64)\n\"manufacturer\" (object)\n\"model\" (object)\n\"displ\" (float64)\n\"year\" (int64)\n\"cyl\" (int64)\n\"trans\" (object)\n\"drv\" (object)\n\"cty\" (int64)\n\"hwy\" (int64)\n\"fl\" (object)\n\"class\" (object)\n\nWrite code for data visualization and exploration. Build 3 to 5 plots on the dataset. Organize the code so that it is suitable for Jupiter notebook. Pay special attention to the columns that seem most interesting to you.\n\nFor visualization use the Lets-Plot library. Use `LetsPlot.setup_html()` before first occurrence of plot. Try not to use parameters that depends on data (such as 'binwidth'). Use a consistent style when choosing colors, sizes and so on.\n    "
      }
     },
     "e65ebe56abbe41858e770eee4f0e8c24": {
      "model_module": "@jupyter-widgets/controls",
      "model_module_version": "2.0.0",
      "model_name": "ButtonModel",
      "state": {
       "description": "Get prompt",
       "layout": "IPY_MODEL_05b7b6b36fda449ab1e4cf5fa88e7b9d",
       "style": "IPY_MODEL_b78a7cdb949048ed96d2df335bd4a38b",
       "tooltip": null
      }
     },
     "e6f5e1a077e54274a306f2cc67fa9116": {
      "model_module": "@jupyter-widgets/base",
      "model_module_version": "2.0.0",
      "model_name": "LayoutModel",
      "state": {}
     },
     "e7fd956ac76c4af8b37daaf1145de145": {
      "model_module": "@jupyter-widgets/controls",
      "model_module_version": "2.0.0",
      "model_name": "ButtonModel",
      "state": {
       "description": "Get prompt",
       "layout": "IPY_MODEL_617f55c7bf2a42bfaf422d8d63dbb306",
       "style": "IPY_MODEL_ef4035e9dc8641048e6b5d66c3034dfa",
       "tooltip": null
      }
     },
     "e8621e864efd47ba80fcae58bdb8d9c5": {
      "model_module": "@jupyter-widgets/controls",
      "model_module_version": "2.0.0",
      "model_name": "TextModel",
      "state": {
       "description": "Source",
       "layout": "IPY_MODEL_3f7ba0a7a76e432cb1c862f3bb6205b5",
       "placeholder": "Dataset URL",
       "style": "IPY_MODEL_1110858083de4e43aaa6a227299969fd"
      }
     },
     "ea16d2f858324c78ac2e9bbde288363a": {
      "model_module": "@jupyter-widgets/controls",
      "model_module_version": "2.0.0",
      "model_name": "TextStyleModel",
      "state": {
       "description_width": "",
       "font_size": null,
       "text_color": null
      }
     },
     "eae84c9963a6482b8387507915693d1d": {
      "model_module": "@jupyter-widgets/controls",
      "model_module_version": "2.0.0",
      "model_name": "TextModel",
      "state": {
       "description": "Name",
       "layout": "IPY_MODEL_69f45a3e5a214b84a32a849aa097996b",
       "placeholder": "Dataset name",
       "style": "IPY_MODEL_a71fc95ac171449881dc4bd0ad21a6ad"
      }
     },
     "eb8eb34856a5461e8e71fe24c185c153": {
      "model_module": "@jupyter-widgets/controls",
      "model_module_version": "2.0.0",
      "model_name": "TextStyleModel",
      "state": {
       "description_width": "",
       "font_size": null,
       "text_color": null
      }
     },
     "eb9fed0b5a0e400195df67383601e7c1": {
      "model_module": "@jupyter-widgets/controls",
      "model_module_version": "2.0.0",
      "model_name": "ButtonModel",
      "state": {
       "description": "Get prompt",
       "layout": "IPY_MODEL_64ecce941014436290adeb611d216fbb",
       "style": "IPY_MODEL_68f3e3e77e1c4b12933a7850ccf7617a",
       "tooltip": null
      }
     },
     "ebb727fa00f14a4881e4ef5c6a6438f0": {
      "model_module": "@jupyter-widgets/controls",
      "model_module_version": "2.0.0",
      "model_name": "TextModel",
      "state": {
       "description": "Source",
       "layout": "IPY_MODEL_9da8102bf6ed4d3db6bf079baa915686",
       "placeholder": "Dataset URL",
       "style": "IPY_MODEL_4791f13348124cac867b4054b8c94470",
       "value": "https://raw.githubusercontent.com/JetBrains/lets-plot-docs/master/data/mpg.csv"
      }
     },
     "ec8222bf51b34ca68520eeeab57af18f": {
      "model_module": "@jupyter-widgets/controls",
      "model_module_version": "2.0.0",
      "model_name": "TextModel",
      "state": {
       "description": "Source",
       "layout": "IPY_MODEL_673b943ecb1c480abcdc9d303fb7474f",
       "placeholder": "Dataset URL",
       "style": "IPY_MODEL_7877220409ba4342808948c56b7a54cb",
       "value": "https://raw.githubusercontent.com/JetBrains/lets-plot-docs/master/data/mpg.csv"
      }
     },
     "ed134dafc9b24262b6293c9e0d83aa63": {
      "model_module": "@jupyter-widgets/controls",
      "model_module_version": "2.0.0",
      "model_name": "ButtonModel",
      "state": {
       "description": "Get prompt",
       "layout": "IPY_MODEL_d38ebf5a8b1049c2bf437cbf2f593074",
       "style": "IPY_MODEL_bbc951dbd27849e4bfd0fbfe6be63eaf",
       "tooltip": null
      }
     },
     "ed459d5fff534d2c9144c24f9d7ef411": {
      "model_module": "@jupyter-widgets/controls",
      "model_module_version": "2.0.0",
      "model_name": "IntRangeSliderModel",
      "state": {
       "_model_name": "IntRangeSliderModel",
       "_view_name": "IntRangeSliderView",
       "behavior": "drag-tap",
       "description": "Plots count",
       "layout": "IPY_MODEL_3738f244e6984666bca49f668775c847",
       "max": 20,
       "min": 1,
       "style": "IPY_MODEL_b1b081d671ad4e71a187c9acd1fb0e2c",
       "value": [
        3,
        5
       ]
      }
     },
     "ed8c2fa338cb4df0a98b25ba76d5d39b": {
      "model_module": "@jupyter-widgets/base",
      "model_module_version": "2.0.0",
      "model_name": "LayoutModel",
      "state": {}
     },
     "ee3e1fe6077f4e69ae0594732c5ed711": {
      "model_module": "@jupyter-widgets/base",
      "model_module_version": "2.0.0",
      "model_name": "LayoutModel",
      "state": {}
     },
     "ee4f005d310a48ea91548aa7532e9a91": {
      "model_module": "@jupyter-widgets/controls",
      "model_module_version": "2.0.0",
      "model_name": "ButtonStyleModel",
      "state": {
       "font_family": null,
       "font_size": null,
       "font_style": null,
       "font_variant": null,
       "font_weight": null,
       "text_color": null,
       "text_decoration": null
      }
     },
     "ee557068620e4046947f0605595f2886": {
      "model_module": "@jupyter-widgets/controls",
      "model_module_version": "2.0.0",
      "model_name": "TextStyleModel",
      "state": {
       "description_width": "",
       "font_size": null,
       "text_color": null
      }
     },
     "eeba0a1a58894a2d8eb2638050d6603d": {
      "model_module": "@jupyter-widgets/controls",
      "model_module_version": "2.0.0",
      "model_name": "ButtonModel",
      "state": {
       "description": "Click me",
       "layout": "IPY_MODEL_1ac3711499d447448bd05c0a682d47b4",
       "style": "IPY_MODEL_ae3dfaefea554af9a720f73ad001804d",
       "tooltip": "Click me"
      }
     },
     "eed9236977ca47e4af8add2582221df1": {
      "model_module": "@jupyter-widgets/controls",
      "model_module_version": "2.0.0",
      "model_name": "TextStyleModel",
      "state": {
       "description_width": "",
       "font_size": null,
       "text_color": null
      }
     },
     "eef37bda44ca4a44980c15f74ff876e9": {
      "model_module": "@jupyter-widgets/base",
      "model_module_version": "2.0.0",
      "model_name": "LayoutModel",
      "state": {}
     },
     "ef4035e9dc8641048e6b5d66c3034dfa": {
      "model_module": "@jupyter-widgets/controls",
      "model_module_version": "2.0.0",
      "model_name": "ButtonStyleModel",
      "state": {
       "font_family": null,
       "font_size": null,
       "font_style": null,
       "font_variant": null,
       "font_weight": null,
       "text_color": null,
       "text_decoration": null
      }
     },
     "f036de9eec284613b8afc4f961df59ae": {
      "model_module": "@jupyter-widgets/controls",
      "model_module_version": "2.0.0",
      "model_name": "TextStyleModel",
      "state": {
       "description_width": "",
       "font_size": null,
       "text_color": null
      }
     },
     "f08930c63d2545fc9627de7c548ec45e": {
      "model_module": "@jupyter-widgets/base",
      "model_module_version": "2.0.0",
      "model_name": "LayoutModel",
      "state": {
       "width": "75%"
      }
     },
     "f161ad57e6904df6be767f370777f2f3": {
      "model_module": "@jupyter-widgets/controls",
      "model_module_version": "2.0.0",
      "model_name": "TextStyleModel",
      "state": {
       "description_width": "",
       "font_size": null,
       "text_color": null
      }
     },
     "f1a2d890945948608c7e8e2778b4b40a": {
      "model_module": "@jupyter-widgets/base",
      "model_module_version": "2.0.0",
      "model_name": "LayoutModel",
      "state": {}
     },
     "f1c80bc15f034e6c8feff0ec0c550615": {
      "model_module": "@jupyter-widgets/base",
      "model_module_version": "2.0.0",
      "model_name": "LayoutModel",
      "state": {
       "width": "75%"
      }
     },
     "f1d63aca6e0d407fa0df063e4000b04b": {
      "model_module": "@jupyter-widgets/controls",
      "model_module_version": "2.0.0",
      "model_name": "TextModel",
      "state": {
       "description": "Source",
       "layout": "IPY_MODEL_4349158d4514458ebee9763ae6fa9f91",
       "placeholder": "Dataset URL",
       "style": "IPY_MODEL_105cf8818c244f39be915bd3e805066e",
       "value": "https://raw.githubusercontent.com/JetBrains/lets-plot-docs/master/data/mpg.csv"
      }
     },
     "f238983de9e34428b2fb9f1b0a3ef9db": {
      "model_module": "@jupyter-widgets/controls",
      "model_module_version": "2.0.0",
      "model_name": "TextModel",
      "state": {
       "description": "Name",
       "layout": "IPY_MODEL_c8d1c49c8c7d4ff5be47c351a974c37b",
       "placeholder": "Dataset name",
       "style": "IPY_MODEL_a3236cb15e43422ab37f7920e4b440f5"
      }
     },
     "f238de04c9e340718c0edf4c5c3692d2": {
      "model_module": "@jupyter-widgets/controls",
      "model_module_version": "2.0.0",
      "model_name": "IntRangeSliderModel",
      "state": {
       "_model_name": "IntRangeSliderModel",
       "_view_name": "IntRangeSliderView",
       "behavior": "drag-tap",
       "description": "Plots count",
       "layout": "IPY_MODEL_fca6f3a9a4af4d19bb6dd078d1311b01",
       "max": 10,
       "min": 1,
       "style": "IPY_MODEL_4fc291d60b63403c9f2000b4df5c1833",
       "value": [
        3,
        5
       ]
      }
     },
     "f34173c87fd543328db0d9c00bea0422": {
      "model_module": "@jupyter-widgets/controls",
      "model_module_version": "2.0.0",
      "model_name": "TextareaModel",
      "state": {
       "description": "GPT Input",
       "disabled": true,
       "layout": "IPY_MODEL_69f45a3e5a214b84a32a849aa097996b",
       "style": "IPY_MODEL_d8804ad4e71a407aa6cdeb147941897c",
       "value": "\nI want you to act as a data scientist.\n\nI have a dataset with the following columns:\n\"Unnamed: 0\" (int64)\n\"manufacturer\" (object)\n\"model\" (object)\n\"displ\" (float64)\n\"year\" (int64)\n\"cyl\" (int64)\n\"trans\" (object)\n\"drv\" (object)\n\"cty\" (int64)\n\"hwy\" (int64)\n\"fl\" (object)\n\"class\" (object)\n\nWrite code for data visualization and exploration. Build 3 to 5 plots on the dataset. Organize the code so that it is suitable for Jupiter notebook. Pay special attention to the columns that seem most interesting to you.\n\nFor visualization use the Lets-Plot library. Use `LetsPlot.setup_html()` before first occurrence of plot. Try not to use parameters that depends on data (such as 'binwidth'). Use a consistent style when choosing colors, sizes and so on.\n    "
      }
     },
     "f3a198c215fa4f14adcd5c8ff52e09ba": {
      "model_module": "@jupyter-widgets/base",
      "model_module_version": "2.0.0",
      "model_name": "LayoutModel",
      "state": {
       "width": "50%"
      }
     },
     "f4290513be3c442692e823cf8990e6f0": {
      "model_module": "@jupyter-widgets/base",
      "model_module_version": "2.0.0",
      "model_name": "LayoutModel",
      "state": {}
     },
     "f52c1b7eafb74b86ac991cef1aa22fcf": {
      "model_module": "@jupyter-widgets/controls",
      "model_module_version": "2.0.0",
      "model_name": "ButtonModel",
      "state": {
       "description": "Get prompt",
       "layout": "IPY_MODEL_f5f43d1d65d146fdb7e56ee52cfdb10d",
       "style": "IPY_MODEL_c84cade31a654c8ab7a321985ddd0638",
       "tooltip": null
      }
     },
     "f5551d0c3b064565a90e15a09f60fc2a": {
      "model_module": "@jupyter-widgets/controls",
      "model_module_version": "2.0.0",
      "model_name": "TextModel",
      "state": {
       "description": "Source",
       "layout": "IPY_MODEL_9c5ebd60a63f4ff6980a8e3290f4999b",
       "placeholder": "Dataset URL",
       "style": "IPY_MODEL_ae4cd588652c473fb75ce4b28421fbff"
      }
     },
     "f5f43d1d65d146fdb7e56ee52cfdb10d": {
      "model_module": "@jupyter-widgets/base",
      "model_module_version": "2.0.0",
      "model_name": "LayoutModel",
      "state": {}
     },
     "f65a8587ece64d00bc5ed92033719a28": {
      "model_module": "@jupyter-widgets/controls",
      "model_module_version": "2.0.0",
      "model_name": "SliderStyleModel",
      "state": {
       "description_width": ""
      }
     },
     "f68101e112014a899d1ea0cf9c7cbda4": {
      "model_module": "@jupyter-widgets/controls",
      "model_module_version": "2.0.0",
      "model_name": "TextStyleModel",
      "state": {
       "description_width": "",
       "font_size": null,
       "text_color": null
      }
     },
     "f68dedacb6cf44c8b3543318d7b43931": {
      "model_module": "@jupyter-widgets/controls",
      "model_module_version": "2.0.0",
      "model_name": "IntRangeSliderModel",
      "state": {
       "_model_name": "IntRangeSliderModel",
       "_view_name": "IntRangeSliderView",
       "behavior": "drag-tap",
       "description": "Plots count",
       "layout": "IPY_MODEL_6481f9a243484969a385a6b89985e429",
       "max": 10,
       "min": 1,
       "style": "IPY_MODEL_c5daf2d26a2745f08a1baec9d78dbe5a",
       "value": [
        3,
        5
       ]
      }
     },
     "f71e914f332048768b96f92aec1ad503": {
      "model_module": "@jupyter-widgets/controls",
      "model_module_version": "2.0.0",
      "model_name": "TextStyleModel",
      "state": {
       "description_width": "",
       "font_size": null,
       "text_color": null
      }
     },
     "f80151ba9122447383126044d28a9c6f": {
      "model_module": "@jupyter-widgets/controls",
      "model_module_version": "2.0.0",
      "model_name": "ButtonModel",
      "state": {
       "description": "Get prompt",
       "layout": "IPY_MODEL_9fbfd34488ea4c2688f3e1435d8f6c6b",
       "style": "IPY_MODEL_d0d8b23de8784bc6a8cb7895eb8a334b",
       "tooltip": null
      }
     },
     "f94220df10754f49b03813a704cf8609": {
      "model_module": "@jupyter-widgets/controls",
      "model_module_version": "2.0.0",
      "model_name": "TextStyleModel",
      "state": {
       "description_width": "",
       "font_size": null,
       "text_color": null
      }
     },
     "fab518215aa44288aa9571f5a225fe2d": {
      "model_module": "@jupyter-widgets/controls",
      "model_module_version": "2.0.0",
      "model_name": "TextStyleModel",
      "state": {
       "description_width": "",
       "font_size": null,
       "text_color": null
      }
     },
     "fb0ca2b85ce74787ab9b3c55bcab6d6f": {
      "model_module": "@jupyter-widgets/controls",
      "model_module_version": "2.0.0",
      "model_name": "TextStyleModel",
      "state": {
       "description_width": "",
       "font_size": null,
       "text_color": null
      }
     },
     "fc2a6e206d654acaae370f428dda5ecd": {
      "model_module": "@jupyter-widgets/controls",
      "model_module_version": "2.0.0",
      "model_name": "TextareaModel",
      "state": {
       "description": "GPT Input",
       "disabled": true,
       "layout": "IPY_MODEL_a97c58bc4cb349a19639ea19ca2fb8f6",
       "style": "IPY_MODEL_6769638716e948b48f385f73d10ecfb5",
       "value": "I want you to act as a data scientist.\n\nI have a dataset with the following columns:\n\"Unnamed: 0\" (int64)\n\"manufacturer\" (object)\n\"model\" (object)\n\"displ\" (float64)\n\"year\" (int64)\n\"cyl\" (int64)\n\"trans\" (object)\n\"drv\" (object)\n\"cty\" (int64)\n\"hwy\" (int64)\n\"fl\" (object)\n\"class\" (object)\n\nWrite code for data visualization and exploration. Build 3 to 5 plots on the dataset. Organize the code so that it is suitable for Jupiter notebook. Pay special attention to the columns that seem most interesting to you.\n\nFor visualization use the Lets-Plot library. Use `LetsPlot.setup_html()` before first occurrence of plot. Try not to use parameters that depends on data (such as 'binwidth'). Use a consistent style when choosing colors, sizes and so on."
      }
     },
     "fc5f54aa3963434baf9565573d7a3b29": {
      "model_module": "@jupyter-widgets/controls",
      "model_module_version": "2.0.0",
      "model_name": "TextModel",
      "state": {
       "description": "Source",
       "layout": "IPY_MODEL_2fc04e9ffec044169e64a9fe37105e74",
       "placeholder": "Dataset URL",
       "style": "IPY_MODEL_73ee6ca8ddfc40f881e0b11095ed7606"
      }
     },
     "fc69b3b2e6434633b972cd233dae5df2": {
      "model_module": "@jupyter-widgets/controls",
      "model_module_version": "2.0.0",
      "model_name": "TextStyleModel",
      "state": {
       "description_width": "",
       "font_size": null,
       "text_color": null
      }
     },
     "fca6f3a9a4af4d19bb6dd078d1311b01": {
      "model_module": "@jupyter-widgets/base",
      "model_module_version": "2.0.0",
      "model_name": "LayoutModel",
      "state": {
       "width": "75%"
      }
     },
     "fcc7df86218241bb8bc75d87dca1ad73": {
      "model_module": "@jupyter-widgets/base",
      "model_module_version": "2.0.0",
      "model_name": "LayoutModel",
      "state": {}
     },
     "fd001d68bca44442868e65638f2eba7d": {
      "model_module": "@jupyter-widgets/base",
      "model_module_version": "2.0.0",
      "model_name": "LayoutModel",
      "state": {}
     },
     "fd0adc12a1b048df975ee00914403cd0": {
      "model_module": "@jupyter-widgets/base",
      "model_module_version": "2.0.0",
      "model_name": "LayoutModel",
      "state": {}
     },
     "fd7c6c4a38ec4b2e9aff73c2d0c3efd9": {
      "model_module": "@jupyter-widgets/controls",
      "model_module_version": "2.0.0",
      "model_name": "IntRangeSliderModel",
      "state": {
       "_model_name": "IntRangeSliderModel",
       "_view_name": "IntRangeSliderView",
       "behavior": "drag-tap",
       "description": "Plots count",
       "layout": "IPY_MODEL_30da25beff9a42c69cef9278dd39b3e8",
       "max": 10,
       "min": 1,
       "style": "IPY_MODEL_9e3df3dc4456424e91a078034bca5d03",
       "value": [
        3,
        5
       ]
      }
     },
     "fda0c2def69a46fe9b9ebd705d5300aa": {
      "model_module": "@jupyter-widgets/base",
      "model_module_version": "2.0.0",
      "model_name": "LayoutModel",
      "state": {}
     },
     "fdb35c1a275943d180e841da0d16e32b": {
      "model_module": "@jupyter-widgets/controls",
      "model_module_version": "2.0.0",
      "model_name": "FloatSliderModel",
      "state": {
       "behavior": "drag-tap",
       "layout": "IPY_MODEL_8c14a6c3aebb445d87d1726ed6131cb3",
       "max": 7,
       "min": 3,
       "step": 0.23,
       "style": "IPY_MODEL_91ee2d0050ba444491c06cde83df85f4",
       "value": 3.46
      }
     },
     "fde04d581dc2403b92fed357bff1883c": {
      "model_module": "@jupyter-widgets/base",
      "model_module_version": "2.0.0",
      "model_name": "LayoutModel",
      "state": {}
     },
     "fe2a5ff282fb4144a1936aaef8d6a069": {
      "model_module": "@jupyter-widgets/controls",
      "model_module_version": "2.0.0",
      "model_name": "TextModel",
      "state": {
       "description": "Source",
       "layout": "IPY_MODEL_6934acf49dff478fbcb90d50b3435466",
       "placeholder": "Dataset URL",
       "style": "IPY_MODEL_dd1b08b1518d4b039083749a1fa0e5d5"
      }
     },
     "fe392c22fccf4061ab859ff5aeeee21d": {
      "model_module": "@jupyter-widgets/controls",
      "model_module_version": "2.0.0",
      "model_name": "SliderStyleModel",
      "state": {
       "description_width": ""
      }
     },
     "fe9b2f4a76544573ba11d9abf73b532a": {
      "model_module": "@jupyter-widgets/base",
      "model_module_version": "2.0.0",
      "model_name": "LayoutModel",
      "state": {}
     },
     "ff4a7f6f66a74425aea990096557bd33": {
      "model_module": "@jupyter-widgets/controls",
      "model_module_version": "2.0.0",
      "model_name": "ButtonStyleModel",
      "state": {
       "font_family": null,
       "font_size": null,
       "font_style": null,
       "font_variant": null,
       "font_weight": null,
       "text_color": null,
       "text_decoration": null
      }
     },
     "ff6c9e8979d44cc19366e5623ae17f12": {
      "model_module": "@jupyter-widgets/controls",
      "model_module_version": "2.0.0",
      "model_name": "SliderStyleModel",
      "state": {
       "description_width": ""
      }
     }
    },
    "version_major": 2,
    "version_minor": 0
   }
  }
 },
 "nbformat": 4,
 "nbformat_minor": 5
}
