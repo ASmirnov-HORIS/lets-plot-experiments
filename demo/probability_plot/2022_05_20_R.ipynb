{
 "cells": [
  {
   "cell_type": "markdown",
   "id": "7b39be0c",
   "metadata": {},
   "source": [
    "# Как в ggplot2 работает geom_qq()"
   ]
  },
  {
   "cell_type": "markdown",
   "id": "4f7e3ec2",
   "metadata": {},
   "source": [
    "### Подготовка"
   ]
  },
  {
   "cell_type": "code",
   "execution_count": 1,
   "id": "a7679bd2",
   "metadata": {},
   "outputs": [
    {
     "name": "stderr",
     "output_type": "stream",
     "text": [
      "Registered S3 methods overwritten by 'ggplot2':\n",
      "  method         from \n",
      "  [.quosures     rlang\n",
      "  c.quosures     rlang\n",
      "  print.quosures rlang\n"
     ]
    }
   ],
   "source": [
    "library(ggplot2)"
   ]
  },
  {
   "cell_type": "code",
   "execution_count": 2,
   "id": "6eb21e25",
   "metadata": {},
   "outputs": [
    {
     "data": {
      "text/html": [
       "<table>\n",
       "<thead><tr><th scope=col>Sepal.Length</th><th scope=col>Sepal.Width</th><th scope=col>Petal.Length</th><th scope=col>Petal.Width</th><th scope=col>Species</th></tr></thead>\n",
       "<tbody>\n",
       "\t<tr><td>5.1   </td><td>3.5   </td><td>1.4   </td><td>0.2   </td><td>setosa</td></tr>\n",
       "\t<tr><td>4.9   </td><td>3.0   </td><td>1.4   </td><td>0.2   </td><td>setosa</td></tr>\n",
       "\t<tr><td>4.7   </td><td>3.2   </td><td>1.3   </td><td>0.2   </td><td>setosa</td></tr>\n",
       "</tbody>\n",
       "</table>\n"
      ],
      "text/latex": [
       "\\begin{tabular}{r|lllll}\n",
       " Sepal.Length & Sepal.Width & Petal.Length & Petal.Width & Species\\\\\n",
       "\\hline\n",
       "\t 5.1    & 3.5    & 1.4    & 0.2    & setosa\\\\\n",
       "\t 4.9    & 3.0    & 1.4    & 0.2    & setosa\\\\\n",
       "\t 4.7    & 3.2    & 1.3    & 0.2    & setosa\\\\\n",
       "\\end{tabular}\n"
      ],
      "text/markdown": [
       "\n",
       "| Sepal.Length | Sepal.Width | Petal.Length | Petal.Width | Species |\n",
       "|---|---|---|---|---|\n",
       "| 5.1    | 3.5    | 1.4    | 0.2    | setosa |\n",
       "| 4.9    | 3.0    | 1.4    | 0.2    | setosa |\n",
       "| 4.7    | 3.2    | 1.3    | 0.2    | setosa |\n",
       "\n"
      ],
      "text/plain": [
       "  Sepal.Length Sepal.Width Petal.Length Petal.Width Species\n",
       "1 5.1          3.5         1.4          0.2         setosa \n",
       "2 4.9          3.0         1.4          0.2         setosa \n",
       "3 4.7          3.2         1.3          0.2         setosa "
      ]
     },
     "metadata": {},
     "output_type": "display_data"
    }
   ],
   "source": [
    "head(iris, 3)"
   ]
  },
  {
   "cell_type": "markdown",
   "id": "64a05cc1",
   "metadata": {},
   "source": [
    "### Квантили данных против квантилей теоретического распределения"
   ]
  },
  {
   "cell_type": "code",
   "execution_count": 3,
   "id": "30acedc0",
   "metadata": {},
   "outputs": [
    {
     "data": {
      "image/png": "[encoded data removed]",
      "text/plain": [
       "plot without title"
      ]
     },
     "metadata": {},
     "output_type": "display_data"
    }
   ],
   "source": [
    "ggplot(iris, aes(sample = Sepal.Length)) + geom_qq()"
   ]
  },
  {
   "cell_type": "markdown",
   "id": "ac19e0c3",
   "metadata": {},
   "source": [
    "### Квантили двух столбцов данных"
   ]
  },
  {
   "cell_type": "markdown",
   "id": "e9da35f2",
   "metadata": {},
   "source": [
    "##### Ожидание: как оно должно работать (имитация в `geom_point()`)"
   ]
  },
  {
   "cell_type": "code",
   "execution_count": 4,
   "id": "1e89aae3",
   "metadata": {},
   "outputs": [
    {
     "data": {
      "image/png": "[encoded data removed]",
      "text/plain": [
       "plot without title"
      ]
     },
     "metadata": {},
     "output_type": "display_data"
    }
   ],
   "source": [
    "ggplot(iris, aes(x = sort(Sepal.Width), y = sort(Sepal.Length))) + geom_point()"
   ]
  },
  {
   "cell_type": "markdown",
   "id": "9534205f",
   "metadata": {},
   "source": [
    "##### Попытка №1."
   ]
  },
  {
   "cell_type": "code",
   "execution_count": 5,
   "id": "cf31aee9",
   "metadata": {},
   "outputs": [
    {
     "name": "stderr",
     "output_type": "stream",
     "text": [
      "ERROR while rich displaying an object: Error: geom_point requires the following missing aesthetics: x\n",
      "\n",
      "Traceback:\n",
      "1. FUN(X[[i]], ...)\n",
      "2. tryCatch(withCallingHandlers({\n",
      " .     if (!mime %in% names(repr::mime2repr)) \n",
      " .         stop(\"No repr_* for mimetype \", mime, \" in repr::mime2repr\")\n",
      " .     rpr <- repr::mime2repr[[mime]](obj)\n",
      " .     if (is.null(rpr)) \n",
      " .         return(NULL)\n",
      " .     prepare_content(is.raw(rpr), rpr)\n",
      " . }, error = error_handler), error = outer_handler)\n",
      "3. tryCatchList(expr, classes, parentenv, handlers)\n",
      "4. tryCatchOne(expr, names, parentenv, handlers[[1L]])\n",
      "5. doTryCatch(return(expr), name, parentenv, handler)\n",
      "6. withCallingHandlers({\n",
      " .     if (!mime %in% names(repr::mime2repr)) \n",
      " .         stop(\"No repr_* for mimetype \", mime, \" in repr::mime2repr\")\n",
      " .     rpr <- repr::mime2repr[[mime]](obj)\n",
      " .     if (is.null(rpr)) \n",
      " .         return(NULL)\n",
      " .     prepare_content(is.raw(rpr), rpr)\n",
      " . }, error = error_handler)\n",
      "7. repr::mime2repr[[mime]](obj)\n",
      "8. repr_text.default(obj)\n",
      "9. paste(capture.output(print(obj)), collapse = \"\\n\")\n",
      "10. capture.output(print(obj))\n",
      "11. evalVis(expr)\n",
      "12. withVisible(eval(expr, pf))\n",
      "13. eval(expr, pf)\n",
      "14. eval(expr, pf)\n",
      "15. print(obj)\n",
      "16. print.ggplot(obj)\n",
      "17. ggplot_build(x)\n",
      "18. ggplot_build.ggplot(x)\n",
      "19. by_layer(function(l, d) l$compute_geom_1(d))\n",
      "20. f(l = layers[[i]], d = data[[i]])\n",
      "21. l$compute_geom_1(d)\n",
      "22. f(..., self = self)\n",
      "23. check_required_aesthetics(self$geom$required_aes, c(names(data), \n",
      "  .     names(self$aes_params)), snake_class(self$geom))\n",
      "24. stop(name, \" requires the following missing aesthetics: \", paste(missing_aes, \n",
      "  .     collapse = \", \"), call. = FALSE)\n"
     ]
    },
    {
     "data": {
      "image/png": "[encoded data removed]",
      "text/plain": [
       "plot without title"
      ]
     },
     "metadata": {},
     "output_type": "display_data"
    }
   ],
   "source": [
    "ggplot(iris) + geom_qq(aes(x = Sepal.Width, sample = Sepal.Length))"
   ]
  },
  {
   "cell_type": "markdown",
   "id": "9c6f3e0f",
   "metadata": {},
   "source": [
    "##### Попытка №2."
   ]
  },
  {
   "cell_type": "code",
   "execution_count": 6,
   "id": "de17556f",
   "metadata": {},
   "outputs": [
    {
     "name": "stderr",
     "output_type": "stream",
     "text": [
      "ERROR while rich displaying an object: Error: stat_qq requires the following missing aesthetics: sample\n",
      "\n",
      "Traceback:\n",
      "1. FUN(X[[i]], ...)\n",
      "2. tryCatch(withCallingHandlers({\n",
      " .     if (!mime %in% names(repr::mime2repr)) \n",
      " .         stop(\"No repr_* for mimetype \", mime, \" in repr::mime2repr\")\n",
      " .     rpr <- repr::mime2repr[[mime]](obj)\n",
      " .     if (is.null(rpr)) \n",
      " .         return(NULL)\n",
      " .     prepare_content(is.raw(rpr), rpr)\n",
      " . }, error = error_handler), error = outer_handler)\n",
      "3. tryCatchList(expr, classes, parentenv, handlers)\n",
      "4. tryCatchOne(expr, names, parentenv, handlers[[1L]])\n",
      "5. doTryCatch(return(expr), name, parentenv, handler)\n",
      "6. withCallingHandlers({\n",
      " .     if (!mime %in% names(repr::mime2repr)) \n",
      " .         stop(\"No repr_* for mimetype \", mime, \" in repr::mime2repr\")\n",
      " .     rpr <- repr::mime2repr[[mime]](obj)\n",
      " .     if (is.null(rpr)) \n",
      " .         return(NULL)\n",
      " .     prepare_content(is.raw(rpr), rpr)\n",
      " . }, error = error_handler)\n",
      "7. repr::mime2repr[[mime]](obj)\n",
      "8. repr_text.default(obj)\n",
      "9. paste(capture.output(print(obj)), collapse = \"\\n\")\n",
      "10. capture.output(print(obj))\n",
      "11. evalVis(expr)\n",
      "12. withVisible(eval(expr, pf))\n",
      "13. eval(expr, pf)\n",
      "14. eval(expr, pf)\n",
      "15. print(obj)\n",
      "16. print.ggplot(obj)\n",
      "17. ggplot_build(x)\n",
      "18. ggplot_build.ggplot(x)\n",
      "19. by_layer(function(l, d) l$compute_statistic(d, layout))\n",
      "20. f(l = layers[[i]], d = data[[i]])\n",
      "21. l$compute_statistic(d, layout)\n",
      "22. f(..., self = self)\n",
      "23. self$stat$compute_layer(data, params, layout)\n",
      "24. f(..., self = self)\n",
      "25. check_required_aesthetics(self$required_aes, c(names(data), names(params)), \n",
      "  .     snake_class(self))\n",
      "26. stop(name, \" requires the following missing aesthetics: \", paste(missing_aes, \n",
      "  .     collapse = \", \"), call. = FALSE)\n"
     ]
    },
    {
     "data": {
      "image/png": "[encoded data removed]",
      "text/plain": [
       "plot without title"
      ]
     },
     "metadata": {},
     "output_type": "display_data"
    }
   ],
   "source": [
    "ggplot(iris) + geom_qq(aes(x = Sepal.Width, y = Sepal.Length))"
   ]
  },
  {
   "cell_type": "markdown",
   "id": "2d603cc5",
   "metadata": {},
   "source": [
    "##### Попытка №3."
   ]
  },
  {
   "cell_type": "code",
   "execution_count": 7,
   "id": "45bbe06e",
   "metadata": {},
   "outputs": [
    {
     "name": "stderr",
     "output_type": "stream",
     "text": [
      "ERROR while rich displaying an object: Error: geom_point requires the following missing aesthetics: x, y\n",
      "\n",
      "Traceback:\n",
      "1. FUN(X[[i]], ...)\n",
      "2. tryCatch(withCallingHandlers({\n",
      " .     if (!mime %in% names(repr::mime2repr)) \n",
      " .         stop(\"No repr_* for mimetype \", mime, \" in repr::mime2repr\")\n",
      " .     rpr <- repr::mime2repr[[mime]](obj)\n",
      " .     if (is.null(rpr)) \n",
      " .         return(NULL)\n",
      " .     prepare_content(is.raw(rpr), rpr)\n",
      " . }, error = error_handler), error = outer_handler)\n",
      "3. tryCatchList(expr, classes, parentenv, handlers)\n",
      "4. tryCatchOne(expr, names, parentenv, handlers[[1L]])\n",
      "5. doTryCatch(return(expr), name, parentenv, handler)\n",
      "6. withCallingHandlers({\n",
      " .     if (!mime %in% names(repr::mime2repr)) \n",
      " .         stop(\"No repr_* for mimetype \", mime, \" in repr::mime2repr\")\n",
      " .     rpr <- repr::mime2repr[[mime]](obj)\n",
      " .     if (is.null(rpr)) \n",
      " .         return(NULL)\n",
      " .     prepare_content(is.raw(rpr), rpr)\n",
      " . }, error = error_handler)\n",
      "7. repr::mime2repr[[mime]](obj)\n",
      "8. repr_text.default(obj)\n",
      "9. paste(capture.output(print(obj)), collapse = \"\\n\")\n",
      "10. capture.output(print(obj))\n",
      "11. evalVis(expr)\n",
      "12. withVisible(eval(expr, pf))\n",
      "13. eval(expr, pf)\n",
      "14. eval(expr, pf)\n",
      "15. print(obj)\n",
      "16. print.ggplot(obj)\n",
      "17. ggplot_build(x)\n",
      "18. ggplot_build.ggplot(x)\n",
      "19. by_layer(function(l, d) l$compute_geom_1(d))\n",
      "20. f(l = layers[[i]], d = data[[i]])\n",
      "21. l$compute_geom_1(d)\n",
      "22. f(..., self = self)\n",
      "23. check_required_aesthetics(self$geom$required_aes, c(names(data), \n",
      "  .     names(self$aes_params)), snake_class(self$geom))\n",
      "24. stop(name, \" requires the following missing aesthetics: \", paste(missing_aes, \n",
      "  .     collapse = \", \"), call. = FALSE)\n"
     ]
    },
    {
     "data": {
      "image/png": "[encoded data removed]",
      "text/plain": [
       "plot without title"
      ]
     },
     "metadata": {},
     "output_type": "display_data"
    }
   ],
   "source": [
    "ggplot(iris) + geom_qq(aes(x = Sepal.Width, y = Sepal.Length, sample = Sepal.Length))"
   ]
  },
  {
   "cell_type": "markdown",
   "id": "7e103b80",
   "metadata": {},
   "source": [
    "### Вычисляемые переменные"
   ]
  },
  {
   "cell_type": "code",
   "execution_count": 8,
   "id": "0e8dff09",
   "metadata": {},
   "outputs": [
    {
     "data": {
      "text/html": [
       "<table>\n",
       "<thead><tr><th scope=col>x</th><th scope=col>y</th><th scope=col>sample</th><th scope=col>theoretical</th><th scope=col>PANEL</th><th scope=col>group</th><th scope=col>shape</th><th scope=col>colour</th><th scope=col>size</th><th scope=col>fill</th><th scope=col>alpha</th><th scope=col>stroke</th></tr></thead>\n",
       "<tbody>\n",
       "\t<tr><td>-2.7130519</td><td>4.3       </td><td>4.3       </td><td>-2.7130519</td><td>1         </td><td>-1        </td><td>19        </td><td>black     </td><td>1.5       </td><td>NA        </td><td>NA        </td><td>0.5       </td></tr>\n",
       "\t<tr><td>-2.3263479</td><td>4.4       </td><td>4.4       </td><td>-2.3263479</td><td>1         </td><td>-1        </td><td>19        </td><td>black     </td><td>1.5       </td><td>NA        </td><td>NA        </td><td>0.5       </td></tr>\n",
       "\t<tr><td>-2.1280452</td><td>4.4       </td><td>4.4       </td><td>-2.1280452</td><td>1         </td><td>-1        </td><td>19        </td><td>black     </td><td>1.5       </td><td>NA        </td><td>NA        </td><td>0.5       </td></tr>\n",
       "\t<tr><td>-1.9893130</td><td>4.4       </td><td>4.4       </td><td>-1.9893130</td><td>1         </td><td>-1        </td><td>19        </td><td>black     </td><td>1.5       </td><td>NA        </td><td>NA        </td><td>0.5       </td></tr>\n",
       "\t<tr><td>-1.8807936</td><td>4.5       </td><td>4.5       </td><td>-1.8807936</td><td>1         </td><td>-1        </td><td>19        </td><td>black     </td><td>1.5       </td><td>NA        </td><td>NA        </td><td>0.5       </td></tr>\n",
       "\t<tr><td>-1.7907506</td><td>4.6       </td><td>4.6       </td><td>-1.7907506</td><td>1         </td><td>-1        </td><td>19        </td><td>black     </td><td>1.5       </td><td>NA        </td><td>NA        </td><td>0.5       </td></tr>\n",
       "\t<tr><td>-1.7132494</td><td>4.6       </td><td>4.6       </td><td>-1.7132494</td><td>1         </td><td>-1        </td><td>19        </td><td>black     </td><td>1.5       </td><td>NA        </td><td>NA        </td><td>0.5       </td></tr>\n",
       "\t<tr><td>-1.6448536</td><td>4.6       </td><td>4.6       </td><td>-1.6448536</td><td>1         </td><td>-1        </td><td>19        </td><td>black     </td><td>1.5       </td><td>NA        </td><td>NA        </td><td>0.5       </td></tr>\n",
       "\t<tr><td>-1.5833868</td><td>4.6       </td><td>4.6       </td><td>-1.5833868</td><td>1         </td><td>-1        </td><td>19        </td><td>black     </td><td>1.5       </td><td>NA        </td><td>NA        </td><td>0.5       </td></tr>\n",
       "\t<tr><td>-1.5273795</td><td>4.7       </td><td>4.7       </td><td>-1.5273795</td><td>1         </td><td>-1        </td><td>19        </td><td>black     </td><td>1.5       </td><td>NA        </td><td>NA        </td><td>0.5       </td></tr>\n",
       "\t<tr><td>-1.4757910</td><td>4.7       </td><td>4.7       </td><td>-1.4757910</td><td>1         </td><td>-1        </td><td>19        </td><td>black     </td><td>1.5       </td><td>NA        </td><td>NA        </td><td>0.5       </td></tr>\n",
       "\t<tr><td>-1.4278559</td><td>4.8       </td><td>4.8       </td><td>-1.4278559</td><td>1         </td><td>-1        </td><td>19        </td><td>black     </td><td>1.5       </td><td>NA        </td><td>NA        </td><td>0.5       </td></tr>\n",
       "\t<tr><td>-1.3829941</td><td>4.8       </td><td>4.8       </td><td>-1.3829941</td><td>1         </td><td>-1        </td><td>19        </td><td>black     </td><td>1.5       </td><td>NA        </td><td>NA        </td><td>0.5       </td></tr>\n",
       "\t<tr><td>-1.3407550</td><td>4.8       </td><td>4.8       </td><td>-1.3407550</td><td>1         </td><td>-1        </td><td>19        </td><td>black     </td><td>1.5       </td><td>NA        </td><td>NA        </td><td>0.5       </td></tr>\n",
       "\t<tr><td>-1.3007813</td><td>4.8       </td><td>4.8       </td><td>-1.3007813</td><td>1         </td><td>-1        </td><td>19        </td><td>black     </td><td>1.5       </td><td>NA        </td><td>NA        </td><td>0.5       </td></tr>\n",
       "\t<tr><td>-1.2627844</td><td>4.8       </td><td>4.8       </td><td>-1.2627844</td><td>1         </td><td>-1        </td><td>19        </td><td>black     </td><td>1.5       </td><td>NA        </td><td>NA        </td><td>0.5       </td></tr>\n",
       "\t<tr><td>-1.2265281</td><td>4.9       </td><td>4.9       </td><td>-1.2265281</td><td>1         </td><td>-1        </td><td>19        </td><td>black     </td><td>1.5       </td><td>NA        </td><td>NA        </td><td>0.5       </td></tr>\n",
       "\t<tr><td>-1.1918162</td><td>4.9       </td><td>4.9       </td><td>-1.1918162</td><td>1         </td><td>-1        </td><td>19        </td><td>black     </td><td>1.5       </td><td>NA        </td><td>NA        </td><td>0.5       </td></tr>\n",
       "\t<tr><td>-1.1584838</td><td>4.9       </td><td>4.9       </td><td>-1.1584838</td><td>1         </td><td>-1        </td><td>19        </td><td>black     </td><td>1.5       </td><td>NA        </td><td>NA        </td><td>0.5       </td></tr>\n",
       "\t<tr><td>-1.1263911</td><td>4.9       </td><td>4.9       </td><td>-1.1263911</td><td>1         </td><td>-1        </td><td>19        </td><td>black     </td><td>1.5       </td><td>NA        </td><td>NA        </td><td>0.5       </td></tr>\n",
       "\t<tr><td>-1.0954185</td><td>4.9       </td><td>4.9       </td><td>-1.0954185</td><td>1         </td><td>-1        </td><td>19        </td><td>black     </td><td>1.5       </td><td>NA        </td><td>NA        </td><td>0.5       </td></tr>\n",
       "\t<tr><td>-1.0654625</td><td>4.9       </td><td>4.9       </td><td>-1.0654625</td><td>1         </td><td>-1        </td><td>19        </td><td>black     </td><td>1.5       </td><td>NA        </td><td>NA        </td><td>0.5       </td></tr>\n",
       "\t<tr><td>-1.0364334</td><td>5.0       </td><td>5.0       </td><td>-1.0364334</td><td>1         </td><td>-1        </td><td>19        </td><td>black     </td><td>1.5       </td><td>NA        </td><td>NA        </td><td>0.5       </td></tr>\n",
       "\t<tr><td>-1.0082523</td><td>5.0       </td><td>5.0       </td><td>-1.0082523</td><td>1         </td><td>-1        </td><td>19        </td><td>black     </td><td>1.5       </td><td>NA        </td><td>NA        </td><td>0.5       </td></tr>\n",
       "\t<tr><td>-0.9808501</td><td>5.0       </td><td>5.0       </td><td>-0.9808501</td><td>1         </td><td>-1        </td><td>19        </td><td>black     </td><td>1.5       </td><td>NA        </td><td>NA        </td><td>0.5       </td></tr>\n",
       "\t<tr><td>-0.9541653</td><td>5.0       </td><td>5.0       </td><td>-0.9541653</td><td>1         </td><td>-1        </td><td>19        </td><td>black     </td><td>1.5       </td><td>NA        </td><td>NA        </td><td>0.5       </td></tr>\n",
       "\t<tr><td>-0.9281431</td><td>5.0       </td><td>5.0       </td><td>-0.9281431</td><td>1         </td><td>-1        </td><td>19        </td><td>black     </td><td>1.5       </td><td>NA        </td><td>NA        </td><td>0.5       </td></tr>\n",
       "\t<tr><td>-0.9027348</td><td>5.0       </td><td>5.0       </td><td>-0.9027348</td><td>1         </td><td>-1        </td><td>19        </td><td>black     </td><td>1.5       </td><td>NA        </td><td>NA        </td><td>0.5       </td></tr>\n",
       "\t<tr><td>-0.8778963</td><td>5.0       </td><td>5.0       </td><td>-0.8778963</td><td>1         </td><td>-1        </td><td>19        </td><td>black     </td><td>1.5       </td><td>NA        </td><td>NA        </td><td>0.5       </td></tr>\n",
       "\t<tr><td>-0.8535880</td><td>5.0       </td><td>5.0       </td><td>-0.8535880</td><td>1         </td><td>-1        </td><td>19        </td><td>black     </td><td>1.5       </td><td>NA        </td><td>NA        </td><td>0.5       </td></tr>\n",
       "\t<tr><td>...</td><td>...</td><td>...</td><td>...</td><td>...</td><td>...</td><td>...</td><td>...</td><td>...</td><td>...</td><td>...</td><td>...</td></tr>\n",
       "\t<tr><td>0.8535880</td><td>6.6      </td><td>6.6      </td><td>0.8535880</td><td>1        </td><td>-1       </td><td>19       </td><td>black    </td><td>1.5      </td><td>NA       </td><td>NA       </td><td>0.5      </td></tr>\n",
       "\t<tr><td>0.8778963</td><td>6.6      </td><td>6.6      </td><td>0.8778963</td><td>1        </td><td>-1       </td><td>19       </td><td>black    </td><td>1.5      </td><td>NA       </td><td>NA       </td><td>0.5      </td></tr>\n",
       "\t<tr><td>0.9027348</td><td>6.7      </td><td>6.7      </td><td>0.9027348</td><td>1        </td><td>-1       </td><td>19       </td><td>black    </td><td>1.5      </td><td>NA       </td><td>NA       </td><td>0.5      </td></tr>\n",
       "\t<tr><td>0.9281431</td><td>6.7      </td><td>6.7      </td><td>0.9281431</td><td>1        </td><td>-1       </td><td>19       </td><td>black    </td><td>1.5      </td><td>NA       </td><td>NA       </td><td>0.5      </td></tr>\n",
       "\t<tr><td>0.9541653</td><td>6.7      </td><td>6.7      </td><td>0.9541653</td><td>1        </td><td>-1       </td><td>19       </td><td>black    </td><td>1.5      </td><td>NA       </td><td>NA       </td><td>0.5      </td></tr>\n",
       "\t<tr><td>0.9808501</td><td>6.7      </td><td>6.7      </td><td>0.9808501</td><td>1        </td><td>-1       </td><td>19       </td><td>black    </td><td>1.5      </td><td>NA       </td><td>NA       </td><td>0.5      </td></tr>\n",
       "\t<tr><td>1.0082523</td><td>6.7      </td><td>6.7      </td><td>1.0082523</td><td>1        </td><td>-1       </td><td>19       </td><td>black    </td><td>1.5      </td><td>NA       </td><td>NA       </td><td>0.5      </td></tr>\n",
       "\t<tr><td>1.0364334</td><td>6.7      </td><td>6.7      </td><td>1.0364334</td><td>1        </td><td>-1       </td><td>19       </td><td>black    </td><td>1.5      </td><td>NA       </td><td>NA       </td><td>0.5      </td></tr>\n",
       "\t<tr><td>1.0654625</td><td>6.7      </td><td>6.7      </td><td>1.0654625</td><td>1        </td><td>-1       </td><td>19       </td><td>black    </td><td>1.5      </td><td>NA       </td><td>NA       </td><td>0.5      </td></tr>\n",
       "\t<tr><td>1.0954185</td><td>6.7      </td><td>6.7      </td><td>1.0954185</td><td>1        </td><td>-1       </td><td>19       </td><td>black    </td><td>1.5      </td><td>NA       </td><td>NA       </td><td>0.5      </td></tr>\n",
       "\t<tr><td>1.1263911</td><td>6.8      </td><td>6.8      </td><td>1.1263911</td><td>1        </td><td>-1       </td><td>19       </td><td>black    </td><td>1.5      </td><td>NA       </td><td>NA       </td><td>0.5      </td></tr>\n",
       "\t<tr><td>1.1584838</td><td>6.8      </td><td>6.8      </td><td>1.1584838</td><td>1        </td><td>-1       </td><td>19       </td><td>black    </td><td>1.5      </td><td>NA       </td><td>NA       </td><td>0.5      </td></tr>\n",
       "\t<tr><td>1.1918162</td><td>6.8      </td><td>6.8      </td><td>1.1918162</td><td>1        </td><td>-1       </td><td>19       </td><td>black    </td><td>1.5      </td><td>NA       </td><td>NA       </td><td>0.5      </td></tr>\n",
       "\t<tr><td>1.2265281</td><td>6.9      </td><td>6.9      </td><td>1.2265281</td><td>1        </td><td>-1       </td><td>19       </td><td>black    </td><td>1.5      </td><td>NA       </td><td>NA       </td><td>0.5      </td></tr>\n",
       "\t<tr><td>1.2627844</td><td>6.9      </td><td>6.9      </td><td>1.2627844</td><td>1        </td><td>-1       </td><td>19       </td><td>black    </td><td>1.5      </td><td>NA       </td><td>NA       </td><td>0.5      </td></tr>\n",
       "\t<tr><td>1.3007813</td><td>6.9      </td><td>6.9      </td><td>1.3007813</td><td>1        </td><td>-1       </td><td>19       </td><td>black    </td><td>1.5      </td><td>NA       </td><td>NA       </td><td>0.5      </td></tr>\n",
       "\t<tr><td>1.3407550</td><td>6.9      </td><td>6.9      </td><td>1.3407550</td><td>1        </td><td>-1       </td><td>19       </td><td>black    </td><td>1.5      </td><td>NA       </td><td>NA       </td><td>0.5      </td></tr>\n",
       "\t<tr><td>1.3829941</td><td>7.0      </td><td>7.0      </td><td>1.3829941</td><td>1        </td><td>-1       </td><td>19       </td><td>black    </td><td>1.5      </td><td>NA       </td><td>NA       </td><td>0.5      </td></tr>\n",
       "\t<tr><td>1.4278559</td><td>7.1      </td><td>7.1      </td><td>1.4278559</td><td>1        </td><td>-1       </td><td>19       </td><td>black    </td><td>1.5      </td><td>NA       </td><td>NA       </td><td>0.5      </td></tr>\n",
       "\t<tr><td>1.4757910</td><td>7.2      </td><td>7.2      </td><td>1.4757910</td><td>1        </td><td>-1       </td><td>19       </td><td>black    </td><td>1.5      </td><td>NA       </td><td>NA       </td><td>0.5      </td></tr>\n",
       "\t<tr><td>1.5273795</td><td>7.2      </td><td>7.2      </td><td>1.5273795</td><td>1        </td><td>-1       </td><td>19       </td><td>black    </td><td>1.5      </td><td>NA       </td><td>NA       </td><td>0.5      </td></tr>\n",
       "\t<tr><td>1.5833868</td><td>7.2      </td><td>7.2      </td><td>1.5833868</td><td>1        </td><td>-1       </td><td>19       </td><td>black    </td><td>1.5      </td><td>NA       </td><td>NA       </td><td>0.5      </td></tr>\n",
       "\t<tr><td>1.6448536</td><td>7.3      </td><td>7.3      </td><td>1.6448536</td><td>1        </td><td>-1       </td><td>19       </td><td>black    </td><td>1.5      </td><td>NA       </td><td>NA       </td><td>0.5      </td></tr>\n",
       "\t<tr><td>1.7132494</td><td>7.4      </td><td>7.4      </td><td>1.7132494</td><td>1        </td><td>-1       </td><td>19       </td><td>black    </td><td>1.5      </td><td>NA       </td><td>NA       </td><td>0.5      </td></tr>\n",
       "\t<tr><td>1.7907506</td><td>7.6      </td><td>7.6      </td><td>1.7907506</td><td>1        </td><td>-1       </td><td>19       </td><td>black    </td><td>1.5      </td><td>NA       </td><td>NA       </td><td>0.5      </td></tr>\n",
       "\t<tr><td>1.8807936</td><td>7.7      </td><td>7.7      </td><td>1.8807936</td><td>1        </td><td>-1       </td><td>19       </td><td>black    </td><td>1.5      </td><td>NA       </td><td>NA       </td><td>0.5      </td></tr>\n",
       "\t<tr><td>1.9893130</td><td>7.7      </td><td>7.7      </td><td>1.9893130</td><td>1        </td><td>-1       </td><td>19       </td><td>black    </td><td>1.5      </td><td>NA       </td><td>NA       </td><td>0.5      </td></tr>\n",
       "\t<tr><td>2.1280452</td><td>7.7      </td><td>7.7      </td><td>2.1280452</td><td>1        </td><td>-1       </td><td>19       </td><td>black    </td><td>1.5      </td><td>NA       </td><td>NA       </td><td>0.5      </td></tr>\n",
       "\t<tr><td>2.3263479</td><td>7.7      </td><td>7.7      </td><td>2.3263479</td><td>1        </td><td>-1       </td><td>19       </td><td>black    </td><td>1.5      </td><td>NA       </td><td>NA       </td><td>0.5      </td></tr>\n",
       "\t<tr><td>2.7130519</td><td>7.9      </td><td>7.9      </td><td>2.7130519</td><td>1        </td><td>-1       </td><td>19       </td><td>black    </td><td>1.5      </td><td>NA       </td><td>NA       </td><td>0.5      </td></tr>\n",
       "</tbody>\n",
       "</table>\n"
      ],
      "text/latex": [
       "\\begin{tabular}{r|llllllllllll}\n",
       " x & y & sample & theoretical & PANEL & group & shape & colour & size & fill & alpha & stroke\\\\\n",
       "\\hline\n",
       "\t -2.7130519 & 4.3        & 4.3        & -2.7130519 & 1          & -1         & 19         & black      & 1.5        & NA         & NA         & 0.5       \\\\\n",
       "\t -2.3263479 & 4.4        & 4.4        & -2.3263479 & 1          & -1         & 19         & black      & 1.5        & NA         & NA         & 0.5       \\\\\n",
       "\t -2.1280452 & 4.4        & 4.4        & -2.1280452 & 1          & -1         & 19         & black      & 1.5        & NA         & NA         & 0.5       \\\\\n",
       "\t -1.9893130 & 4.4        & 4.4        & -1.9893130 & 1          & -1         & 19         & black      & 1.5        & NA         & NA         & 0.5       \\\\\n",
       "\t -1.8807936 & 4.5        & 4.5        & -1.8807936 & 1          & -1         & 19         & black      & 1.5        & NA         & NA         & 0.5       \\\\\n",
       "\t -1.7907506 & 4.6        & 4.6        & -1.7907506 & 1          & -1         & 19         & black      & 1.5        & NA         & NA         & 0.5       \\\\\n",
       "\t -1.7132494 & 4.6        & 4.6        & -1.7132494 & 1          & -1         & 19         & black      & 1.5        & NA         & NA         & 0.5       \\\\\n",
       "\t -1.6448536 & 4.6        & 4.6        & -1.6448536 & 1          & -1         & 19         & black      & 1.5        & NA         & NA         & 0.5       \\\\\n",
       "\t -1.5833868 & 4.6        & 4.6        & -1.5833868 & 1          & -1         & 19         & black      & 1.5        & NA         & NA         & 0.5       \\\\\n",
       "\t -1.5273795 & 4.7        & 4.7        & -1.5273795 & 1          & -1         & 19         & black      & 1.5        & NA         & NA         & 0.5       \\\\\n",
       "\t -1.4757910 & 4.7        & 4.7        & -1.4757910 & 1          & -1         & 19         & black      & 1.5        & NA         & NA         & 0.5       \\\\\n",
       "\t -1.4278559 & 4.8        & 4.8        & -1.4278559 & 1          & -1         & 19         & black      & 1.5        & NA         & NA         & 0.5       \\\\\n",
       "\t -1.3829941 & 4.8        & 4.8        & -1.3829941 & 1          & -1         & 19         & black      & 1.5        & NA         & NA         & 0.5       \\\\\n",
       "\t -1.3407550 & 4.8        & 4.8        & -1.3407550 & 1          & -1         & 19         & black      & 1.5        & NA         & NA         & 0.5       \\\\\n",
       "\t -1.3007813 & 4.8        & 4.8        & -1.3007813 & 1          & -1         & 19         & black      & 1.5        & NA         & NA         & 0.5       \\\\\n",
       "\t -1.2627844 & 4.8        & 4.8        & -1.2627844 & 1          & -1         & 19         & black      & 1.5        & NA         & NA         & 0.5       \\\\\n",
       "\t -1.2265281 & 4.9        & 4.9        & -1.2265281 & 1          & -1         & 19         & black      & 1.5        & NA         & NA         & 0.5       \\\\\n",
       "\t -1.1918162 & 4.9        & 4.9        & -1.1918162 & 1          & -1         & 19         & black      & 1.5        & NA         & NA         & 0.5       \\\\\n",
       "\t -1.1584838 & 4.9        & 4.9        & -1.1584838 & 1          & -1         & 19         & black      & 1.5        & NA         & NA         & 0.5       \\\\\n",
       "\t -1.1263911 & 4.9        & 4.9        & -1.1263911 & 1          & -1         & 19         & black      & 1.5        & NA         & NA         & 0.5       \\\\\n",
       "\t -1.0954185 & 4.9        & 4.9        & -1.0954185 & 1          & -1         & 19         & black      & 1.5        & NA         & NA         & 0.5       \\\\\n",
       "\t -1.0654625 & 4.9        & 4.9        & -1.0654625 & 1          & -1         & 19         & black      & 1.5        & NA         & NA         & 0.5       \\\\\n",
       "\t -1.0364334 & 5.0        & 5.0        & -1.0364334 & 1          & -1         & 19         & black      & 1.5        & NA         & NA         & 0.5       \\\\\n",
       "\t -1.0082523 & 5.0        & 5.0        & -1.0082523 & 1          & -1         & 19         & black      & 1.5        & NA         & NA         & 0.5       \\\\\n",
       "\t -0.9808501 & 5.0        & 5.0        & -0.9808501 & 1          & -1         & 19         & black      & 1.5        & NA         & NA         & 0.5       \\\\\n",
       "\t -0.9541653 & 5.0        & 5.0        & -0.9541653 & 1          & -1         & 19         & black      & 1.5        & NA         & NA         & 0.5       \\\\\n",
       "\t -0.9281431 & 5.0        & 5.0        & -0.9281431 & 1          & -1         & 19         & black      & 1.5        & NA         & NA         & 0.5       \\\\\n",
       "\t -0.9027348 & 5.0        & 5.0        & -0.9027348 & 1          & -1         & 19         & black      & 1.5        & NA         & NA         & 0.5       \\\\\n",
       "\t -0.8778963 & 5.0        & 5.0        & -0.8778963 & 1          & -1         & 19         & black      & 1.5        & NA         & NA         & 0.5       \\\\\n",
       "\t -0.8535880 & 5.0        & 5.0        & -0.8535880 & 1          & -1         & 19         & black      & 1.5        & NA         & NA         & 0.5       \\\\\n",
       "\t ... & ... & ... & ... & ... & ... & ... & ... & ... & ... & ... & ...\\\\\n",
       "\t 0.8535880 & 6.6       & 6.6       & 0.8535880 & 1         & -1        & 19        & black     & 1.5       & NA        & NA        & 0.5      \\\\\n",
       "\t 0.8778963 & 6.6       & 6.6       & 0.8778963 & 1         & -1        & 19        & black     & 1.5       & NA        & NA        & 0.5      \\\\\n",
       "\t 0.9027348 & 6.7       & 6.7       & 0.9027348 & 1         & -1        & 19        & black     & 1.5       & NA        & NA        & 0.5      \\\\\n",
       "\t 0.9281431 & 6.7       & 6.7       & 0.9281431 & 1         & -1        & 19        & black     & 1.5       & NA        & NA        & 0.5      \\\\\n",
       "\t 0.9541653 & 6.7       & 6.7       & 0.9541653 & 1         & -1        & 19        & black     & 1.5       & NA        & NA        & 0.5      \\\\\n",
       "\t 0.9808501 & 6.7       & 6.7       & 0.9808501 & 1         & -1        & 19        & black     & 1.5       & NA        & NA        & 0.5      \\\\\n",
       "\t 1.0082523 & 6.7       & 6.7       & 1.0082523 & 1         & -1        & 19        & black     & 1.5       & NA        & NA        & 0.5      \\\\\n",
       "\t 1.0364334 & 6.7       & 6.7       & 1.0364334 & 1         & -1        & 19        & black     & 1.5       & NA        & NA        & 0.5      \\\\\n",
       "\t 1.0654625 & 6.7       & 6.7       & 1.0654625 & 1         & -1        & 19        & black     & 1.5       & NA        & NA        & 0.5      \\\\\n",
       "\t 1.0954185 & 6.7       & 6.7       & 1.0954185 & 1         & -1        & 19        & black     & 1.5       & NA        & NA        & 0.5      \\\\\n",
       "\t 1.1263911 & 6.8       & 6.8       & 1.1263911 & 1         & -1        & 19        & black     & 1.5       & NA        & NA        & 0.5      \\\\\n",
       "\t 1.1584838 & 6.8       & 6.8       & 1.1584838 & 1         & -1        & 19        & black     & 1.5       & NA        & NA        & 0.5      \\\\\n",
       "\t 1.1918162 & 6.8       & 6.8       & 1.1918162 & 1         & -1        & 19        & black     & 1.5       & NA        & NA        & 0.5      \\\\\n",
       "\t 1.2265281 & 6.9       & 6.9       & 1.2265281 & 1         & -1        & 19        & black     & 1.5       & NA        & NA        & 0.5      \\\\\n",
       "\t 1.2627844 & 6.9       & 6.9       & 1.2627844 & 1         & -1        & 19        & black     & 1.5       & NA        & NA        & 0.5      \\\\\n",
       "\t 1.3007813 & 6.9       & 6.9       & 1.3007813 & 1         & -1        & 19        & black     & 1.5       & NA        & NA        & 0.5      \\\\\n",
       "\t 1.3407550 & 6.9       & 6.9       & 1.3407550 & 1         & -1        & 19        & black     & 1.5       & NA        & NA        & 0.5      \\\\\n",
       "\t 1.3829941 & 7.0       & 7.0       & 1.3829941 & 1         & -1        & 19        & black     & 1.5       & NA        & NA        & 0.5      \\\\\n",
       "\t 1.4278559 & 7.1       & 7.1       & 1.4278559 & 1         & -1        & 19        & black     & 1.5       & NA        & NA        & 0.5      \\\\\n",
       "\t 1.4757910 & 7.2       & 7.2       & 1.4757910 & 1         & -1        & 19        & black     & 1.5       & NA        & NA        & 0.5      \\\\\n",
       "\t 1.5273795 & 7.2       & 7.2       & 1.5273795 & 1         & -1        & 19        & black     & 1.5       & NA        & NA        & 0.5      \\\\\n",
       "\t 1.5833868 & 7.2       & 7.2       & 1.5833868 & 1         & -1        & 19        & black     & 1.5       & NA        & NA        & 0.5      \\\\\n",
       "\t 1.6448536 & 7.3       & 7.3       & 1.6448536 & 1         & -1        & 19        & black     & 1.5       & NA        & NA        & 0.5      \\\\\n",
       "\t 1.7132494 & 7.4       & 7.4       & 1.7132494 & 1         & -1        & 19        & black     & 1.5       & NA        & NA        & 0.5      \\\\\n",
       "\t 1.7907506 & 7.6       & 7.6       & 1.7907506 & 1         & -1        & 19        & black     & 1.5       & NA        & NA        & 0.5      \\\\\n",
       "\t 1.8807936 & 7.7       & 7.7       & 1.8807936 & 1         & -1        & 19        & black     & 1.5       & NA        & NA        & 0.5      \\\\\n",
       "\t 1.9893130 & 7.7       & 7.7       & 1.9893130 & 1         & -1        & 19        & black     & 1.5       & NA        & NA        & 0.5      \\\\\n",
       "\t 2.1280452 & 7.7       & 7.7       & 2.1280452 & 1         & -1        & 19        & black     & 1.5       & NA        & NA        & 0.5      \\\\\n",
       "\t 2.3263479 & 7.7       & 7.7       & 2.3263479 & 1         & -1        & 19        & black     & 1.5       & NA        & NA        & 0.5      \\\\\n",
       "\t 2.7130519 & 7.9       & 7.9       & 2.7130519 & 1         & -1        & 19        & black     & 1.5       & NA        & NA        & 0.5      \\\\\n",
       "\\end{tabular}\n"
      ],
      "text/markdown": [
       "\n",
       "| x | y | sample | theoretical | PANEL | group | shape | colour | size | fill | alpha | stroke |\n",
       "|---|---|---|---|---|---|---|---|---|---|---|---|\n",
       "| -2.7130519 | 4.3        | 4.3        | -2.7130519 | 1          | -1         | 19         | black      | 1.5        | NA         | NA         | 0.5        |\n",
       "| -2.3263479 | 4.4        | 4.4        | -2.3263479 | 1          | -1         | 19         | black      | 1.5        | NA         | NA         | 0.5        |\n",
       "| -2.1280452 | 4.4        | 4.4        | -2.1280452 | 1          | -1         | 19         | black      | 1.5        | NA         | NA         | 0.5        |\n",
       "| -1.9893130 | 4.4        | 4.4        | -1.9893130 | 1          | -1         | 19         | black      | 1.5        | NA         | NA         | 0.5        |\n",
       "| -1.8807936 | 4.5        | 4.5        | -1.8807936 | 1          | -1         | 19         | black      | 1.5        | NA         | NA         | 0.5        |\n",
       "| -1.7907506 | 4.6        | 4.6        | -1.7907506 | 1          | -1         | 19         | black      | 1.5        | NA         | NA         | 0.5        |\n",
       "| -1.7132494 | 4.6        | 4.6        | -1.7132494 | 1          | -1         | 19         | black      | 1.5        | NA         | NA         | 0.5        |\n",
       "| -1.6448536 | 4.6        | 4.6        | -1.6448536 | 1          | -1         | 19         | black      | 1.5        | NA         | NA         | 0.5        |\n",
       "| -1.5833868 | 4.6        | 4.6        | -1.5833868 | 1          | -1         | 19         | black      | 1.5        | NA         | NA         | 0.5        |\n",
       "| -1.5273795 | 4.7        | 4.7        | -1.5273795 | 1          | -1         | 19         | black      | 1.5        | NA         | NA         | 0.5        |\n",
       "| -1.4757910 | 4.7        | 4.7        | -1.4757910 | 1          | -1         | 19         | black      | 1.5        | NA         | NA         | 0.5        |\n",
       "| -1.4278559 | 4.8        | 4.8        | -1.4278559 | 1          | -1         | 19         | black      | 1.5        | NA         | NA         | 0.5        |\n",
       "| -1.3829941 | 4.8        | 4.8        | -1.3829941 | 1          | -1         | 19         | black      | 1.5        | NA         | NA         | 0.5        |\n",
       "| -1.3407550 | 4.8        | 4.8        | -1.3407550 | 1          | -1         | 19         | black      | 1.5        | NA         | NA         | 0.5        |\n",
       "| -1.3007813 | 4.8        | 4.8        | -1.3007813 | 1          | -1         | 19         | black      | 1.5        | NA         | NA         | 0.5        |\n",
       "| -1.2627844 | 4.8        | 4.8        | -1.2627844 | 1          | -1         | 19         | black      | 1.5        | NA         | NA         | 0.5        |\n",
       "| -1.2265281 | 4.9        | 4.9        | -1.2265281 | 1          | -1         | 19         | black      | 1.5        | NA         | NA         | 0.5        |\n",
       "| -1.1918162 | 4.9        | 4.9        | -1.1918162 | 1          | -1         | 19         | black      | 1.5        | NA         | NA         | 0.5        |\n",
       "| -1.1584838 | 4.9        | 4.9        | -1.1584838 | 1          | -1         | 19         | black      | 1.5        | NA         | NA         | 0.5        |\n",
       "| -1.1263911 | 4.9        | 4.9        | -1.1263911 | 1          | -1         | 19         | black      | 1.5        | NA         | NA         | 0.5        |\n",
       "| -1.0954185 | 4.9        | 4.9        | -1.0954185 | 1          | -1         | 19         | black      | 1.5        | NA         | NA         | 0.5        |\n",
       "| -1.0654625 | 4.9        | 4.9        | -1.0654625 | 1          | -1         | 19         | black      | 1.5        | NA         | NA         | 0.5        |\n",
       "| -1.0364334 | 5.0        | 5.0        | -1.0364334 | 1          | -1         | 19         | black      | 1.5        | NA         | NA         | 0.5        |\n",
       "| -1.0082523 | 5.0        | 5.0        | -1.0082523 | 1          | -1         | 19         | black      | 1.5        | NA         | NA         | 0.5        |\n",
       "| -0.9808501 | 5.0        | 5.0        | -0.9808501 | 1          | -1         | 19         | black      | 1.5        | NA         | NA         | 0.5        |\n",
       "| -0.9541653 | 5.0        | 5.0        | -0.9541653 | 1          | -1         | 19         | black      | 1.5        | NA         | NA         | 0.5        |\n",
       "| -0.9281431 | 5.0        | 5.0        | -0.9281431 | 1          | -1         | 19         | black      | 1.5        | NA         | NA         | 0.5        |\n",
       "| -0.9027348 | 5.0        | 5.0        | -0.9027348 | 1          | -1         | 19         | black      | 1.5        | NA         | NA         | 0.5        |\n",
       "| -0.8778963 | 5.0        | 5.0        | -0.8778963 | 1          | -1         | 19         | black      | 1.5        | NA         | NA         | 0.5        |\n",
       "| -0.8535880 | 5.0        | 5.0        | -0.8535880 | 1          | -1         | 19         | black      | 1.5        | NA         | NA         | 0.5        |\n",
       "| ... | ... | ... | ... | ... | ... | ... | ... | ... | ... | ... | ... |\n",
       "| 0.8535880 | 6.6       | 6.6       | 0.8535880 | 1         | -1        | 19        | black     | 1.5       | NA        | NA        | 0.5       |\n",
       "| 0.8778963 | 6.6       | 6.6       | 0.8778963 | 1         | -1        | 19        | black     | 1.5       | NA        | NA        | 0.5       |\n",
       "| 0.9027348 | 6.7       | 6.7       | 0.9027348 | 1         | -1        | 19        | black     | 1.5       | NA        | NA        | 0.5       |\n",
       "| 0.9281431 | 6.7       | 6.7       | 0.9281431 | 1         | -1        | 19        | black     | 1.5       | NA        | NA        | 0.5       |\n",
       "| 0.9541653 | 6.7       | 6.7       | 0.9541653 | 1         | -1        | 19        | black     | 1.5       | NA        | NA        | 0.5       |\n",
       "| 0.9808501 | 6.7       | 6.7       | 0.9808501 | 1         | -1        | 19        | black     | 1.5       | NA        | NA        | 0.5       |\n",
       "| 1.0082523 | 6.7       | 6.7       | 1.0082523 | 1         | -1        | 19        | black     | 1.5       | NA        | NA        | 0.5       |\n",
       "| 1.0364334 | 6.7       | 6.7       | 1.0364334 | 1         | -1        | 19        | black     | 1.5       | NA        | NA        | 0.5       |\n",
       "| 1.0654625 | 6.7       | 6.7       | 1.0654625 | 1         | -1        | 19        | black     | 1.5       | NA        | NA        | 0.5       |\n",
       "| 1.0954185 | 6.7       | 6.7       | 1.0954185 | 1         | -1        | 19        | black     | 1.5       | NA        | NA        | 0.5       |\n",
       "| 1.1263911 | 6.8       | 6.8       | 1.1263911 | 1         | -1        | 19        | black     | 1.5       | NA        | NA        | 0.5       |\n",
       "| 1.1584838 | 6.8       | 6.8       | 1.1584838 | 1         | -1        | 19        | black     | 1.5       | NA        | NA        | 0.5       |\n",
       "| 1.1918162 | 6.8       | 6.8       | 1.1918162 | 1         | -1        | 19        | black     | 1.5       | NA        | NA        | 0.5       |\n",
       "| 1.2265281 | 6.9       | 6.9       | 1.2265281 | 1         | -1        | 19        | black     | 1.5       | NA        | NA        | 0.5       |\n",
       "| 1.2627844 | 6.9       | 6.9       | 1.2627844 | 1         | -1        | 19        | black     | 1.5       | NA        | NA        | 0.5       |\n",
       "| 1.3007813 | 6.9       | 6.9       | 1.3007813 | 1         | -1        | 19        | black     | 1.5       | NA        | NA        | 0.5       |\n",
       "| 1.3407550 | 6.9       | 6.9       | 1.3407550 | 1         | -1        | 19        | black     | 1.5       | NA        | NA        | 0.5       |\n",
       "| 1.3829941 | 7.0       | 7.0       | 1.3829941 | 1         | -1        | 19        | black     | 1.5       | NA        | NA        | 0.5       |\n",
       "| 1.4278559 | 7.1       | 7.1       | 1.4278559 | 1         | -1        | 19        | black     | 1.5       | NA        | NA        | 0.5       |\n",
       "| 1.4757910 | 7.2       | 7.2       | 1.4757910 | 1         | -1        | 19        | black     | 1.5       | NA        | NA        | 0.5       |\n",
       "| 1.5273795 | 7.2       | 7.2       | 1.5273795 | 1         | -1        | 19        | black     | 1.5       | NA        | NA        | 0.5       |\n",
       "| 1.5833868 | 7.2       | 7.2       | 1.5833868 | 1         | -1        | 19        | black     | 1.5       | NA        | NA        | 0.5       |\n",
       "| 1.6448536 | 7.3       | 7.3       | 1.6448536 | 1         | -1        | 19        | black     | 1.5       | NA        | NA        | 0.5       |\n",
       "| 1.7132494 | 7.4       | 7.4       | 1.7132494 | 1         | -1        | 19        | black     | 1.5       | NA        | NA        | 0.5       |\n",
       "| 1.7907506 | 7.6       | 7.6       | 1.7907506 | 1         | -1        | 19        | black     | 1.5       | NA        | NA        | 0.5       |\n",
       "| 1.8807936 | 7.7       | 7.7       | 1.8807936 | 1         | -1        | 19        | black     | 1.5       | NA        | NA        | 0.5       |\n",
       "| 1.9893130 | 7.7       | 7.7       | 1.9893130 | 1         | -1        | 19        | black     | 1.5       | NA        | NA        | 0.5       |\n",
       "| 2.1280452 | 7.7       | 7.7       | 2.1280452 | 1         | -1        | 19        | black     | 1.5       | NA        | NA        | 0.5       |\n",
       "| 2.3263479 | 7.7       | 7.7       | 2.3263479 | 1         | -1        | 19        | black     | 1.5       | NA        | NA        | 0.5       |\n",
       "| 2.7130519 | 7.9       | 7.9       | 2.7130519 | 1         | -1        | 19        | black     | 1.5       | NA        | NA        | 0.5       |\n",
       "\n"
      ],
      "text/plain": [
       "    x          y   sample theoretical PANEL group shape colour size fill alpha\n",
       "1   -2.7130519 4.3 4.3    -2.7130519  1     -1    19    black  1.5  NA   NA   \n",
       "2   -2.3263479 4.4 4.4    -2.3263479  1     -1    19    black  1.5  NA   NA   \n",
       "3   -2.1280452 4.4 4.4    -2.1280452  1     -1    19    black  1.5  NA   NA   \n",
       "4   -1.9893130 4.4 4.4    -1.9893130  1     -1    19    black  1.5  NA   NA   \n",
       "5   -1.8807936 4.5 4.5    -1.8807936  1     -1    19    black  1.5  NA   NA   \n",
       "6   -1.7907506 4.6 4.6    -1.7907506  1     -1    19    black  1.5  NA   NA   \n",
       "7   -1.7132494 4.6 4.6    -1.7132494  1     -1    19    black  1.5  NA   NA   \n",
       "8   -1.6448536 4.6 4.6    -1.6448536  1     -1    19    black  1.5  NA   NA   \n",
       "9   -1.5833868 4.6 4.6    -1.5833868  1     -1    19    black  1.5  NA   NA   \n",
       "10  -1.5273795 4.7 4.7    -1.5273795  1     -1    19    black  1.5  NA   NA   \n",
       "11  -1.4757910 4.7 4.7    -1.4757910  1     -1    19    black  1.5  NA   NA   \n",
       "12  -1.4278559 4.8 4.8    -1.4278559  1     -1    19    black  1.5  NA   NA   \n",
       "13  -1.3829941 4.8 4.8    -1.3829941  1     -1    19    black  1.5  NA   NA   \n",
       "14  -1.3407550 4.8 4.8    -1.3407550  1     -1    19    black  1.5  NA   NA   \n",
       "15  -1.3007813 4.8 4.8    -1.3007813  1     -1    19    black  1.5  NA   NA   \n",
       "16  -1.2627844 4.8 4.8    -1.2627844  1     -1    19    black  1.5  NA   NA   \n",
       "17  -1.2265281 4.9 4.9    -1.2265281  1     -1    19    black  1.5  NA   NA   \n",
       "18  -1.1918162 4.9 4.9    -1.1918162  1     -1    19    black  1.5  NA   NA   \n",
       "19  -1.1584838 4.9 4.9    -1.1584838  1     -1    19    black  1.5  NA   NA   \n",
       "20  -1.1263911 4.9 4.9    -1.1263911  1     -1    19    black  1.5  NA   NA   \n",
       "21  -1.0954185 4.9 4.9    -1.0954185  1     -1    19    black  1.5  NA   NA   \n",
       "22  -1.0654625 4.9 4.9    -1.0654625  1     -1    19    black  1.5  NA   NA   \n",
       "23  -1.0364334 5.0 5.0    -1.0364334  1     -1    19    black  1.5  NA   NA   \n",
       "24  -1.0082523 5.0 5.0    -1.0082523  1     -1    19    black  1.5  NA   NA   \n",
       "25  -0.9808501 5.0 5.0    -0.9808501  1     -1    19    black  1.5  NA   NA   \n",
       "26  -0.9541653 5.0 5.0    -0.9541653  1     -1    19    black  1.5  NA   NA   \n",
       "27  -0.9281431 5.0 5.0    -0.9281431  1     -1    19    black  1.5  NA   NA   \n",
       "28  -0.9027348 5.0 5.0    -0.9027348  1     -1    19    black  1.5  NA   NA   \n",
       "29  -0.8778963 5.0 5.0    -0.8778963  1     -1    19    black  1.5  NA   NA   \n",
       "30  -0.8535880 5.0 5.0    -0.8535880  1     -1    19    black  1.5  NA   NA   \n",
       "... ...        ... ...    ...         ...   ...   ...   ...    ...  ...  ...  \n",
       "121 0.8535880  6.6 6.6    0.8535880   1     -1    19    black  1.5  NA   NA   \n",
       "122 0.8778963  6.6 6.6    0.8778963   1     -1    19    black  1.5  NA   NA   \n",
       "123 0.9027348  6.7 6.7    0.9027348   1     -1    19    black  1.5  NA   NA   \n",
       "124 0.9281431  6.7 6.7    0.9281431   1     -1    19    black  1.5  NA   NA   \n",
       "125 0.9541653  6.7 6.7    0.9541653   1     -1    19    black  1.5  NA   NA   \n",
       "126 0.9808501  6.7 6.7    0.9808501   1     -1    19    black  1.5  NA   NA   \n",
       "127 1.0082523  6.7 6.7    1.0082523   1     -1    19    black  1.5  NA   NA   \n",
       "128 1.0364334  6.7 6.7    1.0364334   1     -1    19    black  1.5  NA   NA   \n",
       "129 1.0654625  6.7 6.7    1.0654625   1     -1    19    black  1.5  NA   NA   \n",
       "130 1.0954185  6.7 6.7    1.0954185   1     -1    19    black  1.5  NA   NA   \n",
       "131 1.1263911  6.8 6.8    1.1263911   1     -1    19    black  1.5  NA   NA   \n",
       "132 1.1584838  6.8 6.8    1.1584838   1     -1    19    black  1.5  NA   NA   \n",
       "133 1.1918162  6.8 6.8    1.1918162   1     -1    19    black  1.5  NA   NA   \n",
       "134 1.2265281  6.9 6.9    1.2265281   1     -1    19    black  1.5  NA   NA   \n",
       "135 1.2627844  6.9 6.9    1.2627844   1     -1    19    black  1.5  NA   NA   \n",
       "136 1.3007813  6.9 6.9    1.3007813   1     -1    19    black  1.5  NA   NA   \n",
       "137 1.3407550  6.9 6.9    1.3407550   1     -1    19    black  1.5  NA   NA   \n",
       "138 1.3829941  7.0 7.0    1.3829941   1     -1    19    black  1.5  NA   NA   \n",
       "139 1.4278559  7.1 7.1    1.4278559   1     -1    19    black  1.5  NA   NA   \n",
       "140 1.4757910  7.2 7.2    1.4757910   1     -1    19    black  1.5  NA   NA   \n",
       "141 1.5273795  7.2 7.2    1.5273795   1     -1    19    black  1.5  NA   NA   \n",
       "142 1.5833868  7.2 7.2    1.5833868   1     -1    19    black  1.5  NA   NA   \n",
       "143 1.6448536  7.3 7.3    1.6448536   1     -1    19    black  1.5  NA   NA   \n",
       "144 1.7132494  7.4 7.4    1.7132494   1     -1    19    black  1.5  NA   NA   \n",
       "145 1.7907506  7.6 7.6    1.7907506   1     -1    19    black  1.5  NA   NA   \n",
       "146 1.8807936  7.7 7.7    1.8807936   1     -1    19    black  1.5  NA   NA   \n",
       "147 1.9893130  7.7 7.7    1.9893130   1     -1    19    black  1.5  NA   NA   \n",
       "148 2.1280452  7.7 7.7    2.1280452   1     -1    19    black  1.5  NA   NA   \n",
       "149 2.3263479  7.7 7.7    2.3263479   1     -1    19    black  1.5  NA   NA   \n",
       "150 2.7130519  7.9 7.9    2.7130519   1     -1    19    black  1.5  NA   NA   \n",
       "    stroke\n",
       "1   0.5   \n",
       "2   0.5   \n",
       "3   0.5   \n",
       "4   0.5   \n",
       "5   0.5   \n",
       "6   0.5   \n",
       "7   0.5   \n",
       "8   0.5   \n",
       "9   0.5   \n",
       "10  0.5   \n",
       "11  0.5   \n",
       "12  0.5   \n",
       "13  0.5   \n",
       "14  0.5   \n",
       "15  0.5   \n",
       "16  0.5   \n",
       "17  0.5   \n",
       "18  0.5   \n",
       "19  0.5   \n",
       "20  0.5   \n",
       "21  0.5   \n",
       "22  0.5   \n",
       "23  0.5   \n",
       "24  0.5   \n",
       "25  0.5   \n",
       "26  0.5   \n",
       "27  0.5   \n",
       "28  0.5   \n",
       "29  0.5   \n",
       "30  0.5   \n",
       "... ...   \n",
       "121 0.5   \n",
       "122 0.5   \n",
       "123 0.5   \n",
       "124 0.5   \n",
       "125 0.5   \n",
       "126 0.5   \n",
       "127 0.5   \n",
       "128 0.5   \n",
       "129 0.5   \n",
       "130 0.5   \n",
       "131 0.5   \n",
       "132 0.5   \n",
       "133 0.5   \n",
       "134 0.5   \n",
       "135 0.5   \n",
       "136 0.5   \n",
       "137 0.5   \n",
       "138 0.5   \n",
       "139 0.5   \n",
       "140 0.5   \n",
       "141 0.5   \n",
       "142 0.5   \n",
       "143 0.5   \n",
       "144 0.5   \n",
       "145 0.5   \n",
       "146 0.5   \n",
       "147 0.5   \n",
       "148 0.5   \n",
       "149 0.5   \n",
       "150 0.5   "
      ]
     },
     "metadata": {},
     "output_type": "display_data"
    }
   ],
   "source": [
    "p <- ggplot(iris, aes(sample = Sepal.Length)) + geom_qq()\n",
    "p_df <- as.data.frame(ggplot_build(p)$data)\n",
    "p_df"
   ]
  },
  {
   "cell_type": "markdown",
   "id": "3658b0da",
   "metadata": {},
   "source": [
    "### Альтернативные геометрии"
   ]
  },
  {
   "cell_type": "code",
   "execution_count": 9,
   "id": "00a3ed14",
   "metadata": {},
   "outputs": [
    {
     "data": {
      "image/png": "[encoded data removed]",
      "text/plain": [
       "plot without title"
      ]
     },
     "metadata": {},
     "output_type": "display_data"
    }
   ],
   "source": [
    "ggplot(iris, aes(sample = Sepal.Length)) + geom_qq(geom = \"line\")"
   ]
  },
  {
   "cell_type": "code",
   "execution_count": 10,
   "id": "0fe4e338",
   "metadata": {},
   "outputs": [
    {
     "data": {
      "image/png": "[encoded data removed]",
      "text/plain": [
       "plot without title"
      ]
     },
     "metadata": {},
     "output_type": "display_data"
    }
   ],
   "source": [
    "ggplot(iris, aes(sample = Sepal.Length)) + stat_qq(geom = \"line\")"
   ]
  },
  {
   "cell_type": "code",
   "execution_count": 11,
   "id": "c6dfff8a",
   "metadata": {},
   "outputs": [
    {
     "data": {
      "image/png": "[encoded data removed]",
      "text/plain": [
       "plot without title"
      ]
     },
     "metadata": {},
     "output_type": "display_data"
    }
   ],
   "source": [
    "ggplot(iris, aes(sample = Sepal.Length)) + geom_line(stat = \"qq\")"
   ]
  }
 ],
 "metadata": {
  "kernelspec": {
   "display_name": "R",
   "language": "R",
   "name": "ir"
  },
  "language_info": {
   "codemirror_mode": "r",
   "file_extension": ".r",
   "mimetype": "text/x-r-source",
   "name": "R",
   "pygments_lexer": "r",
   "version": "3.6.1"
  }
 },
 "nbformat": 4,
 "nbformat_minor": 5
}
