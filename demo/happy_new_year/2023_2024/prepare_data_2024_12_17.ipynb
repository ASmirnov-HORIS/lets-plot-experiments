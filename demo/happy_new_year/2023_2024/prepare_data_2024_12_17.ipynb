{
 "cells": [
  {
   "cell_type": "code",
   "execution_count": 1,
   "id": "b3c9c3d8-ea17-4483-bdc6-569f9d05d186",
   "metadata": {},
   "outputs": [],
   "source": [
    "import pandas as pd"
   ]
  },
  {
   "cell_type": "code",
   "execution_count": 2,
   "id": "8c07e046-f382-43ae-b8cf-d76d1d341baf",
   "metadata": {},
   "outputs": [],
   "source": [
    "INPUT_FILE = \"data/commits.txt\"\n",
    "COMMITS_CSV_FILE = \"data/commits.csv\"\n",
    "FILES_CSV_FILE = \"data/files.csv\""
   ]
  },
  {
   "cell_type": "code",
   "execution_count": 3,
   "id": "9d0ea936-14fb-4d61-8f9c-07c17aefeb93",
   "metadata": {},
   "outputs": [],
   "source": [
    "class FileInfo:\n",
    "    def __init__(self, line):\n",
    "        additions, deletions, self.file_path = line.split(\"\\t\")\n",
    "        self.file_name = self.file_path.split(\"/\")[-1]\n",
    "        file_name_parts = self.file_name.split(\".\")\n",
    "        if len(file_name_parts) > 1:\n",
    "            self.extension = file_name_parts[-1]\n",
    "        else:\n",
    "            self.extension = None\n",
    "        try:\n",
    "            self.additions = int(additions)\n",
    "        except:\n",
    "            self.additions = None\n",
    "        try:\n",
    "            self.deletions = int(deletions)\n",
    "        except:\n",
    "            self.deletions = None\n",
    "\n",
    "    def to_tuple(self):\n",
    "        return (self.file_path, self.file_name, self.extension, self.additions, self.deletions)"
   ]
  },
  {
   "cell_type": "code",
   "execution_count": 4,
   "id": "ea1eb622-1865-47a7-90a0-079815397429",
   "metadata": {},
   "outputs": [],
   "source": [
    "class CommitInfo:\n",
    "    def __init__(self, commit_raw_info, files_info):\n",
    "        self.hash, self.author, self.date, self.message = commit_raw_info.strip().replace(\"<[\", \"\").replace(\"]>\", \"\").split(\";;\")\n",
    "        self.file_infos = [FileInfo(line) for line in [line.strip() for line in files_info] if len(line) > 0]\n",
    "\n",
    "    def to_general_info(self):\n",
    "        return \"{hash};;{author};;{date};;{message};;{additions};;{additions_kt};;{additions_py};;{deletions};;{deletions_kt};;{deletions_py}\".format(\n",
    "            hash=self.hash,\n",
    "            author=self.author,\n",
    "            date=self.date,\n",
    "            message=self.message,\n",
    "            additions=sum([file_info.additions for file_info in self.file_infos if file_info.additions is not None]),\n",
    "            additions_kt=sum([file_info.additions for file_info in self.file_infos if file_info.extension == \"kt\" and file_info.additions is not None]),\n",
    "            additions_py=sum([file_info.additions for file_info in self.file_infos if file_info.extension == \"py\" and file_info.additions is not None]),\n",
    "            deletions=sum([file_info.deletions for file_info in self.file_infos if file_info.deletions is not None]),\n",
    "            deletions_kt=sum([file_info.deletions for file_info in self.file_infos if file_info.extension == \"kt\" and file_info.deletions is not None]),\n",
    "            deletions_py=sum([file_info.deletions for file_info in self.file_infos if file_info.extension == \"py\" and file_info.deletions is not None]),\n",
    "        )"
   ]
  },
  {
   "cell_type": "code",
   "execution_count": 5,
   "id": "51418a1b-4817-4020-acac-56c4bd40fce7",
   "metadata": {},
   "outputs": [],
   "source": [
    "commit_infos = []\n",
    "with open(INPUT_FILE, \"r\") as f:\n",
    "    info = []\n",
    "    for line in f:\n",
    "        if line.startswith(\"<[\") and line.endswith(\"]>\\n\"):\n",
    "            if len(info) > 0:\n",
    "                commit_infos.append(CommitInfo(info[0], info[1:]))\n",
    "            info = [line]\n",
    "        else:\n",
    "            info.append(line)\n",
    "    if len(info) > 0:\n",
    "        commit_infos.append(CommitInfo(info[0], info[1:]))"
   ]
  },
  {
   "cell_type": "code",
   "execution_count": 6,
   "id": "f625a01b-1a1b-4b92-abdd-6a30bd0495ee",
   "metadata": {},
   "outputs": [],
   "source": [
    "with open(COMMITS_CSV_FILE, \"w\") as f:\n",
    "    pass\n",
    "with open(COMMITS_CSV_FILE, \"a\") as f:\n",
    "    f.write(\"hash;;author;;date;;message;;additions;;additions_kt;;additions_py;;deletions;;deletions_kt;;deletions_py\\n\")\n",
    "    for commit_info in commit_infos:\n",
    "        if commit_info.date.split(\" \")[-2] != \"2024\":\n",
    "            continue\n",
    "        f.write(\"{0}\\n\".format(commit_info.to_general_info()))"
   ]
  },
  {
   "cell_type": "code",
   "execution_count": 7,
   "id": "ce0c8d41-3a29-47b1-b53a-e0f7bc95dc2d",
   "metadata": {},
   "outputs": [],
   "source": [
    "data = [file_info.to_tuple() for commit_info in commit_infos for file_info in commit_info.file_infos]\n",
    "df = pd.DataFrame.from_records(data, columns=[\"file_path\", \"file_name\", \"extension\", \"additions\", \"deletions\"])\n",
    "agg_df = df.groupby([\"file_path\", \"file_name\", \"extension\"]).sum().reset_index().sort_values(by=[\"additions\", \"deletions\"], ascending=[False, False])\n",
    "filtered_df = agg_df[(~agg_df[\"file_path\"].str.contains(\"=>\"))&((agg_df[\"additions\"]>0)|(agg_df[\"deletions\"]>0))].reset_index(drop=True)\n",
    "filtered_df.to_csv(FILES_CSV_FILE, index=False)"
   ]
  }
 ],
 "metadata": {
  "kernelspec": {
   "display_name": "Python 3 (ipykernel)",
   "language": "python",
   "name": "python3"
  },
  "language_info": {
   "codemirror_mode": {
    "name": "ipython",
    "version": 3
   },
   "file_extension": ".py",
   "mimetype": "text/x-python",
   "name": "python",
   "nbconvert_exporter": "python",
   "pygments_lexer": "ipython3",
   "version": "3.10.14"
  }
 },
 "nbformat": 4,
 "nbformat_minor": 5
}
