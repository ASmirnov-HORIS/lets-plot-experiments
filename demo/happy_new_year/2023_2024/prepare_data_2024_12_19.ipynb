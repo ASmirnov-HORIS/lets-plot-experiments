{
 "cells": [
  {
   "cell_type": "code",
   "execution_count": 1,
   "id": "71945d1b-3fc8-4551-a7af-6eba4b375a7c",
   "metadata": {},
   "outputs": [
    {
     "name": "stdout",
     "output_type": "stream",
     "text": [
      "Requirement already satisfied: meteostat in /home/asmirnov/Applications/miniconda3/envs/lets-plot-experiments/lib/python3.10/site-packages (1.6.8)\n",
      "Requirement already satisfied: pandas>=1.1 in /home/asmirnov/Applications/miniconda3/envs/lets-plot-experiments/lib/python3.10/site-packages (from meteostat) (2.2.2)\n",
      "Requirement already satisfied: pytz in /home/asmirnov/Applications/miniconda3/envs/lets-plot-experiments/lib/python3.10/site-packages (from meteostat) (2024.1)\n",
      "Requirement already satisfied: numpy in /home/asmirnov/Applications/miniconda3/envs/lets-plot-experiments/lib/python3.10/site-packages (from meteostat) (1.26.4)\n",
      "Requirement already satisfied: python-dateutil>=2.8.2 in /home/asmirnov/Applications/miniconda3/envs/lets-plot-experiments/lib/python3.10/site-packages (from pandas>=1.1->meteostat) (2.9.0)\n",
      "Requirement already satisfied: tzdata>=2022.7 in /home/asmirnov/Applications/miniconda3/envs/lets-plot-experiments/lib/python3.10/site-packages (from pandas>=1.1->meteostat) (2024.1)\n",
      "Requirement already satisfied: six>=1.5 in /home/asmirnov/Applications/miniconda3/envs/lets-plot-experiments/lib/python3.10/site-packages (from python-dateutil>=2.8.2->pandas>=1.1->meteostat) (1.16.0)\n"
     ]
    }
   ],
   "source": [
    "import sys\n",
    "!{sys.executable} -m pip install meteostat"
   ]
  },
  {
   "cell_type": "code",
   "execution_count": 2,
   "id": "b3c9c3d8-ea17-4483-bdc6-569f9d05d186",
   "metadata": {},
   "outputs": [],
   "source": [
    "from datetime import datetime\n",
    "\n",
    "from meteostat import Point, Daily\n",
    "import pandas as pd"
   ]
  },
  {
   "cell_type": "code",
   "execution_count": 3,
   "id": "8c07e046-f382-43ae-b8cf-d76d1d341baf",
   "metadata": {},
   "outputs": [],
   "source": [
    "INPUT_FILE = \"data/original/commits.txt\"\n",
    "COMMITS_CSV_FILE = \"data/generated/commits.csv\"\n",
    "FILES_CSV_FILE = \"data/generated/files.csv\"\n",
    "BAR_WEATHER_FILE = \"data/generated/bar_weather.csv\""
   ]
  },
  {
   "cell_type": "code",
   "execution_count": 4,
   "id": "9d0ea936-14fb-4d61-8f9c-07c17aefeb93",
   "metadata": {},
   "outputs": [],
   "source": [
    "class FileInfo:\n",
    "    def __init__(self, line):\n",
    "        additions, deletions, self.file_path = line.split(\"\\t\")\n",
    "        self.file_name = self.file_path.split(\"/\")[-1]\n",
    "        file_name_parts = self.file_name.split(\".\")\n",
    "        if len(file_name_parts) > 1:\n",
    "            self.extension = file_name_parts[-1]\n",
    "        else:\n",
    "            self.extension = None\n",
    "        try:\n",
    "            self.additions = int(additions)\n",
    "        except:\n",
    "            self.additions = None\n",
    "        try:\n",
    "            self.deletions = int(deletions)\n",
    "        except:\n",
    "            self.deletions = None\n",
    "\n",
    "    def to_tuple(self):\n",
    "        return (self.file_path, self.file_name, self.extension, self.additions, self.deletions)\n",
    "\n",
    "    def columns():\n",
    "        return [\"file_path\", \"file_name\", \"extension\", \"additions\", \"deletions\"]"
   ]
  },
  {
   "cell_type": "code",
   "execution_count": 5,
   "id": "ea1eb622-1865-47a7-90a0-079815397429",
   "metadata": {},
   "outputs": [],
   "source": [
    "class CommitInfo:\n",
    "    def __init__(self, commit_raw_info, files_info):\n",
    "        self.hash, self.author, self.date = commit_raw_info.strip().replace(\"<[\", \"\").replace(\"]>\", \"\").split(\";\")\n",
    "        self.file_infos = [\n",
    "            file_info\n",
    "            for file_info in [FileInfo(line) for line in [line.strip() for line in files_info] if len(line) > 0]\n",
    "            if \"{\" not in file_info.file_path and \"}\" not in file_info.file_path\n",
    "        ]\n",
    "\n",
    "    def to_df(self):\n",
    "        df = pd.DataFrame.from_records([\n",
    "            (self.hash, self.author, self.date, fi.extension, fi.additions, fi.deletions)\n",
    "            for fi in self.file_infos\n",
    "        ], columns=[\"hash\", \"author\", \"date\", \"extension\", \"additions\", \"deletions\"])\n",
    "        return df.groupby([\"hash\", \"author\", \"date\", \"extension\"])\\\n",
    "                 .sum().reset_index().sort_values(by=[\"additions\", \"deletions\"], ascending=[False, False])"
   ]
  },
  {
   "cell_type": "code",
   "execution_count": 6,
   "id": "51418a1b-4817-4020-acac-56c4bd40fce7",
   "metadata": {},
   "outputs": [],
   "source": [
    "commit_infos = []\n",
    "with open(INPUT_FILE, \"r\") as f:\n",
    "    info = []\n",
    "    for line in f:\n",
    "        if line.startswith(\"<[\") and line.endswith(\"]>\\n\"):\n",
    "            if len(info) > 0:\n",
    "                commit_infos.append(CommitInfo(info[0], info[1:]))\n",
    "            info = [line]\n",
    "        else:\n",
    "            info.append(line)\n",
    "    if len(info) > 0:\n",
    "        commit_infos.append(CommitInfo(info[0], info[1:]))"
   ]
  },
  {
   "cell_type": "code",
   "execution_count": 7,
   "id": "5977d483-d82d-4497-a495-2569c645f211",
   "metadata": {},
   "outputs": [],
   "source": [
    "pd.concat([\n",
    "    commit_info.to_df()\n",
    "    for commit_info in commit_infos\n",
    "    if commit_info.date.split(\" \")[-2] == \"2024\"\n",
    "]).to_csv(COMMITS_CSV_FILE, index=False, sep=\";\")"
   ]
  },
  {
   "cell_type": "code",
   "execution_count": 8,
   "id": "ce0c8d41-3a29-47b1-b53a-e0f7bc95dc2d",
   "metadata": {},
   "outputs": [],
   "source": [
    "data = [file_info.to_tuple() for commit_info in commit_infos for file_info in commit_info.file_infos]\n",
    "df = pd.DataFrame.from_records(data, columns=FileInfo.columns())\n",
    "agg_df = df.groupby([\"file_path\", \"file_name\", \"extension\"]).sum().reset_index().sort_values(by=[\"additions\", \"deletions\"], ascending=[False, False])\n",
    "filtered_df = agg_df[(~agg_df[\"file_path\"].str.contains(\"=>\"))&((agg_df[\"additions\"]>0)|(agg_df[\"deletions\"]>0))].reset_index(drop=True)\n",
    "filtered_df.to_csv(FILES_CSV_FILE, index=False)"
   ]
  },
  {
   "cell_type": "code",
   "execution_count": 9,
   "id": "ce4ba835-0c3c-4677-ba04-2f50802cd9e6",
   "metadata": {},
   "outputs": [],
   "source": [
    "bar_weather_df = Daily(\n",
    "    loc=Point(42.099998, 19.1),\n",
    "    start=datetime(2024, 1, 1),\n",
    "    end=datetime(2024, 12, 31)\n",
    ").fetch().reset_index()\n",
    "bar_weather_df.to_csv(BAR_WEATHER_FILE, index=False)"
   ]
  }
 ],
 "metadata": {
  "kernelspec": {
   "display_name": "Python 3 (ipykernel)",
   "language": "python",
   "name": "python3"
  },
  "language_info": {
   "codemirror_mode": {
    "name": "ipython",
    "version": 3
   },
   "file_extension": ".py",
   "mimetype": "text/x-python",
   "name": "python",
   "nbconvert_exporter": "python",
   "pygments_lexer": "ipython3",
   "version": "3.10.14"
  }
 },
 "nbformat": 4,
 "nbformat_minor": 5
}
