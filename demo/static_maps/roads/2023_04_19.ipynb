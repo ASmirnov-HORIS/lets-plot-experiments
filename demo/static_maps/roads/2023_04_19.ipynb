{
 "cells": [
  {
   "cell_type": "code",
   "execution_count": null,
   "id": "5ac0889e",
   "metadata": {},
   "outputs": [],
   "source": [
    "# Source: https://osdatahub.os.uk/downloads/open/OpenRoads"
   ]
  },
  {
   "cell_type": "code",
   "execution_count": null,
   "id": "ae54ee31",
   "metadata": {},
   "outputs": [],
   "source": [
    "from os import listdir, path\n",
    "\n",
    "import shapely\n",
    "import pandas as pd\n",
    "import geopandas as gpd\n",
    "\n",
    "from lets_plot import *\n",
    "from lets_plot.geo_data import *"
   ]
  },
  {
   "cell_type": "code",
   "execution_count": null,
   "id": "7404ab29",
   "metadata": {},
   "outputs": [],
   "source": [
    "LetsPlot.setup_html()"
   ]
  },
  {
   "cell_type": "code",
   "execution_count": null,
   "id": "4097b6f7",
   "metadata": {},
   "outputs": [],
   "source": [
    "INPUT_DIR = \"data\""
   ]
  },
  {
   "cell_type": "code",
   "execution_count": null,
   "id": "57498649",
   "metadata": {},
   "outputs": [],
   "source": [
    "def data_files(input_dir):\n",
    "    return {\n",
    "        filename[:2]: path.join(input_dir, filename)\n",
    "        for filename in listdir(input_dir)\n",
    "        if filename[3:] == \"RoadLink.shp\"\n",
    "    }\n",
    "\n",
    "def load_dataset(fullpath):\n",
    "    return gpd.read_file(fullpath)[[\"length\", \"geometry\"]].to_crs(4326)\n",
    "\n",
    "def prepare_dataset(fullpath):\n",
    "    gdf = load_dataset(fullpath)\n",
    "    return pd.DataFrame([\n",
    "        {'id': i, 'lon': p[0], 'lat': p[1], 'length': row['length']}\n",
    "        for i, row in gdf.to_dict(orient='index').items()\n",
    "        for p in zip(*row['geometry'].xy)\n",
    "    ])\n",
    "\n",
    "def add_prefix_to_id(df, prefix):\n",
    "    df['id'] = prefix + \"-\" + df['id'].astype(str)\n",
    "    return df\n",
    "\n",
    "def get_df(input_dir, input_slice=None):\n",
    "    if input_slice is None:\n",
    "        data_files_slice = data_files(input_dir)\n",
    "    else:\n",
    "        data_files_slice = dict(list(data_files(input_dir).items())[input_slice])\n",
    "    return pd.concat([\n",
    "        add_prefix_to_id(prepare_dataset(fullpath), region_id)\n",
    "        for region_id, fullpath in data_files_slice.items()\n",
    "    ])"
   ]
  },
  {
   "cell_type": "code",
   "execution_count": null,
   "id": "82597ec9",
   "metadata": {},
   "outputs": [],
   "source": [
    "'''\n",
    "N = 52\n",
    "times = []\n",
    "for i in range(N):\n",
    "    print(\"\\n{0}:\".format(i))\n",
    "    t = %timeit -n 2 -r 3 -o get_df(INPUT_DIR, slice(i, i + 1))\n",
    "    a = t.average\n",
    "    if len(times) == 0 or a > max(times):\n",
    "        print(\"(longest)\")\n",
    "    times.append(a)\n",
    "'''"
   ]
  },
  {
   "cell_type": "code",
   "execution_count": null,
   "id": "23bd0674",
   "metadata": {},
   "outputs": [],
   "source": [
    "df = get_df(INPUT_DIR, slice(0, 1))\n",
    "print(df.shape)\n",
    "df.head()"
   ]
  },
  {
   "cell_type": "code",
   "execution_count": null,
   "id": "e25f0fe9",
   "metadata": {},
   "outputs": [],
   "source": [
    "ggplot(df, aes(\"lon\", \"lat\")) + \\\n",
    "    geom_path(aes(group=\"id\", color=\"length\"))"
   ]
  },
  {
   "cell_type": "markdown",
   "id": "d274bab3",
   "metadata": {},
   "source": [
    "---"
   ]
  },
  {
   "cell_type": "code",
   "execution_count": null,
   "id": "75a92408",
   "metadata": {},
   "outputs": [],
   "source": [
    "'''\n",
    "gdf = gpd.read_file(\"data/HP_RoadLink.shp\")[[\"length\", \"geometry\"]].to_crs(4326)\n",
    "print(gdf.shape)\n",
    "gdf.head()\n",
    "'''"
   ]
  },
  {
   "cell_type": "code",
   "execution_count": null,
   "id": "355a9b09",
   "metadata": {},
   "outputs": [],
   "source": [
    "'''\n",
    "df = pd.DataFrame([\n",
    "    {'id': i, 'lon': p[0], 'lat': p[1], 'length': row['length']}\n",
    "    for i, row in gdf.to_dict(orient='index').items()\n",
    "    for p in zip(*row['geometry'].xy)\n",
    "])\n",
    "print(df.shape)\n",
    "df.head()\n",
    "'''"
   ]
  },
  {
   "cell_type": "code",
   "execution_count": null,
   "id": "ba3de87b",
   "metadata": {},
   "outputs": [],
   "source": [
    "'''\n",
    "ggplot(df, aes(\"lon\", \"lat\")) + \\\n",
    "    geom_path(aes(group=\"id\", color=\"length\")) + \\\n",
    "    scale_color_grey()\n",
    "'''"
   ]
  },
  {
   "cell_type": "markdown",
   "id": "2672094f",
   "metadata": {},
   "source": [
    "---"
   ]
  },
  {
   "cell_type": "code",
   "execution_count": null,
   "id": "fc5fd83c",
   "metadata": {},
   "outputs": [],
   "source": [
    "'''\n",
    "gdf = gpd.read_file(\"data/HP_RoadLink.shp\")[[\"length\", \"geometry\"]].to_crs(4326)\n",
    "gdf[\"geometry\"] = gdf[\"geometry\"].apply(lambda v: shapely.wkb.loads(shapely.wkb.dumps(v, output_dimension=2)))\n",
    "print(gdf.shape)\n",
    "gdf.head()\n",
    "'''"
   ]
  },
  {
   "cell_type": "code",
   "execution_count": null,
   "id": "1ea5b503",
   "metadata": {},
   "outputs": [],
   "source": [
    "'''\n",
    "ggplot() + \\\n",
    "    geom_path(aes(color=\"length\"), data=gdf)\n",
    "'''"
   ]
  },
  {
   "cell_type": "markdown",
   "id": "526e227a",
   "metadata": {},
   "source": [
    "---"
   ]
  },
  {
   "cell_type": "code",
   "execution_count": null,
   "id": "255a29d3",
   "metadata": {},
   "outputs": [],
   "source": [
    "def data_files(input_dir):\n",
    "    return {\n",
    "        filename[:2]: path.join(input_dir, filename)\n",
    "        for filename in listdir(input_dir)\n",
    "        if filename[3:] == \"RoadLink.shp\"\n",
    "    }\n",
    "\n",
    "def load_dataset(fullpath, outer_geom=None):\n",
    "    gdf = gpd.read_file(fullpath)\n",
    "    gdf = gdf[[\"geometry\", \"length\"]] # remove extra columns\n",
    "    gdf = gdf.to_crs(4326) # transform coordinates to EPSG:4326\n",
    "    if outer_geom is not None:\n",
    "        gdf = gdf[gdf[\"geometry\"].intersects(outer_geom)] # restrict paths by outer geometry\n",
    "    gdf[\"geometry\"] = gdf[\"geometry\"].apply(\n",
    "        lambda v: shapely.wkb.loads(shapely.wkb.dumps(v, output_dimension=2))\n",
    "    ) # remove extra third coordinate (that is always 0)\n",
    "    return gdf\n",
    "\n",
    "def get_gdf(input_dir, *, outer_geom=None, input_slice=None):\n",
    "    if input_slice is None:\n",
    "        data_files_slice = data_files(input_dir)\n",
    "    else:\n",
    "        data_files_slice = {k: v for k, v in data_files(input_dir).items() if k in input_slice}\n",
    "    return gpd.GeoDataFrame(pd.concat([\n",
    "        load_dataset(fullpath, outer_geom).assign(id=file_id)\n",
    "        for file_id, fullpath in data_files_slice.items()\n",
    "    ], ignore_index=True))"
   ]
  },
  {
   "cell_type": "code",
   "execution_count": null,
   "id": "cbca5cec",
   "metadata": {},
   "outputs": [],
   "source": [
    "london_gdf = geocode_counties(\"London\").get_boundaries()\n",
    "london_gdf"
   ]
  },
  {
   "cell_type": "code",
   "execution_count": null,
   "id": "387d0552",
   "metadata": {},
   "outputs": [],
   "source": [
    "roads_gdf = get_gdf(INPUT_DIR, outer_geom=london_gdf.iloc[0].geometry, input_slice=[\"TL\", \"TQ\"])\n",
    "print(roads_gdf.shape)\n",
    "roads_gdf.head()"
   ]
  },
  {
   "cell_type": "code",
   "execution_count": null,
   "id": "9b203adf",
   "metadata": {},
   "outputs": [],
   "source": [
    "ggplot() + \\\n",
    "    geom_map(map=london_gdf) + \\\n",
    "    geom_path(map=roads_gdf.iloc[:10])"
   ]
  }
 ],
 "metadata": {
  "kernelspec": {
   "display_name": "Python 3 (ipykernel)",
   "language": "python",
   "name": "python3"
  },
  "language_info": {
   "codemirror_mode": {
    "name": "ipython",
    "version": 3
   },
   "file_extension": ".py",
   "mimetype": "text/x-python",
   "name": "python",
   "nbconvert_exporter": "python",
   "pygments_lexer": "ipython3",
   "version": "3.8.16"
  }
 },
 "nbformat": 4,
 "nbformat_minor": 5
}
