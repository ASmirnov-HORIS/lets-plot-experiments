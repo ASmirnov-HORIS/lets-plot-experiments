{
 "cells": [
  {
   "cell_type": "code",
   "execution_count": 1,
   "id": "3222ce70-9365-4c3c-acc7-6b0cb5a8d829",
   "metadata": {},
   "outputs": [
    {
     "name": "stdout",
     "output_type": "stream",
     "text": [
      "package 'gridExtra' successfully unpacked and MD5 sums checked\n",
      "\n",
      "The downloaded binary packages are in\n",
      "\tC:\\Users\\Artem Smirnov\\AppData\\Local\\Temp\\RtmpUD85Nt\\downloaded_packages\n"
     ]
    }
   ],
   "source": [
    "install.packages(\"gridExtra\")"
   ]
  },
  {
   "cell_type": "code",
   "execution_count": 2,
   "id": "47311558",
   "metadata": {},
   "outputs": [],
   "source": [
    "library(ggplot2)\n",
    "library(gridExtra)"
   ]
  },
  {
   "cell_type": "code",
   "execution_count": 3,
   "id": "cc2374a9-f795-4472-bb88-b7cc8da6db03",
   "metadata": {},
   "outputs": [],
   "source": [
    "# TODO: options(warn=-1)"
   ]
  },
  {
   "cell_type": "code",
   "execution_count": 14,
   "id": "95077833-e203-4b73-8f49-b0076aa8bbce",
   "metadata": {},
   "outputs": [],
   "source": [
    "df <- data.frame(\n",
    "    x = seq(-20, 20, 0.5),\n",
    "    y = seq(-20, 20, 0.5)\n",
    ")"
   ]
  },
  {
   "cell_type": "code",
   "execution_count": 15,
   "id": "7ff5d13b-45c8-4725-8160-a7c23f323a67",
   "metadata": {},
   "outputs": [
    {
     "name": "stderr",
     "output_type": "stream",
     "text": [
      "Warning message in sqrt(x):\n",
      "\"NaNs produced\"\n",
      "Warning message in asin(sqrt(x)):\n",
      "\"NaNs produced\"\n",
      "Warning message:\n",
      "\"\u001b[1m\u001b[22mTransformation introduced infinite values in continuous y-axis\"\n",
      "Warning message:\n",
      "\"\u001b[1m\u001b[22mRemoved 78 rows containing missing values (`geom_point()`).\"\n"
     ]
    },
    {
     "data": {
      "image/png": "[encoded data removed]",
      "text/plain": [
       "plot without title"
      ]
     },
     "metadata": {
      "image/png": {
       "height": 420,
       "width": 420
      }
     },
     "output_type": "display_data"
    }
   ],
   "source": [
    "p <- ggplot(df, aes(x, y)) + geom_point()\n",
    "p1 <- p + ggtitle(\"Default\")\n",
    "p2 <- p + scale_y_continuous(trans = \"asn\") + ggtitle(\"arcsin\")\n",
    "p3 <- p + scale_y_continuous(trans = \"pseudo_log\") + ggtitle(\"pseudo_log\")\n",
    "\n",
    "grid.arrange(p1, p2, p3, ncol=2)"
   ]
  }
 ],
 "metadata": {
  "kernelspec": {
   "display_name": "R",
   "language": "R",
   "name": "ir"
  },
  "language_info": {
   "codemirror_mode": "r",
   "file_extension": ".r",
   "mimetype": "text/x-r-source",
   "name": "R",
   "pygments_lexer": "r",
   "version": "4.1.3"
  }
 },
 "nbformat": 4,
 "nbformat_minor": 5
}
