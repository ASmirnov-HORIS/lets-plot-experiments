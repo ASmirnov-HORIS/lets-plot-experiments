{
 "cells": [
  {
   "cell_type": "markdown",
   "id": "8023e47d-62e8-4192-98d2-5728e53bd208",
   "metadata": {},
   "source": [
    "# Waterfall Chart\n",
    "\n",
    "See:\n",
    "\n",
    "- [Wikipedia article](https://en.wikipedia.org/wiki/Waterfall_chart)\n",
    "- [ggplot2 + waterfalls](https://r-charts.com/flow/waterfall-chart/)"
   ]
  },
  {
   "cell_type": "code",
   "execution_count": null,
   "id": "fc5ec06c-8e83-4bed-9b92-a75e548c0045",
   "metadata": {},
   "outputs": [],
   "source": [
    "from lets_plot import *\n",
    "from lets_plot.bistro import *"
   ]
  },
  {
   "cell_type": "code",
   "execution_count": null,
   "id": "d28d3d4d-e8cd-44e6-b52c-c46b985dc52c",
   "metadata": {},
   "outputs": [],
   "source": [
    "LetsPlot.setup_html()"
   ]
  },
  {
   "cell_type": "code",
   "execution_count": null,
   "id": "166ccf3a-a333-48dc-910a-e790ec869c65",
   "metadata": {},
   "outputs": [],
   "source": [
    "data1 = dict(\n",
    "    x = [\"A\", \"C\", \"B\", \"D\", \"E\"],\n",
    "    y = [100, 300, -200, 100, -200],\n",
    ")\n",
    "\n",
    "data2 = dict(\n",
    "    x = [\"A\", \"B\", \"C\", \"D\", \"T1\", \"A\", \"B\", \"C\", \"D\", \"T2\"],\n",
    "    y = [100, 100, -300, 500, None, -200, 300, 100, -300, 0.0],\n",
    "    m = ['relative', 'relative', 'relative', 'relative', 'total', 'relative', 'relative', 'relative', 'relative', 'total'],\n",
    ")"
   ]
  },
  {
   "cell_type": "markdown",
   "id": "8c8ff80a-7239-45de-95f2-aff92ec80663",
   "metadata": {},
   "source": [
    "## Default"
   ]
  },
  {
   "cell_type": "code",
   "execution_count": null,
   "id": "e7c6897f-528c-4c53-972d-0366e87d2343",
   "metadata": {},
   "outputs": [],
   "source": [
    "waterfall_plot(data2, 'x', 'y', measure='m')"
   ]
  },
  {
   "cell_type": "markdown",
   "id": "8e466d64-26fe-4cc4-8779-ade4144a3071",
   "metadata": {},
   "source": [
    "## Parameters"
   ]
  },
  {
   "cell_type": "markdown",
   "id": "7028d937-c877-484f-9e55-ea430e916eff",
   "metadata": {},
   "source": [
    "### Aesthetics"
   ]
  },
  {
   "cell_type": "code",
   "execution_count": null,
   "id": "2a13ecdb-fb38-4602-bd3a-e1dcf57aaa47",
   "metadata": {},
   "outputs": [],
   "source": [
    "# color\n",
    "gggrid([\n",
    "    waterfall_plot(data2, 'x', 'y', measure='m', size=1, color=\"magenta\"),\n",
    "    waterfall_plot(data2, 'x', 'y', measure='m', size=1, color='flow_type', fill=\"lightgrey\")\n",
    "])"
   ]
  },
  {
   "cell_type": "code",
   "execution_count": null,
   "id": "89b4dd39-10f7-4acf-8ef1-7c17b0c355e8",
   "metadata": {},
   "outputs": [],
   "source": [
    "# fill\n",
    "waterfall_plot(data2, 'x', 'y', measure='m', fill=\"magenta\")"
   ]
  },
  {
   "cell_type": "code",
   "execution_count": null,
   "id": "06806c57-12b3-4c87-9e45-6e5c68b39623",
   "metadata": {},
   "outputs": [],
   "source": [
    "# size\n",
    "waterfall_plot(data2, 'x', 'y', measure='m', size=2)"
   ]
  },
  {
   "cell_type": "code",
   "execution_count": null,
   "id": "3b220383-1fc7-4738-b0ba-e6bf9015e6c5",
   "metadata": {},
   "outputs": [],
   "source": [
    "# alpha\n",
    "waterfall_plot(data2, 'x', 'y', measure='m', alpha=.5)"
   ]
  },
  {
   "cell_type": "code",
   "execution_count": null,
   "id": "b5ace38c-176e-4dca-afea-ee4d37de097d",
   "metadata": {},
   "outputs": [],
   "source": [
    "# linetype\n",
    "waterfall_plot(data2, 'x', 'y', measure='m', size=1, linetype='dashed')"
   ]
  },
  {
   "cell_type": "code",
   "execution_count": null,
   "id": "3759af3d-cbe9-4a75-9448-b7cc2aab89c7",
   "metadata": {},
   "outputs": [],
   "source": [
    "# width\n",
    "waterfall_plot(data2, 'x', 'y', measure='m', width=.4)"
   ]
  },
  {
   "cell_type": "markdown",
   "id": "d5a0a0d7-e166-4f4b-a785-5fe4967beb0f",
   "metadata": {},
   "source": [
    "### Standard parameters"
   ]
  },
  {
   "cell_type": "code",
   "execution_count": null,
   "id": "315b1807-7504-4aca-8c30-caafcc10f3d5",
   "metadata": {},
   "outputs": [],
   "source": [
    "# show_legend\n",
    "gggrid([\n",
    "    waterfall_plot(data1, 'x', 'y', show_legend=True) + ggtitle(\"Show legend\", \"Default calc_total, without measure\"),\n",
    "    waterfall_plot(data1, 'x', 'y', show_legend=True, calc_total=False) + ggtitle(\"Show legend\", \"calc_total=False, without measure\"),\n",
    "    waterfall_plot(data2, 'x', 'y', measure='m', show_legend=True) + ggtitle(\"Show legend\", \"Default calc_total, with measure\"),\n",
    "    waterfall_plot(data2, 'x', 'y', measure='m', show_legend=True, calc_total=False) + ggtitle(\"Show legend\", \"calc_total=False, with measure\"),\n",
    "], ncol=2)"
   ]
  },
  {
   "cell_type": "code",
   "execution_count": null,
   "id": "d454a5c1-0b86-4f76-af24-7bb0138b2a65",
   "metadata": {},
   "outputs": [],
   "source": [
    "# tooltips\n",
    "gggrid([\n",
    "    waterfall_plot(data2, 'x', 'y', measure='m', tooltips='none'),\n",
    "    waterfall_plot(data2, 'x', 'y', measure='m', tooltips=layer_tooltips().line(\"@dy: from @initial to @cumsum\").disable_splitting())\n",
    "])"
   ]
  },
  {
   "cell_type": "markdown",
   "id": "5f7dcd1c-2683-48dd-b837-5c77a211454b",
   "metadata": {},
   "source": [
    "### Waterfall-specific parameters"
   ]
  },
  {
   "cell_type": "code",
   "execution_count": null,
   "id": "5f3f0eaf-837c-48e9-b3ca-a9e3ef5d2c56",
   "metadata": {},
   "outputs": [],
   "source": [
    "# sorted_value\n",
    "waterfall_plot(data2, 'x', 'y', measure='m', sorted_value=True)"
   ]
  },
  {
   "cell_type": "code",
   "execution_count": null,
   "id": "4efd06f0-ed57-4920-bf15-788555c6ca69",
   "metadata": {},
   "outputs": [],
   "source": [
    "# threshold\n",
    "waterfall_plot(data2, 'x', 'y', measure='m', threshold=300)"
   ]
  },
  {
   "cell_type": "code",
   "execution_count": null,
   "id": "97c3799d-67aa-4c85-b562-1b2141f4c58d",
   "metadata": {},
   "outputs": [],
   "source": [
    "# max_values\n",
    "waterfall_plot(data2, 'x', 'y', measure='m', max_values=2)"
   ]
  },
  {
   "cell_type": "code",
   "execution_count": null,
   "id": "6967f33f-bc0b-44b6-8eea-f2659d235a34",
   "metadata": {},
   "outputs": [],
   "source": [
    "# Use threshold to skip zeros\n",
    "data_with_zeros = dict(\n",
    "    x=['a', 'b', 'c', 'd', 't', 'a', 'b', 't'],\n",
    "    y=[1, -2, 3, 0, None, 0, 2, None],\n",
    "    m=['relative', 'relative', 'relative', 'relative', 'total', 'relative', 'relative', 'total'],\n",
    ")\n",
    "\n",
    "gggrid([\n",
    "    waterfall_plot(data_with_zeros, 'x', 'y', measure='m'),\n",
    "    waterfall_plot(data_with_zeros, 'x', 'y', measure='m', threshold=1),\n",
    "])"
   ]
  },
  {
   "cell_type": "code",
   "execution_count": null,
   "id": "9d7ebb15-38ae-4d2b-946d-17f893239a6e",
   "metadata": {},
   "outputs": [],
   "source": [
    "# calc_total\n",
    "waterfall_plot(data2, 'x', 'y', measure='m', calc_total=False)"
   ]
  },
  {
   "cell_type": "code",
   "execution_count": null,
   "id": "96d80733-8f76-4573-bf26-0ee53a17cad3",
   "metadata": {},
   "outputs": [],
   "source": [
    "# total_title\n",
    "waterfall_plot(data2, 'x', 'y', measure='m', total_title=\"Result\", show_legend=True)"
   ]
  },
  {
   "cell_type": "markdown",
   "id": "dbf21bda-d4b9-40ba-a60c-ca48b1dcd96d",
   "metadata": {},
   "source": [
    "### Control additional geometries"
   ]
  },
  {
   "cell_type": "code",
   "execution_count": null,
   "id": "78ee7e3d-e3de-4411-ab06-c8f052dfa3ab",
   "metadata": {},
   "outputs": [],
   "source": [
    "# hline\n",
    "gggrid([\n",
    "    waterfall_plot(data2, 'x', 'y', measure='m', hline=element_line()),\n",
    "    waterfall_plot(data2, 'x', 'y', measure='m', hline=element_line(blank=True)),\n",
    "    waterfall_plot(data2, 'x', 'y', measure='m', hline=element_blank()),\n",
    "    waterfall_plot(data2, 'x', 'y', measure='m', hline='blank'),\n",
    "], ncol=2)"
   ]
  },
  {
   "cell_type": "code",
   "execution_count": null,
   "id": "851574de-f71e-4d18-9440-43fad28c3579",
   "metadata": {},
   "outputs": [],
   "source": [
    "# hline_ontop\n",
    "waterfall_plot(data2, 'x', 'y', measure='m', hline=element_line(), hline_ontop=False)"
   ]
  },
  {
   "cell_type": "code",
   "execution_count": null,
   "id": "fb978e16-8970-4912-9e42-48826bfe0116",
   "metadata": {},
   "outputs": [],
   "source": [
    "# hline color\n",
    "waterfall_plot(data2, 'x', 'y', measure='m', hline=element_line(color=\"magenta\"))"
   ]
  },
  {
   "cell_type": "code",
   "execution_count": null,
   "id": "e762863e-fe2e-4f0d-a601-ace2d1e951e2",
   "metadata": {},
   "outputs": [],
   "source": [
    "# hline size\n",
    "waterfall_plot(data2, 'x', 'y', measure='m', hline=element_line(size=2))"
   ]
  },
  {
   "cell_type": "code",
   "execution_count": null,
   "id": "d52b6edf-73c8-4b19-afd5-317ab8854e7f",
   "metadata": {},
   "outputs": [],
   "source": [
    "# hline linetype\n",
    "waterfall_plot(data2, 'x', 'y', measure='m', hline=element_line(linetype='solid'))"
   ]
  },
  {
   "cell_type": "code",
   "execution_count": null,
   "id": "e53879d0-e343-4229-a704-ced71127be89",
   "metadata": {},
   "outputs": [],
   "source": [
    "# connector\n",
    "gggrid([\n",
    "    waterfall_plot(data2, 'x', 'y', measure='m', width=.5, connector=element_line()),\n",
    "    waterfall_plot(data2, 'x', 'y', measure='m', width=.5, connector=element_line(blank=True)),\n",
    "    waterfall_plot(data2, 'x', 'y', measure='m', width=.5, connector=element_blank()),\n",
    "    waterfall_plot(data2, 'x', 'y', measure='m', width=.5, connector='blank'),\n",
    "], ncol=2)"
   ]
  },
  {
   "cell_type": "code",
   "execution_count": null,
   "id": "066f4ea3-5b5b-4f89-b34e-60ac8ff33302",
   "metadata": {},
   "outputs": [],
   "source": [
    "# connector color\n",
    "waterfall_plot(data2, 'x', 'y', measure='m', width=.5, connector=element_line(color=\"magenta\"))"
   ]
  },
  {
   "cell_type": "code",
   "execution_count": null,
   "id": "487a7d84-d647-4f10-996b-1d3fe4cd098a",
   "metadata": {},
   "outputs": [],
   "source": [
    "# connector size\n",
    "waterfall_plot(data2, 'x', 'y', measure='m', width=.5, connector=element_line(size=2))"
   ]
  },
  {
   "cell_type": "code",
   "execution_count": null,
   "id": "6b4698b8-211c-4709-9593-0f0be28f8c9c",
   "metadata": {},
   "outputs": [],
   "source": [
    "# connector linetype\n",
    "waterfall_plot(data2, 'x', 'y', measure='m', width=.5, connector=element_line(linetype='dotted'))"
   ]
  },
  {
   "cell_type": "code",
   "execution_count": null,
   "id": "58836d0f-b7f0-40c0-ae97-3ce29672470c",
   "metadata": {},
   "outputs": [],
   "source": [
    "# label\n",
    "gggrid([\n",
    "    waterfall_plot(data2, 'x', 'y', measure='m', label=element_text()),\n",
    "    waterfall_plot(data2, 'x', 'y', measure='m', label=element_text(blank=True)),\n",
    "    waterfall_plot(data2, 'x', 'y', measure='m', label=element_blank()),\n",
    "    waterfall_plot(data2, 'x', 'y', measure='m', label='blank'),\n",
    "], ncol=2)"
   ]
  },
  {
   "cell_type": "code",
   "execution_count": null,
   "id": "6c322564-3d7e-41a8-a6d9-9cf331a1eb59",
   "metadata": {},
   "outputs": [],
   "source": [
    "# label color\n",
    "gggrid([\n",
    "    waterfall_plot(data2, 'x', 'y', measure='m', label=element_text(color=\"yellow\")),\n",
    "    waterfall_plot(data2, 'x', 'y', measure='m', fill=\"lightgray\", label=element_text(color='flow_type'))\n",
    "])"
   ]
  },
  {
   "cell_type": "code",
   "execution_count": null,
   "id": "13b89165-f88d-4619-be33-6d1e7278c48b",
   "metadata": {},
   "outputs": [],
   "source": [
    "# label family\n",
    "waterfall_plot(data2, 'x', 'y', measure='m', label=element_text(family=\"Courier\"))"
   ]
  },
  {
   "cell_type": "code",
   "execution_count": null,
   "id": "0f84345b-af6f-4f60-9ba4-e2d7ebb9810d",
   "metadata": {},
   "outputs": [],
   "source": [
    "# label face\n",
    "waterfall_plot(data2, 'x', 'y', measure='m', label=element_text(face='bold_italic'))"
   ]
  },
  {
   "cell_type": "code",
   "execution_count": null,
   "id": "912eb4e7-7b9b-4251-b20b-82cc138475ca",
   "metadata": {},
   "outputs": [],
   "source": [
    "# label size\n",
    "waterfall_plot(data2, 'x', 'y', measure='m', label=element_text(size=10))"
   ]
  },
  {
   "cell_type": "code",
   "execution_count": null,
   "id": "f8ef8a97-cc14-4316-9f96-a4ebc58064cd",
   "metadata": {},
   "outputs": [],
   "source": [
    "# label angle\n",
    "waterfall_plot(data2, 'x', 'y', measure='m', label=element_text(angle=45))"
   ]
  },
  {
   "cell_type": "code",
   "execution_count": null,
   "id": "38f6dcbc-b448-4e6b-92ba-23abf38bc509",
   "metadata": {},
   "outputs": [],
   "source": [
    "# label hjust/vjust\n",
    "def get_waterfall_with_justified_labels(hjust, vjust):\n",
    "    return waterfall_plot(data2, 'x', 'y', measure='m', label=element_text(hjust=hjust, vjust=vjust)) + \\\n",
    "        ggtitle(\"Justified labels\", \"hjust={0}, vjust={1}\".format(hjust, vjust))\n",
    "\n",
    "gggrid([\n",
    "    get_waterfall_with_justified_labels(0, 0), get_waterfall_with_justified_labels(0, 1),\n",
    "    get_waterfall_with_justified_labels(1, 0), get_waterfall_with_justified_labels(1, 1),\n",
    "], ncol=2)"
   ]
  },
  {
   "cell_type": "code",
   "execution_count": null,
   "id": "60449da7-d537-4b38-b5a5-f764260be30b",
   "metadata": {},
   "outputs": [],
   "source": [
    "# label_format\n",
    "waterfall_plot(data2, 'x', 'y', measure='m', label_format=\"({.1f})\")"
   ]
  },
  {
   "cell_type": "markdown",
   "id": "6929b319-34fd-4b2c-91d6-8c62c1bc50eb",
   "metadata": {},
   "source": [
    "## Other Customizations"
   ]
  },
  {
   "cell_type": "code",
   "execution_count": null,
   "id": "95278b59-a904-4638-883f-60f34fa9cbdd",
   "metadata": {},
   "outputs": [],
   "source": [
    "# fill and color\n",
    "\n",
    "gggrid([\n",
    "    waterfall_plot(data2, 'x', 'y', measure='m', show_legend=True, size=1, color=\"#777777\", label=element_text(color=\"#777777\")) + \\\n",
    "        scale_fill_manual({\"Increase\": \"white\", \"Decrease\": \"black\", \"Total\": \"yellow\"}) + \\\n",
    "        ggtitle(\"Custom scale_fill_manual()\"),\n",
    "    waterfall_plot(data2, 'x', 'y', measure='m', show_legend=True, fill=\"black\", label=element_text(color='flow_type')) + \\\n",
    "        scale_color_manual({\"Increase\": \"green\", \"Decrease\": \"yellow\", \"Total\": \"#bbbbff\"}) + \\\n",
    "        ggtitle(\"Custom scale_color_manual()\"),\n",
    "    waterfall_plot(data2, 'x', 'y', measure='m', show_legend=True, color=\"#777777\", label=element_text(color=\"#777777\")) + \\\n",
    "        scale_fill_manual({\"Increase\": \"green\", \"Decrease\": \"red\", \"Total\": \"yellow\"}, labels=[\"Up\", \"Down\", \"Result\"]) + \\\n",
    "        ggtitle(\"Custom flow type names\"),\n",
    "], ncol=3)"
   ]
  },
  {
   "cell_type": "code",
   "execution_count": null,
   "id": "85532cdd-73c8-40e2-922e-f3370e043ceb",
   "metadata": {},
   "outputs": [],
   "source": [
    "# flip coordinates\n",
    "waterfall_plot(data2, 'x', 'y', measure='m') + coord_flip()"
   ]
  },
  {
   "cell_type": "code",
   "execution_count": null,
   "id": "1c9916f8-c82d-459a-bb35-609bcf38448b",
   "metadata": {},
   "outputs": [],
   "source": [
    "# custom theme\n",
    "waterfall_plot(data2, 'x', 'y', measure='m') + theme_bw() + flavor_darcula()"
   ]
  },
  {
   "cell_type": "markdown",
   "id": "5a9be86e-68ac-417d-b08d-f551d8deb98f",
   "metadata": {},
   "source": [
    "## Tests"
   ]
  },
  {
   "cell_type": "markdown",
   "id": "3dfb594b-a818-4d89-b107-e76b96c781dd",
   "metadata": {},
   "source": [
    "### Boundary Value Analysis"
   ]
  },
  {
   "cell_type": "code",
   "execution_count": null,
   "id": "5e9ae148-d20f-4d7a-b1fc-a678ba806885",
   "metadata": {},
   "outputs": [],
   "source": [
    "import numpy as np\n",
    "\n",
    "class BVATest:\n",
    "    def __init__(self, data, title, show=True):\n",
    "        self.data = data\n",
    "        self.title = title\n",
    "        self.show = show\n",
    "\n",
    "    def to_plot(self):\n",
    "        return gggrid([\n",
    "            waterfall_plot(self.data, 'x', 'y', measure='m', calc_total=True) + \\\n",
    "                ggtitle(self.title, \"calc_total=True\"),\n",
    "            waterfall_plot(self.data, 'x', 'y', measure='m', calc_total=False) + \\\n",
    "                ggtitle(self.title, \"calc_total=False\"),\n",
    "        ])\n",
    "\n",
    "show_all = False\n",
    "bva_tests = [\n",
    "    BVATest(\n",
    "        data=dict(\n",
    "            x=[],\n",
    "            y=[],\n",
    "            m=[],\n",
    "        ),\n",
    "        title=\"Empty dataset\",\n",
    "    ),\n",
    "    BVATest(\n",
    "        data=dict(\n",
    "            x=[\"A\", \"T\"],\n",
    "            y=[1, None],\n",
    "            m=['relative', 'total'],\n",
    "        ),\n",
    "        title=\"One value dataset\",\n",
    "    ),\n",
    "    BVATest(\n",
    "        data=dict(\n",
    "            x=[\"A\", \"A\", \"T\"],\n",
    "            y=[1, 2, None],\n",
    "            m=['relative', 'relative', 'total'],\n",
    "        ),\n",
    "        title=\"Repeated categories\",\n",
    "    ),\n",
    "    BVATest(\n",
    "        data=dict(\n",
    "            x=[\"A\", \"T\"],\n",
    "            y=[0, None],\n",
    "            m=['relative', 'total'],\n",
    "        ),\n",
    "        title=\"Zero values\",\n",
    "    ),\n",
    "    BVATest(\n",
    "        data=dict(\n",
    "            x=[\"A\", \"T\"],\n",
    "            y=[-1, None],\n",
    "            m=['relative', 'total'],\n",
    "        ),\n",
    "        title=\"Negative values\",\n",
    "    ),\n",
    "    BVATest(\n",
    "        data=dict(\n",
    "            x=[1, 0],\n",
    "            y=[1, None],\n",
    "            m=['relative', 'total'],\n",
    "        ),\n",
    "        title=\"Numeric x\",\n",
    "    ),\n",
    "    BVATest(\n",
    "        data=dict(\n",
    "            x=[\"A\", \"B\", \"T\"],\n",
    "            y=[1, float('inf'), float('-inf')],\n",
    "            m=['relative', 'relative', 'total'],\n",
    "        ),\n",
    "        title=\"Inf values\",\n",
    "    ),\n",
    "    BVATest(\n",
    "        data=dict(\n",
    "            x=[\"A\", \"B\", \"C\", None],\n",
    "            y=[1, 1, None, 1],\n",
    "            m=['relative', None, 'relative', 'total'],\n",
    "        ),\n",
    "        title=\"None values\",\n",
    "        show=False,\n",
    "    ),\n",
    "    BVATest(\n",
    "        data=dict(\n",
    "            x=[\"A\", \"B\", \"C\", np.nan],\n",
    "            y=[1, 1, np.nan, 1],\n",
    "            m=['relative', np.nan, 'relative', 'total'],\n",
    "        ),\n",
    "        title=\"np.nan values\",\n",
    "        show=False,\n",
    "    ),\n",
    "    BVATest(\n",
    "        data=dict(\n",
    "            x=[\"A\", \"B\", \"T\"],\n",
    "            y=[1, -1, None],\n",
    "            m=['relative', 'relative', 'total'],\n",
    "        ),\n",
    "        title=\"Total is zero\",\n",
    "    ),\n",
    "]\n",
    "\n",
    "gggrid([\n",
    "    t.to_plot()\n",
    "    for t in filter(lambda t: show_all or t.show, bva_tests)\n",
    "], ncol=1)"
   ]
  },
  {
   "cell_type": "markdown",
   "id": "431578e4-ba1a-412c-8187-900593e94453",
   "metadata": {},
   "source": [
    "### Regression Testing"
   ]
  },
  {
   "cell_type": "code",
   "execution_count": null,
   "id": "729811ab-68a3-417f-b9a0-0c4e6811b17b",
   "metadata": {},
   "outputs": [],
   "source": [
    "# Total should be equal to 3 (in labels and tooltips)\n",
    "waterfall_plot(dict(x=[\"A\", \"B\", \"T\"], y=[1, 2, None], m=['relative', 'relative', 'total']), 'x', 'y', measure='m')"
   ]
  },
  {
   "cell_type": "code",
   "execution_count": null,
   "id": "dc6cd1f0-29b5-4d65-b086-ad78509485d7",
   "metadata": {},
   "outputs": [],
   "source": [
    "# Change of hline properties shouldn't affect to the further plots. The same is for connector and label.\n",
    "gggrid([\n",
    "    waterfall_plot(data2, 'x', 'y', measure='m', hline=element_line(color=\"magenta\")),\n",
    "    waterfall_plot(data2, 'x', 'y', measure='m', hline=element_line()),\n",
    "    waterfall_plot(data2, 'x', 'y', measure='m', connector=element_line(color=\"magenta\")),\n",
    "    waterfall_plot(data2, 'x', 'y', measure='m', connector=element_line()),\n",
    "    waterfall_plot(data2, 'x', 'y', measure='m', label=element_text(color=\"black\")),\n",
    "    waterfall_plot(data2, 'x', 'y', measure='m', label=element_text()),\n",
    "], ncol=2)"
   ]
  },
  {
   "cell_type": "code",
   "execution_count": null,
   "id": "47aa7e2a-43a2-43d9-a420-b32bf8b1d9de",
   "metadata": {},
   "outputs": [],
   "source": [
    "# Change of total_title shouldn't affect to the further plots\n",
    "gggrid([\n",
    "    waterfall_plot(data2, 'x', 'y', measure='m', total_title=\"Result\"),\n",
    "    waterfall_plot(data2, 'x', 'y', measure='m'),\n",
    "])"
   ]
  },
  {
   "cell_type": "code",
   "execution_count": null,
   "id": "fe77face-0bb7-4ca3-a0a4-503b525bf67c",
   "metadata": {},
   "outputs": [],
   "source": [
    "# tooltips='none' should disable tooltips\n",
    "waterfall_plot(data2, 'x', 'y', measure='m', tooltips='none')"
   ]
  }
 ],
 "metadata": {
  "kernelspec": {
   "display_name": "Python 3 (ipykernel)",
   "language": "python",
   "name": "python3"
  },
  "language_info": {
   "codemirror_mode": {
    "name": "ipython",
    "version": 3
   },
   "file_extension": ".py",
   "mimetype": "text/x-python",
   "name": "python",
   "nbconvert_exporter": "python",
   "pygments_lexer": "ipython3",
   "version": "3.10.14"
  }
 },
 "nbformat": 4,
 "nbformat_minor": 5
}
