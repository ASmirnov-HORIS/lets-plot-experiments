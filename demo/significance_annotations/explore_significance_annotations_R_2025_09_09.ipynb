{
 "cells": [
  {
   "cell_type": "markdown",
   "id": "c1ab19b6-625c-4be5-b871-d181b0f5d92f",
   "metadata": {},
   "source": [
    "# Pairwise Significance Annotations\n",
    "\n",
    "Pairwise significance annotations with:\n",
    "\n",
    "- [ggpubr / `stat_compare_means()`](https://rpkgs.datanovia.com/ggpubr/reference/stat_compare_means.html)\n",
    "- [ggsignif](https://const-ae.github.io/ggsignif)\n",
    "- [ggprism / `add_pvalue()`](https://csdaw.github.io/ggprism/reference/add_pvalue.html)"
   ]
  },
  {
   "cell_type": "code",
   "execution_count": 1,
   "id": "37aa4f36-8178-492b-9f14-4b60afddd215",
   "metadata": {},
   "outputs": [
    {
     "name": "stderr",
     "output_type": "stream",
     "text": [
      "Updating HTML index of packages in '.Library'\n",
      "\n",
      "Making 'packages.html' ...\n",
      " done\n",
      "\n",
      "Updating HTML index of packages in '.Library'\n",
      "\n",
      "Making 'packages.html' ...\n",
      " done\n",
      "\n",
      "Updating HTML index of packages in '.Library'\n",
      "\n",
      "Making 'packages.html' ...\n",
      " done\n",
      "\n"
     ]
    }
   ],
   "source": [
    "install.packages('ggpubr')\n",
    "install.packages('ggsignif')\n",
    "install.packages('ggprism')"
   ]
  },
  {
   "cell_type": "code",
   "execution_count": 2,
   "id": "5f8a2751-3e0b-4930-a3ca-80f653f65719",
   "metadata": {},
   "outputs": [],
   "source": [
    "library(ggplot2)\n",
    "library(ggpubr)\n",
    "library(ggsignif)\n",
    "library(ggprism)"
   ]
  },
  {
   "cell_type": "code",
   "execution_count": 3,
   "id": "de0ed837-a6ac-400c-bf9a-02d1cd0f9e11",
   "metadata": {},
   "outputs": [
    {
     "data": {
      "text/html": [
       "<table class=\"dataframe\">\n",
       "<caption>A tibble: 3 × 11</caption>\n",
       "<thead>\n",
       "\t<tr><th scope=col>manufacturer</th><th scope=col>model</th><th scope=col>displ</th><th scope=col>year</th><th scope=col>cyl</th><th scope=col>trans</th><th scope=col>drv</th><th scope=col>cty</th><th scope=col>hwy</th><th scope=col>fl</th><th scope=col>class</th></tr>\n",
       "\t<tr><th scope=col>&lt;chr&gt;</th><th scope=col>&lt;chr&gt;</th><th scope=col>&lt;dbl&gt;</th><th scope=col>&lt;int&gt;</th><th scope=col>&lt;int&gt;</th><th scope=col>&lt;chr&gt;</th><th scope=col>&lt;chr&gt;</th><th scope=col>&lt;int&gt;</th><th scope=col>&lt;int&gt;</th><th scope=col>&lt;chr&gt;</th><th scope=col>&lt;chr&gt;</th></tr>\n",
       "</thead>\n",
       "<tbody>\n",
       "\t<tr><td>audi</td><td>a4</td><td>1.8</td><td>1999</td><td>4</td><td>auto(l5)  </td><td>f</td><td>18</td><td>29</td><td>p</td><td>compact</td></tr>\n",
       "\t<tr><td>audi</td><td>a4</td><td>1.8</td><td>1999</td><td>4</td><td>manual(m5)</td><td>f</td><td>21</td><td>29</td><td>p</td><td>compact</td></tr>\n",
       "\t<tr><td>audi</td><td>a4</td><td>2.0</td><td>2008</td><td>4</td><td>manual(m6)</td><td>f</td><td>20</td><td>31</td><td>p</td><td>compact</td></tr>\n",
       "</tbody>\n",
       "</table>\n"
      ],
      "text/latex": [
       "A tibble: 3 × 11\n",
       "\\begin{tabular}{lllllllllll}\n",
       " manufacturer & model & displ & year & cyl & trans & drv & cty & hwy & fl & class\\\\\n",
       " <chr> & <chr> & <dbl> & <int> & <int> & <chr> & <chr> & <int> & <int> & <chr> & <chr>\\\\\n",
       "\\hline\n",
       "\t audi & a4 & 1.8 & 1999 & 4 & auto(l5)   & f & 18 & 29 & p & compact\\\\\n",
       "\t audi & a4 & 1.8 & 1999 & 4 & manual(m5) & f & 21 & 29 & p & compact\\\\\n",
       "\t audi & a4 & 2.0 & 2008 & 4 & manual(m6) & f & 20 & 31 & p & compact\\\\\n",
       "\\end{tabular}\n"
      ],
      "text/markdown": [
       "\n",
       "A tibble: 3 × 11\n",
       "\n",
       "| manufacturer &lt;chr&gt; | model &lt;chr&gt; | displ &lt;dbl&gt; | year &lt;int&gt; | cyl &lt;int&gt; | trans &lt;chr&gt; | drv &lt;chr&gt; | cty &lt;int&gt; | hwy &lt;int&gt; | fl &lt;chr&gt; | class &lt;chr&gt; |\n",
       "|---|---|---|---|---|---|---|---|---|---|---|\n",
       "| audi | a4 | 1.8 | 1999 | 4 | auto(l5)   | f | 18 | 29 | p | compact |\n",
       "| audi | a4 | 1.8 | 1999 | 4 | manual(m5) | f | 21 | 29 | p | compact |\n",
       "| audi | a4 | 2.0 | 2008 | 4 | manual(m6) | f | 20 | 31 | p | compact |\n",
       "\n"
      ],
      "text/plain": [
       "  manufacturer model displ year cyl trans      drv cty hwy fl class  \n",
       "1 audi         a4    1.8   1999 4   auto(l5)   f   18  29  p  compact\n",
       "2 audi         a4    1.8   1999 4   manual(m5) f   21  29  p  compact\n",
       "3 audi         a4    2.0   2008 4   manual(m6) f   20  31  p  compact"
      ]
     },
     "metadata": {},
     "output_type": "display_data"
    }
   ],
   "source": [
    "head(mpg, 3)"
   ]
  },
  {
   "cell_type": "code",
   "execution_count": 4,
   "id": "dea1fb1e-0ac2-4236-a3af-fbae01bb3a4a",
   "metadata": {},
   "outputs": [],
   "source": [
    "p <- ggplot(mpg, aes(drv, hwy)) + geom_boxplot()\n",
    "comparisons <- list(c(\"4\", \"f\"), c(\"4\", \"r\"), c(\"f\", \"r\"))"
   ]
  },
  {
   "cell_type": "markdown",
   "id": "6ac3846f-4339-48ba-a62f-1fbf6736fcf6",
   "metadata": {},
   "source": [
    "## ggpubr"
   ]
  },
  {
   "cell_type": "code",
   "execution_count": 5,
   "id": "f41c6acb-d4cb-4fe7-b3dc-f823fc9e0d56",
   "metadata": {},
   "outputs": [
    {
     "data": {
      "image/png": "[encoded data removed]",
      "text/plain": [
       "plot without title"
      ]
     },
     "metadata": {
      "image/png": {
       "height": 420,
       "width": 420
      }
     },
     "output_type": "display_data"
    }
   ],
   "source": [
    "p +\n",
    "    stat_compare_means(\n",
    "        comparisons = comparisons,\n",
    "        method = \"wilcox.test\",\n",
    "        label = \"p.format\",\n",
    "        step.increase = 0.1\n",
    "    )"
   ]
  },
  {
   "cell_type": "markdown",
   "id": "6ee899eb-a194-4711-88d5-09a027feb98c",
   "metadata": {},
   "source": [
    "## ggsignif"
   ]
  },
  {
   "cell_type": "code",
   "execution_count": 6,
   "id": "8ddc27c4-8775-414c-9c8e-c6666ab4a9fd",
   "metadata": {},
   "outputs": [
    {
     "data": {
      "image/png": "[encoded data removed]",
      "text/plain": [
       "plot without title"
      ]
     },
     "metadata": {
      "image/png": {
       "height": 420,
       "width": 420
      }
     },
     "output_type": "display_data"
    }
   ],
   "source": [
    "p +\n",
    "    geom_signif(\n",
    "        comparisons = comparisons,\n",
    "        test = \"wilcox.test\",\n",
    "        map_signif_level = FALSE,\n",
    "        step_increase = 0.1\n",
    "    )"
   ]
  },
  {
   "cell_type": "markdown",
   "id": "b005b8eb-b77f-4b32-b6b0-c3b6123db1d6",
   "metadata": {},
   "source": [
    "## ggprism"
   ]
  },
  {
   "cell_type": "code",
   "execution_count": 7,
   "id": "2076f254-38ad-4731-aab0-6526b41f6595",
   "metadata": {},
   "outputs": [
    {
     "data": {
      "text/html": [
       "<table class=\"dataframe\">\n",
       "<caption>A data.frame: 3 × 5</caption>\n",
       "<thead>\n",
       "\t<tr><th scope=col>group1</th><th scope=col>group2</th><th scope=col>p</th><th scope=col>y.position</th><th scope=col>label</th></tr>\n",
       "\t<tr><th scope=col>&lt;chr&gt;</th><th scope=col>&lt;chr&gt;</th><th scope=col>&lt;dbl&gt;</th><th scope=col>&lt;dbl&gt;</th><th scope=col>&lt;chr&gt;</th></tr>\n",
       "</thead>\n",
       "<tbody>\n",
       "\t<tr><td>4</td><td>f</td><td>9.041090e-28</td><td>49</td><td>p = 9.04e-28</td></tr>\n",
       "\t<tr><td>4</td><td>r</td><td>4.104577e-02</td><td>53</td><td>p = 0.041   </td></tr>\n",
       "\t<tr><td>f</td><td>r</td><td>5.955333e-11</td><td>57</td><td>p = 5.96e-11</td></tr>\n",
       "</tbody>\n",
       "</table>\n"
      ],
      "text/latex": [
       "A data.frame: 3 × 5\n",
       "\\begin{tabular}{lllll}\n",
       " group1 & group2 & p & y.position & label\\\\\n",
       " <chr> & <chr> & <dbl> & <dbl> & <chr>\\\\\n",
       "\\hline\n",
       "\t 4 & f & 9.041090e-28 & 49 & p = 9.04e-28\\\\\n",
       "\t 4 & r & 4.104577e-02 & 53 & p = 0.041   \\\\\n",
       "\t f & r & 5.955333e-11 & 57 & p = 5.96e-11\\\\\n",
       "\\end{tabular}\n"
      ],
      "text/markdown": [
       "\n",
       "A data.frame: 3 × 5\n",
       "\n",
       "| group1 &lt;chr&gt; | group2 &lt;chr&gt; | p &lt;dbl&gt; | y.position &lt;dbl&gt; | label &lt;chr&gt; |\n",
       "|---|---|---|---|---|\n",
       "| 4 | f | 9.041090e-28 | 49 | p = 9.04e-28 |\n",
       "| 4 | r | 4.104577e-02 | 53 | p = 0.041    |\n",
       "| f | r | 5.955333e-11 | 57 | p = 5.96e-11 |\n",
       "\n"
      ],
      "text/plain": [
       "  group1 group2 p            y.position label       \n",
       "1 4      f      9.041090e-28 49         p = 9.04e-28\n",
       "2 4      r      4.104577e-02 53         p = 0.041   \n",
       "3 f      r      5.955333e-11 57         p = 5.96e-11"
      ]
     },
     "metadata": {},
     "output_type": "display_data"
    }
   ],
   "source": [
    "# Dataset preparation\n",
    "\n",
    "lvls <- levels(factor(mpg$drv))\n",
    "pairs <- combn(lvls, 2, simplify = FALSE)\n",
    "\n",
    "get_p <- function(g1, g2) {\n",
    "  wilcox.test(mpg$hwy[mpg$drv == g1],\n",
    "              mpg$hwy[mpg$drv == g2])$p.value\n",
    "}\n",
    "\n",
    "df_p <- do.call(rbind, lapply(seq_along(pairs), function(i) {\n",
    "  g1 <- pairs[[i]][1]; g2 <- pairs[[i]][2]\n",
    "  data.frame(group1 = g1, group2 = g2, p = get_p(g1, g2))\n",
    "}))\n",
    "\n",
    "base <- max(mpg$hwy, na.rm = TRUE) + 1\n",
    "df_p$y.position <- base + seq_len(nrow(df_p)) * 4\n",
    "df_p$label <- paste0(\"p = \", signif(df_p$p, 3))\n",
    "\n",
    "df_p"
   ]
  },
  {
   "cell_type": "code",
   "execution_count": 8,
   "id": "caf7d925-3aef-4aa9-bf7e-976ec1c71f00",
   "metadata": {},
   "outputs": [
    {
     "data": {
      "image/png": "[encoded data removed]",
      "text/plain": [
       "plot without title"
      ]
     },
     "metadata": {
      "image/png": {
       "height": 420,
       "width": 420
      }
     },
     "output_type": "display_data"
    }
   ],
   "source": [
    "p +\n",
    "    add_pvalue(\n",
    "        df_p,\n",
    "        xmin = \"group1\", xmax = \"group2\",\n",
    "        y.position = \"y.position\",\n",
    "        label = \"label\"\n",
    "    )"
   ]
  }
 ],
 "metadata": {
  "kernelspec": {
   "display_name": "R",
   "language": "R",
   "name": "ir"
  },
  "language_info": {
   "codemirror_mode": "r",
   "file_extension": ".r",
   "mimetype": "text/x-r-source",
   "name": "R",
   "pygments_lexer": "r",
   "version": "4.3.3"
  }
 },
 "nbformat": 4,
 "nbformat_minor": 5
}
