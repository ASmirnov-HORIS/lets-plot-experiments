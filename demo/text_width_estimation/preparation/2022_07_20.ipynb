{
 "cells": [
  {
   "cell_type": "code",
   "execution_count": 1,
   "id": "de4bde5d",
   "metadata": {},
   "outputs": [
    {
     "name": "stdout",
     "output_type": "stream",
     "text": [
      "Requirement already satisfied: wxPython in c:\\users\\infoh\\anaconda3\\envs\\lets-plot-experiments\\lib\\site-packages (4.1.1)\n",
      "Requirement already satisfied: pillow in c:\\users\\infoh\\anaconda3\\envs\\lets-plot-experiments\\lib\\site-packages (from wxPython) (9.2.0)\n",
      "Requirement already satisfied: six in c:\\users\\infoh\\anaconda3\\envs\\lets-plot-experiments\\lib\\site-packages (from wxPython) (1.16.0)\n",
      "Requirement already satisfied: numpy in c:\\users\\infoh\\anaconda3\\envs\\lets-plot-experiments\\lib\\site-packages (from wxPython) (1.23.1)\n"
     ]
    }
   ],
   "source": [
    "!pip install -U wxPython"
   ]
  },
  {
   "cell_type": "code",
   "execution_count": 2,
   "id": "1de5a2e0",
   "metadata": {},
   "outputs": [
    {
     "name": "stdout",
     "output_type": "stream",
     "text": [
      "Requirement already satisfied: Faker in c:\\users\\infoh\\anaconda3\\envs\\lets-plot-experiments\\lib\\site-packages (13.15.0)\n",
      "Requirement already satisfied: python-dateutil>=2.4 in c:\\users\\infoh\\anaconda3\\envs\\lets-plot-experiments\\lib\\site-packages (from Faker) (2.8.2)\n",
      "Requirement already satisfied: six>=1.5 in c:\\users\\infoh\\anaconda3\\envs\\lets-plot-experiments\\lib\\site-packages (from python-dateutil>=2.4->Faker) (1.16.0)\n"
     ]
    }
   ],
   "source": [
    "!pip install -U Faker"
   ]
  },
  {
   "cell_type": "code",
   "execution_count": 3,
   "id": "eeb186ef",
   "metadata": {},
   "outputs": [],
   "source": [
    "import os\n",
    "import string\n",
    "\n",
    "import pandas as pd\n",
    "import wx"
   ]
  },
  {
   "cell_type": "code",
   "execution_count": 4,
   "id": "516653fc",
   "metadata": {},
   "outputs": [],
   "source": [
    "DATA_DIR = \"../data\"\n",
    "FULL_DIR = \"{0}/full\".format(DATA_DIR)\n",
    "CROPPED_DIR = \"{0}/cropped\".format(DATA_DIR)"
   ]
  },
  {
   "cell_type": "code",
   "execution_count": 5,
   "id": "8d98d30a",
   "metadata": {},
   "outputs": [],
   "source": [
    "FONT_FAMILIES = [\n",
    "    # main\n",
    "    \"Courier\",\n",
    "    \"Geneva\",\n",
    "    \"Georgia\",\n",
    "    \"Helvetica\",\n",
    "    \"Lucida Grande\",\n",
    "    \"Times New Roman\",\n",
    "    \"Verdana\",\n",
    "    # additional\n",
    "    \"Arial\", # pretty standard\n",
    "    \"Lucida Console\", # monospaced\n",
    "]"
   ]
  },
  {
   "cell_type": "code",
   "execution_count": 6,
   "id": "5a03a103",
   "metadata": {},
   "outputs": [],
   "source": [
    "FONT_SIZES = [\n",
    "    9, 11, 12, 14, 16, 20\n",
    "]"
   ]
  },
  {
   "cell_type": "code",
   "execution_count": 7,
   "id": "8b194f17",
   "metadata": {},
   "outputs": [],
   "source": [
    "FONT_FACES = [\n",
    "    {'bold': False, 'italic': False},\n",
    "    {'bold': True, 'italic': False},\n",
    "    {'bold': False, 'italic': True},\n",
    "    {'bold': True, 'italic': True},\n",
    "]"
   ]
  },
  {
   "cell_type": "code",
   "execution_count": 8,
   "id": "6f2f0014",
   "metadata": {},
   "outputs": [],
   "source": [
    "SYMBOLS = [(ord(c), c) for c in string.digits + string.punctuation + \" \"]\n",
    "BASIC_LATIN_CHARS = \\\n",
    "    [(i, chr(i)) for i in list(range(ord(u'\\u0041'), ord(u'\\u005a') + 1)) + \\\n",
    "                          list(range(ord(u'\\u0061'), ord(u'\\u007a') + 1)) \\\n",
    "     if chr(i).isprintable()] + SYMBOLS\n",
    "RUSSIAN_CHARS = \\\n",
    "    [(i, chr(i)) for i in range(ord(u'\\u0410'), ord(u'\\u044f') + 1) \\\n",
    "     if chr(i).isprintable()] + SYMBOLS\n",
    "CHARS = \\\n",
    "    [(p[0], p[1], \"basic_latin\") for p in BASIC_LATIN_CHARS] + \\\n",
    "    [(p[0], p[1], \"russian\") for p in RUSSIAN_CHARS]"
   ]
  },
  {
   "cell_type": "code",
   "execution_count": 9,
   "id": "8de270e4",
   "metadata": {},
   "outputs": [],
   "source": [
    "def size_in_px(text, font_family=\"Arial\", font_size=11, bold=False, italic=False):\n",
    "    _ = wx.App()\n",
    "\n",
    "    font_info = wx.FontInfo(font_size).FaceName(font_family)\n",
    "    if bold:\n",
    "        font_info = font_info.Bold()\n",
    "    if italic:\n",
    "        font_info = font_info.Italic()\n",
    "    font = wx.Font(font_info)\n",
    "\n",
    "    screen_dc = wx.ScreenDC()\n",
    "    screen_dc.SetFont(font)\n",
    "    size = screen_dc.GetTextExtent(text)\n",
    "\n",
    "    return size"
   ]
  },
  {
   "cell_type": "code",
   "execution_count": 10,
   "id": "77157141",
   "metadata": {},
   "outputs": [],
   "source": [
    "def get_char_widths_df():\n",
    "    from itertools import product\n",
    "\n",
    "    data = {\n",
    "        \"char_id\": [],\n",
    "        \"char\": [],\n",
    "        \"alphabet\": [],\n",
    "        \"font_family\": [],\n",
    "        \"font_size\": [],\n",
    "        \"font_face\": [],\n",
    "        \"width\": [],\n",
    "    }\n",
    "    for t in product(FONT_FAMILIES, FONT_SIZES, FONT_FACES, CHARS):\n",
    "        data[\"font_family\"] += [t[0]]\n",
    "        data[\"font_size\"] += [t[1]]\n",
    "        data[\"font_face\"] += [\n",
    "            \"bold+italic\" if t[2]['bold'] and t[2]['italic'] else\n",
    "            \"bold\" if t[2]['bold'] and not t[2]['italic'] else\n",
    "            \"italic\" if not t[2]['bold'] and t[2]['italic'] else \"normal\"\n",
    "        ]\n",
    "        data[\"char_id\"] += [t[3][0]]\n",
    "        data[\"char\"] += [t[3][1]]\n",
    "        data[\"alphabet\"] += [t[3][2]]\n",
    "        data[\"width\"] += [size_in_px(t[3][1], t[0], t[1], t[2]['bold'], t[2]['italic'])[0]]\n",
    "\n",
    "    return pd.DataFrame(data)"
   ]
  },
  {
   "cell_type": "code",
   "execution_count": 11,
   "id": "6be1c62f",
   "metadata": {},
   "outputs": [],
   "source": [
    "def get_local_control_df(alphabet, font_family=\"Arial\", font_size=11, font_face=\"\", size=100, max_words_count=10, random_state=42):\n",
    "    from faker import Faker\n",
    "\n",
    "    LOCALES = {\n",
    "        \"basic_latin\": \"en_US\",\n",
    "        \"russian\": \"ru_RU\",\n",
    "    }\n",
    "    Faker.seed(random_state)\n",
    "    fake = Faker(locale=LOCALES[alphabet])\n",
    "    result_df = pd.DataFrame({\"text\": [fake.sentence(nb_words=(int(max_words_count * n / size) + 1)) for n in range(size)]})\n",
    "    result_df = result_df.assign(symbols_count=result_df.text.str.len()).sort_values(\"symbols_count\")\n",
    "    bold = \"bold\" in font_face\n",
    "    italic = \"italic\" in font_face\n",
    "    result_df[\"width\"] = result_df.text.apply(lambda s: size_in_px(s, font_family, font_size, bold, italic)[0])\n",
    "\n",
    "    return result_df.assign(\n",
    "        alphabet=lambda x: alphabet,\n",
    "        font_family=lambda x: font_family,\n",
    "        font_size=lambda x: font_size,\n",
    "        font_face=lambda x: font_face,\n",
    "    )"
   ]
  },
  {
   "cell_type": "code",
   "execution_count": 12,
   "id": "6296704b",
   "metadata": {},
   "outputs": [],
   "source": [
    "def get_control_df(bunch_size=1000, max_words_count=10, random_state=42):\n",
    "    from itertools import product\n",
    "\n",
    "    df = pd.DataFrame(columns=[\"text\", \"width\", \"alphabet\", \"font_family\", \"font_size\", \"font_face\"])\n",
    "    for t in product(list(set([c[2] for c in CHARS])), FONT_FAMILIES, FONT_SIZES, FONT_FACES):\n",
    "        alphabet = t[0]\n",
    "        font_family = t[1]\n",
    "        font_size = t[2]\n",
    "        font_face = \"bold+italic\" if t[3]['bold'] and t[3]['italic'] else \\\n",
    "                    \"bold\" if t[3]['bold'] and not t[3]['italic'] else \\\n",
    "                    \"italic\" if not t[3]['bold'] and t[3]['italic'] else \"normal\"\n",
    "\n",
    "        df = pd.concat([df, get_local_control_df(alphabet, font_family=font_family, \\\n",
    "                                                 font_size=font_size, font_face=font_face, \\\n",
    "                                                 size=bunch_size, max_words_count=max_words_count, \\\n",
    "                                                 random_state=random_state)])\n",
    "\n",
    "    return df"
   ]
  },
  {
   "cell_type": "code",
   "execution_count": 13,
   "id": "033a4244",
   "metadata": {},
   "outputs": [],
   "source": [
    "def crop_df(df, proportion=.1, random_state=42):\n",
    "    import numpy as np\n",
    "\n",
    "    features = [\"alphabet\", \"font_family\", \"font_size\", \"font_face\"]\n",
    "    n = df.groupby(features).count().iloc[:, 0].min()\n",
    "    result_size = max(1, int(np.round(n * proportion)))\n",
    "\n",
    "    return df.groupby(features).sample(n=result_size, random_state=random_state).reset_index(drop=True)"
   ]
  },
  {
   "cell_type": "code",
   "execution_count": 14,
   "id": "9f57303b",
   "metadata": {},
   "outputs": [],
   "source": [
    "if not os.path.exists(FULL_DIR):\n",
    "    os.makedirs(FULL_DIR)\n",
    "if not os.path.exists(CROPPED_DIR):\n",
    "    os.makedirs(CROPPED_DIR)"
   ]
  },
  {
   "cell_type": "code",
   "execution_count": 15,
   "id": "69caafed",
   "metadata": {},
   "outputs": [
    {
     "data": {
      "text/html": [
       "<div>\n",
       "<style scoped>\n",
       "    .dataframe tbody tr th:only-of-type {\n",
       "        vertical-align: middle;\n",
       "    }\n",
       "\n",
       "    .dataframe tbody tr th {\n",
       "        vertical-align: top;\n",
       "    }\n",
       "\n",
       "    .dataframe thead th {\n",
       "        text-align: right;\n",
       "    }\n",
       "</style>\n",
       "<table border=\"1\" class=\"dataframe\">\n",
       "  <thead>\n",
       "    <tr style=\"text-align: right;\">\n",
       "      <th></th>\n",
       "      <th>char_id</th>\n",
       "      <th>char</th>\n",
       "      <th>alphabet</th>\n",
       "      <th>font_family</th>\n",
       "      <th>font_size</th>\n",
       "      <th>font_face</th>\n",
       "      <th>width</th>\n",
       "    </tr>\n",
       "  </thead>\n",
       "  <tbody>\n",
       "    <tr>\n",
       "      <th>0</th>\n",
       "      <td>65</td>\n",
       "      <td>A</td>\n",
       "      <td>basic_latin</td>\n",
       "      <td>Courier</td>\n",
       "      <td>9</td>\n",
       "      <td>normal</td>\n",
       "      <td>8</td>\n",
       "    </tr>\n",
       "    <tr>\n",
       "      <th>1</th>\n",
       "      <td>66</td>\n",
       "      <td>B</td>\n",
       "      <td>basic_latin</td>\n",
       "      <td>Courier</td>\n",
       "      <td>9</td>\n",
       "      <td>normal</td>\n",
       "      <td>8</td>\n",
       "    </tr>\n",
       "    <tr>\n",
       "      <th>2</th>\n",
       "      <td>67</td>\n",
       "      <td>C</td>\n",
       "      <td>basic_latin</td>\n",
       "      <td>Courier</td>\n",
       "      <td>9</td>\n",
       "      <td>normal</td>\n",
       "      <td>8</td>\n",
       "    </tr>\n",
       "    <tr>\n",
       "      <th>3</th>\n",
       "      <td>68</td>\n",
       "      <td>D</td>\n",
       "      <td>basic_latin</td>\n",
       "      <td>Courier</td>\n",
       "      <td>9</td>\n",
       "      <td>normal</td>\n",
       "      <td>8</td>\n",
       "    </tr>\n",
       "    <tr>\n",
       "      <th>4</th>\n",
       "      <td>69</td>\n",
       "      <td>E</td>\n",
       "      <td>basic_latin</td>\n",
       "      <td>Courier</td>\n",
       "      <td>9</td>\n",
       "      <td>normal</td>\n",
       "      <td>8</td>\n",
       "    </tr>\n",
       "  </tbody>\n",
       "</table>\n",
       "</div>"
      ],
      "text/plain": [
       "   char_id char     alphabet font_family  font_size font_face  width\n",
       "0       65    A  basic_latin     Courier          9    normal      8\n",
       "1       66    B  basic_latin     Courier          9    normal      8\n",
       "2       67    C  basic_latin     Courier          9    normal      8\n",
       "3       68    D  basic_latin     Courier          9    normal      8\n",
       "4       69    E  basic_latin     Courier          9    normal      8"
      ]
     },
     "execution_count": 15,
     "metadata": {},
     "output_type": "execute_result"
    }
   ],
   "source": [
    "char_widths_df = get_char_widths_df()\n",
    "char_widths_df.head()"
   ]
  },
  {
   "cell_type": "code",
   "execution_count": 16,
   "id": "d8d00ce9",
   "metadata": {},
   "outputs": [],
   "source": [
    "char_widths_df.to_csv(\"{0}/char_widths.csv\".format(FULL_DIR), index=False)"
   ]
  },
  {
   "cell_type": "code",
   "execution_count": 17,
   "id": "ca42c71f",
   "metadata": {},
   "outputs": [],
   "source": [
    "char_widths_df.to_csv(\"{0}/char_widths.csv\".format(CROPPED_DIR), index=False)"
   ]
  },
  {
   "cell_type": "code",
   "execution_count": 18,
   "id": "0b1f9c7f",
   "metadata": {},
   "outputs": [
    {
     "data": {
      "text/html": [
       "<div>\n",
       "<style scoped>\n",
       "    .dataframe tbody tr th:only-of-type {\n",
       "        vertical-align: middle;\n",
       "    }\n",
       "\n",
       "    .dataframe tbody tr th {\n",
       "        vertical-align: top;\n",
       "    }\n",
       "\n",
       "    .dataframe thead th {\n",
       "        text-align: right;\n",
       "    }\n",
       "</style>\n",
       "<table border=\"1\" class=\"dataframe\">\n",
       "  <thead>\n",
       "    <tr style=\"text-align: right;\">\n",
       "      <th></th>\n",
       "      <th>text</th>\n",
       "      <th>width</th>\n",
       "      <th>alphabet</th>\n",
       "      <th>font_family</th>\n",
       "      <th>font_size</th>\n",
       "      <th>font_face</th>\n",
       "      <th>symbols_count</th>\n",
       "    </tr>\n",
       "  </thead>\n",
       "  <tbody>\n",
       "    <tr>\n",
       "      <th>24</th>\n",
       "      <td>Да.</td>\n",
       "      <td>24</td>\n",
       "      <td>russian</td>\n",
       "      <td>Courier</td>\n",
       "      <td>9</td>\n",
       "      <td>normal</td>\n",
       "      <td>3.0</td>\n",
       "    </tr>\n",
       "    <tr>\n",
       "      <th>21</th>\n",
       "      <td>Мимо.</td>\n",
       "      <td>40</td>\n",
       "      <td>russian</td>\n",
       "      <td>Courier</td>\n",
       "      <td>9</td>\n",
       "      <td>normal</td>\n",
       "      <td>5.0</td>\n",
       "    </tr>\n",
       "    <tr>\n",
       "      <th>18</th>\n",
       "      <td>Один.</td>\n",
       "      <td>40</td>\n",
       "      <td>russian</td>\n",
       "      <td>Courier</td>\n",
       "      <td>9</td>\n",
       "      <td>normal</td>\n",
       "      <td>5.0</td>\n",
       "    </tr>\n",
       "    <tr>\n",
       "      <th>17</th>\n",
       "      <td>Идея.</td>\n",
       "      <td>40</td>\n",
       "      <td>russian</td>\n",
       "      <td>Courier</td>\n",
       "      <td>9</td>\n",
       "      <td>normal</td>\n",
       "      <td>5.0</td>\n",
       "    </tr>\n",
       "    <tr>\n",
       "      <th>9</th>\n",
       "      <td>Изба.</td>\n",
       "      <td>40</td>\n",
       "      <td>russian</td>\n",
       "      <td>Courier</td>\n",
       "      <td>9</td>\n",
       "      <td>normal</td>\n",
       "      <td>5.0</td>\n",
       "    </tr>\n",
       "  </tbody>\n",
       "</table>\n",
       "</div>"
      ],
      "text/plain": [
       "     text width alphabet font_family font_size font_face  symbols_count\n",
       "24    Да.    24  russian     Courier         9    normal            3.0\n",
       "21  Мимо.    40  russian     Courier         9    normal            5.0\n",
       "18  Один.    40  russian     Courier         9    normal            5.0\n",
       "17  Идея.    40  russian     Courier         9    normal            5.0\n",
       "9   Изба.    40  russian     Courier         9    normal            5.0"
      ]
     },
     "execution_count": 18,
     "metadata": {},
     "output_type": "execute_result"
    }
   ],
   "source": [
    "control_df = get_control_df(bunch_size=500, max_words_count=20)\n",
    "control_df.head()"
   ]
  },
  {
   "cell_type": "code",
   "execution_count": 19,
   "id": "39861360",
   "metadata": {},
   "outputs": [],
   "source": [
    "control_df.to_csv(\"{0}/control.csv\".format(FULL_DIR), index=False)"
   ]
  },
  {
   "cell_type": "code",
   "execution_count": 20,
   "id": "6d0fd9ac",
   "metadata": {},
   "outputs": [],
   "source": [
    "crop_df(control_df, proportion=.05).to_csv(\"{0}/control.csv\".format(CROPPED_DIR), index=False)"
   ]
  }
 ],
 "metadata": {
  "kernelspec": {
   "display_name": "Python 3 (ipykernel)",
   "language": "python",
   "name": "python3"
  },
  "language_info": {
   "codemirror_mode": {
    "name": "ipython",
    "version": 3
   },
   "file_extension": ".py",
   "mimetype": "text/x-python",
   "name": "python",
   "nbconvert_exporter": "python",
   "pygments_lexer": "ipython3",
   "version": "3.8.13"
  }
 },
 "nbformat": 4,
 "nbformat_minor": 5
}
