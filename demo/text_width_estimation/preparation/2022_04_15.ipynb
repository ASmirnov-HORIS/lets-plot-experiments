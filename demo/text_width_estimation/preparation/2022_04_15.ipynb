{
 "cells": [
  {
   "cell_type": "code",
   "execution_count": 1,
   "id": "de4bde5d",
   "metadata": {},
   "outputs": [
    {
     "name": "stdout",
     "output_type": "stream",
     "text": [
      "Requirement already satisfied: wxPython in d:\\anaconda3\\envs\\lets-plot-experiments\\lib\\site-packages (4.1.1)"
     ]
    },
    {
     "name": "stderr",
     "output_type": "stream",
     "text": [
      "WARNING: Ignoring invalid distribution -ets-plot (d:\\anaconda3\\envs\\lets-plot-experiments\\lib\\site-packages)\n",
      "WARNING: Ignoring invalid distribution -ets-plot (d:\\anaconda3\\envs\\lets-plot-experiments\\lib\\site-packages)\n",
      "WARNING: Ignoring invalid distribution -ets-plot (d:\\anaconda3\\envs\\lets-plot-experiments\\lib\\site-packages)\n",
      "WARNING: Ignoring invalid distribution -ets-plot (d:\\anaconda3\\envs\\lets-plot-experiments\\lib\\site-packages)\n",
      "WARNING: Ignoring invalid distribution -ets-plot (d:\\anaconda3\\envs\\lets-plot-experiments\\lib\\site-packages)\n"
     ]
    },
    {
     "name": "stdout",
     "output_type": "stream",
     "text": [
      "\n",
      "Requirement already satisfied: pillow in d:\\anaconda3\\envs\\lets-plot-experiments\\lib\\site-packages (from wxPython) (8.3.2)\n",
      "Requirement already satisfied: numpy in d:\\anaconda3\\envs\\lets-plot-experiments\\lib\\site-packages (from wxPython) (1.21.5)\n",
      "Requirement already satisfied: six in d:\\anaconda3\\envs\\lets-plot-experiments\\lib\\site-packages (from wxPython) (1.16.0)\n"
     ]
    }
   ],
   "source": [
    "!pip install -U wxPython"
   ]
  },
  {
   "cell_type": "code",
   "execution_count": 2,
   "id": "1de5a2e0",
   "metadata": {},
   "outputs": [
    {
     "name": "stderr",
     "output_type": "stream",
     "text": [
      "WARNING: Ignoring invalid distribution -ets-plot (d:\\anaconda3\\envs\\lets-plot-experiments\\lib\\site-packages)\n",
      "WARNING: Ignoring invalid distribution -ets-plot (d:\\anaconda3\\envs\\lets-plot-experiments\\lib\\site-packages)\n",
      "WARNING: Ignoring invalid distribution -ets-plot (d:\\anaconda3\\envs\\lets-plot-experiments\\lib\\site-packages)\n",
      "WARNING: Ignoring invalid distribution -ets-plot (d:\\anaconda3\\envs\\lets-plot-experiments\\lib\\site-packages)\n",
      "WARNING: Ignoring invalid distribution -ets-plot (d:\\anaconda3\\envs\\lets-plot-experiments\\lib\\site-packages)\n"
     ]
    },
    {
     "name": "stdout",
     "output_type": "stream",
     "text": [
      "Requirement already satisfied: Faker in d:\\anaconda3\\envs\\lets-plot-experiments\\lib\\site-packages (13.3.4)\n",
      "Requirement already satisfied: typing-extensions>=3.10.0.2 in d:\\anaconda3\\envs\\lets-plot-experiments\\lib\\site-packages (from Faker) (3.10.0.2)\n",
      "Requirement already satisfied: python-dateutil>=2.4 in d:\\anaconda3\\envs\\lets-plot-experiments\\lib\\site-packages (from Faker) (2.8.2)\n",
      "Requirement already satisfied: six>=1.5 in d:\\anaconda3\\envs\\lets-plot-experiments\\lib\\site-packages (from python-dateutil>=2.4->Faker) (1.16.0)\n"
     ]
    }
   ],
   "source": [
    "!pip install -U Faker"
   ]
  },
  {
   "cell_type": "code",
   "execution_count": 3,
   "id": "eeb186ef",
   "metadata": {},
   "outputs": [],
   "source": [
    "import string\n",
    "\n",
    "import pandas as pd\n",
    "import wx\n",
    "from faker import Faker"
   ]
  },
  {
   "cell_type": "code",
   "execution_count": 4,
   "id": "8d98d30a",
   "metadata": {},
   "outputs": [],
   "source": [
    "FONT_FACES = [\n",
    "    # main\n",
    "    \"Courier\",\n",
    "    \"Geneva\",\n",
    "    \"Georgia\",\n",
    "    \"Helvetica\",\n",
    "    \"Lucida Grande\",\n",
    "    \"Times New Roman\",\n",
    "    \"Verdana\",\n",
    "    # additional\n",
    "    \"Arial\", # pretty standard\n",
    "    \"Brush Script MT\", # very curved\n",
    "    \"Lucida Console\", # monospaced\n",
    "    \"Wingdings\", # just symbols\n",
    "]"
   ]
  },
  {
   "cell_type": "code",
   "execution_count": 5,
   "id": "5a03a103",
   "metadata": {},
   "outputs": [],
   "source": [
    "FONT_SIZES = [\n",
    "    9, 11, 12, 14, 17, 20,\n",
    "]"
   ]
  },
  {
   "cell_type": "code",
   "execution_count": 6,
   "id": "8b194f17",
   "metadata": {},
   "outputs": [],
   "source": [
    "FONT_VERSIONS = [\n",
    "    {'bold': False, 'italic': False},\n",
    "    {'bold': True, 'italic': False},\n",
    "    {'bold': False, 'italic': True},\n",
    "    {'bold': True, 'italic': True},\n",
    "]"
   ]
  },
  {
   "cell_type": "code",
   "execution_count": 7,
   "id": "6f2f0014",
   "metadata": {},
   "outputs": [],
   "source": [
    "SYMBOLS = [(ord(c), c) for c in string.digits + string.punctuation + \" \"]\n",
    "BASIC_LATIN_CHARS = \\\n",
    "    [(i, chr(i)) for i in list(range(ord(u'\\u0041'), ord(u'\\u005a') + 1)) + \\\n",
    "                          list(range(ord(u'\\u0061'), ord(u'\\u007a') + 1)) \\\n",
    "     if chr(i).isprintable()] + SYMBOLS\n",
    "RUSSIAN_CHARS = \\\n",
    "    [(i, chr(i)) for i in range(ord(u'\\u0410'), ord(u'\\u044f') + 1) \\\n",
    "     if chr(i).isprintable()] + SYMBOLS\n",
    "GREEK_CHARS = \\\n",
    "    [(i, chr(i)) for i in list(range(ord(u'\\u0391'), ord(u'\\u03a9') + 1)) + \\\n",
    "                          list(range(ord(u'\\u03b1'), ord(u'\\u03c9') + 1)) \\\n",
    "     if chr(i).isprintable()]\n",
    "JAPANESE_HIRAGANA_CHARS = \\\n",
    "    [(i, chr(i)) for i in range(ord(u'\\u3040'), ord(u'\\u309f') + 1) \\\n",
    "     if chr(i).isprintable()]\n",
    "CHARS = \\\n",
    "    [(p[0], p[1], \"basic_latin\") for p in BASIC_LATIN_CHARS] + \\\n",
    "    [(p[0], p[1], \"russian\") for p in RUSSIAN_CHARS] + \\\n",
    "    [(p[0], p[1], \"greek\") for p in GREEK_CHARS] + \\\n",
    "    [(p[0], p[1], \"japanese_hiragana\") for p in JAPANESE_HIRAGANA_CHARS]"
   ]
  },
  {
   "cell_type": "code",
   "execution_count": 8,
   "id": "8de270e4",
   "metadata": {},
   "outputs": [],
   "source": [
    "def size_in_px(text, font_face=\"Arial\", font_size=11, bold=False, italic=False):\n",
    "    _ = wx.App()\n",
    "\n",
    "    font_info = wx.FontInfo(font_size).FaceName(font_face)\n",
    "    if bold:\n",
    "        font_info = font_info.Bold()\n",
    "    if italic:\n",
    "        font_info = font_info.Italic()\n",
    "    font = wx.Font(font_info)\n",
    "\n",
    "    screen_dc = wx.ScreenDC()\n",
    "    screen_dc.SetFont(font)\n",
    "    size = screen_dc.GetTextExtent(text)\n",
    "\n",
    "    return size"
   ]
  },
  {
   "cell_type": "code",
   "execution_count": 9,
   "id": "77157141",
   "metadata": {},
   "outputs": [],
   "source": [
    "def get_char_widths_df():\n",
    "    from itertools import product\n",
    "\n",
    "    data = {\n",
    "        \"char_id\": [],\n",
    "        \"char\": [],\n",
    "        \"alphabet\": [],\n",
    "        \"font_face\": [],\n",
    "        \"font_size\": [],\n",
    "        \"font_version\": [],\n",
    "        \"width\": [],\n",
    "    }\n",
    "    for t in product(FONT_FACES, FONT_SIZES, FONT_VERSIONS, CHARS):\n",
    "        data[\"font_face\"] += [t[0]]\n",
    "        data[\"font_size\"] += [t[1]]\n",
    "        data[\"font_version\"] += [\n",
    "            \"bi\" if t[2]['bold'] and t[2]['italic'] else\n",
    "            \"b\" if t[2]['bold'] and not t[2]['italic'] else\n",
    "            \"i\" if not t[2]['bold'] and t[2]['italic'] else \"\"\n",
    "        ]\n",
    "        data[\"char_id\"] += [t[3][0]]\n",
    "        data[\"char\"] += [t[3][1]]\n",
    "        data[\"alphabet\"] += [t[3][2]]\n",
    "        data[\"width\"] += [size_in_px(t[3][1], t[0], t[1], t[2]['bold'], t[2]['italic'])[0]]\n",
    "\n",
    "    return pd.DataFrame(data)"
   ]
  },
  {
   "cell_type": "code",
   "execution_count": 10,
   "id": "6be1c62f",
   "metadata": {},
   "outputs": [],
   "source": [
    "def get_local_control_df(alphabet, font_face=\"Arial\", font_size=11, font_version=\"\", size=1000, random_state=42):\n",
    "    from faker import Faker\n",
    "\n",
    "    LOCALES = {\n",
    "        \"basic_latin\": \"en_US\",\n",
    "        \"russian\": \"ru_RU\",\n",
    "        \"greek\": \"el_GR\",\n",
    "        \"japanese_hiragana\": \"ja_JP\",\n",
    "    }\n",
    "    Faker.seed(random_state)\n",
    "    fake = Faker(locale=LOCALES[alphabet])\n",
    "    result_df = pd.DataFrame({\"text\": [fake.paragraph(nb_sentences=1) for _ in range(size)]})\n",
    "    bold = \"b\" in font_version\n",
    "    italic = \"i\" in font_version\n",
    "    result_df[\"width\"] = result_df.text.apply(lambda s: size_in_px(s, font_face, font_size, bold, italic)[0])\n",
    "\n",
    "    return result_df.assign(\n",
    "        alphabet=lambda x: alphabet,\n",
    "        font_face=lambda x: font_face,\n",
    "        font_size=lambda x: font_size,\n",
    "        font_version=lambda x: font_version,\n",
    "    )"
   ]
  },
  {
   "cell_type": "code",
   "execution_count": 11,
   "id": "6296704b",
   "metadata": {},
   "outputs": [],
   "source": [
    "def get_control_df(bunch_size=1000, random_state=42):\n",
    "    from itertools import product\n",
    "\n",
    "    df = pd.DataFrame(columns=[\"text\", \"width\", \"alphabet\", \"font_face\", \"font_size\", \"font_version\"])\n",
    "    for t in product(list(set([c[2] for c in CHARS])), FONT_FACES, FONT_SIZES, FONT_VERSIONS):\n",
    "        alphabet = t[0]\n",
    "        font_face = t[1]\n",
    "        font_size = t[2]\n",
    "        font_version = \"bi\" if t[3]['bold'] and t[3]['italic'] else \\\n",
    "                       \"b\" if t[3]['bold'] and not t[3]['italic'] else \\\n",
    "                       \"i\" if not t[3]['bold'] and t[3]['italic'] else \"\"\n",
    "\n",
    "        df = pd.concat([df, get_local_control_df(alphabet, font_face=font_face, font_size=font_size, font_version=font_version, size=bunch_size, random_state=random_state)])\n",
    "\n",
    "    return df"
   ]
  },
  {
   "cell_type": "code",
   "execution_count": 12,
   "id": "69caafed",
   "metadata": {},
   "outputs": [
    {
     "data": {
      "text/html": [
       "<div>\n",
       "<style scoped>\n",
       "    .dataframe tbody tr th:only-of-type {\n",
       "        vertical-align: middle;\n",
       "    }\n",
       "\n",
       "    .dataframe tbody tr th {\n",
       "        vertical-align: top;\n",
       "    }\n",
       "\n",
       "    .dataframe thead th {\n",
       "        text-align: right;\n",
       "    }\n",
       "</style>\n",
       "<table border=\"1\" class=\"dataframe\">\n",
       "  <thead>\n",
       "    <tr style=\"text-align: right;\">\n",
       "      <th></th>\n",
       "      <th>char_id</th>\n",
       "      <th>char</th>\n",
       "      <th>alphabet</th>\n",
       "      <th>font_face</th>\n",
       "      <th>font_size</th>\n",
       "      <th>font_version</th>\n",
       "      <th>width</th>\n",
       "    </tr>\n",
       "  </thead>\n",
       "  <tbody>\n",
       "    <tr>\n",
       "      <th>0</th>\n",
       "      <td>65</td>\n",
       "      <td>A</td>\n",
       "      <td>basic_latin</td>\n",
       "      <td>Courier</td>\n",
       "      <td>9</td>\n",
       "      <td></td>\n",
       "      <td>9</td>\n",
       "    </tr>\n",
       "    <tr>\n",
       "      <th>1</th>\n",
       "      <td>66</td>\n",
       "      <td>B</td>\n",
       "      <td>basic_latin</td>\n",
       "      <td>Courier</td>\n",
       "      <td>9</td>\n",
       "      <td></td>\n",
       "      <td>9</td>\n",
       "    </tr>\n",
       "    <tr>\n",
       "      <th>2</th>\n",
       "      <td>67</td>\n",
       "      <td>C</td>\n",
       "      <td>basic_latin</td>\n",
       "      <td>Courier</td>\n",
       "      <td>9</td>\n",
       "      <td></td>\n",
       "      <td>9</td>\n",
       "    </tr>\n",
       "    <tr>\n",
       "      <th>3</th>\n",
       "      <td>68</td>\n",
       "      <td>D</td>\n",
       "      <td>basic_latin</td>\n",
       "      <td>Courier</td>\n",
       "      <td>9</td>\n",
       "      <td></td>\n",
       "      <td>9</td>\n",
       "    </tr>\n",
       "    <tr>\n",
       "      <th>4</th>\n",
       "      <td>69</td>\n",
       "      <td>E</td>\n",
       "      <td>basic_latin</td>\n",
       "      <td>Courier</td>\n",
       "      <td>9</td>\n",
       "      <td></td>\n",
       "      <td>9</td>\n",
       "    </tr>\n",
       "  </tbody>\n",
       "</table>\n",
       "</div>"
      ],
      "text/plain": [
       "   char_id char     alphabet font_face  font_size font_version  width\n",
       "0       65    A  basic_latin   Courier          9                   9\n",
       "1       66    B  basic_latin   Courier          9                   9\n",
       "2       67    C  basic_latin   Courier          9                   9\n",
       "3       68    D  basic_latin   Courier          9                   9\n",
       "4       69    E  basic_latin   Courier          9                   9"
      ]
     },
     "execution_count": 12,
     "metadata": {},
     "output_type": "execute_result"
    }
   ],
   "source": [
    "char_widths_df = get_char_widths_df()\n",
    "char_widths_df.head()"
   ]
  },
  {
   "cell_type": "code",
   "execution_count": 13,
   "id": "d8d00ce9",
   "metadata": {},
   "outputs": [],
   "source": [
    "char_widths_df.to_csv(\"../data/char_widths.csv\", index=False)"
   ]
  },
  {
   "cell_type": "code",
   "execution_count": 14,
   "id": "0b1f9c7f",
   "metadata": {},
   "outputs": [
    {
     "data": {
      "text/html": [
       "<div>\n",
       "<style scoped>\n",
       "    .dataframe tbody tr th:only-of-type {\n",
       "        vertical-align: middle;\n",
       "    }\n",
       "\n",
       "    .dataframe tbody tr th {\n",
       "        vertical-align: top;\n",
       "    }\n",
       "\n",
       "    .dataframe thead th {\n",
       "        text-align: right;\n",
       "    }\n",
       "</style>\n",
       "<table border=\"1\" class=\"dataframe\">\n",
       "  <thead>\n",
       "    <tr style=\"text-align: right;\">\n",
       "      <th></th>\n",
       "      <th>text</th>\n",
       "      <th>width</th>\n",
       "      <th>alphabet</th>\n",
       "      <th>font_face</th>\n",
       "      <th>font_size</th>\n",
       "      <th>font_version</th>\n",
       "    </tr>\n",
       "  </thead>\n",
       "  <tbody>\n",
       "    <tr>\n",
       "      <th>0</th>\n",
       "      <td>Score each cause.</td>\n",
       "      <td>153</td>\n",
       "      <td>basic_latin</td>\n",
       "      <td>Courier</td>\n",
       "      <td>9</td>\n",
       "      <td></td>\n",
       "    </tr>\n",
       "    <tr>\n",
       "      <th>1</th>\n",
       "      <td>Beautiful instead ahead despite measure ago cu...</td>\n",
       "      <td>468</td>\n",
       "      <td>basic_latin</td>\n",
       "      <td>Courier</td>\n",
       "      <td>9</td>\n",
       "      <td></td>\n",
       "    </tr>\n",
       "    <tr>\n",
       "      <th>2</th>\n",
       "      <td>Determine operation speak according south rece...</td>\n",
       "      <td>459</td>\n",
       "      <td>basic_latin</td>\n",
       "      <td>Courier</td>\n",
       "      <td>9</td>\n",
       "      <td></td>\n",
       "    </tr>\n",
       "    <tr>\n",
       "      <th>3</th>\n",
       "      <td>Choice whatever from behavior benefit.</td>\n",
       "      <td>342</td>\n",
       "      <td>basic_latin</td>\n",
       "      <td>Courier</td>\n",
       "      <td>9</td>\n",
       "      <td></td>\n",
       "    </tr>\n",
       "    <tr>\n",
       "      <th>4</th>\n",
       "      <td>Enough analysis least by two bad fall pick.</td>\n",
       "      <td>387</td>\n",
       "      <td>basic_latin</td>\n",
       "      <td>Courier</td>\n",
       "      <td>9</td>\n",
       "      <td></td>\n",
       "    </tr>\n",
       "  </tbody>\n",
       "</table>\n",
       "</div>"
      ],
      "text/plain": [
       "                                                text width     alphabet  \\\n",
       "0                                  Score each cause.   153  basic_latin   \n",
       "1  Beautiful instead ahead despite measure ago cu...   468  basic_latin   \n",
       "2  Determine operation speak according south rece...   459  basic_latin   \n",
       "3             Choice whatever from behavior benefit.   342  basic_latin   \n",
       "4        Enough analysis least by two bad fall pick.   387  basic_latin   \n",
       "\n",
       "  font_face font_size font_version  \n",
       "0   Courier         9               \n",
       "1   Courier         9               \n",
       "2   Courier         9               \n",
       "3   Courier         9               \n",
       "4   Courier         9               "
      ]
     },
     "execution_count": 14,
     "metadata": {},
     "output_type": "execute_result"
    }
   ],
   "source": [
    "control_df = get_control_df()\n",
    "control_df.head()"
   ]
  },
  {
   "cell_type": "code",
   "execution_count": 15,
   "id": "39861360",
   "metadata": {},
   "outputs": [],
   "source": [
    "control_df.to_csv(\"../data/control.csv\", index=False)"
   ]
  }
 ],
 "metadata": {
  "kernelspec": {
   "display_name": "Python 3 (ipykernel)",
   "language": "python",
   "name": "python3"
  },
  "language_info": {
   "codemirror_mode": {
    "name": "ipython",
    "version": 3
   },
   "file_extension": ".py",
   "mimetype": "text/x-python",
   "name": "python",
   "nbconvert_exporter": "python",
   "pygments_lexer": "ipython3",
   "version": "3.7.12"
  }
 },
 "nbformat": 4,
 "nbformat_minor": 5
}
