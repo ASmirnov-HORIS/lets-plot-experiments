{
 "cells": [
  {
   "cell_type": "code",
   "execution_count": null,
   "id": "de4bde5d",
   "metadata": {},
   "outputs": [],
   "source": [
    "!pip install -U wxPython"
   ]
  },
  {
   "cell_type": "code",
   "execution_count": null,
   "id": "1de5a2e0",
   "metadata": {},
   "outputs": [],
   "source": [
    "!pip install -U Faker"
   ]
  },
  {
   "cell_type": "code",
   "execution_count": null,
   "id": "eeb186ef",
   "metadata": {},
   "outputs": [],
   "source": [
    "import string\n",
    "\n",
    "import pandas as pd\n",
    "import wx\n",
    "from faker import Faker"
   ]
  },
  {
   "cell_type": "code",
   "execution_count": null,
   "id": "8d98d30a",
   "metadata": {},
   "outputs": [],
   "source": [
    "FONT_FACES = [\n",
    "    # main\n",
    "    \"Courier\",\n",
    "    \"Geneva\",\n",
    "    \"Georgia\",\n",
    "    \"Helvetica\",\n",
    "    \"Lucida Grande\",\n",
    "    \"Times New Roman\",\n",
    "    \"Verdana\",\n",
    "    # additional\n",
    "    \"Arial\", # pretty standard\n",
    "    \"Brush Script MT\", # very curved\n",
    "    \"Lucida Console\", # monospaced\n",
    "    \"Wingdings\", # just symbols\n",
    "]"
   ]
  },
  {
   "cell_type": "code",
   "execution_count": null,
   "id": "5a03a103",
   "metadata": {},
   "outputs": [],
   "source": [
    "FONT_SIZES = [\n",
    "    9, 11, 12, 14, 17, 20,\n",
    "]"
   ]
  },
  {
   "cell_type": "code",
   "execution_count": null,
   "id": "8b194f17",
   "metadata": {},
   "outputs": [],
   "source": [
    "FONT_VERSIONS = [\n",
    "    {'bold': False, 'italic': False},\n",
    "    {'bold': True, 'italic': False},\n",
    "    {'bold': False, 'italic': True},\n",
    "    {'bold': True, 'italic': True},\n",
    "]"
   ]
  },
  {
   "cell_type": "code",
   "execution_count": null,
   "id": "6f2f0014",
   "metadata": {},
   "outputs": [],
   "source": [
    "def get_japanese(random_state=42):\n",
    "    from faker import Faker\n",
    "\n",
    "    Faker.seed(random_state)\n",
    "    fake = Faker(locale=\"ja_JP\")\n",
    "    symbols = sorted([(ord(c), c) for c in set(fake.paragraph(nb_sentences=1_000))], key=lambda p: p[0])\n",
    "    assert len(symbols) == 316\n",
    "    return symbols\n",
    "\n",
    "def get_greek(random_state=42):\n",
    "    from faker import Faker\n",
    "\n",
    "    Faker.seed(random_state)\n",
    "    fake = Faker(locale=\"el_GR\")\n",
    "    symbols = sorted([(ord(c), c) for c in set(fake.paragraph(nb_sentences=1_000))], key=lambda p: p[0])\n",
    "    assert len(symbols) == 65\n",
    "    return symbols\n",
    "\n",
    "SYMBOLS = [(ord(c), c) for c in string.digits + string.punctuation + \" \"]\n",
    "BASIC_LATIN_CHARS = \\\n",
    "    [(i, chr(i)) for i in list(range(ord(u'\\u0041'), ord(u'\\u005a') + 1)) + \\\n",
    "                          list(range(ord(u'\\u0061'), ord(u'\\u007a') + 1)) \\\n",
    "     if chr(i).isprintable()] + SYMBOLS\n",
    "RUSSIAN_CHARS = \\\n",
    "    [(i, chr(i)) for i in range(ord(u'\\u0410'), ord(u'\\u044f') + 1) \\\n",
    "     if chr(i).isprintable()] + SYMBOLS\n",
    "GREEK_CHARS = get_greek()\n",
    "JAPANESE_CHARS = get_japanese()\n",
    "CHARS = \\\n",
    "    [(p[0], p[1], \"basic_latin\") for p in BASIC_LATIN_CHARS] + \\\n",
    "    [(p[0], p[1], \"russian\") for p in RUSSIAN_CHARS] + \\\n",
    "    [(p[0], p[1], \"greek\") for p in GREEK_CHARS] + \\\n",
    "    [(p[0], p[1], \"japanese\") for p in JAPANESE_CHARS]"
   ]
  },
  {
   "cell_type": "code",
   "execution_count": null,
   "id": "8de270e4",
   "metadata": {},
   "outputs": [],
   "source": [
    "def size_in_px(text, font_face=\"Arial\", font_size=11, bold=False, italic=False):\n",
    "    _ = wx.App()\n",
    "\n",
    "    font_info = wx.FontInfo(font_size).FaceName(font_face)\n",
    "    if bold:\n",
    "        font_info = font_info.Bold()\n",
    "    if italic:\n",
    "        font_info = font_info.Italic()\n",
    "    font = wx.Font(font_info)\n",
    "\n",
    "    screen_dc = wx.ScreenDC()\n",
    "    screen_dc.SetFont(font)\n",
    "    size = screen_dc.GetTextExtent(text)\n",
    "\n",
    "    return size"
   ]
  },
  {
   "cell_type": "code",
   "execution_count": null,
   "id": "77157141",
   "metadata": {},
   "outputs": [],
   "source": [
    "def get_char_widths_df():\n",
    "    from itertools import product\n",
    "\n",
    "    data = {\n",
    "        \"char_id\": [],\n",
    "        \"char\": [],\n",
    "        \"alphabet\": [],\n",
    "        \"font_face\": [],\n",
    "        \"font_size\": [],\n",
    "        \"font_version\": [],\n",
    "        \"width\": [],\n",
    "    }\n",
    "    for t in product(FONT_FACES, FONT_SIZES, FONT_VERSIONS, CHARS):\n",
    "        data[\"font_face\"] += [t[0]]\n",
    "        data[\"font_size\"] += [t[1]]\n",
    "        data[\"font_version\"] += [\n",
    "            \"bi\" if t[2]['bold'] and t[2]['italic'] else\n",
    "            \"b\" if t[2]['bold'] and not t[2]['italic'] else\n",
    "            \"i\" if not t[2]['bold'] and t[2]['italic'] else \"\"\n",
    "        ]\n",
    "        data[\"char_id\"] += [t[3][0]]\n",
    "        data[\"char\"] += [t[3][1]]\n",
    "        data[\"alphabet\"] += [t[3][2]]\n",
    "        data[\"width\"] += [size_in_px(t[3][1], t[0], t[1], t[2]['bold'], t[2]['italic'])[0]]\n",
    "\n",
    "    return pd.DataFrame(data)"
   ]
  },
  {
   "cell_type": "code",
   "execution_count": null,
   "id": "6be1c62f",
   "metadata": {},
   "outputs": [],
   "source": [
    "def get_local_control_df(alphabet, font_face=\"Arial\", font_size=11, font_version=\"\", size=1000, max_words_count=100, random_state=42):\n",
    "    from faker import Faker\n",
    "\n",
    "    LOCALES = {\n",
    "        \"basic_latin\": \"en_US\",\n",
    "        \"russian\": \"ru_RU\",\n",
    "        \"greek\": \"el_GR\",\n",
    "        \"japanese\": \"ja_JP\",\n",
    "    }\n",
    "    Faker.seed(random_state)\n",
    "    fake = Faker(locale=LOCALES[alphabet])\n",
    "    result_df = pd.DataFrame({\"text\": [fake.sentence(nb_words=(int(max_words_count * n / size) + 1)) for n in range(size)]})\n",
    "    result_df = result_df.assign(symbols_count=result_df.text.str.len()).sort_values(\"symbols_count\")\n",
    "    bold = \"b\" in font_version\n",
    "    italic = \"i\" in font_version\n",
    "    result_df[\"width\"] = result_df.text.apply(lambda s: size_in_px(s, font_face, font_size, bold, italic)[0])\n",
    "\n",
    "    return result_df.assign(\n",
    "        alphabet=lambda x: alphabet,\n",
    "        font_face=lambda x: font_face,\n",
    "        font_size=lambda x: font_size,\n",
    "        font_version=lambda x: font_version,\n",
    "    )"
   ]
  },
  {
   "cell_type": "code",
   "execution_count": null,
   "id": "6296704b",
   "metadata": {},
   "outputs": [],
   "source": [
    "def get_control_df(bunch_size=1000, random_state=42):\n",
    "    from itertools import product\n",
    "\n",
    "    df = pd.DataFrame(columns=[\"text\", \"width\", \"alphabet\", \"font_face\", \"font_size\", \"font_version\"])\n",
    "    for t in product(list(set([c[2] for c in CHARS])), FONT_FACES, FONT_SIZES, FONT_VERSIONS):\n",
    "        alphabet = t[0]\n",
    "        font_face = t[1]\n",
    "        font_size = t[2]\n",
    "        font_version = \"bi\" if t[3]['bold'] and t[3]['italic'] else \\\n",
    "                       \"b\" if t[3]['bold'] and not t[3]['italic'] else \\\n",
    "                       \"i\" if not t[3]['bold'] and t[3]['italic'] else \"\"\n",
    "\n",
    "        df = pd.concat([df, get_local_control_df(alphabet, font_face=font_face, font_size=font_size, font_version=font_version, size=bunch_size, random_state=random_state)])\n",
    "\n",
    "    return df"
   ]
  },
  {
   "cell_type": "code",
   "execution_count": null,
   "id": "69caafed",
   "metadata": {},
   "outputs": [],
   "source": [
    "char_widths_df = get_char_widths_df()\n",
    "char_widths_df.head()"
   ]
  },
  {
   "cell_type": "code",
   "execution_count": null,
   "id": "d8d00ce9",
   "metadata": {},
   "outputs": [],
   "source": [
    "char_widths_df.to_csv(\"../data/full/char_widths.csv\", index=False)"
   ]
  },
  {
   "cell_type": "code",
   "execution_count": null,
   "id": "0b1f9c7f",
   "metadata": {},
   "outputs": [],
   "source": [
    "control_df = get_control_df()\n",
    "control_df.head()"
   ]
  },
  {
   "cell_type": "code",
   "execution_count": null,
   "id": "39861360",
   "metadata": {},
   "outputs": [],
   "source": [
    "control_df.to_csv(\"../data/full/control.csv\", index=False)"
   ]
  }
 ],
 "metadata": {
  "kernelspec": {
   "display_name": "Python 3 (ipykernel)",
   "language": "python",
   "name": "python3"
  },
  "language_info": {
   "codemirror_mode": {
    "name": "ipython",
    "version": 3
   },
   "file_extension": ".py",
   "mimetype": "text/x-python",
   "name": "python",
   "nbconvert_exporter": "python",
   "pygments_lexer": "ipython3",
   "version": "3.7.12"
  }
 },
 "nbformat": 4,
 "nbformat_minor": 5
}
