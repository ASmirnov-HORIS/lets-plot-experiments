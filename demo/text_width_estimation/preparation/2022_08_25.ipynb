{
 "cells": [
  {
   "cell_type": "code",
   "execution_count": 1,
   "id": "de4bde5d",
   "metadata": {},
   "outputs": [
    {
     "name": "stdout",
     "output_type": "stream",
     "text": [
      "Requirement already satisfied: wxPython in c:\\users\\infoh\\anaconda3\\envs\\lets-plot-experiments\\lib\\site-packages (4.2.0)\n",
      "Requirement already satisfied: pillow in c:\\users\\infoh\\anaconda3\\envs\\lets-plot-experiments\\lib\\site-packages (from wxPython) (9.2.0)\n",
      "Requirement already satisfied: six in c:\\users\\infoh\\anaconda3\\envs\\lets-plot-experiments\\lib\\site-packages (from wxPython) (1.16.0)\n",
      "Requirement already satisfied: numpy in c:\\users\\infoh\\anaconda3\\envs\\lets-plot-experiments\\lib\\site-packages (from wxPython) (1.23.1)\n"
     ]
    }
   ],
   "source": [
    "!pip install -U wxPython"
   ]
  },
  {
   "cell_type": "code",
   "execution_count": 2,
   "id": "1de5a2e0",
   "metadata": {},
   "outputs": [
    {
     "name": "stdout",
     "output_type": "stream",
     "text": [
      "Requirement already satisfied: Faker in c:\\users\\infoh\\anaconda3\\envs\\lets-plot-experiments\\lib\\site-packages (14.1.0)\n",
      "Requirement already satisfied: python-dateutil>=2.4 in c:\\users\\infoh\\anaconda3\\envs\\lets-plot-experiments\\lib\\site-packages (from Faker) (2.8.2)\n",
      "Requirement already satisfied: six>=1.5 in c:\\users\\infoh\\anaconda3\\envs\\lets-plot-experiments\\lib\\site-packages (from python-dateutil>=2.4->Faker) (1.16.0)\n"
     ]
    }
   ],
   "source": [
    "!pip install -U Faker"
   ]
  },
  {
   "cell_type": "code",
   "execution_count": 3,
   "id": "eeb186ef",
   "metadata": {},
   "outputs": [],
   "source": [
    "import os\n",
    "import string\n",
    "\n",
    "import pandas as pd\n",
    "import wx\n",
    "\n",
    "import os; import sys; sys.path.append(os.path.join(sys.path[0], \"..\"))\n",
    "from util import font as ufont"
   ]
  },
  {
   "cell_type": "code",
   "execution_count": 4,
   "id": "516653fc",
   "metadata": {},
   "outputs": [],
   "source": [
    "DATA_DIR = \"../data\"\n",
    "FULL_DIR = \"{0}/full\".format(DATA_DIR)\n",
    "CROPPED_DIR = \"{0}/cropped\".format(DATA_DIR)"
   ]
  },
  {
   "cell_type": "code",
   "execution_count": 5,
   "id": "ea1007dc",
   "metadata": {
    "scrolled": false
   },
   "outputs": [
    {
     "name": "stdout",
     "output_type": "stream",
     "text": [
      "824\n"
     ]
    },
    {
     "data": {
      "text/plain": [
       "[Char(id=32, char=' ', alphabet='latin'),\n",
       " Char(id=33, char='!', alphabet='latin'),\n",
       " Char(id=34, char='\"', alphabet='latin'),\n",
       " Char(id=35, char='#', alphabet='latin'),\n",
       " Char(id=36, char='$', alphabet='latin')]"
      ]
     },
     "execution_count": 5,
     "metadata": {},
     "output_type": "execute_result"
    }
   ],
   "source": [
    "def prepare_chars(alphabet, *char_lists):\n",
    "    from collections import namedtuple\n",
    "\n",
    "    Char = namedtuple(\"Char\", [\"id\", \"char\", \"alphabet\"])\n",
    "\n",
    "    return sorted([\n",
    "        Char(char_id, char, alphabet)\n",
    "        for (char_id, char) in sum(char_lists, start=[]) if char.isprintable()\n",
    "    ], key=lambda t: t[0])\n",
    "\n",
    "def drop_duplicates_from_chars(chars):\n",
    "    return [char for char_id, char in {c.id: c for c in chars}.items()]\n",
    "\n",
    "SYMBOLS = [(ord(c), c) for c in string.digits + string.punctuation + \" \"]\n",
    "\n",
    "BASIC_LATIN = [(i, chr(i)) for i in range(ord(u'\\u0020'), ord(u'\\u007f') + 1)]\n",
    "LATIN_SUPPLEMENT = [(i, chr(i)) for i in range(ord(u'\\u00a0'), ord(u'\\u00ff') + 1)]\n",
    "LATIN_EXTENDED_A = [(i, chr(i)) for i in range(ord(u'\\u0100'), ord(u'\\u017f') + 1)]\n",
    "LATIN_EXTENDED_B = [(i, chr(i)) for i in range(ord(u'\\u0180'), ord(u'\\u024f') + 1)]\n",
    "\n",
    "BASIC_CYRILLIC = [(i, chr(i)) for i in range(ord(u'\\u0410'), ord(u'\\u044f') + 1)]\n",
    "FULL_CYRILLIC = [(i, chr(i)) for i in range(ord(u'\\u0400'), ord(u'\\u04ff') + 1) if i not in [1155, 1156, 1157, 1158, 1159]]\n",
    "CYRILLIC_SUPPLEMENTARY = [(i, chr(i)) for i in range(ord(u'\\u0500'), ord(u'\\u052f') + 1)]\n",
    "\n",
    "LATIN = prepare_chars(\"latin\", SYMBOLS, BASIC_LATIN, LATIN_SUPPLEMENT, LATIN_EXTENDED_A, LATIN_EXTENDED_B)\n",
    "CYRILLIC = prepare_chars(\"cyrillic\", BASIC_CYRILLIC, FULL_CYRILLIC, CYRILLIC_SUPPLEMENTARY)\n",
    "CHARS = drop_duplicates_from_chars(LATIN + CYRILLIC)\n",
    "print(len(CHARS))\n",
    "CHARS[:5]"
   ]
  },
  {
   "cell_type": "code",
   "execution_count": 6,
   "id": "a13cea3d",
   "metadata": {},
   "outputs": [],
   "source": [
    "LOCALES = {\n",
    "    \"en_US\": \"latin\",\n",
    "    \"es_ES\": \"latin\",\n",
    "    \"fr_FR\": \"latin\",\n",
    "    \"pt_PT\": \"latin\",\n",
    "    \"ru_RU\": \"cyrillic\",\n",
    "}"
   ]
  },
  {
   "cell_type": "code",
   "execution_count": 7,
   "id": "8de270e4",
   "metadata": {},
   "outputs": [],
   "source": [
    "def width_in_px(text, font=ufont.BASIC_FONT):\n",
    "    _ = wx.App()\n",
    "\n",
    "    font_info = wx.FontInfo(font.size).FaceName(font.family)\n",
    "    if font.face.bold:\n",
    "        font_info = font_info.Bold()\n",
    "    if font.face.italic:\n",
    "        font_info = font_info.Italic()\n",
    "    wx_font = wx.Font(font_info)\n",
    "\n",
    "    screen_dc = wx.ScreenDC()\n",
    "    screen_dc.SetFont(wx_font)\n",
    "    size = screen_dc.GetTextExtent(text)\n",
    "\n",
    "    return size[0]"
   ]
  },
  {
   "cell_type": "code",
   "execution_count": 8,
   "id": "77157141",
   "metadata": {},
   "outputs": [],
   "source": [
    "def get_char_widths_df(\n",
    "        font_families=ufont.FONT_FAMILIES,\n",
    "        font_sizes=ufont.FONT_SIZES,\n",
    "        font_faces=ufont.FONT_FACES,\n",
    "        chars=CHARS\n",
    "    ):\n",
    "    from itertools import product\n",
    "\n",
    "    data = {\n",
    "        \"char_id\": [],\n",
    "        \"char\": [],\n",
    "        \"alphabet\": [],\n",
    "        \"font_family\": [],\n",
    "        \"font_size\": [],\n",
    "        \"font_face\": [],\n",
    "        \"is_monospaced\": [],\n",
    "        \"width\": [],\n",
    "    }\n",
    "    for (font_family, font_size, font_face, char) in product(font_families, font_sizes, font_faces, chars):\n",
    "        font = ufont.Font(font_family, font_size, font_face)\n",
    "        data[\"font_family\"] += [font_family]\n",
    "        data[\"font_size\"] += [font_size]\n",
    "        data[\"font_face\"] += [str(font_face)]\n",
    "        data[\"is_monospaced\"] += [ufont.is_monospaced(font)]\n",
    "        data[\"char_id\"] += [char.id]\n",
    "        data[\"char\"] += [char.char]\n",
    "        data[\"alphabet\"] += [char.alphabet]\n",
    "        data[\"width\"] += [width_in_px(char.char, font)]\n",
    "\n",
    "    return pd.DataFrame(data)"
   ]
  },
  {
   "cell_type": "code",
   "execution_count": 9,
   "id": "6296704b",
   "metadata": {},
   "outputs": [],
   "source": [
    "def get_texts_df(\n",
    "        font_families=ufont.FONT_FAMILIES,\n",
    "        font_sizes=ufont.FONT_SIZES,\n",
    "        font_faces=ufont.FONT_FACES,\n",
    "        locales=LOCALES,\n",
    "        bunch_size=1000,\n",
    "        max_words_count=5,\n",
    "        size_reserve_coeff=2,\n",
    "        random_state=42\n",
    "    ):\n",
    "    from itertools import product\n",
    "    from faker import Faker\n",
    "\n",
    "    def get_local_texts_df(locale, font_family, font_size, font_face):\n",
    "        Faker.seed(random_state)\n",
    "        fake = Faker(locale=locale)\n",
    "        font = ufont.Font(font_family, font_size, font_face)\n",
    "        result_df = pd.DataFrame({\n",
    "            \"text\": [\n",
    "                fake.sentence(nb_words=(int(max_words_count * n / bunch_size) + 1), variable_nb_words=False)\n",
    "                for n in list(range(bunch_size)) * size_reserve_coeff\n",
    "            ]\n",
    "        }).drop_duplicates(subset=\"text\").sample(bunch_size, random_state=random_state)\n",
    "        result_df.text = result_df.text.str[:-1]\n",
    "        return result_df.assign(\n",
    "            symbols_count=result_df.text.str.len(),\n",
    "            width=result_df.text.apply(lambda s: width_in_px(s, font))\n",
    "        ).sort_values(\"symbols_count\").assign(\n",
    "            alphabet=lambda r: locales[locale],\n",
    "            font_family=lambda r: font_family,\n",
    "            font_size=lambda r: font_size,\n",
    "            font_face=lambda r: str(font_face),\n",
    "            is_monospaced=lambda r: ufont.is_monospaced(font_family)\n",
    "        )\n",
    "\n",
    "    df = pd.DataFrame(columns=[\"text\", \"width\", \"alphabet\", \"font_family\", \"font_size\", \"font_face\"])\n",
    "    for (locale, font_family, font_size, font_face) in product(locales, font_families, font_sizes, font_faces):\n",
    "        df = pd.concat([df, get_local_texts_df(locale, font_family=font_family, \\\n",
    "                                                 font_size=font_size, font_face=font_face)])\n",
    "\n",
    "    return df.reset_index(drop=True)"
   ]
  },
  {
   "cell_type": "code",
   "execution_count": 10,
   "id": "033a4244",
   "metadata": {},
   "outputs": [],
   "source": [
    "def crop_df(df, proportion=.1, random_state=42):\n",
    "    import numpy as np\n",
    "\n",
    "    features = [\"alphabet\", \"font_family\", \"font_size\", \"font_face\"]\n",
    "    n = df.groupby(features).count().iloc[:, 0].min()\n",
    "    result_size = max(1, int(np.round(n * proportion)))\n",
    "\n",
    "    return df.groupby(features).sample(n=result_size, random_state=random_state).reset_index(drop=True)"
   ]
  },
  {
   "cell_type": "code",
   "execution_count": 11,
   "id": "9f57303b",
   "metadata": {},
   "outputs": [],
   "source": [
    "if not os.path.exists(FULL_DIR):\n",
    "    os.makedirs(FULL_DIR)\n",
    "if not os.path.exists(CROPPED_DIR):\n",
    "    os.makedirs(CROPPED_DIR)"
   ]
  },
  {
   "cell_type": "code",
   "execution_count": 12,
   "id": "69caafed",
   "metadata": {},
   "outputs": [
    {
     "name": "stdout",
     "output_type": "stream",
     "text": [
      "(237312, 8)\n"
     ]
    },
    {
     "data": {
      "text/html": [
       "<div>\n",
       "<style scoped>\n",
       "    .dataframe tbody tr th:only-of-type {\n",
       "        vertical-align: middle;\n",
       "    }\n",
       "\n",
       "    .dataframe tbody tr th {\n",
       "        vertical-align: top;\n",
       "    }\n",
       "\n",
       "    .dataframe thead th {\n",
       "        text-align: right;\n",
       "    }\n",
       "</style>\n",
       "<table border=\"1\" class=\"dataframe\">\n",
       "  <thead>\n",
       "    <tr style=\"text-align: right;\">\n",
       "      <th></th>\n",
       "      <th>char_id</th>\n",
       "      <th>char</th>\n",
       "      <th>alphabet</th>\n",
       "      <th>font_family</th>\n",
       "      <th>font_size</th>\n",
       "      <th>font_face</th>\n",
       "      <th>is_monospaced</th>\n",
       "      <th>width</th>\n",
       "    </tr>\n",
       "  </thead>\n",
       "  <tbody>\n",
       "    <tr>\n",
       "      <th>0</th>\n",
       "      <td>32</td>\n",
       "      <td></td>\n",
       "      <td>latin</td>\n",
       "      <td>Courier</td>\n",
       "      <td>9</td>\n",
       "      <td>normal</td>\n",
       "      <td>True</td>\n",
       "      <td>8</td>\n",
       "    </tr>\n",
       "    <tr>\n",
       "      <th>1</th>\n",
       "      <td>33</td>\n",
       "      <td>!</td>\n",
       "      <td>latin</td>\n",
       "      <td>Courier</td>\n",
       "      <td>9</td>\n",
       "      <td>normal</td>\n",
       "      <td>True</td>\n",
       "      <td>8</td>\n",
       "    </tr>\n",
       "    <tr>\n",
       "      <th>2</th>\n",
       "      <td>34</td>\n",
       "      <td>\"</td>\n",
       "      <td>latin</td>\n",
       "      <td>Courier</td>\n",
       "      <td>9</td>\n",
       "      <td>normal</td>\n",
       "      <td>True</td>\n",
       "      <td>8</td>\n",
       "    </tr>\n",
       "    <tr>\n",
       "      <th>3</th>\n",
       "      <td>35</td>\n",
       "      <td>#</td>\n",
       "      <td>latin</td>\n",
       "      <td>Courier</td>\n",
       "      <td>9</td>\n",
       "      <td>normal</td>\n",
       "      <td>True</td>\n",
       "      <td>8</td>\n",
       "    </tr>\n",
       "    <tr>\n",
       "      <th>4</th>\n",
       "      <td>36</td>\n",
       "      <td>$</td>\n",
       "      <td>latin</td>\n",
       "      <td>Courier</td>\n",
       "      <td>9</td>\n",
       "      <td>normal</td>\n",
       "      <td>True</td>\n",
       "      <td>8</td>\n",
       "    </tr>\n",
       "  </tbody>\n",
       "</table>\n",
       "</div>"
      ],
      "text/plain": [
       "   char_id char alphabet font_family  font_size font_face  is_monospaced  \\\n",
       "0       32         latin     Courier          9    normal           True   \n",
       "1       33    !    latin     Courier          9    normal           True   \n",
       "2       34    \"    latin     Courier          9    normal           True   \n",
       "3       35    #    latin     Courier          9    normal           True   \n",
       "4       36    $    latin     Courier          9    normal           True   \n",
       "\n",
       "   width  \n",
       "0      8  \n",
       "1      8  \n",
       "2      8  \n",
       "3      8  \n",
       "4      8  "
      ]
     },
     "execution_count": 12,
     "metadata": {},
     "output_type": "execute_result"
    }
   ],
   "source": [
    "char_widths_df = get_char_widths_df()\n",
    "print(char_widths_df.shape)\n",
    "char_widths_df.head()"
   ]
  },
  {
   "cell_type": "code",
   "execution_count": 13,
   "id": "d8d00ce9",
   "metadata": {},
   "outputs": [],
   "source": [
    "char_widths_df.to_csv(\"{0}/char_widths.csv\".format(FULL_DIR), index=False)"
   ]
  },
  {
   "cell_type": "code",
   "execution_count": 14,
   "id": "ca42c71f",
   "metadata": {},
   "outputs": [],
   "source": [
    "char_widths_df.to_csv(\"{0}/char_widths.csv\".format(CROPPED_DIR), index=False)"
   ]
  },
  {
   "cell_type": "code",
   "execution_count": 15,
   "id": "0b1f9c7f",
   "metadata": {},
   "outputs": [
    {
     "name": "stdout",
     "output_type": "stream",
     "text": [
      "(1440000, 8)\n"
     ]
    },
    {
     "data": {
      "text/html": [
       "<div>\n",
       "<style scoped>\n",
       "    .dataframe tbody tr th:only-of-type {\n",
       "        vertical-align: middle;\n",
       "    }\n",
       "\n",
       "    .dataframe tbody tr th {\n",
       "        vertical-align: top;\n",
       "    }\n",
       "\n",
       "    .dataframe thead th {\n",
       "        text-align: right;\n",
       "    }\n",
       "</style>\n",
       "<table border=\"1\" class=\"dataframe\">\n",
       "  <thead>\n",
       "    <tr style=\"text-align: right;\">\n",
       "      <th></th>\n",
       "      <th>text</th>\n",
       "      <th>width</th>\n",
       "      <th>alphabet</th>\n",
       "      <th>font_family</th>\n",
       "      <th>font_size</th>\n",
       "      <th>font_face</th>\n",
       "      <th>symbols_count</th>\n",
       "      <th>is_monospaced</th>\n",
       "    </tr>\n",
       "  </thead>\n",
       "  <tbody>\n",
       "    <tr>\n",
       "      <th>0</th>\n",
       "      <td>I</td>\n",
       "      <td>8</td>\n",
       "      <td>latin</td>\n",
       "      <td>Courier</td>\n",
       "      <td>9</td>\n",
       "      <td>normal</td>\n",
       "      <td>1.0</td>\n",
       "      <td>True</td>\n",
       "    </tr>\n",
       "    <tr>\n",
       "      <th>1</th>\n",
       "      <td>A</td>\n",
       "      <td>8</td>\n",
       "      <td>latin</td>\n",
       "      <td>Courier</td>\n",
       "      <td>9</td>\n",
       "      <td>normal</td>\n",
       "      <td>1.0</td>\n",
       "      <td>True</td>\n",
       "    </tr>\n",
       "    <tr>\n",
       "      <th>2</th>\n",
       "      <td>On</td>\n",
       "      <td>16</td>\n",
       "      <td>latin</td>\n",
       "      <td>Courier</td>\n",
       "      <td>9</td>\n",
       "      <td>normal</td>\n",
       "      <td>2.0</td>\n",
       "      <td>True</td>\n",
       "    </tr>\n",
       "    <tr>\n",
       "      <th>3</th>\n",
       "      <td>Or</td>\n",
       "      <td>16</td>\n",
       "      <td>latin</td>\n",
       "      <td>Courier</td>\n",
       "      <td>9</td>\n",
       "      <td>normal</td>\n",
       "      <td>2.0</td>\n",
       "      <td>True</td>\n",
       "    </tr>\n",
       "    <tr>\n",
       "      <th>4</th>\n",
       "      <td>He</td>\n",
       "      <td>16</td>\n",
       "      <td>latin</td>\n",
       "      <td>Courier</td>\n",
       "      <td>9</td>\n",
       "      <td>normal</td>\n",
       "      <td>2.0</td>\n",
       "      <td>True</td>\n",
       "    </tr>\n",
       "  </tbody>\n",
       "</table>\n",
       "</div>"
      ],
      "text/plain": [
       "  text width alphabet font_family font_size font_face  symbols_count  \\\n",
       "0    I     8    latin     Courier         9    normal            1.0   \n",
       "1    A     8    latin     Courier         9    normal            1.0   \n",
       "2   On    16    latin     Courier         9    normal            2.0   \n",
       "3   Or    16    latin     Courier         9    normal            2.0   \n",
       "4   He    16    latin     Courier         9    normal            2.0   \n",
       "\n",
       "  is_monospaced  \n",
       "0          True  \n",
       "1          True  \n",
       "2          True  \n",
       "3          True  \n",
       "4          True  "
      ]
     },
     "execution_count": 15,
     "metadata": {},
     "output_type": "execute_result"
    }
   ],
   "source": [
    "control_df = get_texts_df(max_words_count=5)\n",
    "print(control_df.shape)\n",
    "control_df.head()"
   ]
  },
  {
   "cell_type": "code",
   "execution_count": 16,
   "id": "39861360",
   "metadata": {},
   "outputs": [],
   "source": [
    "control_df.to_csv(\"{0}/control.csv\".format(FULL_DIR), index=False)"
   ]
  },
  {
   "cell_type": "code",
   "execution_count": 17,
   "id": "6d0fd9ac",
   "metadata": {},
   "outputs": [],
   "source": [
    "crop_df(control_df, proportion=.01).to_csv(\"{0}/control.csv\".format(CROPPED_DIR), index=False)"
   ]
  },
  {
   "cell_type": "code",
   "execution_count": 18,
   "id": "2eda8d7f",
   "metadata": {},
   "outputs": [
    {
     "name": "stdout",
     "output_type": "stream",
     "text": [
      "(720000, 8)\n"
     ]
    },
    {
     "data": {
      "text/html": [
       "<div>\n",
       "<style scoped>\n",
       "    .dataframe tbody tr th:only-of-type {\n",
       "        vertical-align: middle;\n",
       "    }\n",
       "\n",
       "    .dataframe tbody tr th {\n",
       "        vertical-align: top;\n",
       "    }\n",
       "\n",
       "    .dataframe thead th {\n",
       "        text-align: right;\n",
       "    }\n",
       "</style>\n",
       "<table border=\"1\" class=\"dataframe\">\n",
       "  <thead>\n",
       "    <tr style=\"text-align: right;\">\n",
       "      <th></th>\n",
       "      <th>text</th>\n",
       "      <th>width</th>\n",
       "      <th>alphabet</th>\n",
       "      <th>font_family</th>\n",
       "      <th>font_size</th>\n",
       "      <th>font_face</th>\n",
       "      <th>symbols_count</th>\n",
       "      <th>is_monospaced</th>\n",
       "    </tr>\n",
       "  </thead>\n",
       "  <tbody>\n",
       "    <tr>\n",
       "      <th>0</th>\n",
       "      <td>Dog</td>\n",
       "      <td>24</td>\n",
       "      <td>latin</td>\n",
       "      <td>Courier</td>\n",
       "      <td>9</td>\n",
       "      <td>normal</td>\n",
       "      <td>3.0</td>\n",
       "      <td>True</td>\n",
       "    </tr>\n",
       "    <tr>\n",
       "      <th>1</th>\n",
       "      <td>Ago</td>\n",
       "      <td>24</td>\n",
       "      <td>latin</td>\n",
       "      <td>Courier</td>\n",
       "      <td>9</td>\n",
       "      <td>normal</td>\n",
       "      <td>3.0</td>\n",
       "      <td>True</td>\n",
       "    </tr>\n",
       "    <tr>\n",
       "      <th>2</th>\n",
       "      <td>Move</td>\n",
       "      <td>32</td>\n",
       "      <td>latin</td>\n",
       "      <td>Courier</td>\n",
       "      <td>9</td>\n",
       "      <td>normal</td>\n",
       "      <td>4.0</td>\n",
       "      <td>True</td>\n",
       "    </tr>\n",
       "    <tr>\n",
       "      <th>3</th>\n",
       "      <td>Blue</td>\n",
       "      <td>32</td>\n",
       "      <td>latin</td>\n",
       "      <td>Courier</td>\n",
       "      <td>9</td>\n",
       "      <td>normal</td>\n",
       "      <td>4.0</td>\n",
       "      <td>True</td>\n",
       "    </tr>\n",
       "    <tr>\n",
       "      <th>4</th>\n",
       "      <td>Push</td>\n",
       "      <td>32</td>\n",
       "      <td>latin</td>\n",
       "      <td>Courier</td>\n",
       "      <td>9</td>\n",
       "      <td>normal</td>\n",
       "      <td>4.0</td>\n",
       "      <td>True</td>\n",
       "    </tr>\n",
       "  </tbody>\n",
       "</table>\n",
       "</div>"
      ],
      "text/plain": [
       "   text width alphabet font_family font_size font_face  symbols_count  \\\n",
       "0   Dog    24    latin     Courier         9    normal            3.0   \n",
       "1   Ago    24    latin     Courier         9    normal            3.0   \n",
       "2  Move    32    latin     Courier         9    normal            4.0   \n",
       "3  Blue    32    latin     Courier         9    normal            4.0   \n",
       "4  Push    32    latin     Courier         9    normal            4.0   \n",
       "\n",
       "  is_monospaced  \n",
       "0          True  \n",
       "1          True  \n",
       "2          True  \n",
       "3          True  \n",
       "4          True  "
      ]
     },
     "execution_count": 18,
     "metadata": {},
     "output_type": "execute_result"
    }
   ],
   "source": [
    "texts_df = get_texts_df(bunch_size=500, max_words_count=50)\n",
    "print(texts_df.shape)\n",
    "texts_df.head()"
   ]
  },
  {
   "cell_type": "code",
   "execution_count": 19,
   "id": "2a9e912f",
   "metadata": {},
   "outputs": [],
   "source": [
    "texts_df.to_csv(\"{0}/texts.csv\".format(FULL_DIR), index=False)"
   ]
  },
  {
   "cell_type": "code",
   "execution_count": 20,
   "id": "60674c62",
   "metadata": {},
   "outputs": [],
   "source": [
    "crop_df(texts_df, proportion=.05).to_csv(\"{0}/texts.csv\".format(CROPPED_DIR), index=False)"
   ]
  }
 ],
 "metadata": {
  "kernelspec": {
   "display_name": "Python 3 (ipykernel)",
   "language": "python",
   "name": "python3"
  },
  "language_info": {
   "codemirror_mode": {
    "name": "ipython",
    "version": 3
   },
   "file_extension": ".py",
   "mimetype": "text/x-python",
   "name": "python",
   "nbconvert_exporter": "python",
   "pygments_lexer": "ipython3",
   "version": "3.8.13"
  }
 },
 "nbformat": 4,
 "nbformat_minor": 5
}
