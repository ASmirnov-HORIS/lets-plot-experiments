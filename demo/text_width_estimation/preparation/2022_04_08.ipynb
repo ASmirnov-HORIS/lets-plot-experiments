{
 "cells": [
  {
   "cell_type": "code",
   "execution_count": 1,
   "id": "de4bde5d",
   "metadata": {},
   "outputs": [
    {
     "name": "stdout",
     "output_type": "stream",
     "text": [
      "Requirement already satisfied: wxPython in d:\\anaconda3\\envs\\lets-plot-experiments\\lib\\site-packages (4.1.1)"
     ]
    },
    {
     "name": "stderr",
     "output_type": "stream",
     "text": [
      "WARNING: Ignoring invalid distribution -ets-plot (d:\\anaconda3\\envs\\lets-plot-experiments\\lib\\site-packages)\n",
      "WARNING: Ignoring invalid distribution -ets-plot (d:\\anaconda3\\envs\\lets-plot-experiments\\lib\\site-packages)\n",
      "WARNING: Ignoring invalid distribution -ets-plot (d:\\anaconda3\\envs\\lets-plot-experiments\\lib\\site-packages)\n",
      "WARNING: Ignoring invalid distribution -ets-plot (d:\\anaconda3\\envs\\lets-plot-experiments\\lib\\site-packages)\n",
      "WARNING: Ignoring invalid distribution -ets-plot (d:\\anaconda3\\envs\\lets-plot-experiments\\lib\\site-packages)\n"
     ]
    },
    {
     "name": "stdout",
     "output_type": "stream",
     "text": [
      "\n",
      "Requirement already satisfied: six in d:\\anaconda3\\envs\\lets-plot-experiments\\lib\\site-packages (from wxPython) (1.16.0)\n",
      "Requirement already satisfied: pillow in d:\\anaconda3\\envs\\lets-plot-experiments\\lib\\site-packages (from wxPython) (8.3.2)\n",
      "Requirement already satisfied: numpy in d:\\anaconda3\\envs\\lets-plot-experiments\\lib\\site-packages (from wxPython) (1.21.5)\n"
     ]
    }
   ],
   "source": [
    "!pip install -U wxPython"
   ]
  },
  {
   "cell_type": "code",
   "execution_count": 2,
   "id": "eeb186ef",
   "metadata": {},
   "outputs": [],
   "source": [
    "import pandas as pd\n",
    "import wx"
   ]
  },
  {
   "cell_type": "code",
   "execution_count": 3,
   "id": "8de270e4",
   "metadata": {},
   "outputs": [],
   "source": [
    "def size_in_px(text, font_face=\"Arial\", font_size=11, bold=False, italic=False):\n",
    "    _ = wx.App()\n",
    "\n",
    "    font_info = wx.FontInfo(font_size).FaceName(font_face)\n",
    "    if bold:\n",
    "        font_info = font_info.Bold()\n",
    "    if italic:\n",
    "        font_info = font_info.Italic()\n",
    "    font = wx.Font(font_info)\n",
    "\n",
    "    screen_dc = wx.ScreenDC()\n",
    "    screen_dc.SetFont(font)\n",
    "    size = screen_dc.GetTextExtent(text)\n",
    "\n",
    "    return size"
   ]
  },
  {
   "cell_type": "code",
   "execution_count": 4,
   "id": "77157141",
   "metadata": {},
   "outputs": [],
   "source": [
    "def prepare_df():\n",
    "    from itertools import product\n",
    "\n",
    "    FONT_FACES = [\n",
    "        \"Courier\",\n",
    "        \"Geneva\",\n",
    "        \"Georgia\",\n",
    "        \"Helvetica\",\n",
    "        \"Lucida Grande\",\n",
    "        \"Times New Roman\",\n",
    "        \"Verdana\",\n",
    "    ]\n",
    "    FONT_SIZES = [\n",
    "        11, 14, 24,\n",
    "    ]\n",
    "    FONT_VERSIONS = [\n",
    "        {'bold': False, 'italic': False},\n",
    "        {'bold': True, 'italic': False},\n",
    "        {'bold': False, 'italic': True},\n",
    "        {'bold': True, 'italic': True},\n",
    "    ]\n",
    "    CHARS = [chr(i) for i in range(32, 127)]\n",
    "\n",
    "    data = {\n",
    "        \"char\": [],\n",
    "        \"font_face\": [],\n",
    "        \"font_size\": [],\n",
    "        \"font_version\": [],\n",
    "        \"width\": [],\n",
    "    }\n",
    "\n",
    "    for t in product(FONT_FACES, FONT_SIZES, FONT_VERSIONS, CHARS):\n",
    "        data[\"font_face\"] += [t[0]]\n",
    "        data[\"font_size\"] += [t[1]]\n",
    "        data[\"font_version\"] += [\n",
    "            \"bi\" if t[2]['bold'] and t[2]['italic'] else\n",
    "            \"b\" if t[2]['bold'] and not t[2]['italic'] else\n",
    "            \"i\" if not t[2]['bold'] and t[2]['italic'] else \"\"\n",
    "        ]\n",
    "        data[\"char\"] += [t[3]]\n",
    "        data[\"width\"] += [size_in_px(t[3], t[0], t[1], t[2]['bold'], t[2]['italic'])[0]]\n",
    "\n",
    "    return pd.DataFrame(data)"
   ]
  },
  {
   "cell_type": "code",
   "execution_count": 5,
   "id": "69caafed",
   "metadata": {},
   "outputs": [
    {
     "data": {
      "text/html": [
       "<div>\n",
       "<style scoped>\n",
       "    .dataframe tbody tr th:only-of-type {\n",
       "        vertical-align: middle;\n",
       "    }\n",
       "\n",
       "    .dataframe tbody tr th {\n",
       "        vertical-align: top;\n",
       "    }\n",
       "\n",
       "    .dataframe thead th {\n",
       "        text-align: right;\n",
       "    }\n",
       "</style>\n",
       "<table border=\"1\" class=\"dataframe\">\n",
       "  <thead>\n",
       "    <tr style=\"text-align: right;\">\n",
       "      <th></th>\n",
       "      <th>char</th>\n",
       "      <th>font_face</th>\n",
       "      <th>font_size</th>\n",
       "      <th>font_version</th>\n",
       "      <th>width</th>\n",
       "    </tr>\n",
       "  </thead>\n",
       "  <tbody>\n",
       "    <tr>\n",
       "      <th>0</th>\n",
       "      <td></td>\n",
       "      <td>Courier</td>\n",
       "      <td>11</td>\n",
       "      <td></td>\n",
       "      <td>12</td>\n",
       "    </tr>\n",
       "    <tr>\n",
       "      <th>1</th>\n",
       "      <td>!</td>\n",
       "      <td>Courier</td>\n",
       "      <td>11</td>\n",
       "      <td></td>\n",
       "      <td>12</td>\n",
       "    </tr>\n",
       "    <tr>\n",
       "      <th>2</th>\n",
       "      <td>\"</td>\n",
       "      <td>Courier</td>\n",
       "      <td>11</td>\n",
       "      <td></td>\n",
       "      <td>12</td>\n",
       "    </tr>\n",
       "    <tr>\n",
       "      <th>3</th>\n",
       "      <td>#</td>\n",
       "      <td>Courier</td>\n",
       "      <td>11</td>\n",
       "      <td></td>\n",
       "      <td>12</td>\n",
       "    </tr>\n",
       "    <tr>\n",
       "      <th>4</th>\n",
       "      <td>$</td>\n",
       "      <td>Courier</td>\n",
       "      <td>11</td>\n",
       "      <td></td>\n",
       "      <td>12</td>\n",
       "    </tr>\n",
       "  </tbody>\n",
       "</table>\n",
       "</div>"
      ],
      "text/plain": [
       "  char font_face  font_size font_version  width\n",
       "0        Courier         11                  12\n",
       "1    !   Courier         11                  12\n",
       "2    \"   Courier         11                  12\n",
       "3    #   Courier         11                  12\n",
       "4    $   Courier         11                  12"
      ]
     },
     "execution_count": 5,
     "metadata": {},
     "output_type": "execute_result"
    }
   ],
   "source": [
    "df = prepare_df()\n",
    "df.head()"
   ]
  }
 ],
 "metadata": {
  "kernelspec": {
   "display_name": "Python 3 (ipykernel)",
   "language": "python",
   "name": "python3"
  },
  "language_info": {
   "codemirror_mode": {
    "name": "ipython",
    "version": 3
   },
   "file_extension": ".py",
   "mimetype": "text/x-python",
   "name": "python",
   "nbconvert_exporter": "python",
   "pygments_lexer": "ipython3",
   "version": "3.7.12"
  }
 },
 "nbformat": 4,
 "nbformat_minor": 5
}
