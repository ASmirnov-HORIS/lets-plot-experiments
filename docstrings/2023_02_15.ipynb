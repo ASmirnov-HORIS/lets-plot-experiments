{
 "cells": [
  {
   "cell_type": "code",
   "execution_count": null,
   "id": "d0c4765e",
   "metadata": {},
   "outputs": [],
   "source": [
    "# geom_point\n",
    "from lets_plot import *\n",
    "from lets_plot.geo_data import *\n",
    "LetsPlot.setup_html()\n",
    "data = {\"city\": [\"New York\", \"Los Angeles\", \"Chicago\"], \\\n",
    "        \"est_pop_2019\": [8_336_817, 3_979_576, 2_693_976]}\n",
    "centroids = geocode_cities(data[\"city\"]).get_centroids()\n",
    "ggplot() + geom_livemap() + \\\n",
    "    geom_point(aes(size=\"est_pop_2019\"), color=\"red\", show_legend=False, \\\n",
    "               data=data, map=centroids, map_join=\"city\", \\\n",
    "               tooltips=layer_tooltips().title(\"@city\")\n",
    "                                        .line(\"population|@est_pop_2019\"))"
   ]
  },
  {
   "cell_type": "code",
   "execution_count": null,
   "id": "a4c45843",
   "metadata": {},
   "outputs": [],
   "source": [
    "# geom_pie\n",
    "from lets_plot import *\n",
    "from lets_plot.geo_data import *\n",
    "LetsPlot.setup_html()\n",
    "data = {\"city\": [\"New York\", \"New York\", \"Philadelphia\", \"Philadelphia\"], \\\n",
    "        \"est_pop_2020\": [4_381_593, 3_997_959, 832_685, 748_846], \\\n",
    "        \"sex\": [\"female\", \"male\", \"female\", \"male\"]}\n",
    "centroids = geocode_cities(data[\"city\"]).get_centroids()\n",
    "ggplot() + geom_livemap() + \\\n",
    "    geom_pie(aes(slice=\"est_pop_2020\", fill=\"sex\", size=\"est_pop_2020\"), \\\n",
    "             stat='identity', show_legend=False, \\\n",
    "             data=data, map=centroids, map_join=\"city\")"
   ]
  },
  {
   "cell_type": "code",
   "execution_count": null,
   "id": "315231f7",
   "metadata": {},
   "outputs": [],
   "source": [
    "# geom_path\n",
    "from lets_plot import *\n",
    "from lets_plot.geo_data import *\n",
    "LetsPlot.setup_html()\n",
    "pushkin_1829_journey = {\n",
    "    \"city\": [\"Moscow\", \"Oryol\", \"Novocherkassk\", \"Stavropol\", \\\n",
    "             \"Georgiyevsk\", \"Vladikavkaz\", \"Tiflis\", \"Kars\", \"Erzurum\"],\n",
    "    \"latitude\": [55.751244, 52.929697, 47.414101, 45.0428, \\\n",
    "                 44.1497667, 43.03667, 41.716667, 40.60199, 39.90861],\n",
    "    \"longitude\": [37.618423, 36.098689, 40.110401, 41.9734, \\\n",
    "                  43.4577689, 44.66778, 44.783333, 43.09495, 41.27694],\n",
    "}\n",
    "ggplot(pushkin_1829_journey, aes(\"longitude\", \"latitude\")) + \\\n",
    "    geom_livemap() + \\\n",
    "    geom_point(tooltips=layer_tooltips().line(\"@city\")) + \\\n",
    "    geom_path()"
   ]
  },
  {
   "cell_type": "code",
   "execution_count": null,
   "id": "22211338",
   "metadata": {},
   "outputs": [],
   "source": [
    "# geom_tiles\n",
    "import numpy as np\n",
    "import geopandas as gpd\n",
    "from lets_plot import *\n",
    "from lets_plot.geo_data import *\n",
    "LetsPlot.setup_html()\n",
    "nlon, nlat = 30, 20\n",
    "geometry = geocode_countries(\"Kazakhstan\").get_boundaries().iloc[0].geometry\n",
    "bbox = geometry.bounds\n",
    "lonspace = np.linspace(bbox[0], bbox[2], nlon)\n",
    "latspace = np.linspace(bbox[1], bbox[3], nlat)\n",
    "longrid, latgrid = np.meshgrid(lonspace, latspace)\n",
    "lon, lat = longrid.flatten(), latgrid.flatten()\n",
    "within = gpd.points_from_xy(lon, lat).within(geometry)\n",
    "ggplot() + geom_livemap() + \\\n",
    "    geom_tile(aes(x=lon, y=lat, fill=within), alpha=.5, show_legend=False)"
   ]
  },
  {
   "cell_type": "code",
   "execution_count": null,
   "id": "c9a414bc",
   "metadata": {},
   "outputs": [],
   "source": [
    "# geom_polygon\n",
    "from lets_plot import *\n",
    "from lets_plot.geo_data import *\n",
    "LetsPlot.setup_html()\n",
    "data = {\"city\": [\"New York\", \"Philadelphia\"], \\\n",
    "        \"est_pop_2019\": [8_336_817, 1_584_064]}\n",
    "boundaries = geocode_cities(data[\"city\"]).inc_res().get_boundaries()\n",
    "ggplot() + geom_livemap() + \\\n",
    "    geom_polygon(aes(color=\"city\", fill=\"city\"), data=data, map=boundaries, \\\n",
    "                 map_join=\"city\", alpha=.2, \\\n",
    "                 tooltips=layer_tooltips().title('@city')\\\n",
    "                                          .line('population|@est_pop_2019'))"
   ]
  },
  {
   "cell_type": "code",
   "execution_count": null,
   "id": "e108911b",
   "metadata": {},
   "outputs": [],
   "source": [
    "# geom_map\n",
    "from lets_plot import *\n",
    "from lets_plot.geo_data import *\n",
    "LetsPlot.setup_html()\n",
    "data = {\"city\": [\"New York\", \"Philadelphia\"], \\\n",
    "        \"est_pop_2019\": [8_336_817, 1_584_064]}\n",
    "boundaries = geocode_cities(data[\"city\"]).inc_res().get_boundaries()\n",
    "ggplot() + geom_livemap() + \\\n",
    "    geom_map(aes(color=\"city\", fill=\"city\"), data=data, map=boundaries, \\\n",
    "             map_join=\"city\", alpha=.2, \\\n",
    "             tooltips=layer_tooltips().title('@city')\\\n",
    "                                      .line('population|@est_pop_2019'))"
   ]
  },
  {
   "cell_type": "code",
   "execution_count": null,
   "id": "1e0fd5df",
   "metadata": {},
   "outputs": [],
   "source": [
    "# geom_hline\n",
    "from lets_plot import *\n",
    "LetsPlot.setup_html()\n",
    "ggplot() + geom_livemap(location=[0, 0], zoom=1) + \\\n",
    "    geom_hline(yintercept=0, size=1, color=\"red\") + \\\n",
    "    ggtitle(\"Equator\")"
   ]
  },
  {
   "cell_type": "code",
   "execution_count": null,
   "id": "763c26a0",
   "metadata": {},
   "outputs": [],
   "source": [
    "# geom_vline\n",
    "from lets_plot import *\n",
    "LetsPlot.setup_html()\n",
    "ggplot() + geom_livemap(location=[0, 0], zoom=1) + \\\n",
    "    geom_vline(xintercept=0, size=1, color=\"red\") + \\\n",
    "    ggtitle(\"Prime meridian\")"
   ]
  },
  {
   "cell_type": "code",
   "execution_count": null,
   "id": "47e2c7e1",
   "metadata": {},
   "outputs": [],
   "source": [
    "# geom_rect\n",
    "from lets_plot import *\n",
    "from lets_plot.geo_data import *\n",
    "LetsPlot.setup_html()\n",
    "geometry = geocode_countries(\"Kazakhstan\").get_boundaries().iloc[0].geometry\n",
    "bbox = geometry.bounds\n",
    "ggplot() + geom_livemap() + \\\n",
    "    geom_rect(xmin=bbox[0], ymin=bbox[1], xmax=bbox[2], ymax=bbox[3], alpha=.5)"
   ]
  },
  {
   "cell_type": "code",
   "execution_count": null,
   "id": "fc77a0da",
   "metadata": {},
   "outputs": [],
   "source": [
    "# geom_segment\n",
    "from lets_plot import *\n",
    "LetsPlot.setup_html()\n",
    "pushkin_1829_journey = {\n",
    "    \"dep_city\": [\"Moscow\", \"Oryol\", \"Novocherkassk\", \"Stavropol\", \\\n",
    "                 \"Georgiyevsk\", \"Vladikavkaz\", \"Tiflis\", \"Kars\"],\n",
    "    \"arr_city\": [\"Oryol\", \"Novocherkassk\", \"Stavropol\", \"Georgiyevsk\", \\\n",
    "                 \"Vladikavkaz\", \"Tiflis\", \"Kars\", \"Erzurum\"],\n",
    "    \"dep_lon\": [37.618423, 36.098689, 40.110401, 41.9734, \\\n",
    "                43.4577689, 44.66778, 44.783333, 43.09495],\n",
    "    \"arr_lon\": [36.098689, 40.110401, 41.9734, 43.4577689, \\\n",
    "                44.66778, 44.783333, 43.09495, 41.27694],\n",
    "    \"dep_lat\": [55.751244, 52.929697, 47.414101, 45.0428, \\\n",
    "                44.1497667, 43.03667, 41.716667, 40.60199],\n",
    "    \"arr_lat\": [52.929697, 47.414101, 45.0428, 44.1497667, \\\n",
    "                43.03667, 41.716667, 40.60199, 39.90861],\n",
    "}\n",
    "ggplot(pushkin_1829_journey) + geom_livemap(const_size_zoomin=0) + \\\n",
    "    geom_segment(aes(x=\"dep_lon\", y=\"dep_lat\", xend=\"arr_lon\", yend=\"arr_lat\"), \\\n",
    "                 arrow=arrow(), tooltips=layer_tooltips().line(\"from @dep_city to @arr_city\"))"
   ]
  },
  {
   "cell_type": "code",
   "execution_count": null,
   "id": "f11ce030",
   "metadata": {},
   "outputs": [],
   "source": [
    "# geom_text\n",
    "from lets_plot import *\n",
    "from lets_plot.geo_data import *\n",
    "LetsPlot.setup_html()\n",
    "\n",
    "cities = [\"New York\", \"Los Angeles\"]\n",
    "states = [\"NY\", \"CA\"]\n",
    "titles = ['{0} ({1})'.format(city, state) \\\n",
    "          for city, state in zip(cities, states)]\n",
    "data = {\"city\": cities, \"state\": states, \"title\": titles}\n",
    "centroids = geocode_cities(data[\"city\"]).get_centroids()\n",
    "ggplot(data) + geom_livemap(tiles=maptiles_lets_plot(theme='dark')) + \\\n",
    "    geom_text(aes(label=\"title\"), map=centroids, map_join=\"city\", \\\n",
    "              size=7, color=\"yellow\", fontface='bold')"
   ]
  },
  {
   "cell_type": "code",
   "execution_count": null,
   "id": "70b88a64",
   "metadata": {},
   "outputs": [],
   "source": [
    "# geom_label\n",
    "from lets_plot import *\n",
    "from lets_plot.geo_data import *\n",
    "LetsPlot.setup_html()\n",
    "cities = [\"New York\", \"Los Angeles\"]\n",
    "states = [\"NY\", \"CA\"]\n",
    "titles = ['{0} ({1})'.format(city, state) \\\n",
    "          for city, state in zip(cities, states)]\n",
    "data = {\"city\": cities, \"state\": states, \"title\": titles}\n",
    "centroids = geocode_cities(data[\"city\"]).get_centroids()\n",
    "ggplot(data) + geom_livemap() + \\\n",
    "    geom_point(map=centroids, map_join=\"city\") + \\\n",
    "    geom_label(aes(label=\"title\"), map=centroids, \\\n",
    "               map_join=\"city\", size=7, hjust=0, vjust=0)"
   ]
  },
  {
   "cell_type": "code",
   "execution_count": null,
   "id": "f124fa72",
   "metadata": {},
   "outputs": [],
   "source": [
    "# geom_contour\n",
    "import numpy as np\n",
    "from lets_plot import *\n",
    "LetsPlot.setup_html()\n",
    "n = 1000\n",
    "np.random.seed(42)\n",
    "data = {'x': 10 * np.random.normal(size=n) - 100, \\\n",
    "        'y': 3 * np.random.normal(size=n) + 40}\n",
    "ggplot(data, aes('x', 'y')) + geom_livemap() + \\\n",
    "    geom_contour(stat='density2d')"
   ]
  },
  {
   "cell_type": "code",
   "execution_count": null,
   "id": "ad3f1294",
   "metadata": {},
   "outputs": [],
   "source": [
    "# geom_contourf\n",
    "import numpy as np\n",
    "from lets_plot import *\n",
    "LetsPlot.setup_html()\n",
    "n = 1000\n",
    "np.random.seed(42)\n",
    "data = {'x': 10 * np.random.normal(size=n) - 100, \\\n",
    "        'y': 3 * np.random.normal(size=n) + 40}\n",
    "ggplot(data, aes('x', 'y')) + geom_livemap() + \\\n",
    "    geom_contourf(aes(fill='..group..'), stat='density2df', \\\n",
    "                  alpha=.5, show_legend=False)"
   ]
  },
  {
   "cell_type": "code",
   "execution_count": null,
   "id": "b1379ce5",
   "metadata": {},
   "outputs": [],
   "source": [
    "# geom_bin2d\n",
    "import numpy as np\n",
    "from lets_plot import *\n",
    "LetsPlot.setup_html()\n",
    "np.random.seed(42)\n",
    "x, y = np.random.multivariate_normal(mean=[-98, 39], cov=[[100, 0], [0, 10]], size=100).T\n",
    "ggplot() + geom_livemap() + \\\n",
    "    geom_bin2d(aes(x, y, fill='..density..'), \\\n",
    "               bins=[10, 5], alpha=.5, show_legend=False)"
   ]
  },
  {
   "cell_type": "code",
   "execution_count": null,
   "id": "44397c3f",
   "metadata": {},
   "outputs": [],
   "source": [
    "# geom_density2d\n",
    "import numpy as np\n",
    "from lets_plot import *\n",
    "LetsPlot.setup_html()\n",
    "n = 1000\n",
    "np.random.seed(42)\n",
    "data = {'x': 10 * np.random.normal(size=n) - 100, \\\n",
    "        'y': 3 * np.random.normal(size=n) + 40}\n",
    "ggplot(data, aes('x', 'y')) + geom_livemap() + \\\n",
    "    geom_density2d()"
   ]
  },
  {
   "cell_type": "code",
   "execution_count": null,
   "id": "1a716dfe",
   "metadata": {},
   "outputs": [],
   "source": [
    "# geom_density2df\n",
    "import numpy as np\n",
    "from lets_plot import *\n",
    "LetsPlot.setup_html()\n",
    "n = 1000\n",
    "np.random.seed(42)\n",
    "data = {'x': 10 * np.random.normal(size=n) - 100, \\\n",
    "        'y': 3 * np.random.normal(size=n) + 40}\n",
    "ggplot(data, aes('x', 'y')) + geom_livemap() + \\\n",
    "    geom_density2df(aes(fill='..group..'), \\\n",
    "                    alpha=.5, show_legend=False)"
   ]
  }
 ],
 "metadata": {
  "kernelspec": {
   "display_name": "Python 3 (ipykernel)",
   "language": "python",
   "name": "python3"
  },
  "language_info": {
   "codemirror_mode": {
    "name": "ipython",
    "version": 3
   },
   "file_extension": ".py",
   "mimetype": "text/x-python",
   "name": "python",
   "nbconvert_exporter": "python",
   "pygments_lexer": "ipython3",
   "version": "3.8.15"
  }
 },
 "nbformat": 4,
 "nbformat_minor": 5
}
